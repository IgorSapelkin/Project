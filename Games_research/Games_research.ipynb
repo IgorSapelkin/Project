{
 "cells": [
  {
   "cell_type": "code",
   "execution_count": 330,
   "metadata": {},
   "outputs": [],
   "source": [
    "import pandas as pd\n",
    "import matplotlib.pyplot as plt\n",
    "import seaborn as sns\n",
    "import numpy as np\n",
    "import math\n",
    "import scipy\n",
    "from scipy import stats as st\n",
    "#Импортируем все что может понадобится"
   ]
  },
  {
   "cell_type": "code",
   "execution_count": 331,
   "metadata": {},
   "outputs": [],
   "source": [
    "df = pd.read_csv('/datasets/games.csv')"
   ]
  },
  {
   "cell_type": "code",
   "execution_count": 332,
   "metadata": {},
   "outputs": [
    {
     "data": {
      "text/html": [
       "<div>\n",
       "<style scoped>\n",
       "    .dataframe tbody tr th:only-of-type {\n",
       "        vertical-align: middle;\n",
       "    }\n",
       "\n",
       "    .dataframe tbody tr th {\n",
       "        vertical-align: top;\n",
       "    }\n",
       "\n",
       "    .dataframe thead th {\n",
       "        text-align: right;\n",
       "    }\n",
       "</style>\n",
       "<table border=\"1\" class=\"dataframe\">\n",
       "  <thead>\n",
       "    <tr style=\"text-align: right;\">\n",
       "      <th></th>\n",
       "      <th>Name</th>\n",
       "      <th>Platform</th>\n",
       "      <th>Year_of_Release</th>\n",
       "      <th>Genre</th>\n",
       "      <th>NA_sales</th>\n",
       "      <th>EU_sales</th>\n",
       "      <th>JP_sales</th>\n",
       "      <th>Other_sales</th>\n",
       "      <th>Critic_Score</th>\n",
       "      <th>User_Score</th>\n",
       "      <th>Rating</th>\n",
       "    </tr>\n",
       "  </thead>\n",
       "  <tbody>\n",
       "    <tr>\n",
       "      <th>0</th>\n",
       "      <td>Wii Sports</td>\n",
       "      <td>Wii</td>\n",
       "      <td>2006.0</td>\n",
       "      <td>Sports</td>\n",
       "      <td>41.36</td>\n",
       "      <td>28.96</td>\n",
       "      <td>3.77</td>\n",
       "      <td>8.45</td>\n",
       "      <td>76.0</td>\n",
       "      <td>8</td>\n",
       "      <td>E</td>\n",
       "    </tr>\n",
       "    <tr>\n",
       "      <th>1</th>\n",
       "      <td>Super Mario Bros.</td>\n",
       "      <td>NES</td>\n",
       "      <td>1985.0</td>\n",
       "      <td>Platform</td>\n",
       "      <td>29.08</td>\n",
       "      <td>3.58</td>\n",
       "      <td>6.81</td>\n",
       "      <td>0.77</td>\n",
       "      <td>NaN</td>\n",
       "      <td>NaN</td>\n",
       "      <td>NaN</td>\n",
       "    </tr>\n",
       "    <tr>\n",
       "      <th>2</th>\n",
       "      <td>Mario Kart Wii</td>\n",
       "      <td>Wii</td>\n",
       "      <td>2008.0</td>\n",
       "      <td>Racing</td>\n",
       "      <td>15.68</td>\n",
       "      <td>12.76</td>\n",
       "      <td>3.79</td>\n",
       "      <td>3.29</td>\n",
       "      <td>82.0</td>\n",
       "      <td>8.3</td>\n",
       "      <td>E</td>\n",
       "    </tr>\n",
       "    <tr>\n",
       "      <th>3</th>\n",
       "      <td>Wii Sports Resort</td>\n",
       "      <td>Wii</td>\n",
       "      <td>2009.0</td>\n",
       "      <td>Sports</td>\n",
       "      <td>15.61</td>\n",
       "      <td>10.93</td>\n",
       "      <td>3.28</td>\n",
       "      <td>2.95</td>\n",
       "      <td>80.0</td>\n",
       "      <td>8</td>\n",
       "      <td>E</td>\n",
       "    </tr>\n",
       "    <tr>\n",
       "      <th>4</th>\n",
       "      <td>Pokemon Red/Pokemon Blue</td>\n",
       "      <td>GB</td>\n",
       "      <td>1996.0</td>\n",
       "      <td>Role-Playing</td>\n",
       "      <td>11.27</td>\n",
       "      <td>8.89</td>\n",
       "      <td>10.22</td>\n",
       "      <td>1.00</td>\n",
       "      <td>NaN</td>\n",
       "      <td>NaN</td>\n",
       "      <td>NaN</td>\n",
       "    </tr>\n",
       "    <tr>\n",
       "      <th>5</th>\n",
       "      <td>Tetris</td>\n",
       "      <td>GB</td>\n",
       "      <td>1989.0</td>\n",
       "      <td>Puzzle</td>\n",
       "      <td>23.20</td>\n",
       "      <td>2.26</td>\n",
       "      <td>4.22</td>\n",
       "      <td>0.58</td>\n",
       "      <td>NaN</td>\n",
       "      <td>NaN</td>\n",
       "      <td>NaN</td>\n",
       "    </tr>\n",
       "    <tr>\n",
       "      <th>6</th>\n",
       "      <td>New Super Mario Bros.</td>\n",
       "      <td>DS</td>\n",
       "      <td>2006.0</td>\n",
       "      <td>Platform</td>\n",
       "      <td>11.28</td>\n",
       "      <td>9.14</td>\n",
       "      <td>6.50</td>\n",
       "      <td>2.88</td>\n",
       "      <td>89.0</td>\n",
       "      <td>8.5</td>\n",
       "      <td>E</td>\n",
       "    </tr>\n",
       "    <tr>\n",
       "      <th>7</th>\n",
       "      <td>Wii Play</td>\n",
       "      <td>Wii</td>\n",
       "      <td>2006.0</td>\n",
       "      <td>Misc</td>\n",
       "      <td>13.96</td>\n",
       "      <td>9.18</td>\n",
       "      <td>2.93</td>\n",
       "      <td>2.84</td>\n",
       "      <td>58.0</td>\n",
       "      <td>6.6</td>\n",
       "      <td>E</td>\n",
       "    </tr>\n",
       "    <tr>\n",
       "      <th>8</th>\n",
       "      <td>New Super Mario Bros. Wii</td>\n",
       "      <td>Wii</td>\n",
       "      <td>2009.0</td>\n",
       "      <td>Platform</td>\n",
       "      <td>14.44</td>\n",
       "      <td>6.94</td>\n",
       "      <td>4.70</td>\n",
       "      <td>2.24</td>\n",
       "      <td>87.0</td>\n",
       "      <td>8.4</td>\n",
       "      <td>E</td>\n",
       "    </tr>\n",
       "    <tr>\n",
       "      <th>9</th>\n",
       "      <td>Duck Hunt</td>\n",
       "      <td>NES</td>\n",
       "      <td>1984.0</td>\n",
       "      <td>Shooter</td>\n",
       "      <td>26.93</td>\n",
       "      <td>0.63</td>\n",
       "      <td>0.28</td>\n",
       "      <td>0.47</td>\n",
       "      <td>NaN</td>\n",
       "      <td>NaN</td>\n",
       "      <td>NaN</td>\n",
       "    </tr>\n",
       "    <tr>\n",
       "      <th>10</th>\n",
       "      <td>Nintendogs</td>\n",
       "      <td>DS</td>\n",
       "      <td>2005.0</td>\n",
       "      <td>Simulation</td>\n",
       "      <td>9.05</td>\n",
       "      <td>10.95</td>\n",
       "      <td>1.93</td>\n",
       "      <td>2.74</td>\n",
       "      <td>NaN</td>\n",
       "      <td>NaN</td>\n",
       "      <td>NaN</td>\n",
       "    </tr>\n",
       "    <tr>\n",
       "      <th>11</th>\n",
       "      <td>Mario Kart DS</td>\n",
       "      <td>DS</td>\n",
       "      <td>2005.0</td>\n",
       "      <td>Racing</td>\n",
       "      <td>9.71</td>\n",
       "      <td>7.47</td>\n",
       "      <td>4.13</td>\n",
       "      <td>1.90</td>\n",
       "      <td>91.0</td>\n",
       "      <td>8.6</td>\n",
       "      <td>E</td>\n",
       "    </tr>\n",
       "    <tr>\n",
       "      <th>12</th>\n",
       "      <td>Pokemon Gold/Pokemon Silver</td>\n",
       "      <td>GB</td>\n",
       "      <td>1999.0</td>\n",
       "      <td>Role-Playing</td>\n",
       "      <td>9.00</td>\n",
       "      <td>6.18</td>\n",
       "      <td>7.20</td>\n",
       "      <td>0.71</td>\n",
       "      <td>NaN</td>\n",
       "      <td>NaN</td>\n",
       "      <td>NaN</td>\n",
       "    </tr>\n",
       "    <tr>\n",
       "      <th>13</th>\n",
       "      <td>Wii Fit</td>\n",
       "      <td>Wii</td>\n",
       "      <td>2007.0</td>\n",
       "      <td>Sports</td>\n",
       "      <td>8.92</td>\n",
       "      <td>8.03</td>\n",
       "      <td>3.60</td>\n",
       "      <td>2.15</td>\n",
       "      <td>80.0</td>\n",
       "      <td>7.7</td>\n",
       "      <td>E</td>\n",
       "    </tr>\n",
       "    <tr>\n",
       "      <th>14</th>\n",
       "      <td>Kinect Adventures!</td>\n",
       "      <td>X360</td>\n",
       "      <td>2010.0</td>\n",
       "      <td>Misc</td>\n",
       "      <td>15.00</td>\n",
       "      <td>4.89</td>\n",
       "      <td>0.24</td>\n",
       "      <td>1.69</td>\n",
       "      <td>61.0</td>\n",
       "      <td>6.3</td>\n",
       "      <td>E</td>\n",
       "    </tr>\n",
       "    <tr>\n",
       "      <th>15</th>\n",
       "      <td>Wii Fit Plus</td>\n",
       "      <td>Wii</td>\n",
       "      <td>2009.0</td>\n",
       "      <td>Sports</td>\n",
       "      <td>9.01</td>\n",
       "      <td>8.49</td>\n",
       "      <td>2.53</td>\n",
       "      <td>1.77</td>\n",
       "      <td>80.0</td>\n",
       "      <td>7.4</td>\n",
       "      <td>E</td>\n",
       "    </tr>\n",
       "    <tr>\n",
       "      <th>16</th>\n",
       "      <td>Grand Theft Auto V</td>\n",
       "      <td>PS3</td>\n",
       "      <td>2013.0</td>\n",
       "      <td>Action</td>\n",
       "      <td>7.02</td>\n",
       "      <td>9.09</td>\n",
       "      <td>0.98</td>\n",
       "      <td>3.96</td>\n",
       "      <td>97.0</td>\n",
       "      <td>8.2</td>\n",
       "      <td>M</td>\n",
       "    </tr>\n",
       "    <tr>\n",
       "      <th>17</th>\n",
       "      <td>Grand Theft Auto: San Andreas</td>\n",
       "      <td>PS2</td>\n",
       "      <td>2004.0</td>\n",
       "      <td>Action</td>\n",
       "      <td>9.43</td>\n",
       "      <td>0.40</td>\n",
       "      <td>0.41</td>\n",
       "      <td>10.57</td>\n",
       "      <td>95.0</td>\n",
       "      <td>9</td>\n",
       "      <td>M</td>\n",
       "    </tr>\n",
       "    <tr>\n",
       "      <th>18</th>\n",
       "      <td>Super Mario World</td>\n",
       "      <td>SNES</td>\n",
       "      <td>1990.0</td>\n",
       "      <td>Platform</td>\n",
       "      <td>12.78</td>\n",
       "      <td>3.75</td>\n",
       "      <td>3.54</td>\n",
       "      <td>0.55</td>\n",
       "      <td>NaN</td>\n",
       "      <td>NaN</td>\n",
       "      <td>NaN</td>\n",
       "    </tr>\n",
       "    <tr>\n",
       "      <th>19</th>\n",
       "      <td>Brain Age: Train Your Brain in Minutes a Day</td>\n",
       "      <td>DS</td>\n",
       "      <td>2005.0</td>\n",
       "      <td>Misc</td>\n",
       "      <td>4.74</td>\n",
       "      <td>9.20</td>\n",
       "      <td>4.16</td>\n",
       "      <td>2.04</td>\n",
       "      <td>77.0</td>\n",
       "      <td>7.9</td>\n",
       "      <td>E</td>\n",
       "    </tr>\n",
       "    <tr>\n",
       "      <th>20</th>\n",
       "      <td>Pokemon Diamond/Pokemon Pearl</td>\n",
       "      <td>DS</td>\n",
       "      <td>2006.0</td>\n",
       "      <td>Role-Playing</td>\n",
       "      <td>6.38</td>\n",
       "      <td>4.46</td>\n",
       "      <td>6.04</td>\n",
       "      <td>1.36</td>\n",
       "      <td>NaN</td>\n",
       "      <td>NaN</td>\n",
       "      <td>NaN</td>\n",
       "    </tr>\n",
       "    <tr>\n",
       "      <th>21</th>\n",
       "      <td>Super Mario Land</td>\n",
       "      <td>GB</td>\n",
       "      <td>1989.0</td>\n",
       "      <td>Platform</td>\n",
       "      <td>10.83</td>\n",
       "      <td>2.71</td>\n",
       "      <td>4.18</td>\n",
       "      <td>0.42</td>\n",
       "      <td>NaN</td>\n",
       "      <td>NaN</td>\n",
       "      <td>NaN</td>\n",
       "    </tr>\n",
       "    <tr>\n",
       "      <th>22</th>\n",
       "      <td>Super Mario Bros. 3</td>\n",
       "      <td>NES</td>\n",
       "      <td>1988.0</td>\n",
       "      <td>Platform</td>\n",
       "      <td>9.54</td>\n",
       "      <td>3.44</td>\n",
       "      <td>3.84</td>\n",
       "      <td>0.46</td>\n",
       "      <td>NaN</td>\n",
       "      <td>NaN</td>\n",
       "      <td>NaN</td>\n",
       "    </tr>\n",
       "    <tr>\n",
       "      <th>23</th>\n",
       "      <td>Grand Theft Auto V</td>\n",
       "      <td>X360</td>\n",
       "      <td>2013.0</td>\n",
       "      <td>Action</td>\n",
       "      <td>9.66</td>\n",
       "      <td>5.14</td>\n",
       "      <td>0.06</td>\n",
       "      <td>1.41</td>\n",
       "      <td>97.0</td>\n",
       "      <td>8.1</td>\n",
       "      <td>M</td>\n",
       "    </tr>\n",
       "    <tr>\n",
       "      <th>24</th>\n",
       "      <td>Grand Theft Auto: Vice City</td>\n",
       "      <td>PS2</td>\n",
       "      <td>2002.0</td>\n",
       "      <td>Action</td>\n",
       "      <td>8.41</td>\n",
       "      <td>5.49</td>\n",
       "      <td>0.47</td>\n",
       "      <td>1.78</td>\n",
       "      <td>95.0</td>\n",
       "      <td>8.7</td>\n",
       "      <td>M</td>\n",
       "    </tr>\n",
       "    <tr>\n",
       "      <th>25</th>\n",
       "      <td>Pokemon Ruby/Pokemon Sapphire</td>\n",
       "      <td>GBA</td>\n",
       "      <td>2002.0</td>\n",
       "      <td>Role-Playing</td>\n",
       "      <td>6.06</td>\n",
       "      <td>3.90</td>\n",
       "      <td>5.38</td>\n",
       "      <td>0.50</td>\n",
       "      <td>NaN</td>\n",
       "      <td>NaN</td>\n",
       "      <td>NaN</td>\n",
       "    </tr>\n",
       "    <tr>\n",
       "      <th>26</th>\n",
       "      <td>Brain Age 2: More Training in Minutes a Day</td>\n",
       "      <td>DS</td>\n",
       "      <td>2005.0</td>\n",
       "      <td>Puzzle</td>\n",
       "      <td>3.43</td>\n",
       "      <td>5.35</td>\n",
       "      <td>5.32</td>\n",
       "      <td>1.18</td>\n",
       "      <td>77.0</td>\n",
       "      <td>7.1</td>\n",
       "      <td>E</td>\n",
       "    </tr>\n",
       "    <tr>\n",
       "      <th>27</th>\n",
       "      <td>Pokemon Black/Pokemon White</td>\n",
       "      <td>DS</td>\n",
       "      <td>2010.0</td>\n",
       "      <td>Role-Playing</td>\n",
       "      <td>5.51</td>\n",
       "      <td>3.17</td>\n",
       "      <td>5.65</td>\n",
       "      <td>0.80</td>\n",
       "      <td>NaN</td>\n",
       "      <td>NaN</td>\n",
       "      <td>NaN</td>\n",
       "    </tr>\n",
       "    <tr>\n",
       "      <th>28</th>\n",
       "      <td>Gran Turismo 3: A-Spec</td>\n",
       "      <td>PS2</td>\n",
       "      <td>2001.0</td>\n",
       "      <td>Racing</td>\n",
       "      <td>6.85</td>\n",
       "      <td>5.09</td>\n",
       "      <td>1.87</td>\n",
       "      <td>1.16</td>\n",
       "      <td>95.0</td>\n",
       "      <td>8.4</td>\n",
       "      <td>E</td>\n",
       "    </tr>\n",
       "    <tr>\n",
       "      <th>29</th>\n",
       "      <td>Call of Duty: Modern Warfare 3</td>\n",
       "      <td>X360</td>\n",
       "      <td>2011.0</td>\n",
       "      <td>Shooter</td>\n",
       "      <td>9.04</td>\n",
       "      <td>4.24</td>\n",
       "      <td>0.13</td>\n",
       "      <td>1.32</td>\n",
       "      <td>88.0</td>\n",
       "      <td>3.4</td>\n",
       "      <td>M</td>\n",
       "    </tr>\n",
       "  </tbody>\n",
       "</table>\n",
       "</div>"
      ],
      "text/plain": [
       "                                            Name Platform  Year_of_Release  \\\n",
       "0                                     Wii Sports      Wii           2006.0   \n",
       "1                              Super Mario Bros.      NES           1985.0   \n",
       "2                                 Mario Kart Wii      Wii           2008.0   \n",
       "3                              Wii Sports Resort      Wii           2009.0   \n",
       "4                       Pokemon Red/Pokemon Blue       GB           1996.0   \n",
       "5                                         Tetris       GB           1989.0   \n",
       "6                          New Super Mario Bros.       DS           2006.0   \n",
       "7                                       Wii Play      Wii           2006.0   \n",
       "8                      New Super Mario Bros. Wii      Wii           2009.0   \n",
       "9                                      Duck Hunt      NES           1984.0   \n",
       "10                                    Nintendogs       DS           2005.0   \n",
       "11                                 Mario Kart DS       DS           2005.0   \n",
       "12                   Pokemon Gold/Pokemon Silver       GB           1999.0   \n",
       "13                                       Wii Fit      Wii           2007.0   \n",
       "14                            Kinect Adventures!     X360           2010.0   \n",
       "15                                  Wii Fit Plus      Wii           2009.0   \n",
       "16                            Grand Theft Auto V      PS3           2013.0   \n",
       "17                 Grand Theft Auto: San Andreas      PS2           2004.0   \n",
       "18                             Super Mario World     SNES           1990.0   \n",
       "19  Brain Age: Train Your Brain in Minutes a Day       DS           2005.0   \n",
       "20                 Pokemon Diamond/Pokemon Pearl       DS           2006.0   \n",
       "21                              Super Mario Land       GB           1989.0   \n",
       "22                           Super Mario Bros. 3      NES           1988.0   \n",
       "23                            Grand Theft Auto V     X360           2013.0   \n",
       "24                   Grand Theft Auto: Vice City      PS2           2002.0   \n",
       "25                 Pokemon Ruby/Pokemon Sapphire      GBA           2002.0   \n",
       "26   Brain Age 2: More Training in Minutes a Day       DS           2005.0   \n",
       "27                   Pokemon Black/Pokemon White       DS           2010.0   \n",
       "28                        Gran Turismo 3: A-Spec      PS2           2001.0   \n",
       "29                Call of Duty: Modern Warfare 3     X360           2011.0   \n",
       "\n",
       "           Genre  NA_sales  EU_sales  JP_sales  Other_sales  Critic_Score  \\\n",
       "0         Sports     41.36     28.96      3.77         8.45          76.0   \n",
       "1       Platform     29.08      3.58      6.81         0.77           NaN   \n",
       "2         Racing     15.68     12.76      3.79         3.29          82.0   \n",
       "3         Sports     15.61     10.93      3.28         2.95          80.0   \n",
       "4   Role-Playing     11.27      8.89     10.22         1.00           NaN   \n",
       "5         Puzzle     23.20      2.26      4.22         0.58           NaN   \n",
       "6       Platform     11.28      9.14      6.50         2.88          89.0   \n",
       "7           Misc     13.96      9.18      2.93         2.84          58.0   \n",
       "8       Platform     14.44      6.94      4.70         2.24          87.0   \n",
       "9        Shooter     26.93      0.63      0.28         0.47           NaN   \n",
       "10    Simulation      9.05     10.95      1.93         2.74           NaN   \n",
       "11        Racing      9.71      7.47      4.13         1.90          91.0   \n",
       "12  Role-Playing      9.00      6.18      7.20         0.71           NaN   \n",
       "13        Sports      8.92      8.03      3.60         2.15          80.0   \n",
       "14          Misc     15.00      4.89      0.24         1.69          61.0   \n",
       "15        Sports      9.01      8.49      2.53         1.77          80.0   \n",
       "16        Action      7.02      9.09      0.98         3.96          97.0   \n",
       "17        Action      9.43      0.40      0.41        10.57          95.0   \n",
       "18      Platform     12.78      3.75      3.54         0.55           NaN   \n",
       "19          Misc      4.74      9.20      4.16         2.04          77.0   \n",
       "20  Role-Playing      6.38      4.46      6.04         1.36           NaN   \n",
       "21      Platform     10.83      2.71      4.18         0.42           NaN   \n",
       "22      Platform      9.54      3.44      3.84         0.46           NaN   \n",
       "23        Action      9.66      5.14      0.06         1.41          97.0   \n",
       "24        Action      8.41      5.49      0.47         1.78          95.0   \n",
       "25  Role-Playing      6.06      3.90      5.38         0.50           NaN   \n",
       "26        Puzzle      3.43      5.35      5.32         1.18          77.0   \n",
       "27  Role-Playing      5.51      3.17      5.65         0.80           NaN   \n",
       "28        Racing      6.85      5.09      1.87         1.16          95.0   \n",
       "29       Shooter      9.04      4.24      0.13         1.32          88.0   \n",
       "\n",
       "   User_Score Rating  \n",
       "0           8      E  \n",
       "1         NaN    NaN  \n",
       "2         8.3      E  \n",
       "3           8      E  \n",
       "4         NaN    NaN  \n",
       "5         NaN    NaN  \n",
       "6         8.5      E  \n",
       "7         6.6      E  \n",
       "8         8.4      E  \n",
       "9         NaN    NaN  \n",
       "10        NaN    NaN  \n",
       "11        8.6      E  \n",
       "12        NaN    NaN  \n",
       "13        7.7      E  \n",
       "14        6.3      E  \n",
       "15        7.4      E  \n",
       "16        8.2      M  \n",
       "17          9      M  \n",
       "18        NaN    NaN  \n",
       "19        7.9      E  \n",
       "20        NaN    NaN  \n",
       "21        NaN    NaN  \n",
       "22        NaN    NaN  \n",
       "23        8.1      M  \n",
       "24        8.7      M  \n",
       "25        NaN    NaN  \n",
       "26        7.1      E  \n",
       "27        NaN    NaN  \n",
       "28        8.4      E  \n",
       "29        3.4      M  "
      ]
     },
     "execution_count": 332,
     "metadata": {},
     "output_type": "execute_result"
    }
   ],
   "source": [
    "df.head(30)"
   ]
  },
  {
   "cell_type": "code",
   "execution_count": 333,
   "metadata": {},
   "outputs": [
    {
     "name": "stdout",
     "output_type": "stream",
     "text": [
      "<class 'pandas.core.frame.DataFrame'>\n",
      "RangeIndex: 16715 entries, 0 to 16714\n",
      "Data columns (total 11 columns):\n",
      " #   Column           Non-Null Count  Dtype  \n",
      "---  ------           --------------  -----  \n",
      " 0   Name             16713 non-null  object \n",
      " 1   Platform         16715 non-null  object \n",
      " 2   Year_of_Release  16446 non-null  float64\n",
      " 3   Genre            16713 non-null  object \n",
      " 4   NA_sales         16715 non-null  float64\n",
      " 5   EU_sales         16715 non-null  float64\n",
      " 6   JP_sales         16715 non-null  float64\n",
      " 7   Other_sales      16715 non-null  float64\n",
      " 8   Critic_Score     8137 non-null   float64\n",
      " 9   User_Score       10014 non-null  object \n",
      " 10  Rating           9949 non-null   object \n",
      "dtypes: float64(6), object(5)\n",
      "memory usage: 1.4+ MB\n"
     ]
    }
   ],
   "source": [
    "df.info()"
   ]
  },
  {
   "cell_type": "code",
   "execution_count": 334,
   "metadata": {},
   "outputs": [
    {
     "data": {
      "text/plain": [
       "Index(['name', 'platform', 'year_of_release', 'genre', 'na_sales', 'eu_sales',\n",
       "       'jp_sales', 'other_sales', 'critic_score', 'user_score', 'rating'],\n",
       "      dtype='object')"
      ]
     },
     "execution_count": 334,
     "metadata": {},
     "output_type": "execute_result"
    }
   ],
   "source": [
    "df.columns = df.columns.str.lower()\n",
    "df.columns"
   ]
  },
  {
   "cell_type": "code",
   "execution_count": 335,
   "metadata": {},
   "outputs": [
    {
     "data": {
      "text/plain": [
       "array([[<AxesSubplot:title={'center':'year_of_release'}>,\n",
       "        <AxesSubplot:title={'center':'na_sales'}>],\n",
       "       [<AxesSubplot:title={'center':'eu_sales'}>,\n",
       "        <AxesSubplot:title={'center':'jp_sales'}>],\n",
       "       [<AxesSubplot:title={'center':'other_sales'}>,\n",
       "        <AxesSubplot:title={'center':'critic_score'}>]], dtype=object)"
      ]
     },
     "execution_count": 335,
     "metadata": {},
     "output_type": "execute_result"
    },
    {
     "data": {
      "image/png": "[encoded data removed]",
      "text/plain": [
       "<Figure size 576x576 with 6 Axes>"
      ]
     },
     "metadata": {
      "needs_background": "light"
     },
     "output_type": "display_data"
    }
   ],
   "source": [
    "df.hist(figsize=(8, 8), color='green')"
   ]
  },
  {
   "cell_type": "code",
   "execution_count": 336,
   "metadata": {},
   "outputs": [
    {
     "data": {
      "text/plain": [
       "name                  2\n",
       "platform              0\n",
       "year_of_release     269\n",
       "genre                 2\n",
       "na_sales              0\n",
       "eu_sales              0\n",
       "jp_sales              0\n",
       "other_sales           0\n",
       "critic_score       8578\n",
       "user_score         6701\n",
       "rating             6766\n",
       "dtype: int64"
      ]
     },
     "execution_count": 336,
     "metadata": {},
     "output_type": "execute_result"
    }
   ],
   "source": [
    "df.isna().sum()"
   ]
  },
  {
   "cell_type": "markdown",
   "metadata": {},
   "source": [
    "Начнем по порядку"
   ]
  },
  {
   "cell_type": "code",
   "execution_count": 337,
   "metadata": {
    "scrolled": true
   },
   "outputs": [],
   "source": [
    "df = df.dropna(subset=['name']).reset_index(drop=True)\n",
    "df = df.dropna(subset=['genre']).reset_index(drop=True)\n"
   ]
  },
  {
   "cell_type": "code",
   "execution_count": 338,
   "metadata": {},
   "outputs": [
    {
     "data": {
      "text/plain": [
       "0                           Wii Sports\n",
       "1                    Super Mario Bros.\n",
       "2                       Mario Kart Wii\n",
       "3                    Wii Sports Resort\n",
       "4             Pokemon Red/Pokemon Blue\n",
       "                     ...              \n",
       "16708    Samurai Warriors: Sanada Maru\n",
       "16709                 LMA Manager 2007\n",
       "16710          Haitaka no Psychedelica\n",
       "16711                 Spirits & Spells\n",
       "16712              Winning Post 8 2016\n",
       "Name: name, Length: 16713, dtype: object"
      ]
     },
     "execution_count": 338,
     "metadata": {},
     "output_type": "execute_result"
    }
   ],
   "source": [
    "df['name']"
   ]
  },
  {
   "cell_type": "markdown",
   "metadata": {},
   "source": [
    "Много слов в верхнем регистре, уберем в данном столбце и других"
   ]
  },
  {
   "cell_type": "code",
   "execution_count": 339,
   "metadata": {},
   "outputs": [
    {
     "data": {
      "text/plain": [
       "0              sports\n",
       "1            platform\n",
       "2              racing\n",
       "3              sports\n",
       "4        role-playing\n",
       "             ...     \n",
       "16708          action\n",
       "16709          sports\n",
       "16710       adventure\n",
       "16711        platform\n",
       "16712      simulation\n",
       "Name: genre, Length: 16713, dtype: object"
      ]
     },
     "execution_count": 339,
     "metadata": {},
     "output_type": "execute_result"
    }
   ],
   "source": [
    "df['name'].str.lower()\n",
    "df['platform'].str.lower()\n",
    "df['genre'].str.lower()"
   ]
  },
  {
   "cell_type": "code",
   "execution_count": 340,
   "metadata": {},
   "outputs": [
    {
     "data": {
      "text/plain": [
       "0.016095255190570215"
      ]
     },
     "execution_count": 340,
     "metadata": {},
     "output_type": "execute_result"
    }
   ],
   "source": [
    "\n",
    "#for i in df['name']:\n",
    "#    df['name'] == i\n",
    "#    df['year_of_release'].fillna(df['year_of_release'].median())\n",
    "     \n",
    "df['year_of_release'].isna().mean()"
   ]
  },
  {
   "cell_type": "markdown",
   "metadata": {},
   "source": [
    "Меньше двух процентов пропусков, можно удалить"
   ]
  },
  {
   "cell_type": "code",
   "execution_count": 341,
   "metadata": {},
   "outputs": [],
   "source": [
    "df = df.dropna(subset=['year_of_release']).reset_index(drop=True)"
   ]
  },
  {
   "cell_type": "code",
   "execution_count": 342,
   "metadata": {},
   "outputs": [],
   "source": [
    "df['year_of_release'] = df['year_of_release'].astype('int')"
   ]
  },
  {
   "cell_type": "code",
   "execution_count": 343,
   "metadata": {},
   "outputs": [
    {
     "data": {
      "text/plain": [
       "0.5145341765993675"
      ]
     },
     "execution_count": 343,
     "metadata": {},
     "output_type": "execute_result"
    }
   ],
   "source": [
    "df['critic_score'].isna().mean()"
   ]
  },
  {
   "cell_type": "code",
   "execution_count": 344,
   "metadata": {},
   "outputs": [],
   "source": [
    "df['critic_score'] = df['critic_score']/10 #Пусть соответствует df['user_score']"
   ]
  },
  {
   "cell_type": "code",
   "execution_count": 345,
   "metadata": {},
   "outputs": [
    {
     "data": {
      "text/plain": [
       "0.4016662612503041"
      ]
     },
     "execution_count": 345,
     "metadata": {},
     "output_type": "execute_result"
    }
   ],
   "source": [
    "df['user_score'].isna().mean()"
   ]
  },
  {
   "cell_type": "code",
   "execution_count": 346,
   "metadata": {},
   "outputs": [
    {
     "data": {
      "text/plain": [
       "0.40598394551204087"
      ]
     },
     "execution_count": 346,
     "metadata": {},
     "output_type": "execute_result"
    }
   ],
   "source": [
    "df['rating'].isna().mean()"
   ]
  },
  {
   "cell_type": "markdown",
   "metadata": {},
   "source": [
    "В столбцах user_score, rating, critic_score, пропусков от 40 до 50 процентов. К сожалению заменить их нечем придется оставлять."
   ]
  },
  {
   "cell_type": "code",
   "execution_count": 347,
   "metadata": {},
   "outputs": [
    {
     "data": {
      "text/plain": [
       "0        82.54\n",
       "1        40.24\n",
       "2        35.52\n",
       "3        32.77\n",
       "4        31.38\n",
       "         ...  \n",
       "16439     0.01\n",
       "16440     0.01\n",
       "16441     0.01\n",
       "16442     0.01\n",
       "16443     0.01\n",
       "Name: total_sales, Length: 16444, dtype: float64"
      ]
     },
     "execution_count": 347,
     "metadata": {},
     "output_type": "execute_result"
    }
   ],
   "source": [
    "df['total_sales'] = df[['na_sales', 'eu_sales', 'jp_sales', 'other_sales']].sum(axis=1)\n",
    "df['total_sales']"
   ]
  },
  {
   "cell_type": "markdown",
   "metadata": {},
   "source": [
    "Судя по всему tbd это to be determined с англ. \"предстоит определить\", то есть фактически это тот же Nan, для простоты заменим tbd на Nan"
   ]
  },
  {
   "cell_type": "code",
   "execution_count": 348,
   "metadata": {},
   "outputs": [],
   "source": [
    "\n",
    "df.loc[df['user_score'] == 'tbd' , 'user_score'] = np.nan\n"
   ]
  },
  {
   "cell_type": "code",
   "execution_count": 349,
   "metadata": {},
   "outputs": [],
   "source": [
    "df['user_score']=df['user_score'].astype('float')"
   ]
  },
  {
   "cell_type": "code",
   "execution_count": 350,
   "metadata": {},
   "outputs": [
    {
     "data": {
      "text/plain": [
       "0"
      ]
     },
     "execution_count": 350,
     "metadata": {},
     "output_type": "execute_result"
    }
   ],
   "source": [
    "df.duplicated().sum()"
   ]
  },
  {
   "cell_type": "markdown",
   "metadata": {},
   "source": [
    "В ходе предобработки данных были удалены пропуски, где это возможно, в некоторых столбцах был снижен регистр слов, также был добавлен новый столбец total_sales. Дубликатов в данных выявлено не было"
   ]
  },
  {
   "cell_type": "code",
   "execution_count": 351,
   "metadata": {},
   "outputs": [
    {
     "data": {
      "text/html": [
       "<div>\n",
       "<style scoped>\n",
       "    .dataframe tbody tr th:only-of-type {\n",
       "        vertical-align: middle;\n",
       "    }\n",
       "\n",
       "    .dataframe tbody tr th {\n",
       "        vertical-align: top;\n",
       "    }\n",
       "\n",
       "    .dataframe thead th {\n",
       "        text-align: right;\n",
       "    }\n",
       "</style>\n",
       "<table border=\"1\" class=\"dataframe\">\n",
       "  <thead>\n",
       "    <tr style=\"text-align: right;\">\n",
       "      <th></th>\n",
       "      <th>total_sales</th>\n",
       "    </tr>\n",
       "    <tr>\n",
       "      <th>year_of_release</th>\n",
       "      <th></th>\n",
       "    </tr>\n",
       "  </thead>\n",
       "  <tbody>\n",
       "    <tr>\n",
       "      <th>1980</th>\n",
       "      <td>11.38</td>\n",
       "    </tr>\n",
       "    <tr>\n",
       "      <th>1981</th>\n",
       "      <td>35.68</td>\n",
       "    </tr>\n",
       "    <tr>\n",
       "      <th>1982</th>\n",
       "      <td>28.88</td>\n",
       "    </tr>\n",
       "    <tr>\n",
       "      <th>1983</th>\n",
       "      <td>16.80</td>\n",
       "    </tr>\n",
       "    <tr>\n",
       "      <th>1984</th>\n",
       "      <td>50.35</td>\n",
       "    </tr>\n",
       "    <tr>\n",
       "      <th>1985</th>\n",
       "      <td>53.95</td>\n",
       "    </tr>\n",
       "    <tr>\n",
       "      <th>1986</th>\n",
       "      <td>37.08</td>\n",
       "    </tr>\n",
       "    <tr>\n",
       "      <th>1987</th>\n",
       "      <td>21.70</td>\n",
       "    </tr>\n",
       "    <tr>\n",
       "      <th>1988</th>\n",
       "      <td>47.21</td>\n",
       "    </tr>\n",
       "    <tr>\n",
       "      <th>1989</th>\n",
       "      <td>73.45</td>\n",
       "    </tr>\n",
       "    <tr>\n",
       "      <th>1990</th>\n",
       "      <td>49.37</td>\n",
       "    </tr>\n",
       "    <tr>\n",
       "      <th>1991</th>\n",
       "      <td>32.23</td>\n",
       "    </tr>\n",
       "    <tr>\n",
       "      <th>1992</th>\n",
       "      <td>76.16</td>\n",
       "    </tr>\n",
       "    <tr>\n",
       "      <th>1993</th>\n",
       "      <td>45.99</td>\n",
       "    </tr>\n",
       "    <tr>\n",
       "      <th>1994</th>\n",
       "      <td>79.23</td>\n",
       "    </tr>\n",
       "    <tr>\n",
       "      <th>1995</th>\n",
       "      <td>88.12</td>\n",
       "    </tr>\n",
       "    <tr>\n",
       "      <th>1996</th>\n",
       "      <td>199.15</td>\n",
       "    </tr>\n",
       "    <tr>\n",
       "      <th>1997</th>\n",
       "      <td>201.07</td>\n",
       "    </tr>\n",
       "    <tr>\n",
       "      <th>1998</th>\n",
       "      <td>256.31</td>\n",
       "    </tr>\n",
       "    <tr>\n",
       "      <th>1999</th>\n",
       "      <td>251.11</td>\n",
       "    </tr>\n",
       "    <tr>\n",
       "      <th>2000</th>\n",
       "      <td>201.66</td>\n",
       "    </tr>\n",
       "    <tr>\n",
       "      <th>2001</th>\n",
       "      <td>331.46</td>\n",
       "    </tr>\n",
       "    <tr>\n",
       "      <th>2002</th>\n",
       "      <td>394.97</td>\n",
       "    </tr>\n",
       "    <tr>\n",
       "      <th>2003</th>\n",
       "      <td>357.54</td>\n",
       "    </tr>\n",
       "    <tr>\n",
       "      <th>2004</th>\n",
       "      <td>418.68</td>\n",
       "    </tr>\n",
       "    <tr>\n",
       "      <th>2005</th>\n",
       "      <td>457.82</td>\n",
       "    </tr>\n",
       "    <tr>\n",
       "      <th>2006</th>\n",
       "      <td>517.71</td>\n",
       "    </tr>\n",
       "    <tr>\n",
       "      <th>2007</th>\n",
       "      <td>604.75</td>\n",
       "    </tr>\n",
       "    <tr>\n",
       "      <th>2008</th>\n",
       "      <td>671.50</td>\n",
       "    </tr>\n",
       "    <tr>\n",
       "      <th>2009</th>\n",
       "      <td>658.82</td>\n",
       "    </tr>\n",
       "    <tr>\n",
       "      <th>2010</th>\n",
       "      <td>590.13</td>\n",
       "    </tr>\n",
       "    <tr>\n",
       "      <th>2011</th>\n",
       "      <td>507.58</td>\n",
       "    </tr>\n",
       "    <tr>\n",
       "      <th>2012</th>\n",
       "      <td>355.84</td>\n",
       "    </tr>\n",
       "    <tr>\n",
       "      <th>2013</th>\n",
       "      <td>361.24</td>\n",
       "    </tr>\n",
       "    <tr>\n",
       "      <th>2014</th>\n",
       "      <td>331.53</td>\n",
       "    </tr>\n",
       "    <tr>\n",
       "      <th>2015</th>\n",
       "      <td>267.98</td>\n",
       "    </tr>\n",
       "    <tr>\n",
       "      <th>2016</th>\n",
       "      <td>129.94</td>\n",
       "    </tr>\n",
       "  </tbody>\n",
       "</table>\n",
       "</div>"
      ],
      "text/plain": [
       "                 total_sales\n",
       "year_of_release             \n",
       "1980                   11.38\n",
       "1981                   35.68\n",
       "1982                   28.88\n",
       "1983                   16.80\n",
       "1984                   50.35\n",
       "1985                   53.95\n",
       "1986                   37.08\n",
       "1987                   21.70\n",
       "1988                   47.21\n",
       "1989                   73.45\n",
       "1990                   49.37\n",
       "1991                   32.23\n",
       "1992                   76.16\n",
       "1993                   45.99\n",
       "1994                   79.23\n",
       "1995                   88.12\n",
       "1996                  199.15\n",
       "1997                  201.07\n",
       "1998                  256.31\n",
       "1999                  251.11\n",
       "2000                  201.66\n",
       "2001                  331.46\n",
       "2002                  394.97\n",
       "2003                  357.54\n",
       "2004                  418.68\n",
       "2005                  457.82\n",
       "2006                  517.71\n",
       "2007                  604.75\n",
       "2008                  671.50\n",
       "2009                  658.82\n",
       "2010                  590.13\n",
       "2011                  507.58\n",
       "2012                  355.84\n",
       "2013                  361.24\n",
       "2014                  331.53\n",
       "2015                  267.98\n",
       "2016                  129.94"
      ]
     },
     "execution_count": 351,
     "metadata": {},
     "output_type": "execute_result"
    }
   ],
   "source": [
    "total_year = df.pivot_table(index='year_of_release', values='total_sales', aggfunc='sum')\n",
    "total_year"
   ]
  },
  {
   "cell_type": "code",
   "execution_count": 352,
   "metadata": {},
   "outputs": [
    {
     "data": {
      "text/plain": [
       "<AxesSubplot:xlabel='year_of_release'>"
      ]
     },
     "execution_count": 352,
     "metadata": {},
     "output_type": "execute_result"
    },
    {
     "data": {
      "image/png": "[encoded data removed]",
      "text/plain": [
       "<Figure size 576x432 with 1 Axes>"
      ]
     },
     "metadata": {
      "needs_background": "light"
     },
     "output_type": "display_data"
    }
   ],
   "source": [
    "total_year.plot(kind='bar', figsize=(8, 6), color='green')"
   ]
  },
  {
   "cell_type": "markdown",
   "metadata": {},
   "source": [
    "Отбросим годы, когда игры продавались в незначительном количестве"
   ]
  },
  {
   "cell_type": "code",
   "execution_count": 353,
   "metadata": {},
   "outputs": [],
   "source": [
    "df = df.query('year_of_release > 1995')"
   ]
  },
  {
   "cell_type": "code",
   "execution_count": 354,
   "metadata": {},
   "outputs": [
    {
     "data": {
      "text/html": [
       "<div>\n",
       "<style scoped>\n",
       "    .dataframe tbody tr th:only-of-type {\n",
       "        vertical-align: middle;\n",
       "    }\n",
       "\n",
       "    .dataframe tbody tr th {\n",
       "        vertical-align: top;\n",
       "    }\n",
       "\n",
       "    .dataframe thead th {\n",
       "        text-align: right;\n",
       "    }\n",
       "</style>\n",
       "<table border=\"1\" class=\"dataframe\">\n",
       "  <thead>\n",
       "    <tr style=\"text-align: right;\">\n",
       "      <th></th>\n",
       "      <th>total_sales</th>\n",
       "    </tr>\n",
       "    <tr>\n",
       "      <th>platform</th>\n",
       "      <th></th>\n",
       "    </tr>\n",
       "  </thead>\n",
       "  <tbody>\n",
       "    <tr>\n",
       "      <th>PS2</th>\n",
       "      <td>1233.56</td>\n",
       "    </tr>\n",
       "    <tr>\n",
       "      <th>X360</th>\n",
       "      <td>961.24</td>\n",
       "    </tr>\n",
       "    <tr>\n",
       "      <th>PS3</th>\n",
       "      <td>931.34</td>\n",
       "    </tr>\n",
       "    <tr>\n",
       "      <th>Wii</th>\n",
       "      <td>891.18</td>\n",
       "    </tr>\n",
       "    <tr>\n",
       "      <th>DS</th>\n",
       "      <td>802.76</td>\n",
       "    </tr>\n",
       "    <tr>\n",
       "      <th>PS</th>\n",
       "      <td>685.59</td>\n",
       "    </tr>\n",
       "    <tr>\n",
       "      <th>PS4</th>\n",
       "      <td>314.14</td>\n",
       "    </tr>\n",
       "    <tr>\n",
       "      <th>GBA</th>\n",
       "      <td>312.88</td>\n",
       "    </tr>\n",
       "    <tr>\n",
       "      <th>PSP</th>\n",
       "      <td>289.53</td>\n",
       "    </tr>\n",
       "    <tr>\n",
       "      <th>3DS</th>\n",
       "      <td>257.81</td>\n",
       "    </tr>\n",
       "    <tr>\n",
       "      <th>XB</th>\n",
       "      <td>251.57</td>\n",
       "    </tr>\n",
       "    <tr>\n",
       "      <th>PC</th>\n",
       "      <td>235.57</td>\n",
       "    </tr>\n",
       "    <tr>\n",
       "      <th>N64</th>\n",
       "      <td>218.01</td>\n",
       "    </tr>\n",
       "    <tr>\n",
       "      <th>GC</th>\n",
       "      <td>196.73</td>\n",
       "    </tr>\n",
       "    <tr>\n",
       "      <th>XOne</th>\n",
       "      <td>159.32</td>\n",
       "    </tr>\n",
       "    <tr>\n",
       "      <th>GB</th>\n",
       "      <td>136.30</td>\n",
       "    </tr>\n",
       "    <tr>\n",
       "      <th>WiiU</th>\n",
       "      <td>82.19</td>\n",
       "    </tr>\n",
       "    <tr>\n",
       "      <th>PSV</th>\n",
       "      <td>53.81</td>\n",
       "    </tr>\n",
       "    <tr>\n",
       "      <th>SAT</th>\n",
       "      <td>18.37</td>\n",
       "    </tr>\n",
       "    <tr>\n",
       "      <th>SNES</th>\n",
       "      <td>17.39</td>\n",
       "    </tr>\n",
       "    <tr>\n",
       "      <th>DC</th>\n",
       "      <td>15.95</td>\n",
       "    </tr>\n",
       "    <tr>\n",
       "      <th>WS</th>\n",
       "      <td>1.42</td>\n",
       "    </tr>\n",
       "    <tr>\n",
       "      <th>NG</th>\n",
       "      <td>0.10</td>\n",
       "    </tr>\n",
       "    <tr>\n",
       "      <th>PCFX</th>\n",
       "      <td>0.03</td>\n",
       "    </tr>\n",
       "  </tbody>\n",
       "</table>\n",
       "</div>"
      ],
      "text/plain": [
       "          total_sales\n",
       "platform             \n",
       "PS2           1233.56\n",
       "X360           961.24\n",
       "PS3            931.34\n",
       "Wii            891.18\n",
       "DS             802.76\n",
       "PS             685.59\n",
       "PS4            314.14\n",
       "GBA            312.88\n",
       "PSP            289.53\n",
       "3DS            257.81\n",
       "XB             251.57\n",
       "PC             235.57\n",
       "N64            218.01\n",
       "GC             196.73\n",
       "XOne           159.32\n",
       "GB             136.30\n",
       "WiiU            82.19\n",
       "PSV             53.81\n",
       "SAT             18.37\n",
       "SNES            17.39\n",
       "DC              15.95\n",
       "WS               1.42\n",
       "NG               0.10\n",
       "PCFX             0.03"
      ]
     },
     "execution_count": 354,
     "metadata": {},
     "output_type": "execute_result"
    }
   ],
   "source": [
    "df.pivot_table(index='platform', values='total_sales', aggfunc='sum').sort_values('total_sales', ascending=False)"
   ]
  },
  {
   "cell_type": "markdown",
   "metadata": {},
   "source": [
    "Сформируем датафрейм по топ платформам. И включим PC как стандартную платформу и Xone, так как она понадобится дальше для исследования"
   ]
  },
  {
   "cell_type": "code",
   "execution_count": 355,
   "metadata": {},
   "outputs": [],
   "source": [
    "top_9=['PS2', 'X360', 'PS3', 'Wii', 'DS', 'PS', 'PS4', 'PC', 'XOne']\n",
    "df_top = df.query('platform in @top_9')"
   ]
  },
  {
   "cell_type": "code",
   "execution_count": 356,
   "metadata": {},
   "outputs": [
    {
     "data": {
      "text/html": [
       "<div>\n",
       "<style scoped>\n",
       "    .dataframe tbody tr th:only-of-type {\n",
       "        vertical-align: middle;\n",
       "    }\n",
       "\n",
       "    .dataframe tbody tr th {\n",
       "        vertical-align: top;\n",
       "    }\n",
       "\n",
       "    .dataframe thead th {\n",
       "        text-align: right;\n",
       "    }\n",
       "</style>\n",
       "<table border=\"1\" class=\"dataframe\">\n",
       "  <thead>\n",
       "    <tr style=\"text-align: right;\">\n",
       "      <th></th>\n",
       "      <th></th>\n",
       "      <th>total_sales</th>\n",
       "    </tr>\n",
       "    <tr>\n",
       "      <th>year_of_release</th>\n",
       "      <th>platform</th>\n",
       "      <th></th>\n",
       "    </tr>\n",
       "  </thead>\n",
       "  <tbody>\n",
       "    <tr>\n",
       "      <th>2013</th>\n",
       "      <th>XOne</th>\n",
       "      <td>18.96</td>\n",
       "    </tr>\n",
       "    <tr>\n",
       "      <th rowspan=\"10\" valign=\"top\">2014</th>\n",
       "      <th>3DS</th>\n",
       "      <td>43.76</td>\n",
       "    </tr>\n",
       "    <tr>\n",
       "      <th>PC</th>\n",
       "      <td>13.28</td>\n",
       "    </tr>\n",
       "    <tr>\n",
       "      <th>PS3</th>\n",
       "      <td>47.76</td>\n",
       "    </tr>\n",
       "    <tr>\n",
       "      <th>PS4</th>\n",
       "      <td>100.00</td>\n",
       "    </tr>\n",
       "    <tr>\n",
       "      <th>PSP</th>\n",
       "      <td>0.24</td>\n",
       "    </tr>\n",
       "    <tr>\n",
       "      <th>PSV</th>\n",
       "      <td>11.90</td>\n",
       "    </tr>\n",
       "    <tr>\n",
       "      <th>Wii</th>\n",
       "      <td>3.75</td>\n",
       "    </tr>\n",
       "    <tr>\n",
       "      <th>WiiU</th>\n",
       "      <td>22.03</td>\n",
       "    </tr>\n",
       "    <tr>\n",
       "      <th>X360</th>\n",
       "      <td>34.74</td>\n",
       "    </tr>\n",
       "    <tr>\n",
       "      <th>XOne</th>\n",
       "      <td>54.07</td>\n",
       "    </tr>\n",
       "    <tr>\n",
       "      <th rowspan=\"10\" valign=\"top\">2015</th>\n",
       "      <th>3DS</th>\n",
       "      <td>27.78</td>\n",
       "    </tr>\n",
       "    <tr>\n",
       "      <th>PC</th>\n",
       "      <td>8.52</td>\n",
       "    </tr>\n",
       "    <tr>\n",
       "      <th>PS3</th>\n",
       "      <td>16.82</td>\n",
       "    </tr>\n",
       "    <tr>\n",
       "      <th>PS4</th>\n",
       "      <td>118.90</td>\n",
       "    </tr>\n",
       "    <tr>\n",
       "      <th>PSP</th>\n",
       "      <td>0.12</td>\n",
       "    </tr>\n",
       "    <tr>\n",
       "      <th>PSV</th>\n",
       "      <td>6.25</td>\n",
       "    </tr>\n",
       "    <tr>\n",
       "      <th>Wii</th>\n",
       "      <td>1.14</td>\n",
       "    </tr>\n",
       "    <tr>\n",
       "      <th>WiiU</th>\n",
       "      <td>16.35</td>\n",
       "    </tr>\n",
       "    <tr>\n",
       "      <th>X360</th>\n",
       "      <td>11.96</td>\n",
       "    </tr>\n",
       "    <tr>\n",
       "      <th>XOne</th>\n",
       "      <td>60.14</td>\n",
       "    </tr>\n",
       "    <tr>\n",
       "      <th rowspan=\"9\" valign=\"top\">2016</th>\n",
       "      <th>3DS</th>\n",
       "      <td>15.14</td>\n",
       "    </tr>\n",
       "    <tr>\n",
       "      <th>PC</th>\n",
       "      <td>5.25</td>\n",
       "    </tr>\n",
       "    <tr>\n",
       "      <th>PS3</th>\n",
       "      <td>3.60</td>\n",
       "    </tr>\n",
       "    <tr>\n",
       "      <th>PS4</th>\n",
       "      <td>69.25</td>\n",
       "    </tr>\n",
       "    <tr>\n",
       "      <th>PSV</th>\n",
       "      <td>4.25</td>\n",
       "    </tr>\n",
       "    <tr>\n",
       "      <th>Wii</th>\n",
       "      <td>0.18</td>\n",
       "    </tr>\n",
       "    <tr>\n",
       "      <th>WiiU</th>\n",
       "      <td>4.60</td>\n",
       "    </tr>\n",
       "    <tr>\n",
       "      <th>X360</th>\n",
       "      <td>1.52</td>\n",
       "    </tr>\n",
       "    <tr>\n",
       "      <th>XOne</th>\n",
       "      <td>26.15</td>\n",
       "    </tr>\n",
       "  </tbody>\n",
       "</table>\n",
       "</div>"
      ],
      "text/plain": [
       "                          total_sales\n",
       "year_of_release platform             \n",
       "2013            XOne            18.96\n",
       "2014            3DS             43.76\n",
       "                PC              13.28\n",
       "                PS3             47.76\n",
       "                PS4            100.00\n",
       "                PSP              0.24\n",
       "                PSV             11.90\n",
       "                Wii              3.75\n",
       "                WiiU            22.03\n",
       "                X360            34.74\n",
       "                XOne            54.07\n",
       "2015            3DS             27.78\n",
       "                PC               8.52\n",
       "                PS3             16.82\n",
       "                PS4            118.90\n",
       "                PSP              0.12\n",
       "                PSV              6.25\n",
       "                Wii              1.14\n",
       "                WiiU            16.35\n",
       "                X360            11.96\n",
       "                XOne            60.14\n",
       "2016            3DS             15.14\n",
       "                PC               5.25\n",
       "                PS3              3.60\n",
       "                PS4             69.25\n",
       "                PSV              4.25\n",
       "                Wii              0.18\n",
       "                WiiU             4.60\n",
       "                X360             1.52\n",
       "                XOne            26.15"
      ]
     },
     "execution_count": 356,
     "metadata": {},
     "output_type": "execute_result"
    }
   ],
   "source": [
    "df.pivot_table(index=['year_of_release', 'platform'] , values='total_sales', aggfunc='sum').tail(30) "
   ]
  },
  {
   "cell_type": "code",
   "execution_count": 357,
   "metadata": {
    "scrolled": true
   },
   "outputs": [
    {
     "data": {
      "text/plain": [
       "<AxesSubplot:xlabel='year_of_release'>"
      ]
     },
     "execution_count": 357,
     "metadata": {},
     "output_type": "execute_result"
    },
    {
     "data": {
      "image/png": "[encoded data removed]",
      "text/plain": [
       "<Figure size 1080x504 with 1 Axes>"
      ]
     },
     "metadata": {
      "needs_background": "light"
     },
     "output_type": "display_data"
    }
   ],
   "source": [
    "\n",
    "df_top.pivot_table(index='year_of_release', columns='platform', values='total_sales', aggfunc='sum').plot.bar(stacked=True, figsize=(15, 7), grid=True)\n"
   ]
  },
  {
   "cell_type": "markdown",
   "metadata": {},
   "source": [
    "Из гистограммы мы видем на примере PS, Wii, DS и PS2, что срок жизни платформ около 8-9 лет. Новые же платформы начинают активно продаваться в течении 4-5 лет."
   ]
  },
  {
   "cell_type": "markdown",
   "metadata": {},
   "source": [
    "В качестве актуального периода имеет смысл брать только ближайшие годы, зная как быстро все меняется и с учетом 8-9 лет жизни платформы и активных продаж в течении 4-5 лет. Возьму 2012-2016 годы "
   ]
  },
  {
   "cell_type": "code",
   "execution_count": 358,
   "metadata": {},
   "outputs": [],
   "source": [
    "df_2014 = df_top.query('2014 <= year_of_release')"
   ]
  },
  {
   "cell_type": "code",
   "execution_count": 359,
   "metadata": {},
   "outputs": [
    {
     "data": {
      "text/plain": [
       "<AxesSubplot:xlabel='year_of_release'>"
      ]
     },
     "execution_count": 359,
     "metadata": {},
     "output_type": "execute_result"
    },
    {
     "data": {
      "image/png": "[encoded data removed]",
      "text/plain": [
       "<Figure size 1080x504 with 1 Axes>"
      ]
     },
     "metadata": {
      "needs_background": "light"
     },
     "output_type": "display_data"
    }
   ],
   "source": [
    "df_2014.pivot_table(index='year_of_release', columns='platform', values='total_sales', aggfunc='sum').plot.bar(stacked=True, figsize=(15, 7), grid=True)"
   ]
  },
  {
   "cell_type": "code",
   "execution_count": 360,
   "metadata": {},
   "outputs": [
    {
     "data": {
      "text/plain": [
       "(0.0, 2.0)"
      ]
     },
     "execution_count": 360,
     "metadata": {},
     "output_type": "execute_result"
    },
    {
     "data": {
      "image/png": "[encoded data removed]",
      "text/plain": [
       "<Figure size 864x720 with 1 Axes>"
      ]
     },
     "metadata": {
      "needs_background": "light"
     },
     "output_type": "display_data"
    }
   ],
   "source": [
    "df_2014.boxplot(column='total_sales', by='platform', figsize=(12, 10))\n",
    "plt.ylim(0, 2)"
   ]
  },
  {
   "cell_type": "markdown",
   "metadata": {},
   "source": [
    "Из гистограммы и диаграммы рассения можно увидеть, что наибольшую популярность обретает PS4, XOne (на boxplot у нее много ввыбросов, что объясняется недавней популярностью), но в целом продажи игр падают. Самая стабильная платформа РС (однако стабильно низкие продажи, но тем не менее она долго существует). Медианно по продажам больше всего выделяется XOne, у него самая высокая медиана"
   ]
  },
  {
   "cell_type": "code",
   "execution_count": 361,
   "metadata": {},
   "outputs": [
    {
     "data": {
      "text/html": [
       "<div>\n",
       "<style scoped>\n",
       "    .dataframe tbody tr th:only-of-type {\n",
       "        vertical-align: middle;\n",
       "    }\n",
       "\n",
       "    .dataframe tbody tr th {\n",
       "        vertical-align: top;\n",
       "    }\n",
       "\n",
       "    .dataframe thead th {\n",
       "        text-align: right;\n",
       "    }\n",
       "</style>\n",
       "<table border=\"1\" class=\"dataframe\">\n",
       "  <thead>\n",
       "    <tr style=\"text-align: right;\">\n",
       "      <th></th>\n",
       "      <th>year_of_release</th>\n",
       "      <th>na_sales</th>\n",
       "      <th>eu_sales</th>\n",
       "      <th>jp_sales</th>\n",
       "      <th>other_sales</th>\n",
       "      <th>critic_score</th>\n",
       "      <th>user_score</th>\n",
       "      <th>total_sales</th>\n",
       "    </tr>\n",
       "  </thead>\n",
       "  <tbody>\n",
       "    <tr>\n",
       "      <th>year_of_release</th>\n",
       "      <td>1.000000</td>\n",
       "      <td>-0.157153</td>\n",
       "      <td>-0.117810</td>\n",
       "      <td>-0.045612</td>\n",
       "      <td>-0.122185</td>\n",
       "      <td>0.054391</td>\n",
       "      <td>0.025968</td>\n",
       "      <td>-0.144231</td>\n",
       "    </tr>\n",
       "    <tr>\n",
       "      <th>na_sales</th>\n",
       "      <td>-0.157153</td>\n",
       "      <td>1.000000</td>\n",
       "      <td>0.711683</td>\n",
       "      <td>0.227763</td>\n",
       "      <td>0.846567</td>\n",
       "      <td>0.341282</td>\n",
       "      <td>-0.030008</td>\n",
       "      <td>0.906628</td>\n",
       "    </tr>\n",
       "    <tr>\n",
       "      <th>eu_sales</th>\n",
       "      <td>-0.117810</td>\n",
       "      <td>0.711683</td>\n",
       "      <td>1.000000</td>\n",
       "      <td>0.314419</td>\n",
       "      <td>0.927515</td>\n",
       "      <td>0.276937</td>\n",
       "      <td>-0.025681</td>\n",
       "      <td>0.937550</td>\n",
       "    </tr>\n",
       "    <tr>\n",
       "      <th>jp_sales</th>\n",
       "      <td>-0.045612</td>\n",
       "      <td>0.227763</td>\n",
       "      <td>0.314419</td>\n",
       "      <td>1.000000</td>\n",
       "      <td>0.367558</td>\n",
       "      <td>0.215621</td>\n",
       "      <td>0.159867</td>\n",
       "      <td>0.352904</td>\n",
       "    </tr>\n",
       "    <tr>\n",
       "      <th>other_sales</th>\n",
       "      <td>-0.122185</td>\n",
       "      <td>0.846567</td>\n",
       "      <td>0.927515</td>\n",
       "      <td>0.367558</td>\n",
       "      <td>1.000000</td>\n",
       "      <td>0.298577</td>\n",
       "      <td>-0.010505</td>\n",
       "      <td>0.973998</td>\n",
       "    </tr>\n",
       "    <tr>\n",
       "      <th>critic_score</th>\n",
       "      <td>0.054391</td>\n",
       "      <td>0.341282</td>\n",
       "      <td>0.276937</td>\n",
       "      <td>0.215621</td>\n",
       "      <td>0.298577</td>\n",
       "      <td>1.000000</td>\n",
       "      <td>0.495443</td>\n",
       "      <td>0.334676</td>\n",
       "    </tr>\n",
       "    <tr>\n",
       "      <th>user_score</th>\n",
       "      <td>0.025968</td>\n",
       "      <td>-0.030008</td>\n",
       "      <td>-0.025681</td>\n",
       "      <td>0.159867</td>\n",
       "      <td>-0.010505</td>\n",
       "      <td>0.495443</td>\n",
       "      <td>1.000000</td>\n",
       "      <td>-0.020109</td>\n",
       "    </tr>\n",
       "    <tr>\n",
       "      <th>total_sales</th>\n",
       "      <td>-0.144231</td>\n",
       "      <td>0.906628</td>\n",
       "      <td>0.937550</td>\n",
       "      <td>0.352904</td>\n",
       "      <td>0.973998</td>\n",
       "      <td>0.334676</td>\n",
       "      <td>-0.020109</td>\n",
       "      <td>1.000000</td>\n",
       "    </tr>\n",
       "  </tbody>\n",
       "</table>\n",
       "</div>"
      ],
      "text/plain": [
       "                 year_of_release  na_sales  eu_sales  jp_sales  other_sales  \\\n",
       "year_of_release         1.000000 -0.157153 -0.117810 -0.045612    -0.122185   \n",
       "na_sales               -0.157153  1.000000  0.711683  0.227763     0.846567   \n",
       "eu_sales               -0.117810  0.711683  1.000000  0.314419     0.927515   \n",
       "jp_sales               -0.045612  0.227763  0.314419  1.000000     0.367558   \n",
       "other_sales            -0.122185  0.846567  0.927515  0.367558     1.000000   \n",
       "critic_score            0.054391  0.341282  0.276937  0.215621     0.298577   \n",
       "user_score              0.025968 -0.030008 -0.025681  0.159867    -0.010505   \n",
       "total_sales            -0.144231  0.906628  0.937550  0.352904     0.973998   \n",
       "\n",
       "                 critic_score  user_score  total_sales  \n",
       "year_of_release      0.054391    0.025968    -0.144231  \n",
       "na_sales             0.341282   -0.030008     0.906628  \n",
       "eu_sales             0.276937   -0.025681     0.937550  \n",
       "jp_sales             0.215621    0.159867     0.352904  \n",
       "other_sales          0.298577   -0.010505     0.973998  \n",
       "critic_score         1.000000    0.495443     0.334676  \n",
       "user_score           0.495443    1.000000    -0.020109  \n",
       "total_sales          0.334676   -0.020109     1.000000  "
      ]
     },
     "execution_count": 361,
     "metadata": {},
     "output_type": "execute_result"
    }
   ],
   "source": [
    "df_2014.corr()"
   ]
  },
  {
   "cell_type": "markdown",
   "metadata": {},
   "source": [
    "Корреляция total_sales к user_score: -0.007681, total_sales к critic_score 0.307395, что говорит о незначительном влиянии critic_score, отсутствии влияния user_score"
   ]
  },
  {
   "cell_type": "code",
   "execution_count": 362,
   "metadata": {},
   "outputs": [],
   "source": [
    "df_ps4 = df_2014.query('platform == \"PS4\"')"
   ]
  },
  {
   "cell_type": "code",
   "execution_count": 363,
   "metadata": {},
   "outputs": [
    {
     "data": {
      "text/plain": [
       "-0.040131589472697356"
      ]
     },
     "execution_count": 363,
     "metadata": {},
     "output_type": "execute_result"
    }
   ],
   "source": [
    "df_ps4['total_sales'].corr(df_ps4['user_score'])"
   ]
  },
  {
   "cell_type": "code",
   "execution_count": 364,
   "metadata": {},
   "outputs": [
    {
     "data": {
      "text/plain": [
       "0.4026614106810408"
      ]
     },
     "execution_count": 364,
     "metadata": {},
     "output_type": "execute_result"
    }
   ],
   "source": [
    "df_ps4['total_sales'].corr(df_ps4['critic_score'])"
   ]
  },
  {
   "cell_type": "markdown",
   "metadata": {},
   "source": [
    "При выборе конкретной платформы немного изменилась корреляция для отзывов критиков, но тем не менее 0.4 это незначительная корреляция"
   ]
  },
  {
   "cell_type": "code",
   "execution_count": 365,
   "metadata": {},
   "outputs": [
    {
     "data": {
      "text/plain": [
       "<AxesSubplot:xlabel='critic_score', ylabel='total_sales'>"
      ]
     },
     "execution_count": 365,
     "metadata": {},
     "output_type": "execute_result"
    },
    {
     "data": {
      "image/png": "[encoded data removed]",
      "text/plain": [
       "<Figure size 576x432 with 1 Axes>"
      ]
     },
     "metadata": {
      "needs_background": "light"
     },
     "output_type": "display_data"
    }
   ],
   "source": [
    "#df_ps4.plot(y='total_sales', x='critic_score', kind='hexbin', gridsize=20, sharex=False, grid=True, figsize=(8, 6))\n",
    "df_ps4.plot(y='total_sales', x='critic_score', kind='scatter', grid=True, figsize=(8, 6), color='green')"
   ]
  },
  {
   "cell_type": "code",
   "execution_count": 366,
   "metadata": {},
   "outputs": [
    {
     "data": {
      "text/plain": [
       "<AxesSubplot:xlabel='user_score', ylabel='total_sales'>"
      ]
     },
     "execution_count": 366,
     "metadata": {},
     "output_type": "execute_result"
    },
    {
     "data": {
      "image/png": "[encoded data removed]",
      "text/plain": [
       "<Figure size 576x432 with 1 Axes>"
      ]
     },
     "metadata": {
      "needs_background": "light"
     },
     "output_type": "display_data"
    }
   ],
   "source": [
    "#df_ps4.plot(y='total_sales', x='user_score', kind='hexbin', gridsize=20, sharex=False, grid=True, figsize=(8, 6))\n",
    "df_ps4.plot(y='total_sales', x='user_score', kind='scatter', grid=True, figsize=(8, 6), color='green')"
   ]
  },
  {
   "cell_type": "markdown",
   "metadata": {},
   "source": [
    "Проверим X360"
   ]
  },
  {
   "cell_type": "code",
   "execution_count": 367,
   "metadata": {},
   "outputs": [],
   "source": [
    "df_X360 = df_2014.query('platform == \"X360\"')"
   ]
  },
  {
   "cell_type": "code",
   "execution_count": 368,
   "metadata": {},
   "outputs": [
    {
     "data": {
      "text/plain": [
       "0.5257228356581523"
      ]
     },
     "execution_count": 368,
     "metadata": {},
     "output_type": "execute_result"
    }
   ],
   "source": [
    "df_X360['total_sales'].corr(df_X360['critic_score'])"
   ]
  },
  {
   "cell_type": "code",
   "execution_count": 369,
   "metadata": {},
   "outputs": [
    {
     "data": {
      "text/plain": [
       "-0.138444570945665"
      ]
     },
     "execution_count": 369,
     "metadata": {},
     "output_type": "execute_result"
    }
   ],
   "source": [
    "df_X360['total_sales'].corr(df_X360['user_score'])"
   ]
  },
  {
   "cell_type": "code",
   "execution_count": 370,
   "metadata": {},
   "outputs": [
    {
     "data": {
      "text/plain": [
       "<AxesSubplot:xlabel='user_score', ylabel='total_sales'>"
      ]
     },
     "execution_count": 370,
     "metadata": {},
     "output_type": "execute_result"
    },
    {
     "data": {
      "image/png": "[encoded data removed]",
      "text/plain": [
       "<Figure size 576x432 with 1 Axes>"
      ]
     },
     "metadata": {
      "needs_background": "light"
     },
     "output_type": "display_data"
    }
   ],
   "source": [
    "#df_X360.plot(y='total_sales', x='user_score', kind='hexbin', gridsize=20, sharex=False, grid=True, figsize=(8, 6))\n",
    "df_X360.plot(y='total_sales', x='user_score', kind='scatter', grid=True, figsize=(8, 6), color='green')"
   ]
  },
  {
   "cell_type": "code",
   "execution_count": 371,
   "metadata": {},
   "outputs": [
    {
     "data": {
      "text/plain": [
       "<AxesSubplot:xlabel='critic_score', ylabel='total_sales'>"
      ]
     },
     "execution_count": 371,
     "metadata": {},
     "output_type": "execute_result"
    },
    {
     "data": {
      "image/png": "[encoded data removed]",
      "text/plain": [
       "<Figure size 576x432 with 1 Axes>"
      ]
     },
     "metadata": {
      "needs_background": "light"
     },
     "output_type": "display_data"
    }
   ],
   "source": [
    "#df_X360.plot(y='total_sales', x='critic_score', kind='hexbin', gridsize=20, sharex=False, grid=True, figsize=(8, 6))\n",
    "df_X360.plot(y='total_sales', x='critic_score', kind='scatter', grid=True, figsize=(8, 6), color='green')"
   ]
  },
  {
   "cell_type": "markdown",
   "metadata": {},
   "source": [
    "Проверим XOne"
   ]
  },
  {
   "cell_type": "code",
   "execution_count": 372,
   "metadata": {},
   "outputs": [],
   "source": [
    "df_XOne = df_2014.query('platform == \"XOne\"')"
   ]
  },
  {
   "cell_type": "code",
   "execution_count": 373,
   "metadata": {},
   "outputs": [
    {
     "data": {
      "text/plain": [
       "<AxesSubplot:xlabel='critic_score', ylabel='total_sales'>"
      ]
     },
     "execution_count": 373,
     "metadata": {},
     "output_type": "execute_result"
    },
    {
     "data": {
      "image/png": "[encoded data removed]",
      "text/plain": [
       "<Figure size 576x432 with 1 Axes>"
      ]
     },
     "metadata": {
      "needs_background": "light"
     },
     "output_type": "display_data"
    }
   ],
   "source": [
    "#df_XOne.plot(y='total_sales', x='critic_score', kind='hexbin', gridsize=20, sharex=False, grid=True, figsize=(8, 6))\n",
    "df_XOne.plot(y='total_sales', x='critic_score', kind='scatter', grid=True, figsize=(8, 6), color='green')"
   ]
  },
  {
   "cell_type": "code",
   "execution_count": 374,
   "metadata": {},
   "outputs": [
    {
     "data": {
      "text/plain": [
       "<AxesSubplot:xlabel='user_score', ylabel='total_sales'>"
      ]
     },
     "execution_count": 374,
     "metadata": {},
     "output_type": "execute_result"
    },
    {
     "data": {
      "image/png": "[encoded data removed]",
      "text/plain": [
       "<Figure size 576x432 with 1 Axes>"
      ]
     },
     "metadata": {
      "needs_background": "light"
     },
     "output_type": "display_data"
    }
   ],
   "source": [
    "#df_XOne.plot(y='total_sales', x='user_score', kind='hexbin', gridsize=20, sharex=False, grid=True, figsize=(8, 6))\n",
    "df_XOne.plot(y='total_sales', x='user_score', kind='scatter', grid=True, figsize=(8, 6), color='green')"
   ]
  },
  {
   "cell_type": "markdown",
   "metadata": {},
   "source": [
    "   Можно сделать вывод, что оценки пользователей практически не играют роли, в свою очередь оценки критиков оказывают влияние на продажи, хоть и небольшое."
   ]
  },
  {
   "cell_type": "code",
   "execution_count": 375,
   "metadata": {},
   "outputs": [
    {
     "data": {
      "text/html": [
       "<div>\n",
       "<style scoped>\n",
       "    .dataframe tbody tr th:only-of-type {\n",
       "        vertical-align: middle;\n",
       "    }\n",
       "\n",
       "    .dataframe tbody tr th {\n",
       "        vertical-align: top;\n",
       "    }\n",
       "\n",
       "    .dataframe thead th {\n",
       "        text-align: right;\n",
       "    }\n",
       "</style>\n",
       "<table border=\"1\" class=\"dataframe\">\n",
       "  <thead>\n",
       "    <tr style=\"text-align: right;\">\n",
       "      <th></th>\n",
       "      <th>total_sales</th>\n",
       "    </tr>\n",
       "    <tr>\n",
       "      <th>genre</th>\n",
       "      <th></th>\n",
       "    </tr>\n",
       "  </thead>\n",
       "  <tbody>\n",
       "    <tr>\n",
       "      <th>Shooter</th>\n",
       "      <td>165.47</td>\n",
       "    </tr>\n",
       "    <tr>\n",
       "      <th>Action</th>\n",
       "      <td>159.64</td>\n",
       "    </tr>\n",
       "    <tr>\n",
       "      <th>Sports</th>\n",
       "      <td>106.05</td>\n",
       "    </tr>\n",
       "    <tr>\n",
       "      <th>Role-Playing</th>\n",
       "      <td>53.80</td>\n",
       "    </tr>\n",
       "    <tr>\n",
       "      <th>Misc</th>\n",
       "      <td>25.66</td>\n",
       "    </tr>\n",
       "    <tr>\n",
       "      <th>Racing</th>\n",
       "      <td>20.33</td>\n",
       "    </tr>\n",
       "    <tr>\n",
       "      <th>Fighting</th>\n",
       "      <td>13.55</td>\n",
       "    </tr>\n",
       "    <tr>\n",
       "      <th>Adventure</th>\n",
       "      <td>13.47</td>\n",
       "    </tr>\n",
       "    <tr>\n",
       "      <th>Simulation</th>\n",
       "      <td>8.95</td>\n",
       "    </tr>\n",
       "    <tr>\n",
       "      <th>Platform</th>\n",
       "      <td>7.05</td>\n",
       "    </tr>\n",
       "    <tr>\n",
       "      <th>Strategy</th>\n",
       "      <td>3.00</td>\n",
       "    </tr>\n",
       "    <tr>\n",
       "      <th>Puzzle</th>\n",
       "      <td>0.06</td>\n",
       "    </tr>\n",
       "  </tbody>\n",
       "</table>\n",
       "</div>"
      ],
      "text/plain": [
       "              total_sales\n",
       "genre                    \n",
       "Shooter            165.47\n",
       "Action             159.64\n",
       "Sports             106.05\n",
       "Role-Playing        53.80\n",
       "Misc                25.66\n",
       "Racing              20.33\n",
       "Fighting            13.55\n",
       "Adventure           13.47\n",
       "Simulation           8.95\n",
       "Platform             7.05\n",
       "Strategy             3.00\n",
       "Puzzle               0.06"
      ]
     },
     "execution_count": 375,
     "metadata": {},
     "output_type": "execute_result"
    }
   ],
   "source": [
    "df_genre = df_2014.pivot_table(index='genre', values='total_sales', aggfunc='sum').sort_values('total_sales', ascending=False)\n",
    "df_genre"
   ]
  },
  {
   "cell_type": "code",
   "execution_count": 376,
   "metadata": {},
   "outputs": [
    {
     "data": {
      "text/plain": [
       "<AxesSubplot:xlabel='genre'>"
      ]
     },
     "execution_count": 376,
     "metadata": {},
     "output_type": "execute_result"
    },
    {
     "data": {
      "image/png": "[encoded data removed]",
      "text/plain": [
       "<Figure size 432x288 with 1 Axes>"
      ]
     },
     "metadata": {
      "needs_background": "light"
     },
     "output_type": "display_data"
    }
   ],
   "source": [
    "\n",
    "df_genre.plot(kind='bar', alpha=1, color='green')"
   ]
  },
  {
   "cell_type": "code",
   "execution_count": 377,
   "metadata": {},
   "outputs": [
    {
     "data": {
      "text/plain": [
       "(0.0, 4.0)"
      ]
     },
     "execution_count": 377,
     "metadata": {},
     "output_type": "execute_result"
    },
    {
     "data": {
      "image/png": "[encoded data removed]",
      "text/plain": [
       "<Figure size 1008x720 with 1 Axes>"
      ]
     },
     "metadata": {
      "needs_background": "light"
     },
     "output_type": "display_data"
    }
   ],
   "source": [
    "df_2014.boxplot(column='total_sales', by='genre', figsize=(14, 10))\n",
    "plt.ylim(0, 4)"
   ]
  },
  {
   "cell_type": "markdown",
   "metadata": {},
   "source": [
    "Самые популярные жанры: Action, Shooter, Sports самый непопулярный: Puzzle, что в принципе согласуется с моими личными наблюдениями. Однако если посмотреть на медианы, то жанры Спорт и шутер превосходят другие в том числе и экшн жанр, то есть их покупают на большие суммы. "
   ]
  },
  {
   "cell_type": "code",
   "execution_count": 378,
   "metadata": {},
   "outputs": [
    {
     "data": {
      "text/html": [
       "<div>\n",
       "<style scoped>\n",
       "    .dataframe tbody tr th:only-of-type {\n",
       "        vertical-align: middle;\n",
       "    }\n",
       "\n",
       "    .dataframe tbody tr th {\n",
       "        vertical-align: top;\n",
       "    }\n",
       "\n",
       "    .dataframe thead th {\n",
       "        text-align: right;\n",
       "    }\n",
       "</style>\n",
       "<table border=\"1\" class=\"dataframe\">\n",
       "  <thead>\n",
       "    <tr style=\"text-align: right;\">\n",
       "      <th></th>\n",
       "      <th>eu_sales</th>\n",
       "      <th>jp_sales</th>\n",
       "      <th>na_sales</th>\n",
       "    </tr>\n",
       "    <tr>\n",
       "      <th>platform</th>\n",
       "      <th></th>\n",
       "      <th></th>\n",
       "      <th></th>\n",
       "    </tr>\n",
       "  </thead>\n",
       "  <tbody>\n",
       "    <tr>\n",
       "      <th>PC</th>\n",
       "      <td>17.97</td>\n",
       "      <td>0.00</td>\n",
       "      <td>7.23</td>\n",
       "    </tr>\n",
       "    <tr>\n",
       "      <th>PS3</th>\n",
       "      <td>25.54</td>\n",
       "      <td>11.22</td>\n",
       "      <td>22.05</td>\n",
       "    </tr>\n",
       "    <tr>\n",
       "      <th>PS4</th>\n",
       "      <td>130.04</td>\n",
       "      <td>15.02</td>\n",
       "      <td>98.61</td>\n",
       "    </tr>\n",
       "    <tr>\n",
       "      <th>Wii</th>\n",
       "      <td>2.59</td>\n",
       "      <td>0.00</td>\n",
       "      <td>2.08</td>\n",
       "    </tr>\n",
       "    <tr>\n",
       "      <th>X360</th>\n",
       "      <td>15.49</td>\n",
       "      <td>0.08</td>\n",
       "      <td>28.30</td>\n",
       "    </tr>\n",
       "    <tr>\n",
       "      <th>XOne</th>\n",
       "      <td>46.25</td>\n",
       "      <td>0.32</td>\n",
       "      <td>81.27</td>\n",
       "    </tr>\n",
       "  </tbody>\n",
       "</table>\n",
       "</div>"
      ],
      "text/plain": [
       "          eu_sales  jp_sales  na_sales\n",
       "platform                              \n",
       "PC           17.97      0.00      7.23\n",
       "PS3          25.54     11.22     22.05\n",
       "PS4         130.04     15.02     98.61\n",
       "Wii           2.59      0.00      2.08\n",
       "X360         15.49      0.08     28.30\n",
       "XOne         46.25      0.32     81.27"
      ]
     },
     "execution_count": 378,
     "metadata": {},
     "output_type": "execute_result"
    }
   ],
   "source": [
    "df_region = df_2014.pivot_table(index='platform', values=['na_sales','eu_sales','jp_sales'], aggfunc='sum')\n",
    "df_region"
   ]
  },
  {
   "cell_type": "code",
   "execution_count": 379,
   "metadata": {},
   "outputs": [
    {
     "data": {
      "text/plain": [
       "<AxesSubplot:xlabel='platform'>"
      ]
     },
     "execution_count": 379,
     "metadata": {},
     "output_type": "execute_result"
    },
    {
     "data": {
      "image/png": "[encoded data removed]",
      "text/plain": [
       "<Figure size 1080x504 with 1 Axes>"
      ]
     },
     "metadata": {
      "needs_background": "light"
     },
     "output_type": "display_data"
    }
   ],
   "source": [
    "#df_region.plot.pie(y='eu_sales', figsize=(6, 6))\n",
    "df_region.plot.bar(y='eu_sales', stacked=True, figsize=(15, 7), grid=True, color='green')"
   ]
  },
  {
   "cell_type": "code",
   "execution_count": 380,
   "metadata": {},
   "outputs": [
    {
     "data": {
      "text/plain": [
       "<AxesSubplot:xlabel='platform'>"
      ]
     },
     "execution_count": 380,
     "metadata": {},
     "output_type": "execute_result"
    },
    {
     "data": {
      "image/png": "[encoded data removed]",
      "text/plain": [
       "<Figure size 1080x504 with 1 Axes>"
      ]
     },
     "metadata": {
      "needs_background": "light"
     },
     "output_type": "display_data"
    }
   ],
   "source": [
    "#df_region.plot.pie(y='jp_sales', figsize=(6, 6))\n",
    "df_region.plot.bar(y='jp_sales', stacked=True, figsize=(15, 7), grid=True, color='green')"
   ]
  },
  {
   "cell_type": "code",
   "execution_count": 381,
   "metadata": {},
   "outputs": [
    {
     "data": {
      "text/plain": [
       "<AxesSubplot:xlabel='platform'>"
      ]
     },
     "execution_count": 381,
     "metadata": {},
     "output_type": "execute_result"
    },
    {
     "data": {
      "image/png": "[encoded data removed]",
      "text/plain": [
       "<Figure size 1080x504 with 1 Axes>"
      ]
     },
     "metadata": {
      "needs_background": "light"
     },
     "output_type": "display_data"
    }
   ],
   "source": [
    "#df_region.plot.pie(y='na_sales', figsize=(6, 6))\n",
    "df_region.plot.bar(y='na_sales', stacked=True, figsize=(15, 7), grid=True, color='green')"
   ]
  },
  {
   "cell_type": "markdown",
   "metadata": {},
   "source": [
    "PS4 занимает первое место во всех регионах, однако второе место неоднородно в Северной америке и Европе это XOne, а в Японии PS3. "
   ]
  },
  {
   "cell_type": "code",
   "execution_count": 382,
   "metadata": {},
   "outputs": [
    {
     "data": {
      "text/html": [
       "<div>\n",
       "<style scoped>\n",
       "    .dataframe tbody tr th:only-of-type {\n",
       "        vertical-align: middle;\n",
       "    }\n",
       "\n",
       "    .dataframe tbody tr th {\n",
       "        vertical-align: top;\n",
       "    }\n",
       "\n",
       "    .dataframe thead th {\n",
       "        text-align: right;\n",
       "    }\n",
       "</style>\n",
       "<table border=\"1\" class=\"dataframe\">\n",
       "  <thead>\n",
       "    <tr style=\"text-align: right;\">\n",
       "      <th></th>\n",
       "      <th>eu_sales</th>\n",
       "      <th>jp_sales</th>\n",
       "      <th>na_sales</th>\n",
       "    </tr>\n",
       "    <tr>\n",
       "      <th>genre</th>\n",
       "      <th></th>\n",
       "      <th></th>\n",
       "      <th></th>\n",
       "    </tr>\n",
       "  </thead>\n",
       "  <tbody>\n",
       "    <tr>\n",
       "      <th>Action</th>\n",
       "      <td>66.05</td>\n",
       "      <td>10.54</td>\n",
       "      <td>62.59</td>\n",
       "    </tr>\n",
       "    <tr>\n",
       "      <th>Adventure</th>\n",
       "      <td>6.04</td>\n",
       "      <td>0.85</td>\n",
       "      <td>4.97</td>\n",
       "    </tr>\n",
       "    <tr>\n",
       "      <th>Fighting</th>\n",
       "      <td>3.86</td>\n",
       "      <td>2.12</td>\n",
       "      <td>5.85</td>\n",
       "    </tr>\n",
       "    <tr>\n",
       "      <th>Misc</th>\n",
       "      <td>9.56</td>\n",
       "      <td>0.85</td>\n",
       "      <td>12.04</td>\n",
       "    </tr>\n",
       "    <tr>\n",
       "      <th>Platform</th>\n",
       "      <td>3.51</td>\n",
       "      <td>0.09</td>\n",
       "      <td>2.40</td>\n",
       "    </tr>\n",
       "    <tr>\n",
       "      <th>Puzzle</th>\n",
       "      <td>0.02</td>\n",
       "      <td>0.04</td>\n",
       "      <td>0.00</td>\n",
       "    </tr>\n",
       "    <tr>\n",
       "      <th>Racing</th>\n",
       "      <td>11.97</td>\n",
       "      <td>0.39</td>\n",
       "      <td>5.59</td>\n",
       "    </tr>\n",
       "    <tr>\n",
       "      <th>Role-Playing</th>\n",
       "      <td>20.38</td>\n",
       "      <td>6.02</td>\n",
       "      <td>20.98</td>\n",
       "    </tr>\n",
       "    <tr>\n",
       "      <th>Shooter</th>\n",
       "      <td>64.08</td>\n",
       "      <td>3.33</td>\n",
       "      <td>76.97</td>\n",
       "    </tr>\n",
       "    <tr>\n",
       "      <th>Simulation</th>\n",
       "      <td>6.11</td>\n",
       "      <td>0.20</td>\n",
       "      <td>1.91</td>\n",
       "    </tr>\n",
       "    <tr>\n",
       "      <th>Sports</th>\n",
       "      <td>44.56</td>\n",
       "      <td>1.99</td>\n",
       "      <td>45.42</td>\n",
       "    </tr>\n",
       "    <tr>\n",
       "      <th>Strategy</th>\n",
       "      <td>1.74</td>\n",
       "      <td>0.22</td>\n",
       "      <td>0.82</td>\n",
       "    </tr>\n",
       "  </tbody>\n",
       "</table>\n",
       "</div>"
      ],
      "text/plain": [
       "              eu_sales  jp_sales  na_sales\n",
       "genre                                     \n",
       "Action           66.05     10.54     62.59\n",
       "Adventure         6.04      0.85      4.97\n",
       "Fighting          3.86      2.12      5.85\n",
       "Misc              9.56      0.85     12.04\n",
       "Platform          3.51      0.09      2.40\n",
       "Puzzle            0.02      0.04      0.00\n",
       "Racing           11.97      0.39      5.59\n",
       "Role-Playing     20.38      6.02     20.98\n",
       "Shooter          64.08      3.33     76.97\n",
       "Simulation        6.11      0.20      1.91\n",
       "Sports           44.56      1.99     45.42\n",
       "Strategy          1.74      0.22      0.82"
      ]
     },
     "execution_count": 382,
     "metadata": {},
     "output_type": "execute_result"
    }
   ],
   "source": [
    "df_region_genre = df_2014.pivot_table(index='genre', values=['na_sales','eu_sales','jp_sales'], aggfunc='sum')\n",
    "df_region_genre"
   ]
  },
  {
   "cell_type": "code",
   "execution_count": 383,
   "metadata": {},
   "outputs": [
    {
     "data": {
      "text/plain": [
       "<AxesSubplot:ylabel='na_sales'>"
      ]
     },
     "execution_count": 383,
     "metadata": {},
     "output_type": "execute_result"
    },
    {
     "data": {
      "image/png": "[encoded data removed]",
      "text/plain": [
       "<Figure size 432x432 with 1 Axes>"
      ]
     },
     "metadata": {},
     "output_type": "display_data"
    }
   ],
   "source": [
    "df_region_genre.plot.pie(y='na_sales', figsize=(6, 6))"
   ]
  },
  {
   "cell_type": "code",
   "execution_count": 384,
   "metadata": {},
   "outputs": [
    {
     "data": {
      "text/plain": [
       "<AxesSubplot:ylabel='jp_sales'>"
      ]
     },
     "execution_count": 384,
     "metadata": {},
     "output_type": "execute_result"
    },
    {
     "data": {
      "image/png": "[encoded data removed]",
      "text/plain": [
       "<Figure size 432x432 with 1 Axes>"
      ]
     },
     "metadata": {},
     "output_type": "display_data"
    }
   ],
   "source": [
    "df_region_genre.plot.pie(y='jp_sales', figsize=(6, 6))"
   ]
  },
  {
   "cell_type": "code",
   "execution_count": 385,
   "metadata": {},
   "outputs": [
    {
     "data": {
      "text/plain": [
       "<AxesSubplot:ylabel='eu_sales'>"
      ]
     },
     "execution_count": 385,
     "metadata": {},
     "output_type": "execute_result"
    },
    {
     "data": {
      "image/png": "[encoded data removed]",
      "text/plain": [
       "<Figure size 432x432 with 1 Axes>"
      ]
     },
     "metadata": {},
     "output_type": "display_data"
    }
   ],
   "source": [
    "df_region_genre.plot.pie(y='eu_sales', figsize=(6, 6))"
   ]
  },
  {
   "cell_type": "markdown",
   "metadata": {},
   "source": [
    "Ярко выделяется особенность японского региона. Ролплей игры там имеют очень весомую долю"
   ]
  },
  {
   "cell_type": "code",
   "execution_count": 386,
   "metadata": {},
   "outputs": [
    {
     "data": {
      "text/html": [
       "<div>\n",
       "<style scoped>\n",
       "    .dataframe tbody tr th:only-of-type {\n",
       "        vertical-align: middle;\n",
       "    }\n",
       "\n",
       "    .dataframe tbody tr th {\n",
       "        vertical-align: top;\n",
       "    }\n",
       "\n",
       "    .dataframe thead th {\n",
       "        text-align: right;\n",
       "    }\n",
       "</style>\n",
       "<table border=\"1\" class=\"dataframe\">\n",
       "  <thead>\n",
       "    <tr style=\"text-align: right;\">\n",
       "      <th></th>\n",
       "      <th>eu_sales</th>\n",
       "      <th>jp_sales</th>\n",
       "      <th>na_sales</th>\n",
       "    </tr>\n",
       "    <tr>\n",
       "      <th>rating</th>\n",
       "      <th></th>\n",
       "      <th></th>\n",
       "      <th></th>\n",
       "    </tr>\n",
       "  </thead>\n",
       "  <tbody>\n",
       "    <tr>\n",
       "      <th>E</th>\n",
       "      <td>48.23</td>\n",
       "      <td>1.40</td>\n",
       "      <td>38.57</td>\n",
       "    </tr>\n",
       "    <tr>\n",
       "      <th>E10+</th>\n",
       "      <td>18.61</td>\n",
       "      <td>0.38</td>\n",
       "      <td>24.20</td>\n",
       "    </tr>\n",
       "    <tr>\n",
       "      <th>M</th>\n",
       "      <td>92.41</td>\n",
       "      <td>6.66</td>\n",
       "      <td>94.71</td>\n",
       "    </tr>\n",
       "    <tr>\n",
       "      <th>T</th>\n",
       "      <td>31.47</td>\n",
       "      <td>5.79</td>\n",
       "      <td>35.07</td>\n",
       "    </tr>\n",
       "  </tbody>\n",
       "</table>\n",
       "</div>"
      ],
      "text/plain": [
       "        eu_sales  jp_sales  na_sales\n",
       "rating                              \n",
       "E          48.23      1.40     38.57\n",
       "E10+       18.61      0.38     24.20\n",
       "M          92.41      6.66     94.71\n",
       "T          31.47      5.79     35.07"
      ]
     },
     "execution_count": 386,
     "metadata": {},
     "output_type": "execute_result"
    }
   ],
   "source": [
    "df_rating = df_2014.pivot_table(index='rating', values=['na_sales','eu_sales','jp_sales'], aggfunc='sum')\n",
    "df_rating"
   ]
  },
  {
   "cell_type": "code",
   "execution_count": 387,
   "metadata": {},
   "outputs": [
    {
     "data": {
      "text/plain": [
       "<AxesSubplot:xlabel='rating'>"
      ]
     },
     "execution_count": 387,
     "metadata": {},
     "output_type": "execute_result"
    },
    {
     "data": {
      "image/png": "[encoded data removed]",
      "text/plain": [
       "<Figure size 576x432 with 1 Axes>"
      ]
     },
     "metadata": {
      "needs_background": "light"
     },
     "output_type": "display_data"
    }
   ],
   "source": [
    "df_rating.plot(kind='bar', figsize=(8, 6), alpha=1)"
   ]
  },
  {
   "cell_type": "code",
   "execution_count": 388,
   "metadata": {},
   "outputs": [
    {
     "data": {
      "text/plain": [
       "<AxesSubplot:xlabel='rating'>"
      ]
     },
     "execution_count": 388,
     "metadata": {},
     "output_type": "execute_result"
    },
    {
     "data": {
      "image/png": "[encoded data removed]",
      "text/plain": [
       "<Figure size 576x432 with 1 Axes>"
      ]
     },
     "metadata": {
      "needs_background": "light"
     },
     "output_type": "display_data"
    }
   ],
   "source": [
    "df_rating.plot(y='eu_sales', kind='bar', figsize=(8, 6), alpha=1, color='green')"
   ]
  },
  {
   "cell_type": "code",
   "execution_count": 389,
   "metadata": {},
   "outputs": [
    {
     "data": {
      "text/plain": [
       "<AxesSubplot:xlabel='rating'>"
      ]
     },
     "execution_count": 389,
     "metadata": {},
     "output_type": "execute_result"
    },
    {
     "data": {
      "image/png": "[encoded data removed]",
      "text/plain": [
       "<Figure size 576x432 with 1 Axes>"
      ]
     },
     "metadata": {
      "needs_background": "light"
     },
     "output_type": "display_data"
    }
   ],
   "source": [
    "df_rating.plot(y='jp_sales', kind='bar', figsize=(8, 6), alpha=1, color='green')"
   ]
  },
  {
   "cell_type": "code",
   "execution_count": 390,
   "metadata": {},
   "outputs": [
    {
     "data": {
      "text/plain": [
       "<AxesSubplot:xlabel='rating'>"
      ]
     },
     "execution_count": 390,
     "metadata": {},
     "output_type": "execute_result"
    },
    {
     "data": {
      "image/png": "[encoded data removed]",
      "text/plain": [
       "<Figure size 576x432 with 1 Axes>"
      ]
     },
     "metadata": {
      "needs_background": "light"
     },
     "output_type": "display_data"
    }
   ],
   "source": [
    "df_rating.plot(y='na_sales', kind='bar', figsize=(8, 6), alpha=1, color='green')"
   ]
  },
  {
   "cell_type": "markdown",
   "metadata": {},
   "source": [
    "Во всех регионах игры преимущественно продаются с рейтингом М(1 место), 2 место в Северной америке и Европе занимают игры с рейтингом Е, а в Японии Т. Таким образом, влияние рейтинга есть, но только на Японию.\n",
    "\n",
    "#После изменения актуального периода вывод по рейтингу не меняется, судя по гистораммам"
   ]
  },
  {
   "cell_type": "markdown",
   "metadata": {},
   "source": [
    "H0 - Средние пользовательские рейтинги платформ Xbox One и PC одинаковые.\n",
    "H1 - Средние пользовательские рейтинги платформ Xbox One и PC имеют существенные различия."
   ]
  },
  {
   "cell_type": "code",
   "execution_count": 392,
   "metadata": {},
   "outputs": [
    {
     "name": "stderr",
     "output_type": "stream",
     "text": [
      "/tmp/ipykernel_31/373293007.py:3: SettingWithCopyWarning: \n",
      "A value is trying to be set on a copy of a slice from a DataFrame.\n",
      "Try using .loc[row_indexer,col_indexer] = value instead\n",
      "\n",
      "See the caveats in the documentation: https://pandas.pydata.org/pandas-docs/stable/user_guide/indexing.html#returning-a-view-versus-a-copy\n",
      "  df_PC_2['user_score'] = df_PC_2['user_score'].fillna(0)\n",
      "/tmp/ipykernel_31/373293007.py:4: SettingWithCopyWarning: \n",
      "A value is trying to be set on a copy of a slice from a DataFrame.\n",
      "Try using .loc[row_indexer,col_indexer] = value instead\n",
      "\n",
      "See the caveats in the documentation: https://pandas.pydata.org/pandas-docs/stable/user_guide/indexing.html#returning-a-view-versus-a-copy\n",
      "  df_XOne_2['user_score'] = df_XOne_2['user_score'].fillna(0)# отсортирововыем нули\n"
     ]
    }
   ],
   "source": [
    "df_PC_2 = df_2014.query('platform == \"PC\" and user_score > 0')\n",
    "df_XOne_2 = df_2014.query('platform == \"XOne\" and user_score > 0')\n",
    "df_PC_2['user_score'] = df_PC_2['user_score'].fillna(0)\n",
    "df_XOne_2['user_score'] = df_XOne_2['user_score'].fillna(0)# отсортирововыем нули\n",
    "#Почему-то при наличии Nan в столбцах, p-value выдает Nan в своем значении"
   ]
  },
  {
   "cell_type": "code",
   "execution_count": 393,
   "metadata": {},
   "outputs": [
    {
     "name": "stdout",
     "output_type": "stream",
     "text": [
      "6.594545454545456\n",
      "6.298360655737705\n",
      "p-value: 0.10450507919348415\n",
      "Не отвергаем нулевую гипотезу\n"
     ]
    }
   ],
   "source": [
    "print(df_XOne_2['user_score'].mean())\n",
    "print(df_PC_2['user_score'].mean())\n",
    "alpha = 0.01 #Стандартная альфа\n",
    "results = st.ttest_ind(df_XOne_2['user_score'], df_PC_2['user_score'])\n",
    "print('p-value:', results.pvalue)\n",
    "\n",
    "if results.pvalue < alpha:\n",
    "    print('Отвергаем нулевую гипотезу')\n",
    "else:\n",
    "    print('Не отвергаем нулевую гипотезу')"
   ]
  },
  {
   "cell_type": "markdown",
   "metadata": {},
   "source": [
    "Не выявленны значимые отличия "
   ]
  },
  {
   "cell_type": "markdown",
   "metadata": {},
   "source": [
    "H0 - Средние пользовательские рейтинги жанров Action и Sports одинаковые.\n",
    "H1 - Средние пользовательские рейтинги жанров Action и Sports имеют существенные различия."
   ]
  },
  {
   "cell_type": "code",
   "execution_count": 394,
   "metadata": {},
   "outputs": [
    {
     "name": "stderr",
     "output_type": "stream",
     "text": [
      "/tmp/ipykernel_31/3821460236.py:3: SettingWithCopyWarning: \n",
      "A value is trying to be set on a copy of a slice from a DataFrame.\n",
      "Try using .loc[row_indexer,col_indexer] = value instead\n",
      "\n",
      "See the caveats in the documentation: https://pandas.pydata.org/pandas-docs/stable/user_guide/indexing.html#returning-a-view-versus-a-copy\n",
      "  df_sports['user_score'] = df_sports['user_score'].fillna(0)\n",
      "/tmp/ipykernel_31/3821460236.py:4: SettingWithCopyWarning: \n",
      "A value is trying to be set on a copy of a slice from a DataFrame.\n",
      "Try using .loc[row_indexer,col_indexer] = value instead\n",
      "\n",
      "See the caveats in the documentation: https://pandas.pydata.org/pandas-docs/stable/user_guide/indexing.html#returning-a-view-versus-a-copy\n",
      "  df_action['user_score'] = df_action['user_score'].fillna(0)\n"
     ]
    }
   ],
   "source": [
    "df_action = df_2014.query('genre == \"Action\" and user_score > 0')\n",
    "df_sports = df_2014.query('genre == \"Sports\" and user_score > 0')# отсортирововыем нули\n",
    "df_sports['user_score'] = df_sports['user_score'].fillna(0)\n",
    "df_action['user_score'] = df_action['user_score'].fillna(0)\n",
    "#Почему-то при наличии Nan в столбцах, p-value выдает Nan в своем значении"
   ]
  },
  {
   "cell_type": "code",
   "execution_count": 395,
   "metadata": {},
   "outputs": [
    {
     "name": "stdout",
     "output_type": "stream",
     "text": [
      "6.67847533632287\n",
      "5.181666666666667\n",
      "p-value: 1.8308802058705039e-16\n",
      "Отвергаем нулевую гипотезу\n"
     ]
    }
   ],
   "source": [
    "print(df_action['user_score'].mean())\n",
    "print(df_sports['user_score'].mean())\n",
    "alpha = 0.01\n",
    "results_2 = st.ttest_ind(df_action['user_score'], df_sports['user_score'])\n",
    "print('p-value:', results_2.pvalue)\n",
    "\n",
    "if results_2.pvalue < alpha:\n",
    "    print('Отвергаем нулевую гипотезу')\n",
    "else:\n",
    "    print('Не отвергаем нулевую гипотезу')"
   ]
  },
  {
   "cell_type": "markdown",
   "metadata": {},
   "source": [
    "Имеют место существенные отличия"
   ]
  },
  {
   "cell_type": "markdown",
   "metadata": {},
   "source": [
    "Итоговый вывод:\n",
    "В ходе работы были обработанны данные: удалены пропуски, добавлен новый столбец, понижен регистр в некоторых столбцах значение tbd было изменено на Nan, по своему смыслу.\n",
    "\n",
    "Для визуального отображения результатов использовались разные гистограммы и диограмма: plot, boxplot, plot.pie\n",
    "\n",
    "Оказалось, что средний срок жизни игровой платформы: 5-6 лет, а активные продажи идут в течении 4-5 летю Самые популярные платформы X360,PS4, XOne, самая стабильная(неубиваемая) PC. Наибольшие перспективы имеют PS4, XOne, так как продажи X360 имеют тенденцию сильно падать.\n",
    "\n",
    "\n",
    "В ходе исследования были проанализированы продажи в трех регионах: японском, североамериканском и европейском. Везде самая популярная платформа это PS4, однако вторая по популярности платформа в Североамериканском, европейском регионах и Японии разная в первом случае это XOne, во втором PS4. \n",
    "\n",
    "\n",
    "Что касается жанровых предпочтений выделилась Япония с любовью к ролевым играм. Американцы и европейцы практически одинаково предпочитают экшн, спорт и шутеры. Проанализировав медианы продаж можно сказать, что спорт и шутер жанр имеют большие перспективы, так как у них высокая медиана продаж.\n",
    "\n",
    "M рейтинг оказался самым распространенным во всех регионах, однако в Японии в отличие от двух других регионах на 2 месте популярности стоит игры рейтинга Т.\n",
    "\n",
    "В ходе Т-теста было выявлено существенное отличие между средних пользовательских рейтингов жанров экшн и спорт.\n",
    "\n",
    "Также было установлено, что стоит обращать внимание на рейтинг критиков, но не слишком сильно, рейтинг пользователей в свою очередь вообще не влияет на продажи.\n",
    "\n",
    "Рекомендации:\n",
    "Делать упор в продажах на PS4 и XOne.\n",
    "Учесть популярность игр рейтинга М.\n",
    "Приоритетно выпускать игры в жанрах спорт и шутер(особенно в жанрах шутер).\n",
    "Внимательно относится к японскому региону из-за его особенностей, отличий от других регионов."
   ]
  }
 ],
 "metadata": {
  "ExecuteTimeLog": [
   {
    "duration": 52,
    "start_time": "2023-01-08T15:43:04.432Z"
   },
   {
    "duration": 1427,
    "start_time": "2023-01-08T15:43:06.632Z"
   },
   {
    "duration": 98,
    "start_time": "2023-01-08T15:43:08.061Z"
   },
   {
    "duration": 30,
    "start_time": "2023-01-08T15:43:20.186Z"
   },
   {
    "duration": 17,
    "start_time": "2023-01-08T15:43:35.130Z"
   },
   {
    "duration": 21,
    "start_time": "2023-01-08T15:43:44.530Z"
   },
   {
    "duration": 79,
    "start_time": "2023-01-08T15:44:43.119Z"
   },
   {
    "duration": 12,
    "start_time": "2023-01-08T15:44:51.030Z"
   },
   {
    "duration": 9,
    "start_time": "2023-01-08T15:44:57.826Z"
   },
   {
    "duration": 3,
    "start_time": "2023-01-08T15:45:12.749Z"
   },
   {
    "duration": 59,
    "start_time": "2023-01-08T15:45:12.754Z"
   },
   {
    "duration": 26,
    "start_time": "2023-01-08T15:45:12.815Z"
   },
   {
    "duration": 33,
    "start_time": "2023-01-08T15:45:12.843Z"
   },
   {
    "duration": 15,
    "start_time": "2023-01-08T15:45:12.879Z"
   },
   {
    "duration": 6,
    "start_time": "2023-01-08T15:45:26.952Z"
   },
   {
    "duration": 16,
    "start_time": "2023-01-08T15:45:58.837Z"
   },
   {
    "duration": 12,
    "start_time": "2023-01-08T15:47:39.270Z"
   },
   {
    "duration": 5,
    "start_time": "2023-01-08T15:47:50.872Z"
   },
   {
    "duration": 19,
    "start_time": "2023-01-08T15:49:11.337Z"
   },
   {
    "duration": 12,
    "start_time": "2023-01-08T15:50:57.775Z"
   },
   {
    "duration": 27,
    "start_time": "2023-01-08T15:53:12.175Z"
   },
   {
    "duration": 18,
    "start_time": "2023-01-08T15:53:30.846Z"
   },
   {
    "duration": 24,
    "start_time": "2023-01-08T15:54:12.620Z"
   },
   {
    "duration": 4,
    "start_time": "2023-01-08T15:54:26.478Z"
   },
   {
    "duration": 72,
    "start_time": "2023-01-08T15:54:26.484Z"
   },
   {
    "duration": 25,
    "start_time": "2023-01-08T15:54:26.558Z"
   },
   {
    "duration": 18,
    "start_time": "2023-01-08T15:54:26.585Z"
   },
   {
    "duration": 9,
    "start_time": "2023-01-08T15:54:26.605Z"
   },
   {
    "duration": 28,
    "start_time": "2023-01-08T15:54:26.616Z"
   },
   {
    "duration": 24,
    "start_time": "2023-01-08T15:54:26.646Z"
   },
   {
    "duration": 22,
    "start_time": "2023-01-08T15:54:26.672Z"
   },
   {
    "duration": 37,
    "start_time": "2023-01-08T15:54:26.695Z"
   },
   {
    "duration": 23,
    "start_time": "2023-01-08T15:55:23.442Z"
   },
   {
    "duration": 25,
    "start_time": "2023-01-08T15:55:32.232Z"
   },
   {
    "duration": 3,
    "start_time": "2023-01-08T15:56:14.227Z"
   },
   {
    "duration": 68,
    "start_time": "2023-01-08T15:56:14.232Z"
   },
   {
    "duration": 26,
    "start_time": "2023-01-08T15:56:14.302Z"
   },
   {
    "duration": 44,
    "start_time": "2023-01-08T15:56:14.330Z"
   },
   {
    "duration": 13,
    "start_time": "2023-01-08T15:56:14.377Z"
   },
   {
    "duration": 22,
    "start_time": "2023-01-08T15:56:14.393Z"
   },
   {
    "duration": 28,
    "start_time": "2023-01-08T15:56:14.417Z"
   },
   {
    "duration": 6,
    "start_time": "2023-01-08T15:56:14.447Z"
   },
   {
    "duration": 32,
    "start_time": "2023-01-08T15:56:14.455Z"
   },
   {
    "duration": 17,
    "start_time": "2023-01-08T15:56:20.627Z"
   },
   {
    "duration": 3,
    "start_time": "2023-01-08T15:56:42.051Z"
   },
   {
    "duration": 62,
    "start_time": "2023-01-08T15:56:42.056Z"
   },
   {
    "duration": 33,
    "start_time": "2023-01-08T15:56:42.120Z"
   },
   {
    "duration": 30,
    "start_time": "2023-01-08T15:56:42.155Z"
   },
   {
    "duration": 4,
    "start_time": "2023-01-08T15:56:42.188Z"
   },
   {
    "duration": 19,
    "start_time": "2023-01-08T15:56:42.193Z"
   },
   {
    "duration": 13,
    "start_time": "2023-01-08T15:56:42.213Z"
   },
   {
    "duration": 23,
    "start_time": "2023-01-08T15:56:42.227Z"
   },
   {
    "duration": 30,
    "start_time": "2023-01-08T15:56:42.252Z"
   },
   {
    "duration": 14,
    "start_time": "2023-01-08T15:56:52.877Z"
   },
   {
    "duration": 19,
    "start_time": "2023-01-08T15:56:55.426Z"
   },
   {
    "duration": 13,
    "start_time": "2023-01-08T15:57:11.663Z"
   },
   {
    "duration": 11,
    "start_time": "2023-01-08T15:57:13.699Z"
   },
   {
    "duration": 22,
    "start_time": "2023-01-08T15:58:59.259Z"
   },
   {
    "duration": 21,
    "start_time": "2023-01-08T15:59:44.445Z"
   },
   {
    "duration": 26,
    "start_time": "2023-01-08T15:59:46.625Z"
   },
   {
    "duration": 4,
    "start_time": "2023-01-08T15:59:54.026Z"
   },
   {
    "duration": 6,
    "start_time": "2023-01-08T16:00:08.384Z"
   },
   {
    "duration": 61,
    "start_time": "2023-01-08T16:02:32.502Z"
   },
   {
    "duration": 60,
    "start_time": "2023-01-08T16:02:44.621Z"
   },
   {
    "duration": 52,
    "start_time": "2023-01-08T16:02:59.505Z"
   },
   {
    "duration": 55,
    "start_time": "2023-01-08T16:03:14.406Z"
   },
   {
    "duration": 10046,
    "start_time": "2023-01-08T16:05:03.882Z"
   },
   {
    "duration": 4,
    "start_time": "2023-01-08T16:06:43.475Z"
   },
   {
    "duration": 83,
    "start_time": "2023-01-08T16:06:43.480Z"
   },
   {
    "duration": 23,
    "start_time": "2023-01-08T16:06:43.565Z"
   },
   {
    "duration": 19,
    "start_time": "2023-01-08T16:06:43.590Z"
   },
   {
    "duration": 4,
    "start_time": "2023-01-08T16:06:43.611Z"
   },
   {
    "duration": 32,
    "start_time": "2023-01-08T16:06:43.617Z"
   },
   {
    "duration": 17,
    "start_time": "2023-01-08T16:06:43.651Z"
   },
   {
    "duration": 5,
    "start_time": "2023-01-08T16:06:43.670Z"
   },
   {
    "duration": 23,
    "start_time": "2023-01-08T16:06:43.676Z"
   },
   {
    "duration": 25995,
    "start_time": "2023-01-08T16:06:43.700Z"
   },
   {
    "duration": 10646,
    "start_time": "2023-01-08T16:07:34.704Z"
   },
   {
    "duration": 49,
    "start_time": "2023-01-08T16:09:00.575Z"
   },
   {
    "duration": 28885,
    "start_time": "2023-01-08T16:09:34.404Z"
   },
   {
    "duration": 5,
    "start_time": "2023-01-08T16:10:15.271Z"
   },
   {
    "duration": 5,
    "start_time": "2023-01-08T16:11:48.650Z"
   },
   {
    "duration": 3,
    "start_time": "2023-01-08T16:14:46.490Z"
   },
   {
    "duration": 77,
    "start_time": "2023-01-08T16:14:46.496Z"
   },
   {
    "duration": 27,
    "start_time": "2023-01-08T16:14:46.575Z"
   },
   {
    "duration": 29,
    "start_time": "2023-01-08T16:14:46.604Z"
   },
   {
    "duration": 17,
    "start_time": "2023-01-08T16:14:46.635Z"
   },
   {
    "duration": 19,
    "start_time": "2023-01-08T16:14:46.655Z"
   },
   {
    "duration": 34,
    "start_time": "2023-01-08T16:14:46.676Z"
   },
   {
    "duration": 8,
    "start_time": "2023-01-08T16:14:46.712Z"
   },
   {
    "duration": 35,
    "start_time": "2023-01-08T16:14:46.722Z"
   },
   {
    "duration": 10,
    "start_time": "2023-01-08T16:14:46.759Z"
   },
   {
    "duration": 36,
    "start_time": "2023-01-08T16:14:46.771Z"
   },
   {
    "duration": 10,
    "start_time": "2023-01-08T16:14:46.809Z"
   },
   {
    "duration": 37,
    "start_time": "2023-01-08T16:14:46.821Z"
   },
   {
    "duration": 5,
    "start_time": "2023-01-08T16:14:59.091Z"
   },
   {
    "duration": 11,
    "start_time": "2023-01-08T16:15:13.977Z"
   },
   {
    "duration": 3,
    "start_time": "2023-01-08T16:15:20.431Z"
   },
   {
    "duration": 9,
    "start_time": "2023-01-08T16:15:22.038Z"
   },
   {
    "duration": 5,
    "start_time": "2023-01-08T16:15:23.976Z"
   },
   {
    "duration": 3,
    "start_time": "2023-01-08T16:15:28.557Z"
   },
   {
    "duration": 57,
    "start_time": "2023-01-08T16:15:28.562Z"
   },
   {
    "duration": 28,
    "start_time": "2023-01-08T16:15:28.621Z"
   },
   {
    "duration": 22,
    "start_time": "2023-01-08T16:15:28.651Z"
   },
   {
    "duration": 17,
    "start_time": "2023-01-08T16:15:28.675Z"
   },
   {
    "duration": 35,
    "start_time": "2023-01-08T16:15:28.693Z"
   },
   {
    "duration": 27,
    "start_time": "2023-01-08T16:15:28.730Z"
   },
   {
    "duration": 9,
    "start_time": "2023-01-08T16:15:28.758Z"
   },
   {
    "duration": 33,
    "start_time": "2023-01-08T16:15:28.769Z"
   },
   {
    "duration": 9,
    "start_time": "2023-01-08T16:15:28.804Z"
   },
   {
    "duration": 15,
    "start_time": "2023-01-08T16:15:28.815Z"
   },
   {
    "duration": 33,
    "start_time": "2023-01-08T16:15:28.832Z"
   },
   {
    "duration": 0,
    "start_time": "2023-01-08T16:15:28.867Z"
   },
   {
    "duration": 3,
    "start_time": "2023-01-08T16:15:46.610Z"
   },
   {
    "duration": 77,
    "start_time": "2023-01-08T16:15:46.617Z"
   },
   {
    "duration": 29,
    "start_time": "2023-01-08T16:15:46.696Z"
   },
   {
    "duration": 58,
    "start_time": "2023-01-08T16:15:46.726Z"
   },
   {
    "duration": 7,
    "start_time": "2023-01-08T16:15:46.787Z"
   },
   {
    "duration": 32,
    "start_time": "2023-01-08T16:15:46.795Z"
   },
   {
    "duration": 42,
    "start_time": "2023-01-08T16:15:46.830Z"
   },
   {
    "duration": 6,
    "start_time": "2023-01-08T16:15:46.874Z"
   },
   {
    "duration": 28,
    "start_time": "2023-01-08T16:15:46.882Z"
   },
   {
    "duration": 7,
    "start_time": "2023-01-08T16:15:46.912Z"
   },
   {
    "duration": 9,
    "start_time": "2023-01-08T16:15:46.921Z"
   },
   {
    "duration": 22,
    "start_time": "2023-01-08T16:15:46.932Z"
   },
   {
    "duration": 8,
    "start_time": "2023-01-08T16:15:46.956Z"
   },
   {
    "duration": 12,
    "start_time": "2023-01-08T16:15:55.543Z"
   },
   {
    "duration": 9,
    "start_time": "2023-01-08T16:23:13.416Z"
   },
   {
    "duration": 6,
    "start_time": "2023-01-08T16:24:26.596Z"
   },
   {
    "duration": 10,
    "start_time": "2023-01-08T16:27:03.845Z"
   },
   {
    "duration": 15,
    "start_time": "2023-01-08T16:27:19.724Z"
   },
   {
    "duration": 9,
    "start_time": "2023-01-08T16:35:54.549Z"
   },
   {
    "duration": 4,
    "start_time": "2023-01-08T16:35:57.863Z"
   },
   {
    "duration": 16,
    "start_time": "2023-01-08T16:37:11.567Z"
   },
   {
    "duration": 18,
    "start_time": "2023-01-08T16:37:34.983Z"
   },
   {
    "duration": 5,
    "start_time": "2023-01-08T16:37:55.829Z"
   },
   {
    "duration": 5,
    "start_time": "2023-01-08T16:41:33.409Z"
   },
   {
    "duration": 7,
    "start_time": "2023-01-08T16:41:35.011Z"
   },
   {
    "duration": 8,
    "start_time": "2023-01-08T16:41:35.330Z"
   },
   {
    "duration": 5,
    "start_time": "2023-01-08T16:41:37.167Z"
   },
   {
    "duration": 23,
    "start_time": "2023-01-08T16:42:26.328Z"
   },
   {
    "duration": 6,
    "start_time": "2023-01-08T16:42:40.052Z"
   },
   {
    "duration": 90,
    "start_time": "2023-01-08T16:42:40.063Z"
   },
   {
    "duration": 31,
    "start_time": "2023-01-08T16:42:40.156Z"
   },
   {
    "duration": 26,
    "start_time": "2023-01-08T16:42:40.189Z"
   },
   {
    "duration": 21,
    "start_time": "2023-01-08T16:42:40.218Z"
   },
   {
    "duration": 24,
    "start_time": "2023-01-08T16:42:40.241Z"
   },
   {
    "duration": 18,
    "start_time": "2023-01-08T16:42:40.268Z"
   },
   {
    "duration": 11,
    "start_time": "2023-01-08T16:42:40.289Z"
   },
   {
    "duration": 50,
    "start_time": "2023-01-08T16:42:40.302Z"
   },
   {
    "duration": 10,
    "start_time": "2023-01-08T16:42:40.356Z"
   },
   {
    "duration": 15,
    "start_time": "2023-01-08T16:42:40.369Z"
   },
   {
    "duration": 11,
    "start_time": "2023-01-08T16:42:40.387Z"
   },
   {
    "duration": 12,
    "start_time": "2023-01-08T16:42:40.400Z"
   },
   {
    "duration": 24,
    "start_time": "2023-01-08T16:42:40.414Z"
   },
   {
    "duration": 12,
    "start_time": "2023-01-08T16:42:40.440Z"
   },
   {
    "duration": 14,
    "start_time": "2023-01-08T16:42:40.454Z"
   },
   {
    "duration": 17,
    "start_time": "2023-01-08T16:42:40.470Z"
   },
   {
    "duration": 10,
    "start_time": "2023-01-08T16:42:40.489Z"
   },
   {
    "duration": 33,
    "start_time": "2023-01-08T16:42:40.502Z"
   },
   {
    "duration": 15,
    "start_time": "2023-01-08T16:42:55.472Z"
   },
   {
    "duration": 3,
    "start_time": "2023-01-08T16:43:57.068Z"
   },
   {
    "duration": 4,
    "start_time": "2023-01-08T16:44:03.692Z"
   },
   {
    "duration": 19,
    "start_time": "2023-01-08T16:44:08.092Z"
   },
   {
    "duration": 240,
    "start_time": "2023-01-08T16:44:11.471Z"
   },
   {
    "duration": 5,
    "start_time": "2023-01-08T16:44:52.068Z"
   },
   {
    "duration": 237,
    "start_time": "2023-01-08T16:44:52.552Z"
   },
   {
    "duration": 13,
    "start_time": "2023-01-08T16:45:07.769Z"
   },
   {
    "duration": 67,
    "start_time": "2023-01-08T16:46:29.227Z"
   },
   {
    "duration": 977,
    "start_time": "2023-01-08T16:46:36.314Z"
   },
   {
    "duration": 6,
    "start_time": "2023-01-08T16:46:44.507Z"
   },
   {
    "duration": 5,
    "start_time": "2023-01-08T16:46:47.972Z"
   },
   {
    "duration": 9,
    "start_time": "2023-01-08T16:48:55.830Z"
   },
   {
    "duration": 13,
    "start_time": "2023-01-08T16:48:56.412Z"
   },
   {
    "duration": 5,
    "start_time": "2023-01-08T16:50:56.192Z"
   },
   {
    "duration": 14,
    "start_time": "2023-01-08T16:50:56.975Z"
   },
   {
    "duration": 6,
    "start_time": "2023-01-08T16:51:13.863Z"
   },
   {
    "duration": 7,
    "start_time": "2023-01-08T16:51:25.869Z"
   },
   {
    "duration": 25,
    "start_time": "2023-01-08T16:51:26.233Z"
   },
   {
    "duration": 196,
    "start_time": "2023-01-08T16:51:39.512Z"
   },
   {
    "duration": 3,
    "start_time": "2023-01-08T16:53:56.949Z"
   },
   {
    "duration": 78,
    "start_time": "2023-01-08T16:53:56.954Z"
   },
   {
    "duration": 37,
    "start_time": "2023-01-08T16:53:57.035Z"
   },
   {
    "duration": 14,
    "start_time": "2023-01-08T16:53:57.074Z"
   },
   {
    "duration": 16,
    "start_time": "2023-01-08T16:53:57.091Z"
   },
   {
    "duration": 25,
    "start_time": "2023-01-08T16:53:57.108Z"
   },
   {
    "duration": 38,
    "start_time": "2023-01-08T16:53:57.136Z"
   },
   {
    "duration": 14,
    "start_time": "2023-01-08T16:53:57.176Z"
   },
   {
    "duration": 41,
    "start_time": "2023-01-08T16:53:57.192Z"
   },
   {
    "duration": 33,
    "start_time": "2023-01-08T16:53:57.235Z"
   },
   {
    "duration": 25,
    "start_time": "2023-01-08T16:53:57.270Z"
   },
   {
    "duration": 18,
    "start_time": "2023-01-08T16:53:57.297Z"
   },
   {
    "duration": 41,
    "start_time": "2023-01-08T16:53:57.317Z"
   },
   {
    "duration": 12,
    "start_time": "2023-01-08T16:53:57.360Z"
   },
   {
    "duration": 29,
    "start_time": "2023-01-08T16:53:57.374Z"
   },
   {
    "duration": 12,
    "start_time": "2023-01-08T16:53:57.405Z"
   },
   {
    "duration": 10,
    "start_time": "2023-01-08T16:53:57.419Z"
   },
   {
    "duration": 22,
    "start_time": "2023-01-08T16:53:57.430Z"
   },
   {
    "duration": 18,
    "start_time": "2023-01-08T16:53:57.454Z"
   },
   {
    "duration": 225,
    "start_time": "2023-01-08T16:53:57.473Z"
   },
   {
    "duration": 4,
    "start_time": "2023-01-08T16:54:17.315Z"
   },
   {
    "duration": 10,
    "start_time": "2023-01-08T16:54:49.918Z"
   },
   {
    "duration": 2,
    "start_time": "2023-01-08T16:54:50.276Z"
   },
   {
    "duration": 3,
    "start_time": "2023-01-08T16:54:50.918Z"
   },
   {
    "duration": 3,
    "start_time": "2023-01-08T16:55:04.583Z"
   },
   {
    "duration": 67,
    "start_time": "2023-01-08T16:55:04.588Z"
   },
   {
    "duration": 25,
    "start_time": "2023-01-08T16:55:04.656Z"
   },
   {
    "duration": 36,
    "start_time": "2023-01-08T16:55:04.683Z"
   },
   {
    "duration": 9,
    "start_time": "2023-01-08T16:55:04.722Z"
   },
   {
    "duration": 27,
    "start_time": "2023-01-08T16:55:04.733Z"
   },
   {
    "duration": 18,
    "start_time": "2023-01-08T16:55:04.762Z"
   },
   {
    "duration": 11,
    "start_time": "2023-01-08T16:55:04.782Z"
   },
   {
    "duration": 38,
    "start_time": "2023-01-08T16:55:04.794Z"
   },
   {
    "duration": 6,
    "start_time": "2023-01-08T16:55:04.837Z"
   },
   {
    "duration": 33,
    "start_time": "2023-01-08T16:55:04.845Z"
   },
   {
    "duration": 12,
    "start_time": "2023-01-08T16:55:04.879Z"
   },
   {
    "duration": 14,
    "start_time": "2023-01-08T16:55:04.893Z"
   },
   {
    "duration": 16,
    "start_time": "2023-01-08T16:55:04.910Z"
   },
   {
    "duration": 18,
    "start_time": "2023-01-08T16:55:04.927Z"
   },
   {
    "duration": 25,
    "start_time": "2023-01-08T16:55:04.947Z"
   },
   {
    "duration": 24,
    "start_time": "2023-01-08T16:55:04.974Z"
   },
   {
    "duration": 26,
    "start_time": "2023-01-08T16:55:05.000Z"
   },
   {
    "duration": 0,
    "start_time": "2023-01-08T16:55:05.027Z"
   },
   {
    "duration": 0,
    "start_time": "2023-01-08T16:55:05.028Z"
   },
   {
    "duration": 5,
    "start_time": "2023-01-08T16:55:13.185Z"
   },
   {
    "duration": 2,
    "start_time": "2023-01-08T16:55:14.099Z"
   },
   {
    "duration": 5,
    "start_time": "2023-01-08T16:55:14.384Z"
   },
   {
    "duration": 4,
    "start_time": "2023-01-08T16:55:26.559Z"
   },
   {
    "duration": 3,
    "start_time": "2023-01-08T16:56:17.559Z"
   },
   {
    "duration": 82,
    "start_time": "2023-01-08T16:56:17.564Z"
   },
   {
    "duration": 24,
    "start_time": "2023-01-08T16:56:17.648Z"
   },
   {
    "duration": 15,
    "start_time": "2023-01-08T16:56:17.673Z"
   },
   {
    "duration": 9,
    "start_time": "2023-01-08T16:56:17.690Z"
   },
   {
    "duration": 13,
    "start_time": "2023-01-08T16:56:17.701Z"
   },
   {
    "duration": 37,
    "start_time": "2023-01-08T16:56:17.715Z"
   },
   {
    "duration": 5,
    "start_time": "2023-01-08T16:56:17.754Z"
   },
   {
    "duration": 29,
    "start_time": "2023-01-08T16:56:17.761Z"
   },
   {
    "duration": 11,
    "start_time": "2023-01-08T16:56:17.792Z"
   },
   {
    "duration": 10,
    "start_time": "2023-01-08T16:56:17.805Z"
   },
   {
    "duration": 31,
    "start_time": "2023-01-08T16:56:17.817Z"
   },
   {
    "duration": 16,
    "start_time": "2023-01-08T16:56:17.850Z"
   },
   {
    "duration": 14,
    "start_time": "2023-01-08T16:56:17.869Z"
   },
   {
    "duration": 11,
    "start_time": "2023-01-08T16:56:17.885Z"
   },
   {
    "duration": 19,
    "start_time": "2023-01-08T16:56:17.897Z"
   },
   {
    "duration": 15,
    "start_time": "2023-01-08T16:56:17.918Z"
   },
   {
    "duration": 25,
    "start_time": "2023-01-08T16:56:17.940Z"
   },
   {
    "duration": 16,
    "start_time": "2023-01-08T16:56:17.967Z"
   },
   {
    "duration": 11,
    "start_time": "2023-01-08T16:56:17.985Z"
   },
   {
    "duration": 24,
    "start_time": "2023-01-08T16:56:17.997Z"
   },
   {
    "duration": 21,
    "start_time": "2023-01-08T16:57:02.558Z"
   },
   {
    "duration": 732,
    "start_time": "2023-01-08T16:58:57.118Z"
   },
   {
    "duration": 902,
    "start_time": "2023-01-08T16:59:22.785Z"
   },
   {
    "duration": 13,
    "start_time": "2023-01-08T17:01:28.704Z"
   },
   {
    "duration": 25,
    "start_time": "2023-01-08T17:01:41.027Z"
   },
   {
    "duration": 24,
    "start_time": "2023-01-08T17:01:56.953Z"
   },
   {
    "duration": 32,
    "start_time": "2023-01-08T17:02:07.236Z"
   },
   {
    "duration": 17,
    "start_time": "2023-01-08T17:02:21.362Z"
   },
   {
    "duration": 23,
    "start_time": "2023-01-08T17:03:28.784Z"
   },
   {
    "duration": 20,
    "start_time": "2023-01-08T17:03:59.561Z"
   },
   {
    "duration": 18,
    "start_time": "2023-01-08T17:04:29.587Z"
   },
   {
    "duration": 22,
    "start_time": "2023-01-08T17:04:48.621Z"
   },
   {
    "duration": 16,
    "start_time": "2023-01-08T17:05:35.881Z"
   },
   {
    "duration": 12,
    "start_time": "2023-01-08T17:43:30.925Z"
   },
   {
    "duration": 8,
    "start_time": "2023-01-08T17:45:14.489Z"
   },
   {
    "duration": 33,
    "start_time": "2023-01-08T17:45:21.549Z"
   },
   {
    "duration": 13,
    "start_time": "2023-01-08T17:48:23.654Z"
   },
   {
    "duration": 26,
    "start_time": "2023-01-08T17:48:34.589Z"
   },
   {
    "duration": 26,
    "start_time": "2023-01-08T17:48:53.255Z"
   },
   {
    "duration": 389,
    "start_time": "2023-01-08T17:49:31.910Z"
   },
   {
    "duration": 186,
    "start_time": "2023-01-08T17:49:48.493Z"
   },
   {
    "duration": 370,
    "start_time": "2023-01-08T17:49:53.791Z"
   },
   {
    "duration": 712,
    "start_time": "2023-01-08T17:50:49.773Z"
   },
   {
    "duration": 338,
    "start_time": "2023-01-08T18:00:24.878Z"
   },
   {
    "duration": 276,
    "start_time": "2023-01-08T18:00:35.986Z"
   },
   {
    "duration": 455,
    "start_time": "2023-01-08T18:00:49.920Z"
   },
   {
    "duration": 338,
    "start_time": "2023-01-08T18:00:56.425Z"
   },
   {
    "duration": 301,
    "start_time": "2023-01-08T18:01:06.125Z"
   },
   {
    "duration": 222,
    "start_time": "2023-01-08T18:01:17.228Z"
   },
   {
    "duration": 3079,
    "start_time": "2023-01-08T18:03:08.827Z"
   },
   {
    "duration": 9,
    "start_time": "2023-01-08T18:07:02.609Z"
   },
   {
    "duration": 8,
    "start_time": "2023-01-08T18:07:16.158Z"
   },
   {
    "duration": 53,
    "start_time": "2023-01-08T18:07:16.170Z"
   },
   {
    "duration": 33,
    "start_time": "2023-01-08T18:07:16.225Z"
   },
   {
    "duration": 26,
    "start_time": "2023-01-08T18:07:16.261Z"
   },
   {
    "duration": 5,
    "start_time": "2023-01-08T18:07:16.289Z"
   },
   {
    "duration": 676,
    "start_time": "2023-01-08T18:07:16.295Z"
   },
   {
    "duration": 10,
    "start_time": "2023-01-08T18:07:16.972Z"
   },
   {
    "duration": 15,
    "start_time": "2023-01-08T18:07:16.983Z"
   },
   {
    "duration": 5,
    "start_time": "2023-01-08T18:07:16.999Z"
   },
   {
    "duration": 50,
    "start_time": "2023-01-08T18:07:17.006Z"
   },
   {
    "duration": 11,
    "start_time": "2023-01-08T18:07:17.057Z"
   },
   {
    "duration": 11,
    "start_time": "2023-01-08T18:07:17.070Z"
   },
   {
    "duration": 4,
    "start_time": "2023-01-08T18:07:17.082Z"
   },
   {
    "duration": 6,
    "start_time": "2023-01-08T18:07:17.089Z"
   },
   {
    "duration": 4,
    "start_time": "2023-01-08T18:07:17.096Z"
   },
   {
    "duration": 6,
    "start_time": "2023-01-08T18:07:17.101Z"
   },
   {
    "duration": 5,
    "start_time": "2023-01-08T18:07:17.109Z"
   },
   {
    "duration": 34,
    "start_time": "2023-01-08T18:07:17.116Z"
   },
   {
    "duration": 24,
    "start_time": "2023-01-08T18:07:17.152Z"
   },
   {
    "duration": 4,
    "start_time": "2023-01-08T18:07:17.177Z"
   },
   {
    "duration": 4,
    "start_time": "2023-01-08T18:07:17.183Z"
   },
   {
    "duration": 6,
    "start_time": "2023-01-08T18:07:17.189Z"
   },
   {
    "duration": 15,
    "start_time": "2023-01-08T18:07:17.197Z"
   },
   {
    "duration": 15,
    "start_time": "2023-01-08T18:07:17.214Z"
   },
   {
    "duration": 11,
    "start_time": "2023-01-08T18:07:17.231Z"
   },
   {
    "duration": 45,
    "start_time": "2023-01-08T18:07:17.243Z"
   },
   {
    "duration": 15,
    "start_time": "2023-01-08T18:07:17.290Z"
   },
   {
    "duration": 8,
    "start_time": "2023-01-08T18:07:17.306Z"
   },
   {
    "duration": 28,
    "start_time": "2023-01-08T18:07:17.315Z"
   },
   {
    "duration": 541,
    "start_time": "2023-01-08T18:07:17.344Z"
   },
   {
    "duration": 9,
    "start_time": "2023-01-08T18:07:17.887Z"
   },
   {
    "duration": 0,
    "start_time": "2023-01-08T18:07:17.897Z"
   },
   {
    "duration": 26,
    "start_time": "2023-01-08T18:07:34.037Z"
   },
   {
    "duration": 14,
    "start_time": "2023-01-08T18:07:47.543Z"
   },
   {
    "duration": 188,
    "start_time": "2023-01-08T18:08:12.807Z"
   },
   {
    "duration": 731,
    "start_time": "2023-01-08T18:08:19.967Z"
   },
   {
    "duration": 325,
    "start_time": "2023-01-08T18:08:56.660Z"
   },
   {
    "duration": 3,
    "start_time": "2023-01-08T18:10:38.269Z"
   },
   {
    "duration": 78,
    "start_time": "2023-01-08T18:10:38.274Z"
   },
   {
    "duration": 33,
    "start_time": "2023-01-08T18:10:38.824Z"
   },
   {
    "duration": 24,
    "start_time": "2023-01-08T18:10:38.859Z"
   },
   {
    "duration": 5,
    "start_time": "2023-01-08T18:10:38.886Z"
   },
   {
    "duration": 628,
    "start_time": "2023-01-08T18:10:38.893Z"
   },
   {
    "duration": 27,
    "start_time": "2023-01-08T18:10:39.524Z"
   },
   {
    "duration": 23,
    "start_time": "2023-01-08T18:10:39.553Z"
   },
   {
    "duration": 18,
    "start_time": "2023-01-08T18:10:39.578Z"
   },
   {
    "duration": 32,
    "start_time": "2023-01-08T18:10:39.598Z"
   },
   {
    "duration": 30,
    "start_time": "2023-01-08T18:10:39.632Z"
   },
   {
    "duration": 11,
    "start_time": "2023-01-08T18:10:39.664Z"
   },
   {
    "duration": 17,
    "start_time": "2023-01-08T18:10:39.677Z"
   },
   {
    "duration": 9,
    "start_time": "2023-01-08T18:10:39.696Z"
   },
   {
    "duration": 9,
    "start_time": "2023-01-08T18:10:39.708Z"
   },
   {
    "duration": 31,
    "start_time": "2023-01-08T18:10:39.719Z"
   },
   {
    "duration": 15,
    "start_time": "2023-01-08T18:10:39.752Z"
   },
   {
    "duration": 11,
    "start_time": "2023-01-08T18:10:39.769Z"
   },
   {
    "duration": 17,
    "start_time": "2023-01-08T18:10:39.781Z"
   },
   {
    "duration": 8,
    "start_time": "2023-01-08T18:10:39.800Z"
   },
   {
    "duration": 30,
    "start_time": "2023-01-08T18:10:39.810Z"
   },
   {
    "duration": 17,
    "start_time": "2023-01-08T18:10:39.842Z"
   },
   {
    "duration": 32,
    "start_time": "2023-01-08T18:10:39.861Z"
   },
   {
    "duration": 17,
    "start_time": "2023-01-08T18:10:39.895Z"
   },
   {
    "duration": 8,
    "start_time": "2023-01-08T18:10:39.914Z"
   },
   {
    "duration": 30,
    "start_time": "2023-01-08T18:10:39.923Z"
   },
   {
    "duration": 15,
    "start_time": "2023-01-08T18:10:39.954Z"
   },
   {
    "duration": 7,
    "start_time": "2023-01-08T18:10:39.971Z"
   },
   {
    "duration": 32,
    "start_time": "2023-01-08T18:10:39.980Z"
   },
   {
    "duration": 598,
    "start_time": "2023-01-08T18:10:40.014Z"
   },
   {
    "duration": 7,
    "start_time": "2023-01-08T18:10:40.613Z"
   },
   {
    "duration": 275,
    "start_time": "2023-01-08T18:10:40.621Z"
   },
   {
    "duration": 228,
    "start_time": "2023-01-08T18:10:40.899Z"
   },
   {
    "duration": 3,
    "start_time": "2023-01-08T18:10:45.330Z"
   },
   {
    "duration": 69,
    "start_time": "2023-01-08T18:10:45.335Z"
   },
   {
    "duration": 25,
    "start_time": "2023-01-08T18:10:45.406Z"
   },
   {
    "duration": 34,
    "start_time": "2023-01-08T18:10:45.432Z"
   },
   {
    "duration": 5,
    "start_time": "2023-01-08T18:10:45.469Z"
   },
   {
    "duration": 599,
    "start_time": "2023-01-08T18:10:45.475Z"
   },
   {
    "duration": 9,
    "start_time": "2023-01-08T18:10:46.076Z"
   },
   {
    "duration": 12,
    "start_time": "2023-01-08T18:10:46.087Z"
   },
   {
    "duration": 15,
    "start_time": "2023-01-08T18:10:46.100Z"
   },
   {
    "duration": 42,
    "start_time": "2023-01-08T18:10:46.116Z"
   },
   {
    "duration": 5,
    "start_time": "2023-01-08T18:10:46.160Z"
   },
   {
    "duration": 14,
    "start_time": "2023-01-08T18:10:46.167Z"
   },
   {
    "duration": 11,
    "start_time": "2023-01-08T18:10:46.183Z"
   },
   {
    "duration": 18,
    "start_time": "2023-01-08T18:10:46.197Z"
   },
   {
    "duration": 4,
    "start_time": "2023-01-08T18:10:46.217Z"
   },
   {
    "duration": 17,
    "start_time": "2023-01-08T18:10:46.222Z"
   },
   {
    "duration": 16,
    "start_time": "2023-01-08T18:10:46.240Z"
   },
   {
    "duration": 11,
    "start_time": "2023-01-08T18:10:46.258Z"
   },
   {
    "duration": 203,
    "start_time": "2023-01-08T18:10:46.271Z"
   },
   {
    "duration": 4,
    "start_time": "2023-01-08T18:10:46.476Z"
   },
   {
    "duration": 9,
    "start_time": "2023-01-08T18:10:46.482Z"
   },
   {
    "duration": 18,
    "start_time": "2023-01-08T18:10:46.492Z"
   },
   {
    "duration": 33,
    "start_time": "2023-01-08T18:10:46.511Z"
   },
   {
    "duration": 26,
    "start_time": "2023-01-08T18:10:46.548Z"
   },
   {
    "duration": 16,
    "start_time": "2023-01-08T18:10:46.576Z"
   },
   {
    "duration": 30,
    "start_time": "2023-01-08T18:10:46.594Z"
   },
   {
    "duration": 19,
    "start_time": "2023-01-08T18:10:46.625Z"
   },
   {
    "duration": 18,
    "start_time": "2023-01-08T18:10:46.649Z"
   },
   {
    "duration": 34,
    "start_time": "2023-01-08T18:10:46.669Z"
   },
   {
    "duration": 585,
    "start_time": "2023-01-08T18:10:46.705Z"
   },
   {
    "duration": 6,
    "start_time": "2023-01-08T18:10:47.292Z"
   },
   {
    "duration": 266,
    "start_time": "2023-01-08T18:10:47.299Z"
   },
   {
    "duration": 203,
    "start_time": "2023-01-08T18:10:47.567Z"
   },
   {
    "duration": 20,
    "start_time": "2023-01-08T18:15:27.834Z"
   },
   {
    "duration": 3,
    "start_time": "2023-01-08T18:15:37.476Z"
   },
   {
    "duration": 56,
    "start_time": "2023-01-08T18:15:37.481Z"
   },
   {
    "duration": 33,
    "start_time": "2023-01-08T18:15:37.539Z"
   },
   {
    "duration": 14,
    "start_time": "2023-01-08T18:15:37.573Z"
   },
   {
    "duration": 4,
    "start_time": "2023-01-08T18:15:37.589Z"
   },
   {
    "duration": 607,
    "start_time": "2023-01-08T18:15:37.595Z"
   },
   {
    "duration": 10,
    "start_time": "2023-01-08T18:15:38.204Z"
   },
   {
    "duration": 35,
    "start_time": "2023-01-08T18:15:38.215Z"
   },
   {
    "duration": 8,
    "start_time": "2023-01-08T18:15:38.251Z"
   },
   {
    "duration": 21,
    "start_time": "2023-01-08T18:15:38.261Z"
   },
   {
    "duration": 7,
    "start_time": "2023-01-08T18:15:38.283Z"
   },
   {
    "duration": 7,
    "start_time": "2023-01-08T18:15:38.291Z"
   },
   {
    "duration": 6,
    "start_time": "2023-01-08T18:15:38.300Z"
   },
   {
    "duration": 8,
    "start_time": "2023-01-08T18:15:38.309Z"
   },
   {
    "duration": 18,
    "start_time": "2023-01-08T18:15:38.318Z"
   },
   {
    "duration": 6,
    "start_time": "2023-01-08T18:15:38.341Z"
   },
   {
    "duration": 4,
    "start_time": "2023-01-08T18:15:38.349Z"
   },
   {
    "duration": 10,
    "start_time": "2023-01-08T18:15:38.355Z"
   },
   {
    "duration": 9,
    "start_time": "2023-01-08T18:15:38.366Z"
   },
   {
    "duration": 4,
    "start_time": "2023-01-08T18:15:38.377Z"
   },
   {
    "duration": 6,
    "start_time": "2023-01-08T18:15:38.382Z"
   },
   {
    "duration": 8,
    "start_time": "2023-01-08T18:15:38.389Z"
   },
   {
    "duration": 16,
    "start_time": "2023-01-08T18:15:38.399Z"
   },
   {
    "duration": 26,
    "start_time": "2023-01-08T18:15:38.435Z"
   },
   {
    "duration": 9,
    "start_time": "2023-01-08T18:15:38.463Z"
   },
   {
    "duration": 21,
    "start_time": "2023-01-08T18:15:38.473Z"
   },
   {
    "duration": 7,
    "start_time": "2023-01-08T18:15:38.496Z"
   },
   {
    "duration": 34,
    "start_time": "2023-01-08T18:15:38.504Z"
   },
   {
    "duration": 577,
    "start_time": "2023-01-08T18:15:38.540Z"
   },
   {
    "duration": 20,
    "start_time": "2023-01-08T18:15:39.118Z"
   },
   {
    "duration": 255,
    "start_time": "2023-01-08T18:15:39.140Z"
   },
   {
    "duration": 219,
    "start_time": "2023-01-08T18:15:39.397Z"
   },
   {
    "duration": 4,
    "start_time": "2023-01-08T18:15:45.793Z"
   },
   {
    "duration": 75,
    "start_time": "2023-01-08T18:15:45.799Z"
   },
   {
    "duration": 25,
    "start_time": "2023-01-08T18:15:45.876Z"
   },
   {
    "duration": 21,
    "start_time": "2023-01-08T18:15:45.903Z"
   },
   {
    "duration": 5,
    "start_time": "2023-01-08T18:15:45.927Z"
   },
   {
    "duration": 635,
    "start_time": "2023-01-08T18:15:45.941Z"
   },
   {
    "duration": 10,
    "start_time": "2023-01-08T18:15:46.578Z"
   },
   {
    "duration": 20,
    "start_time": "2023-01-08T18:15:46.590Z"
   },
   {
    "duration": 36,
    "start_time": "2023-01-08T18:15:46.612Z"
   },
   {
    "duration": 30,
    "start_time": "2023-01-08T18:15:46.650Z"
   },
   {
    "duration": 5,
    "start_time": "2023-01-08T18:15:46.683Z"
   },
   {
    "duration": 25,
    "start_time": "2023-01-08T18:15:46.690Z"
   },
   {
    "duration": 37,
    "start_time": "2023-01-08T18:15:46.717Z"
   },
   {
    "duration": 23,
    "start_time": "2023-01-08T18:15:46.763Z"
   },
   {
    "duration": 13,
    "start_time": "2023-01-08T18:15:46.788Z"
   },
   {
    "duration": 15,
    "start_time": "2023-01-08T18:15:46.804Z"
   },
   {
    "duration": 33,
    "start_time": "2023-01-08T18:15:46.821Z"
   },
   {
    "duration": 31,
    "start_time": "2023-01-08T18:15:46.856Z"
   },
   {
    "duration": 33,
    "start_time": "2023-01-08T18:15:46.889Z"
   },
   {
    "duration": 24,
    "start_time": "2023-01-08T18:15:46.924Z"
   },
   {
    "duration": 14,
    "start_time": "2023-01-08T18:15:46.950Z"
   },
   {
    "duration": 13,
    "start_time": "2023-01-08T18:15:46.966Z"
   },
   {
    "duration": 30,
    "start_time": "2023-01-08T18:15:46.981Z"
   },
   {
    "duration": 15,
    "start_time": "2023-01-08T18:15:47.013Z"
   },
   {
    "duration": 11,
    "start_time": "2023-01-08T18:15:47.030Z"
   },
   {
    "duration": 31,
    "start_time": "2023-01-08T18:15:47.042Z"
   },
   {
    "duration": 14,
    "start_time": "2023-01-08T18:15:47.075Z"
   },
   {
    "duration": 25,
    "start_time": "2023-01-08T18:15:47.091Z"
   },
   {
    "duration": 786,
    "start_time": "2023-01-08T18:15:47.118Z"
   },
   {
    "duration": 7,
    "start_time": "2023-01-08T18:15:47.905Z"
   },
   {
    "duration": 284,
    "start_time": "2023-01-08T18:15:47.914Z"
   },
   {
    "duration": 207,
    "start_time": "2023-01-08T18:15:48.200Z"
   },
   {
    "duration": 3,
    "start_time": "2023-01-08T18:25:02.252Z"
   },
   {
    "duration": 72,
    "start_time": "2023-01-08T18:25:02.257Z"
   },
   {
    "duration": 38,
    "start_time": "2023-01-08T18:25:02.331Z"
   },
   {
    "duration": 28,
    "start_time": "2023-01-08T18:25:02.371Z"
   },
   {
    "duration": 18,
    "start_time": "2023-01-08T18:25:02.402Z"
   },
   {
    "duration": 766,
    "start_time": "2023-01-08T18:25:02.422Z"
   },
   {
    "duration": 9,
    "start_time": "2023-01-08T18:25:03.190Z"
   },
   {
    "duration": 27,
    "start_time": "2023-01-08T18:25:03.201Z"
   },
   {
    "duration": 20,
    "start_time": "2023-01-08T18:25:03.237Z"
   },
   {
    "duration": 46,
    "start_time": "2023-01-08T18:25:03.260Z"
   },
   {
    "duration": 6,
    "start_time": "2023-01-08T18:25:03.311Z"
   },
   {
    "duration": 15,
    "start_time": "2023-01-08T18:25:03.319Z"
   },
   {
    "duration": 33,
    "start_time": "2023-01-08T18:25:03.338Z"
   },
   {
    "duration": 17,
    "start_time": "2023-01-08T18:25:03.373Z"
   },
   {
    "duration": 7,
    "start_time": "2023-01-08T18:25:03.392Z"
   },
   {
    "duration": 20,
    "start_time": "2023-01-08T18:25:03.401Z"
   },
   {
    "duration": 8,
    "start_time": "2023-01-08T18:25:03.424Z"
   },
   {
    "duration": 30,
    "start_time": "2023-01-08T18:25:03.434Z"
   },
   {
    "duration": 15,
    "start_time": "2023-01-08T18:25:03.466Z"
   },
   {
    "duration": 21,
    "start_time": "2023-01-08T18:25:03.483Z"
   },
   {
    "duration": 15,
    "start_time": "2023-01-08T18:25:03.506Z"
   },
   {
    "duration": 24,
    "start_time": "2023-01-08T18:25:03.523Z"
   },
   {
    "duration": 41,
    "start_time": "2023-01-08T18:25:03.554Z"
   },
   {
    "duration": 15,
    "start_time": "2023-01-08T18:25:03.597Z"
   },
   {
    "duration": 17,
    "start_time": "2023-01-08T18:25:03.614Z"
   },
   {
    "duration": 41,
    "start_time": "2023-01-08T18:25:03.633Z"
   },
   {
    "duration": 7,
    "start_time": "2023-01-08T18:25:03.676Z"
   },
   {
    "duration": 45,
    "start_time": "2023-01-08T18:25:03.684Z"
   },
   {
    "duration": 1478,
    "start_time": "2023-01-08T18:25:03.732Z"
   },
   {
    "duration": 608,
    "start_time": "2023-01-08T18:25:05.212Z"
   },
   {
    "duration": 13,
    "start_time": "2023-01-08T18:25:05.823Z"
   },
   {
    "duration": 326,
    "start_time": "2023-01-08T18:25:05.844Z"
   },
   {
    "duration": 508,
    "start_time": "2023-01-08T18:25:06.172Z"
   },
   {
    "duration": 13,
    "start_time": "2023-01-08T18:26:46.621Z"
   },
   {
    "duration": 29,
    "start_time": "2023-01-08T18:31:53.385Z"
   },
   {
    "duration": 6,
    "start_time": "2023-01-08T18:31:57.765Z"
   },
   {
    "duration": 763,
    "start_time": "2023-01-08T18:31:59.683Z"
   },
   {
    "duration": 244,
    "start_time": "2023-01-08T18:32:34.860Z"
   },
   {
    "duration": 334,
    "start_time": "2023-01-08T18:32:59.774Z"
   },
   {
    "duration": 244,
    "start_time": "2023-01-08T18:33:16.165Z"
   },
   {
    "duration": 278,
    "start_time": "2023-01-08T18:34:00.489Z"
   },
   {
    "duration": 6,
    "start_time": "2023-01-08T18:36:00.528Z"
   },
   {
    "duration": 7,
    "start_time": "2023-01-08T18:36:41.864Z"
   },
   {
    "duration": 6,
    "start_time": "2023-01-08T18:37:29.408Z"
   },
   {
    "duration": 7,
    "start_time": "2023-01-08T18:39:09.669Z"
   },
   {
    "duration": 213,
    "start_time": "2023-01-08T18:39:10.051Z"
   },
   {
    "duration": 230,
    "start_time": "2023-01-08T18:39:34.992Z"
   },
   {
    "duration": 6,
    "start_time": "2023-01-08T18:40:07.330Z"
   },
   {
    "duration": 5,
    "start_time": "2023-01-08T18:40:20.850Z"
   },
   {
    "duration": 61,
    "start_time": "2023-01-08T18:43:51.372Z"
   },
   {
    "duration": 14,
    "start_time": "2023-01-08T18:44:24.995Z"
   },
   {
    "duration": 11,
    "start_time": "2023-01-08T18:45:41.270Z"
   },
   {
    "duration": 9,
    "start_time": "2023-01-08T18:45:47.114Z"
   },
   {
    "duration": 152,
    "start_time": "2023-01-08T18:45:48.894Z"
   },
   {
    "duration": 271,
    "start_time": "2023-01-08T18:46:45.071Z"
   },
   {
    "duration": 201,
    "start_time": "2023-01-08T18:46:52.901Z"
   },
   {
    "duration": 19,
    "start_time": "2023-01-08T18:47:08.134Z"
   },
   {
    "duration": 22,
    "start_time": "2023-01-08T18:59:01.521Z"
   },
   {
    "duration": 17,
    "start_time": "2023-01-08T18:59:19.711Z"
   },
   {
    "duration": 12,
    "start_time": "2023-01-08T18:59:46.923Z"
   },
   {
    "duration": 13,
    "start_time": "2023-01-08T18:59:54.493Z"
   },
   {
    "duration": 209,
    "start_time": "2023-01-08T19:00:16.404Z"
   },
   {
    "duration": 228,
    "start_time": "2023-01-08T19:00:57.281Z"
   },
   {
    "duration": 206,
    "start_time": "2023-01-08T19:01:09.389Z"
   },
   {
    "duration": 13,
    "start_time": "2023-01-08T19:03:25.162Z"
   },
   {
    "duration": 9,
    "start_time": "2023-01-08T19:03:40.043Z"
   },
   {
    "duration": 17,
    "start_time": "2023-01-08T19:03:45.170Z"
   },
   {
    "duration": 313,
    "start_time": "2023-01-08T19:04:06.209Z"
   },
   {
    "duration": 768,
    "start_time": "2023-01-08T19:04:16.436Z"
   },
   {
    "duration": 390,
    "start_time": "2023-01-08T19:04:22.225Z"
   },
   {
    "duration": 373,
    "start_time": "2023-01-08T19:04:34.990Z"
   },
   {
    "duration": 10,
    "start_time": "2023-01-08T19:10:24.456Z"
   },
   {
    "duration": 17,
    "start_time": "2023-01-08T19:10:31.728Z"
   },
   {
    "duration": 12,
    "start_time": "2023-01-08T19:11:30.852Z"
   },
   {
    "duration": 13,
    "start_time": "2023-01-08T19:12:29.831Z"
   },
   {
    "duration": 10,
    "start_time": "2023-01-08T19:12:46.762Z"
   },
   {
    "duration": 204,
    "start_time": "2023-01-08T19:13:33.831Z"
   },
   {
    "duration": 152,
    "start_time": "2023-01-08T19:14:45.654Z"
   },
   {
    "duration": 140,
    "start_time": "2023-01-08T19:14:58.212Z"
   },
   {
    "duration": 128,
    "start_time": "2023-01-08T19:15:04.453Z"
   },
   {
    "duration": 132,
    "start_time": "2023-01-08T19:15:14.213Z"
   },
   {
    "duration": 4,
    "start_time": "2023-01-08T19:22:11.102Z"
   },
   {
    "duration": 68,
    "start_time": "2023-01-08T19:22:11.108Z"
   },
   {
    "duration": 24,
    "start_time": "2023-01-08T19:22:11.178Z"
   },
   {
    "duration": 26,
    "start_time": "2023-01-08T19:22:11.204Z"
   },
   {
    "duration": 4,
    "start_time": "2023-01-08T19:22:11.237Z"
   },
   {
    "duration": 629,
    "start_time": "2023-01-08T19:22:11.243Z"
   },
   {
    "duration": 10,
    "start_time": "2023-01-08T19:22:11.874Z"
   },
   {
    "duration": 20,
    "start_time": "2023-01-08T19:22:11.885Z"
   },
   {
    "duration": 15,
    "start_time": "2023-01-08T19:22:11.906Z"
   },
   {
    "duration": 39,
    "start_time": "2023-01-08T19:22:11.922Z"
   },
   {
    "duration": 4,
    "start_time": "2023-01-08T19:22:11.963Z"
   },
   {
    "duration": 31,
    "start_time": "2023-01-08T19:22:11.969Z"
   },
   {
    "duration": 14,
    "start_time": "2023-01-08T19:22:12.001Z"
   },
   {
    "duration": 6,
    "start_time": "2023-01-08T19:22:12.020Z"
   },
   {
    "duration": 6,
    "start_time": "2023-01-08T19:22:12.027Z"
   },
   {
    "duration": 13,
    "start_time": "2023-01-08T19:22:12.034Z"
   },
   {
    "duration": 6,
    "start_time": "2023-01-08T19:22:12.050Z"
   },
   {
    "duration": 11,
    "start_time": "2023-01-08T19:22:12.057Z"
   },
   {
    "duration": 12,
    "start_time": "2023-01-08T19:22:12.070Z"
   },
   {
    "duration": 4,
    "start_time": "2023-01-08T19:22:12.084Z"
   },
   {
    "duration": 16,
    "start_time": "2023-01-08T19:22:12.090Z"
   },
   {
    "duration": 11,
    "start_time": "2023-01-08T19:22:12.108Z"
   },
   {
    "duration": 22,
    "start_time": "2023-01-08T19:22:12.121Z"
   },
   {
    "duration": 21,
    "start_time": "2023-01-08T19:22:12.144Z"
   },
   {
    "duration": 9,
    "start_time": "2023-01-08T19:22:12.167Z"
   },
   {
    "duration": 19,
    "start_time": "2023-01-08T19:22:12.177Z"
   },
   {
    "duration": 7,
    "start_time": "2023-01-08T19:22:12.198Z"
   },
   {
    "duration": 30,
    "start_time": "2023-01-08T19:22:12.206Z"
   },
   {
    "duration": 692,
    "start_time": "2023-01-08T19:22:12.238Z"
   },
   {
    "duration": 8,
    "start_time": "2023-01-08T19:22:12.931Z"
   },
   {
    "duration": 268,
    "start_time": "2023-01-08T19:22:12.941Z"
   },
   {
    "duration": 215,
    "start_time": "2023-01-08T19:22:13.210Z"
   },
   {
    "duration": 15,
    "start_time": "2023-01-08T19:22:13.427Z"
   },
   {
    "duration": 5,
    "start_time": "2023-01-08T19:22:13.443Z"
   },
   {
    "duration": 17,
    "start_time": "2023-01-08T19:22:13.451Z"
   },
   {
    "duration": 10,
    "start_time": "2023-01-08T19:22:13.469Z"
   },
   {
    "duration": 228,
    "start_time": "2023-01-08T19:22:13.481Z"
   },
   {
    "duration": 220,
    "start_time": "2023-01-08T19:22:13.710Z"
   },
   {
    "duration": 5,
    "start_time": "2023-01-08T19:22:13.931Z"
   },
   {
    "duration": 15,
    "start_time": "2023-01-08T19:22:13.938Z"
   },
   {
    "duration": 8,
    "start_time": "2023-01-08T19:22:13.957Z"
   },
   {
    "duration": 207,
    "start_time": "2023-01-08T19:22:13.967Z"
   },
   {
    "duration": 231,
    "start_time": "2023-01-08T19:22:14.176Z"
   },
   {
    "duration": 16,
    "start_time": "2023-01-08T19:22:14.409Z"
   },
   {
    "duration": 488,
    "start_time": "2023-01-08T19:22:14.435Z"
   },
   {
    "duration": 27,
    "start_time": "2023-01-08T19:22:14.924Z"
   },
   {
    "duration": 277,
    "start_time": "2023-01-08T19:22:14.953Z"
   },
   {
    "duration": 0,
    "start_time": "2023-01-08T19:22:17.451Z"
   },
   {
    "duration": 0,
    "start_time": "2023-01-08T19:22:17.453Z"
   },
   {
    "duration": 0,
    "start_time": "2023-01-08T19:22:17.454Z"
   },
   {
    "duration": 0,
    "start_time": "2023-01-08T19:22:17.456Z"
   },
   {
    "duration": 0,
    "start_time": "2023-01-08T19:22:17.457Z"
   },
   {
    "duration": 0,
    "start_time": "2023-01-08T19:22:17.459Z"
   },
   {
    "duration": 0,
    "start_time": "2023-01-08T19:22:17.460Z"
   },
   {
    "duration": 0,
    "start_time": "2023-01-08T19:22:17.462Z"
   },
   {
    "duration": 0,
    "start_time": "2023-01-08T19:22:17.463Z"
   },
   {
    "duration": 0,
    "start_time": "2023-01-08T19:22:17.464Z"
   },
   {
    "duration": 1,
    "start_time": "2023-01-08T19:22:17.465Z"
   },
   {
    "duration": 0,
    "start_time": "2023-01-08T19:22:17.467Z"
   },
   {
    "duration": 0,
    "start_time": "2023-01-08T19:22:17.468Z"
   },
   {
    "duration": 0,
    "start_time": "2023-01-08T19:22:17.470Z"
   },
   {
    "duration": 0,
    "start_time": "2023-01-08T19:22:17.471Z"
   },
   {
    "duration": 0,
    "start_time": "2023-01-08T19:22:17.473Z"
   },
   {
    "duration": 0,
    "start_time": "2023-01-08T19:22:17.474Z"
   },
   {
    "duration": 0,
    "start_time": "2023-01-08T19:22:17.475Z"
   },
   {
    "duration": 0,
    "start_time": "2023-01-08T19:22:17.477Z"
   },
   {
    "duration": 0,
    "start_time": "2023-01-08T19:22:17.478Z"
   },
   {
    "duration": 0,
    "start_time": "2023-01-08T19:22:17.478Z"
   },
   {
    "duration": 0,
    "start_time": "2023-01-08T19:22:17.480Z"
   },
   {
    "duration": 0,
    "start_time": "2023-01-08T19:22:17.481Z"
   },
   {
    "duration": 0,
    "start_time": "2023-01-08T19:22:17.482Z"
   },
   {
    "duration": 0,
    "start_time": "2023-01-08T19:22:17.483Z"
   },
   {
    "duration": 0,
    "start_time": "2023-01-08T19:22:17.484Z"
   },
   {
    "duration": 0,
    "start_time": "2023-01-08T19:22:17.485Z"
   },
   {
    "duration": 0,
    "start_time": "2023-01-08T19:22:17.486Z"
   },
   {
    "duration": 1,
    "start_time": "2023-01-08T19:22:17.487Z"
   },
   {
    "duration": 0,
    "start_time": "2023-01-08T19:22:17.488Z"
   },
   {
    "duration": 0,
    "start_time": "2023-01-08T19:22:17.536Z"
   },
   {
    "duration": 0,
    "start_time": "2023-01-08T19:22:17.537Z"
   },
   {
    "duration": 0,
    "start_time": "2023-01-08T19:22:17.538Z"
   },
   {
    "duration": 0,
    "start_time": "2023-01-08T19:22:17.539Z"
   },
   {
    "duration": 0,
    "start_time": "2023-01-08T19:22:17.540Z"
   },
   {
    "duration": 0,
    "start_time": "2023-01-08T19:22:17.541Z"
   },
   {
    "duration": 0,
    "start_time": "2023-01-08T19:22:17.543Z"
   },
   {
    "duration": 0,
    "start_time": "2023-01-08T19:22:17.544Z"
   },
   {
    "duration": 0,
    "start_time": "2023-01-08T19:22:17.545Z"
   },
   {
    "duration": 0,
    "start_time": "2023-01-08T19:22:17.546Z"
   },
   {
    "duration": 0,
    "start_time": "2023-01-08T19:22:17.547Z"
   },
   {
    "duration": 0,
    "start_time": "2023-01-08T19:22:17.549Z"
   },
   {
    "duration": 0,
    "start_time": "2023-01-08T19:22:17.550Z"
   },
   {
    "duration": 0,
    "start_time": "2023-01-08T19:22:17.551Z"
   },
   {
    "duration": 0,
    "start_time": "2023-01-08T19:22:17.552Z"
   },
   {
    "duration": 0,
    "start_time": "2023-01-08T19:22:17.553Z"
   },
   {
    "duration": 0,
    "start_time": "2023-01-08T19:22:17.554Z"
   },
   {
    "duration": 0,
    "start_time": "2023-01-08T19:22:17.555Z"
   },
   {
    "duration": 0,
    "start_time": "2023-01-08T19:22:17.556Z"
   },
   {
    "duration": 0,
    "start_time": "2023-01-08T19:22:17.558Z"
   },
   {
    "duration": 0,
    "start_time": "2023-01-08T19:22:17.559Z"
   },
   {
    "duration": 0,
    "start_time": "2023-01-08T19:22:17.560Z"
   },
   {
    "duration": 0,
    "start_time": "2023-01-08T19:22:17.561Z"
   },
   {
    "duration": 0,
    "start_time": "2023-01-08T19:22:17.562Z"
   },
   {
    "duration": 0,
    "start_time": "2023-01-08T19:22:17.563Z"
   },
   {
    "duration": 0,
    "start_time": "2023-01-08T19:22:17.565Z"
   },
   {
    "duration": 0,
    "start_time": "2023-01-08T19:22:17.566Z"
   },
   {
    "duration": 0,
    "start_time": "2023-01-08T19:22:17.567Z"
   },
   {
    "duration": 0,
    "start_time": "2023-01-08T19:22:17.568Z"
   },
   {
    "duration": 3,
    "start_time": "2023-01-08T19:23:03.165Z"
   },
   {
    "duration": 50,
    "start_time": "2023-01-08T19:23:03.179Z"
   },
   {
    "duration": 24,
    "start_time": "2023-01-08T19:23:03.231Z"
   },
   {
    "duration": 18,
    "start_time": "2023-01-08T19:23:03.256Z"
   },
   {
    "duration": 6,
    "start_time": "2023-01-08T19:23:03.276Z"
   },
   {
    "duration": 569,
    "start_time": "2023-01-08T19:23:03.284Z"
   },
   {
    "duration": 10,
    "start_time": "2023-01-08T19:23:03.854Z"
   },
   {
    "duration": 12,
    "start_time": "2023-01-08T19:23:03.865Z"
   },
   {
    "duration": 5,
    "start_time": "2023-01-08T19:23:03.879Z"
   },
   {
    "duration": 20,
    "start_time": "2023-01-08T19:23:03.885Z"
   },
   {
    "duration": 4,
    "start_time": "2023-01-08T19:23:03.906Z"
   },
   {
    "duration": 29,
    "start_time": "2023-01-08T19:23:03.911Z"
   },
   {
    "duration": 5,
    "start_time": "2023-01-08T19:23:03.943Z"
   },
   {
    "duration": 6,
    "start_time": "2023-01-08T19:23:03.949Z"
   },
   {
    "duration": 4,
    "start_time": "2023-01-08T19:23:03.957Z"
   },
   {
    "duration": 5,
    "start_time": "2023-01-08T19:23:03.962Z"
   },
   {
    "duration": 5,
    "start_time": "2023-01-08T19:23:03.969Z"
   },
   {
    "duration": 8,
    "start_time": "2023-01-08T19:23:03.975Z"
   },
   {
    "duration": 9,
    "start_time": "2023-01-08T19:23:03.985Z"
   },
   {
    "duration": 11,
    "start_time": "2023-01-08T19:23:03.996Z"
   },
   {
    "duration": 13,
    "start_time": "2023-01-08T19:23:04.008Z"
   },
   {
    "duration": 8,
    "start_time": "2023-01-08T19:23:04.036Z"
   },
   {
    "duration": 26,
    "start_time": "2023-01-08T19:23:04.045Z"
   },
   {
    "duration": 14,
    "start_time": "2023-01-08T19:23:04.072Z"
   },
   {
    "duration": 6,
    "start_time": "2023-01-08T19:23:04.088Z"
   },
   {
    "duration": 14,
    "start_time": "2023-01-08T19:23:04.096Z"
   },
   {
    "duration": 7,
    "start_time": "2023-01-08T19:23:04.135Z"
   },
   {
    "duration": 18,
    "start_time": "2023-01-08T19:23:04.144Z"
   },
   {
    "duration": 559,
    "start_time": "2023-01-08T19:23:04.163Z"
   },
   {
    "duration": 11,
    "start_time": "2023-01-08T19:23:04.724Z"
   },
   {
    "duration": 258,
    "start_time": "2023-01-08T19:23:04.736Z"
   },
   {
    "duration": 187,
    "start_time": "2023-01-08T19:23:04.996Z"
   },
   {
    "duration": 12,
    "start_time": "2023-01-08T19:23:05.187Z"
   },
   {
    "duration": 5,
    "start_time": "2023-01-08T19:23:05.201Z"
   },
   {
    "duration": 10,
    "start_time": "2023-01-08T19:23:05.207Z"
   },
   {
    "duration": 21,
    "start_time": "2023-01-08T19:23:05.218Z"
   },
   {
    "duration": 226,
    "start_time": "2023-01-08T19:23:05.241Z"
   },
   {
    "duration": 209,
    "start_time": "2023-01-08T19:23:05.469Z"
   },
   {
    "duration": 6,
    "start_time": "2023-01-08T19:23:05.680Z"
   },
   {
    "duration": 8,
    "start_time": "2023-01-08T19:23:05.688Z"
   },
   {
    "duration": 8,
    "start_time": "2023-01-08T19:23:05.698Z"
   },
   {
    "duration": 230,
    "start_time": "2023-01-08T19:23:05.708Z"
   },
   {
    "duration": 221,
    "start_time": "2023-01-08T19:23:05.940Z"
   },
   {
    "duration": 13,
    "start_time": "2023-01-08T19:23:06.162Z"
   },
   {
    "duration": 184,
    "start_time": "2023-01-08T19:23:06.177Z"
   },
   {
    "duration": 16,
    "start_time": "2023-01-08T19:23:06.362Z"
   },
   {
    "duration": 227,
    "start_time": "2023-01-08T19:23:06.380Z"
   },
   {
    "duration": 256,
    "start_time": "2023-01-08T19:23:06.609Z"
   },
   {
    "duration": 225,
    "start_time": "2023-01-08T19:23:06.867Z"
   },
   {
    "duration": 17,
    "start_time": "2023-01-08T19:23:07.094Z"
   },
   {
    "duration": 322,
    "start_time": "2023-01-08T19:23:07.113Z"
   },
   {
    "duration": 330,
    "start_time": "2023-01-08T19:23:07.437Z"
   },
   {
    "duration": 339,
    "start_time": "2023-01-08T19:23:07.769Z"
   },
   {
    "duration": 16,
    "start_time": "2023-01-08T19:23:08.109Z"
   },
   {
    "duration": 161,
    "start_time": "2023-01-08T19:23:08.135Z"
   },
   {
    "duration": 147,
    "start_time": "2023-01-08T19:23:08.298Z"
   },
   {
    "duration": 150,
    "start_time": "2023-01-08T19:23:08.447Z"
   },
   {
    "duration": 138,
    "start_time": "2023-01-08T19:23:08.599Z"
   },
   {
    "duration": 3,
    "start_time": "2023-01-08T19:23:08.739Z"
   },
   {
    "duration": 6,
    "start_time": "2023-01-08T19:37:22.547Z"
   },
   {
    "duration": 6,
    "start_time": "2023-01-08T19:37:27.987Z"
   },
   {
    "duration": 225,
    "start_time": "2023-01-08T19:37:49.589Z"
   },
   {
    "duration": 217,
    "start_time": "2023-01-08T19:38:10.185Z"
   },
   {
    "duration": 6,
    "start_time": "2023-01-08T19:44:45.414Z"
   },
   {
    "duration": 11,
    "start_time": "2023-01-08T19:47:57.896Z"
   },
   {
    "duration": 9,
    "start_time": "2023-01-08T19:49:16.059Z"
   },
   {
    "duration": 14,
    "start_time": "2023-01-08T19:49:16.780Z"
   },
   {
    "duration": 9,
    "start_time": "2023-01-08T19:50:20.875Z"
   },
   {
    "duration": 9,
    "start_time": "2023-01-08T19:50:39.382Z"
   },
   {
    "duration": 12,
    "start_time": "2023-01-08T19:50:39.902Z"
   },
   {
    "duration": 31,
    "start_time": "2023-01-08T19:51:54.177Z"
   },
   {
    "duration": 10,
    "start_time": "2023-01-08T19:51:54.583Z"
   },
   {
    "duration": 12,
    "start_time": "2023-01-08T19:52:09.941Z"
   },
   {
    "duration": 11,
    "start_time": "2023-01-08T19:52:11.316Z"
   },
   {
    "duration": 27,
    "start_time": "2023-01-08T19:54:05.563Z"
   },
   {
    "duration": 11,
    "start_time": "2023-01-08T19:54:44.622Z"
   },
   {
    "duration": 19,
    "start_time": "2023-01-08T19:55:03.687Z"
   },
   {
    "duration": 12,
    "start_time": "2023-01-08T19:55:45.221Z"
   },
   {
    "duration": 11,
    "start_time": "2023-01-08T19:55:47.679Z"
   },
   {
    "duration": 18,
    "start_time": "2023-01-08T19:56:29.523Z"
   },
   {
    "duration": 27,
    "start_time": "2023-01-08T19:56:45.702Z"
   },
   {
    "duration": 22,
    "start_time": "2023-01-08T19:57:02.475Z"
   },
   {
    "duration": 12,
    "start_time": "2023-01-08T19:57:06.749Z"
   },
   {
    "duration": 14,
    "start_time": "2023-01-08T19:57:17.998Z"
   },
   {
    "duration": 11,
    "start_time": "2023-01-08T19:57:23.534Z"
   },
   {
    "duration": 9,
    "start_time": "2023-01-08T19:58:34.636Z"
   },
   {
    "duration": 5,
    "start_time": "2023-01-08T19:58:35.534Z"
   },
   {
    "duration": 8,
    "start_time": "2023-01-08T19:58:57.484Z"
   },
   {
    "duration": 5,
    "start_time": "2023-01-08T19:58:58.160Z"
   },
   {
    "duration": 6,
    "start_time": "2023-01-08T20:01:20.771Z"
   },
   {
    "duration": 11,
    "start_time": "2023-01-08T20:01:25.625Z"
   },
   {
    "duration": 21,
    "start_time": "2023-01-08T20:01:30.738Z"
   },
   {
    "duration": 8,
    "start_time": "2023-01-08T20:02:03.163Z"
   },
   {
    "duration": 6,
    "start_time": "2023-01-08T20:04:53.949Z"
   },
   {
    "duration": 26,
    "start_time": "2023-01-08T20:05:06.291Z"
   },
   {
    "duration": 34,
    "start_time": "2023-01-08T20:06:04.670Z"
   },
   {
    "duration": 27,
    "start_time": "2023-01-08T20:06:09.242Z"
   },
   {
    "duration": 5,
    "start_time": "2023-01-08T20:06:39.240Z"
   },
   {
    "duration": 6,
    "start_time": "2023-01-08T20:08:53.058Z"
   },
   {
    "duration": 5,
    "start_time": "2023-01-08T20:11:09.711Z"
   },
   {
    "duration": 10,
    "start_time": "2023-01-08T20:12:40.557Z"
   },
   {
    "duration": 11,
    "start_time": "2023-01-08T20:13:06.210Z"
   },
   {
    "duration": 5,
    "start_time": "2023-01-08T20:13:11.969Z"
   },
   {
    "duration": 13,
    "start_time": "2023-01-08T20:13:24.836Z"
   },
   {
    "duration": 5,
    "start_time": "2023-01-08T20:13:25.350Z"
   },
   {
    "duration": 10,
    "start_time": "2023-01-08T20:15:57.966Z"
   },
   {
    "duration": 5,
    "start_time": "2023-01-08T20:15:58.409Z"
   },
   {
    "duration": 8,
    "start_time": "2023-01-08T20:16:12.713Z"
   },
   {
    "duration": 5,
    "start_time": "2023-01-08T20:16:13.456Z"
   },
   {
    "duration": 9,
    "start_time": "2023-01-08T20:16:18.241Z"
   },
   {
    "duration": 6,
    "start_time": "2023-01-08T20:16:19.770Z"
   },
   {
    "duration": 9,
    "start_time": "2023-01-08T20:16:22.841Z"
   },
   {
    "duration": 6,
    "start_time": "2023-01-08T20:16:23.354Z"
   },
   {
    "duration": 11,
    "start_time": "2023-01-08T20:16:33.852Z"
   },
   {
    "duration": 6,
    "start_time": "2023-01-08T20:16:34.776Z"
   },
   {
    "duration": 6,
    "start_time": "2023-01-08T20:17:01.237Z"
   },
   {
    "duration": 7,
    "start_time": "2023-01-08T20:17:04.274Z"
   },
   {
    "duration": 5,
    "start_time": "2023-01-08T20:17:09.016Z"
   },
   {
    "duration": 5,
    "start_time": "2023-01-08T20:21:11.118Z"
   },
   {
    "duration": 5,
    "start_time": "2023-01-08T20:36:57.014Z"
   },
   {
    "duration": 5,
    "start_time": "2023-01-08T20:37:00.550Z"
   },
   {
    "duration": 3,
    "start_time": "2023-01-08T20:58:48.743Z"
   },
   {
    "duration": 59,
    "start_time": "2023-01-08T20:58:48.748Z"
   },
   {
    "duration": 24,
    "start_time": "2023-01-08T20:58:48.809Z"
   },
   {
    "duration": 18,
    "start_time": "2023-01-08T20:58:48.835Z"
   },
   {
    "duration": 13,
    "start_time": "2023-01-08T20:58:48.855Z"
   },
   {
    "duration": 618,
    "start_time": "2023-01-08T20:58:48.870Z"
   },
   {
    "duration": 10,
    "start_time": "2023-01-08T20:58:49.490Z"
   },
   {
    "duration": 18,
    "start_time": "2023-01-08T20:58:49.501Z"
   },
   {
    "duration": 15,
    "start_time": "2023-01-08T20:58:49.521Z"
   },
   {
    "duration": 20,
    "start_time": "2023-01-08T20:58:49.538Z"
   },
   {
    "duration": 4,
    "start_time": "2023-01-08T20:58:49.560Z"
   },
   {
    "duration": 15,
    "start_time": "2023-01-08T20:58:49.566Z"
   },
   {
    "duration": 11,
    "start_time": "2023-01-08T20:58:49.582Z"
   },
   {
    "duration": 9,
    "start_time": "2023-01-08T20:58:49.596Z"
   },
   {
    "duration": 7,
    "start_time": "2023-01-08T20:58:49.607Z"
   },
   {
    "duration": 21,
    "start_time": "2023-01-08T20:58:49.616Z"
   },
   {
    "duration": 3,
    "start_time": "2023-01-08T20:58:49.639Z"
   },
   {
    "duration": 17,
    "start_time": "2023-01-08T20:58:49.644Z"
   },
   {
    "duration": 11,
    "start_time": "2023-01-08T20:58:49.663Z"
   },
   {
    "duration": 11,
    "start_time": "2023-01-08T20:58:49.676Z"
   },
   {
    "duration": 6,
    "start_time": "2023-01-08T20:58:49.688Z"
   },
   {
    "duration": 17,
    "start_time": "2023-01-08T20:58:49.696Z"
   },
   {
    "duration": 33,
    "start_time": "2023-01-08T20:58:49.715Z"
   },
   {
    "duration": 7,
    "start_time": "2023-01-08T20:58:49.750Z"
   },
   {
    "duration": 19,
    "start_time": "2023-01-08T20:58:49.759Z"
   },
   {
    "duration": 8,
    "start_time": "2023-01-08T20:58:49.780Z"
   },
   {
    "duration": 46,
    "start_time": "2023-01-08T20:58:49.790Z"
   },
   {
    "duration": 972,
    "start_time": "2023-01-08T20:58:49.838Z"
   },
   {
    "duration": 6,
    "start_time": "2023-01-08T20:58:50.812Z"
   },
   {
    "duration": 276,
    "start_time": "2023-01-08T20:58:50.819Z"
   },
   {
    "duration": 213,
    "start_time": "2023-01-08T20:58:51.097Z"
   },
   {
    "duration": 13,
    "start_time": "2023-01-08T20:58:51.312Z"
   },
   {
    "duration": 5,
    "start_time": "2023-01-08T20:58:51.335Z"
   },
   {
    "duration": 7,
    "start_time": "2023-01-08T20:58:51.342Z"
   },
   {
    "duration": 6,
    "start_time": "2023-01-08T20:58:51.350Z"
   },
   {
    "duration": 224,
    "start_time": "2023-01-08T20:58:51.357Z"
   },
   {
    "duration": 214,
    "start_time": "2023-01-08T20:58:51.583Z"
   },
   {
    "duration": 6,
    "start_time": "2023-01-08T20:58:51.799Z"
   },
   {
    "duration": 8,
    "start_time": "2023-01-08T20:58:51.806Z"
   },
   {
    "duration": 20,
    "start_time": "2023-01-08T20:58:51.816Z"
   },
   {
    "duration": 209,
    "start_time": "2023-01-08T20:58:51.840Z"
   },
   {
    "duration": 226,
    "start_time": "2023-01-08T20:58:52.050Z"
   },
   {
    "duration": 6,
    "start_time": "2023-01-08T20:58:52.278Z"
   },
   {
    "duration": 264,
    "start_time": "2023-01-08T20:58:52.285Z"
   },
   {
    "duration": 220,
    "start_time": "2023-01-08T20:58:52.551Z"
   },
   {
    "duration": 14,
    "start_time": "2023-01-08T20:58:52.772Z"
   },
   {
    "duration": 179,
    "start_time": "2023-01-08T20:58:52.788Z"
   },
   {
    "duration": 15,
    "start_time": "2023-01-08T20:58:52.969Z"
   },
   {
    "duration": 202,
    "start_time": "2023-01-08T20:58:52.986Z"
   },
   {
    "duration": 200,
    "start_time": "2023-01-08T20:58:53.190Z"
   },
   {
    "duration": 195,
    "start_time": "2023-01-08T20:58:53.392Z"
   },
   {
    "duration": 16,
    "start_time": "2023-01-08T20:58:53.589Z"
   },
   {
    "duration": 302,
    "start_time": "2023-01-08T20:58:53.606Z"
   },
   {
    "duration": 297,
    "start_time": "2023-01-08T20:58:53.909Z"
   },
   {
    "duration": 291,
    "start_time": "2023-01-08T20:58:54.207Z"
   },
   {
    "duration": 14,
    "start_time": "2023-01-08T20:58:54.500Z"
   },
   {
    "duration": 146,
    "start_time": "2023-01-08T20:58:54.515Z"
   },
   {
    "duration": 140,
    "start_time": "2023-01-08T20:58:54.663Z"
   },
   {
    "duration": 143,
    "start_time": "2023-01-08T20:58:54.805Z"
   },
   {
    "duration": 141,
    "start_time": "2023-01-08T20:58:54.950Z"
   },
   {
    "duration": 7,
    "start_time": "2023-01-08T20:58:55.093Z"
   },
   {
    "duration": 8,
    "start_time": "2023-01-08T20:58:55.102Z"
   },
   {
    "duration": 25,
    "start_time": "2023-01-08T20:58:55.111Z"
   },
   {
    "duration": 6,
    "start_time": "2023-01-08T20:58:55.137Z"
   },
   {
    "duration": 3,
    "start_time": "2023-01-08T21:02:52.187Z"
   },
   {
    "duration": 53,
    "start_time": "2023-01-08T21:02:52.201Z"
   },
   {
    "duration": 24,
    "start_time": "2023-01-08T21:02:52.255Z"
   },
   {
    "duration": 16,
    "start_time": "2023-01-08T21:02:52.280Z"
   },
   {
    "duration": 4,
    "start_time": "2023-01-08T21:02:52.298Z"
   },
   {
    "duration": 593,
    "start_time": "2023-01-08T21:02:52.303Z"
   },
   {
    "duration": 9,
    "start_time": "2023-01-08T21:02:52.897Z"
   },
   {
    "duration": 13,
    "start_time": "2023-01-08T21:02:52.907Z"
   },
   {
    "duration": 16,
    "start_time": "2023-01-08T21:02:52.921Z"
   },
   {
    "duration": 18,
    "start_time": "2023-01-08T21:02:52.939Z"
   },
   {
    "duration": 3,
    "start_time": "2023-01-08T21:02:52.960Z"
   },
   {
    "duration": 6,
    "start_time": "2023-01-08T21:02:52.965Z"
   },
   {
    "duration": 5,
    "start_time": "2023-01-08T21:02:52.972Z"
   },
   {
    "duration": 6,
    "start_time": "2023-01-08T21:02:52.978Z"
   },
   {
    "duration": 4,
    "start_time": "2023-01-08T21:02:52.986Z"
   },
   {
    "duration": 7,
    "start_time": "2023-01-08T21:02:52.992Z"
   },
   {
    "duration": 9,
    "start_time": "2023-01-08T21:02:53.000Z"
   },
   {
    "duration": 6,
    "start_time": "2023-01-08T21:02:53.036Z"
   },
   {
    "duration": 10,
    "start_time": "2023-01-08T21:02:53.043Z"
   },
   {
    "duration": 5,
    "start_time": "2023-01-08T21:02:53.054Z"
   },
   {
    "duration": 6,
    "start_time": "2023-01-08T21:02:53.061Z"
   },
   {
    "duration": 15,
    "start_time": "2023-01-08T21:02:53.069Z"
   },
   {
    "duration": 15,
    "start_time": "2023-01-08T21:02:53.085Z"
   },
   {
    "duration": 8,
    "start_time": "2023-01-08T21:02:53.135Z"
   },
   {
    "duration": 19,
    "start_time": "2023-01-08T21:02:53.145Z"
   },
   {
    "duration": 9,
    "start_time": "2023-01-08T21:02:53.166Z"
   },
   {
    "duration": 18,
    "start_time": "2023-01-08T21:02:53.176Z"
   },
   {
    "duration": 546,
    "start_time": "2023-01-08T21:02:53.196Z"
   },
   {
    "duration": 10,
    "start_time": "2023-01-08T21:02:53.747Z"
   },
   {
    "duration": 246,
    "start_time": "2023-01-08T21:02:53.759Z"
   },
   {
    "duration": 185,
    "start_time": "2023-01-08T21:02:54.007Z"
   },
   {
    "duration": 12,
    "start_time": "2023-01-08T21:02:54.194Z"
   },
   {
    "duration": 5,
    "start_time": "2023-01-08T21:02:54.207Z"
   },
   {
    "duration": 24,
    "start_time": "2023-01-08T21:02:54.213Z"
   },
   {
    "duration": 5,
    "start_time": "2023-01-08T21:02:54.238Z"
   },
   {
    "duration": 221,
    "start_time": "2023-01-08T21:02:54.244Z"
   },
   {
    "duration": 204,
    "start_time": "2023-01-08T21:02:54.467Z"
   },
   {
    "duration": 5,
    "start_time": "2023-01-08T21:02:54.672Z"
   },
   {
    "duration": 19,
    "start_time": "2023-01-08T21:02:54.679Z"
   },
   {
    "duration": 6,
    "start_time": "2023-01-08T21:02:54.700Z"
   },
   {
    "duration": 198,
    "start_time": "2023-01-08T21:02:54.707Z"
   },
   {
    "duration": 218,
    "start_time": "2023-01-08T21:02:54.907Z"
   },
   {
    "duration": 10,
    "start_time": "2023-01-08T21:02:55.126Z"
   },
   {
    "duration": 227,
    "start_time": "2023-01-08T21:02:55.137Z"
   },
   {
    "duration": 213,
    "start_time": "2023-01-08T21:02:55.366Z"
   },
   {
    "duration": 13,
    "start_time": "2023-01-08T21:02:55.581Z"
   },
   {
    "duration": 188,
    "start_time": "2023-01-08T21:02:55.596Z"
   },
   {
    "duration": 16,
    "start_time": "2023-01-08T21:02:55.785Z"
   },
   {
    "duration": 223,
    "start_time": "2023-01-08T21:02:55.802Z"
   },
   {
    "duration": 224,
    "start_time": "2023-01-08T21:02:56.027Z"
   },
   {
    "duration": 203,
    "start_time": "2023-01-08T21:02:56.252Z"
   },
   {
    "duration": 16,
    "start_time": "2023-01-08T21:02:56.457Z"
   },
   {
    "duration": 334,
    "start_time": "2023-01-08T21:02:56.474Z"
   },
   {
    "duration": 320,
    "start_time": "2023-01-08T21:02:56.810Z"
   },
   {
    "duration": 327,
    "start_time": "2023-01-08T21:02:57.132Z"
   },
   {
    "duration": 15,
    "start_time": "2023-01-08T21:02:57.461Z"
   },
   {
    "duration": 160,
    "start_time": "2023-01-08T21:02:57.477Z"
   },
   {
    "duration": 140,
    "start_time": "2023-01-08T21:02:57.639Z"
   },
   {
    "duration": 137,
    "start_time": "2023-01-08T21:02:57.781Z"
   },
   {
    "duration": 136,
    "start_time": "2023-01-08T21:02:57.920Z"
   },
   {
    "duration": 9,
    "start_time": "2023-01-08T21:02:58.059Z"
   },
   {
    "duration": 5,
    "start_time": "2023-01-08T21:02:58.069Z"
   },
   {
    "duration": 15,
    "start_time": "2023-01-08T21:02:58.076Z"
   },
   {
    "duration": 5,
    "start_time": "2023-01-08T21:02:58.093Z"
   },
   {
    "duration": 53,
    "start_time": "2023-01-08T21:21:20.030Z"
   },
   {
    "duration": 8,
    "start_time": "2023-01-08T21:21:20.438Z"
   },
   {
    "duration": 1312,
    "start_time": "2023-01-08T21:21:27.849Z"
   },
   {
    "duration": 181,
    "start_time": "2023-01-08T21:21:29.163Z"
   },
   {
    "duration": 28,
    "start_time": "2023-01-08T21:21:29.346Z"
   },
   {
    "duration": 15,
    "start_time": "2023-01-08T21:21:29.376Z"
   },
   {
    "duration": 5,
    "start_time": "2023-01-08T21:21:29.393Z"
   },
   {
    "duration": 574,
    "start_time": "2023-01-08T21:21:29.399Z"
   },
   {
    "duration": 10,
    "start_time": "2023-01-08T21:21:29.977Z"
   },
   {
    "duration": 16,
    "start_time": "2023-01-08T21:21:29.988Z"
   },
   {
    "duration": 6,
    "start_time": "2023-01-08T21:21:30.006Z"
   },
   {
    "duration": 35,
    "start_time": "2023-01-08T21:21:30.014Z"
   },
   {
    "duration": 31,
    "start_time": "2023-01-08T21:21:30.051Z"
   },
   {
    "duration": 40,
    "start_time": "2023-01-08T21:21:30.084Z"
   },
   {
    "duration": 14,
    "start_time": "2023-01-08T21:21:30.126Z"
   },
   {
    "duration": 19,
    "start_time": "2023-01-08T21:21:30.145Z"
   },
   {
    "duration": 24,
    "start_time": "2023-01-08T21:21:30.165Z"
   },
   {
    "duration": 24,
    "start_time": "2023-01-08T21:21:30.191Z"
   },
   {
    "duration": 29,
    "start_time": "2023-01-08T21:21:30.217Z"
   },
   {
    "duration": 24,
    "start_time": "2023-01-08T21:21:30.248Z"
   },
   {
    "duration": 41,
    "start_time": "2023-01-08T21:21:30.275Z"
   },
   {
    "duration": 61,
    "start_time": "2023-01-08T21:21:30.318Z"
   },
   {
    "duration": 26,
    "start_time": "2023-01-08T21:21:30.381Z"
   },
   {
    "duration": 50,
    "start_time": "2023-01-08T21:21:30.409Z"
   },
   {
    "duration": 28,
    "start_time": "2023-01-08T21:21:30.461Z"
   },
   {
    "duration": 19,
    "start_time": "2023-01-08T21:21:30.491Z"
   },
   {
    "duration": 28,
    "start_time": "2023-01-08T21:21:30.512Z"
   },
   {
    "duration": 27,
    "start_time": "2023-01-08T21:21:30.542Z"
   },
   {
    "duration": 46,
    "start_time": "2023-01-08T21:21:30.571Z"
   },
   {
    "duration": 593,
    "start_time": "2023-01-08T21:21:30.620Z"
   },
   {
    "duration": 6,
    "start_time": "2023-01-08T21:21:31.215Z"
   },
   {
    "duration": 263,
    "start_time": "2023-01-08T21:21:31.223Z"
   },
   {
    "duration": 277,
    "start_time": "2023-01-08T21:21:31.487Z"
   },
   {
    "duration": 22,
    "start_time": "2023-01-08T21:21:31.766Z"
   },
   {
    "duration": 5,
    "start_time": "2023-01-08T21:21:31.790Z"
   },
   {
    "duration": 9,
    "start_time": "2023-01-08T21:21:31.797Z"
   },
   {
    "duration": 9,
    "start_time": "2023-01-08T21:21:31.807Z"
   },
   {
    "duration": 256,
    "start_time": "2023-01-08T21:21:31.818Z"
   },
   {
    "duration": 247,
    "start_time": "2023-01-08T21:21:32.077Z"
   },
   {
    "duration": 5,
    "start_time": "2023-01-08T21:21:32.326Z"
   },
   {
    "duration": 10,
    "start_time": "2023-01-08T21:21:32.333Z"
   },
   {
    "duration": 7,
    "start_time": "2023-01-08T21:21:32.344Z"
   },
   {
    "duration": 223,
    "start_time": "2023-01-08T21:21:32.355Z"
   },
   {
    "duration": 231,
    "start_time": "2023-01-08T21:21:32.579Z"
   },
   {
    "duration": 5,
    "start_time": "2023-01-08T21:21:32.812Z"
   },
   {
    "duration": 235,
    "start_time": "2023-01-08T21:21:32.819Z"
   },
   {
    "duration": 251,
    "start_time": "2023-01-08T21:21:33.056Z"
   },
   {
    "duration": 15,
    "start_time": "2023-01-08T21:21:33.309Z"
   },
   {
    "duration": 195,
    "start_time": "2023-01-08T21:21:33.326Z"
   },
   {
    "duration": 16,
    "start_time": "2023-01-08T21:21:33.522Z"
   },
   {
    "duration": 222,
    "start_time": "2023-01-08T21:21:33.540Z"
   },
   {
    "duration": 265,
    "start_time": "2023-01-08T21:21:33.764Z"
   },
   {
    "duration": 260,
    "start_time": "2023-01-08T21:21:34.030Z"
   },
   {
    "duration": 18,
    "start_time": "2023-01-08T21:21:34.292Z"
   },
   {
    "duration": 459,
    "start_time": "2023-01-08T21:21:34.311Z"
   },
   {
    "duration": 330,
    "start_time": "2023-01-08T21:21:34.772Z"
   },
   {
    "duration": 330,
    "start_time": "2023-01-08T21:21:35.104Z"
   },
   {
    "duration": 19,
    "start_time": "2023-01-08T21:21:35.437Z"
   },
   {
    "duration": 183,
    "start_time": "2023-01-08T21:21:35.458Z"
   },
   {
    "duration": 180,
    "start_time": "2023-01-08T21:21:35.643Z"
   },
   {
    "duration": 141,
    "start_time": "2023-01-08T21:21:35.825Z"
   },
   {
    "duration": 147,
    "start_time": "2023-01-08T21:21:35.968Z"
   },
   {
    "duration": 8,
    "start_time": "2023-01-08T21:21:36.117Z"
   },
   {
    "duration": 71,
    "start_time": "2023-01-08T21:21:36.127Z"
   },
   {
    "duration": 0,
    "start_time": "2023-01-08T21:21:36.200Z"
   },
   {
    "duration": 0,
    "start_time": "2023-01-08T21:21:36.202Z"
   },
   {
    "duration": 4,
    "start_time": "2023-01-08T21:22:21.612Z"
   },
   {
    "duration": 67,
    "start_time": "2023-01-08T21:22:21.619Z"
   },
   {
    "duration": 25,
    "start_time": "2023-01-08T21:22:21.688Z"
   },
   {
    "duration": 29,
    "start_time": "2023-01-08T21:22:21.715Z"
   },
   {
    "duration": 12,
    "start_time": "2023-01-08T21:22:21.746Z"
   },
   {
    "duration": 627,
    "start_time": "2023-01-08T21:22:21.760Z"
   },
   {
    "duration": 10,
    "start_time": "2023-01-08T21:22:22.389Z"
   },
   {
    "duration": 16,
    "start_time": "2023-01-08T21:22:22.400Z"
   },
   {
    "duration": 6,
    "start_time": "2023-01-08T21:22:22.417Z"
   },
   {
    "duration": 23,
    "start_time": "2023-01-08T21:22:22.426Z"
   },
   {
    "duration": 28,
    "start_time": "2023-01-08T21:22:22.451Z"
   },
   {
    "duration": 7,
    "start_time": "2023-01-08T21:22:22.481Z"
   },
   {
    "duration": 7,
    "start_time": "2023-01-08T21:22:22.489Z"
   },
   {
    "duration": 14,
    "start_time": "2023-01-08T21:22:22.498Z"
   },
   {
    "duration": 6,
    "start_time": "2023-01-08T21:22:22.514Z"
   },
   {
    "duration": 7,
    "start_time": "2023-01-08T21:22:22.522Z"
   },
   {
    "duration": 6,
    "start_time": "2023-01-08T21:22:22.531Z"
   },
   {
    "duration": 11,
    "start_time": "2023-01-08T21:22:22.539Z"
   },
   {
    "duration": 30,
    "start_time": "2023-01-08T21:22:22.552Z"
   },
   {
    "duration": 6,
    "start_time": "2023-01-08T21:22:22.584Z"
   },
   {
    "duration": 10,
    "start_time": "2023-01-08T21:22:22.592Z"
   },
   {
    "duration": 17,
    "start_time": "2023-01-08T21:22:22.604Z"
   },
   {
    "duration": 16,
    "start_time": "2023-01-08T21:22:22.622Z"
   },
   {
    "duration": 13,
    "start_time": "2023-01-08T21:22:22.640Z"
   },
   {
    "duration": 37,
    "start_time": "2023-01-08T21:22:22.655Z"
   },
   {
    "duration": 7,
    "start_time": "2023-01-08T21:22:22.694Z"
   },
   {
    "duration": 25,
    "start_time": "2023-01-08T21:22:22.703Z"
   },
   {
    "duration": 680,
    "start_time": "2023-01-08T21:22:22.732Z"
   },
   {
    "duration": 7,
    "start_time": "2023-01-08T21:22:23.414Z"
   },
   {
    "duration": 254,
    "start_time": "2023-01-08T21:22:23.422Z"
   },
   {
    "duration": 206,
    "start_time": "2023-01-08T21:22:23.678Z"
   },
   {
    "duration": 17,
    "start_time": "2023-01-08T21:22:23.886Z"
   },
   {
    "duration": 7,
    "start_time": "2023-01-08T21:22:23.904Z"
   },
   {
    "duration": 11,
    "start_time": "2023-01-08T21:22:23.912Z"
   },
   {
    "duration": 34,
    "start_time": "2023-01-08T21:22:23.926Z"
   },
   {
    "duration": 269,
    "start_time": "2023-01-08T21:22:23.962Z"
   },
   {
    "duration": 240,
    "start_time": "2023-01-08T21:22:24.234Z"
   },
   {
    "duration": 6,
    "start_time": "2023-01-08T21:22:24.478Z"
   },
   {
    "duration": 27,
    "start_time": "2023-01-08T21:22:24.485Z"
   },
   {
    "duration": 9,
    "start_time": "2023-01-08T21:22:24.514Z"
   },
   {
    "duration": 202,
    "start_time": "2023-01-08T21:22:24.526Z"
   },
   {
    "duration": 231,
    "start_time": "2023-01-08T21:22:24.730Z"
   },
   {
    "duration": 7,
    "start_time": "2023-01-08T21:22:24.963Z"
   },
   {
    "duration": 248,
    "start_time": "2023-01-08T21:22:24.979Z"
   },
   {
    "duration": 231,
    "start_time": "2023-01-08T21:22:25.228Z"
   },
   {
    "duration": 22,
    "start_time": "2023-01-08T21:22:25.460Z"
   },
   {
    "duration": 196,
    "start_time": "2023-01-08T21:22:25.484Z"
   },
   {
    "duration": 16,
    "start_time": "2023-01-08T21:22:25.683Z"
   },
   {
    "duration": 258,
    "start_time": "2023-01-08T21:22:25.700Z"
   },
   {
    "duration": 234,
    "start_time": "2023-01-08T21:22:25.960Z"
   },
   {
    "duration": 252,
    "start_time": "2023-01-08T21:22:26.196Z"
   },
   {
    "duration": 29,
    "start_time": "2023-01-08T21:22:26.450Z"
   },
   {
    "duration": 362,
    "start_time": "2023-01-08T21:22:26.481Z"
   },
   {
    "duration": 544,
    "start_time": "2023-01-08T21:22:26.845Z"
   },
   {
    "duration": 366,
    "start_time": "2023-01-08T21:22:27.391Z"
   },
   {
    "duration": 23,
    "start_time": "2023-01-08T21:22:27.758Z"
   },
   {
    "duration": 183,
    "start_time": "2023-01-08T21:22:27.784Z"
   },
   {
    "duration": 153,
    "start_time": "2023-01-08T21:22:27.970Z"
   },
   {
    "duration": 137,
    "start_time": "2023-01-08T21:22:28.125Z"
   },
   {
    "duration": 155,
    "start_time": "2023-01-08T21:22:28.264Z"
   },
   {
    "duration": 10,
    "start_time": "2023-01-08T21:22:28.421Z"
   },
   {
    "duration": 19,
    "start_time": "2023-01-08T21:22:28.434Z"
   },
   {
    "duration": 24,
    "start_time": "2023-01-08T21:22:28.454Z"
   },
   {
    "duration": 12,
    "start_time": "2023-01-08T21:22:28.480Z"
   },
   {
    "duration": 4,
    "start_time": "2023-01-08T21:23:15.491Z"
   },
   {
    "duration": 70,
    "start_time": "2023-01-08T21:23:15.497Z"
   },
   {
    "duration": 24,
    "start_time": "2023-01-08T21:23:15.569Z"
   },
   {
    "duration": 25,
    "start_time": "2023-01-08T21:23:15.595Z"
   },
   {
    "duration": 6,
    "start_time": "2023-01-08T21:23:15.622Z"
   },
   {
    "duration": 638,
    "start_time": "2023-01-08T21:23:15.630Z"
   },
   {
    "duration": 15,
    "start_time": "2023-01-08T21:23:16.270Z"
   },
   {
    "duration": 10,
    "start_time": "2023-01-08T21:23:16.287Z"
   },
   {
    "duration": 7,
    "start_time": "2023-01-08T21:23:16.300Z"
   },
   {
    "duration": 73,
    "start_time": "2023-01-08T21:23:16.309Z"
   },
   {
    "duration": 7,
    "start_time": "2023-01-08T21:23:16.384Z"
   },
   {
    "duration": 9,
    "start_time": "2023-01-08T21:23:16.393Z"
   },
   {
    "duration": 22,
    "start_time": "2023-01-08T21:23:16.404Z"
   },
   {
    "duration": 7,
    "start_time": "2023-01-08T21:23:16.428Z"
   },
   {
    "duration": 42,
    "start_time": "2023-01-08T21:23:16.437Z"
   },
   {
    "duration": 7,
    "start_time": "2023-01-08T21:23:16.481Z"
   },
   {
    "duration": 4,
    "start_time": "2023-01-08T21:23:16.490Z"
   },
   {
    "duration": 15,
    "start_time": "2023-01-08T21:23:16.496Z"
   },
   {
    "duration": 50,
    "start_time": "2023-01-08T21:23:16.513Z"
   },
   {
    "duration": 14,
    "start_time": "2023-01-08T21:23:16.565Z"
   },
   {
    "duration": 7,
    "start_time": "2023-01-08T21:23:16.581Z"
   },
   {
    "duration": 25,
    "start_time": "2023-01-08T21:23:16.589Z"
   },
   {
    "duration": 64,
    "start_time": "2023-01-08T21:23:16.616Z"
   },
   {
    "duration": 9,
    "start_time": "2023-01-08T21:23:16.684Z"
   },
   {
    "duration": 22,
    "start_time": "2023-01-08T21:23:16.696Z"
   },
   {
    "duration": 11,
    "start_time": "2023-01-08T21:23:16.720Z"
   },
   {
    "duration": 27,
    "start_time": "2023-01-08T21:23:16.778Z"
   },
   {
    "duration": 702,
    "start_time": "2023-01-08T21:23:16.807Z"
   },
   {
    "duration": 8,
    "start_time": "2023-01-08T21:23:17.511Z"
   },
   {
    "duration": 326,
    "start_time": "2023-01-08T21:23:17.521Z"
   },
   {
    "duration": 251,
    "start_time": "2023-01-08T21:23:17.849Z"
   },
   {
    "duration": 21,
    "start_time": "2023-01-08T21:23:18.102Z"
   },
   {
    "duration": 6,
    "start_time": "2023-01-08T21:23:18.126Z"
   },
   {
    "duration": 45,
    "start_time": "2023-01-08T21:23:18.134Z"
   },
   {
    "duration": 6,
    "start_time": "2023-01-08T21:23:18.181Z"
   },
   {
    "duration": 293,
    "start_time": "2023-01-08T21:23:18.189Z"
   },
   {
    "duration": 263,
    "start_time": "2023-01-08T21:23:18.484Z"
   },
   {
    "duration": 7,
    "start_time": "2023-01-08T21:23:18.749Z"
   },
   {
    "duration": 24,
    "start_time": "2023-01-08T21:23:18.758Z"
   },
   {
    "duration": 12,
    "start_time": "2023-01-08T21:23:18.785Z"
   },
   {
    "duration": 499,
    "start_time": "2023-01-08T21:23:18.799Z"
   },
   {
    "duration": 302,
    "start_time": "2023-01-08T21:23:19.300Z"
   },
   {
    "duration": 6,
    "start_time": "2023-01-08T21:23:19.604Z"
   },
   {
    "duration": 273,
    "start_time": "2023-01-08T21:23:19.612Z"
   },
   {
    "duration": 275,
    "start_time": "2023-01-08T21:23:19.887Z"
   },
   {
    "duration": 28,
    "start_time": "2023-01-08T21:23:20.164Z"
   },
   {
    "duration": 239,
    "start_time": "2023-01-08T21:23:20.194Z"
   },
   {
    "duration": 22,
    "start_time": "2023-01-08T21:23:20.435Z"
   },
   {
    "duration": 255,
    "start_time": "2023-01-08T21:23:20.478Z"
   },
   {
    "duration": 270,
    "start_time": "2023-01-08T21:23:20.734Z"
   },
   {
    "duration": 243,
    "start_time": "2023-01-08T21:23:21.006Z"
   },
   {
    "duration": 39,
    "start_time": "2023-01-08T21:23:21.251Z"
   },
   {
    "duration": 315,
    "start_time": "2023-01-08T21:23:21.291Z"
   },
   {
    "duration": 369,
    "start_time": "2023-01-08T21:23:21.608Z"
   },
   {
    "duration": 356,
    "start_time": "2023-01-08T21:23:21.980Z"
   },
   {
    "duration": 18,
    "start_time": "2023-01-08T21:23:22.339Z"
   },
   {
    "duration": 229,
    "start_time": "2023-01-08T21:23:22.358Z"
   },
   {
    "duration": 197,
    "start_time": "2023-01-08T21:23:22.589Z"
   },
   {
    "duration": 168,
    "start_time": "2023-01-08T21:23:22.789Z"
   },
   {
    "duration": 198,
    "start_time": "2023-01-08T21:23:22.959Z"
   },
   {
    "duration": 23,
    "start_time": "2023-01-08T21:23:23.159Z"
   },
   {
    "duration": 6,
    "start_time": "2023-01-08T21:23:23.184Z"
   },
   {
    "duration": 19,
    "start_time": "2023-01-08T21:23:23.191Z"
   },
   {
    "duration": 6,
    "start_time": "2023-01-08T21:23:23.212Z"
   },
   {
    "duration": 10,
    "start_time": "2023-01-08T21:25:57.130Z"
   },
   {
    "duration": 6,
    "start_time": "2023-01-08T21:25:57.992Z"
   },
   {
    "duration": 4,
    "start_time": "2023-01-08T21:27:24.278Z"
   },
   {
    "duration": 71,
    "start_time": "2023-01-08T21:27:24.285Z"
   },
   {
    "duration": 29,
    "start_time": "2023-01-08T21:27:24.358Z"
   },
   {
    "duration": 21,
    "start_time": "2023-01-08T21:27:24.389Z"
   },
   {
    "duration": 6,
    "start_time": "2023-01-08T21:27:24.412Z"
   },
   {
    "duration": 631,
    "start_time": "2023-01-08T21:27:24.420Z"
   },
   {
    "duration": 27,
    "start_time": "2023-01-08T21:27:25.053Z"
   },
   {
    "duration": 14,
    "start_time": "2023-01-08T21:27:25.082Z"
   },
   {
    "duration": 10,
    "start_time": "2023-01-08T21:27:25.097Z"
   },
   {
    "duration": 31,
    "start_time": "2023-01-08T21:27:25.108Z"
   },
   {
    "duration": 41,
    "start_time": "2023-01-08T21:27:25.141Z"
   },
   {
    "duration": 17,
    "start_time": "2023-01-08T21:27:25.184Z"
   },
   {
    "duration": 4,
    "start_time": "2023-01-08T21:27:25.203Z"
   },
   {
    "duration": 7,
    "start_time": "2023-01-08T21:27:25.211Z"
   },
   {
    "duration": 6,
    "start_time": "2023-01-08T21:27:25.220Z"
   },
   {
    "duration": 52,
    "start_time": "2023-01-08T21:27:25.227Z"
   },
   {
    "duration": 4,
    "start_time": "2023-01-08T21:27:25.281Z"
   },
   {
    "duration": 26,
    "start_time": "2023-01-08T21:27:25.286Z"
   },
   {
    "duration": 17,
    "start_time": "2023-01-08T21:27:25.314Z"
   },
   {
    "duration": 8,
    "start_time": "2023-01-08T21:27:25.332Z"
   },
   {
    "duration": 8,
    "start_time": "2023-01-08T21:27:25.342Z"
   },
   {
    "duration": 19,
    "start_time": "2023-01-08T21:27:25.378Z"
   },
   {
    "duration": 17,
    "start_time": "2023-01-08T21:27:25.399Z"
   },
   {
    "duration": 8,
    "start_time": "2023-01-08T21:27:25.417Z"
   },
   {
    "duration": 65,
    "start_time": "2023-01-08T21:27:25.427Z"
   },
   {
    "duration": 8,
    "start_time": "2023-01-08T21:27:25.493Z"
   },
   {
    "duration": 22,
    "start_time": "2023-01-08T21:27:25.503Z"
   },
   {
    "duration": 618,
    "start_time": "2023-01-08T21:27:25.527Z"
   },
   {
    "duration": 9,
    "start_time": "2023-01-08T21:27:26.147Z"
   },
   {
    "duration": 483,
    "start_time": "2023-01-08T21:27:26.158Z"
   },
   {
    "duration": 230,
    "start_time": "2023-01-08T21:27:26.643Z"
   },
   {
    "duration": 15,
    "start_time": "2023-01-08T21:27:26.875Z"
   },
   {
    "duration": 5,
    "start_time": "2023-01-08T21:27:26.892Z"
   },
   {
    "duration": 15,
    "start_time": "2023-01-08T21:27:26.898Z"
   },
   {
    "duration": 24,
    "start_time": "2023-01-08T21:27:26.914Z"
   },
   {
    "duration": 262,
    "start_time": "2023-01-08T21:27:26.940Z"
   },
   {
    "duration": 229,
    "start_time": "2023-01-08T21:27:27.204Z"
   },
   {
    "duration": 9,
    "start_time": "2023-01-08T21:27:27.435Z"
   },
   {
    "duration": 14,
    "start_time": "2023-01-08T21:27:27.446Z"
   },
   {
    "duration": 21,
    "start_time": "2023-01-08T21:27:27.462Z"
   },
   {
    "duration": 235,
    "start_time": "2023-01-08T21:27:27.489Z"
   },
   {
    "duration": 250,
    "start_time": "2023-01-08T21:27:27.726Z"
   },
   {
    "duration": 5,
    "start_time": "2023-01-08T21:27:27.978Z"
   },
   {
    "duration": 238,
    "start_time": "2023-01-08T21:27:27.985Z"
   },
   {
    "duration": 241,
    "start_time": "2023-01-08T21:27:28.225Z"
   },
   {
    "duration": 23,
    "start_time": "2023-01-08T21:27:28.467Z"
   },
   {
    "duration": 206,
    "start_time": "2023-01-08T21:27:28.491Z"
   },
   {
    "duration": 20,
    "start_time": "2023-01-08T21:27:28.699Z"
   },
   {
    "duration": 266,
    "start_time": "2023-01-08T21:27:28.721Z"
   },
   {
    "duration": 242,
    "start_time": "2023-01-08T21:27:28.990Z"
   },
   {
    "duration": 263,
    "start_time": "2023-01-08T21:27:29.234Z"
   },
   {
    "duration": 22,
    "start_time": "2023-01-08T21:27:29.499Z"
   },
   {
    "duration": 363,
    "start_time": "2023-01-08T21:27:29.523Z"
   },
   {
    "duration": 378,
    "start_time": "2023-01-08T21:27:29.888Z"
   },
   {
    "duration": 340,
    "start_time": "2023-01-08T21:27:30.268Z"
   },
   {
    "duration": 24,
    "start_time": "2023-01-08T21:27:30.610Z"
   },
   {
    "duration": 217,
    "start_time": "2023-01-08T21:27:30.636Z"
   },
   {
    "duration": 199,
    "start_time": "2023-01-08T21:27:30.855Z"
   },
   {
    "duration": 176,
    "start_time": "2023-01-08T21:27:31.056Z"
   },
   {
    "duration": 145,
    "start_time": "2023-01-08T21:27:31.233Z"
   },
   {
    "duration": 10,
    "start_time": "2023-01-08T21:27:31.380Z"
   },
   {
    "duration": 6,
    "start_time": "2023-01-08T21:27:31.392Z"
   },
   {
    "duration": 13,
    "start_time": "2023-01-08T21:27:31.400Z"
   },
   {
    "duration": 5,
    "start_time": "2023-01-08T21:27:31.415Z"
   },
   {
    "duration": 3,
    "start_time": "2023-01-08T21:29:13.173Z"
   },
   {
    "duration": 62,
    "start_time": "2023-01-08T21:29:13.179Z"
   },
   {
    "duration": 27,
    "start_time": "2023-01-08T21:29:13.243Z"
   },
   {
    "duration": 24,
    "start_time": "2023-01-08T21:29:13.271Z"
   },
   {
    "duration": 5,
    "start_time": "2023-01-08T21:29:13.297Z"
   },
   {
    "duration": 700,
    "start_time": "2023-01-08T21:29:13.304Z"
   },
   {
    "duration": 18,
    "start_time": "2023-01-08T21:29:14.005Z"
   },
   {
    "duration": 17,
    "start_time": "2023-01-08T21:29:14.025Z"
   },
   {
    "duration": 36,
    "start_time": "2023-01-08T21:29:14.045Z"
   },
   {
    "duration": 40,
    "start_time": "2023-01-08T21:29:14.082Z"
   },
   {
    "duration": 7,
    "start_time": "2023-01-08T21:29:14.125Z"
   },
   {
    "duration": 48,
    "start_time": "2023-01-08T21:29:14.134Z"
   },
   {
    "duration": 9,
    "start_time": "2023-01-08T21:29:14.185Z"
   },
   {
    "duration": 22,
    "start_time": "2023-01-08T21:29:14.199Z"
   },
   {
    "duration": 13,
    "start_time": "2023-01-08T21:29:14.223Z"
   },
   {
    "duration": 40,
    "start_time": "2023-01-08T21:29:14.238Z"
   },
   {
    "duration": 4,
    "start_time": "2023-01-08T21:29:14.280Z"
   },
   {
    "duration": 8,
    "start_time": "2023-01-08T21:29:14.286Z"
   },
   {
    "duration": 13,
    "start_time": "2023-01-08T21:29:14.296Z"
   },
   {
    "duration": 16,
    "start_time": "2023-01-08T21:29:14.311Z"
   },
   {
    "duration": 8,
    "start_time": "2023-01-08T21:29:14.329Z"
   },
   {
    "duration": 58,
    "start_time": "2023-01-08T21:29:14.339Z"
   },
   {
    "duration": 21,
    "start_time": "2023-01-08T21:29:14.400Z"
   },
   {
    "duration": 7,
    "start_time": "2023-01-08T21:29:14.424Z"
   },
   {
    "duration": 63,
    "start_time": "2023-01-08T21:29:14.433Z"
   },
   {
    "duration": 10,
    "start_time": "2023-01-08T21:29:14.498Z"
   },
   {
    "duration": 25,
    "start_time": "2023-01-08T21:29:14.510Z"
   },
   {
    "duration": 663,
    "start_time": "2023-01-08T21:29:14.537Z"
   },
   {
    "duration": 9,
    "start_time": "2023-01-08T21:29:15.202Z"
   },
   {
    "duration": 586,
    "start_time": "2023-01-08T21:29:15.213Z"
   },
   {
    "duration": 295,
    "start_time": "2023-01-08T21:29:15.802Z"
   },
   {
    "duration": 19,
    "start_time": "2023-01-08T21:29:16.099Z"
   },
   {
    "duration": 23,
    "start_time": "2023-01-08T21:29:16.120Z"
   },
   {
    "duration": 37,
    "start_time": "2023-01-08T21:29:16.145Z"
   },
   {
    "duration": 13,
    "start_time": "2023-01-08T21:29:16.184Z"
   },
   {
    "duration": 307,
    "start_time": "2023-01-08T21:29:16.200Z"
   },
   {
    "duration": 294,
    "start_time": "2023-01-08T21:29:16.510Z"
   },
   {
    "duration": 8,
    "start_time": "2023-01-08T21:29:16.806Z"
   },
   {
    "duration": 25,
    "start_time": "2023-01-08T21:29:16.817Z"
   },
   {
    "duration": 34,
    "start_time": "2023-01-08T21:29:16.844Z"
   },
   {
    "duration": 291,
    "start_time": "2023-01-08T21:29:16.886Z"
   },
   {
    "duration": 301,
    "start_time": "2023-01-08T21:29:17.179Z"
   },
   {
    "duration": 7,
    "start_time": "2023-01-08T21:29:17.482Z"
   },
   {
    "duration": 299,
    "start_time": "2023-01-08T21:29:17.491Z"
   },
   {
    "duration": 330,
    "start_time": "2023-01-08T21:29:17.793Z"
   },
   {
    "duration": 17,
    "start_time": "2023-01-08T21:29:18.125Z"
   },
   {
    "duration": 306,
    "start_time": "2023-01-08T21:29:18.144Z"
   },
   {
    "duration": 30,
    "start_time": "2023-01-08T21:29:18.452Z"
   },
   {
    "duration": 283,
    "start_time": "2023-01-08T21:29:18.484Z"
   },
   {
    "duration": 364,
    "start_time": "2023-01-08T21:29:18.769Z"
   },
   {
    "duration": 295,
    "start_time": "2023-01-08T21:29:19.135Z"
   },
   {
    "duration": 20,
    "start_time": "2023-01-08T21:29:19.433Z"
   },
   {
    "duration": 392,
    "start_time": "2023-01-08T21:29:19.455Z"
   },
   {
    "duration": 404,
    "start_time": "2023-01-08T21:29:19.849Z"
   },
   {
    "duration": 400,
    "start_time": "2023-01-08T21:29:20.255Z"
   },
   {
    "duration": 33,
    "start_time": "2023-01-08T21:29:20.657Z"
   },
   {
    "duration": 208,
    "start_time": "2023-01-08T21:29:20.692Z"
   },
   {
    "duration": 186,
    "start_time": "2023-01-08T21:29:20.902Z"
   },
   {
    "duration": 195,
    "start_time": "2023-01-08T21:29:21.091Z"
   },
   {
    "duration": 164,
    "start_time": "2023-01-08T21:29:21.288Z"
   },
   {
    "duration": 13,
    "start_time": "2023-01-08T21:29:21.454Z"
   },
   {
    "duration": 8,
    "start_time": "2023-01-08T21:29:21.479Z"
   },
   {
    "duration": 24,
    "start_time": "2023-01-08T21:29:21.490Z"
   },
   {
    "duration": 11,
    "start_time": "2023-01-08T21:29:21.516Z"
   },
   {
    "duration": 1403,
    "start_time": "2023-01-09T08:59:09.513Z"
   },
   {
    "duration": 202,
    "start_time": "2023-01-09T08:59:10.918Z"
   },
   {
    "duration": 28,
    "start_time": "2023-01-09T08:59:11.121Z"
   },
   {
    "duration": 16,
    "start_time": "2023-01-09T08:59:11.151Z"
   },
   {
    "duration": 5,
    "start_time": "2023-01-09T08:59:11.168Z"
   },
   {
    "duration": 690,
    "start_time": "2023-01-09T08:59:11.174Z"
   },
   {
    "duration": 13,
    "start_time": "2023-01-09T08:59:11.865Z"
   },
   {
    "duration": 13,
    "start_time": "2023-01-09T08:59:11.880Z"
   },
   {
    "duration": 24,
    "start_time": "2023-01-09T08:59:11.895Z"
   },
   {
    "duration": 29,
    "start_time": "2023-01-09T08:59:11.923Z"
   },
   {
    "duration": 14,
    "start_time": "2023-01-09T08:59:11.955Z"
   },
   {
    "duration": 13,
    "start_time": "2023-01-09T08:59:11.971Z"
   },
   {
    "duration": 19,
    "start_time": "2023-01-09T08:59:11.986Z"
   },
   {
    "duration": 15,
    "start_time": "2023-01-09T08:59:12.007Z"
   },
   {
    "duration": 6,
    "start_time": "2023-01-09T08:59:12.024Z"
   },
   {
    "duration": 18,
    "start_time": "2023-01-09T08:59:12.032Z"
   },
   {
    "duration": 8,
    "start_time": "2023-01-09T08:59:12.052Z"
   },
   {
    "duration": 15,
    "start_time": "2023-01-09T08:59:12.062Z"
   },
   {
    "duration": 6,
    "start_time": "2023-01-09T08:59:12.079Z"
   },
   {
    "duration": 8,
    "start_time": "2023-01-09T08:59:12.087Z"
   },
   {
    "duration": 22,
    "start_time": "2023-01-09T08:59:12.113Z"
   },
   {
    "duration": 16,
    "start_time": "2023-01-09T08:59:12.138Z"
   },
   {
    "duration": 7,
    "start_time": "2023-01-09T08:59:12.157Z"
   },
   {
    "duration": 52,
    "start_time": "2023-01-09T08:59:12.166Z"
   },
   {
    "duration": 9,
    "start_time": "2023-01-09T08:59:12.220Z"
   },
   {
    "duration": 26,
    "start_time": "2023-01-09T08:59:12.231Z"
   },
   {
    "duration": 676,
    "start_time": "2023-01-09T08:59:12.259Z"
   },
   {
    "duration": 7,
    "start_time": "2023-01-09T08:59:12.939Z"
   },
   {
    "duration": 237,
    "start_time": "2023-01-09T08:59:12.948Z"
   },
   {
    "duration": 287,
    "start_time": "2023-01-09T08:59:13.187Z"
   },
   {
    "duration": 14,
    "start_time": "2023-01-09T08:59:13.476Z"
   },
   {
    "duration": 22,
    "start_time": "2023-01-09T08:59:13.492Z"
   },
   {
    "duration": 7,
    "start_time": "2023-01-09T08:59:13.515Z"
   },
   {
    "duration": 8,
    "start_time": "2023-01-09T08:59:13.524Z"
   },
   {
    "duration": 239,
    "start_time": "2023-01-09T08:59:13.534Z"
   },
   {
    "duration": 212,
    "start_time": "2023-01-09T08:59:13.774Z"
   },
   {
    "duration": 5,
    "start_time": "2023-01-09T08:59:13.988Z"
   },
   {
    "duration": 9,
    "start_time": "2023-01-09T08:59:13.994Z"
   },
   {
    "duration": 11,
    "start_time": "2023-01-09T08:59:14.004Z"
   },
   {
    "duration": 222,
    "start_time": "2023-01-09T08:59:14.017Z"
   },
   {
    "duration": 246,
    "start_time": "2023-01-09T08:59:14.241Z"
   },
   {
    "duration": 5,
    "start_time": "2023-01-09T08:59:14.489Z"
   },
   {
    "duration": 258,
    "start_time": "2023-01-09T08:59:14.495Z"
   },
   {
    "duration": 263,
    "start_time": "2023-01-09T08:59:14.754Z"
   },
   {
    "duration": 15,
    "start_time": "2023-01-09T08:59:15.019Z"
   },
   {
    "duration": 201,
    "start_time": "2023-01-09T08:59:15.035Z"
   },
   {
    "duration": 17,
    "start_time": "2023-01-09T08:59:15.238Z"
   },
   {
    "duration": 217,
    "start_time": "2023-01-09T08:59:15.256Z"
   },
   {
    "duration": 207,
    "start_time": "2023-01-09T08:59:15.475Z"
   },
   {
    "duration": 215,
    "start_time": "2023-01-09T08:59:15.683Z"
   },
   {
    "duration": 27,
    "start_time": "2023-01-09T08:59:15.899Z"
   },
   {
    "duration": 426,
    "start_time": "2023-01-09T08:59:15.928Z"
   },
   {
    "duration": 336,
    "start_time": "2023-01-09T08:59:16.355Z"
   },
   {
    "duration": 325,
    "start_time": "2023-01-09T08:59:16.693Z"
   },
   {
    "duration": 16,
    "start_time": "2023-01-09T08:59:17.020Z"
   },
   {
    "duration": 177,
    "start_time": "2023-01-09T08:59:17.037Z"
   },
   {
    "duration": 142,
    "start_time": "2023-01-09T08:59:17.216Z"
   },
   {
    "duration": 147,
    "start_time": "2023-01-09T08:59:17.361Z"
   },
   {
    "duration": 156,
    "start_time": "2023-01-09T08:59:17.513Z"
   },
   {
    "duration": 9,
    "start_time": "2023-01-09T08:59:17.671Z"
   },
   {
    "duration": 10,
    "start_time": "2023-01-09T08:59:17.682Z"
   },
   {
    "duration": 20,
    "start_time": "2023-01-09T08:59:17.694Z"
   },
   {
    "duration": 6,
    "start_time": "2023-01-09T08:59:17.715Z"
   },
   {
    "duration": 282,
    "start_time": "2023-01-09T09:03:24.580Z"
   },
   {
    "duration": 139,
    "start_time": "2023-01-09T09:03:58.747Z"
   },
   {
    "duration": 211,
    "start_time": "2023-01-09T09:04:31.580Z"
   },
   {
    "duration": 121,
    "start_time": "2023-01-09T09:04:57.061Z"
   },
   {
    "duration": 290,
    "start_time": "2023-01-09T09:05:54.681Z"
   },
   {
    "duration": 9,
    "start_time": "2023-01-09T09:10:05.642Z"
   },
   {
    "duration": 9,
    "start_time": "2023-01-09T09:10:09.528Z"
   },
   {
    "duration": 228,
    "start_time": "2023-01-09T09:10:11.466Z"
   },
   {
    "duration": 387,
    "start_time": "2023-01-09T09:10:40.042Z"
   },
   {
    "duration": 237,
    "start_time": "2023-01-09T09:11:04.020Z"
   },
   {
    "duration": 4,
    "start_time": "2023-01-09T09:30:10.460Z"
   },
   {
    "duration": 65,
    "start_time": "2023-01-09T09:30:10.480Z"
   },
   {
    "duration": 33,
    "start_time": "2023-01-09T09:30:10.547Z"
   },
   {
    "duration": 36,
    "start_time": "2023-01-09T09:30:10.582Z"
   },
   {
    "duration": 5,
    "start_time": "2023-01-09T09:30:10.620Z"
   },
   {
    "duration": 595,
    "start_time": "2023-01-09T09:30:10.627Z"
   },
   {
    "duration": 8,
    "start_time": "2023-01-09T09:30:11.224Z"
   },
   {
    "duration": 51,
    "start_time": "2023-01-09T09:30:11.234Z"
   },
   {
    "duration": 28,
    "start_time": "2023-01-09T09:30:11.287Z"
   },
   {
    "duration": 58,
    "start_time": "2023-01-09T09:30:11.317Z"
   },
   {
    "duration": 25,
    "start_time": "2023-01-09T09:30:11.378Z"
   },
   {
    "duration": 39,
    "start_time": "2023-01-09T09:30:11.405Z"
   },
   {
    "duration": 70,
    "start_time": "2023-01-09T09:30:11.446Z"
   },
   {
    "duration": 58,
    "start_time": "2023-01-09T09:30:11.517Z"
   },
   {
    "duration": 37,
    "start_time": "2023-01-09T09:30:11.579Z"
   },
   {
    "duration": 66,
    "start_time": "2023-01-09T09:30:11.618Z"
   },
   {
    "duration": 36,
    "start_time": "2023-01-09T09:30:11.686Z"
   },
   {
    "duration": 37,
    "start_time": "2023-01-09T09:30:11.723Z"
   },
   {
    "duration": 35,
    "start_time": "2023-01-09T09:30:11.762Z"
   },
   {
    "duration": 34,
    "start_time": "2023-01-09T09:30:11.799Z"
   },
   {
    "duration": 63,
    "start_time": "2023-01-09T09:30:11.834Z"
   },
   {
    "duration": 43,
    "start_time": "2023-01-09T09:30:11.899Z"
   },
   {
    "duration": 341,
    "start_time": "2023-01-09T09:30:11.944Z"
   },
   {
    "duration": 7,
    "start_time": "2023-01-09T09:30:12.286Z"
   },
   {
    "duration": 40,
    "start_time": "2023-01-09T09:30:12.294Z"
   },
   {
    "duration": 53,
    "start_time": "2023-01-09T09:30:12.335Z"
   },
   {
    "duration": 46,
    "start_time": "2023-01-09T09:30:12.391Z"
   },
   {
    "duration": 599,
    "start_time": "2023-01-09T09:30:12.439Z"
   },
   {
    "duration": 6,
    "start_time": "2023-01-09T09:30:13.040Z"
   },
   {
    "duration": 243,
    "start_time": "2023-01-09T09:30:13.048Z"
   },
   {
    "duration": 214,
    "start_time": "2023-01-09T09:30:13.292Z"
   },
   {
    "duration": 12,
    "start_time": "2023-01-09T09:30:13.513Z"
   },
   {
    "duration": 22,
    "start_time": "2023-01-09T09:30:13.527Z"
   },
   {
    "duration": 28,
    "start_time": "2023-01-09T09:30:13.550Z"
   },
   {
    "duration": 26,
    "start_time": "2023-01-09T09:30:13.579Z"
   },
   {
    "duration": 341,
    "start_time": "2023-01-09T09:30:13.606Z"
   },
   {
    "duration": 223,
    "start_time": "2023-01-09T09:30:13.949Z"
   },
   {
    "duration": 5,
    "start_time": "2023-01-09T09:30:14.173Z"
   },
   {
    "duration": 58,
    "start_time": "2023-01-09T09:30:14.179Z"
   },
   {
    "duration": 22,
    "start_time": "2023-01-09T09:30:14.239Z"
   },
   {
    "duration": 252,
    "start_time": "2023-01-09T09:30:14.263Z"
   },
   {
    "duration": 254,
    "start_time": "2023-01-09T09:30:14.519Z"
   },
   {
    "duration": 4,
    "start_time": "2023-01-09T09:30:14.775Z"
   },
   {
    "duration": 283,
    "start_time": "2023-01-09T09:30:14.781Z"
   },
   {
    "duration": 229,
    "start_time": "2023-01-09T09:30:15.066Z"
   },
   {
    "duration": 24,
    "start_time": "2023-01-09T09:30:15.296Z"
   },
   {
    "duration": 227,
    "start_time": "2023-01-09T09:30:15.322Z"
   },
   {
    "duration": 286,
    "start_time": "2023-01-09T09:30:15.551Z"
   },
   {
    "duration": 16,
    "start_time": "2023-01-09T09:30:15.838Z"
   },
   {
    "duration": 214,
    "start_time": "2023-01-09T09:30:15.855Z"
   },
   {
    "duration": 200,
    "start_time": "2023-01-09T09:30:16.071Z"
   },
   {
    "duration": 208,
    "start_time": "2023-01-09T09:30:16.273Z"
   },
   {
    "duration": 36,
    "start_time": "2023-01-09T09:30:16.483Z"
   },
   {
    "duration": 332,
    "start_time": "2023-01-09T09:30:16.520Z"
   },
   {
    "duration": 330,
    "start_time": "2023-01-09T09:30:16.853Z"
   },
   {
    "duration": 330,
    "start_time": "2023-01-09T09:30:17.185Z"
   },
   {
    "duration": 15,
    "start_time": "2023-01-09T09:30:17.517Z"
   },
   {
    "duration": 165,
    "start_time": "2023-01-09T09:30:17.534Z"
   },
   {
    "duration": 128,
    "start_time": "2023-01-09T09:30:17.701Z"
   },
   {
    "duration": 139,
    "start_time": "2023-01-09T09:30:17.831Z"
   },
   {
    "duration": 134,
    "start_time": "2023-01-09T09:30:17.971Z"
   },
   {
    "duration": 11,
    "start_time": "2023-01-09T09:30:18.113Z"
   },
   {
    "duration": 18,
    "start_time": "2023-01-09T09:30:18.125Z"
   },
   {
    "duration": 19,
    "start_time": "2023-01-09T09:30:18.144Z"
   },
   {
    "duration": 21,
    "start_time": "2023-01-09T09:30:18.164Z"
   },
   {
    "duration": 187,
    "start_time": "2023-01-09T09:41:49.081Z"
   },
   {
    "duration": 72,
    "start_time": "2023-01-09T09:42:22.242Z"
   },
   {
    "duration": 324,
    "start_time": "2023-01-09T09:42:25.780Z"
   },
   {
    "duration": 189,
    "start_time": "2023-01-09T09:42:40.163Z"
   },
   {
    "duration": 179,
    "start_time": "2023-01-09T09:43:13.045Z"
   },
   {
    "duration": 161,
    "start_time": "2023-01-09T09:43:42.179Z"
   },
   {
    "duration": 159,
    "start_time": "2023-01-09T09:44:07.761Z"
   },
   {
    "duration": 189,
    "start_time": "2023-01-09T09:51:59.864Z"
   },
   {
    "duration": 185,
    "start_time": "2023-01-09T09:52:07.147Z"
   },
   {
    "duration": 202,
    "start_time": "2023-01-09T09:52:13.733Z"
   },
   {
    "duration": 214,
    "start_time": "2023-01-09T09:53:01.269Z"
   },
   {
    "duration": 217,
    "start_time": "2023-01-09T09:53:14.000Z"
   },
   {
    "duration": 3,
    "start_time": "2023-01-09T09:55:08.012Z"
   },
   {
    "duration": 56,
    "start_time": "2023-01-09T09:55:08.017Z"
   },
   {
    "duration": 23,
    "start_time": "2023-01-09T09:55:08.075Z"
   },
   {
    "duration": 21,
    "start_time": "2023-01-09T09:55:08.100Z"
   },
   {
    "duration": 4,
    "start_time": "2023-01-09T09:55:08.124Z"
   },
   {
    "duration": 592,
    "start_time": "2023-01-09T09:55:08.130Z"
   },
   {
    "duration": 8,
    "start_time": "2023-01-09T09:55:08.724Z"
   },
   {
    "duration": 10,
    "start_time": "2023-01-09T09:55:08.734Z"
   },
   {
    "duration": 5,
    "start_time": "2023-01-09T09:55:08.745Z"
   },
   {
    "duration": 30,
    "start_time": "2023-01-09T09:55:08.751Z"
   },
   {
    "duration": 5,
    "start_time": "2023-01-09T09:55:08.784Z"
   },
   {
    "duration": 25,
    "start_time": "2023-01-09T09:55:08.790Z"
   },
   {
    "duration": 6,
    "start_time": "2023-01-09T09:55:08.817Z"
   },
   {
    "duration": 6,
    "start_time": "2023-01-09T09:55:08.825Z"
   },
   {
    "duration": 10,
    "start_time": "2023-01-09T09:55:08.832Z"
   },
   {
    "duration": 8,
    "start_time": "2023-01-09T09:55:08.844Z"
   },
   {
    "duration": 7,
    "start_time": "2023-01-09T09:55:08.854Z"
   },
   {
    "duration": 9,
    "start_time": "2023-01-09T09:55:08.862Z"
   },
   {
    "duration": 7,
    "start_time": "2023-01-09T09:55:08.872Z"
   },
   {
    "duration": 6,
    "start_time": "2023-01-09T09:55:08.881Z"
   },
   {
    "duration": 37,
    "start_time": "2023-01-09T09:55:08.889Z"
   },
   {
    "duration": 16,
    "start_time": "2023-01-09T09:55:08.929Z"
   },
   {
    "duration": 335,
    "start_time": "2023-01-09T09:55:08.947Z"
   },
   {
    "duration": 7,
    "start_time": "2023-01-09T09:55:09.284Z"
   },
   {
    "duration": 32,
    "start_time": "2023-01-09T09:55:09.293Z"
   },
   {
    "duration": 8,
    "start_time": "2023-01-09T09:55:09.327Z"
   },
   {
    "duration": 20,
    "start_time": "2023-01-09T09:55:09.337Z"
   },
   {
    "duration": 590,
    "start_time": "2023-01-09T09:55:09.358Z"
   },
   {
    "duration": 5,
    "start_time": "2023-01-09T09:55:09.952Z"
   },
   {
    "duration": 232,
    "start_time": "2023-01-09T09:55:09.959Z"
   },
   {
    "duration": 472,
    "start_time": "2023-01-09T09:55:10.192Z"
   },
   {
    "duration": 13,
    "start_time": "2023-01-09T09:55:10.666Z"
   },
   {
    "duration": 6,
    "start_time": "2023-01-09T09:55:10.680Z"
   },
   {
    "duration": 9,
    "start_time": "2023-01-09T09:55:10.687Z"
   },
   {
    "duration": 4,
    "start_time": "2023-01-09T09:55:10.713Z"
   },
   {
    "duration": 231,
    "start_time": "2023-01-09T09:55:10.719Z"
   },
   {
    "duration": 227,
    "start_time": "2023-01-09T09:55:10.952Z"
   },
   {
    "duration": 5,
    "start_time": "2023-01-09T09:55:11.180Z"
   },
   {
    "duration": 7,
    "start_time": "2023-01-09T09:55:11.187Z"
   },
   {
    "duration": 19,
    "start_time": "2023-01-09T09:55:11.196Z"
   },
   {
    "duration": 225,
    "start_time": "2023-01-09T09:55:11.216Z"
   },
   {
    "duration": 226,
    "start_time": "2023-01-09T09:55:11.443Z"
   },
   {
    "duration": 5,
    "start_time": "2023-01-09T09:55:11.670Z"
   },
   {
    "duration": 237,
    "start_time": "2023-01-09T09:55:11.677Z"
   },
   {
    "duration": 250,
    "start_time": "2023-01-09T09:55:11.917Z"
   },
   {
    "duration": 14,
    "start_time": "2023-01-09T09:55:12.169Z"
   },
   {
    "duration": 206,
    "start_time": "2023-01-09T09:55:12.184Z"
   },
   {
    "duration": 307,
    "start_time": "2023-01-09T09:55:12.391Z"
   },
   {
    "duration": 25,
    "start_time": "2023-01-09T09:55:12.700Z"
   },
   {
    "duration": 193,
    "start_time": "2023-01-09T09:55:12.726Z"
   },
   {
    "duration": 192,
    "start_time": "2023-01-09T09:55:12.921Z"
   },
   {
    "duration": 191,
    "start_time": "2023-01-09T09:55:13.115Z"
   },
   {
    "duration": 21,
    "start_time": "2023-01-09T09:55:13.307Z"
   },
   {
    "duration": 333,
    "start_time": "2023-01-09T09:55:13.329Z"
   },
   {
    "duration": 321,
    "start_time": "2023-01-09T09:55:13.664Z"
   },
   {
    "duration": 335,
    "start_time": "2023-01-09T09:55:13.987Z"
   },
   {
    "duration": 17,
    "start_time": "2023-01-09T09:55:14.324Z"
   },
   {
    "duration": 180,
    "start_time": "2023-01-09T09:55:14.342Z"
   },
   {
    "duration": 144,
    "start_time": "2023-01-09T09:55:14.524Z"
   },
   {
    "duration": 166,
    "start_time": "2023-01-09T09:55:14.670Z"
   },
   {
    "duration": 162,
    "start_time": "2023-01-09T09:55:14.837Z"
   },
   {
    "duration": 18,
    "start_time": "2023-01-09T09:55:15.001Z"
   },
   {
    "duration": 22,
    "start_time": "2023-01-09T09:55:15.021Z"
   },
   {
    "duration": 20,
    "start_time": "2023-01-09T09:55:15.045Z"
   },
   {
    "duration": 26,
    "start_time": "2023-01-09T09:55:15.068Z"
   },
   {
    "duration": 12,
    "start_time": "2023-01-09T09:57:19.580Z"
   },
   {
    "duration": 8,
    "start_time": "2023-01-09T09:57:23.024Z"
   },
   {
    "duration": 281,
    "start_time": "2023-01-09T09:59:46.934Z"
   },
   {
    "duration": 293,
    "start_time": "2023-01-09T09:59:59.078Z"
   },
   {
    "duration": 22,
    "start_time": "2023-01-09T10:00:48.753Z"
   },
   {
    "duration": 5,
    "start_time": "2023-01-09T10:05:13.108Z"
   },
   {
    "duration": 5,
    "start_time": "2023-01-09T10:05:37.061Z"
   },
   {
    "duration": 3,
    "start_time": "2023-01-09T10:06:31.020Z"
   },
   {
    "duration": 85,
    "start_time": "2023-01-09T10:06:31.025Z"
   },
   {
    "duration": 24,
    "start_time": "2023-01-09T10:06:31.112Z"
   },
   {
    "duration": 26,
    "start_time": "2023-01-09T10:06:31.138Z"
   },
   {
    "duration": 15,
    "start_time": "2023-01-09T10:06:31.167Z"
   },
   {
    "duration": 792,
    "start_time": "2023-01-09T10:06:31.184Z"
   },
   {
    "duration": 9,
    "start_time": "2023-01-09T10:06:31.977Z"
   },
   {
    "duration": 26,
    "start_time": "2023-01-09T10:06:31.988Z"
   },
   {
    "duration": 12,
    "start_time": "2023-01-09T10:06:32.016Z"
   },
   {
    "duration": 23,
    "start_time": "2023-01-09T10:06:32.030Z"
   },
   {
    "duration": 32,
    "start_time": "2023-01-09T10:06:32.054Z"
   },
   {
    "duration": 24,
    "start_time": "2023-01-09T10:06:32.087Z"
   },
   {
    "duration": 17,
    "start_time": "2023-01-09T10:06:32.112Z"
   },
   {
    "duration": 22,
    "start_time": "2023-01-09T10:06:32.132Z"
   },
   {
    "duration": 23,
    "start_time": "2023-01-09T10:06:32.156Z"
   },
   {
    "duration": 18,
    "start_time": "2023-01-09T10:06:32.180Z"
   },
   {
    "duration": 10,
    "start_time": "2023-01-09T10:06:32.200Z"
   },
   {
    "duration": 14,
    "start_time": "2023-01-09T10:06:32.211Z"
   },
   {
    "duration": 5,
    "start_time": "2023-01-09T10:06:32.227Z"
   },
   {
    "duration": 8,
    "start_time": "2023-01-09T10:06:32.233Z"
   },
   {
    "duration": 19,
    "start_time": "2023-01-09T10:06:32.242Z"
   },
   {
    "duration": 18,
    "start_time": "2023-01-09T10:06:32.262Z"
   },
   {
    "duration": 341,
    "start_time": "2023-01-09T10:06:32.281Z"
   },
   {
    "duration": 7,
    "start_time": "2023-01-09T10:06:32.623Z"
   },
   {
    "duration": 18,
    "start_time": "2023-01-09T10:06:32.632Z"
   },
   {
    "duration": 7,
    "start_time": "2023-01-09T10:06:32.652Z"
   },
   {
    "duration": 22,
    "start_time": "2023-01-09T10:06:32.661Z"
   },
   {
    "duration": 595,
    "start_time": "2023-01-09T10:06:32.685Z"
   },
   {
    "duration": 6,
    "start_time": "2023-01-09T10:06:33.281Z"
   },
   {
    "duration": 230,
    "start_time": "2023-01-09T10:06:33.288Z"
   },
   {
    "duration": 234,
    "start_time": "2023-01-09T10:06:33.520Z"
   },
   {
    "duration": 13,
    "start_time": "2023-01-09T10:06:33.756Z"
   },
   {
    "duration": 5,
    "start_time": "2023-01-09T10:06:33.771Z"
   },
   {
    "duration": 9,
    "start_time": "2023-01-09T10:06:33.778Z"
   },
   {
    "duration": 26,
    "start_time": "2023-01-09T10:06:33.788Z"
   },
   {
    "duration": 236,
    "start_time": "2023-01-09T10:06:33.815Z"
   },
   {
    "duration": 216,
    "start_time": "2023-01-09T10:06:34.052Z"
   },
   {
    "duration": 5,
    "start_time": "2023-01-09T10:06:34.270Z"
   },
   {
    "duration": 11,
    "start_time": "2023-01-09T10:06:34.278Z"
   },
   {
    "duration": 23,
    "start_time": "2023-01-09T10:06:34.291Z"
   },
   {
    "duration": 222,
    "start_time": "2023-01-09T10:06:34.319Z"
   },
   {
    "duration": 281,
    "start_time": "2023-01-09T10:06:34.543Z"
   },
   {
    "duration": 5,
    "start_time": "2023-01-09T10:06:34.826Z"
   },
   {
    "duration": 237,
    "start_time": "2023-01-09T10:06:34.832Z"
   },
   {
    "duration": 226,
    "start_time": "2023-01-09T10:06:35.070Z"
   },
   {
    "duration": 21,
    "start_time": "2023-01-09T10:06:35.298Z"
   },
   {
    "duration": 194,
    "start_time": "2023-01-09T10:06:35.321Z"
   },
   {
    "duration": 312,
    "start_time": "2023-01-09T10:06:35.516Z"
   },
   {
    "duration": 17,
    "start_time": "2023-01-09T10:06:35.830Z"
   },
   {
    "duration": 181,
    "start_time": "2023-01-09T10:06:35.849Z"
   },
   {
    "duration": 183,
    "start_time": "2023-01-09T10:06:36.032Z"
   },
   {
    "duration": 174,
    "start_time": "2023-01-09T10:06:36.217Z"
   },
   {
    "duration": 21,
    "start_time": "2023-01-09T10:06:36.393Z"
   },
   {
    "duration": 336,
    "start_time": "2023-01-09T10:06:36.415Z"
   },
   {
    "duration": 338,
    "start_time": "2023-01-09T10:06:36.753Z"
   },
   {
    "duration": 334,
    "start_time": "2023-01-09T10:06:37.093Z"
   },
   {
    "duration": 16,
    "start_time": "2023-01-09T10:06:37.428Z"
   },
   {
    "duration": 168,
    "start_time": "2023-01-09T10:06:37.446Z"
   },
   {
    "duration": 134,
    "start_time": "2023-01-09T10:06:37.616Z"
   },
   {
    "duration": 139,
    "start_time": "2023-01-09T10:06:37.751Z"
   },
   {
    "duration": 135,
    "start_time": "2023-01-09T10:06:37.892Z"
   },
   {
    "duration": 11,
    "start_time": "2023-01-09T10:06:38.028Z"
   },
   {
    "duration": 7,
    "start_time": "2023-01-09T10:06:38.041Z"
   },
   {
    "duration": 12,
    "start_time": "2023-01-09T10:06:38.050Z"
   },
   {
    "duration": 7,
    "start_time": "2023-01-09T10:06:38.064Z"
   },
   {
    "duration": 16,
    "start_time": "2023-01-09T10:08:10.722Z"
   },
   {
    "duration": 18,
    "start_time": "2023-01-09T10:08:45.138Z"
   },
   {
    "duration": 8,
    "start_time": "2023-01-09T10:09:15.028Z"
   },
   {
    "duration": 18,
    "start_time": "2023-01-09T10:09:22.154Z"
   },
   {
    "duration": 17,
    "start_time": "2023-01-09T10:09:41.638Z"
   },
   {
    "duration": 3,
    "start_time": "2023-01-09T10:09:44.538Z"
   },
   {
    "duration": 67,
    "start_time": "2023-01-09T10:09:44.544Z"
   },
   {
    "duration": 28,
    "start_time": "2023-01-09T10:09:44.612Z"
   },
   {
    "duration": 63,
    "start_time": "2023-01-09T10:09:44.642Z"
   },
   {
    "duration": 22,
    "start_time": "2023-01-09T10:09:44.708Z"
   },
   {
    "duration": 850,
    "start_time": "2023-01-09T10:09:44.731Z"
   },
   {
    "duration": 9,
    "start_time": "2023-01-09T10:09:45.582Z"
   },
   {
    "duration": 32,
    "start_time": "2023-01-09T10:09:45.592Z"
   },
   {
    "duration": 24,
    "start_time": "2023-01-09T10:09:45.625Z"
   },
   {
    "duration": 34,
    "start_time": "2023-01-09T10:09:45.651Z"
   },
   {
    "duration": 23,
    "start_time": "2023-01-09T10:09:45.687Z"
   },
   {
    "duration": 30,
    "start_time": "2023-01-09T10:09:45.711Z"
   },
   {
    "duration": 0,
    "start_time": "2023-01-09T10:09:45.744Z"
   },
   {
    "duration": 0,
    "start_time": "2023-01-09T10:09:45.745Z"
   },
   {
    "duration": 0,
    "start_time": "2023-01-09T10:09:45.746Z"
   },
   {
    "duration": 0,
    "start_time": "2023-01-09T10:09:45.747Z"
   },
   {
    "duration": 1,
    "start_time": "2023-01-09T10:09:45.747Z"
   },
   {
    "duration": 0,
    "start_time": "2023-01-09T10:09:45.749Z"
   },
   {
    "duration": 0,
    "start_time": "2023-01-09T10:09:45.749Z"
   },
   {
    "duration": 0,
    "start_time": "2023-01-09T10:09:45.750Z"
   },
   {
    "duration": 0,
    "start_time": "2023-01-09T10:09:45.752Z"
   },
   {
    "duration": 0,
    "start_time": "2023-01-09T10:09:45.753Z"
   },
   {
    "duration": 0,
    "start_time": "2023-01-09T10:09:45.753Z"
   },
   {
    "duration": 0,
    "start_time": "2023-01-09T10:09:45.754Z"
   },
   {
    "duration": 0,
    "start_time": "2023-01-09T10:09:45.756Z"
   },
   {
    "duration": 0,
    "start_time": "2023-01-09T10:09:45.757Z"
   },
   {
    "duration": 0,
    "start_time": "2023-01-09T10:09:45.758Z"
   },
   {
    "duration": 0,
    "start_time": "2023-01-09T10:09:45.758Z"
   },
   {
    "duration": 0,
    "start_time": "2023-01-09T10:09:45.759Z"
   },
   {
    "duration": 0,
    "start_time": "2023-01-09T10:09:45.760Z"
   },
   {
    "duration": 0,
    "start_time": "2023-01-09T10:09:45.761Z"
   },
   {
    "duration": 0,
    "start_time": "2023-01-09T10:09:45.762Z"
   },
   {
    "duration": 0,
    "start_time": "2023-01-09T10:09:45.763Z"
   },
   {
    "duration": 0,
    "start_time": "2023-01-09T10:09:45.765Z"
   },
   {
    "duration": 0,
    "start_time": "2023-01-09T10:09:45.765Z"
   },
   {
    "duration": 0,
    "start_time": "2023-01-09T10:09:45.766Z"
   },
   {
    "duration": 0,
    "start_time": "2023-01-09T10:09:45.767Z"
   },
   {
    "duration": 0,
    "start_time": "2023-01-09T10:09:45.768Z"
   },
   {
    "duration": 0,
    "start_time": "2023-01-09T10:09:45.769Z"
   },
   {
    "duration": 0,
    "start_time": "2023-01-09T10:09:45.769Z"
   },
   {
    "duration": 0,
    "start_time": "2023-01-09T10:09:45.770Z"
   },
   {
    "duration": 0,
    "start_time": "2023-01-09T10:09:45.772Z"
   },
   {
    "duration": 0,
    "start_time": "2023-01-09T10:09:45.813Z"
   },
   {
    "duration": 0,
    "start_time": "2023-01-09T10:09:45.814Z"
   },
   {
    "duration": 0,
    "start_time": "2023-01-09T10:09:45.815Z"
   },
   {
    "duration": 0,
    "start_time": "2023-01-09T10:09:45.816Z"
   },
   {
    "duration": 0,
    "start_time": "2023-01-09T10:09:45.817Z"
   },
   {
    "duration": 0,
    "start_time": "2023-01-09T10:09:45.817Z"
   },
   {
    "duration": 0,
    "start_time": "2023-01-09T10:09:45.818Z"
   },
   {
    "duration": 0,
    "start_time": "2023-01-09T10:09:45.819Z"
   },
   {
    "duration": 0,
    "start_time": "2023-01-09T10:09:45.820Z"
   },
   {
    "duration": 0,
    "start_time": "2023-01-09T10:09:45.821Z"
   },
   {
    "duration": 0,
    "start_time": "2023-01-09T10:09:45.822Z"
   },
   {
    "duration": 0,
    "start_time": "2023-01-09T10:09:45.823Z"
   },
   {
    "duration": 0,
    "start_time": "2023-01-09T10:09:45.824Z"
   },
   {
    "duration": 1,
    "start_time": "2023-01-09T10:09:45.824Z"
   },
   {
    "duration": 0,
    "start_time": "2023-01-09T10:09:45.825Z"
   },
   {
    "duration": 0,
    "start_time": "2023-01-09T10:09:45.826Z"
   },
   {
    "duration": 0,
    "start_time": "2023-01-09T10:09:45.827Z"
   },
   {
    "duration": 0,
    "start_time": "2023-01-09T10:09:45.828Z"
   },
   {
    "duration": 0,
    "start_time": "2023-01-09T10:09:45.829Z"
   },
   {
    "duration": 0,
    "start_time": "2023-01-09T10:09:45.830Z"
   },
   {
    "duration": 0,
    "start_time": "2023-01-09T10:09:45.830Z"
   },
   {
    "duration": 0,
    "start_time": "2023-01-09T10:09:45.831Z"
   },
   {
    "duration": 0,
    "start_time": "2023-01-09T10:09:45.832Z"
   },
   {
    "duration": 17,
    "start_time": "2023-01-09T10:10:33.636Z"
   },
   {
    "duration": 7,
    "start_time": "2023-01-09T10:12:16.980Z"
   },
   {
    "duration": 8,
    "start_time": "2023-01-09T10:12:19.336Z"
   },
   {
    "duration": 12,
    "start_time": "2023-01-09T10:12:22.716Z"
   },
   {
    "duration": 3,
    "start_time": "2023-01-09T10:12:35.932Z"
   },
   {
    "duration": 59,
    "start_time": "2023-01-09T10:12:35.937Z"
   },
   {
    "duration": 24,
    "start_time": "2023-01-09T10:12:35.998Z"
   },
   {
    "duration": 16,
    "start_time": "2023-01-09T10:12:36.023Z"
   },
   {
    "duration": 5,
    "start_time": "2023-01-09T10:12:36.041Z"
   },
   {
    "duration": 574,
    "start_time": "2023-01-09T10:12:36.048Z"
   },
   {
    "duration": 9,
    "start_time": "2023-01-09T10:12:36.623Z"
   },
   {
    "duration": 34,
    "start_time": "2023-01-09T10:12:36.634Z"
   },
   {
    "duration": 25,
    "start_time": "2023-01-09T10:12:36.670Z"
   },
   {
    "duration": 62,
    "start_time": "2023-01-09T10:12:36.696Z"
   },
   {
    "duration": 44,
    "start_time": "2023-01-09T10:12:36.760Z"
   },
   {
    "duration": 48,
    "start_time": "2023-01-09T10:12:36.805Z"
   },
   {
    "duration": 15,
    "start_time": "2023-01-09T10:12:36.855Z"
   },
   {
    "duration": 13,
    "start_time": "2023-01-09T10:12:36.873Z"
   },
   {
    "duration": 27,
    "start_time": "2023-01-09T10:12:36.888Z"
   },
   {
    "duration": 11,
    "start_time": "2023-01-09T10:12:36.917Z"
   },
   {
    "duration": 28,
    "start_time": "2023-01-09T10:12:36.930Z"
   },
   {
    "duration": 29,
    "start_time": "2023-01-09T10:12:36.961Z"
   },
   {
    "duration": 38,
    "start_time": "2023-01-09T10:12:36.992Z"
   },
   {
    "duration": 13,
    "start_time": "2023-01-09T10:12:37.032Z"
   },
   {
    "duration": 32,
    "start_time": "2023-01-09T10:12:37.047Z"
   },
   {
    "duration": 14,
    "start_time": "2023-01-09T10:12:37.081Z"
   },
   {
    "duration": 337,
    "start_time": "2023-01-09T10:12:37.097Z"
   },
   {
    "duration": 8,
    "start_time": "2023-01-09T10:12:37.436Z"
   },
   {
    "duration": 30,
    "start_time": "2023-01-09T10:12:37.445Z"
   },
   {
    "duration": 22,
    "start_time": "2023-01-09T10:12:37.476Z"
   },
   {
    "duration": 42,
    "start_time": "2023-01-09T10:12:37.499Z"
   },
   {
    "duration": 556,
    "start_time": "2023-01-09T10:12:37.543Z"
   },
   {
    "duration": 12,
    "start_time": "2023-01-09T10:12:38.101Z"
   },
   {
    "duration": 226,
    "start_time": "2023-01-09T10:12:38.114Z"
   },
   {
    "duration": 214,
    "start_time": "2023-01-09T10:12:38.342Z"
   },
   {
    "duration": 12,
    "start_time": "2023-01-09T10:12:38.558Z"
   },
   {
    "duration": 14,
    "start_time": "2023-01-09T10:12:38.571Z"
   },
   {
    "duration": 26,
    "start_time": "2023-01-09T10:12:38.587Z"
   },
   {
    "duration": 7,
    "start_time": "2023-01-09T10:12:38.615Z"
   },
   {
    "duration": 235,
    "start_time": "2023-01-09T10:12:38.623Z"
   },
   {
    "duration": 229,
    "start_time": "2023-01-09T10:12:38.860Z"
   },
   {
    "duration": 7,
    "start_time": "2023-01-09T10:12:39.090Z"
   },
   {
    "duration": 40,
    "start_time": "2023-01-09T10:12:39.098Z"
   },
   {
    "duration": 33,
    "start_time": "2023-01-09T10:12:39.139Z"
   },
   {
    "duration": 235,
    "start_time": "2023-01-09T10:12:39.176Z"
   },
   {
    "duration": 248,
    "start_time": "2023-01-09T10:12:39.412Z"
   },
   {
    "duration": 5,
    "start_time": "2023-01-09T10:12:39.662Z"
   },
   {
    "duration": 230,
    "start_time": "2023-01-09T10:12:39.669Z"
   },
   {
    "duration": 228,
    "start_time": "2023-01-09T10:12:39.901Z"
   },
   {
    "duration": 14,
    "start_time": "2023-01-09T10:12:40.131Z"
   },
   {
    "duration": 230,
    "start_time": "2023-01-09T10:12:40.146Z"
   },
   {
    "duration": 336,
    "start_time": "2023-01-09T10:12:40.378Z"
   },
   {
    "duration": 16,
    "start_time": "2023-01-09T10:12:40.716Z"
   },
   {
    "duration": 180,
    "start_time": "2023-01-09T10:12:40.734Z"
   },
   {
    "duration": 201,
    "start_time": "2023-01-09T10:12:40.915Z"
   },
   {
    "duration": 186,
    "start_time": "2023-01-09T10:12:41.117Z"
   },
   {
    "duration": 21,
    "start_time": "2023-01-09T10:12:41.305Z"
   },
   {
    "duration": 323,
    "start_time": "2023-01-09T10:12:41.328Z"
   },
   {
    "duration": 321,
    "start_time": "2023-01-09T10:12:41.653Z"
   },
   {
    "duration": 306,
    "start_time": "2023-01-09T10:12:41.976Z"
   },
   {
    "duration": 16,
    "start_time": "2023-01-09T10:12:42.284Z"
   },
   {
    "duration": 166,
    "start_time": "2023-01-09T10:12:42.301Z"
   },
   {
    "duration": 130,
    "start_time": "2023-01-09T10:12:42.469Z"
   },
   {
    "duration": 142,
    "start_time": "2023-01-09T10:12:42.601Z"
   },
   {
    "duration": 134,
    "start_time": "2023-01-09T10:12:42.745Z"
   },
   {
    "duration": 10,
    "start_time": "2023-01-09T10:12:42.880Z"
   },
   {
    "duration": 23,
    "start_time": "2023-01-09T10:12:42.892Z"
   },
   {
    "duration": 10,
    "start_time": "2023-01-09T10:12:42.917Z"
   },
   {
    "duration": 7,
    "start_time": "2023-01-09T10:12:42.929Z"
   },
   {
    "duration": 144,
    "start_time": "2023-01-09T11:27:33.380Z"
   },
   {
    "duration": 161,
    "start_time": "2023-01-09T11:27:49.020Z"
   },
   {
    "duration": 159,
    "start_time": "2023-01-09T11:28:16.076Z"
   },
   {
    "duration": 153,
    "start_time": "2023-01-09T11:29:12.624Z"
   },
   {
    "duration": 161,
    "start_time": "2023-01-09T11:29:27.901Z"
   },
   {
    "duration": 148,
    "start_time": "2023-01-09T11:30:05.462Z"
   },
   {
    "duration": 140,
    "start_time": "2023-01-09T11:30:18.342Z"
   },
   {
    "duration": 533,
    "start_time": "2023-01-09T11:30:40.182Z"
   },
   {
    "duration": 101,
    "start_time": "2023-01-09T11:30:54.363Z"
   },
   {
    "duration": 144,
    "start_time": "2023-01-09T11:30:59.862Z"
   },
   {
    "duration": 145,
    "start_time": "2023-01-09T11:31:14.024Z"
   },
   {
    "duration": 65,
    "start_time": "2023-01-09T11:31:21.740Z"
   },
   {
    "duration": 149,
    "start_time": "2023-01-09T11:31:26.441Z"
   },
   {
    "duration": 157,
    "start_time": "2023-01-09T11:31:38.598Z"
   },
   {
    "duration": 152,
    "start_time": "2023-01-09T11:31:44.686Z"
   },
   {
    "duration": 158,
    "start_time": "2023-01-09T11:32:51.605Z"
   },
   {
    "duration": 162,
    "start_time": "2023-01-09T11:32:55.743Z"
   },
   {
    "duration": 159,
    "start_time": "2023-01-09T11:33:01.663Z"
   },
   {
    "duration": 187,
    "start_time": "2023-01-09T11:33:09.161Z"
   },
   {
    "duration": 122,
    "start_time": "2023-01-09T11:33:32.786Z"
   },
   {
    "duration": 135,
    "start_time": "2023-01-09T11:33:35.763Z"
   },
   {
    "duration": 130,
    "start_time": "2023-01-09T11:33:41.306Z"
   },
   {
    "duration": 714,
    "start_time": "2023-01-09T11:34:42.269Z"
   },
   {
    "duration": 7,
    "start_time": "2023-01-09T11:53:20.878Z"
   },
   {
    "duration": 3,
    "start_time": "2023-01-09T11:59:35.132Z"
   },
   {
    "duration": 56,
    "start_time": "2023-01-09T11:59:35.137Z"
   },
   {
    "duration": 27,
    "start_time": "2023-01-09T11:59:35.195Z"
   },
   {
    "duration": 22,
    "start_time": "2023-01-09T11:59:35.224Z"
   },
   {
    "duration": 5,
    "start_time": "2023-01-09T11:59:35.248Z"
   },
   {
    "duration": 631,
    "start_time": "2023-01-09T11:59:35.254Z"
   },
   {
    "duration": 10,
    "start_time": "2023-01-09T11:59:35.887Z"
   },
   {
    "duration": 28,
    "start_time": "2023-01-09T11:59:35.899Z"
   },
   {
    "duration": 14,
    "start_time": "2023-01-09T11:59:35.929Z"
   },
   {
    "duration": 24,
    "start_time": "2023-01-09T11:59:35.945Z"
   },
   {
    "duration": 4,
    "start_time": "2023-01-09T11:59:35.971Z"
   },
   {
    "duration": 11,
    "start_time": "2023-01-09T11:59:35.977Z"
   },
   {
    "duration": 24,
    "start_time": "2023-01-09T11:59:35.989Z"
   },
   {
    "duration": 20,
    "start_time": "2023-01-09T11:59:36.017Z"
   },
   {
    "duration": 8,
    "start_time": "2023-01-09T11:59:36.039Z"
   },
   {
    "duration": 12,
    "start_time": "2023-01-09T11:59:36.049Z"
   },
   {
    "duration": 12,
    "start_time": "2023-01-09T11:59:36.063Z"
   },
   {
    "duration": 11,
    "start_time": "2023-01-09T11:59:36.077Z"
   },
   {
    "duration": 5,
    "start_time": "2023-01-09T11:59:36.090Z"
   },
   {
    "duration": 19,
    "start_time": "2023-01-09T11:59:36.097Z"
   },
   {
    "duration": 25,
    "start_time": "2023-01-09T11:59:36.118Z"
   },
   {
    "duration": 15,
    "start_time": "2023-01-09T11:59:36.144Z"
   },
   {
    "duration": 334,
    "start_time": "2023-01-09T11:59:36.160Z"
   },
   {
    "duration": 17,
    "start_time": "2023-01-09T11:59:36.496Z"
   },
   {
    "duration": 19,
    "start_time": "2023-01-09T11:59:36.515Z"
   },
   {
    "duration": 9,
    "start_time": "2023-01-09T11:59:36.535Z"
   },
   {
    "duration": 18,
    "start_time": "2023-01-09T11:59:36.546Z"
   },
   {
    "duration": 653,
    "start_time": "2023-01-09T11:59:36.565Z"
   },
   {
    "duration": 10,
    "start_time": "2023-01-09T11:59:37.220Z"
   },
   {
    "duration": 236,
    "start_time": "2023-01-09T11:59:37.232Z"
   },
   {
    "duration": 234,
    "start_time": "2023-01-09T11:59:37.470Z"
   },
   {
    "duration": 23,
    "start_time": "2023-01-09T11:59:37.706Z"
   },
   {
    "duration": 6,
    "start_time": "2023-01-09T11:59:37.731Z"
   },
   {
    "duration": 7,
    "start_time": "2023-01-09T11:59:37.739Z"
   },
   {
    "duration": 6,
    "start_time": "2023-01-09T11:59:37.747Z"
   },
   {
    "duration": 189,
    "start_time": "2023-01-09T11:59:37.755Z"
   },
   {
    "duration": 159,
    "start_time": "2023-01-09T11:59:37.946Z"
   },
   {
    "duration": 11,
    "start_time": "2023-01-09T11:59:38.107Z"
   },
   {
    "duration": 30,
    "start_time": "2023-01-09T11:59:38.120Z"
   },
   {
    "duration": 25,
    "start_time": "2023-01-09T11:59:38.151Z"
   },
   {
    "duration": 165,
    "start_time": "2023-01-09T11:59:38.181Z"
   },
   {
    "duration": 169,
    "start_time": "2023-01-09T11:59:38.348Z"
   },
   {
    "duration": 8,
    "start_time": "2023-01-09T11:59:38.519Z"
   },
   {
    "duration": 166,
    "start_time": "2023-01-09T11:59:38.529Z"
   },
   {
    "duration": 161,
    "start_time": "2023-01-09T11:59:38.697Z"
   },
   {
    "duration": 15,
    "start_time": "2023-01-09T11:59:38.859Z"
   },
   {
    "duration": 214,
    "start_time": "2023-01-09T11:59:38.876Z"
   },
   {
    "duration": 315,
    "start_time": "2023-01-09T11:59:39.092Z"
   },
   {
    "duration": 20,
    "start_time": "2023-01-09T11:59:39.408Z"
   },
   {
    "duration": 178,
    "start_time": "2023-01-09T11:59:39.430Z"
   },
   {
    "duration": 175,
    "start_time": "2023-01-09T11:59:39.613Z"
   },
   {
    "duration": 186,
    "start_time": "2023-01-09T11:59:39.790Z"
   },
   {
    "duration": 17,
    "start_time": "2023-01-09T11:59:39.977Z"
   },
   {
    "duration": 411,
    "start_time": "2023-01-09T11:59:39.995Z"
   },
   {
    "duration": 370,
    "start_time": "2023-01-09T11:59:40.408Z"
   },
   {
    "duration": 351,
    "start_time": "2023-01-09T11:59:40.780Z"
   },
   {
    "duration": 16,
    "start_time": "2023-01-09T11:59:41.133Z"
   },
   {
    "duration": 181,
    "start_time": "2023-01-09T11:59:41.151Z"
   },
   {
    "duration": 140,
    "start_time": "2023-01-09T11:59:41.334Z"
   },
   {
    "duration": 156,
    "start_time": "2023-01-09T11:59:41.476Z"
   },
   {
    "duration": 144,
    "start_time": "2023-01-09T11:59:41.633Z"
   },
   {
    "duration": 11,
    "start_time": "2023-01-09T11:59:41.779Z"
   },
   {
    "duration": 24,
    "start_time": "2023-01-09T11:59:41.792Z"
   },
   {
    "duration": 14,
    "start_time": "2023-01-09T11:59:41.818Z"
   },
   {
    "duration": 8,
    "start_time": "2023-01-09T11:59:41.833Z"
   },
   {
    "duration": 222,
    "start_time": "2023-01-09T12:03:05.610Z"
   },
   {
    "duration": 3,
    "start_time": "2023-01-09T12:06:25.709Z"
   },
   {
    "duration": 55,
    "start_time": "2023-01-09T12:06:25.714Z"
   },
   {
    "duration": 24,
    "start_time": "2023-01-09T12:06:25.772Z"
   },
   {
    "duration": 26,
    "start_time": "2023-01-09T12:06:25.798Z"
   },
   {
    "duration": 6,
    "start_time": "2023-01-09T12:06:25.827Z"
   },
   {
    "duration": 1028,
    "start_time": "2023-01-09T12:06:25.834Z"
   },
   {
    "duration": 9,
    "start_time": "2023-01-09T12:06:26.864Z"
   },
   {
    "duration": 12,
    "start_time": "2023-01-09T12:06:26.875Z"
   },
   {
    "duration": 24,
    "start_time": "2023-01-09T12:06:26.889Z"
   },
   {
    "duration": 30,
    "start_time": "2023-01-09T12:06:26.915Z"
   },
   {
    "duration": 5,
    "start_time": "2023-01-09T12:06:26.948Z"
   },
   {
    "duration": 24,
    "start_time": "2023-01-09T12:06:26.955Z"
   },
   {
    "duration": 12,
    "start_time": "2023-01-09T12:06:26.981Z"
   },
   {
    "duration": 7,
    "start_time": "2023-01-09T12:06:26.994Z"
   },
   {
    "duration": 11,
    "start_time": "2023-01-09T12:06:27.002Z"
   },
   {
    "duration": 6,
    "start_time": "2023-01-09T12:06:27.014Z"
   },
   {
    "duration": 8,
    "start_time": "2023-01-09T12:06:27.022Z"
   },
   {
    "duration": 9,
    "start_time": "2023-01-09T12:06:27.031Z"
   },
   {
    "duration": 4,
    "start_time": "2023-01-09T12:06:27.042Z"
   },
   {
    "duration": 7,
    "start_time": "2023-01-09T12:06:27.047Z"
   },
   {
    "duration": 16,
    "start_time": "2023-01-09T12:06:27.056Z"
   },
   {
    "duration": 48,
    "start_time": "2023-01-09T12:06:27.074Z"
   },
   {
    "duration": 355,
    "start_time": "2023-01-09T12:06:27.124Z"
   },
   {
    "duration": 8,
    "start_time": "2023-01-09T12:06:27.480Z"
   },
   {
    "duration": 30,
    "start_time": "2023-01-09T12:06:27.489Z"
   },
   {
    "duration": 7,
    "start_time": "2023-01-09T12:06:27.521Z"
   },
   {
    "duration": 20,
    "start_time": "2023-01-09T12:06:27.530Z"
   },
   {
    "duration": 600,
    "start_time": "2023-01-09T12:06:27.552Z"
   },
   {
    "duration": 6,
    "start_time": "2023-01-09T12:06:28.156Z"
   },
   {
    "duration": 242,
    "start_time": "2023-01-09T12:06:28.164Z"
   },
   {
    "duration": 227,
    "start_time": "2023-01-09T12:06:28.413Z"
   },
   {
    "duration": 14,
    "start_time": "2023-01-09T12:06:28.642Z"
   },
   {
    "duration": 5,
    "start_time": "2023-01-09T12:06:28.658Z"
   },
   {
    "duration": 19,
    "start_time": "2023-01-09T12:06:28.665Z"
   },
   {
    "duration": 10,
    "start_time": "2023-01-09T12:06:28.686Z"
   },
   {
    "duration": 178,
    "start_time": "2023-01-09T12:06:28.698Z"
   },
   {
    "duration": 175,
    "start_time": "2023-01-09T12:06:28.878Z"
   },
   {
    "duration": 6,
    "start_time": "2023-01-09T12:06:29.054Z"
   },
   {
    "duration": 32,
    "start_time": "2023-01-09T12:06:29.061Z"
   },
   {
    "duration": 31,
    "start_time": "2023-01-09T12:06:29.095Z"
   },
   {
    "duration": 177,
    "start_time": "2023-01-09T12:06:29.128Z"
   },
   {
    "duration": 178,
    "start_time": "2023-01-09T12:06:29.307Z"
   },
   {
    "duration": 5,
    "start_time": "2023-01-09T12:06:29.487Z"
   },
   {
    "duration": 167,
    "start_time": "2023-01-09T12:06:29.494Z"
   },
   {
    "duration": 163,
    "start_time": "2023-01-09T12:06:29.663Z"
   },
   {
    "duration": 14,
    "start_time": "2023-01-09T12:06:29.828Z"
   },
   {
    "duration": 204,
    "start_time": "2023-01-09T12:06:29.844Z"
   },
   {
    "duration": 373,
    "start_time": "2023-01-09T12:06:30.050Z"
   },
   {
    "duration": 19,
    "start_time": "2023-01-09T12:06:30.425Z"
   },
   {
    "duration": 229,
    "start_time": "2023-01-09T12:06:30.446Z"
   },
   {
    "duration": 183,
    "start_time": "2023-01-09T12:06:30.676Z"
   },
   {
    "duration": 216,
    "start_time": "2023-01-09T12:06:30.861Z"
   },
   {
    "duration": 18,
    "start_time": "2023-01-09T12:06:31.079Z"
   },
   {
    "duration": 352,
    "start_time": "2023-01-09T12:06:31.099Z"
   },
   {
    "duration": 352,
    "start_time": "2023-01-09T12:06:31.453Z"
   },
   {
    "duration": 346,
    "start_time": "2023-01-09T12:06:31.807Z"
   },
   {
    "duration": 16,
    "start_time": "2023-01-09T12:06:32.154Z"
   },
   {
    "duration": 174,
    "start_time": "2023-01-09T12:06:32.172Z"
   },
   {
    "duration": 147,
    "start_time": "2023-01-09T12:06:32.348Z"
   },
   {
    "duration": 155,
    "start_time": "2023-01-09T12:06:32.497Z"
   },
   {
    "duration": 142,
    "start_time": "2023-01-09T12:06:32.653Z"
   },
   {
    "duration": 22,
    "start_time": "2023-01-09T12:06:32.797Z"
   },
   {
    "duration": 9,
    "start_time": "2023-01-09T12:06:32.821Z"
   },
   {
    "duration": 13,
    "start_time": "2023-01-09T12:06:32.832Z"
   },
   {
    "duration": 8,
    "start_time": "2023-01-09T12:06:32.847Z"
   },
   {
    "duration": 1337,
    "start_time": "2023-01-10T08:49:02.090Z"
   },
   {
    "duration": 101,
    "start_time": "2023-01-10T08:49:03.429Z"
   },
   {
    "duration": 26,
    "start_time": "2023-01-10T08:49:03.532Z"
   },
   {
    "duration": 20,
    "start_time": "2023-01-10T08:49:03.559Z"
   },
   {
    "duration": 4,
    "start_time": "2023-01-10T08:49:03.582Z"
   },
   {
    "duration": 553,
    "start_time": "2023-01-10T08:49:03.588Z"
   },
   {
    "duration": 10,
    "start_time": "2023-01-10T08:49:04.143Z"
   },
   {
    "duration": 21,
    "start_time": "2023-01-10T08:49:04.155Z"
   },
   {
    "duration": 5,
    "start_time": "2023-01-10T08:49:04.178Z"
   },
   {
    "duration": 37,
    "start_time": "2023-01-10T08:49:04.185Z"
   },
   {
    "duration": 5,
    "start_time": "2023-01-10T08:49:04.224Z"
   },
   {
    "duration": 15,
    "start_time": "2023-01-10T08:49:04.231Z"
   },
   {
    "duration": 4,
    "start_time": "2023-01-10T08:49:04.247Z"
   },
   {
    "duration": 7,
    "start_time": "2023-01-10T08:49:04.255Z"
   },
   {
    "duration": 6,
    "start_time": "2023-01-10T08:49:04.263Z"
   },
   {
    "duration": 9,
    "start_time": "2023-01-10T08:49:04.270Z"
   },
   {
    "duration": 8,
    "start_time": "2023-01-10T08:49:04.280Z"
   },
   {
    "duration": 32,
    "start_time": "2023-01-10T08:49:04.290Z"
   },
   {
    "duration": 5,
    "start_time": "2023-01-10T08:49:04.323Z"
   },
   {
    "duration": 9,
    "start_time": "2023-01-10T08:49:04.330Z"
   },
   {
    "duration": 18,
    "start_time": "2023-01-10T08:49:04.340Z"
   },
   {
    "duration": 14,
    "start_time": "2023-01-10T08:49:04.359Z"
   },
   {
    "duration": 320,
    "start_time": "2023-01-10T08:49:04.374Z"
   },
   {
    "duration": 7,
    "start_time": "2023-01-10T08:49:04.695Z"
   },
   {
    "duration": 19,
    "start_time": "2023-01-10T08:49:04.704Z"
   },
   {
    "duration": 7,
    "start_time": "2023-01-10T08:49:04.725Z"
   },
   {
    "duration": 25,
    "start_time": "2023-01-10T08:49:04.734Z"
   },
   {
    "duration": 540,
    "start_time": "2023-01-10T08:49:04.761Z"
   },
   {
    "duration": 7,
    "start_time": "2023-01-10T08:49:05.302Z"
   },
   {
    "duration": 284,
    "start_time": "2023-01-10T08:49:05.310Z"
   },
   {
    "duration": 273,
    "start_time": "2023-01-10T08:49:05.596Z"
   },
   {
    "duration": 13,
    "start_time": "2023-01-10T08:49:05.871Z"
   },
   {
    "duration": 16,
    "start_time": "2023-01-10T08:49:05.885Z"
   },
   {
    "duration": 31,
    "start_time": "2023-01-10T08:49:05.902Z"
   },
   {
    "duration": 7,
    "start_time": "2023-01-10T08:49:05.934Z"
   },
   {
    "duration": 146,
    "start_time": "2023-01-10T08:49:05.942Z"
   },
   {
    "duration": 149,
    "start_time": "2023-01-10T08:49:06.089Z"
   },
   {
    "duration": 4,
    "start_time": "2023-01-10T08:49:06.240Z"
   },
   {
    "duration": 17,
    "start_time": "2023-01-10T08:49:06.246Z"
   },
   {
    "duration": 8,
    "start_time": "2023-01-10T08:49:06.264Z"
   },
   {
    "duration": 134,
    "start_time": "2023-01-10T08:49:06.275Z"
   },
   {
    "duration": 154,
    "start_time": "2023-01-10T08:49:06.411Z"
   },
   {
    "duration": 5,
    "start_time": "2023-01-10T08:49:06.567Z"
   },
   {
    "duration": 162,
    "start_time": "2023-01-10T08:49:06.573Z"
   },
   {
    "duration": 147,
    "start_time": "2023-01-10T08:49:06.736Z"
   },
   {
    "duration": 16,
    "start_time": "2023-01-10T08:49:06.884Z"
   },
   {
    "duration": 178,
    "start_time": "2023-01-10T08:49:06.901Z"
   },
   {
    "duration": 279,
    "start_time": "2023-01-10T08:49:07.080Z"
   },
   {
    "duration": 14,
    "start_time": "2023-01-10T08:49:07.361Z"
   },
   {
    "duration": 170,
    "start_time": "2023-01-10T08:49:07.376Z"
   },
   {
    "duration": 248,
    "start_time": "2023-01-10T08:49:07.547Z"
   },
   {
    "duration": 153,
    "start_time": "2023-01-10T08:49:07.796Z"
   },
   {
    "duration": 14,
    "start_time": "2023-01-10T08:49:07.951Z"
   },
   {
    "duration": 298,
    "start_time": "2023-01-10T08:49:07.967Z"
   },
   {
    "duration": 295,
    "start_time": "2023-01-10T08:49:08.266Z"
   },
   {
    "duration": 311,
    "start_time": "2023-01-10T08:49:08.563Z"
   },
   {
    "duration": 14,
    "start_time": "2023-01-10T08:49:08.876Z"
   },
   {
    "duration": 160,
    "start_time": "2023-01-10T08:49:08.892Z"
   },
   {
    "duration": 130,
    "start_time": "2023-01-10T08:49:09.053Z"
   },
   {
    "duration": 150,
    "start_time": "2023-01-10T08:49:09.185Z"
   },
   {
    "duration": 124,
    "start_time": "2023-01-10T08:49:09.336Z"
   },
   {
    "duration": 11,
    "start_time": "2023-01-10T08:49:09.461Z"
   },
   {
    "duration": 17,
    "start_time": "2023-01-10T08:49:09.473Z"
   },
   {
    "duration": 15,
    "start_time": "2023-01-10T08:49:09.492Z"
   },
   {
    "duration": 6,
    "start_time": "2023-01-10T08:49:09.509Z"
   },
   {
    "duration": 3,
    "start_time": "2023-01-10T08:52:37.990Z"
   },
   {
    "duration": 50,
    "start_time": "2023-01-10T08:52:38.004Z"
   },
   {
    "duration": 21,
    "start_time": "2023-01-10T08:52:38.056Z"
   },
   {
    "duration": 17,
    "start_time": "2023-01-10T08:52:38.079Z"
   },
   {
    "duration": 6,
    "start_time": "2023-01-10T08:52:38.098Z"
   },
   {
    "duration": 580,
    "start_time": "2023-01-10T08:52:38.106Z"
   },
   {
    "duration": 9,
    "start_time": "2023-01-10T08:52:38.688Z"
   },
   {
    "duration": 23,
    "start_time": "2023-01-10T08:52:38.699Z"
   },
   {
    "duration": 5,
    "start_time": "2023-01-10T08:52:38.724Z"
   },
   {
    "duration": 23,
    "start_time": "2023-01-10T08:52:38.730Z"
   },
   {
    "duration": 3,
    "start_time": "2023-01-10T08:52:38.755Z"
   },
   {
    "duration": 11,
    "start_time": "2023-01-10T08:52:38.759Z"
   },
   {
    "duration": 3,
    "start_time": "2023-01-10T08:52:38.772Z"
   },
   {
    "duration": 6,
    "start_time": "2023-01-10T08:52:38.777Z"
   },
   {
    "duration": 8,
    "start_time": "2023-01-10T08:52:38.784Z"
   },
   {
    "duration": 9,
    "start_time": "2023-01-10T08:52:38.793Z"
   },
   {
    "duration": 117,
    "start_time": "2023-01-10T08:52:38.804Z"
   },
   {
    "duration": 8,
    "start_time": "2023-01-10T08:52:38.922Z"
   },
   {
    "duration": 5,
    "start_time": "2023-01-10T08:52:38.931Z"
   },
   {
    "duration": 7,
    "start_time": "2023-01-10T08:52:38.937Z"
   },
   {
    "duration": 19,
    "start_time": "2023-01-10T08:52:38.946Z"
   },
   {
    "duration": 16,
    "start_time": "2023-01-10T08:52:38.966Z"
   },
   {
    "duration": 327,
    "start_time": "2023-01-10T08:52:38.983Z"
   },
   {
    "duration": 12,
    "start_time": "2023-01-10T08:52:39.311Z"
   },
   {
    "duration": 36,
    "start_time": "2023-01-10T08:52:39.324Z"
   },
   {
    "duration": 6,
    "start_time": "2023-01-10T08:52:39.362Z"
   },
   {
    "duration": 18,
    "start_time": "2023-01-10T08:52:39.369Z"
   },
   {
    "duration": 547,
    "start_time": "2023-01-10T08:52:39.388Z"
   },
   {
    "duration": 6,
    "start_time": "2023-01-10T08:52:39.938Z"
   },
   {
    "duration": 212,
    "start_time": "2023-01-10T08:52:39.945Z"
   },
   {
    "duration": 218,
    "start_time": "2023-01-10T08:52:40.158Z"
   },
   {
    "duration": 13,
    "start_time": "2023-01-10T08:52:40.378Z"
   },
   {
    "duration": 5,
    "start_time": "2023-01-10T08:52:40.392Z"
   },
   {
    "duration": 24,
    "start_time": "2023-01-10T08:52:40.398Z"
   },
   {
    "duration": 4,
    "start_time": "2023-01-10T08:52:40.423Z"
   },
   {
    "duration": 149,
    "start_time": "2023-01-10T08:52:40.428Z"
   },
   {
    "duration": 170,
    "start_time": "2023-01-10T08:52:40.578Z"
   },
   {
    "duration": 5,
    "start_time": "2023-01-10T08:52:40.749Z"
   },
   {
    "duration": 23,
    "start_time": "2023-01-10T08:52:40.756Z"
   },
   {
    "duration": 6,
    "start_time": "2023-01-10T08:52:40.780Z"
   },
   {
    "duration": 167,
    "start_time": "2023-01-10T08:52:40.788Z"
   },
   {
    "duration": 167,
    "start_time": "2023-01-10T08:52:40.957Z"
   },
   {
    "duration": 6,
    "start_time": "2023-01-10T08:52:41.125Z"
   },
   {
    "duration": 206,
    "start_time": "2023-01-10T08:52:41.133Z"
   },
   {
    "duration": 171,
    "start_time": "2023-01-10T08:52:41.341Z"
   },
   {
    "duration": 15,
    "start_time": "2023-01-10T08:52:41.514Z"
   },
   {
    "duration": 201,
    "start_time": "2023-01-10T08:52:41.531Z"
   },
   {
    "duration": 437,
    "start_time": "2023-01-10T08:52:41.734Z"
   },
   {
    "duration": 14,
    "start_time": "2023-01-10T08:52:42.172Z"
   },
   {
    "duration": 170,
    "start_time": "2023-01-10T08:52:42.187Z"
   },
   {
    "duration": 179,
    "start_time": "2023-01-10T08:52:42.359Z"
   },
   {
    "duration": 172,
    "start_time": "2023-01-10T08:52:42.540Z"
   },
   {
    "duration": 21,
    "start_time": "2023-01-10T08:52:42.714Z"
   },
   {
    "duration": 329,
    "start_time": "2023-01-10T08:52:42.737Z"
   },
   {
    "duration": 302,
    "start_time": "2023-01-10T08:52:43.067Z"
   },
   {
    "duration": 314,
    "start_time": "2023-01-10T08:52:43.371Z"
   },
   {
    "duration": 14,
    "start_time": "2023-01-10T08:52:43.687Z"
   },
   {
    "duration": 155,
    "start_time": "2023-01-10T08:52:43.703Z"
   },
   {
    "duration": 128,
    "start_time": "2023-01-10T08:52:43.860Z"
   },
   {
    "duration": 132,
    "start_time": "2023-01-10T08:52:43.990Z"
   },
   {
    "duration": 124,
    "start_time": "2023-01-10T08:52:44.124Z"
   },
   {
    "duration": 10,
    "start_time": "2023-01-10T08:52:44.249Z"
   },
   {
    "duration": 7,
    "start_time": "2023-01-10T08:52:44.260Z"
   },
   {
    "duration": 12,
    "start_time": "2023-01-10T08:52:44.268Z"
   },
   {
    "duration": 6,
    "start_time": "2023-01-10T08:52:44.281Z"
   },
   {
    "duration": 12,
    "start_time": "2023-01-10T08:53:36.273Z"
   },
   {
    "duration": 6,
    "start_time": "2023-01-10T08:53:37.050Z"
   },
   {
    "duration": 3,
    "start_time": "2023-01-10T08:55:50.533Z"
   },
   {
    "duration": 64,
    "start_time": "2023-01-10T08:55:50.538Z"
   },
   {
    "duration": 23,
    "start_time": "2023-01-10T08:55:50.604Z"
   },
   {
    "duration": 13,
    "start_time": "2023-01-10T08:55:50.656Z"
   },
   {
    "duration": 5,
    "start_time": "2023-01-10T08:55:50.671Z"
   },
   {
    "duration": 585,
    "start_time": "2023-01-10T08:55:50.678Z"
   },
   {
    "duration": 8,
    "start_time": "2023-01-10T08:55:51.265Z"
   },
   {
    "duration": 40,
    "start_time": "2023-01-10T08:55:51.275Z"
   },
   {
    "duration": 32,
    "start_time": "2023-01-10T08:55:51.317Z"
   },
   {
    "duration": 32,
    "start_time": "2023-01-10T08:55:51.350Z"
   },
   {
    "duration": 10,
    "start_time": "2023-01-10T08:55:51.383Z"
   },
   {
    "duration": 16,
    "start_time": "2023-01-10T08:55:51.395Z"
   },
   {
    "duration": 20,
    "start_time": "2023-01-10T08:55:51.412Z"
   },
   {
    "duration": 21,
    "start_time": "2023-01-10T08:55:51.433Z"
   },
   {
    "duration": 24,
    "start_time": "2023-01-10T08:55:51.455Z"
   },
   {
    "duration": 44,
    "start_time": "2023-01-10T08:55:51.481Z"
   },
   {
    "duration": 33,
    "start_time": "2023-01-10T08:55:51.529Z"
   },
   {
    "duration": 20,
    "start_time": "2023-01-10T08:55:51.564Z"
   },
   {
    "duration": 24,
    "start_time": "2023-01-10T08:55:51.586Z"
   },
   {
    "duration": 17,
    "start_time": "2023-01-10T08:55:51.611Z"
   },
   {
    "duration": 30,
    "start_time": "2023-01-10T08:55:51.629Z"
   },
   {
    "duration": 28,
    "start_time": "2023-01-10T08:55:51.661Z"
   },
   {
    "duration": 300,
    "start_time": "2023-01-10T08:55:51.690Z"
   },
   {
    "duration": 6,
    "start_time": "2023-01-10T08:55:51.991Z"
   },
   {
    "duration": 23,
    "start_time": "2023-01-10T08:55:51.999Z"
   },
   {
    "duration": 7,
    "start_time": "2023-01-10T08:55:52.024Z"
   },
   {
    "duration": 28,
    "start_time": "2023-01-10T08:55:52.032Z"
   },
   {
    "duration": 678,
    "start_time": "2023-01-10T08:55:52.061Z"
   },
   {
    "duration": 6,
    "start_time": "2023-01-10T08:55:52.741Z"
   },
   {
    "duration": 222,
    "start_time": "2023-01-10T08:55:52.748Z"
   },
   {
    "duration": 214,
    "start_time": "2023-01-10T08:55:52.972Z"
   },
   {
    "duration": 12,
    "start_time": "2023-01-10T08:55:53.187Z"
   },
   {
    "duration": 5,
    "start_time": "2023-01-10T08:55:53.201Z"
   },
   {
    "duration": 17,
    "start_time": "2023-01-10T08:55:53.207Z"
   },
   {
    "duration": 6,
    "start_time": "2023-01-10T08:55:53.226Z"
   },
   {
    "duration": 160,
    "start_time": "2023-01-10T08:55:53.234Z"
   },
   {
    "duration": 152,
    "start_time": "2023-01-10T08:55:53.396Z"
   },
   {
    "duration": 5,
    "start_time": "2023-01-10T08:55:53.550Z"
   },
   {
    "duration": 12,
    "start_time": "2023-01-10T08:55:53.557Z"
   },
   {
    "duration": 11,
    "start_time": "2023-01-10T08:55:53.570Z"
   },
   {
    "duration": 147,
    "start_time": "2023-01-10T08:55:53.583Z"
   },
   {
    "duration": 164,
    "start_time": "2023-01-10T08:55:53.732Z"
   },
   {
    "duration": 5,
    "start_time": "2023-01-10T08:55:53.897Z"
   },
   {
    "duration": 160,
    "start_time": "2023-01-10T08:55:53.906Z"
   },
   {
    "duration": 156,
    "start_time": "2023-01-10T08:55:54.067Z"
   },
   {
    "duration": 13,
    "start_time": "2023-01-10T08:55:54.225Z"
   },
   {
    "duration": 187,
    "start_time": "2023-01-10T08:55:54.240Z"
   },
   {
    "duration": 310,
    "start_time": "2023-01-10T08:55:54.429Z"
   },
   {
    "duration": 15,
    "start_time": "2023-01-10T08:55:54.740Z"
   },
   {
    "duration": 168,
    "start_time": "2023-01-10T08:55:54.756Z"
   },
   {
    "duration": 169,
    "start_time": "2023-01-10T08:55:54.925Z"
   },
   {
    "duration": 162,
    "start_time": "2023-01-10T08:55:55.095Z"
   },
   {
    "duration": 19,
    "start_time": "2023-01-10T08:55:55.258Z"
   },
   {
    "duration": 350,
    "start_time": "2023-01-10T08:55:55.279Z"
   },
   {
    "duration": 301,
    "start_time": "2023-01-10T08:55:55.631Z"
   },
   {
    "duration": 300,
    "start_time": "2023-01-10T08:55:55.934Z"
   },
   {
    "duration": 13,
    "start_time": "2023-01-10T08:55:56.236Z"
   },
   {
    "duration": 148,
    "start_time": "2023-01-10T08:55:56.251Z"
   },
   {
    "duration": 123,
    "start_time": "2023-01-10T08:55:56.401Z"
   },
   {
    "duration": 140,
    "start_time": "2023-01-10T08:55:56.526Z"
   },
   {
    "duration": 297,
    "start_time": "2023-01-10T08:55:56.667Z"
   },
   {
    "duration": 9,
    "start_time": "2023-01-10T08:55:56.966Z"
   },
   {
    "duration": 7,
    "start_time": "2023-01-10T08:55:56.977Z"
   },
   {
    "duration": 11,
    "start_time": "2023-01-10T08:55:56.985Z"
   },
   {
    "duration": 28,
    "start_time": "2023-01-10T08:55:56.997Z"
   },
   {
    "duration": 2,
    "start_time": "2023-01-10T09:03:18.617Z"
   },
   {
    "duration": 71,
    "start_time": "2023-01-10T09:03:18.621Z"
   },
   {
    "duration": 22,
    "start_time": "2023-01-10T09:03:18.694Z"
   },
   {
    "duration": 18,
    "start_time": "2023-01-10T09:03:18.718Z"
   },
   {
    "duration": 8,
    "start_time": "2023-01-10T09:03:18.738Z"
   },
   {
    "duration": 586,
    "start_time": "2023-01-10T09:03:18.748Z"
   },
   {
    "duration": 9,
    "start_time": "2023-01-10T09:03:19.335Z"
   },
   {
    "duration": 27,
    "start_time": "2023-01-10T09:03:19.345Z"
   },
   {
    "duration": 16,
    "start_time": "2023-01-10T09:03:19.374Z"
   },
   {
    "duration": 23,
    "start_time": "2023-01-10T09:03:19.391Z"
   },
   {
    "duration": 4,
    "start_time": "2023-01-10T09:03:19.415Z"
   },
   {
    "duration": 16,
    "start_time": "2023-01-10T09:03:19.421Z"
   },
   {
    "duration": 9,
    "start_time": "2023-01-10T09:03:19.438Z"
   },
   {
    "duration": 8,
    "start_time": "2023-01-10T09:03:19.448Z"
   },
   {
    "duration": 11,
    "start_time": "2023-01-10T09:03:19.457Z"
   },
   {
    "duration": 16,
    "start_time": "2023-01-10T09:03:19.469Z"
   },
   {
    "duration": 6,
    "start_time": "2023-01-10T09:03:19.487Z"
   },
   {
    "duration": 18,
    "start_time": "2023-01-10T09:03:19.495Z"
   },
   {
    "duration": 15,
    "start_time": "2023-01-10T09:03:19.515Z"
   },
   {
    "duration": 9,
    "start_time": "2023-01-10T09:03:19.532Z"
   },
   {
    "duration": 19,
    "start_time": "2023-01-10T09:03:19.542Z"
   },
   {
    "duration": 13,
    "start_time": "2023-01-10T09:03:19.563Z"
   },
   {
    "duration": 300,
    "start_time": "2023-01-10T09:03:19.578Z"
   },
   {
    "duration": 7,
    "start_time": "2023-01-10T09:03:19.881Z"
   },
   {
    "duration": 16,
    "start_time": "2023-01-10T09:03:19.889Z"
   },
   {
    "duration": 18,
    "start_time": "2023-01-10T09:03:19.906Z"
   },
   {
    "duration": 19,
    "start_time": "2023-01-10T09:03:19.925Z"
   },
   {
    "duration": 575,
    "start_time": "2023-01-10T09:03:19.946Z"
   },
   {
    "duration": 6,
    "start_time": "2023-01-10T09:03:20.523Z"
   },
   {
    "duration": 225,
    "start_time": "2023-01-10T09:03:20.531Z"
   },
   {
    "duration": 209,
    "start_time": "2023-01-10T09:03:20.757Z"
   },
   {
    "duration": 12,
    "start_time": "2023-01-10T09:03:20.968Z"
   },
   {
    "duration": 5,
    "start_time": "2023-01-10T09:03:20.981Z"
   },
   {
    "duration": 13,
    "start_time": "2023-01-10T09:03:20.988Z"
   },
   {
    "duration": 21,
    "start_time": "2023-01-10T09:03:21.002Z"
   },
   {
    "duration": 157,
    "start_time": "2023-01-10T09:03:21.025Z"
   },
   {
    "duration": 154,
    "start_time": "2023-01-10T09:03:21.184Z"
   },
   {
    "duration": 6,
    "start_time": "2023-01-10T09:03:21.340Z"
   },
   {
    "duration": 10,
    "start_time": "2023-01-10T09:03:21.347Z"
   },
   {
    "duration": 12,
    "start_time": "2023-01-10T09:03:21.359Z"
   },
   {
    "duration": 174,
    "start_time": "2023-01-10T09:03:21.373Z"
   },
   {
    "duration": 163,
    "start_time": "2023-01-10T09:03:21.549Z"
   },
   {
    "duration": 8,
    "start_time": "2023-01-10T09:03:21.714Z"
   },
   {
    "duration": 146,
    "start_time": "2023-01-10T09:03:21.724Z"
   },
   {
    "duration": 162,
    "start_time": "2023-01-10T09:03:21.872Z"
   },
   {
    "duration": 13,
    "start_time": "2023-01-10T09:03:22.035Z"
   },
   {
    "duration": 193,
    "start_time": "2023-01-10T09:03:22.050Z"
   },
   {
    "duration": 304,
    "start_time": "2023-01-10T09:03:22.244Z"
   },
   {
    "duration": 16,
    "start_time": "2023-01-10T09:03:22.549Z"
   },
   {
    "duration": 164,
    "start_time": "2023-01-10T09:03:22.566Z"
   },
   {
    "duration": 179,
    "start_time": "2023-01-10T09:03:22.732Z"
   },
   {
    "duration": 163,
    "start_time": "2023-01-10T09:03:22.912Z"
   },
   {
    "duration": 15,
    "start_time": "2023-01-10T09:03:23.077Z"
   },
   {
    "duration": 536,
    "start_time": "2023-01-10T09:03:23.094Z"
   },
   {
    "duration": 321,
    "start_time": "2023-01-10T09:03:23.632Z"
   },
   {
    "duration": 326,
    "start_time": "2023-01-10T09:03:23.954Z"
   },
   {
    "duration": 19,
    "start_time": "2023-01-10T09:03:24.282Z"
   },
   {
    "duration": 175,
    "start_time": "2023-01-10T09:03:24.303Z"
   },
   {
    "duration": 143,
    "start_time": "2023-01-10T09:03:24.480Z"
   },
   {
    "duration": 143,
    "start_time": "2023-01-10T09:03:24.625Z"
   },
   {
    "duration": 125,
    "start_time": "2023-01-10T09:03:24.770Z"
   },
   {
    "duration": 10,
    "start_time": "2023-01-10T09:03:24.897Z"
   },
   {
    "duration": 6,
    "start_time": "2023-01-10T09:03:24.922Z"
   },
   {
    "duration": 29,
    "start_time": "2023-01-10T09:03:24.930Z"
   },
   {
    "duration": 22,
    "start_time": "2023-01-10T09:03:24.960Z"
   },
   {
    "duration": 11,
    "start_time": "2023-01-10T09:04:24.436Z"
   },
   {
    "duration": 7,
    "start_time": "2023-01-10T09:04:24.933Z"
   },
   {
    "duration": 4,
    "start_time": "2023-01-10T09:05:46.973Z"
   },
   {
    "duration": 56,
    "start_time": "2023-01-10T09:05:46.978Z"
   },
   {
    "duration": 22,
    "start_time": "2023-01-10T09:05:47.036Z"
   },
   {
    "duration": 18,
    "start_time": "2023-01-10T09:05:47.059Z"
   },
   {
    "duration": 18,
    "start_time": "2023-01-10T09:05:47.078Z"
   },
   {
    "duration": 525,
    "start_time": "2023-01-10T09:05:47.098Z"
   },
   {
    "duration": 9,
    "start_time": "2023-01-10T09:05:47.624Z"
   },
   {
    "duration": 19,
    "start_time": "2023-01-10T09:05:47.635Z"
   },
   {
    "duration": 4,
    "start_time": "2023-01-10T09:05:47.656Z"
   },
   {
    "duration": 27,
    "start_time": "2023-01-10T09:05:47.661Z"
   },
   {
    "duration": 9,
    "start_time": "2023-01-10T09:05:47.693Z"
   },
   {
    "duration": 21,
    "start_time": "2023-01-10T09:05:47.704Z"
   },
   {
    "duration": 5,
    "start_time": "2023-01-10T09:05:47.727Z"
   },
   {
    "duration": 17,
    "start_time": "2023-01-10T09:05:47.734Z"
   },
   {
    "duration": 12,
    "start_time": "2023-01-10T09:05:47.753Z"
   },
   {
    "duration": 12,
    "start_time": "2023-01-10T09:05:47.766Z"
   },
   {
    "duration": 10,
    "start_time": "2023-01-10T09:05:47.779Z"
   },
   {
    "duration": 20,
    "start_time": "2023-01-10T09:05:47.790Z"
   },
   {
    "duration": 23,
    "start_time": "2023-01-10T09:05:47.811Z"
   },
   {
    "duration": 22,
    "start_time": "2023-01-10T09:05:47.835Z"
   },
   {
    "duration": 17,
    "start_time": "2023-01-10T09:05:47.859Z"
   },
   {
    "duration": 15,
    "start_time": "2023-01-10T09:05:47.877Z"
   },
   {
    "duration": 310,
    "start_time": "2023-01-10T09:05:47.893Z"
   },
   {
    "duration": 16,
    "start_time": "2023-01-10T09:05:48.205Z"
   },
   {
    "duration": 18,
    "start_time": "2023-01-10T09:05:48.223Z"
   },
   {
    "duration": 21,
    "start_time": "2023-01-10T09:05:48.243Z"
   },
   {
    "duration": 22,
    "start_time": "2023-01-10T09:05:48.265Z"
   },
   {
    "duration": 663,
    "start_time": "2023-01-10T09:05:48.289Z"
   },
   {
    "duration": 7,
    "start_time": "2023-01-10T09:05:48.957Z"
   },
   {
    "duration": 240,
    "start_time": "2023-01-10T09:05:48.965Z"
   },
   {
    "duration": 220,
    "start_time": "2023-01-10T09:05:49.207Z"
   },
   {
    "duration": 12,
    "start_time": "2023-01-10T09:05:49.429Z"
   },
   {
    "duration": 10,
    "start_time": "2023-01-10T09:05:49.443Z"
   },
   {
    "duration": 9,
    "start_time": "2023-01-10T09:05:49.454Z"
   },
   {
    "duration": 6,
    "start_time": "2023-01-10T09:05:49.464Z"
   },
   {
    "duration": 165,
    "start_time": "2023-01-10T09:05:49.472Z"
   },
   {
    "duration": 167,
    "start_time": "2023-01-10T09:05:49.638Z"
   },
   {
    "duration": 4,
    "start_time": "2023-01-10T09:05:49.807Z"
   },
   {
    "duration": 9,
    "start_time": "2023-01-10T09:05:49.813Z"
   },
   {
    "duration": 8,
    "start_time": "2023-01-10T09:05:49.823Z"
   },
   {
    "duration": 158,
    "start_time": "2023-01-10T09:05:49.832Z"
   },
   {
    "duration": 169,
    "start_time": "2023-01-10T09:05:49.992Z"
   },
   {
    "duration": 5,
    "start_time": "2023-01-10T09:05:50.162Z"
   },
   {
    "duration": 158,
    "start_time": "2023-01-10T09:05:50.169Z"
   },
   {
    "duration": 151,
    "start_time": "2023-01-10T09:05:50.328Z"
   },
   {
    "duration": 13,
    "start_time": "2023-01-10T09:05:50.480Z"
   },
   {
    "duration": 200,
    "start_time": "2023-01-10T09:05:50.495Z"
   },
   {
    "duration": 310,
    "start_time": "2023-01-10T09:05:50.697Z"
   },
   {
    "duration": 23,
    "start_time": "2023-01-10T09:05:51.009Z"
   },
   {
    "duration": 168,
    "start_time": "2023-01-10T09:05:51.034Z"
   },
   {
    "duration": 165,
    "start_time": "2023-01-10T09:05:51.203Z"
   },
   {
    "duration": 418,
    "start_time": "2023-01-10T09:05:51.370Z"
   },
   {
    "duration": 16,
    "start_time": "2023-01-10T09:05:51.789Z"
   },
   {
    "duration": 309,
    "start_time": "2023-01-10T09:05:51.806Z"
   },
   {
    "duration": 291,
    "start_time": "2023-01-10T09:05:52.116Z"
   },
   {
    "duration": 309,
    "start_time": "2023-01-10T09:05:52.409Z"
   },
   {
    "duration": 16,
    "start_time": "2023-01-10T09:05:52.721Z"
   },
   {
    "duration": 170,
    "start_time": "2023-01-10T09:05:52.739Z"
   },
   {
    "duration": 128,
    "start_time": "2023-01-10T09:05:52.910Z"
   },
   {
    "duration": 134,
    "start_time": "2023-01-10T09:05:53.040Z"
   },
   {
    "duration": 128,
    "start_time": "2023-01-10T09:05:53.175Z"
   },
   {
    "duration": 19,
    "start_time": "2023-01-10T09:05:53.305Z"
   },
   {
    "duration": 9,
    "start_time": "2023-01-10T09:05:53.325Z"
   },
   {
    "duration": 15,
    "start_time": "2023-01-10T09:05:53.335Z"
   },
   {
    "duration": 7,
    "start_time": "2023-01-10T09:05:53.352Z"
   },
   {
    "duration": 4,
    "start_time": "2023-01-10T09:12:44.800Z"
   },
   {
    "duration": 76,
    "start_time": "2023-01-10T09:12:44.806Z"
   },
   {
    "duration": 23,
    "start_time": "2023-01-10T09:12:44.884Z"
   },
   {
    "duration": 18,
    "start_time": "2023-01-10T09:12:44.909Z"
   },
   {
    "duration": 9,
    "start_time": "2023-01-10T09:12:44.929Z"
   },
   {
    "duration": 549,
    "start_time": "2023-01-10T09:12:44.940Z"
   },
   {
    "duration": 8,
    "start_time": "2023-01-10T09:12:45.491Z"
   },
   {
    "duration": 30,
    "start_time": "2023-01-10T09:12:45.501Z"
   },
   {
    "duration": 6,
    "start_time": "2023-01-10T09:12:45.532Z"
   },
   {
    "duration": 26,
    "start_time": "2023-01-10T09:12:45.539Z"
   },
   {
    "duration": 4,
    "start_time": "2023-01-10T09:12:45.567Z"
   },
   {
    "duration": 9,
    "start_time": "2023-01-10T09:12:45.573Z"
   },
   {
    "duration": 7,
    "start_time": "2023-01-10T09:12:45.583Z"
   },
   {
    "duration": 7,
    "start_time": "2023-01-10T09:12:45.592Z"
   },
   {
    "duration": 13,
    "start_time": "2023-01-10T09:12:45.600Z"
   },
   {
    "duration": 15,
    "start_time": "2023-01-10T09:12:45.614Z"
   },
   {
    "duration": 10,
    "start_time": "2023-01-10T09:12:45.630Z"
   },
   {
    "duration": 16,
    "start_time": "2023-01-10T09:12:45.641Z"
   },
   {
    "duration": 28,
    "start_time": "2023-01-10T09:12:45.658Z"
   },
   {
    "duration": 19,
    "start_time": "2023-01-10T09:12:45.688Z"
   },
   {
    "duration": 28,
    "start_time": "2023-01-10T09:12:45.709Z"
   },
   {
    "duration": 27,
    "start_time": "2023-01-10T09:12:45.739Z"
   },
   {
    "duration": 359,
    "start_time": "2023-01-10T09:12:45.767Z"
   },
   {
    "duration": 7,
    "start_time": "2023-01-10T09:12:46.127Z"
   },
   {
    "duration": 22,
    "start_time": "2023-01-10T09:12:46.135Z"
   },
   {
    "duration": 6,
    "start_time": "2023-01-10T09:12:46.159Z"
   },
   {
    "duration": 23,
    "start_time": "2023-01-10T09:12:46.167Z"
   },
   {
    "duration": 567,
    "start_time": "2023-01-10T09:12:46.191Z"
   },
   {
    "duration": 6,
    "start_time": "2023-01-10T09:12:46.761Z"
   },
   {
    "duration": 210,
    "start_time": "2023-01-10T09:12:46.768Z"
   },
   {
    "duration": 211,
    "start_time": "2023-01-10T09:12:46.980Z"
   },
   {
    "duration": 12,
    "start_time": "2023-01-10T09:12:47.192Z"
   },
   {
    "duration": 16,
    "start_time": "2023-01-10T09:12:47.205Z"
   },
   {
    "duration": 5,
    "start_time": "2023-01-10T09:12:47.223Z"
   },
   {
    "duration": 12,
    "start_time": "2023-01-10T09:12:47.229Z"
   },
   {
    "duration": 152,
    "start_time": "2023-01-10T09:12:47.242Z"
   },
   {
    "duration": 153,
    "start_time": "2023-01-10T09:12:47.396Z"
   },
   {
    "duration": 5,
    "start_time": "2023-01-10T09:12:47.550Z"
   },
   {
    "duration": 13,
    "start_time": "2023-01-10T09:12:47.557Z"
   },
   {
    "duration": 7,
    "start_time": "2023-01-10T09:12:47.572Z"
   },
   {
    "duration": 146,
    "start_time": "2023-01-10T09:12:47.581Z"
   },
   {
    "duration": 169,
    "start_time": "2023-01-10T09:12:47.729Z"
   },
   {
    "duration": 6,
    "start_time": "2023-01-10T09:12:47.899Z"
   },
   {
    "duration": 161,
    "start_time": "2023-01-10T09:12:47.907Z"
   },
   {
    "duration": 171,
    "start_time": "2023-01-10T09:12:48.069Z"
   },
   {
    "duration": 17,
    "start_time": "2023-01-10T09:12:48.242Z"
   },
   {
    "duration": 182,
    "start_time": "2023-01-10T09:12:48.260Z"
   },
   {
    "duration": 309,
    "start_time": "2023-01-10T09:12:48.443Z"
   },
   {
    "duration": 14,
    "start_time": "2023-01-10T09:12:48.754Z"
   },
   {
    "duration": 166,
    "start_time": "2023-01-10T09:12:48.769Z"
   },
   {
    "duration": 167,
    "start_time": "2023-01-10T09:12:48.937Z"
   },
   {
    "duration": 171,
    "start_time": "2023-01-10T09:12:49.106Z"
   },
   {
    "duration": 16,
    "start_time": "2023-01-10T09:12:49.278Z"
   },
   {
    "duration": 312,
    "start_time": "2023-01-10T09:12:49.296Z"
   },
   {
    "duration": 320,
    "start_time": "2023-01-10T09:12:49.609Z"
   },
   {
    "duration": 322,
    "start_time": "2023-01-10T09:12:49.931Z"
   },
   {
    "duration": 15,
    "start_time": "2023-01-10T09:12:50.255Z"
   },
   {
    "duration": 158,
    "start_time": "2023-01-10T09:12:50.272Z"
   },
   {
    "duration": 438,
    "start_time": "2023-01-10T09:12:50.432Z"
   },
   {
    "duration": 132,
    "start_time": "2023-01-10T09:12:50.872Z"
   },
   {
    "duration": 125,
    "start_time": "2023-01-10T09:12:51.006Z"
   },
   {
    "duration": 3,
    "start_time": "2023-01-10T09:12:51.132Z"
   },
   {
    "duration": 27,
    "start_time": "2023-01-10T09:12:51.136Z"
   },
   {
    "duration": 16,
    "start_time": "2023-01-10T09:12:51.165Z"
   },
   {
    "duration": 20,
    "start_time": "2023-01-10T09:12:51.182Z"
   },
   {
    "duration": 16,
    "start_time": "2023-01-10T09:12:51.204Z"
   }
  ],
  "kernelspec": {
   "display_name": "Python 3 (ipykernel)",
   "language": "python",
   "name": "python3"
  },
  "language_info": {
   "codemirror_mode": {
    "name": "ipython",
    "version": 3
   },
   "file_extension": ".py",
   "mimetype": "text/x-python",
   "name": "python",
   "nbconvert_exporter": "python",
   "pygments_lexer": "ipython3",
   "version": "3.9.13"
  },
  "toc": {
   "base_numbering": 1,
   "nav_menu": {},
   "number_sections": true,
   "sideBar": true,
   "skip_h1_title": true,
   "title_cell": "Table of Contents",
   "title_sidebar": "Contents",
   "toc_cell": false,
   "toc_position": {},
   "toc_section_display": true,
   "toc_window_display": false
  }
 },
 "nbformat": 4,
 "nbformat_minor": 2
}
