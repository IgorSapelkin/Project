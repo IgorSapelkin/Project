{
 "cells": [
  {
   "cell_type": "markdown",
   "metadata": {},
   "source": [
    "# Восстановление золота из руды"
   ]
  },
  {
   "cell_type": "markdown",
   "metadata": {},
   "source": [
    "Подготовьте прототип модели машинного обучения для «Цифры». Компания разрабатывает решения для эффективной работы промышленных предприятий.\n",
    "\n",
    "Модель должна предсказать коэффициент восстановления золота из золотосодержащей руды. Используйте данные с параметрами добычи и очистки. \n",
    "\n",
    "Модель поможет оптимизировать производство, чтобы не запускать предприятие с убыточными характеристиками.\n",
    "\n",
    "Вам нужно:\n",
    "\n",
    "1. Подготовить данные;\n",
    "2. Провести исследовательский анализ данных;\n",
    "3. Построить и обучить модель.\n",
    "\n",
    "Чтобы выполнить проект, обращайтесь к библиотекам *pandas*, *matplotlib* и *sklearn.* Вам поможет их документация."
   ]
  },
  {
   "cell_type": "markdown",
   "metadata": {},
   "source": [
    "<font color='blue'>"
   ]
  },
  {
   "cell_type": "markdown",
   "metadata": {},
   "source": [
    "## Подготовка данных"
   ]
  },
  {
   "cell_type": "code",
   "execution_count": 2,
   "metadata": {},
   "outputs": [],
   "source": [
    "import pandas as pd\n",
    "import numpy as np\n",
    "import matplotlib.pyplot as plt\n",
    "import seaborn as sns\n",
    "\n",
    "from sklearn.linear_model import LinearRegression\n",
    "from sklearn.tree import DecisionTreeRegressor\n",
    "from sklearn.ensemble import RandomForestRegressor\n",
    "\n",
    "from sklearn.model_selection import train_test_split\n",
    "from sklearn.metrics import mean_squared_error, mean_absolute_error, r2_score, make_scorer\n",
    "from sklearn.preprocessing import StandardScaler, MinMaxScaler\n",
    "from sklearn.model_selection import GridSearchCV, cross_val_score\n",
    "\n",
    "from sklearn.pipeline import Pipeline, make_pipeline\n",
    "from sklearn.dummy import DummyRegressor"
   ]
  },
  {
   "cell_type": "code",
   "execution_count": 3,
   "metadata": {},
   "outputs": [],
   "source": [
    "\n",
    "df_train=pd.read_csv('/datasets/gold_recovery_train_new.csv')\n",
    "df_test=pd.read_csv('/datasets/gold_recovery_test_new.csv')\n",
    "df_full=pd.read_csv('/datasets/gold_recovery_full_new.csv')\n"
   ]
  },
  {
   "cell_type": "code",
   "execution_count": 4,
   "metadata": {},
   "outputs": [],
   "source": [
    "def df_info(df):\n",
    "    display(df.info)\n",
    "    print()\n",
    "    display(df.describe())\n",
    "    print()\n",
    "    display(df.head(20))\n",
    "    print()\n",
    "    print(df.duplicated().sum())\n",
    "    print()\n",
    "    print(df.isna().sum())\n",
    "    "
   ]
  },
  {
   "cell_type": "code",
   "execution_count": 5,
   "metadata": {},
   "outputs": [
    {
     "data": {
      "text/plain": [
       "<bound method DataFrame.info of                       date  final.output.concentrate_ag  \\\n",
       "0      2016-01-15 00:00:00                     6.055403   \n",
       "1      2016-01-15 01:00:00                     6.029369   \n",
       "2      2016-01-15 02:00:00                     6.055926   \n",
       "3      2016-01-15 03:00:00                     6.047977   \n",
       "4      2016-01-15 04:00:00                     6.148599   \n",
       "...                    ...                          ...   \n",
       "14144  2018-08-18 06:59:59                     3.224920   \n",
       "14145  2018-08-18 07:59:59                     3.195978   \n",
       "14146  2018-08-18 08:59:59                     3.109998   \n",
       "14147  2018-08-18 09:59:59                     3.367241   \n",
       "14148  2018-08-18 10:59:59                     3.598375   \n",
       "\n",
       "       final.output.concentrate_pb  final.output.concentrate_sol  \\\n",
       "0                         9.889648                      5.507324   \n",
       "1                         9.968944                      5.257781   \n",
       "2                        10.213995                      5.383759   \n",
       "3                         9.977019                      4.858634   \n",
       "4                        10.142511                      4.939416   \n",
       "...                            ...                           ...   \n",
       "14144                    11.356233                      6.803482   \n",
       "14145                    11.349355                      6.862249   \n",
       "14146                    11.434366                      6.886013   \n",
       "14147                    11.625587                      6.799433   \n",
       "14148                    11.737832                      6.717509   \n",
       "\n",
       "       final.output.concentrate_au  final.output.recovery  \\\n",
       "0                        42.192020              70.541216   \n",
       "1                        42.701629              69.266198   \n",
       "2                        42.657501              68.116445   \n",
       "3                        42.689819              68.347543   \n",
       "4                        42.774141              66.927016   \n",
       "...                            ...                    ...   \n",
       "14144                    46.713954              73.755150   \n",
       "14145                    46.866780              69.049291   \n",
       "14146                    46.795691              67.002189   \n",
       "14147                    46.408188              65.523246   \n",
       "14148                    46.299438              70.281454   \n",
       "\n",
       "       final.output.tail_ag  final.output.tail_pb  final.output.tail_sol  \\\n",
       "0                 10.411962              0.895447              16.904297   \n",
       "1                 10.462676              0.927452              16.634514   \n",
       "2                 10.507046              0.953716              16.208849   \n",
       "3                 10.422762              0.883763              16.532835   \n",
       "4                 10.360302              0.792826              16.525686   \n",
       "...                     ...                   ...                    ...   \n",
       "14144              8.769645              3.141541              10.403181   \n",
       "14145              8.897321              3.130493              10.549470   \n",
       "14146              8.529606              2.911418              11.115147   \n",
       "14147              8.777171              2.819214              10.463847   \n",
       "14148              8.406690              2.517518              10.652193   \n",
       "\n",
       "       final.output.tail_au  ...  secondary_cleaner.state.floatbank4_a_air  \\\n",
       "0                  2.143149  ...                                 14.016835   \n",
       "1                  2.224930  ...                                 13.992281   \n",
       "2                  2.257889  ...                                 14.015015   \n",
       "3                  2.146849  ...                                 14.036510   \n",
       "4                  2.055292  ...                                 14.027298   \n",
       "...                     ...  ...                                       ...   \n",
       "14144              1.529220  ...                                 23.031497   \n",
       "14145              1.612542  ...                                 22.960095   \n",
       "14146              1.596616  ...                                 23.015718   \n",
       "14147              1.602879  ...                                 23.024963   \n",
       "14148              1.389434  ...                                 23.018622   \n",
       "\n",
       "       secondary_cleaner.state.floatbank4_a_level  \\\n",
       "0                                     -502.488007   \n",
       "1                                     -505.503262   \n",
       "2                                     -502.520901   \n",
       "3                                     -500.857308   \n",
       "4                                     -499.838632   \n",
       "...                                           ...   \n",
       "14144                                 -501.167942   \n",
       "14145                                 -501.612783   \n",
       "14146                                 -501.711599   \n",
       "14147                                 -501.153409   \n",
       "14148                                 -500.492702   \n",
       "\n",
       "       secondary_cleaner.state.floatbank4_b_air  \\\n",
       "0                                     12.099931   \n",
       "1                                     11.950531   \n",
       "2                                     11.912783   \n",
       "3                                     11.999550   \n",
       "4                                     11.953070   \n",
       "...                                         ...   \n",
       "14144                                 20.007571   \n",
       "14145                                 20.035660   \n",
       "14146                                 19.951231   \n",
       "14147                                 20.054122   \n",
       "14148                                 20.020205   \n",
       "\n",
       "       secondary_cleaner.state.floatbank4_b_level  \\\n",
       "0                                     -504.715942   \n",
       "1                                     -501.331529   \n",
       "2                                     -501.133383   \n",
       "3                                     -501.193686   \n",
       "4                                     -501.053894   \n",
       "...                                           ...   \n",
       "14144                                 -499.740028   \n",
       "14145                                 -500.251357   \n",
       "14146                                 -499.857027   \n",
       "14147                                 -500.314711   \n",
       "14148                                 -500.220296   \n",
       "\n",
       "       secondary_cleaner.state.floatbank5_a_air  \\\n",
       "0                                      9.925633   \n",
       "1                                     10.039245   \n",
       "2                                     10.070913   \n",
       "3                                      9.970366   \n",
       "4                                      9.925709   \n",
       "...                                         ...   \n",
       "14144                                 18.006038   \n",
       "14145                                 17.998535   \n",
       "14146                                 18.019543   \n",
       "14147                                 17.979515   \n",
       "14148                                 17.963512   \n",
       "\n",
       "       secondary_cleaner.state.floatbank5_a_level  \\\n",
       "0                                     -498.310211   \n",
       "1                                     -500.169983   \n",
       "2                                     -500.129135   \n",
       "3                                     -499.201640   \n",
       "4                                     -501.686727   \n",
       "...                                           ...   \n",
       "14144                                 -499.834374   \n",
       "14145                                 -500.395178   \n",
       "14146                                 -500.451156   \n",
       "14147                                 -499.272871   \n",
       "14148                                 -499.939490   \n",
       "\n",
       "       secondary_cleaner.state.floatbank5_b_air  \\\n",
       "0                                      8.079666   \n",
       "1                                      7.984757   \n",
       "2                                      8.013877   \n",
       "3                                      7.977324   \n",
       "4                                      7.894242   \n",
       "...                                         ...   \n",
       "14144                                 13.001114   \n",
       "14145                                 12.954048   \n",
       "14146                                 13.023431   \n",
       "14147                                 12.992404   \n",
       "14148                                 12.990306   \n",
       "\n",
       "       secondary_cleaner.state.floatbank5_b_level  \\\n",
       "0                                     -500.470978   \n",
       "1                                     -500.582168   \n",
       "2                                     -500.517572   \n",
       "3                                     -500.255908   \n",
       "4                                     -500.356035   \n",
       "...                                           ...   \n",
       "14144                                 -500.155694   \n",
       "14145                                 -499.895163   \n",
       "14146                                 -499.914391   \n",
       "14147                                 -499.976268   \n",
       "14148                                 -500.080993   \n",
       "\n",
       "       secondary_cleaner.state.floatbank6_a_air  \\\n",
       "0                                     14.151341   \n",
       "1                                     13.998353   \n",
       "2                                     14.028663   \n",
       "3                                     14.005551   \n",
       "4                                     13.996647   \n",
       "...                                         ...   \n",
       "14144                                 20.007840   \n",
       "14145                                 19.968498   \n",
       "14146                                 19.990885   \n",
       "14147                                 20.013986   \n",
       "14148                                 19.990336   \n",
       "\n",
       "       secondary_cleaner.state.floatbank6_a_level  \n",
       "0                                     -605.841980  \n",
       "1                                     -599.787184  \n",
       "2                                     -601.427363  \n",
       "3                                     -599.996129  \n",
       "4                                     -601.496691  \n",
       "...                                           ...  \n",
       "14144                                 -501.296428  \n",
       "14145                                 -501.041608  \n",
       "14146                                 -501.518452  \n",
       "14147                                 -500.625471  \n",
       "14148                                 -499.191575  \n",
       "\n",
       "[14149 rows x 87 columns]>"
      ]
     },
     "metadata": {},
     "output_type": "display_data"
    },
    {
     "name": "stdout",
     "output_type": "stream",
     "text": [
      "\n"
     ]
    },
    {
     "data": {
      "text/html": [
       "<div>\n",
       "<style scoped>\n",
       "    .dataframe tbody tr th:only-of-type {\n",
       "        vertical-align: middle;\n",
       "    }\n",
       "\n",
       "    .dataframe tbody tr th {\n",
       "        vertical-align: top;\n",
       "    }\n",
       "\n",
       "    .dataframe thead th {\n",
       "        text-align: right;\n",
       "    }\n",
       "</style>\n",
       "<table border=\"1\" class=\"dataframe\">\n",
       "  <thead>\n",
       "    <tr style=\"text-align: right;\">\n",
       "      <th></th>\n",
       "      <th>final.output.concentrate_ag</th>\n",
       "      <th>final.output.concentrate_pb</th>\n",
       "      <th>final.output.concentrate_sol</th>\n",
       "      <th>final.output.concentrate_au</th>\n",
       "      <th>final.output.recovery</th>\n",
       "      <th>final.output.tail_ag</th>\n",
       "      <th>final.output.tail_pb</th>\n",
       "      <th>final.output.tail_sol</th>\n",
       "      <th>final.output.tail_au</th>\n",
       "      <th>primary_cleaner.input.sulfate</th>\n",
       "      <th>...</th>\n",
       "      <th>secondary_cleaner.state.floatbank4_a_air</th>\n",
       "      <th>secondary_cleaner.state.floatbank4_a_level</th>\n",
       "      <th>secondary_cleaner.state.floatbank4_b_air</th>\n",
       "      <th>secondary_cleaner.state.floatbank4_b_level</th>\n",
       "      <th>secondary_cleaner.state.floatbank5_a_air</th>\n",
       "      <th>secondary_cleaner.state.floatbank5_a_level</th>\n",
       "      <th>secondary_cleaner.state.floatbank5_b_air</th>\n",
       "      <th>secondary_cleaner.state.floatbank5_b_level</th>\n",
       "      <th>secondary_cleaner.state.floatbank6_a_air</th>\n",
       "      <th>secondary_cleaner.state.floatbank6_a_level</th>\n",
       "    </tr>\n",
       "  </thead>\n",
       "  <tbody>\n",
       "    <tr>\n",
       "      <th>count</th>\n",
       "      <td>14148.000000</td>\n",
       "      <td>14148.000000</td>\n",
       "      <td>13938.000000</td>\n",
       "      <td>14149.000000</td>\n",
       "      <td>14149.000000</td>\n",
       "      <td>14149.000000</td>\n",
       "      <td>14049.000000</td>\n",
       "      <td>14144.000000</td>\n",
       "      <td>14149.000000</td>\n",
       "      <td>14129.000000</td>\n",
       "      <td>...</td>\n",
       "      <td>14143.000000</td>\n",
       "      <td>14148.000000</td>\n",
       "      <td>14148.000000</td>\n",
       "      <td>14148.000000</td>\n",
       "      <td>14148.000000</td>\n",
       "      <td>14148.000000</td>\n",
       "      <td>14148.000000</td>\n",
       "      <td>14148.000000</td>\n",
       "      <td>14147.000000</td>\n",
       "      <td>14148.000000</td>\n",
       "    </tr>\n",
       "    <tr>\n",
       "      <th>mean</th>\n",
       "      <td>5.142034</td>\n",
       "      <td>10.132960</td>\n",
       "      <td>9.202849</td>\n",
       "      <td>44.003792</td>\n",
       "      <td>66.518832</td>\n",
       "      <td>9.607035</td>\n",
       "      <td>2.597298</td>\n",
       "      <td>10.512122</td>\n",
       "      <td>2.918421</td>\n",
       "      <td>133.320659</td>\n",
       "      <td>...</td>\n",
       "      <td>19.985454</td>\n",
       "      <td>-478.696836</td>\n",
       "      <td>15.487065</td>\n",
       "      <td>-460.229416</td>\n",
       "      <td>16.775136</td>\n",
       "      <td>-483.956022</td>\n",
       "      <td>13.064590</td>\n",
       "      <td>-483.966564</td>\n",
       "      <td>19.577539</td>\n",
       "      <td>-506.798480</td>\n",
       "    </tr>\n",
       "    <tr>\n",
       "      <th>std</th>\n",
       "      <td>1.369586</td>\n",
       "      <td>1.654930</td>\n",
       "      <td>2.790516</td>\n",
       "      <td>4.905261</td>\n",
       "      <td>10.295402</td>\n",
       "      <td>2.319069</td>\n",
       "      <td>0.971843</td>\n",
       "      <td>3.003617</td>\n",
       "      <td>0.903712</td>\n",
       "      <td>39.431659</td>\n",
       "      <td>...</td>\n",
       "      <td>5.657723</td>\n",
       "      <td>50.736021</td>\n",
       "      <td>5.255655</td>\n",
       "      <td>58.843586</td>\n",
       "      <td>5.831906</td>\n",
       "      <td>37.892788</td>\n",
       "      <td>5.765617</td>\n",
       "      <td>39.207913</td>\n",
       "      <td>5.764417</td>\n",
       "      <td>37.079249</td>\n",
       "    </tr>\n",
       "    <tr>\n",
       "      <th>min</th>\n",
       "      <td>0.000000</td>\n",
       "      <td>0.000000</td>\n",
       "      <td>0.000000</td>\n",
       "      <td>0.000000</td>\n",
       "      <td>0.000000</td>\n",
       "      <td>0.000000</td>\n",
       "      <td>0.000000</td>\n",
       "      <td>0.000000</td>\n",
       "      <td>0.000000</td>\n",
       "      <td>0.003112</td>\n",
       "      <td>...</td>\n",
       "      <td>0.000000</td>\n",
       "      <td>-799.709069</td>\n",
       "      <td>0.000000</td>\n",
       "      <td>-799.889113</td>\n",
       "      <td>-0.372054</td>\n",
       "      <td>-797.142475</td>\n",
       "      <td>0.646208</td>\n",
       "      <td>-800.006180</td>\n",
       "      <td>0.195324</td>\n",
       "      <td>-809.398668</td>\n",
       "    </tr>\n",
       "    <tr>\n",
       "      <th>25%</th>\n",
       "      <td>4.211620</td>\n",
       "      <td>9.297355</td>\n",
       "      <td>7.484645</td>\n",
       "      <td>43.276111</td>\n",
       "      <td>62.545817</td>\n",
       "      <td>7.997429</td>\n",
       "      <td>1.905973</td>\n",
       "      <td>8.811324</td>\n",
       "      <td>2.368607</td>\n",
       "      <td>107.006651</td>\n",
       "      <td>...</td>\n",
       "      <td>14.990775</td>\n",
       "      <td>-500.628656</td>\n",
       "      <td>11.894558</td>\n",
       "      <td>-500.149000</td>\n",
       "      <td>11.083980</td>\n",
       "      <td>-500.363177</td>\n",
       "      <td>8.994405</td>\n",
       "      <td>-500.105994</td>\n",
       "      <td>14.989304</td>\n",
       "      <td>-500.745104</td>\n",
       "    </tr>\n",
       "    <tr>\n",
       "      <th>50%</th>\n",
       "      <td>4.994652</td>\n",
       "      <td>10.297144</td>\n",
       "      <td>8.845462</td>\n",
       "      <td>44.872436</td>\n",
       "      <td>67.432775</td>\n",
       "      <td>9.480270</td>\n",
       "      <td>2.592022</td>\n",
       "      <td>10.514621</td>\n",
       "      <td>2.851025</td>\n",
       "      <td>133.018328</td>\n",
       "      <td>...</td>\n",
       "      <td>20.001789</td>\n",
       "      <td>-499.681450</td>\n",
       "      <td>14.975536</td>\n",
       "      <td>-499.388738</td>\n",
       "      <td>17.932223</td>\n",
       "      <td>-499.702452</td>\n",
       "      <td>11.997547</td>\n",
       "      <td>-499.914556</td>\n",
       "      <td>19.984175</td>\n",
       "      <td>-500.061431</td>\n",
       "    </tr>\n",
       "    <tr>\n",
       "      <th>75%</th>\n",
       "      <td>5.859540</td>\n",
       "      <td>11.170603</td>\n",
       "      <td>10.487508</td>\n",
       "      <td>46.166425</td>\n",
       "      <td>72.346428</td>\n",
       "      <td>11.003707</td>\n",
       "      <td>3.241723</td>\n",
       "      <td>11.933009</td>\n",
       "      <td>3.434764</td>\n",
       "      <td>159.825396</td>\n",
       "      <td>...</td>\n",
       "      <td>24.990826</td>\n",
       "      <td>-477.472413</td>\n",
       "      <td>20.059375</td>\n",
       "      <td>-400.039008</td>\n",
       "      <td>21.346550</td>\n",
       "      <td>-487.712108</td>\n",
       "      <td>17.982903</td>\n",
       "      <td>-453.186936</td>\n",
       "      <td>24.991623</td>\n",
       "      <td>-499.536466</td>\n",
       "    </tr>\n",
       "    <tr>\n",
       "      <th>max</th>\n",
       "      <td>16.001945</td>\n",
       "      <td>17.031899</td>\n",
       "      <td>18.124851</td>\n",
       "      <td>52.756638</td>\n",
       "      <td>100.000000</td>\n",
       "      <td>19.552149</td>\n",
       "      <td>5.639565</td>\n",
       "      <td>22.317730</td>\n",
       "      <td>8.197408</td>\n",
       "      <td>250.127834</td>\n",
       "      <td>...</td>\n",
       "      <td>30.115735</td>\n",
       "      <td>-245.239184</td>\n",
       "      <td>24.007913</td>\n",
       "      <td>-145.071088</td>\n",
       "      <td>43.709931</td>\n",
       "      <td>-275.073125</td>\n",
       "      <td>27.926001</td>\n",
       "      <td>-157.396071</td>\n",
       "      <td>32.188906</td>\n",
       "      <td>-104.427459</td>\n",
       "    </tr>\n",
       "  </tbody>\n",
       "</table>\n",
       "<p>8 rows × 86 columns</p>\n",
       "</div>"
      ],
      "text/plain": [
       "       final.output.concentrate_ag  final.output.concentrate_pb  \\\n",
       "count                 14148.000000                 14148.000000   \n",
       "mean                      5.142034                    10.132960   \n",
       "std                       1.369586                     1.654930   \n",
       "min                       0.000000                     0.000000   \n",
       "25%                       4.211620                     9.297355   \n",
       "50%                       4.994652                    10.297144   \n",
       "75%                       5.859540                    11.170603   \n",
       "max                      16.001945                    17.031899   \n",
       "\n",
       "       final.output.concentrate_sol  final.output.concentrate_au  \\\n",
       "count                  13938.000000                 14149.000000   \n",
       "mean                       9.202849                    44.003792   \n",
       "std                        2.790516                     4.905261   \n",
       "min                        0.000000                     0.000000   \n",
       "25%                        7.484645                    43.276111   \n",
       "50%                        8.845462                    44.872436   \n",
       "75%                       10.487508                    46.166425   \n",
       "max                       18.124851                    52.756638   \n",
       "\n",
       "       final.output.recovery  final.output.tail_ag  final.output.tail_pb  \\\n",
       "count           14149.000000          14149.000000          14049.000000   \n",
       "mean               66.518832              9.607035              2.597298   \n",
       "std                10.295402              2.319069              0.971843   \n",
       "min                 0.000000              0.000000              0.000000   \n",
       "25%                62.545817              7.997429              1.905973   \n",
       "50%                67.432775              9.480270              2.592022   \n",
       "75%                72.346428             11.003707              3.241723   \n",
       "max               100.000000             19.552149              5.639565   \n",
       "\n",
       "       final.output.tail_sol  final.output.tail_au  \\\n",
       "count           14144.000000          14149.000000   \n",
       "mean               10.512122              2.918421   \n",
       "std                 3.003617              0.903712   \n",
       "min                 0.000000              0.000000   \n",
       "25%                 8.811324              2.368607   \n",
       "50%                10.514621              2.851025   \n",
       "75%                11.933009              3.434764   \n",
       "max                22.317730              8.197408   \n",
       "\n",
       "       primary_cleaner.input.sulfate  ...  \\\n",
       "count                   14129.000000  ...   \n",
       "mean                      133.320659  ...   \n",
       "std                        39.431659  ...   \n",
       "min                         0.003112  ...   \n",
       "25%                       107.006651  ...   \n",
       "50%                       133.018328  ...   \n",
       "75%                       159.825396  ...   \n",
       "max                       250.127834  ...   \n",
       "\n",
       "       secondary_cleaner.state.floatbank4_a_air  \\\n",
       "count                              14143.000000   \n",
       "mean                                  19.985454   \n",
       "std                                    5.657723   \n",
       "min                                    0.000000   \n",
       "25%                                   14.990775   \n",
       "50%                                   20.001789   \n",
       "75%                                   24.990826   \n",
       "max                                   30.115735   \n",
       "\n",
       "       secondary_cleaner.state.floatbank4_a_level  \\\n",
       "count                                14148.000000   \n",
       "mean                                  -478.696836   \n",
       "std                                     50.736021   \n",
       "min                                   -799.709069   \n",
       "25%                                   -500.628656   \n",
       "50%                                   -499.681450   \n",
       "75%                                   -477.472413   \n",
       "max                                   -245.239184   \n",
       "\n",
       "       secondary_cleaner.state.floatbank4_b_air  \\\n",
       "count                              14148.000000   \n",
       "mean                                  15.487065   \n",
       "std                                    5.255655   \n",
       "min                                    0.000000   \n",
       "25%                                   11.894558   \n",
       "50%                                   14.975536   \n",
       "75%                                   20.059375   \n",
       "max                                   24.007913   \n",
       "\n",
       "       secondary_cleaner.state.floatbank4_b_level  \\\n",
       "count                                14148.000000   \n",
       "mean                                  -460.229416   \n",
       "std                                     58.843586   \n",
       "min                                   -799.889113   \n",
       "25%                                   -500.149000   \n",
       "50%                                   -499.388738   \n",
       "75%                                   -400.039008   \n",
       "max                                   -145.071088   \n",
       "\n",
       "       secondary_cleaner.state.floatbank5_a_air  \\\n",
       "count                              14148.000000   \n",
       "mean                                  16.775136   \n",
       "std                                    5.831906   \n",
       "min                                   -0.372054   \n",
       "25%                                   11.083980   \n",
       "50%                                   17.932223   \n",
       "75%                                   21.346550   \n",
       "max                                   43.709931   \n",
       "\n",
       "       secondary_cleaner.state.floatbank5_a_level  \\\n",
       "count                                14148.000000   \n",
       "mean                                  -483.956022   \n",
       "std                                     37.892788   \n",
       "min                                   -797.142475   \n",
       "25%                                   -500.363177   \n",
       "50%                                   -499.702452   \n",
       "75%                                   -487.712108   \n",
       "max                                   -275.073125   \n",
       "\n",
       "       secondary_cleaner.state.floatbank5_b_air  \\\n",
       "count                              14148.000000   \n",
       "mean                                  13.064590   \n",
       "std                                    5.765617   \n",
       "min                                    0.646208   \n",
       "25%                                    8.994405   \n",
       "50%                                   11.997547   \n",
       "75%                                   17.982903   \n",
       "max                                   27.926001   \n",
       "\n",
       "       secondary_cleaner.state.floatbank5_b_level  \\\n",
       "count                                14148.000000   \n",
       "mean                                  -483.966564   \n",
       "std                                     39.207913   \n",
       "min                                   -800.006180   \n",
       "25%                                   -500.105994   \n",
       "50%                                   -499.914556   \n",
       "75%                                   -453.186936   \n",
       "max                                   -157.396071   \n",
       "\n",
       "       secondary_cleaner.state.floatbank6_a_air  \\\n",
       "count                              14147.000000   \n",
       "mean                                  19.577539   \n",
       "std                                    5.764417   \n",
       "min                                    0.195324   \n",
       "25%                                   14.989304   \n",
       "50%                                   19.984175   \n",
       "75%                                   24.991623   \n",
       "max                                   32.188906   \n",
       "\n",
       "       secondary_cleaner.state.floatbank6_a_level  \n",
       "count                                14148.000000  \n",
       "mean                                  -506.798480  \n",
       "std                                     37.079249  \n",
       "min                                   -809.398668  \n",
       "25%                                   -500.745104  \n",
       "50%                                   -500.061431  \n",
       "75%                                   -499.536466  \n",
       "max                                   -104.427459  \n",
       "\n",
       "[8 rows x 86 columns]"
      ]
     },
     "metadata": {},
     "output_type": "display_data"
    },
    {
     "name": "stdout",
     "output_type": "stream",
     "text": [
      "\n"
     ]
    },
    {
     "data": {
      "text/html": [
       "<div>\n",
       "<style scoped>\n",
       "    .dataframe tbody tr th:only-of-type {\n",
       "        vertical-align: middle;\n",
       "    }\n",
       "\n",
       "    .dataframe tbody tr th {\n",
       "        vertical-align: top;\n",
       "    }\n",
       "\n",
       "    .dataframe thead th {\n",
       "        text-align: right;\n",
       "    }\n",
       "</style>\n",
       "<table border=\"1\" class=\"dataframe\">\n",
       "  <thead>\n",
       "    <tr style=\"text-align: right;\">\n",
       "      <th></th>\n",
       "      <th>date</th>\n",
       "      <th>final.output.concentrate_ag</th>\n",
       "      <th>final.output.concentrate_pb</th>\n",
       "      <th>final.output.concentrate_sol</th>\n",
       "      <th>final.output.concentrate_au</th>\n",
       "      <th>final.output.recovery</th>\n",
       "      <th>final.output.tail_ag</th>\n",
       "      <th>final.output.tail_pb</th>\n",
       "      <th>final.output.tail_sol</th>\n",
       "      <th>final.output.tail_au</th>\n",
       "      <th>...</th>\n",
       "      <th>secondary_cleaner.state.floatbank4_a_air</th>\n",
       "      <th>secondary_cleaner.state.floatbank4_a_level</th>\n",
       "      <th>secondary_cleaner.state.floatbank4_b_air</th>\n",
       "      <th>secondary_cleaner.state.floatbank4_b_level</th>\n",
       "      <th>secondary_cleaner.state.floatbank5_a_air</th>\n",
       "      <th>secondary_cleaner.state.floatbank5_a_level</th>\n",
       "      <th>secondary_cleaner.state.floatbank5_b_air</th>\n",
       "      <th>secondary_cleaner.state.floatbank5_b_level</th>\n",
       "      <th>secondary_cleaner.state.floatbank6_a_air</th>\n",
       "      <th>secondary_cleaner.state.floatbank6_a_level</th>\n",
       "    </tr>\n",
       "  </thead>\n",
       "  <tbody>\n",
       "    <tr>\n",
       "      <th>0</th>\n",
       "      <td>2016-01-15 00:00:00</td>\n",
       "      <td>6.055403</td>\n",
       "      <td>9.889648</td>\n",
       "      <td>5.507324</td>\n",
       "      <td>42.192020</td>\n",
       "      <td>70.541216</td>\n",
       "      <td>10.411962</td>\n",
       "      <td>0.895447</td>\n",
       "      <td>16.904297</td>\n",
       "      <td>2.143149</td>\n",
       "      <td>...</td>\n",
       "      <td>14.016835</td>\n",
       "      <td>-502.488007</td>\n",
       "      <td>12.099931</td>\n",
       "      <td>-504.715942</td>\n",
       "      <td>9.925633</td>\n",
       "      <td>-498.310211</td>\n",
       "      <td>8.079666</td>\n",
       "      <td>-500.470978</td>\n",
       "      <td>14.151341</td>\n",
       "      <td>-605.841980</td>\n",
       "    </tr>\n",
       "    <tr>\n",
       "      <th>1</th>\n",
       "      <td>2016-01-15 01:00:00</td>\n",
       "      <td>6.029369</td>\n",
       "      <td>9.968944</td>\n",
       "      <td>5.257781</td>\n",
       "      <td>42.701629</td>\n",
       "      <td>69.266198</td>\n",
       "      <td>10.462676</td>\n",
       "      <td>0.927452</td>\n",
       "      <td>16.634514</td>\n",
       "      <td>2.224930</td>\n",
       "      <td>...</td>\n",
       "      <td>13.992281</td>\n",
       "      <td>-505.503262</td>\n",
       "      <td>11.950531</td>\n",
       "      <td>-501.331529</td>\n",
       "      <td>10.039245</td>\n",
       "      <td>-500.169983</td>\n",
       "      <td>7.984757</td>\n",
       "      <td>-500.582168</td>\n",
       "      <td>13.998353</td>\n",
       "      <td>-599.787184</td>\n",
       "    </tr>\n",
       "    <tr>\n",
       "      <th>2</th>\n",
       "      <td>2016-01-15 02:00:00</td>\n",
       "      <td>6.055926</td>\n",
       "      <td>10.213995</td>\n",
       "      <td>5.383759</td>\n",
       "      <td>42.657501</td>\n",
       "      <td>68.116445</td>\n",
       "      <td>10.507046</td>\n",
       "      <td>0.953716</td>\n",
       "      <td>16.208849</td>\n",
       "      <td>2.257889</td>\n",
       "      <td>...</td>\n",
       "      <td>14.015015</td>\n",
       "      <td>-502.520901</td>\n",
       "      <td>11.912783</td>\n",
       "      <td>-501.133383</td>\n",
       "      <td>10.070913</td>\n",
       "      <td>-500.129135</td>\n",
       "      <td>8.013877</td>\n",
       "      <td>-500.517572</td>\n",
       "      <td>14.028663</td>\n",
       "      <td>-601.427363</td>\n",
       "    </tr>\n",
       "    <tr>\n",
       "      <th>3</th>\n",
       "      <td>2016-01-15 03:00:00</td>\n",
       "      <td>6.047977</td>\n",
       "      <td>9.977019</td>\n",
       "      <td>4.858634</td>\n",
       "      <td>42.689819</td>\n",
       "      <td>68.347543</td>\n",
       "      <td>10.422762</td>\n",
       "      <td>0.883763</td>\n",
       "      <td>16.532835</td>\n",
       "      <td>2.146849</td>\n",
       "      <td>...</td>\n",
       "      <td>14.036510</td>\n",
       "      <td>-500.857308</td>\n",
       "      <td>11.999550</td>\n",
       "      <td>-501.193686</td>\n",
       "      <td>9.970366</td>\n",
       "      <td>-499.201640</td>\n",
       "      <td>7.977324</td>\n",
       "      <td>-500.255908</td>\n",
       "      <td>14.005551</td>\n",
       "      <td>-599.996129</td>\n",
       "    </tr>\n",
       "    <tr>\n",
       "      <th>4</th>\n",
       "      <td>2016-01-15 04:00:00</td>\n",
       "      <td>6.148599</td>\n",
       "      <td>10.142511</td>\n",
       "      <td>4.939416</td>\n",
       "      <td>42.774141</td>\n",
       "      <td>66.927016</td>\n",
       "      <td>10.360302</td>\n",
       "      <td>0.792826</td>\n",
       "      <td>16.525686</td>\n",
       "      <td>2.055292</td>\n",
       "      <td>...</td>\n",
       "      <td>14.027298</td>\n",
       "      <td>-499.838632</td>\n",
       "      <td>11.953070</td>\n",
       "      <td>-501.053894</td>\n",
       "      <td>9.925709</td>\n",
       "      <td>-501.686727</td>\n",
       "      <td>7.894242</td>\n",
       "      <td>-500.356035</td>\n",
       "      <td>13.996647</td>\n",
       "      <td>-601.496691</td>\n",
       "    </tr>\n",
       "    <tr>\n",
       "      <th>5</th>\n",
       "      <td>2016-01-15 05:00:00</td>\n",
       "      <td>6.482968</td>\n",
       "      <td>10.049416</td>\n",
       "      <td>5.480257</td>\n",
       "      <td>41.633678</td>\n",
       "      <td>69.465816</td>\n",
       "      <td>10.182708</td>\n",
       "      <td>0.664118</td>\n",
       "      <td>16.999638</td>\n",
       "      <td>1.918586</td>\n",
       "      <td>...</td>\n",
       "      <td>13.938497</td>\n",
       "      <td>-500.970168</td>\n",
       "      <td>11.883350</td>\n",
       "      <td>-500.395298</td>\n",
       "      <td>10.054147</td>\n",
       "      <td>-496.374715</td>\n",
       "      <td>7.965083</td>\n",
       "      <td>-499.364752</td>\n",
       "      <td>14.017067</td>\n",
       "      <td>-599.707915</td>\n",
       "    </tr>\n",
       "    <tr>\n",
       "      <th>6</th>\n",
       "      <td>2016-01-15 06:00:00</td>\n",
       "      <td>6.533849</td>\n",
       "      <td>10.058141</td>\n",
       "      <td>4.569100</td>\n",
       "      <td>41.995316</td>\n",
       "      <td>69.300835</td>\n",
       "      <td>10.304598</td>\n",
       "      <td>0.807342</td>\n",
       "      <td>16.723575</td>\n",
       "      <td>2.058913</td>\n",
       "      <td>...</td>\n",
       "      <td>14.046819</td>\n",
       "      <td>-500.971133</td>\n",
       "      <td>12.091543</td>\n",
       "      <td>-500.501426</td>\n",
       "      <td>10.003247</td>\n",
       "      <td>-497.083180</td>\n",
       "      <td>8.010890</td>\n",
       "      <td>-500.002423</td>\n",
       "      <td>14.029649</td>\n",
       "      <td>-600.905470</td>\n",
       "    </tr>\n",
       "    <tr>\n",
       "      <th>7</th>\n",
       "      <td>2016-01-15 07:00:00</td>\n",
       "      <td>6.130823</td>\n",
       "      <td>9.935481</td>\n",
       "      <td>4.389813</td>\n",
       "      <td>42.452727</td>\n",
       "      <td>70.230976</td>\n",
       "      <td>10.443288</td>\n",
       "      <td>0.949346</td>\n",
       "      <td>16.689959</td>\n",
       "      <td>2.143437</td>\n",
       "      <td>...</td>\n",
       "      <td>13.974691</td>\n",
       "      <td>-501.819696</td>\n",
       "      <td>12.101324</td>\n",
       "      <td>-500.583446</td>\n",
       "      <td>9.873169</td>\n",
       "      <td>-499.171928</td>\n",
       "      <td>7.993381</td>\n",
       "      <td>-499.794518</td>\n",
       "      <td>13.984498</td>\n",
       "      <td>-600.411070</td>\n",
       "    </tr>\n",
       "    <tr>\n",
       "      <th>8</th>\n",
       "      <td>2016-01-15 08:00:00</td>\n",
       "      <td>5.834140</td>\n",
       "      <td>10.071156</td>\n",
       "      <td>4.876389</td>\n",
       "      <td>43.404078</td>\n",
       "      <td>69.688595</td>\n",
       "      <td>10.420140</td>\n",
       "      <td>1.065453</td>\n",
       "      <td>17.201948</td>\n",
       "      <td>2.209881</td>\n",
       "      <td>...</td>\n",
       "      <td>13.964030</td>\n",
       "      <td>-504.252450</td>\n",
       "      <td>12.060738</td>\n",
       "      <td>-501.174549</td>\n",
       "      <td>10.033838</td>\n",
       "      <td>-501.178133</td>\n",
       "      <td>7.881604</td>\n",
       "      <td>-499.729434</td>\n",
       "      <td>13.967135</td>\n",
       "      <td>-599.061188</td>\n",
       "    </tr>\n",
       "    <tr>\n",
       "      <th>9</th>\n",
       "      <td>2016-01-15 09:00:00</td>\n",
       "      <td>5.687063</td>\n",
       "      <td>9.980404</td>\n",
       "      <td>5.282514</td>\n",
       "      <td>43.235220</td>\n",
       "      <td>70.279619</td>\n",
       "      <td>10.487013</td>\n",
       "      <td>1.159805</td>\n",
       "      <td>17.483979</td>\n",
       "      <td>2.209593</td>\n",
       "      <td>...</td>\n",
       "      <td>13.989632</td>\n",
       "      <td>-503.195299</td>\n",
       "      <td>12.052233</td>\n",
       "      <td>-500.928547</td>\n",
       "      <td>9.962574</td>\n",
       "      <td>-502.986357</td>\n",
       "      <td>7.979219</td>\n",
       "      <td>-500.146835</td>\n",
       "      <td>13.981614</td>\n",
       "      <td>-598.070855</td>\n",
       "    </tr>\n",
       "    <tr>\n",
       "      <th>10</th>\n",
       "      <td>2016-01-15 10:00:00</td>\n",
       "      <td>5.706261</td>\n",
       "      <td>10.242511</td>\n",
       "      <td>5.214161</td>\n",
       "      <td>43.487291</td>\n",
       "      <td>70.973641</td>\n",
       "      <td>10.473539</td>\n",
       "      <td>1.171183</td>\n",
       "      <td>17.717049</td>\n",
       "      <td>2.200997</td>\n",
       "      <td>...</td>\n",
       "      <td>14.008944</td>\n",
       "      <td>-504.170807</td>\n",
       "      <td>11.995903</td>\n",
       "      <td>-501.269181</td>\n",
       "      <td>10.043100</td>\n",
       "      <td>-498.529996</td>\n",
       "      <td>8.002633</td>\n",
       "      <td>-499.761922</td>\n",
       "      <td>14.004767</td>\n",
       "      <td>-599.595324</td>\n",
       "    </tr>\n",
       "    <tr>\n",
       "      <th>11</th>\n",
       "      <td>2016-01-15 11:00:00</td>\n",
       "      <td>5.582300</td>\n",
       "      <td>10.029878</td>\n",
       "      <td>5.751567</td>\n",
       "      <td>43.467440</td>\n",
       "      <td>71.380681</td>\n",
       "      <td>10.394314</td>\n",
       "      <td>1.087722</td>\n",
       "      <td>18.059770</td>\n",
       "      <td>2.098777</td>\n",
       "      <td>...</td>\n",
       "      <td>14.029704</td>\n",
       "      <td>-503.940828</td>\n",
       "      <td>12.022296</td>\n",
       "      <td>-501.238477</td>\n",
       "      <td>10.020094</td>\n",
       "      <td>-500.061845</td>\n",
       "      <td>7.964024</td>\n",
       "      <td>-499.283982</td>\n",
       "      <td>14.003011</td>\n",
       "      <td>-599.879856</td>\n",
       "    </tr>\n",
       "    <tr>\n",
       "      <th>12</th>\n",
       "      <td>2016-01-15 12:00:00</td>\n",
       "      <td>5.664983</td>\n",
       "      <td>10.168953</td>\n",
       "      <td>5.484318</td>\n",
       "      <td>43.339714</td>\n",
       "      <td>72.659046</td>\n",
       "      <td>10.475957</td>\n",
       "      <td>1.050592</td>\n",
       "      <td>17.525656</td>\n",
       "      <td>2.064422</td>\n",
       "      <td>...</td>\n",
       "      <td>13.983963</td>\n",
       "      <td>-503.675714</td>\n",
       "      <td>11.928745</td>\n",
       "      <td>-500.583183</td>\n",
       "      <td>9.970359</td>\n",
       "      <td>-498.822343</td>\n",
       "      <td>8.016377</td>\n",
       "      <td>-499.013145</td>\n",
       "      <td>14.000032</td>\n",
       "      <td>-600.024741</td>\n",
       "    </tr>\n",
       "    <tr>\n",
       "      <th>13</th>\n",
       "      <td>2016-01-15 13:00:00</td>\n",
       "      <td>5.474776</td>\n",
       "      <td>9.813218</td>\n",
       "      <td>5.587525</td>\n",
       "      <td>44.099758</td>\n",
       "      <td>73.588844</td>\n",
       "      <td>10.378293</td>\n",
       "      <td>0.900833</td>\n",
       "      <td>17.464201</td>\n",
       "      <td>1.975039</td>\n",
       "      <td>...</td>\n",
       "      <td>13.981325</td>\n",
       "      <td>-504.947519</td>\n",
       "      <td>12.014060</td>\n",
       "      <td>-500.647565</td>\n",
       "      <td>10.000087</td>\n",
       "      <td>-499.306972</td>\n",
       "      <td>8.002007</td>\n",
       "      <td>-499.970754</td>\n",
       "      <td>14.019977</td>\n",
       "      <td>-599.986714</td>\n",
       "    </tr>\n",
       "    <tr>\n",
       "      <th>14</th>\n",
       "      <td>2016-01-15 14:00:00</td>\n",
       "      <td>5.437716</td>\n",
       "      <td>9.781181</td>\n",
       "      <td>6.057627</td>\n",
       "      <td>44.284117</td>\n",
       "      <td>70.847012</td>\n",
       "      <td>10.324415</td>\n",
       "      <td>0.961210</td>\n",
       "      <td>18.185262</td>\n",
       "      <td>2.161256</td>\n",
       "      <td>...</td>\n",
       "      <td>13.996317</td>\n",
       "      <td>-502.995300</td>\n",
       "      <td>11.980055</td>\n",
       "      <td>-500.607751</td>\n",
       "      <td>9.964501</td>\n",
       "      <td>-499.261719</td>\n",
       "      <td>8.065048</td>\n",
       "      <td>-499.492395</td>\n",
       "      <td>13.997801</td>\n",
       "      <td>-600.621416</td>\n",
       "    </tr>\n",
       "    <tr>\n",
       "      <th>15</th>\n",
       "      <td>2016-01-15 15:00:00</td>\n",
       "      <td>5.454277</td>\n",
       "      <td>10.019066</td>\n",
       "      <td>5.744694</td>\n",
       "      <td>44.081600</td>\n",
       "      <td>68.753219</td>\n",
       "      <td>10.352547</td>\n",
       "      <td>1.137378</td>\n",
       "      <td>18.431646</td>\n",
       "      <td>2.336759</td>\n",
       "      <td>...</td>\n",
       "      <td>14.015223</td>\n",
       "      <td>-503.202022</td>\n",
       "      <td>11.994299</td>\n",
       "      <td>-500.337803</td>\n",
       "      <td>10.037149</td>\n",
       "      <td>-499.395047</td>\n",
       "      <td>8.056439</td>\n",
       "      <td>-499.479716</td>\n",
       "      <td>13.977626</td>\n",
       "      <td>-600.075029</td>\n",
       "    </tr>\n",
       "    <tr>\n",
       "      <th>16</th>\n",
       "      <td>2016-01-15 16:00:00</td>\n",
       "      <td>5.410126</td>\n",
       "      <td>10.868937</td>\n",
       "      <td>6.258693</td>\n",
       "      <td>43.440341</td>\n",
       "      <td>67.839536</td>\n",
       "      <td>10.382891</td>\n",
       "      <td>1.239738</td>\n",
       "      <td>18.544924</td>\n",
       "      <td>2.423143</td>\n",
       "      <td>...</td>\n",
       "      <td>14.031220</td>\n",
       "      <td>-503.471307</td>\n",
       "      <td>11.966426</td>\n",
       "      <td>-500.656842</td>\n",
       "      <td>10.051620</td>\n",
       "      <td>-498.318772</td>\n",
       "      <td>8.018091</td>\n",
       "      <td>-499.696138</td>\n",
       "      <td>13.958937</td>\n",
       "      <td>-599.213013</td>\n",
       "    </tr>\n",
       "    <tr>\n",
       "      <th>17</th>\n",
       "      <td>2016-01-15 17:00:00</td>\n",
       "      <td>5.572499</td>\n",
       "      <td>10.841483</td>\n",
       "      <td>6.841936</td>\n",
       "      <td>42.844534</td>\n",
       "      <td>69.633763</td>\n",
       "      <td>10.349616</td>\n",
       "      <td>1.179975</td>\n",
       "      <td>18.748028</td>\n",
       "      <td>2.327442</td>\n",
       "      <td>...</td>\n",
       "      <td>14.019768</td>\n",
       "      <td>-541.569984</td>\n",
       "      <td>12.021831</td>\n",
       "      <td>-545.572166</td>\n",
       "      <td>10.021058</td>\n",
       "      <td>-501.386982</td>\n",
       "      <td>7.947110</td>\n",
       "      <td>-500.062750</td>\n",
       "      <td>14.014991</td>\n",
       "      <td>-600.670573</td>\n",
       "    </tr>\n",
       "    <tr>\n",
       "      <th>18</th>\n",
       "      <td>2016-01-15 18:00:00</td>\n",
       "      <td>5.719113</td>\n",
       "      <td>10.621027</td>\n",
       "      <td>6.459561</td>\n",
       "      <td>42.435181</td>\n",
       "      <td>68.786981</td>\n",
       "      <td>10.286797</td>\n",
       "      <td>1.171459</td>\n",
       "      <td>19.131121</td>\n",
       "      <td>2.314786</td>\n",
       "      <td>...</td>\n",
       "      <td>14.003057</td>\n",
       "      <td>-503.152258</td>\n",
       "      <td>12.016724</td>\n",
       "      <td>-501.136446</td>\n",
       "      <td>10.041864</td>\n",
       "      <td>-499.338844</td>\n",
       "      <td>8.007022</td>\n",
       "      <td>-500.279583</td>\n",
       "      <td>14.001271</td>\n",
       "      <td>-602.072365</td>\n",
       "    </tr>\n",
       "    <tr>\n",
       "      <th>19</th>\n",
       "      <td>2016-01-15 19:00:00</td>\n",
       "      <td>5.658943</td>\n",
       "      <td>10.436002</td>\n",
       "      <td>5.942418</td>\n",
       "      <td>42.509402</td>\n",
       "      <td>70.348300</td>\n",
       "      <td>10.232392</td>\n",
       "      <td>1.174845</td>\n",
       "      <td>19.498566</td>\n",
       "      <td>2.272460</td>\n",
       "      <td>...</td>\n",
       "      <td>14.001632</td>\n",
       "      <td>-509.808331</td>\n",
       "      <td>12.087669</td>\n",
       "      <td>-510.782166</td>\n",
       "      <td>10.032043</td>\n",
       "      <td>-499.128183</td>\n",
       "      <td>8.016140</td>\n",
       "      <td>-499.806844</td>\n",
       "      <td>13.949790</td>\n",
       "      <td>-600.140776</td>\n",
       "    </tr>\n",
       "  </tbody>\n",
       "</table>\n",
       "<p>20 rows × 87 columns</p>\n",
       "</div>"
      ],
      "text/plain": [
       "                   date  final.output.concentrate_ag  \\\n",
       "0   2016-01-15 00:00:00                     6.055403   \n",
       "1   2016-01-15 01:00:00                     6.029369   \n",
       "2   2016-01-15 02:00:00                     6.055926   \n",
       "3   2016-01-15 03:00:00                     6.047977   \n",
       "4   2016-01-15 04:00:00                     6.148599   \n",
       "5   2016-01-15 05:00:00                     6.482968   \n",
       "6   2016-01-15 06:00:00                     6.533849   \n",
       "7   2016-01-15 07:00:00                     6.130823   \n",
       "8   2016-01-15 08:00:00                     5.834140   \n",
       "9   2016-01-15 09:00:00                     5.687063   \n",
       "10  2016-01-15 10:00:00                     5.706261   \n",
       "11  2016-01-15 11:00:00                     5.582300   \n",
       "12  2016-01-15 12:00:00                     5.664983   \n",
       "13  2016-01-15 13:00:00                     5.474776   \n",
       "14  2016-01-15 14:00:00                     5.437716   \n",
       "15  2016-01-15 15:00:00                     5.454277   \n",
       "16  2016-01-15 16:00:00                     5.410126   \n",
       "17  2016-01-15 17:00:00                     5.572499   \n",
       "18  2016-01-15 18:00:00                     5.719113   \n",
       "19  2016-01-15 19:00:00                     5.658943   \n",
       "\n",
       "    final.output.concentrate_pb  final.output.concentrate_sol  \\\n",
       "0                      9.889648                      5.507324   \n",
       "1                      9.968944                      5.257781   \n",
       "2                     10.213995                      5.383759   \n",
       "3                      9.977019                      4.858634   \n",
       "4                     10.142511                      4.939416   \n",
       "5                     10.049416                      5.480257   \n",
       "6                     10.058141                      4.569100   \n",
       "7                      9.935481                      4.389813   \n",
       "8                     10.071156                      4.876389   \n",
       "9                      9.980404                      5.282514   \n",
       "10                    10.242511                      5.214161   \n",
       "11                    10.029878                      5.751567   \n",
       "12                    10.168953                      5.484318   \n",
       "13                     9.813218                      5.587525   \n",
       "14                     9.781181                      6.057627   \n",
       "15                    10.019066                      5.744694   \n",
       "16                    10.868937                      6.258693   \n",
       "17                    10.841483                      6.841936   \n",
       "18                    10.621027                      6.459561   \n",
       "19                    10.436002                      5.942418   \n",
       "\n",
       "    final.output.concentrate_au  final.output.recovery  final.output.tail_ag  \\\n",
       "0                     42.192020              70.541216             10.411962   \n",
       "1                     42.701629              69.266198             10.462676   \n",
       "2                     42.657501              68.116445             10.507046   \n",
       "3                     42.689819              68.347543             10.422762   \n",
       "4                     42.774141              66.927016             10.360302   \n",
       "5                     41.633678              69.465816             10.182708   \n",
       "6                     41.995316              69.300835             10.304598   \n",
       "7                     42.452727              70.230976             10.443288   \n",
       "8                     43.404078              69.688595             10.420140   \n",
       "9                     43.235220              70.279619             10.487013   \n",
       "10                    43.487291              70.973641             10.473539   \n",
       "11                    43.467440              71.380681             10.394314   \n",
       "12                    43.339714              72.659046             10.475957   \n",
       "13                    44.099758              73.588844             10.378293   \n",
       "14                    44.284117              70.847012             10.324415   \n",
       "15                    44.081600              68.753219             10.352547   \n",
       "16                    43.440341              67.839536             10.382891   \n",
       "17                    42.844534              69.633763             10.349616   \n",
       "18                    42.435181              68.786981             10.286797   \n",
       "19                    42.509402              70.348300             10.232392   \n",
       "\n",
       "    final.output.tail_pb  final.output.tail_sol  final.output.tail_au  ...  \\\n",
       "0               0.895447              16.904297              2.143149  ...   \n",
       "1               0.927452              16.634514              2.224930  ...   \n",
       "2               0.953716              16.208849              2.257889  ...   \n",
       "3               0.883763              16.532835              2.146849  ...   \n",
       "4               0.792826              16.525686              2.055292  ...   \n",
       "5               0.664118              16.999638              1.918586  ...   \n",
       "6               0.807342              16.723575              2.058913  ...   \n",
       "7               0.949346              16.689959              2.143437  ...   \n",
       "8               1.065453              17.201948              2.209881  ...   \n",
       "9               1.159805              17.483979              2.209593  ...   \n",
       "10              1.171183              17.717049              2.200997  ...   \n",
       "11              1.087722              18.059770              2.098777  ...   \n",
       "12              1.050592              17.525656              2.064422  ...   \n",
       "13              0.900833              17.464201              1.975039  ...   \n",
       "14              0.961210              18.185262              2.161256  ...   \n",
       "15              1.137378              18.431646              2.336759  ...   \n",
       "16              1.239738              18.544924              2.423143  ...   \n",
       "17              1.179975              18.748028              2.327442  ...   \n",
       "18              1.171459              19.131121              2.314786  ...   \n",
       "19              1.174845              19.498566              2.272460  ...   \n",
       "\n",
       "    secondary_cleaner.state.floatbank4_a_air  \\\n",
       "0                                  14.016835   \n",
       "1                                  13.992281   \n",
       "2                                  14.015015   \n",
       "3                                  14.036510   \n",
       "4                                  14.027298   \n",
       "5                                  13.938497   \n",
       "6                                  14.046819   \n",
       "7                                  13.974691   \n",
       "8                                  13.964030   \n",
       "9                                  13.989632   \n",
       "10                                 14.008944   \n",
       "11                                 14.029704   \n",
       "12                                 13.983963   \n",
       "13                                 13.981325   \n",
       "14                                 13.996317   \n",
       "15                                 14.015223   \n",
       "16                                 14.031220   \n",
       "17                                 14.019768   \n",
       "18                                 14.003057   \n",
       "19                                 14.001632   \n",
       "\n",
       "    secondary_cleaner.state.floatbank4_a_level  \\\n",
       "0                                  -502.488007   \n",
       "1                                  -505.503262   \n",
       "2                                  -502.520901   \n",
       "3                                  -500.857308   \n",
       "4                                  -499.838632   \n",
       "5                                  -500.970168   \n",
       "6                                  -500.971133   \n",
       "7                                  -501.819696   \n",
       "8                                  -504.252450   \n",
       "9                                  -503.195299   \n",
       "10                                 -504.170807   \n",
       "11                                 -503.940828   \n",
       "12                                 -503.675714   \n",
       "13                                 -504.947519   \n",
       "14                                 -502.995300   \n",
       "15                                 -503.202022   \n",
       "16                                 -503.471307   \n",
       "17                                 -541.569984   \n",
       "18                                 -503.152258   \n",
       "19                                 -509.808331   \n",
       "\n",
       "    secondary_cleaner.state.floatbank4_b_air  \\\n",
       "0                                  12.099931   \n",
       "1                                  11.950531   \n",
       "2                                  11.912783   \n",
       "3                                  11.999550   \n",
       "4                                  11.953070   \n",
       "5                                  11.883350   \n",
       "6                                  12.091543   \n",
       "7                                  12.101324   \n",
       "8                                  12.060738   \n",
       "9                                  12.052233   \n",
       "10                                 11.995903   \n",
       "11                                 12.022296   \n",
       "12                                 11.928745   \n",
       "13                                 12.014060   \n",
       "14                                 11.980055   \n",
       "15                                 11.994299   \n",
       "16                                 11.966426   \n",
       "17                                 12.021831   \n",
       "18                                 12.016724   \n",
       "19                                 12.087669   \n",
       "\n",
       "    secondary_cleaner.state.floatbank4_b_level  \\\n",
       "0                                  -504.715942   \n",
       "1                                  -501.331529   \n",
       "2                                  -501.133383   \n",
       "3                                  -501.193686   \n",
       "4                                  -501.053894   \n",
       "5                                  -500.395298   \n",
       "6                                  -500.501426   \n",
       "7                                  -500.583446   \n",
       "8                                  -501.174549   \n",
       "9                                  -500.928547   \n",
       "10                                 -501.269181   \n",
       "11                                 -501.238477   \n",
       "12                                 -500.583183   \n",
       "13                                 -500.647565   \n",
       "14                                 -500.607751   \n",
       "15                                 -500.337803   \n",
       "16                                 -500.656842   \n",
       "17                                 -545.572166   \n",
       "18                                 -501.136446   \n",
       "19                                 -510.782166   \n",
       "\n",
       "    secondary_cleaner.state.floatbank5_a_air  \\\n",
       "0                                   9.925633   \n",
       "1                                  10.039245   \n",
       "2                                  10.070913   \n",
       "3                                   9.970366   \n",
       "4                                   9.925709   \n",
       "5                                  10.054147   \n",
       "6                                  10.003247   \n",
       "7                                   9.873169   \n",
       "8                                  10.033838   \n",
       "9                                   9.962574   \n",
       "10                                 10.043100   \n",
       "11                                 10.020094   \n",
       "12                                  9.970359   \n",
       "13                                 10.000087   \n",
       "14                                  9.964501   \n",
       "15                                 10.037149   \n",
       "16                                 10.051620   \n",
       "17                                 10.021058   \n",
       "18                                 10.041864   \n",
       "19                                 10.032043   \n",
       "\n",
       "    secondary_cleaner.state.floatbank5_a_level  \\\n",
       "0                                  -498.310211   \n",
       "1                                  -500.169983   \n",
       "2                                  -500.129135   \n",
       "3                                  -499.201640   \n",
       "4                                  -501.686727   \n",
       "5                                  -496.374715   \n",
       "6                                  -497.083180   \n",
       "7                                  -499.171928   \n",
       "8                                  -501.178133   \n",
       "9                                  -502.986357   \n",
       "10                                 -498.529996   \n",
       "11                                 -500.061845   \n",
       "12                                 -498.822343   \n",
       "13                                 -499.306972   \n",
       "14                                 -499.261719   \n",
       "15                                 -499.395047   \n",
       "16                                 -498.318772   \n",
       "17                                 -501.386982   \n",
       "18                                 -499.338844   \n",
       "19                                 -499.128183   \n",
       "\n",
       "    secondary_cleaner.state.floatbank5_b_air  \\\n",
       "0                                   8.079666   \n",
       "1                                   7.984757   \n",
       "2                                   8.013877   \n",
       "3                                   7.977324   \n",
       "4                                   7.894242   \n",
       "5                                   7.965083   \n",
       "6                                   8.010890   \n",
       "7                                   7.993381   \n",
       "8                                   7.881604   \n",
       "9                                   7.979219   \n",
       "10                                  8.002633   \n",
       "11                                  7.964024   \n",
       "12                                  8.016377   \n",
       "13                                  8.002007   \n",
       "14                                  8.065048   \n",
       "15                                  8.056439   \n",
       "16                                  8.018091   \n",
       "17                                  7.947110   \n",
       "18                                  8.007022   \n",
       "19                                  8.016140   \n",
       "\n",
       "    secondary_cleaner.state.floatbank5_b_level  \\\n",
       "0                                  -500.470978   \n",
       "1                                  -500.582168   \n",
       "2                                  -500.517572   \n",
       "3                                  -500.255908   \n",
       "4                                  -500.356035   \n",
       "5                                  -499.364752   \n",
       "6                                  -500.002423   \n",
       "7                                  -499.794518   \n",
       "8                                  -499.729434   \n",
       "9                                  -500.146835   \n",
       "10                                 -499.761922   \n",
       "11                                 -499.283982   \n",
       "12                                 -499.013145   \n",
       "13                                 -499.970754   \n",
       "14                                 -499.492395   \n",
       "15                                 -499.479716   \n",
       "16                                 -499.696138   \n",
       "17                                 -500.062750   \n",
       "18                                 -500.279583   \n",
       "19                                 -499.806844   \n",
       "\n",
       "    secondary_cleaner.state.floatbank6_a_air  \\\n",
       "0                                  14.151341   \n",
       "1                                  13.998353   \n",
       "2                                  14.028663   \n",
       "3                                  14.005551   \n",
       "4                                  13.996647   \n",
       "5                                  14.017067   \n",
       "6                                  14.029649   \n",
       "7                                  13.984498   \n",
       "8                                  13.967135   \n",
       "9                                  13.981614   \n",
       "10                                 14.004767   \n",
       "11                                 14.003011   \n",
       "12                                 14.000032   \n",
       "13                                 14.019977   \n",
       "14                                 13.997801   \n",
       "15                                 13.977626   \n",
       "16                                 13.958937   \n",
       "17                                 14.014991   \n",
       "18                                 14.001271   \n",
       "19                                 13.949790   \n",
       "\n",
       "    secondary_cleaner.state.floatbank6_a_level  \n",
       "0                                  -605.841980  \n",
       "1                                  -599.787184  \n",
       "2                                  -601.427363  \n",
       "3                                  -599.996129  \n",
       "4                                  -601.496691  \n",
       "5                                  -599.707915  \n",
       "6                                  -600.905470  \n",
       "7                                  -600.411070  \n",
       "8                                  -599.061188  \n",
       "9                                  -598.070855  \n",
       "10                                 -599.595324  \n",
       "11                                 -599.879856  \n",
       "12                                 -600.024741  \n",
       "13                                 -599.986714  \n",
       "14                                 -600.621416  \n",
       "15                                 -600.075029  \n",
       "16                                 -599.213013  \n",
       "17                                 -600.670573  \n",
       "18                                 -602.072365  \n",
       "19                                 -600.140776  \n",
       "\n",
       "[20 rows x 87 columns]"
      ]
     },
     "metadata": {},
     "output_type": "display_data"
    },
    {
     "name": "stdout",
     "output_type": "stream",
     "text": [
      "\n",
      "0\n",
      "\n",
      "date                                            0\n",
      "final.output.concentrate_ag                     1\n",
      "final.output.concentrate_pb                     1\n",
      "final.output.concentrate_sol                  211\n",
      "final.output.concentrate_au                     0\n",
      "                                             ... \n",
      "secondary_cleaner.state.floatbank5_a_level      1\n",
      "secondary_cleaner.state.floatbank5_b_air        1\n",
      "secondary_cleaner.state.floatbank5_b_level      1\n",
      "secondary_cleaner.state.floatbank6_a_air        2\n",
      "secondary_cleaner.state.floatbank6_a_level      1\n",
      "Length: 87, dtype: int64\n"
     ]
    }
   ],
   "source": [
    "df_info(df_train)"
   ]
  },
  {
   "cell_type": "code",
   "execution_count": 6,
   "metadata": {},
   "outputs": [
    {
     "data": {
      "text/plain": [
       "<bound method DataFrame.info of                      date  primary_cleaner.input.sulfate  \\\n",
       "0     2016-09-01 00:59:59                     210.800909   \n",
       "1     2016-09-01 01:59:59                     215.392455   \n",
       "2     2016-09-01 02:59:59                     215.259946   \n",
       "3     2016-09-01 03:59:59                     215.336236   \n",
       "4     2016-09-01 04:59:59                     199.099327   \n",
       "...                   ...                            ...   \n",
       "5285  2017-12-31 19:59:59                     173.957757   \n",
       "5286  2017-12-31 20:59:59                     172.910270   \n",
       "5287  2017-12-31 21:59:59                     171.135718   \n",
       "5288  2017-12-31 22:59:59                     179.697158   \n",
       "5289  2017-12-31 23:59:59                     181.556856   \n",
       "\n",
       "      primary_cleaner.input.depressant  primary_cleaner.input.feed_size  \\\n",
       "0                            14.993118                         8.080000   \n",
       "1                            14.987471                         8.080000   \n",
       "2                            12.884934                         7.786667   \n",
       "3                            12.006805                         7.640000   \n",
       "4                            10.682530                         7.530000   \n",
       "...                                ...                              ...   \n",
       "5285                         15.963399                         8.070000   \n",
       "5286                         16.002605                         8.070000   \n",
       "5287                         15.993669                         8.070000   \n",
       "5288                         15.438979                         8.070000   \n",
       "5289                         14.995850                         8.070000   \n",
       "\n",
       "      primary_cleaner.input.xanthate  primary_cleaner.state.floatbank8_a_air  \\\n",
       "0                           1.005021                             1398.981301   \n",
       "1                           0.990469                             1398.777912   \n",
       "2                           0.996043                             1398.493666   \n",
       "3                           0.863514                             1399.618111   \n",
       "4                           0.805575                             1401.268123   \n",
       "...                              ...                                     ...   \n",
       "5285                        0.896701                             1401.930554   \n",
       "5286                        0.896519                             1447.075722   \n",
       "5287                        1.165996                             1498.836182   \n",
       "5288                        1.501068                             1498.466243   \n",
       "5289                        1.623454                             1498.096303   \n",
       "\n",
       "      primary_cleaner.state.floatbank8_a_level  \\\n",
       "0                                  -500.225577   \n",
       "1                                  -500.057435   \n",
       "2                                  -500.868360   \n",
       "3                                  -498.863574   \n",
       "4                                  -500.808305   \n",
       "...                                        ...   \n",
       "5285                               -499.728848   \n",
       "5286                               -494.716823   \n",
       "5287                               -501.770403   \n",
       "5288                               -500.483984   \n",
       "5289                               -499.796922   \n",
       "\n",
       "      primary_cleaner.state.floatbank8_b_air  \\\n",
       "0                                1399.144926   \n",
       "1                                1398.055362   \n",
       "2                                1398.860436   \n",
       "3                                1397.440120   \n",
       "4                                1398.128818   \n",
       "...                                      ...   \n",
       "5285                             1401.441445   \n",
       "5286                             1448.851892   \n",
       "5287                             1499.572353   \n",
       "5288                             1497.986986   \n",
       "5289                             1501.743791   \n",
       "\n",
       "      primary_cleaner.state.floatbank8_b_level  \\\n",
       "0                                  -499.919735   \n",
       "1                                  -499.778182   \n",
       "2                                  -499.764529   \n",
       "3                                  -499.211024   \n",
       "4                                  -499.504543   \n",
       "...                                        ...   \n",
       "5285                               -499.193423   \n",
       "5286                               -465.963026   \n",
       "5287                               -495.516347   \n",
       "5288                               -519.200340   \n",
       "5289                               -505.146931   \n",
       "\n",
       "      primary_cleaner.state.floatbank8_c_air  ...  \\\n",
       "0                                1400.102998  ...   \n",
       "1                                1396.151033  ...   \n",
       "2                                1398.075709  ...   \n",
       "3                                1400.129303  ...   \n",
       "4                                1402.172226  ...   \n",
       "...                                      ...  ...   \n",
       "5285                             1399.810313  ...   \n",
       "5286                             1443.890424  ...   \n",
       "5287                             1502.749213  ...   \n",
       "5288                             1496.569047  ...   \n",
       "5289                             1499.535978  ...   \n",
       "\n",
       "      secondary_cleaner.state.floatbank4_a_air  \\\n",
       "0                                    12.023554   \n",
       "1                                    12.058140   \n",
       "2                                    11.962366   \n",
       "3                                    12.033091   \n",
       "4                                    12.025367   \n",
       "...                                        ...   \n",
       "5285                                 13.995957   \n",
       "5286                                 16.749781   \n",
       "5287                                 19.994130   \n",
       "5288                                 19.958760   \n",
       "5289                                 20.034715   \n",
       "\n",
       "      secondary_cleaner.state.floatbank4_a_level  \\\n",
       "0                                    -497.795834   \n",
       "1                                    -498.695773   \n",
       "2                                    -498.767484   \n",
       "3                                    -498.350935   \n",
       "4                                    -500.786497   \n",
       "...                                          ...   \n",
       "5285                                 -500.157454   \n",
       "5286                                 -496.031539   \n",
       "5287                                 -499.791312   \n",
       "5288                                 -499.958750   \n",
       "5289                                 -500.728588   \n",
       "\n",
       "      secondary_cleaner.state.floatbank4_b_air  \\\n",
       "0                                     8.016656   \n",
       "1                                     8.130979   \n",
       "2                                     8.096893   \n",
       "3                                     8.074946   \n",
       "4                                     8.054678   \n",
       "...                                        ...   \n",
       "5285                                 12.069155   \n",
       "5286                                 13.365371   \n",
       "5287                                 15.101425   \n",
       "5288                                 15.026853   \n",
       "5289                                 14.914199   \n",
       "\n",
       "      secondary_cleaner.state.floatbank4_b_level  \\\n",
       "0                                    -501.289139   \n",
       "1                                    -499.634209   \n",
       "2                                    -500.827423   \n",
       "3                                    -499.474407   \n",
       "4                                    -500.397500   \n",
       "...                                          ...   \n",
       "5285                                 -499.673279   \n",
       "5286                                 -499.122723   \n",
       "5287                                 -499.936252   \n",
       "5288                                 -499.723143   \n",
       "5289                                 -499.948518   \n",
       "\n",
       "      secondary_cleaner.state.floatbank5_a_air  \\\n",
       "0                                     7.946562   \n",
       "1                                     7.958270   \n",
       "2                                     8.071056   \n",
       "3                                     7.897085   \n",
       "4                                     8.107890   \n",
       "...                                        ...   \n",
       "5285                                  7.977259   \n",
       "5286                                  9.288553   \n",
       "5287                                 10.989181   \n",
       "5288                                 11.011607   \n",
       "5289                                 10.986607   \n",
       "\n",
       "      secondary_cleaner.state.floatbank5_a_level  \\\n",
       "0                                    -432.317850   \n",
       "1                                    -525.839648   \n",
       "2                                    -500.801673   \n",
       "3                                    -500.868509   \n",
       "4                                    -509.526725   \n",
       "...                                          ...   \n",
       "5285                                 -499.516126   \n",
       "5286                                 -496.892967   \n",
       "5287                                 -498.347898   \n",
       "5288                                 -499.985046   \n",
       "5289                                 -500.658027   \n",
       "\n",
       "      secondary_cleaner.state.floatbank5_b_air  \\\n",
       "0                                     4.872511   \n",
       "1                                     4.878850   \n",
       "2                                     4.905125   \n",
       "3                                     4.931400   \n",
       "4                                     4.957674   \n",
       "...                                        ...   \n",
       "5285                                  5.933319   \n",
       "5286                                  7.372897   \n",
       "5287                                  9.020944   \n",
       "5288                                  9.009783   \n",
       "5289                                  8.989497   \n",
       "\n",
       "      secondary_cleaner.state.floatbank5_b_level  \\\n",
       "0                                    -500.037437   \n",
       "1                                    -500.162375   \n",
       "2                                    -499.828510   \n",
       "3                                    -499.963623   \n",
       "4                                    -500.360026   \n",
       "...                                          ...   \n",
       "5285                                 -499.965973   \n",
       "5286                                 -499.942956   \n",
       "5287                                 -500.040448   \n",
       "5288                                 -499.937902   \n",
       "5289                                 -500.337588   \n",
       "\n",
       "      secondary_cleaner.state.floatbank6_a_air  \\\n",
       "0                                    26.705889   \n",
       "1                                    25.019940   \n",
       "2                                    24.994862   \n",
       "3                                    24.948919   \n",
       "4                                    25.003331   \n",
       "...                                        ...   \n",
       "5285                                  8.987171   \n",
       "5286                                  8.986832   \n",
       "5287                                  8.982038   \n",
       "5288                                  9.012660   \n",
       "5289                                  8.988632   \n",
       "\n",
       "      secondary_cleaner.state.floatbank6_a_level  \n",
       "0                                    -499.709414  \n",
       "1                                    -499.819438  \n",
       "2                                    -500.622559  \n",
       "3                                    -498.709987  \n",
       "4                                    -500.856333  \n",
       "...                                          ...  \n",
       "5285                                 -499.755909  \n",
       "5286                                 -499.903761  \n",
       "5287                                 -497.789882  \n",
       "5288                                 -500.154284  \n",
       "5289                                 -500.764937  \n",
       "\n",
       "[5290 rows x 53 columns]>"
      ]
     },
     "metadata": {},
     "output_type": "display_data"
    },
    {
     "name": "stdout",
     "output_type": "stream",
     "text": [
      "\n"
     ]
    },
    {
     "data": {
      "text/html": [
       "<div>\n",
       "<style scoped>\n",
       "    .dataframe tbody tr th:only-of-type {\n",
       "        vertical-align: middle;\n",
       "    }\n",
       "\n",
       "    .dataframe tbody tr th {\n",
       "        vertical-align: top;\n",
       "    }\n",
       "\n",
       "    .dataframe thead th {\n",
       "        text-align: right;\n",
       "    }\n",
       "</style>\n",
       "<table border=\"1\" class=\"dataframe\">\n",
       "  <thead>\n",
       "    <tr style=\"text-align: right;\">\n",
       "      <th></th>\n",
       "      <th>primary_cleaner.input.sulfate</th>\n",
       "      <th>primary_cleaner.input.depressant</th>\n",
       "      <th>primary_cleaner.input.feed_size</th>\n",
       "      <th>primary_cleaner.input.xanthate</th>\n",
       "      <th>primary_cleaner.state.floatbank8_a_air</th>\n",
       "      <th>primary_cleaner.state.floatbank8_a_level</th>\n",
       "      <th>primary_cleaner.state.floatbank8_b_air</th>\n",
       "      <th>primary_cleaner.state.floatbank8_b_level</th>\n",
       "      <th>primary_cleaner.state.floatbank8_c_air</th>\n",
       "      <th>primary_cleaner.state.floatbank8_c_level</th>\n",
       "      <th>...</th>\n",
       "      <th>secondary_cleaner.state.floatbank4_a_air</th>\n",
       "      <th>secondary_cleaner.state.floatbank4_a_level</th>\n",
       "      <th>secondary_cleaner.state.floatbank4_b_air</th>\n",
       "      <th>secondary_cleaner.state.floatbank4_b_level</th>\n",
       "      <th>secondary_cleaner.state.floatbank5_a_air</th>\n",
       "      <th>secondary_cleaner.state.floatbank5_a_level</th>\n",
       "      <th>secondary_cleaner.state.floatbank5_b_air</th>\n",
       "      <th>secondary_cleaner.state.floatbank5_b_level</th>\n",
       "      <th>secondary_cleaner.state.floatbank6_a_air</th>\n",
       "      <th>secondary_cleaner.state.floatbank6_a_level</th>\n",
       "    </tr>\n",
       "  </thead>\n",
       "  <tbody>\n",
       "    <tr>\n",
       "      <th>count</th>\n",
       "      <td>5286.000000</td>\n",
       "      <td>5285.000000</td>\n",
       "      <td>5290.000000</td>\n",
       "      <td>5286.000000</td>\n",
       "      <td>5.290000e+03</td>\n",
       "      <td>5290.000000</td>\n",
       "      <td>5.290000e+03</td>\n",
       "      <td>5290.000000</td>\n",
       "      <td>5.290000e+03</td>\n",
       "      <td>5290.000000</td>\n",
       "      <td>...</td>\n",
       "      <td>5.290000e+03</td>\n",
       "      <td>5290.000000</td>\n",
       "      <td>5.290000e+03</td>\n",
       "      <td>5290.000000</td>\n",
       "      <td>5290.000000</td>\n",
       "      <td>5290.000000</td>\n",
       "      <td>5290.000000</td>\n",
       "      <td>5290.000000</td>\n",
       "      <td>5290.000000</td>\n",
       "      <td>5290.000000</td>\n",
       "    </tr>\n",
       "    <tr>\n",
       "      <th>mean</th>\n",
       "      <td>174.839652</td>\n",
       "      <td>8.683596</td>\n",
       "      <td>7.266339</td>\n",
       "      <td>1.383803</td>\n",
       "      <td>1.539494e+03</td>\n",
       "      <td>-497.665883</td>\n",
       "      <td>1.545174e+03</td>\n",
       "      <td>-500.273098</td>\n",
       "      <td>1.527272e+03</td>\n",
       "      <td>-498.330680</td>\n",
       "      <td>...</td>\n",
       "      <td>1.632007e+01</td>\n",
       "      <td>-505.144570</td>\n",
       "      <td>1.373544e+01</td>\n",
       "      <td>-463.349858</td>\n",
       "      <td>12.804186</td>\n",
       "      <td>-501.329122</td>\n",
       "      <td>9.881145</td>\n",
       "      <td>-495.663398</td>\n",
       "      <td>17.304935</td>\n",
       "      <td>-501.793193</td>\n",
       "    </tr>\n",
       "    <tr>\n",
       "      <th>std</th>\n",
       "      <td>43.027080</td>\n",
       "      <td>3.072050</td>\n",
       "      <td>0.610219</td>\n",
       "      <td>0.643474</td>\n",
       "      <td>1.167979e+02</td>\n",
       "      <td>19.952431</td>\n",
       "      <td>1.222246e+02</td>\n",
       "      <td>32.968307</td>\n",
       "      <td>1.225380e+02</td>\n",
       "      <td>21.964876</td>\n",
       "      <td>...</td>\n",
       "      <td>3.493583e+00</td>\n",
       "      <td>31.427337</td>\n",
       "      <td>3.430484e+00</td>\n",
       "      <td>86.189107</td>\n",
       "      <td>3.026591</td>\n",
       "      <td>17.951495</td>\n",
       "      <td>2.868205</td>\n",
       "      <td>34.535007</td>\n",
       "      <td>4.536544</td>\n",
       "      <td>39.044215</td>\n",
       "    </tr>\n",
       "    <tr>\n",
       "      <th>min</th>\n",
       "      <td>2.566156</td>\n",
       "      <td>0.003839</td>\n",
       "      <td>5.650000</td>\n",
       "      <td>0.004984</td>\n",
       "      <td>5.445860e-32</td>\n",
       "      <td>-795.316337</td>\n",
       "      <td>6.647490e-32</td>\n",
       "      <td>-799.997015</td>\n",
       "      <td>4.033736e-32</td>\n",
       "      <td>-799.960571</td>\n",
       "      <td>...</td>\n",
       "      <td>1.079872e-16</td>\n",
       "      <td>-799.798523</td>\n",
       "      <td>2.489718e-17</td>\n",
       "      <td>-800.836914</td>\n",
       "      <td>0.069227</td>\n",
       "      <td>-797.323986</td>\n",
       "      <td>0.528083</td>\n",
       "      <td>-800.220337</td>\n",
       "      <td>-0.079426</td>\n",
       "      <td>-809.741464</td>\n",
       "    </tr>\n",
       "    <tr>\n",
       "      <th>25%</th>\n",
       "      <td>147.121401</td>\n",
       "      <td>6.489555</td>\n",
       "      <td>6.890000</td>\n",
       "      <td>0.907623</td>\n",
       "      <td>1.498936e+03</td>\n",
       "      <td>-500.357298</td>\n",
       "      <td>1.498971e+03</td>\n",
       "      <td>-500.703002</td>\n",
       "      <td>1.473230e+03</td>\n",
       "      <td>-501.018117</td>\n",
       "      <td>...</td>\n",
       "      <td>1.403618e+01</td>\n",
       "      <td>-500.868258</td>\n",
       "      <td>1.202862e+01</td>\n",
       "      <td>-500.323028</td>\n",
       "      <td>10.914838</td>\n",
       "      <td>-500.726841</td>\n",
       "      <td>8.036719</td>\n",
       "      <td>-500.194668</td>\n",
       "      <td>13.997317</td>\n",
       "      <td>-500.690984</td>\n",
       "    </tr>\n",
       "    <tr>\n",
       "      <th>50%</th>\n",
       "      <td>177.828489</td>\n",
       "      <td>8.052207</td>\n",
       "      <td>7.250000</td>\n",
       "      <td>1.197610</td>\n",
       "      <td>1.585129e+03</td>\n",
       "      <td>-499.969164</td>\n",
       "      <td>1.595622e+03</td>\n",
       "      <td>-500.028514</td>\n",
       "      <td>1.549595e+03</td>\n",
       "      <td>-500.017711</td>\n",
       "      <td>...</td>\n",
       "      <td>1.700847e+01</td>\n",
       "      <td>-500.115727</td>\n",
       "      <td>1.496486e+01</td>\n",
       "      <td>-499.576513</td>\n",
       "      <td>12.954182</td>\n",
       "      <td>-499.990332</td>\n",
       "      <td>10.004301</td>\n",
       "      <td>-499.990535</td>\n",
       "      <td>16.014935</td>\n",
       "      <td>-500.007126</td>\n",
       "    </tr>\n",
       "    <tr>\n",
       "      <th>75%</th>\n",
       "      <td>208.125438</td>\n",
       "      <td>10.027764</td>\n",
       "      <td>7.600000</td>\n",
       "      <td>1.797819</td>\n",
       "      <td>1.602077e+03</td>\n",
       "      <td>-499.568951</td>\n",
       "      <td>1.602324e+03</td>\n",
       "      <td>-499.293257</td>\n",
       "      <td>1.601144e+03</td>\n",
       "      <td>-498.994130</td>\n",
       "      <td>...</td>\n",
       "      <td>1.803862e+01</td>\n",
       "      <td>-499.404224</td>\n",
       "      <td>1.596213e+01</td>\n",
       "      <td>-400.933805</td>\n",
       "      <td>15.097528</td>\n",
       "      <td>-499.283191</td>\n",
       "      <td>11.997467</td>\n",
       "      <td>-499.719913</td>\n",
       "      <td>21.020013</td>\n",
       "      <td>-499.373018</td>\n",
       "    </tr>\n",
       "    <tr>\n",
       "      <th>max</th>\n",
       "      <td>265.983123</td>\n",
       "      <td>40.000000</td>\n",
       "      <td>15.500000</td>\n",
       "      <td>4.102454</td>\n",
       "      <td>2.103104e+03</td>\n",
       "      <td>-57.195404</td>\n",
       "      <td>1.813084e+03</td>\n",
       "      <td>-142.527229</td>\n",
       "      <td>1.715054e+03</td>\n",
       "      <td>-150.937035</td>\n",
       "      <td>...</td>\n",
       "      <td>3.005180e+01</td>\n",
       "      <td>-401.565212</td>\n",
       "      <td>3.126971e+01</td>\n",
       "      <td>-6.506986</td>\n",
       "      <td>25.258848</td>\n",
       "      <td>-244.483566</td>\n",
       "      <td>14.086866</td>\n",
       "      <td>-137.740004</td>\n",
       "      <td>26.705889</td>\n",
       "      <td>-123.307487</td>\n",
       "    </tr>\n",
       "  </tbody>\n",
       "</table>\n",
       "<p>8 rows × 52 columns</p>\n",
       "</div>"
      ],
      "text/plain": [
       "       primary_cleaner.input.sulfate  primary_cleaner.input.depressant  \\\n",
       "count                    5286.000000                       5285.000000   \n",
       "mean                      174.839652                          8.683596   \n",
       "std                        43.027080                          3.072050   \n",
       "min                         2.566156                          0.003839   \n",
       "25%                       147.121401                          6.489555   \n",
       "50%                       177.828489                          8.052207   \n",
       "75%                       208.125438                         10.027764   \n",
       "max                       265.983123                         40.000000   \n",
       "\n",
       "       primary_cleaner.input.feed_size  primary_cleaner.input.xanthate  \\\n",
       "count                      5290.000000                     5286.000000   \n",
       "mean                          7.266339                        1.383803   \n",
       "std                           0.610219                        0.643474   \n",
       "min                           5.650000                        0.004984   \n",
       "25%                           6.890000                        0.907623   \n",
       "50%                           7.250000                        1.197610   \n",
       "75%                           7.600000                        1.797819   \n",
       "max                          15.500000                        4.102454   \n",
       "\n",
       "       primary_cleaner.state.floatbank8_a_air  \\\n",
       "count                            5.290000e+03   \n",
       "mean                             1.539494e+03   \n",
       "std                              1.167979e+02   \n",
       "min                              5.445860e-32   \n",
       "25%                              1.498936e+03   \n",
       "50%                              1.585129e+03   \n",
       "75%                              1.602077e+03   \n",
       "max                              2.103104e+03   \n",
       "\n",
       "       primary_cleaner.state.floatbank8_a_level  \\\n",
       "count                               5290.000000   \n",
       "mean                                -497.665883   \n",
       "std                                   19.952431   \n",
       "min                                 -795.316337   \n",
       "25%                                 -500.357298   \n",
       "50%                                 -499.969164   \n",
       "75%                                 -499.568951   \n",
       "max                                  -57.195404   \n",
       "\n",
       "       primary_cleaner.state.floatbank8_b_air  \\\n",
       "count                            5.290000e+03   \n",
       "mean                             1.545174e+03   \n",
       "std                              1.222246e+02   \n",
       "min                              6.647490e-32   \n",
       "25%                              1.498971e+03   \n",
       "50%                              1.595622e+03   \n",
       "75%                              1.602324e+03   \n",
       "max                              1.813084e+03   \n",
       "\n",
       "       primary_cleaner.state.floatbank8_b_level  \\\n",
       "count                               5290.000000   \n",
       "mean                                -500.273098   \n",
       "std                                   32.968307   \n",
       "min                                 -799.997015   \n",
       "25%                                 -500.703002   \n",
       "50%                                 -500.028514   \n",
       "75%                                 -499.293257   \n",
       "max                                 -142.527229   \n",
       "\n",
       "       primary_cleaner.state.floatbank8_c_air  \\\n",
       "count                            5.290000e+03   \n",
       "mean                             1.527272e+03   \n",
       "std                              1.225380e+02   \n",
       "min                              4.033736e-32   \n",
       "25%                              1.473230e+03   \n",
       "50%                              1.549595e+03   \n",
       "75%                              1.601144e+03   \n",
       "max                              1.715054e+03   \n",
       "\n",
       "       primary_cleaner.state.floatbank8_c_level  ...  \\\n",
       "count                               5290.000000  ...   \n",
       "mean                                -498.330680  ...   \n",
       "std                                   21.964876  ...   \n",
       "min                                 -799.960571  ...   \n",
       "25%                                 -501.018117  ...   \n",
       "50%                                 -500.017711  ...   \n",
       "75%                                 -498.994130  ...   \n",
       "max                                 -150.937035  ...   \n",
       "\n",
       "       secondary_cleaner.state.floatbank4_a_air  \\\n",
       "count                              5.290000e+03   \n",
       "mean                               1.632007e+01   \n",
       "std                                3.493583e+00   \n",
       "min                                1.079872e-16   \n",
       "25%                                1.403618e+01   \n",
       "50%                                1.700847e+01   \n",
       "75%                                1.803862e+01   \n",
       "max                                3.005180e+01   \n",
       "\n",
       "       secondary_cleaner.state.floatbank4_a_level  \\\n",
       "count                                 5290.000000   \n",
       "mean                                  -505.144570   \n",
       "std                                     31.427337   \n",
       "min                                   -799.798523   \n",
       "25%                                   -500.868258   \n",
       "50%                                   -500.115727   \n",
       "75%                                   -499.404224   \n",
       "max                                   -401.565212   \n",
       "\n",
       "       secondary_cleaner.state.floatbank4_b_air  \\\n",
       "count                              5.290000e+03   \n",
       "mean                               1.373544e+01   \n",
       "std                                3.430484e+00   \n",
       "min                                2.489718e-17   \n",
       "25%                                1.202862e+01   \n",
       "50%                                1.496486e+01   \n",
       "75%                                1.596213e+01   \n",
       "max                                3.126971e+01   \n",
       "\n",
       "       secondary_cleaner.state.floatbank4_b_level  \\\n",
       "count                                 5290.000000   \n",
       "mean                                  -463.349858   \n",
       "std                                     86.189107   \n",
       "min                                   -800.836914   \n",
       "25%                                   -500.323028   \n",
       "50%                                   -499.576513   \n",
       "75%                                   -400.933805   \n",
       "max                                     -6.506986   \n",
       "\n",
       "       secondary_cleaner.state.floatbank5_a_air  \\\n",
       "count                               5290.000000   \n",
       "mean                                  12.804186   \n",
       "std                                    3.026591   \n",
       "min                                    0.069227   \n",
       "25%                                   10.914838   \n",
       "50%                                   12.954182   \n",
       "75%                                   15.097528   \n",
       "max                                   25.258848   \n",
       "\n",
       "       secondary_cleaner.state.floatbank5_a_level  \\\n",
       "count                                 5290.000000   \n",
       "mean                                  -501.329122   \n",
       "std                                     17.951495   \n",
       "min                                   -797.323986   \n",
       "25%                                   -500.726841   \n",
       "50%                                   -499.990332   \n",
       "75%                                   -499.283191   \n",
       "max                                   -244.483566   \n",
       "\n",
       "       secondary_cleaner.state.floatbank5_b_air  \\\n",
       "count                               5290.000000   \n",
       "mean                                   9.881145   \n",
       "std                                    2.868205   \n",
       "min                                    0.528083   \n",
       "25%                                    8.036719   \n",
       "50%                                   10.004301   \n",
       "75%                                   11.997467   \n",
       "max                                   14.086866   \n",
       "\n",
       "       secondary_cleaner.state.floatbank5_b_level  \\\n",
       "count                                 5290.000000   \n",
       "mean                                  -495.663398   \n",
       "std                                     34.535007   \n",
       "min                                   -800.220337   \n",
       "25%                                   -500.194668   \n",
       "50%                                   -499.990535   \n",
       "75%                                   -499.719913   \n",
       "max                                   -137.740004   \n",
       "\n",
       "       secondary_cleaner.state.floatbank6_a_air  \\\n",
       "count                               5290.000000   \n",
       "mean                                  17.304935   \n",
       "std                                    4.536544   \n",
       "min                                   -0.079426   \n",
       "25%                                   13.997317   \n",
       "50%                                   16.014935   \n",
       "75%                                   21.020013   \n",
       "max                                   26.705889   \n",
       "\n",
       "       secondary_cleaner.state.floatbank6_a_level  \n",
       "count                                 5290.000000  \n",
       "mean                                  -501.793193  \n",
       "std                                     39.044215  \n",
       "min                                   -809.741464  \n",
       "25%                                   -500.690984  \n",
       "50%                                   -500.007126  \n",
       "75%                                   -499.373018  \n",
       "max                                   -123.307487  \n",
       "\n",
       "[8 rows x 52 columns]"
      ]
     },
     "metadata": {},
     "output_type": "display_data"
    },
    {
     "name": "stdout",
     "output_type": "stream",
     "text": [
      "\n"
     ]
    },
    {
     "data": {
      "text/html": [
       "<div>\n",
       "<style scoped>\n",
       "    .dataframe tbody tr th:only-of-type {\n",
       "        vertical-align: middle;\n",
       "    }\n",
       "\n",
       "    .dataframe tbody tr th {\n",
       "        vertical-align: top;\n",
       "    }\n",
       "\n",
       "    .dataframe thead th {\n",
       "        text-align: right;\n",
       "    }\n",
       "</style>\n",
       "<table border=\"1\" class=\"dataframe\">\n",
       "  <thead>\n",
       "    <tr style=\"text-align: right;\">\n",
       "      <th></th>\n",
       "      <th>date</th>\n",
       "      <th>primary_cleaner.input.sulfate</th>\n",
       "      <th>primary_cleaner.input.depressant</th>\n",
       "      <th>primary_cleaner.input.feed_size</th>\n",
       "      <th>primary_cleaner.input.xanthate</th>\n",
       "      <th>primary_cleaner.state.floatbank8_a_air</th>\n",
       "      <th>primary_cleaner.state.floatbank8_a_level</th>\n",
       "      <th>primary_cleaner.state.floatbank8_b_air</th>\n",
       "      <th>primary_cleaner.state.floatbank8_b_level</th>\n",
       "      <th>primary_cleaner.state.floatbank8_c_air</th>\n",
       "      <th>...</th>\n",
       "      <th>secondary_cleaner.state.floatbank4_a_air</th>\n",
       "      <th>secondary_cleaner.state.floatbank4_a_level</th>\n",
       "      <th>secondary_cleaner.state.floatbank4_b_air</th>\n",
       "      <th>secondary_cleaner.state.floatbank4_b_level</th>\n",
       "      <th>secondary_cleaner.state.floatbank5_a_air</th>\n",
       "      <th>secondary_cleaner.state.floatbank5_a_level</th>\n",
       "      <th>secondary_cleaner.state.floatbank5_b_air</th>\n",
       "      <th>secondary_cleaner.state.floatbank5_b_level</th>\n",
       "      <th>secondary_cleaner.state.floatbank6_a_air</th>\n",
       "      <th>secondary_cleaner.state.floatbank6_a_level</th>\n",
       "    </tr>\n",
       "  </thead>\n",
       "  <tbody>\n",
       "    <tr>\n",
       "      <th>0</th>\n",
       "      <td>2016-09-01 00:59:59</td>\n",
       "      <td>210.800909</td>\n",
       "      <td>14.993118</td>\n",
       "      <td>8.080000</td>\n",
       "      <td>1.005021</td>\n",
       "      <td>1398.981301</td>\n",
       "      <td>-500.225577</td>\n",
       "      <td>1399.144926</td>\n",
       "      <td>-499.919735</td>\n",
       "      <td>1400.102998</td>\n",
       "      <td>...</td>\n",
       "      <td>12.023554</td>\n",
       "      <td>-497.795834</td>\n",
       "      <td>8.016656</td>\n",
       "      <td>-501.289139</td>\n",
       "      <td>7.946562</td>\n",
       "      <td>-432.317850</td>\n",
       "      <td>4.872511</td>\n",
       "      <td>-500.037437</td>\n",
       "      <td>26.705889</td>\n",
       "      <td>-499.709414</td>\n",
       "    </tr>\n",
       "    <tr>\n",
       "      <th>1</th>\n",
       "      <td>2016-09-01 01:59:59</td>\n",
       "      <td>215.392455</td>\n",
       "      <td>14.987471</td>\n",
       "      <td>8.080000</td>\n",
       "      <td>0.990469</td>\n",
       "      <td>1398.777912</td>\n",
       "      <td>-500.057435</td>\n",
       "      <td>1398.055362</td>\n",
       "      <td>-499.778182</td>\n",
       "      <td>1396.151033</td>\n",
       "      <td>...</td>\n",
       "      <td>12.058140</td>\n",
       "      <td>-498.695773</td>\n",
       "      <td>8.130979</td>\n",
       "      <td>-499.634209</td>\n",
       "      <td>7.958270</td>\n",
       "      <td>-525.839648</td>\n",
       "      <td>4.878850</td>\n",
       "      <td>-500.162375</td>\n",
       "      <td>25.019940</td>\n",
       "      <td>-499.819438</td>\n",
       "    </tr>\n",
       "    <tr>\n",
       "      <th>2</th>\n",
       "      <td>2016-09-01 02:59:59</td>\n",
       "      <td>215.259946</td>\n",
       "      <td>12.884934</td>\n",
       "      <td>7.786667</td>\n",
       "      <td>0.996043</td>\n",
       "      <td>1398.493666</td>\n",
       "      <td>-500.868360</td>\n",
       "      <td>1398.860436</td>\n",
       "      <td>-499.764529</td>\n",
       "      <td>1398.075709</td>\n",
       "      <td>...</td>\n",
       "      <td>11.962366</td>\n",
       "      <td>-498.767484</td>\n",
       "      <td>8.096893</td>\n",
       "      <td>-500.827423</td>\n",
       "      <td>8.071056</td>\n",
       "      <td>-500.801673</td>\n",
       "      <td>4.905125</td>\n",
       "      <td>-499.828510</td>\n",
       "      <td>24.994862</td>\n",
       "      <td>-500.622559</td>\n",
       "    </tr>\n",
       "    <tr>\n",
       "      <th>3</th>\n",
       "      <td>2016-09-01 03:59:59</td>\n",
       "      <td>215.336236</td>\n",
       "      <td>12.006805</td>\n",
       "      <td>7.640000</td>\n",
       "      <td>0.863514</td>\n",
       "      <td>1399.618111</td>\n",
       "      <td>-498.863574</td>\n",
       "      <td>1397.440120</td>\n",
       "      <td>-499.211024</td>\n",
       "      <td>1400.129303</td>\n",
       "      <td>...</td>\n",
       "      <td>12.033091</td>\n",
       "      <td>-498.350935</td>\n",
       "      <td>8.074946</td>\n",
       "      <td>-499.474407</td>\n",
       "      <td>7.897085</td>\n",
       "      <td>-500.868509</td>\n",
       "      <td>4.931400</td>\n",
       "      <td>-499.963623</td>\n",
       "      <td>24.948919</td>\n",
       "      <td>-498.709987</td>\n",
       "    </tr>\n",
       "    <tr>\n",
       "      <th>4</th>\n",
       "      <td>2016-09-01 04:59:59</td>\n",
       "      <td>199.099327</td>\n",
       "      <td>10.682530</td>\n",
       "      <td>7.530000</td>\n",
       "      <td>0.805575</td>\n",
       "      <td>1401.268123</td>\n",
       "      <td>-500.808305</td>\n",
       "      <td>1398.128818</td>\n",
       "      <td>-499.504543</td>\n",
       "      <td>1402.172226</td>\n",
       "      <td>...</td>\n",
       "      <td>12.025367</td>\n",
       "      <td>-500.786497</td>\n",
       "      <td>8.054678</td>\n",
       "      <td>-500.397500</td>\n",
       "      <td>8.107890</td>\n",
       "      <td>-509.526725</td>\n",
       "      <td>4.957674</td>\n",
       "      <td>-500.360026</td>\n",
       "      <td>25.003331</td>\n",
       "      <td>-500.856333</td>\n",
       "    </tr>\n",
       "    <tr>\n",
       "      <th>5</th>\n",
       "      <td>2016-09-01 05:59:59</td>\n",
       "      <td>168.485085</td>\n",
       "      <td>8.817007</td>\n",
       "      <td>7.420000</td>\n",
       "      <td>0.791191</td>\n",
       "      <td>1402.826803</td>\n",
       "      <td>-499.299521</td>\n",
       "      <td>1401.511119</td>\n",
       "      <td>-499.205357</td>\n",
       "      <td>1404.088107</td>\n",
       "      <td>...</td>\n",
       "      <td>12.029797</td>\n",
       "      <td>-499.814895</td>\n",
       "      <td>8.036586</td>\n",
       "      <td>-500.371492</td>\n",
       "      <td>8.041446</td>\n",
       "      <td>-510.037054</td>\n",
       "      <td>4.983949</td>\n",
       "      <td>-499.990990</td>\n",
       "      <td>24.978973</td>\n",
       "      <td>-500.475640</td>\n",
       "    </tr>\n",
       "    <tr>\n",
       "      <th>6</th>\n",
       "      <td>2016-09-01 06:59:59</td>\n",
       "      <td>144.133440</td>\n",
       "      <td>7.924610</td>\n",
       "      <td>7.420000</td>\n",
       "      <td>0.788838</td>\n",
       "      <td>1398.252401</td>\n",
       "      <td>-499.748672</td>\n",
       "      <td>1393.255503</td>\n",
       "      <td>-499.195380</td>\n",
       "      <td>1396.738566</td>\n",
       "      <td>...</td>\n",
       "      <td>12.026296</td>\n",
       "      <td>-499.473127</td>\n",
       "      <td>8.027984</td>\n",
       "      <td>-500.983079</td>\n",
       "      <td>7.907340</td>\n",
       "      <td>-507.964971</td>\n",
       "      <td>5.010224</td>\n",
       "      <td>-500.043697</td>\n",
       "      <td>25.040709</td>\n",
       "      <td>-499.501984</td>\n",
       "    </tr>\n",
       "    <tr>\n",
       "      <th>7</th>\n",
       "      <td>2016-09-01 07:59:59</td>\n",
       "      <td>133.513396</td>\n",
       "      <td>8.055252</td>\n",
       "      <td>6.988000</td>\n",
       "      <td>0.801871</td>\n",
       "      <td>1401.669677</td>\n",
       "      <td>-501.777839</td>\n",
       "      <td>1400.754446</td>\n",
       "      <td>-502.514024</td>\n",
       "      <td>1400.465244</td>\n",
       "      <td>...</td>\n",
       "      <td>12.040911</td>\n",
       "      <td>-501.293852</td>\n",
       "      <td>8.020490</td>\n",
       "      <td>-499.185229</td>\n",
       "      <td>8.116897</td>\n",
       "      <td>-511.927561</td>\n",
       "      <td>5.036498</td>\n",
       "      <td>-500.149615</td>\n",
       "      <td>25.032580</td>\n",
       "      <td>-503.970657</td>\n",
       "    </tr>\n",
       "    <tr>\n",
       "      <th>8</th>\n",
       "      <td>2016-09-01 08:59:59</td>\n",
       "      <td>133.735356</td>\n",
       "      <td>7.999618</td>\n",
       "      <td>6.935000</td>\n",
       "      <td>0.789329</td>\n",
       "      <td>1402.358981</td>\n",
       "      <td>-499.981597</td>\n",
       "      <td>1400.985954</td>\n",
       "      <td>-496.802968</td>\n",
       "      <td>1401.168584</td>\n",
       "      <td>...</td>\n",
       "      <td>11.998184</td>\n",
       "      <td>-499.481608</td>\n",
       "      <td>8.012610</td>\n",
       "      <td>-500.896783</td>\n",
       "      <td>7.974422</td>\n",
       "      <td>-521.199104</td>\n",
       "      <td>5.061599</td>\n",
       "      <td>-499.791519</td>\n",
       "      <td>25.005063</td>\n",
       "      <td>-497.613716</td>\n",
       "    </tr>\n",
       "    <tr>\n",
       "      <th>9</th>\n",
       "      <td>2016-09-01 09:59:59</td>\n",
       "      <td>126.961069</td>\n",
       "      <td>8.017856</td>\n",
       "      <td>7.030000</td>\n",
       "      <td>0.805298</td>\n",
       "      <td>1400.816120</td>\n",
       "      <td>-499.014158</td>\n",
       "      <td>1399.975401</td>\n",
       "      <td>-499.570552</td>\n",
       "      <td>1401.871924</td>\n",
       "      <td>...</td>\n",
       "      <td>12.040725</td>\n",
       "      <td>-499.987743</td>\n",
       "      <td>7.989503</td>\n",
       "      <td>-499.750625</td>\n",
       "      <td>7.989710</td>\n",
       "      <td>-509.946737</td>\n",
       "      <td>5.068811</td>\n",
       "      <td>-499.293900</td>\n",
       "      <td>24.992741</td>\n",
       "      <td>-499.272255</td>\n",
       "    </tr>\n",
       "    <tr>\n",
       "      <th>10</th>\n",
       "      <td>2016-09-01 10:59:59</td>\n",
       "      <td>118.996645</td>\n",
       "      <td>8.053901</td>\n",
       "      <td>6.938333</td>\n",
       "      <td>0.799155</td>\n",
       "      <td>1400.414377</td>\n",
       "      <td>-500.467134</td>\n",
       "      <td>1400.089566</td>\n",
       "      <td>-500.446977</td>\n",
       "      <td>1402.269967</td>\n",
       "      <td>...</td>\n",
       "      <td>12.016142</td>\n",
       "      <td>-500.597945</td>\n",
       "      <td>8.109317</td>\n",
       "      <td>-500.815511</td>\n",
       "      <td>7.963967</td>\n",
       "      <td>-523.193535</td>\n",
       "      <td>5.069972</td>\n",
       "      <td>-499.786750</td>\n",
       "      <td>25.003677</td>\n",
       "      <td>-500.043103</td>\n",
       "    </tr>\n",
       "    <tr>\n",
       "      <th>11</th>\n",
       "      <td>2016-09-01 11:59:59</td>\n",
       "      <td>120.022197</td>\n",
       "      <td>7.964399</td>\n",
       "      <td>6.920000</td>\n",
       "      <td>0.794210</td>\n",
       "      <td>1399.594414</td>\n",
       "      <td>-499.245896</td>\n",
       "      <td>1400.722260</td>\n",
       "      <td>-499.360136</td>\n",
       "      <td>1400.503184</td>\n",
       "      <td>...</td>\n",
       "      <td>11.959844</td>\n",
       "      <td>-499.181077</td>\n",
       "      <td>8.078691</td>\n",
       "      <td>-499.250344</td>\n",
       "      <td>7.958926</td>\n",
       "      <td>-491.675387</td>\n",
       "      <td>5.069611</td>\n",
       "      <td>-499.573837</td>\n",
       "      <td>18.364718</td>\n",
       "      <td>-497.711111</td>\n",
       "    </tr>\n",
       "    <tr>\n",
       "      <th>12</th>\n",
       "      <td>2016-09-01 12:59:59</td>\n",
       "      <td>119.992390</td>\n",
       "      <td>7.976629</td>\n",
       "      <td>8.009500</td>\n",
       "      <td>0.806644</td>\n",
       "      <td>1402.658539</td>\n",
       "      <td>-499.902819</td>\n",
       "      <td>1399.102451</td>\n",
       "      <td>-500.175006</td>\n",
       "      <td>1401.881482</td>\n",
       "      <td>...</td>\n",
       "      <td>11.937972</td>\n",
       "      <td>-499.665072</td>\n",
       "      <td>7.999953</td>\n",
       "      <td>-500.719390</td>\n",
       "      <td>8.117658</td>\n",
       "      <td>-499.024283</td>\n",
       "      <td>5.060127</td>\n",
       "      <td>-499.757223</td>\n",
       "      <td>10.008581</td>\n",
       "      <td>-499.937567</td>\n",
       "    </tr>\n",
       "    <tr>\n",
       "      <th>13</th>\n",
       "      <td>2016-09-01 13:59:59</td>\n",
       "      <td>116.455446</td>\n",
       "      <td>8.020024</td>\n",
       "      <td>8.100000</td>\n",
       "      <td>0.803810</td>\n",
       "      <td>1401.522803</td>\n",
       "      <td>-500.229384</td>\n",
       "      <td>1400.822074</td>\n",
       "      <td>-499.962458</td>\n",
       "      <td>1400.873855</td>\n",
       "      <td>...</td>\n",
       "      <td>12.044229</td>\n",
       "      <td>-500.102489</td>\n",
       "      <td>7.963308</td>\n",
       "      <td>-498.999161</td>\n",
       "      <td>8.079780</td>\n",
       "      <td>-500.111603</td>\n",
       "      <td>5.049125</td>\n",
       "      <td>-499.964304</td>\n",
       "      <td>10.016975</td>\n",
       "      <td>-499.835537</td>\n",
       "    </tr>\n",
       "    <tr>\n",
       "      <th>14</th>\n",
       "      <td>2016-09-01 14:59:59</td>\n",
       "      <td>116.615574</td>\n",
       "      <td>7.976104</td>\n",
       "      <td>7.962000</td>\n",
       "      <td>0.788860</td>\n",
       "      <td>1400.371468</td>\n",
       "      <td>-501.074463</td>\n",
       "      <td>1402.642429</td>\n",
       "      <td>-499.130424</td>\n",
       "      <td>1398.273436</td>\n",
       "      <td>...</td>\n",
       "      <td>12.002987</td>\n",
       "      <td>-500.459197</td>\n",
       "      <td>7.971947</td>\n",
       "      <td>-500.515679</td>\n",
       "      <td>8.053689</td>\n",
       "      <td>-500.238073</td>\n",
       "      <td>5.038123</td>\n",
       "      <td>-500.161160</td>\n",
       "      <td>9.909759</td>\n",
       "      <td>-500.770649</td>\n",
       "    </tr>\n",
       "    <tr>\n",
       "      <th>15</th>\n",
       "      <td>2016-09-01 15:59:59</td>\n",
       "      <td>130.002492</td>\n",
       "      <td>7.975534</td>\n",
       "      <td>7.870000</td>\n",
       "      <td>0.796464</td>\n",
       "      <td>1400.232655</td>\n",
       "      <td>-499.470106</td>\n",
       "      <td>1402.184151</td>\n",
       "      <td>-500.236610</td>\n",
       "      <td>1401.238323</td>\n",
       "      <td>...</td>\n",
       "      <td>12.001285</td>\n",
       "      <td>-501.477914</td>\n",
       "      <td>8.006140</td>\n",
       "      <td>-500.451719</td>\n",
       "      <td>8.000597</td>\n",
       "      <td>-502.952208</td>\n",
       "      <td>5.027121</td>\n",
       "      <td>-499.659053</td>\n",
       "      <td>9.883136</td>\n",
       "      <td>-500.641186</td>\n",
       "    </tr>\n",
       "    <tr>\n",
       "      <th>16</th>\n",
       "      <td>2016-09-01 16:59:59</td>\n",
       "      <td>139.110741</td>\n",
       "      <td>8.029847</td>\n",
       "      <td>7.870000</td>\n",
       "      <td>0.789310</td>\n",
       "      <td>1400.527148</td>\n",
       "      <td>-499.361604</td>\n",
       "      <td>1400.873200</td>\n",
       "      <td>-500.214150</td>\n",
       "      <td>1402.397652</td>\n",
       "      <td>...</td>\n",
       "      <td>11.977331</td>\n",
       "      <td>-499.910943</td>\n",
       "      <td>8.040334</td>\n",
       "      <td>-500.204165</td>\n",
       "      <td>7.997683</td>\n",
       "      <td>-500.890613</td>\n",
       "      <td>5.057373</td>\n",
       "      <td>-500.033917</td>\n",
       "      <td>9.994027</td>\n",
       "      <td>-499.483006</td>\n",
       "    </tr>\n",
       "    <tr>\n",
       "      <th>17</th>\n",
       "      <td>2016-09-01 17:59:59</td>\n",
       "      <td>147.497175</td>\n",
       "      <td>7.946586</td>\n",
       "      <td>7.870000</td>\n",
       "      <td>0.750087</td>\n",
       "      <td>1403.147105</td>\n",
       "      <td>-499.536490</td>\n",
       "      <td>1400.621750</td>\n",
       "      <td>-498.865191</td>\n",
       "      <td>1402.347908</td>\n",
       "      <td>...</td>\n",
       "      <td>11.980268</td>\n",
       "      <td>-499.090571</td>\n",
       "      <td>8.074527</td>\n",
       "      <td>-499.750816</td>\n",
       "      <td>8.021712</td>\n",
       "      <td>-498.115545</td>\n",
       "      <td>5.086844</td>\n",
       "      <td>-499.910107</td>\n",
       "      <td>9.990204</td>\n",
       "      <td>-499.596528</td>\n",
       "    </tr>\n",
       "    <tr>\n",
       "      <th>18</th>\n",
       "      <td>2016-09-01 18:59:59</td>\n",
       "      <td>136.501688</td>\n",
       "      <td>8.071039</td>\n",
       "      <td>7.870000</td>\n",
       "      <td>0.605076</td>\n",
       "      <td>1403.385188</td>\n",
       "      <td>-500.678004</td>\n",
       "      <td>1399.207858</td>\n",
       "      <td>-500.607354</td>\n",
       "      <td>1400.127106</td>\n",
       "      <td>...</td>\n",
       "      <td>12.082380</td>\n",
       "      <td>-500.351365</td>\n",
       "      <td>8.043323</td>\n",
       "      <td>-500.452250</td>\n",
       "      <td>8.074127</td>\n",
       "      <td>-498.537555</td>\n",
       "      <td>5.073014</td>\n",
       "      <td>-499.625942</td>\n",
       "      <td>9.985529</td>\n",
       "      <td>-500.424783</td>\n",
       "    </tr>\n",
       "    <tr>\n",
       "      <th>19</th>\n",
       "      <td>2016-09-01 19:59:59</td>\n",
       "      <td>119.017851</td>\n",
       "      <td>7.988656</td>\n",
       "      <td>7.870000</td>\n",
       "      <td>0.599571</td>\n",
       "      <td>1400.009171</td>\n",
       "      <td>-499.892042</td>\n",
       "      <td>1400.724122</td>\n",
       "      <td>-500.490918</td>\n",
       "      <td>1400.122620</td>\n",
       "      <td>...</td>\n",
       "      <td>11.898973</td>\n",
       "      <td>-498.608686</td>\n",
       "      <td>7.976877</td>\n",
       "      <td>-499.241773</td>\n",
       "      <td>8.008262</td>\n",
       "      <td>-500.167815</td>\n",
       "      <td>5.059183</td>\n",
       "      <td>-500.271811</td>\n",
       "      <td>9.933169</td>\n",
       "      <td>-499.271896</td>\n",
       "    </tr>\n",
       "  </tbody>\n",
       "</table>\n",
       "<p>20 rows × 53 columns</p>\n",
       "</div>"
      ],
      "text/plain": [
       "                   date  primary_cleaner.input.sulfate  \\\n",
       "0   2016-09-01 00:59:59                     210.800909   \n",
       "1   2016-09-01 01:59:59                     215.392455   \n",
       "2   2016-09-01 02:59:59                     215.259946   \n",
       "3   2016-09-01 03:59:59                     215.336236   \n",
       "4   2016-09-01 04:59:59                     199.099327   \n",
       "5   2016-09-01 05:59:59                     168.485085   \n",
       "6   2016-09-01 06:59:59                     144.133440   \n",
       "7   2016-09-01 07:59:59                     133.513396   \n",
       "8   2016-09-01 08:59:59                     133.735356   \n",
       "9   2016-09-01 09:59:59                     126.961069   \n",
       "10  2016-09-01 10:59:59                     118.996645   \n",
       "11  2016-09-01 11:59:59                     120.022197   \n",
       "12  2016-09-01 12:59:59                     119.992390   \n",
       "13  2016-09-01 13:59:59                     116.455446   \n",
       "14  2016-09-01 14:59:59                     116.615574   \n",
       "15  2016-09-01 15:59:59                     130.002492   \n",
       "16  2016-09-01 16:59:59                     139.110741   \n",
       "17  2016-09-01 17:59:59                     147.497175   \n",
       "18  2016-09-01 18:59:59                     136.501688   \n",
       "19  2016-09-01 19:59:59                     119.017851   \n",
       "\n",
       "    primary_cleaner.input.depressant  primary_cleaner.input.feed_size  \\\n",
       "0                          14.993118                         8.080000   \n",
       "1                          14.987471                         8.080000   \n",
       "2                          12.884934                         7.786667   \n",
       "3                          12.006805                         7.640000   \n",
       "4                          10.682530                         7.530000   \n",
       "5                           8.817007                         7.420000   \n",
       "6                           7.924610                         7.420000   \n",
       "7                           8.055252                         6.988000   \n",
       "8                           7.999618                         6.935000   \n",
       "9                           8.017856                         7.030000   \n",
       "10                          8.053901                         6.938333   \n",
       "11                          7.964399                         6.920000   \n",
       "12                          7.976629                         8.009500   \n",
       "13                          8.020024                         8.100000   \n",
       "14                          7.976104                         7.962000   \n",
       "15                          7.975534                         7.870000   \n",
       "16                          8.029847                         7.870000   \n",
       "17                          7.946586                         7.870000   \n",
       "18                          8.071039                         7.870000   \n",
       "19                          7.988656                         7.870000   \n",
       "\n",
       "    primary_cleaner.input.xanthate  primary_cleaner.state.floatbank8_a_air  \\\n",
       "0                         1.005021                             1398.981301   \n",
       "1                         0.990469                             1398.777912   \n",
       "2                         0.996043                             1398.493666   \n",
       "3                         0.863514                             1399.618111   \n",
       "4                         0.805575                             1401.268123   \n",
       "5                         0.791191                             1402.826803   \n",
       "6                         0.788838                             1398.252401   \n",
       "7                         0.801871                             1401.669677   \n",
       "8                         0.789329                             1402.358981   \n",
       "9                         0.805298                             1400.816120   \n",
       "10                        0.799155                             1400.414377   \n",
       "11                        0.794210                             1399.594414   \n",
       "12                        0.806644                             1402.658539   \n",
       "13                        0.803810                             1401.522803   \n",
       "14                        0.788860                             1400.371468   \n",
       "15                        0.796464                             1400.232655   \n",
       "16                        0.789310                             1400.527148   \n",
       "17                        0.750087                             1403.147105   \n",
       "18                        0.605076                             1403.385188   \n",
       "19                        0.599571                             1400.009171   \n",
       "\n",
       "    primary_cleaner.state.floatbank8_a_level  \\\n",
       "0                                -500.225577   \n",
       "1                                -500.057435   \n",
       "2                                -500.868360   \n",
       "3                                -498.863574   \n",
       "4                                -500.808305   \n",
       "5                                -499.299521   \n",
       "6                                -499.748672   \n",
       "7                                -501.777839   \n",
       "8                                -499.981597   \n",
       "9                                -499.014158   \n",
       "10                               -500.467134   \n",
       "11                               -499.245896   \n",
       "12                               -499.902819   \n",
       "13                               -500.229384   \n",
       "14                               -501.074463   \n",
       "15                               -499.470106   \n",
       "16                               -499.361604   \n",
       "17                               -499.536490   \n",
       "18                               -500.678004   \n",
       "19                               -499.892042   \n",
       "\n",
       "    primary_cleaner.state.floatbank8_b_air  \\\n",
       "0                              1399.144926   \n",
       "1                              1398.055362   \n",
       "2                              1398.860436   \n",
       "3                              1397.440120   \n",
       "4                              1398.128818   \n",
       "5                              1401.511119   \n",
       "6                              1393.255503   \n",
       "7                              1400.754446   \n",
       "8                              1400.985954   \n",
       "9                              1399.975401   \n",
       "10                             1400.089566   \n",
       "11                             1400.722260   \n",
       "12                             1399.102451   \n",
       "13                             1400.822074   \n",
       "14                             1402.642429   \n",
       "15                             1402.184151   \n",
       "16                             1400.873200   \n",
       "17                             1400.621750   \n",
       "18                             1399.207858   \n",
       "19                             1400.724122   \n",
       "\n",
       "    primary_cleaner.state.floatbank8_b_level  \\\n",
       "0                                -499.919735   \n",
       "1                                -499.778182   \n",
       "2                                -499.764529   \n",
       "3                                -499.211024   \n",
       "4                                -499.504543   \n",
       "5                                -499.205357   \n",
       "6                                -499.195380   \n",
       "7                                -502.514024   \n",
       "8                                -496.802968   \n",
       "9                                -499.570552   \n",
       "10                               -500.446977   \n",
       "11                               -499.360136   \n",
       "12                               -500.175006   \n",
       "13                               -499.962458   \n",
       "14                               -499.130424   \n",
       "15                               -500.236610   \n",
       "16                               -500.214150   \n",
       "17                               -498.865191   \n",
       "18                               -500.607354   \n",
       "19                               -500.490918   \n",
       "\n",
       "    primary_cleaner.state.floatbank8_c_air  ...  \\\n",
       "0                              1400.102998  ...   \n",
       "1                              1396.151033  ...   \n",
       "2                              1398.075709  ...   \n",
       "3                              1400.129303  ...   \n",
       "4                              1402.172226  ...   \n",
       "5                              1404.088107  ...   \n",
       "6                              1396.738566  ...   \n",
       "7                              1400.465244  ...   \n",
       "8                              1401.168584  ...   \n",
       "9                              1401.871924  ...   \n",
       "10                             1402.269967  ...   \n",
       "11                             1400.503184  ...   \n",
       "12                             1401.881482  ...   \n",
       "13                             1400.873855  ...   \n",
       "14                             1398.273436  ...   \n",
       "15                             1401.238323  ...   \n",
       "16                             1402.397652  ...   \n",
       "17                             1402.347908  ...   \n",
       "18                             1400.127106  ...   \n",
       "19                             1400.122620  ...   \n",
       "\n",
       "    secondary_cleaner.state.floatbank4_a_air  \\\n",
       "0                                  12.023554   \n",
       "1                                  12.058140   \n",
       "2                                  11.962366   \n",
       "3                                  12.033091   \n",
       "4                                  12.025367   \n",
       "5                                  12.029797   \n",
       "6                                  12.026296   \n",
       "7                                  12.040911   \n",
       "8                                  11.998184   \n",
       "9                                  12.040725   \n",
       "10                                 12.016142   \n",
       "11                                 11.959844   \n",
       "12                                 11.937972   \n",
       "13                                 12.044229   \n",
       "14                                 12.002987   \n",
       "15                                 12.001285   \n",
       "16                                 11.977331   \n",
       "17                                 11.980268   \n",
       "18                                 12.082380   \n",
       "19                                 11.898973   \n",
       "\n",
       "    secondary_cleaner.state.floatbank4_a_level  \\\n",
       "0                                  -497.795834   \n",
       "1                                  -498.695773   \n",
       "2                                  -498.767484   \n",
       "3                                  -498.350935   \n",
       "4                                  -500.786497   \n",
       "5                                  -499.814895   \n",
       "6                                  -499.473127   \n",
       "7                                  -501.293852   \n",
       "8                                  -499.481608   \n",
       "9                                  -499.987743   \n",
       "10                                 -500.597945   \n",
       "11                                 -499.181077   \n",
       "12                                 -499.665072   \n",
       "13                                 -500.102489   \n",
       "14                                 -500.459197   \n",
       "15                                 -501.477914   \n",
       "16                                 -499.910943   \n",
       "17                                 -499.090571   \n",
       "18                                 -500.351365   \n",
       "19                                 -498.608686   \n",
       "\n",
       "    secondary_cleaner.state.floatbank4_b_air  \\\n",
       "0                                   8.016656   \n",
       "1                                   8.130979   \n",
       "2                                   8.096893   \n",
       "3                                   8.074946   \n",
       "4                                   8.054678   \n",
       "5                                   8.036586   \n",
       "6                                   8.027984   \n",
       "7                                   8.020490   \n",
       "8                                   8.012610   \n",
       "9                                   7.989503   \n",
       "10                                  8.109317   \n",
       "11                                  8.078691   \n",
       "12                                  7.999953   \n",
       "13                                  7.963308   \n",
       "14                                  7.971947   \n",
       "15                                  8.006140   \n",
       "16                                  8.040334   \n",
       "17                                  8.074527   \n",
       "18                                  8.043323   \n",
       "19                                  7.976877   \n",
       "\n",
       "    secondary_cleaner.state.floatbank4_b_level  \\\n",
       "0                                  -501.289139   \n",
       "1                                  -499.634209   \n",
       "2                                  -500.827423   \n",
       "3                                  -499.474407   \n",
       "4                                  -500.397500   \n",
       "5                                  -500.371492   \n",
       "6                                  -500.983079   \n",
       "7                                  -499.185229   \n",
       "8                                  -500.896783   \n",
       "9                                  -499.750625   \n",
       "10                                 -500.815511   \n",
       "11                                 -499.250344   \n",
       "12                                 -500.719390   \n",
       "13                                 -498.999161   \n",
       "14                                 -500.515679   \n",
       "15                                 -500.451719   \n",
       "16                                 -500.204165   \n",
       "17                                 -499.750816   \n",
       "18                                 -500.452250   \n",
       "19                                 -499.241773   \n",
       "\n",
       "    secondary_cleaner.state.floatbank5_a_air  \\\n",
       "0                                   7.946562   \n",
       "1                                   7.958270   \n",
       "2                                   8.071056   \n",
       "3                                   7.897085   \n",
       "4                                   8.107890   \n",
       "5                                   8.041446   \n",
       "6                                   7.907340   \n",
       "7                                   8.116897   \n",
       "8                                   7.974422   \n",
       "9                                   7.989710   \n",
       "10                                  7.963967   \n",
       "11                                  7.958926   \n",
       "12                                  8.117658   \n",
       "13                                  8.079780   \n",
       "14                                  8.053689   \n",
       "15                                  8.000597   \n",
       "16                                  7.997683   \n",
       "17                                  8.021712   \n",
       "18                                  8.074127   \n",
       "19                                  8.008262   \n",
       "\n",
       "    secondary_cleaner.state.floatbank5_a_level  \\\n",
       "0                                  -432.317850   \n",
       "1                                  -525.839648   \n",
       "2                                  -500.801673   \n",
       "3                                  -500.868509   \n",
       "4                                  -509.526725   \n",
       "5                                  -510.037054   \n",
       "6                                  -507.964971   \n",
       "7                                  -511.927561   \n",
       "8                                  -521.199104   \n",
       "9                                  -509.946737   \n",
       "10                                 -523.193535   \n",
       "11                                 -491.675387   \n",
       "12                                 -499.024283   \n",
       "13                                 -500.111603   \n",
       "14                                 -500.238073   \n",
       "15                                 -502.952208   \n",
       "16                                 -500.890613   \n",
       "17                                 -498.115545   \n",
       "18                                 -498.537555   \n",
       "19                                 -500.167815   \n",
       "\n",
       "    secondary_cleaner.state.floatbank5_b_air  \\\n",
       "0                                   4.872511   \n",
       "1                                   4.878850   \n",
       "2                                   4.905125   \n",
       "3                                   4.931400   \n",
       "4                                   4.957674   \n",
       "5                                   4.983949   \n",
       "6                                   5.010224   \n",
       "7                                   5.036498   \n",
       "8                                   5.061599   \n",
       "9                                   5.068811   \n",
       "10                                  5.069972   \n",
       "11                                  5.069611   \n",
       "12                                  5.060127   \n",
       "13                                  5.049125   \n",
       "14                                  5.038123   \n",
       "15                                  5.027121   \n",
       "16                                  5.057373   \n",
       "17                                  5.086844   \n",
       "18                                  5.073014   \n",
       "19                                  5.059183   \n",
       "\n",
       "    secondary_cleaner.state.floatbank5_b_level  \\\n",
       "0                                  -500.037437   \n",
       "1                                  -500.162375   \n",
       "2                                  -499.828510   \n",
       "3                                  -499.963623   \n",
       "4                                  -500.360026   \n",
       "5                                  -499.990990   \n",
       "6                                  -500.043697   \n",
       "7                                  -500.149615   \n",
       "8                                  -499.791519   \n",
       "9                                  -499.293900   \n",
       "10                                 -499.786750   \n",
       "11                                 -499.573837   \n",
       "12                                 -499.757223   \n",
       "13                                 -499.964304   \n",
       "14                                 -500.161160   \n",
       "15                                 -499.659053   \n",
       "16                                 -500.033917   \n",
       "17                                 -499.910107   \n",
       "18                                 -499.625942   \n",
       "19                                 -500.271811   \n",
       "\n",
       "    secondary_cleaner.state.floatbank6_a_air  \\\n",
       "0                                  26.705889   \n",
       "1                                  25.019940   \n",
       "2                                  24.994862   \n",
       "3                                  24.948919   \n",
       "4                                  25.003331   \n",
       "5                                  24.978973   \n",
       "6                                  25.040709   \n",
       "7                                  25.032580   \n",
       "8                                  25.005063   \n",
       "9                                  24.992741   \n",
       "10                                 25.003677   \n",
       "11                                 18.364718   \n",
       "12                                 10.008581   \n",
       "13                                 10.016975   \n",
       "14                                  9.909759   \n",
       "15                                  9.883136   \n",
       "16                                  9.994027   \n",
       "17                                  9.990204   \n",
       "18                                  9.985529   \n",
       "19                                  9.933169   \n",
       "\n",
       "    secondary_cleaner.state.floatbank6_a_level  \n",
       "0                                  -499.709414  \n",
       "1                                  -499.819438  \n",
       "2                                  -500.622559  \n",
       "3                                  -498.709987  \n",
       "4                                  -500.856333  \n",
       "5                                  -500.475640  \n",
       "6                                  -499.501984  \n",
       "7                                  -503.970657  \n",
       "8                                  -497.613716  \n",
       "9                                  -499.272255  \n",
       "10                                 -500.043103  \n",
       "11                                 -497.711111  \n",
       "12                                 -499.937567  \n",
       "13                                 -499.835537  \n",
       "14                                 -500.770649  \n",
       "15                                 -500.641186  \n",
       "16                                 -499.483006  \n",
       "17                                 -499.596528  \n",
       "18                                 -500.424783  \n",
       "19                                 -499.271896  \n",
       "\n",
       "[20 rows x 53 columns]"
      ]
     },
     "metadata": {},
     "output_type": "display_data"
    },
    {
     "name": "stdout",
     "output_type": "stream",
     "text": [
      "\n",
      "0\n",
      "\n",
      "date                                           0\n",
      "primary_cleaner.input.sulfate                  4\n",
      "primary_cleaner.input.depressant               5\n",
      "primary_cleaner.input.feed_size                0\n",
      "primary_cleaner.input.xanthate                 4\n",
      "primary_cleaner.state.floatbank8_a_air         0\n",
      "primary_cleaner.state.floatbank8_a_level       0\n",
      "primary_cleaner.state.floatbank8_b_air         0\n",
      "primary_cleaner.state.floatbank8_b_level       0\n",
      "primary_cleaner.state.floatbank8_c_air         0\n",
      "primary_cleaner.state.floatbank8_c_level       0\n",
      "primary_cleaner.state.floatbank8_d_air         0\n",
      "primary_cleaner.state.floatbank8_d_level       0\n",
      "rougher.input.feed_ag                          0\n",
      "rougher.input.feed_pb                          0\n",
      "rougher.input.feed_rate                        3\n",
      "rougher.input.feed_size                        1\n",
      "rougher.input.feed_sol                        21\n",
      "rougher.input.feed_au                          0\n",
      "rougher.input.floatbank10_sulfate              5\n",
      "rougher.input.floatbank10_xanthate             0\n",
      "rougher.input.floatbank11_sulfate              8\n",
      "rougher.input.floatbank11_xanthate            25\n",
      "rougher.state.floatbank10_a_air                0\n",
      "rougher.state.floatbank10_a_level              0\n",
      "rougher.state.floatbank10_b_air                0\n",
      "rougher.state.floatbank10_b_level              0\n",
      "rougher.state.floatbank10_c_air                0\n",
      "rougher.state.floatbank10_c_level              0\n",
      "rougher.state.floatbank10_d_air                0\n",
      "rougher.state.floatbank10_d_level              0\n",
      "rougher.state.floatbank10_e_air                0\n",
      "rougher.state.floatbank10_e_level              0\n",
      "rougher.state.floatbank10_f_air                0\n",
      "rougher.state.floatbank10_f_level              0\n",
      "secondary_cleaner.state.floatbank2_a_air       3\n",
      "secondary_cleaner.state.floatbank2_a_level     0\n",
      "secondary_cleaner.state.floatbank2_b_air       2\n",
      "secondary_cleaner.state.floatbank2_b_level     0\n",
      "secondary_cleaner.state.floatbank3_a_air       9\n",
      "secondary_cleaner.state.floatbank3_a_level     0\n",
      "secondary_cleaner.state.floatbank3_b_air       0\n",
      "secondary_cleaner.state.floatbank3_b_level     0\n",
      "secondary_cleaner.state.floatbank4_a_air       0\n",
      "secondary_cleaner.state.floatbank4_a_level     0\n",
      "secondary_cleaner.state.floatbank4_b_air       0\n",
      "secondary_cleaner.state.floatbank4_b_level     0\n",
      "secondary_cleaner.state.floatbank5_a_air       0\n",
      "secondary_cleaner.state.floatbank5_a_level     0\n",
      "secondary_cleaner.state.floatbank5_b_air       0\n",
      "secondary_cleaner.state.floatbank5_b_level     0\n",
      "secondary_cleaner.state.floatbank6_a_air       0\n",
      "secondary_cleaner.state.floatbank6_a_level     0\n",
      "dtype: int64\n"
     ]
    }
   ],
   "source": [
    "df_info(df_test)"
   ]
  },
  {
   "cell_type": "code",
   "execution_count": 7,
   "metadata": {},
   "outputs": [
    {
     "data": {
      "text/plain": [
       "<bound method DataFrame.info of                       date  final.output.concentrate_ag  \\\n",
       "0      2016-01-15 00:00:00                     6.055403   \n",
       "1      2016-01-15 01:00:00                     6.029369   \n",
       "2      2016-01-15 02:00:00                     6.055926   \n",
       "3      2016-01-15 03:00:00                     6.047977   \n",
       "4      2016-01-15 04:00:00                     6.148599   \n",
       "...                    ...                          ...   \n",
       "19434  2018-08-18 06:59:59                     3.224920   \n",
       "19435  2018-08-18 07:59:59                     3.195978   \n",
       "19436  2018-08-18 08:59:59                     3.109998   \n",
       "19437  2018-08-18 09:59:59                     3.367241   \n",
       "19438  2018-08-18 10:59:59                     3.598375   \n",
       "\n",
       "       final.output.concentrate_pb  final.output.concentrate_sol  \\\n",
       "0                         9.889648                      5.507324   \n",
       "1                         9.968944                      5.257781   \n",
       "2                        10.213995                      5.383759   \n",
       "3                         9.977019                      4.858634   \n",
       "4                        10.142511                      4.939416   \n",
       "...                            ...                           ...   \n",
       "19434                    11.356233                      6.803482   \n",
       "19435                    11.349355                      6.862249   \n",
       "19436                    11.434366                      6.886013   \n",
       "19437                    11.625587                      6.799433   \n",
       "19438                    11.737832                      6.717509   \n",
       "\n",
       "       final.output.concentrate_au  final.output.recovery  \\\n",
       "0                        42.192020              70.541216   \n",
       "1                        42.701629              69.266198   \n",
       "2                        42.657501              68.116445   \n",
       "3                        42.689819              68.347543   \n",
       "4                        42.774141              66.927016   \n",
       "...                            ...                    ...   \n",
       "19434                    46.713954              73.755150   \n",
       "19435                    46.866780              69.049291   \n",
       "19436                    46.795691              67.002189   \n",
       "19437                    46.408188              65.523246   \n",
       "19438                    46.299438              70.281454   \n",
       "\n",
       "       final.output.tail_ag  final.output.tail_pb  final.output.tail_sol  \\\n",
       "0                 10.411962              0.895447              16.904297   \n",
       "1                 10.462676              0.927452              16.634514   \n",
       "2                 10.507046              0.953716              16.208849   \n",
       "3                 10.422762              0.883763              16.532835   \n",
       "4                 10.360302              0.792826              16.525686   \n",
       "...                     ...                   ...                    ...   \n",
       "19434              8.769645              3.141541              10.403181   \n",
       "19435              8.897321              3.130493              10.549470   \n",
       "19436              8.529606              2.911418              11.115147   \n",
       "19437              8.777171              2.819214              10.463847   \n",
       "19438              8.406690              2.517518              10.652193   \n",
       "\n",
       "       final.output.tail_au  ...  secondary_cleaner.state.floatbank4_a_air  \\\n",
       "0                  2.143149  ...                                 14.016835   \n",
       "1                  2.224930  ...                                 13.992281   \n",
       "2                  2.257889  ...                                 14.015015   \n",
       "3                  2.146849  ...                                 14.036510   \n",
       "4                  2.055292  ...                                 14.027298   \n",
       "...                     ...  ...                                       ...   \n",
       "19434              1.529220  ...                                 23.031497   \n",
       "19435              1.612542  ...                                 22.960095   \n",
       "19436              1.596616  ...                                 23.015718   \n",
       "19437              1.602879  ...                                 23.024963   \n",
       "19438              1.389434  ...                                 23.018622   \n",
       "\n",
       "       secondary_cleaner.state.floatbank4_a_level  \\\n",
       "0                                     -502.488007   \n",
       "1                                     -505.503262   \n",
       "2                                     -502.520901   \n",
       "3                                     -500.857308   \n",
       "4                                     -499.838632   \n",
       "...                                           ...   \n",
       "19434                                 -501.167942   \n",
       "19435                                 -501.612783   \n",
       "19436                                 -501.711599   \n",
       "19437                                 -501.153409   \n",
       "19438                                 -500.492702   \n",
       "\n",
       "       secondary_cleaner.state.floatbank4_b_air  \\\n",
       "0                                     12.099931   \n",
       "1                                     11.950531   \n",
       "2                                     11.912783   \n",
       "3                                     11.999550   \n",
       "4                                     11.953070   \n",
       "...                                         ...   \n",
       "19434                                 20.007571   \n",
       "19435                                 20.035660   \n",
       "19436                                 19.951231   \n",
       "19437                                 20.054122   \n",
       "19438                                 20.020205   \n",
       "\n",
       "       secondary_cleaner.state.floatbank4_b_level  \\\n",
       "0                                     -504.715942   \n",
       "1                                     -501.331529   \n",
       "2                                     -501.133383   \n",
       "3                                     -501.193686   \n",
       "4                                     -501.053894   \n",
       "...                                           ...   \n",
       "19434                                 -499.740028   \n",
       "19435                                 -500.251357   \n",
       "19436                                 -499.857027   \n",
       "19437                                 -500.314711   \n",
       "19438                                 -500.220296   \n",
       "\n",
       "       secondary_cleaner.state.floatbank5_a_air  \\\n",
       "0                                      9.925633   \n",
       "1                                     10.039245   \n",
       "2                                     10.070913   \n",
       "3                                      9.970366   \n",
       "4                                      9.925709   \n",
       "...                                         ...   \n",
       "19434                                 18.006038   \n",
       "19435                                 17.998535   \n",
       "19436                                 18.019543   \n",
       "19437                                 17.979515   \n",
       "19438                                 17.963512   \n",
       "\n",
       "       secondary_cleaner.state.floatbank5_a_level  \\\n",
       "0                                     -498.310211   \n",
       "1                                     -500.169983   \n",
       "2                                     -500.129135   \n",
       "3                                     -499.201640   \n",
       "4                                     -501.686727   \n",
       "...                                           ...   \n",
       "19434                                 -499.834374   \n",
       "19435                                 -500.395178   \n",
       "19436                                 -500.451156   \n",
       "19437                                 -499.272871   \n",
       "19438                                 -499.939490   \n",
       "\n",
       "       secondary_cleaner.state.floatbank5_b_air  \\\n",
       "0                                      8.079666   \n",
       "1                                      7.984757   \n",
       "2                                      8.013877   \n",
       "3                                      7.977324   \n",
       "4                                      7.894242   \n",
       "...                                         ...   \n",
       "19434                                 13.001114   \n",
       "19435                                 12.954048   \n",
       "19436                                 13.023431   \n",
       "19437                                 12.992404   \n",
       "19438                                 12.990306   \n",
       "\n",
       "       secondary_cleaner.state.floatbank5_b_level  \\\n",
       "0                                     -500.470978   \n",
       "1                                     -500.582168   \n",
       "2                                     -500.517572   \n",
       "3                                     -500.255908   \n",
       "4                                     -500.356035   \n",
       "...                                           ...   \n",
       "19434                                 -500.155694   \n",
       "19435                                 -499.895163   \n",
       "19436                                 -499.914391   \n",
       "19437                                 -499.976268   \n",
       "19438                                 -500.080993   \n",
       "\n",
       "       secondary_cleaner.state.floatbank6_a_air  \\\n",
       "0                                     14.151341   \n",
       "1                                     13.998353   \n",
       "2                                     14.028663   \n",
       "3                                     14.005551   \n",
       "4                                     13.996647   \n",
       "...                                         ...   \n",
       "19434                                 20.007840   \n",
       "19435                                 19.968498   \n",
       "19436                                 19.990885   \n",
       "19437                                 20.013986   \n",
       "19438                                 19.990336   \n",
       "\n",
       "       secondary_cleaner.state.floatbank6_a_level  \n",
       "0                                     -605.841980  \n",
       "1                                     -599.787184  \n",
       "2                                     -601.427363  \n",
       "3                                     -599.996129  \n",
       "4                                     -601.496691  \n",
       "...                                           ...  \n",
       "19434                                 -501.296428  \n",
       "19435                                 -501.041608  \n",
       "19436                                 -501.518452  \n",
       "19437                                 -500.625471  \n",
       "19438                                 -499.191575  \n",
       "\n",
       "[19439 rows x 87 columns]>"
      ]
     },
     "metadata": {},
     "output_type": "display_data"
    },
    {
     "name": "stdout",
     "output_type": "stream",
     "text": [
      "\n"
     ]
    },
    {
     "data": {
      "text/html": [
       "<div>\n",
       "<style scoped>\n",
       "    .dataframe tbody tr th:only-of-type {\n",
       "        vertical-align: middle;\n",
       "    }\n",
       "\n",
       "    .dataframe tbody tr th {\n",
       "        vertical-align: top;\n",
       "    }\n",
       "\n",
       "    .dataframe thead th {\n",
       "        text-align: right;\n",
       "    }\n",
       "</style>\n",
       "<table border=\"1\" class=\"dataframe\">\n",
       "  <thead>\n",
       "    <tr style=\"text-align: right;\">\n",
       "      <th></th>\n",
       "      <th>final.output.concentrate_ag</th>\n",
       "      <th>final.output.concentrate_pb</th>\n",
       "      <th>final.output.concentrate_sol</th>\n",
       "      <th>final.output.concentrate_au</th>\n",
       "      <th>final.output.recovery</th>\n",
       "      <th>final.output.tail_ag</th>\n",
       "      <th>final.output.tail_pb</th>\n",
       "      <th>final.output.tail_sol</th>\n",
       "      <th>final.output.tail_au</th>\n",
       "      <th>primary_cleaner.input.sulfate</th>\n",
       "      <th>...</th>\n",
       "      <th>secondary_cleaner.state.floatbank4_a_air</th>\n",
       "      <th>secondary_cleaner.state.floatbank4_a_level</th>\n",
       "      <th>secondary_cleaner.state.floatbank4_b_air</th>\n",
       "      <th>secondary_cleaner.state.floatbank4_b_level</th>\n",
       "      <th>secondary_cleaner.state.floatbank5_a_air</th>\n",
       "      <th>secondary_cleaner.state.floatbank5_a_level</th>\n",
       "      <th>secondary_cleaner.state.floatbank5_b_air</th>\n",
       "      <th>secondary_cleaner.state.floatbank5_b_level</th>\n",
       "      <th>secondary_cleaner.state.floatbank6_a_air</th>\n",
       "      <th>secondary_cleaner.state.floatbank6_a_level</th>\n",
       "    </tr>\n",
       "  </thead>\n",
       "  <tbody>\n",
       "    <tr>\n",
       "      <th>count</th>\n",
       "      <td>19438.000000</td>\n",
       "      <td>19438.000000</td>\n",
       "      <td>19228.000000</td>\n",
       "      <td>19439.000000</td>\n",
       "      <td>19439.000000</td>\n",
       "      <td>19438.000000</td>\n",
       "      <td>19338.000000</td>\n",
       "      <td>19433.000000</td>\n",
       "      <td>19439.000000</td>\n",
       "      <td>19415.000000</td>\n",
       "      <td>...</td>\n",
       "      <td>19433.000000</td>\n",
       "      <td>19438.000000</td>\n",
       "      <td>19438.000000</td>\n",
       "      <td>19438.000000</td>\n",
       "      <td>19438.000000</td>\n",
       "      <td>19438.000000</td>\n",
       "      <td>19438.000000</td>\n",
       "      <td>19438.000000</td>\n",
       "      <td>19437.000000</td>\n",
       "      <td>19438.000000</td>\n",
       "    </tr>\n",
       "    <tr>\n",
       "      <th>mean</th>\n",
       "      <td>5.168470</td>\n",
       "      <td>9.978895</td>\n",
       "      <td>9.501224</td>\n",
       "      <td>44.076513</td>\n",
       "      <td>67.050208</td>\n",
       "      <td>9.688589</td>\n",
       "      <td>2.705795</td>\n",
       "      <td>10.583728</td>\n",
       "      <td>3.042467</td>\n",
       "      <td>144.624774</td>\n",
       "      <td>...</td>\n",
       "      <td>18.987674</td>\n",
       "      <td>-485.894516</td>\n",
       "      <td>15.010366</td>\n",
       "      <td>-461.078636</td>\n",
       "      <td>15.694452</td>\n",
       "      <td>-488.684065</td>\n",
       "      <td>12.198224</td>\n",
       "      <td>-487.149827</td>\n",
       "      <td>18.959024</td>\n",
       "      <td>-505.436305</td>\n",
       "    </tr>\n",
       "    <tr>\n",
       "      <th>std</th>\n",
       "      <td>1.372348</td>\n",
       "      <td>1.669240</td>\n",
       "      <td>2.787537</td>\n",
       "      <td>5.129784</td>\n",
       "      <td>10.125840</td>\n",
       "      <td>2.328642</td>\n",
       "      <td>0.949077</td>\n",
       "      <td>2.868782</td>\n",
       "      <td>0.922808</td>\n",
       "      <td>44.464071</td>\n",
       "      <td>...</td>\n",
       "      <td>5.411058</td>\n",
       "      <td>47.758570</td>\n",
       "      <td>4.890228</td>\n",
       "      <td>67.405524</td>\n",
       "      <td>5.510974</td>\n",
       "      <td>34.533396</td>\n",
       "      <td>5.333024</td>\n",
       "      <td>38.347312</td>\n",
       "      <td>5.550498</td>\n",
       "      <td>37.689057</td>\n",
       "    </tr>\n",
       "    <tr>\n",
       "      <th>min</th>\n",
       "      <td>0.000000</td>\n",
       "      <td>0.000000</td>\n",
       "      <td>0.000000</td>\n",
       "      <td>0.000000</td>\n",
       "      <td>0.000000</td>\n",
       "      <td>0.000000</td>\n",
       "      <td>0.000000</td>\n",
       "      <td>0.000000</td>\n",
       "      <td>0.000000</td>\n",
       "      <td>0.003112</td>\n",
       "      <td>...</td>\n",
       "      <td>0.000000</td>\n",
       "      <td>-799.798523</td>\n",
       "      <td>0.000000</td>\n",
       "      <td>-800.836914</td>\n",
       "      <td>-0.372054</td>\n",
       "      <td>-797.323986</td>\n",
       "      <td>0.528083</td>\n",
       "      <td>-800.220337</td>\n",
       "      <td>-0.079426</td>\n",
       "      <td>-809.741464</td>\n",
       "    </tr>\n",
       "    <tr>\n",
       "      <th>25%</th>\n",
       "      <td>4.251240</td>\n",
       "      <td>9.137262</td>\n",
       "      <td>7.722820</td>\n",
       "      <td>43.402215</td>\n",
       "      <td>63.299712</td>\n",
       "      <td>8.062878</td>\n",
       "      <td>2.040119</td>\n",
       "      <td>8.938947</td>\n",
       "      <td>2.461138</td>\n",
       "      <td>114.107029</td>\n",
       "      <td>...</td>\n",
       "      <td>14.975734</td>\n",
       "      <td>-500.704892</td>\n",
       "      <td>11.940294</td>\n",
       "      <td>-500.187742</td>\n",
       "      <td>10.988606</td>\n",
       "      <td>-500.458467</td>\n",
       "      <td>8.971105</td>\n",
       "      <td>-500.129462</td>\n",
       "      <td>14.983037</td>\n",
       "      <td>-500.728067</td>\n",
       "    </tr>\n",
       "    <tr>\n",
       "      <th>50%</th>\n",
       "      <td>5.066094</td>\n",
       "      <td>10.102433</td>\n",
       "      <td>9.218961</td>\n",
       "      <td>45.011244</td>\n",
       "      <td>68.172738</td>\n",
       "      <td>9.743623</td>\n",
       "      <td>2.748730</td>\n",
       "      <td>10.622456</td>\n",
       "      <td>2.984909</td>\n",
       "      <td>143.232103</td>\n",
       "      <td>...</td>\n",
       "      <td>18.017481</td>\n",
       "      <td>-499.837793</td>\n",
       "      <td>14.971014</td>\n",
       "      <td>-499.459786</td>\n",
       "      <td>15.000036</td>\n",
       "      <td>-499.802605</td>\n",
       "      <td>11.019433</td>\n",
       "      <td>-499.935317</td>\n",
       "      <td>19.960541</td>\n",
       "      <td>-500.048400</td>\n",
       "    </tr>\n",
       "    <tr>\n",
       "      <th>75%</th>\n",
       "      <td>5.895527</td>\n",
       "      <td>11.035769</td>\n",
       "      <td>10.947813</td>\n",
       "      <td>46.275313</td>\n",
       "      <td>72.686642</td>\n",
       "      <td>11.134294</td>\n",
       "      <td>3.333216</td>\n",
       "      <td>12.104271</td>\n",
       "      <td>3.571351</td>\n",
       "      <td>175.075656</td>\n",
       "      <td>...</td>\n",
       "      <td>23.012470</td>\n",
       "      <td>-498.249730</td>\n",
       "      <td>19.034162</td>\n",
       "      <td>-400.118106</td>\n",
       "      <td>18.026190</td>\n",
       "      <td>-498.384187</td>\n",
       "      <td>14.019088</td>\n",
       "      <td>-499.436708</td>\n",
       "      <td>24.003170</td>\n",
       "      <td>-499.495378</td>\n",
       "    </tr>\n",
       "    <tr>\n",
       "      <th>max</th>\n",
       "      <td>16.001945</td>\n",
       "      <td>17.031899</td>\n",
       "      <td>19.615720</td>\n",
       "      <td>52.756638</td>\n",
       "      <td>100.000000</td>\n",
       "      <td>19.552149</td>\n",
       "      <td>5.804178</td>\n",
       "      <td>22.317730</td>\n",
       "      <td>8.245022</td>\n",
       "      <td>265.983123</td>\n",
       "      <td>...</td>\n",
       "      <td>30.115735</td>\n",
       "      <td>-245.239184</td>\n",
       "      <td>31.269706</td>\n",
       "      <td>-6.506986</td>\n",
       "      <td>43.709931</td>\n",
       "      <td>-244.483566</td>\n",
       "      <td>27.926001</td>\n",
       "      <td>-137.740004</td>\n",
       "      <td>32.188906</td>\n",
       "      <td>-104.427459</td>\n",
       "    </tr>\n",
       "  </tbody>\n",
       "</table>\n",
       "<p>8 rows × 86 columns</p>\n",
       "</div>"
      ],
      "text/plain": [
       "       final.output.concentrate_ag  final.output.concentrate_pb  \\\n",
       "count                 19438.000000                 19438.000000   \n",
       "mean                      5.168470                     9.978895   \n",
       "std                       1.372348                     1.669240   \n",
       "min                       0.000000                     0.000000   \n",
       "25%                       4.251240                     9.137262   \n",
       "50%                       5.066094                    10.102433   \n",
       "75%                       5.895527                    11.035769   \n",
       "max                      16.001945                    17.031899   \n",
       "\n",
       "       final.output.concentrate_sol  final.output.concentrate_au  \\\n",
       "count                  19228.000000                 19439.000000   \n",
       "mean                       9.501224                    44.076513   \n",
       "std                        2.787537                     5.129784   \n",
       "min                        0.000000                     0.000000   \n",
       "25%                        7.722820                    43.402215   \n",
       "50%                        9.218961                    45.011244   \n",
       "75%                       10.947813                    46.275313   \n",
       "max                       19.615720                    52.756638   \n",
       "\n",
       "       final.output.recovery  final.output.tail_ag  final.output.tail_pb  \\\n",
       "count           19439.000000          19438.000000          19338.000000   \n",
       "mean               67.050208              9.688589              2.705795   \n",
       "std                10.125840              2.328642              0.949077   \n",
       "min                 0.000000              0.000000              0.000000   \n",
       "25%                63.299712              8.062878              2.040119   \n",
       "50%                68.172738              9.743623              2.748730   \n",
       "75%                72.686642             11.134294              3.333216   \n",
       "max               100.000000             19.552149              5.804178   \n",
       "\n",
       "       final.output.tail_sol  final.output.tail_au  \\\n",
       "count           19433.000000          19439.000000   \n",
       "mean               10.583728              3.042467   \n",
       "std                 2.868782              0.922808   \n",
       "min                 0.000000              0.000000   \n",
       "25%                 8.938947              2.461138   \n",
       "50%                10.622456              2.984909   \n",
       "75%                12.104271              3.571351   \n",
       "max                22.317730              8.245022   \n",
       "\n",
       "       primary_cleaner.input.sulfate  ...  \\\n",
       "count                   19415.000000  ...   \n",
       "mean                      144.624774  ...   \n",
       "std                        44.464071  ...   \n",
       "min                         0.003112  ...   \n",
       "25%                       114.107029  ...   \n",
       "50%                       143.232103  ...   \n",
       "75%                       175.075656  ...   \n",
       "max                       265.983123  ...   \n",
       "\n",
       "       secondary_cleaner.state.floatbank4_a_air  \\\n",
       "count                              19433.000000   \n",
       "mean                                  18.987674   \n",
       "std                                    5.411058   \n",
       "min                                    0.000000   \n",
       "25%                                   14.975734   \n",
       "50%                                   18.017481   \n",
       "75%                                   23.012470   \n",
       "max                                   30.115735   \n",
       "\n",
       "       secondary_cleaner.state.floatbank4_a_level  \\\n",
       "count                                19438.000000   \n",
       "mean                                  -485.894516   \n",
       "std                                     47.758570   \n",
       "min                                   -799.798523   \n",
       "25%                                   -500.704892   \n",
       "50%                                   -499.837793   \n",
       "75%                                   -498.249730   \n",
       "max                                   -245.239184   \n",
       "\n",
       "       secondary_cleaner.state.floatbank4_b_air  \\\n",
       "count                              19438.000000   \n",
       "mean                                  15.010366   \n",
       "std                                    4.890228   \n",
       "min                                    0.000000   \n",
       "25%                                   11.940294   \n",
       "50%                                   14.971014   \n",
       "75%                                   19.034162   \n",
       "max                                   31.269706   \n",
       "\n",
       "       secondary_cleaner.state.floatbank4_b_level  \\\n",
       "count                                19438.000000   \n",
       "mean                                  -461.078636   \n",
       "std                                     67.405524   \n",
       "min                                   -800.836914   \n",
       "25%                                   -500.187742   \n",
       "50%                                   -499.459786   \n",
       "75%                                   -400.118106   \n",
       "max                                     -6.506986   \n",
       "\n",
       "       secondary_cleaner.state.floatbank5_a_air  \\\n",
       "count                              19438.000000   \n",
       "mean                                  15.694452   \n",
       "std                                    5.510974   \n",
       "min                                   -0.372054   \n",
       "25%                                   10.988606   \n",
       "50%                                   15.000036   \n",
       "75%                                   18.026190   \n",
       "max                                   43.709931   \n",
       "\n",
       "       secondary_cleaner.state.floatbank5_a_level  \\\n",
       "count                                19438.000000   \n",
       "mean                                  -488.684065   \n",
       "std                                     34.533396   \n",
       "min                                   -797.323986   \n",
       "25%                                   -500.458467   \n",
       "50%                                   -499.802605   \n",
       "75%                                   -498.384187   \n",
       "max                                   -244.483566   \n",
       "\n",
       "       secondary_cleaner.state.floatbank5_b_air  \\\n",
       "count                              19438.000000   \n",
       "mean                                  12.198224   \n",
       "std                                    5.333024   \n",
       "min                                    0.528083   \n",
       "25%                                    8.971105   \n",
       "50%                                   11.019433   \n",
       "75%                                   14.019088   \n",
       "max                                   27.926001   \n",
       "\n",
       "       secondary_cleaner.state.floatbank5_b_level  \\\n",
       "count                                19438.000000   \n",
       "mean                                  -487.149827   \n",
       "std                                     38.347312   \n",
       "min                                   -800.220337   \n",
       "25%                                   -500.129462   \n",
       "50%                                   -499.935317   \n",
       "75%                                   -499.436708   \n",
       "max                                   -137.740004   \n",
       "\n",
       "       secondary_cleaner.state.floatbank6_a_air  \\\n",
       "count                              19437.000000   \n",
       "mean                                  18.959024   \n",
       "std                                    5.550498   \n",
       "min                                   -0.079426   \n",
       "25%                                   14.983037   \n",
       "50%                                   19.960541   \n",
       "75%                                   24.003170   \n",
       "max                                   32.188906   \n",
       "\n",
       "       secondary_cleaner.state.floatbank6_a_level  \n",
       "count                                19438.000000  \n",
       "mean                                  -505.436305  \n",
       "std                                     37.689057  \n",
       "min                                   -809.741464  \n",
       "25%                                   -500.728067  \n",
       "50%                                   -500.048400  \n",
       "75%                                   -499.495378  \n",
       "max                                   -104.427459  \n",
       "\n",
       "[8 rows x 86 columns]"
      ]
     },
     "metadata": {},
     "output_type": "display_data"
    },
    {
     "name": "stdout",
     "output_type": "stream",
     "text": [
      "\n"
     ]
    },
    {
     "data": {
      "text/html": [
       "<div>\n",
       "<style scoped>\n",
       "    .dataframe tbody tr th:only-of-type {\n",
       "        vertical-align: middle;\n",
       "    }\n",
       "\n",
       "    .dataframe tbody tr th {\n",
       "        vertical-align: top;\n",
       "    }\n",
       "\n",
       "    .dataframe thead th {\n",
       "        text-align: right;\n",
       "    }\n",
       "</style>\n",
       "<table border=\"1\" class=\"dataframe\">\n",
       "  <thead>\n",
       "    <tr style=\"text-align: right;\">\n",
       "      <th></th>\n",
       "      <th>date</th>\n",
       "      <th>final.output.concentrate_ag</th>\n",
       "      <th>final.output.concentrate_pb</th>\n",
       "      <th>final.output.concentrate_sol</th>\n",
       "      <th>final.output.concentrate_au</th>\n",
       "      <th>final.output.recovery</th>\n",
       "      <th>final.output.tail_ag</th>\n",
       "      <th>final.output.tail_pb</th>\n",
       "      <th>final.output.tail_sol</th>\n",
       "      <th>final.output.tail_au</th>\n",
       "      <th>...</th>\n",
       "      <th>secondary_cleaner.state.floatbank4_a_air</th>\n",
       "      <th>secondary_cleaner.state.floatbank4_a_level</th>\n",
       "      <th>secondary_cleaner.state.floatbank4_b_air</th>\n",
       "      <th>secondary_cleaner.state.floatbank4_b_level</th>\n",
       "      <th>secondary_cleaner.state.floatbank5_a_air</th>\n",
       "      <th>secondary_cleaner.state.floatbank5_a_level</th>\n",
       "      <th>secondary_cleaner.state.floatbank5_b_air</th>\n",
       "      <th>secondary_cleaner.state.floatbank5_b_level</th>\n",
       "      <th>secondary_cleaner.state.floatbank6_a_air</th>\n",
       "      <th>secondary_cleaner.state.floatbank6_a_level</th>\n",
       "    </tr>\n",
       "  </thead>\n",
       "  <tbody>\n",
       "    <tr>\n",
       "      <th>0</th>\n",
       "      <td>2016-01-15 00:00:00</td>\n",
       "      <td>6.055403</td>\n",
       "      <td>9.889648</td>\n",
       "      <td>5.507324</td>\n",
       "      <td>42.192020</td>\n",
       "      <td>70.541216</td>\n",
       "      <td>10.411962</td>\n",
       "      <td>0.895447</td>\n",
       "      <td>16.904297</td>\n",
       "      <td>2.143149</td>\n",
       "      <td>...</td>\n",
       "      <td>14.016835</td>\n",
       "      <td>-502.488007</td>\n",
       "      <td>12.099931</td>\n",
       "      <td>-504.715942</td>\n",
       "      <td>9.925633</td>\n",
       "      <td>-498.310211</td>\n",
       "      <td>8.079666</td>\n",
       "      <td>-500.470978</td>\n",
       "      <td>14.151341</td>\n",
       "      <td>-605.841980</td>\n",
       "    </tr>\n",
       "    <tr>\n",
       "      <th>1</th>\n",
       "      <td>2016-01-15 01:00:00</td>\n",
       "      <td>6.029369</td>\n",
       "      <td>9.968944</td>\n",
       "      <td>5.257781</td>\n",
       "      <td>42.701629</td>\n",
       "      <td>69.266198</td>\n",
       "      <td>10.462676</td>\n",
       "      <td>0.927452</td>\n",
       "      <td>16.634514</td>\n",
       "      <td>2.224930</td>\n",
       "      <td>...</td>\n",
       "      <td>13.992281</td>\n",
       "      <td>-505.503262</td>\n",
       "      <td>11.950531</td>\n",
       "      <td>-501.331529</td>\n",
       "      <td>10.039245</td>\n",
       "      <td>-500.169983</td>\n",
       "      <td>7.984757</td>\n",
       "      <td>-500.582168</td>\n",
       "      <td>13.998353</td>\n",
       "      <td>-599.787184</td>\n",
       "    </tr>\n",
       "    <tr>\n",
       "      <th>2</th>\n",
       "      <td>2016-01-15 02:00:00</td>\n",
       "      <td>6.055926</td>\n",
       "      <td>10.213995</td>\n",
       "      <td>5.383759</td>\n",
       "      <td>42.657501</td>\n",
       "      <td>68.116445</td>\n",
       "      <td>10.507046</td>\n",
       "      <td>0.953716</td>\n",
       "      <td>16.208849</td>\n",
       "      <td>2.257889</td>\n",
       "      <td>...</td>\n",
       "      <td>14.015015</td>\n",
       "      <td>-502.520901</td>\n",
       "      <td>11.912783</td>\n",
       "      <td>-501.133383</td>\n",
       "      <td>10.070913</td>\n",
       "      <td>-500.129135</td>\n",
       "      <td>8.013877</td>\n",
       "      <td>-500.517572</td>\n",
       "      <td>14.028663</td>\n",
       "      <td>-601.427363</td>\n",
       "    </tr>\n",
       "    <tr>\n",
       "      <th>3</th>\n",
       "      <td>2016-01-15 03:00:00</td>\n",
       "      <td>6.047977</td>\n",
       "      <td>9.977019</td>\n",
       "      <td>4.858634</td>\n",
       "      <td>42.689819</td>\n",
       "      <td>68.347543</td>\n",
       "      <td>10.422762</td>\n",
       "      <td>0.883763</td>\n",
       "      <td>16.532835</td>\n",
       "      <td>2.146849</td>\n",
       "      <td>...</td>\n",
       "      <td>14.036510</td>\n",
       "      <td>-500.857308</td>\n",
       "      <td>11.999550</td>\n",
       "      <td>-501.193686</td>\n",
       "      <td>9.970366</td>\n",
       "      <td>-499.201640</td>\n",
       "      <td>7.977324</td>\n",
       "      <td>-500.255908</td>\n",
       "      <td>14.005551</td>\n",
       "      <td>-599.996129</td>\n",
       "    </tr>\n",
       "    <tr>\n",
       "      <th>4</th>\n",
       "      <td>2016-01-15 04:00:00</td>\n",
       "      <td>6.148599</td>\n",
       "      <td>10.142511</td>\n",
       "      <td>4.939416</td>\n",
       "      <td>42.774141</td>\n",
       "      <td>66.927016</td>\n",
       "      <td>10.360302</td>\n",
       "      <td>0.792826</td>\n",
       "      <td>16.525686</td>\n",
       "      <td>2.055292</td>\n",
       "      <td>...</td>\n",
       "      <td>14.027298</td>\n",
       "      <td>-499.838632</td>\n",
       "      <td>11.953070</td>\n",
       "      <td>-501.053894</td>\n",
       "      <td>9.925709</td>\n",
       "      <td>-501.686727</td>\n",
       "      <td>7.894242</td>\n",
       "      <td>-500.356035</td>\n",
       "      <td>13.996647</td>\n",
       "      <td>-601.496691</td>\n",
       "    </tr>\n",
       "    <tr>\n",
       "      <th>5</th>\n",
       "      <td>2016-01-15 05:00:00</td>\n",
       "      <td>6.482968</td>\n",
       "      <td>10.049416</td>\n",
       "      <td>5.480257</td>\n",
       "      <td>41.633678</td>\n",
       "      <td>69.465816</td>\n",
       "      <td>10.182708</td>\n",
       "      <td>0.664118</td>\n",
       "      <td>16.999638</td>\n",
       "      <td>1.918586</td>\n",
       "      <td>...</td>\n",
       "      <td>13.938497</td>\n",
       "      <td>-500.970168</td>\n",
       "      <td>11.883350</td>\n",
       "      <td>-500.395298</td>\n",
       "      <td>10.054147</td>\n",
       "      <td>-496.374715</td>\n",
       "      <td>7.965083</td>\n",
       "      <td>-499.364752</td>\n",
       "      <td>14.017067</td>\n",
       "      <td>-599.707915</td>\n",
       "    </tr>\n",
       "    <tr>\n",
       "      <th>6</th>\n",
       "      <td>2016-01-15 06:00:00</td>\n",
       "      <td>6.533849</td>\n",
       "      <td>10.058141</td>\n",
       "      <td>4.569100</td>\n",
       "      <td>41.995316</td>\n",
       "      <td>69.300835</td>\n",
       "      <td>10.304598</td>\n",
       "      <td>0.807342</td>\n",
       "      <td>16.723575</td>\n",
       "      <td>2.058913</td>\n",
       "      <td>...</td>\n",
       "      <td>14.046819</td>\n",
       "      <td>-500.971133</td>\n",
       "      <td>12.091543</td>\n",
       "      <td>-500.501426</td>\n",
       "      <td>10.003247</td>\n",
       "      <td>-497.083180</td>\n",
       "      <td>8.010890</td>\n",
       "      <td>-500.002423</td>\n",
       "      <td>14.029649</td>\n",
       "      <td>-600.905470</td>\n",
       "    </tr>\n",
       "    <tr>\n",
       "      <th>7</th>\n",
       "      <td>2016-01-15 07:00:00</td>\n",
       "      <td>6.130823</td>\n",
       "      <td>9.935481</td>\n",
       "      <td>4.389813</td>\n",
       "      <td>42.452727</td>\n",
       "      <td>70.230976</td>\n",
       "      <td>10.443288</td>\n",
       "      <td>0.949346</td>\n",
       "      <td>16.689959</td>\n",
       "      <td>2.143437</td>\n",
       "      <td>...</td>\n",
       "      <td>13.974691</td>\n",
       "      <td>-501.819696</td>\n",
       "      <td>12.101324</td>\n",
       "      <td>-500.583446</td>\n",
       "      <td>9.873169</td>\n",
       "      <td>-499.171928</td>\n",
       "      <td>7.993381</td>\n",
       "      <td>-499.794518</td>\n",
       "      <td>13.984498</td>\n",
       "      <td>-600.411070</td>\n",
       "    </tr>\n",
       "    <tr>\n",
       "      <th>8</th>\n",
       "      <td>2016-01-15 08:00:00</td>\n",
       "      <td>5.834140</td>\n",
       "      <td>10.071156</td>\n",
       "      <td>4.876389</td>\n",
       "      <td>43.404078</td>\n",
       "      <td>69.688595</td>\n",
       "      <td>10.420140</td>\n",
       "      <td>1.065453</td>\n",
       "      <td>17.201948</td>\n",
       "      <td>2.209881</td>\n",
       "      <td>...</td>\n",
       "      <td>13.964030</td>\n",
       "      <td>-504.252450</td>\n",
       "      <td>12.060738</td>\n",
       "      <td>-501.174549</td>\n",
       "      <td>10.033838</td>\n",
       "      <td>-501.178133</td>\n",
       "      <td>7.881604</td>\n",
       "      <td>-499.729434</td>\n",
       "      <td>13.967135</td>\n",
       "      <td>-599.061188</td>\n",
       "    </tr>\n",
       "    <tr>\n",
       "      <th>9</th>\n",
       "      <td>2016-01-15 09:00:00</td>\n",
       "      <td>5.687063</td>\n",
       "      <td>9.980404</td>\n",
       "      <td>5.282514</td>\n",
       "      <td>43.235220</td>\n",
       "      <td>70.279619</td>\n",
       "      <td>10.487013</td>\n",
       "      <td>1.159805</td>\n",
       "      <td>17.483979</td>\n",
       "      <td>2.209593</td>\n",
       "      <td>...</td>\n",
       "      <td>13.989632</td>\n",
       "      <td>-503.195299</td>\n",
       "      <td>12.052233</td>\n",
       "      <td>-500.928547</td>\n",
       "      <td>9.962574</td>\n",
       "      <td>-502.986357</td>\n",
       "      <td>7.979219</td>\n",
       "      <td>-500.146835</td>\n",
       "      <td>13.981614</td>\n",
       "      <td>-598.070855</td>\n",
       "    </tr>\n",
       "    <tr>\n",
       "      <th>10</th>\n",
       "      <td>2016-01-15 10:00:00</td>\n",
       "      <td>5.706261</td>\n",
       "      <td>10.242511</td>\n",
       "      <td>5.214161</td>\n",
       "      <td>43.487291</td>\n",
       "      <td>70.973641</td>\n",
       "      <td>10.473539</td>\n",
       "      <td>1.171183</td>\n",
       "      <td>17.717049</td>\n",
       "      <td>2.200997</td>\n",
       "      <td>...</td>\n",
       "      <td>14.008944</td>\n",
       "      <td>-504.170807</td>\n",
       "      <td>11.995903</td>\n",
       "      <td>-501.269181</td>\n",
       "      <td>10.043100</td>\n",
       "      <td>-498.529996</td>\n",
       "      <td>8.002633</td>\n",
       "      <td>-499.761922</td>\n",
       "      <td>14.004767</td>\n",
       "      <td>-599.595324</td>\n",
       "    </tr>\n",
       "    <tr>\n",
       "      <th>11</th>\n",
       "      <td>2016-01-15 11:00:00</td>\n",
       "      <td>5.582300</td>\n",
       "      <td>10.029878</td>\n",
       "      <td>5.751567</td>\n",
       "      <td>43.467440</td>\n",
       "      <td>71.380681</td>\n",
       "      <td>10.394314</td>\n",
       "      <td>1.087722</td>\n",
       "      <td>18.059770</td>\n",
       "      <td>2.098777</td>\n",
       "      <td>...</td>\n",
       "      <td>14.029704</td>\n",
       "      <td>-503.940828</td>\n",
       "      <td>12.022296</td>\n",
       "      <td>-501.238477</td>\n",
       "      <td>10.020094</td>\n",
       "      <td>-500.061845</td>\n",
       "      <td>7.964024</td>\n",
       "      <td>-499.283982</td>\n",
       "      <td>14.003011</td>\n",
       "      <td>-599.879856</td>\n",
       "    </tr>\n",
       "    <tr>\n",
       "      <th>12</th>\n",
       "      <td>2016-01-15 12:00:00</td>\n",
       "      <td>5.664983</td>\n",
       "      <td>10.168953</td>\n",
       "      <td>5.484318</td>\n",
       "      <td>43.339714</td>\n",
       "      <td>72.659046</td>\n",
       "      <td>10.475957</td>\n",
       "      <td>1.050592</td>\n",
       "      <td>17.525656</td>\n",
       "      <td>2.064422</td>\n",
       "      <td>...</td>\n",
       "      <td>13.983963</td>\n",
       "      <td>-503.675714</td>\n",
       "      <td>11.928745</td>\n",
       "      <td>-500.583183</td>\n",
       "      <td>9.970359</td>\n",
       "      <td>-498.822343</td>\n",
       "      <td>8.016377</td>\n",
       "      <td>-499.013145</td>\n",
       "      <td>14.000032</td>\n",
       "      <td>-600.024741</td>\n",
       "    </tr>\n",
       "    <tr>\n",
       "      <th>13</th>\n",
       "      <td>2016-01-15 13:00:00</td>\n",
       "      <td>5.474776</td>\n",
       "      <td>9.813218</td>\n",
       "      <td>5.587525</td>\n",
       "      <td>44.099758</td>\n",
       "      <td>73.588844</td>\n",
       "      <td>10.378293</td>\n",
       "      <td>0.900833</td>\n",
       "      <td>17.464201</td>\n",
       "      <td>1.975039</td>\n",
       "      <td>...</td>\n",
       "      <td>13.981325</td>\n",
       "      <td>-504.947519</td>\n",
       "      <td>12.014060</td>\n",
       "      <td>-500.647565</td>\n",
       "      <td>10.000087</td>\n",
       "      <td>-499.306972</td>\n",
       "      <td>8.002007</td>\n",
       "      <td>-499.970754</td>\n",
       "      <td>14.019977</td>\n",
       "      <td>-599.986714</td>\n",
       "    </tr>\n",
       "    <tr>\n",
       "      <th>14</th>\n",
       "      <td>2016-01-15 14:00:00</td>\n",
       "      <td>5.437716</td>\n",
       "      <td>9.781181</td>\n",
       "      <td>6.057627</td>\n",
       "      <td>44.284117</td>\n",
       "      <td>70.847012</td>\n",
       "      <td>10.324415</td>\n",
       "      <td>0.961210</td>\n",
       "      <td>18.185262</td>\n",
       "      <td>2.161256</td>\n",
       "      <td>...</td>\n",
       "      <td>13.996317</td>\n",
       "      <td>-502.995300</td>\n",
       "      <td>11.980055</td>\n",
       "      <td>-500.607751</td>\n",
       "      <td>9.964501</td>\n",
       "      <td>-499.261719</td>\n",
       "      <td>8.065048</td>\n",
       "      <td>-499.492395</td>\n",
       "      <td>13.997801</td>\n",
       "      <td>-600.621416</td>\n",
       "    </tr>\n",
       "    <tr>\n",
       "      <th>15</th>\n",
       "      <td>2016-01-15 15:00:00</td>\n",
       "      <td>5.454277</td>\n",
       "      <td>10.019066</td>\n",
       "      <td>5.744694</td>\n",
       "      <td>44.081600</td>\n",
       "      <td>68.753219</td>\n",
       "      <td>10.352547</td>\n",
       "      <td>1.137378</td>\n",
       "      <td>18.431646</td>\n",
       "      <td>2.336759</td>\n",
       "      <td>...</td>\n",
       "      <td>14.015223</td>\n",
       "      <td>-503.202022</td>\n",
       "      <td>11.994299</td>\n",
       "      <td>-500.337803</td>\n",
       "      <td>10.037149</td>\n",
       "      <td>-499.395047</td>\n",
       "      <td>8.056439</td>\n",
       "      <td>-499.479716</td>\n",
       "      <td>13.977626</td>\n",
       "      <td>-600.075029</td>\n",
       "    </tr>\n",
       "    <tr>\n",
       "      <th>16</th>\n",
       "      <td>2016-01-15 16:00:00</td>\n",
       "      <td>5.410126</td>\n",
       "      <td>10.868937</td>\n",
       "      <td>6.258693</td>\n",
       "      <td>43.440341</td>\n",
       "      <td>67.839536</td>\n",
       "      <td>10.382891</td>\n",
       "      <td>1.239738</td>\n",
       "      <td>18.544924</td>\n",
       "      <td>2.423143</td>\n",
       "      <td>...</td>\n",
       "      <td>14.031220</td>\n",
       "      <td>-503.471307</td>\n",
       "      <td>11.966426</td>\n",
       "      <td>-500.656842</td>\n",
       "      <td>10.051620</td>\n",
       "      <td>-498.318772</td>\n",
       "      <td>8.018091</td>\n",
       "      <td>-499.696138</td>\n",
       "      <td>13.958937</td>\n",
       "      <td>-599.213013</td>\n",
       "    </tr>\n",
       "    <tr>\n",
       "      <th>17</th>\n",
       "      <td>2016-01-15 17:00:00</td>\n",
       "      <td>5.572499</td>\n",
       "      <td>10.841483</td>\n",
       "      <td>6.841936</td>\n",
       "      <td>42.844534</td>\n",
       "      <td>69.633763</td>\n",
       "      <td>10.349616</td>\n",
       "      <td>1.179975</td>\n",
       "      <td>18.748028</td>\n",
       "      <td>2.327442</td>\n",
       "      <td>...</td>\n",
       "      <td>14.019768</td>\n",
       "      <td>-541.569984</td>\n",
       "      <td>12.021831</td>\n",
       "      <td>-545.572166</td>\n",
       "      <td>10.021058</td>\n",
       "      <td>-501.386982</td>\n",
       "      <td>7.947110</td>\n",
       "      <td>-500.062750</td>\n",
       "      <td>14.014991</td>\n",
       "      <td>-600.670573</td>\n",
       "    </tr>\n",
       "    <tr>\n",
       "      <th>18</th>\n",
       "      <td>2016-01-15 18:00:00</td>\n",
       "      <td>5.719113</td>\n",
       "      <td>10.621027</td>\n",
       "      <td>6.459561</td>\n",
       "      <td>42.435181</td>\n",
       "      <td>68.786981</td>\n",
       "      <td>10.286797</td>\n",
       "      <td>1.171459</td>\n",
       "      <td>19.131121</td>\n",
       "      <td>2.314786</td>\n",
       "      <td>...</td>\n",
       "      <td>14.003057</td>\n",
       "      <td>-503.152258</td>\n",
       "      <td>12.016724</td>\n",
       "      <td>-501.136446</td>\n",
       "      <td>10.041864</td>\n",
       "      <td>-499.338844</td>\n",
       "      <td>8.007022</td>\n",
       "      <td>-500.279583</td>\n",
       "      <td>14.001271</td>\n",
       "      <td>-602.072365</td>\n",
       "    </tr>\n",
       "    <tr>\n",
       "      <th>19</th>\n",
       "      <td>2016-01-15 19:00:00</td>\n",
       "      <td>5.658943</td>\n",
       "      <td>10.436002</td>\n",
       "      <td>5.942418</td>\n",
       "      <td>42.509402</td>\n",
       "      <td>70.348300</td>\n",
       "      <td>10.232392</td>\n",
       "      <td>1.174845</td>\n",
       "      <td>19.498566</td>\n",
       "      <td>2.272460</td>\n",
       "      <td>...</td>\n",
       "      <td>14.001632</td>\n",
       "      <td>-509.808331</td>\n",
       "      <td>12.087669</td>\n",
       "      <td>-510.782166</td>\n",
       "      <td>10.032043</td>\n",
       "      <td>-499.128183</td>\n",
       "      <td>8.016140</td>\n",
       "      <td>-499.806844</td>\n",
       "      <td>13.949790</td>\n",
       "      <td>-600.140776</td>\n",
       "    </tr>\n",
       "  </tbody>\n",
       "</table>\n",
       "<p>20 rows × 87 columns</p>\n",
       "</div>"
      ],
      "text/plain": [
       "                   date  final.output.concentrate_ag  \\\n",
       "0   2016-01-15 00:00:00                     6.055403   \n",
       "1   2016-01-15 01:00:00                     6.029369   \n",
       "2   2016-01-15 02:00:00                     6.055926   \n",
       "3   2016-01-15 03:00:00                     6.047977   \n",
       "4   2016-01-15 04:00:00                     6.148599   \n",
       "5   2016-01-15 05:00:00                     6.482968   \n",
       "6   2016-01-15 06:00:00                     6.533849   \n",
       "7   2016-01-15 07:00:00                     6.130823   \n",
       "8   2016-01-15 08:00:00                     5.834140   \n",
       "9   2016-01-15 09:00:00                     5.687063   \n",
       "10  2016-01-15 10:00:00                     5.706261   \n",
       "11  2016-01-15 11:00:00                     5.582300   \n",
       "12  2016-01-15 12:00:00                     5.664983   \n",
       "13  2016-01-15 13:00:00                     5.474776   \n",
       "14  2016-01-15 14:00:00                     5.437716   \n",
       "15  2016-01-15 15:00:00                     5.454277   \n",
       "16  2016-01-15 16:00:00                     5.410126   \n",
       "17  2016-01-15 17:00:00                     5.572499   \n",
       "18  2016-01-15 18:00:00                     5.719113   \n",
       "19  2016-01-15 19:00:00                     5.658943   \n",
       "\n",
       "    final.output.concentrate_pb  final.output.concentrate_sol  \\\n",
       "0                      9.889648                      5.507324   \n",
       "1                      9.968944                      5.257781   \n",
       "2                     10.213995                      5.383759   \n",
       "3                      9.977019                      4.858634   \n",
       "4                     10.142511                      4.939416   \n",
       "5                     10.049416                      5.480257   \n",
       "6                     10.058141                      4.569100   \n",
       "7                      9.935481                      4.389813   \n",
       "8                     10.071156                      4.876389   \n",
       "9                      9.980404                      5.282514   \n",
       "10                    10.242511                      5.214161   \n",
       "11                    10.029878                      5.751567   \n",
       "12                    10.168953                      5.484318   \n",
       "13                     9.813218                      5.587525   \n",
       "14                     9.781181                      6.057627   \n",
       "15                    10.019066                      5.744694   \n",
       "16                    10.868937                      6.258693   \n",
       "17                    10.841483                      6.841936   \n",
       "18                    10.621027                      6.459561   \n",
       "19                    10.436002                      5.942418   \n",
       "\n",
       "    final.output.concentrate_au  final.output.recovery  final.output.tail_ag  \\\n",
       "0                     42.192020              70.541216             10.411962   \n",
       "1                     42.701629              69.266198             10.462676   \n",
       "2                     42.657501              68.116445             10.507046   \n",
       "3                     42.689819              68.347543             10.422762   \n",
       "4                     42.774141              66.927016             10.360302   \n",
       "5                     41.633678              69.465816             10.182708   \n",
       "6                     41.995316              69.300835             10.304598   \n",
       "7                     42.452727              70.230976             10.443288   \n",
       "8                     43.404078              69.688595             10.420140   \n",
       "9                     43.235220              70.279619             10.487013   \n",
       "10                    43.487291              70.973641             10.473539   \n",
       "11                    43.467440              71.380681             10.394314   \n",
       "12                    43.339714              72.659046             10.475957   \n",
       "13                    44.099758              73.588844             10.378293   \n",
       "14                    44.284117              70.847012             10.324415   \n",
       "15                    44.081600              68.753219             10.352547   \n",
       "16                    43.440341              67.839536             10.382891   \n",
       "17                    42.844534              69.633763             10.349616   \n",
       "18                    42.435181              68.786981             10.286797   \n",
       "19                    42.509402              70.348300             10.232392   \n",
       "\n",
       "    final.output.tail_pb  final.output.tail_sol  final.output.tail_au  ...  \\\n",
       "0               0.895447              16.904297              2.143149  ...   \n",
       "1               0.927452              16.634514              2.224930  ...   \n",
       "2               0.953716              16.208849              2.257889  ...   \n",
       "3               0.883763              16.532835              2.146849  ...   \n",
       "4               0.792826              16.525686              2.055292  ...   \n",
       "5               0.664118              16.999638              1.918586  ...   \n",
       "6               0.807342              16.723575              2.058913  ...   \n",
       "7               0.949346              16.689959              2.143437  ...   \n",
       "8               1.065453              17.201948              2.209881  ...   \n",
       "9               1.159805              17.483979              2.209593  ...   \n",
       "10              1.171183              17.717049              2.200997  ...   \n",
       "11              1.087722              18.059770              2.098777  ...   \n",
       "12              1.050592              17.525656              2.064422  ...   \n",
       "13              0.900833              17.464201              1.975039  ...   \n",
       "14              0.961210              18.185262              2.161256  ...   \n",
       "15              1.137378              18.431646              2.336759  ...   \n",
       "16              1.239738              18.544924              2.423143  ...   \n",
       "17              1.179975              18.748028              2.327442  ...   \n",
       "18              1.171459              19.131121              2.314786  ...   \n",
       "19              1.174845              19.498566              2.272460  ...   \n",
       "\n",
       "    secondary_cleaner.state.floatbank4_a_air  \\\n",
       "0                                  14.016835   \n",
       "1                                  13.992281   \n",
       "2                                  14.015015   \n",
       "3                                  14.036510   \n",
       "4                                  14.027298   \n",
       "5                                  13.938497   \n",
       "6                                  14.046819   \n",
       "7                                  13.974691   \n",
       "8                                  13.964030   \n",
       "9                                  13.989632   \n",
       "10                                 14.008944   \n",
       "11                                 14.029704   \n",
       "12                                 13.983963   \n",
       "13                                 13.981325   \n",
       "14                                 13.996317   \n",
       "15                                 14.015223   \n",
       "16                                 14.031220   \n",
       "17                                 14.019768   \n",
       "18                                 14.003057   \n",
       "19                                 14.001632   \n",
       "\n",
       "    secondary_cleaner.state.floatbank4_a_level  \\\n",
       "0                                  -502.488007   \n",
       "1                                  -505.503262   \n",
       "2                                  -502.520901   \n",
       "3                                  -500.857308   \n",
       "4                                  -499.838632   \n",
       "5                                  -500.970168   \n",
       "6                                  -500.971133   \n",
       "7                                  -501.819696   \n",
       "8                                  -504.252450   \n",
       "9                                  -503.195299   \n",
       "10                                 -504.170807   \n",
       "11                                 -503.940828   \n",
       "12                                 -503.675714   \n",
       "13                                 -504.947519   \n",
       "14                                 -502.995300   \n",
       "15                                 -503.202022   \n",
       "16                                 -503.471307   \n",
       "17                                 -541.569984   \n",
       "18                                 -503.152258   \n",
       "19                                 -509.808331   \n",
       "\n",
       "    secondary_cleaner.state.floatbank4_b_air  \\\n",
       "0                                  12.099931   \n",
       "1                                  11.950531   \n",
       "2                                  11.912783   \n",
       "3                                  11.999550   \n",
       "4                                  11.953070   \n",
       "5                                  11.883350   \n",
       "6                                  12.091543   \n",
       "7                                  12.101324   \n",
       "8                                  12.060738   \n",
       "9                                  12.052233   \n",
       "10                                 11.995903   \n",
       "11                                 12.022296   \n",
       "12                                 11.928745   \n",
       "13                                 12.014060   \n",
       "14                                 11.980055   \n",
       "15                                 11.994299   \n",
       "16                                 11.966426   \n",
       "17                                 12.021831   \n",
       "18                                 12.016724   \n",
       "19                                 12.087669   \n",
       "\n",
       "    secondary_cleaner.state.floatbank4_b_level  \\\n",
       "0                                  -504.715942   \n",
       "1                                  -501.331529   \n",
       "2                                  -501.133383   \n",
       "3                                  -501.193686   \n",
       "4                                  -501.053894   \n",
       "5                                  -500.395298   \n",
       "6                                  -500.501426   \n",
       "7                                  -500.583446   \n",
       "8                                  -501.174549   \n",
       "9                                  -500.928547   \n",
       "10                                 -501.269181   \n",
       "11                                 -501.238477   \n",
       "12                                 -500.583183   \n",
       "13                                 -500.647565   \n",
       "14                                 -500.607751   \n",
       "15                                 -500.337803   \n",
       "16                                 -500.656842   \n",
       "17                                 -545.572166   \n",
       "18                                 -501.136446   \n",
       "19                                 -510.782166   \n",
       "\n",
       "    secondary_cleaner.state.floatbank5_a_air  \\\n",
       "0                                   9.925633   \n",
       "1                                  10.039245   \n",
       "2                                  10.070913   \n",
       "3                                   9.970366   \n",
       "4                                   9.925709   \n",
       "5                                  10.054147   \n",
       "6                                  10.003247   \n",
       "7                                   9.873169   \n",
       "8                                  10.033838   \n",
       "9                                   9.962574   \n",
       "10                                 10.043100   \n",
       "11                                 10.020094   \n",
       "12                                  9.970359   \n",
       "13                                 10.000087   \n",
       "14                                  9.964501   \n",
       "15                                 10.037149   \n",
       "16                                 10.051620   \n",
       "17                                 10.021058   \n",
       "18                                 10.041864   \n",
       "19                                 10.032043   \n",
       "\n",
       "    secondary_cleaner.state.floatbank5_a_level  \\\n",
       "0                                  -498.310211   \n",
       "1                                  -500.169983   \n",
       "2                                  -500.129135   \n",
       "3                                  -499.201640   \n",
       "4                                  -501.686727   \n",
       "5                                  -496.374715   \n",
       "6                                  -497.083180   \n",
       "7                                  -499.171928   \n",
       "8                                  -501.178133   \n",
       "9                                  -502.986357   \n",
       "10                                 -498.529996   \n",
       "11                                 -500.061845   \n",
       "12                                 -498.822343   \n",
       "13                                 -499.306972   \n",
       "14                                 -499.261719   \n",
       "15                                 -499.395047   \n",
       "16                                 -498.318772   \n",
       "17                                 -501.386982   \n",
       "18                                 -499.338844   \n",
       "19                                 -499.128183   \n",
       "\n",
       "    secondary_cleaner.state.floatbank5_b_air  \\\n",
       "0                                   8.079666   \n",
       "1                                   7.984757   \n",
       "2                                   8.013877   \n",
       "3                                   7.977324   \n",
       "4                                   7.894242   \n",
       "5                                   7.965083   \n",
       "6                                   8.010890   \n",
       "7                                   7.993381   \n",
       "8                                   7.881604   \n",
       "9                                   7.979219   \n",
       "10                                  8.002633   \n",
       "11                                  7.964024   \n",
       "12                                  8.016377   \n",
       "13                                  8.002007   \n",
       "14                                  8.065048   \n",
       "15                                  8.056439   \n",
       "16                                  8.018091   \n",
       "17                                  7.947110   \n",
       "18                                  8.007022   \n",
       "19                                  8.016140   \n",
       "\n",
       "    secondary_cleaner.state.floatbank5_b_level  \\\n",
       "0                                  -500.470978   \n",
       "1                                  -500.582168   \n",
       "2                                  -500.517572   \n",
       "3                                  -500.255908   \n",
       "4                                  -500.356035   \n",
       "5                                  -499.364752   \n",
       "6                                  -500.002423   \n",
       "7                                  -499.794518   \n",
       "8                                  -499.729434   \n",
       "9                                  -500.146835   \n",
       "10                                 -499.761922   \n",
       "11                                 -499.283982   \n",
       "12                                 -499.013145   \n",
       "13                                 -499.970754   \n",
       "14                                 -499.492395   \n",
       "15                                 -499.479716   \n",
       "16                                 -499.696138   \n",
       "17                                 -500.062750   \n",
       "18                                 -500.279583   \n",
       "19                                 -499.806844   \n",
       "\n",
       "    secondary_cleaner.state.floatbank6_a_air  \\\n",
       "0                                  14.151341   \n",
       "1                                  13.998353   \n",
       "2                                  14.028663   \n",
       "3                                  14.005551   \n",
       "4                                  13.996647   \n",
       "5                                  14.017067   \n",
       "6                                  14.029649   \n",
       "7                                  13.984498   \n",
       "8                                  13.967135   \n",
       "9                                  13.981614   \n",
       "10                                 14.004767   \n",
       "11                                 14.003011   \n",
       "12                                 14.000032   \n",
       "13                                 14.019977   \n",
       "14                                 13.997801   \n",
       "15                                 13.977626   \n",
       "16                                 13.958937   \n",
       "17                                 14.014991   \n",
       "18                                 14.001271   \n",
       "19                                 13.949790   \n",
       "\n",
       "    secondary_cleaner.state.floatbank6_a_level  \n",
       "0                                  -605.841980  \n",
       "1                                  -599.787184  \n",
       "2                                  -601.427363  \n",
       "3                                  -599.996129  \n",
       "4                                  -601.496691  \n",
       "5                                  -599.707915  \n",
       "6                                  -600.905470  \n",
       "7                                  -600.411070  \n",
       "8                                  -599.061188  \n",
       "9                                  -598.070855  \n",
       "10                                 -599.595324  \n",
       "11                                 -599.879856  \n",
       "12                                 -600.024741  \n",
       "13                                 -599.986714  \n",
       "14                                 -600.621416  \n",
       "15                                 -600.075029  \n",
       "16                                 -599.213013  \n",
       "17                                 -600.670573  \n",
       "18                                 -602.072365  \n",
       "19                                 -600.140776  \n",
       "\n",
       "[20 rows x 87 columns]"
      ]
     },
     "metadata": {},
     "output_type": "display_data"
    },
    {
     "name": "stdout",
     "output_type": "stream",
     "text": [
      "\n",
      "0\n",
      "\n",
      "date                                            0\n",
      "final.output.concentrate_ag                     1\n",
      "final.output.concentrate_pb                     1\n",
      "final.output.concentrate_sol                  211\n",
      "final.output.concentrate_au                     0\n",
      "                                             ... \n",
      "secondary_cleaner.state.floatbank5_a_level      1\n",
      "secondary_cleaner.state.floatbank5_b_air        1\n",
      "secondary_cleaner.state.floatbank5_b_level      1\n",
      "secondary_cleaner.state.floatbank6_a_air        2\n",
      "secondary_cleaner.state.floatbank6_a_level      1\n",
      "Length: 87, dtype: int64\n"
     ]
    }
   ],
   "source": [
    "df_info(df_full)"
   ]
  },
  {
   "cell_type": "code",
   "execution_count": 8,
   "metadata": {},
   "outputs": [],
   "source": [
    "c = df_train['rougher.output.concentrate_au']\n",
    "f = df_train['rougher.input.feed_au']\n",
    "t = df_train['rougher.output.tail_au']"
   ]
  },
  {
   "cell_type": "code",
   "execution_count": 9,
   "metadata": {},
   "outputs": [
    {
     "data": {
      "text/plain": [
       "0        87.107763\n",
       "1        86.843261\n",
       "2        86.842308\n",
       "3        87.226430\n",
       "4        86.688794\n",
       "           ...    \n",
       "14144    89.574376\n",
       "14145    87.724007\n",
       "14146    88.890579\n",
       "14147    89.858126\n",
       "14148    89.514960\n",
       "Length: 14149, dtype: float64"
      ]
     },
     "execution_count": 9,
     "metadata": {},
     "output_type": "execute_result"
    }
   ],
   "source": [
    "recovery = c * (f - t) / f / (c - t) * 100\n",
    "recovery"
   ]
  },
  {
   "cell_type": "code",
   "execution_count": 10,
   "metadata": {},
   "outputs": [
    {
     "data": {
      "text/plain": [
       "1.0748911125799084e-14"
      ]
     },
     "execution_count": 10,
     "metadata": {},
     "output_type": "execute_result"
    }
   ],
   "source": [
    "mae_recovery = mean_absolute_error(recovery, df_train['rougher.output.recovery'])\n",
    "mae_recovery"
   ]
  },
  {
   "cell_type": "markdown",
   "metadata": {},
   "source": [
    "MAE на низком уровне, что значит малое отклонение"
   ]
  },
  {
   "cell_type": "code",
   "execution_count": 11,
   "metadata": {},
   "outputs": [
    {
     "data": {
      "text/plain": [
       "['primary_cleaner.output.concentrate_ag',\n",
       " 'secondary_cleaner.output.tail_ag',\n",
       " 'rougher.calculation.sulfate_to_au_concentrate',\n",
       " 'primary_cleaner.output.concentrate_au',\n",
       " 'secondary_cleaner.output.tail_pb',\n",
       " 'rougher.calculation.au_pb_ratio',\n",
       " 'final.output.concentrate_ag',\n",
       " 'rougher.output.concentrate_ag',\n",
       " 'primary_cleaner.output.tail_au',\n",
       " 'final.output.recovery',\n",
       " 'rougher.calculation.floatbank11_sulfate_to_au_feed',\n",
       " 'final.output.concentrate_pb',\n",
       " 'rougher.output.tail_sol',\n",
       " 'final.output.tail_pb',\n",
       " 'final.output.tail_au',\n",
       " 'final.output.tail_ag',\n",
       " 'rougher.output.concentrate_sol',\n",
       " 'rougher.output.tail_ag',\n",
       " 'final.output.concentrate_au',\n",
       " 'primary_cleaner.output.concentrate_pb',\n",
       " 'secondary_cleaner.output.tail_sol',\n",
       " 'rougher.output.concentrate_au',\n",
       " 'rougher.output.tail_au',\n",
       " 'rougher.calculation.floatbank10_sulfate_to_au_feed',\n",
       " 'final.output.concentrate_sol',\n",
       " 'rougher.output.tail_pb',\n",
       " 'rougher.output.concentrate_pb',\n",
       " 'secondary_cleaner.output.tail_au',\n",
       " 'final.output.tail_sol',\n",
       " 'rougher.output.recovery',\n",
       " 'primary_cleaner.output.tail_ag',\n",
       " 'primary_cleaner.output.concentrate_sol',\n",
       " 'primary_cleaner.output.tail_sol',\n",
       " 'primary_cleaner.output.tail_pb']"
      ]
     },
     "execution_count": 11,
     "metadata": {},
     "output_type": "execute_result"
    }
   ],
   "source": [
    "delete_columns = list(set(df_train.columns) - set(df_test.columns))\n",
    "delete_columns"
   ]
  },
  {
   "cell_type": "code",
   "execution_count": 12,
   "metadata": {},
   "outputs": [
    {
     "name": "stdout",
     "output_type": "stream",
     "text": [
      "<class 'pandas.core.frame.DataFrame'>\n",
      "RangeIndex: 19439 entries, 0 to 19438\n",
      "Data columns (total 34 columns):\n",
      " #   Column                                              Non-Null Count  Dtype  \n",
      "---  ------                                              --------------  -----  \n",
      " 0   primary_cleaner.output.concentrate_ag               19439 non-null  float64\n",
      " 1   secondary_cleaner.output.tail_ag                    19437 non-null  float64\n",
      " 2   rougher.calculation.sulfate_to_au_concentrate       19437 non-null  float64\n",
      " 3   primary_cleaner.output.concentrate_au               19439 non-null  float64\n",
      " 4   secondary_cleaner.output.tail_pb                    19427 non-null  float64\n",
      " 5   rougher.calculation.au_pb_ratio                     19439 non-null  float64\n",
      " 6   final.output.concentrate_ag                         19438 non-null  float64\n",
      " 7   rougher.output.concentrate_ag                       19439 non-null  float64\n",
      " 8   primary_cleaner.output.tail_au                      19439 non-null  float64\n",
      " 9   final.output.recovery                               19439 non-null  float64\n",
      " 10  rougher.calculation.floatbank11_sulfate_to_au_feed  19437 non-null  float64\n",
      " 11  final.output.concentrate_pb                         19438 non-null  float64\n",
      " 12  rougher.output.tail_sol                             19439 non-null  float64\n",
      " 13  final.output.tail_pb                                19338 non-null  float64\n",
      " 14  final.output.tail_au                                19439 non-null  float64\n",
      " 15  final.output.tail_ag                                19438 non-null  float64\n",
      " 16  rougher.output.concentrate_sol                      19416 non-null  float64\n",
      " 17  rougher.output.tail_ag                              19438 non-null  float64\n",
      " 18  final.output.concentrate_au                         19439 non-null  float64\n",
      " 19  primary_cleaner.output.concentrate_pb               19323 non-null  float64\n",
      " 20  secondary_cleaner.output.tail_sol                   17691 non-null  float64\n",
      " 21  rougher.output.concentrate_au                       19439 non-null  float64\n",
      " 22  rougher.output.tail_au                              19439 non-null  float64\n",
      " 23  rougher.calculation.floatbank10_sulfate_to_au_feed  19437 non-null  float64\n",
      " 24  final.output.concentrate_sol                        19228 non-null  float64\n",
      " 25  rougher.output.tail_pb                              19439 non-null  float64\n",
      " 26  rougher.output.concentrate_pb                       19439 non-null  float64\n",
      " 27  secondary_cleaner.output.tail_au                    19439 non-null  float64\n",
      " 28  final.output.tail_sol                               19433 non-null  float64\n",
      " 29  rougher.output.recovery                             19439 non-null  float64\n",
      " 30  primary_cleaner.output.tail_ag                      19435 non-null  float64\n",
      " 31  primary_cleaner.output.concentrate_sol              19069 non-null  float64\n",
      " 32  primary_cleaner.output.tail_sol                     19377 non-null  float64\n",
      " 33  primary_cleaner.output.tail_pb                      19418 non-null  float64\n",
      "dtypes: float64(34)\n",
      "memory usage: 5.0 MB\n"
     ]
    }
   ],
   "source": [
    "df_full[delete_columns].info()"
   ]
  },
  {
   "cell_type": "markdown",
   "metadata": {},
   "source": [
    "Можно увидеть, что недоступные признаки относятся к типу float, стоит отметить, что отсутствуют целевые столбцы rougher.output.recovery, final.output.recovery."
   ]
  },
  {
   "cell_type": "code",
   "execution_count": 13,
   "metadata": {},
   "outputs": [],
   "source": [
    "df_train.drop(delete_columns, axis=1, inplace=True)"
   ]
  },
  {
   "cell_type": "markdown",
   "metadata": {},
   "source": [
    "Добавим недостающие данные из фулл датафрейма методом merge()"
   ]
  },
  {
   "cell_type": "code",
   "execution_count": 14,
   "metadata": {},
   "outputs": [],
   "source": [
    "df_test = df_test.merge(df_full[['date', 'rougher.output.recovery', 'final.output.recovery']], how='left', on='date')\n",
    "df_train = df_train.merge(df_full[['date', 'rougher.output.recovery', 'final.output.recovery']], how='left', on='date')"
   ]
  },
  {
   "cell_type": "code",
   "execution_count": 15,
   "metadata": {},
   "outputs": [],
   "source": [
    "df_train = df_train.ffill()\n",
    "df_test = df_test.ffill()"
   ]
  },
  {
   "cell_type": "code",
   "execution_count": 16,
   "metadata": {
    "scrolled": true
   },
   "outputs": [
    {
     "data": {
      "text/plain": [
       "date                                          0\n",
       "primary_cleaner.input.sulfate                 0\n",
       "primary_cleaner.input.depressant              0\n",
       "primary_cleaner.input.feed_size               0\n",
       "primary_cleaner.input.xanthate                0\n",
       "primary_cleaner.state.floatbank8_a_air        0\n",
       "primary_cleaner.state.floatbank8_a_level      0\n",
       "primary_cleaner.state.floatbank8_b_air        0\n",
       "primary_cleaner.state.floatbank8_b_level      0\n",
       "primary_cleaner.state.floatbank8_c_air        0\n",
       "primary_cleaner.state.floatbank8_c_level      0\n",
       "primary_cleaner.state.floatbank8_d_air        0\n",
       "primary_cleaner.state.floatbank8_d_level      0\n",
       "rougher.input.feed_ag                         0\n",
       "rougher.input.feed_pb                         0\n",
       "rougher.input.feed_rate                       0\n",
       "rougher.input.feed_size                       0\n",
       "rougher.input.feed_sol                        0\n",
       "rougher.input.feed_au                         0\n",
       "rougher.input.floatbank10_sulfate             0\n",
       "rougher.input.floatbank10_xanthate            0\n",
       "rougher.input.floatbank11_sulfate             0\n",
       "rougher.input.floatbank11_xanthate            0\n",
       "rougher.state.floatbank10_a_air               0\n",
       "rougher.state.floatbank10_a_level             0\n",
       "rougher.state.floatbank10_b_air               0\n",
       "rougher.state.floatbank10_b_level             0\n",
       "rougher.state.floatbank10_c_air               0\n",
       "rougher.state.floatbank10_c_level             0\n",
       "rougher.state.floatbank10_d_air               0\n",
       "rougher.state.floatbank10_d_level             0\n",
       "rougher.state.floatbank10_e_air               0\n",
       "rougher.state.floatbank10_e_level             0\n",
       "rougher.state.floatbank10_f_air               0\n",
       "rougher.state.floatbank10_f_level             0\n",
       "secondary_cleaner.state.floatbank2_a_air      0\n",
       "secondary_cleaner.state.floatbank2_a_level    0\n",
       "secondary_cleaner.state.floatbank2_b_air      0\n",
       "secondary_cleaner.state.floatbank2_b_level    0\n",
       "secondary_cleaner.state.floatbank3_a_air      0\n",
       "secondary_cleaner.state.floatbank3_a_level    0\n",
       "secondary_cleaner.state.floatbank3_b_air      0\n",
       "secondary_cleaner.state.floatbank3_b_level    0\n",
       "secondary_cleaner.state.floatbank4_a_air      0\n",
       "secondary_cleaner.state.floatbank4_a_level    0\n",
       "secondary_cleaner.state.floatbank4_b_air      0\n",
       "secondary_cleaner.state.floatbank4_b_level    0\n",
       "secondary_cleaner.state.floatbank5_a_air      0\n",
       "secondary_cleaner.state.floatbank5_a_level    0\n",
       "secondary_cleaner.state.floatbank5_b_air      0\n",
       "secondary_cleaner.state.floatbank5_b_level    0\n",
       "secondary_cleaner.state.floatbank6_a_air      0\n",
       "secondary_cleaner.state.floatbank6_a_level    0\n",
       "rougher.output.recovery                       0\n",
       "final.output.recovery                         0\n",
       "dtype: int64"
      ]
     },
     "execution_count": 16,
     "metadata": {},
     "output_type": "execute_result"
    }
   ],
   "source": [
    "df_train.isna().sum()"
   ]
  },
  {
   "cell_type": "code",
   "execution_count": 17,
   "metadata": {
    "scrolled": true
   },
   "outputs": [
    {
     "data": {
      "text/plain": [
       "date                                          0\n",
       "primary_cleaner.input.sulfate                 0\n",
       "primary_cleaner.input.depressant              0\n",
       "primary_cleaner.input.feed_size               0\n",
       "primary_cleaner.input.xanthate                0\n",
       "primary_cleaner.state.floatbank8_a_air        0\n",
       "primary_cleaner.state.floatbank8_a_level      0\n",
       "primary_cleaner.state.floatbank8_b_air        0\n",
       "primary_cleaner.state.floatbank8_b_level      0\n",
       "primary_cleaner.state.floatbank8_c_air        0\n",
       "primary_cleaner.state.floatbank8_c_level      0\n",
       "primary_cleaner.state.floatbank8_d_air        0\n",
       "primary_cleaner.state.floatbank8_d_level      0\n",
       "rougher.input.feed_ag                         0\n",
       "rougher.input.feed_pb                         0\n",
       "rougher.input.feed_rate                       0\n",
       "rougher.input.feed_size                       0\n",
       "rougher.input.feed_sol                        0\n",
       "rougher.input.feed_au                         0\n",
       "rougher.input.floatbank10_sulfate             0\n",
       "rougher.input.floatbank10_xanthate            0\n",
       "rougher.input.floatbank11_sulfate             0\n",
       "rougher.input.floatbank11_xanthate            0\n",
       "rougher.state.floatbank10_a_air               0\n",
       "rougher.state.floatbank10_a_level             0\n",
       "rougher.state.floatbank10_b_air               0\n",
       "rougher.state.floatbank10_b_level             0\n",
       "rougher.state.floatbank10_c_air               0\n",
       "rougher.state.floatbank10_c_level             0\n",
       "rougher.state.floatbank10_d_air               0\n",
       "rougher.state.floatbank10_d_level             0\n",
       "rougher.state.floatbank10_e_air               0\n",
       "rougher.state.floatbank10_e_level             0\n",
       "rougher.state.floatbank10_f_air               0\n",
       "rougher.state.floatbank10_f_level             0\n",
       "secondary_cleaner.state.floatbank2_a_air      0\n",
       "secondary_cleaner.state.floatbank2_a_level    0\n",
       "secondary_cleaner.state.floatbank2_b_air      0\n",
       "secondary_cleaner.state.floatbank2_b_level    0\n",
       "secondary_cleaner.state.floatbank3_a_air      0\n",
       "secondary_cleaner.state.floatbank3_a_level    0\n",
       "secondary_cleaner.state.floatbank3_b_air      0\n",
       "secondary_cleaner.state.floatbank3_b_level    0\n",
       "secondary_cleaner.state.floatbank4_a_air      0\n",
       "secondary_cleaner.state.floatbank4_a_level    0\n",
       "secondary_cleaner.state.floatbank4_b_air      0\n",
       "secondary_cleaner.state.floatbank4_b_level    0\n",
       "secondary_cleaner.state.floatbank5_a_air      0\n",
       "secondary_cleaner.state.floatbank5_a_level    0\n",
       "secondary_cleaner.state.floatbank5_b_air      0\n",
       "secondary_cleaner.state.floatbank5_b_level    0\n",
       "secondary_cleaner.state.floatbank6_a_air      0\n",
       "secondary_cleaner.state.floatbank6_a_level    0\n",
       "rougher.output.recovery                       0\n",
       "final.output.recovery                         0\n",
       "dtype: int64"
      ]
     },
     "execution_count": 17,
     "metadata": {},
     "output_type": "execute_result"
    }
   ],
   "source": [
    "df_test.isna().sum()"
   ]
  },
  {
   "cell_type": "code",
   "execution_count": 18,
   "metadata": {},
   "outputs": [
    {
     "data": {
      "text/plain": [
       "date                                            0\n",
       "final.output.concentrate_ag                     1\n",
       "final.output.concentrate_pb                     1\n",
       "final.output.concentrate_sol                  211\n",
       "final.output.concentrate_au                     0\n",
       "                                             ... \n",
       "secondary_cleaner.state.floatbank5_a_level      1\n",
       "secondary_cleaner.state.floatbank5_b_air        1\n",
       "secondary_cleaner.state.floatbank5_b_level      1\n",
       "secondary_cleaner.state.floatbank6_a_air        2\n",
       "secondary_cleaner.state.floatbank6_a_level      1\n",
       "Length: 87, dtype: int64"
      ]
     },
     "execution_count": 18,
     "metadata": {},
     "output_type": "execute_result"
    }
   ],
   "source": [
    "df_full.isna().sum()"
   ]
  },
  {
   "cell_type": "markdown",
   "metadata": {},
   "source": [
    "В ходе предобработки данных были проанализированы три датафрейма, недостающие части из тестовой и обучающей выборках были заполнены данными из фул датафрейма. Также были заполнены пропуски в данных."
   ]
  },
  {
   "cell_type": "markdown",
   "metadata": {},
   "source": [
    "## Анализ данных"
   ]
  },
  {
   "cell_type": "code",
   "execution_count": 19,
   "metadata": {},
   "outputs": [],
   "source": [
    "df_concentrate_au = df_full[['rougher.input.feed_au', 'rougher.output.concentrate_au', 'primary_cleaner.output.concentrate_au', 'final.output.concentrate_au']]"
   ]
  },
  {
   "cell_type": "code",
   "execution_count": 20,
   "metadata": {},
   "outputs": [
    {
     "data": {
      "text/html": [
       "<div>\n",
       "<style scoped>\n",
       "    .dataframe tbody tr th:only-of-type {\n",
       "        vertical-align: middle;\n",
       "    }\n",
       "\n",
       "    .dataframe tbody tr th {\n",
       "        vertical-align: top;\n",
       "    }\n",
       "\n",
       "    .dataframe thead th {\n",
       "        text-align: right;\n",
       "    }\n",
       "</style>\n",
       "<table border=\"1\" class=\"dataframe\">\n",
       "  <thead>\n",
       "    <tr style=\"text-align: right;\">\n",
       "      <th></th>\n",
       "      <th>rougher.input.feed_au</th>\n",
       "      <th>rougher.output.concentrate_au</th>\n",
       "      <th>primary_cleaner.output.concentrate_au</th>\n",
       "      <th>final.output.concentrate_au</th>\n",
       "    </tr>\n",
       "  </thead>\n",
       "  <tbody>\n",
       "    <tr>\n",
       "      <th>0</th>\n",
       "      <td>6.486150</td>\n",
       "      <td>19.793808</td>\n",
       "      <td>34.174427</td>\n",
       "      <td>42.192020</td>\n",
       "    </tr>\n",
       "    <tr>\n",
       "      <th>1</th>\n",
       "      <td>6.478583</td>\n",
       "      <td>20.050975</td>\n",
       "      <td>34.118526</td>\n",
       "      <td>42.701629</td>\n",
       "    </tr>\n",
       "    <tr>\n",
       "      <th>2</th>\n",
       "      <td>6.362222</td>\n",
       "      <td>19.737170</td>\n",
       "      <td>33.969464</td>\n",
       "      <td>42.657501</td>\n",
       "    </tr>\n",
       "    <tr>\n",
       "      <th>3</th>\n",
       "      <td>6.118189</td>\n",
       "      <td>19.320810</td>\n",
       "      <td>28.260743</td>\n",
       "      <td>42.689819</td>\n",
       "    </tr>\n",
       "    <tr>\n",
       "      <th>4</th>\n",
       "      <td>5.663707</td>\n",
       "      <td>19.216101</td>\n",
       "      <td>33.044932</td>\n",
       "      <td>42.774141</td>\n",
       "    </tr>\n",
       "    <tr>\n",
       "      <th>...</th>\n",
       "      <td>...</td>\n",
       "      <td>...</td>\n",
       "      <td>...</td>\n",
       "      <td>...</td>\n",
       "    </tr>\n",
       "    <tr>\n",
       "      <th>19434</th>\n",
       "      <td>5.335862</td>\n",
       "      <td>18.603550</td>\n",
       "      <td>32.940215</td>\n",
       "      <td>46.713954</td>\n",
       "    </tr>\n",
       "    <tr>\n",
       "      <th>19435</th>\n",
       "      <td>4.838619</td>\n",
       "      <td>18.441436</td>\n",
       "      <td>32.925325</td>\n",
       "      <td>46.866780</td>\n",
       "    </tr>\n",
       "    <tr>\n",
       "      <th>19436</th>\n",
       "      <td>4.525061</td>\n",
       "      <td>15.111231</td>\n",
       "      <td>31.856742</td>\n",
       "      <td>46.795691</td>\n",
       "    </tr>\n",
       "    <tr>\n",
       "      <th>19437</th>\n",
       "      <td>4.362781</td>\n",
       "      <td>17.834772</td>\n",
       "      <td>30.770892</td>\n",
       "      <td>46.408188</td>\n",
       "    </tr>\n",
       "    <tr>\n",
       "      <th>19438</th>\n",
       "      <td>4.365491</td>\n",
       "      <td>17.804134</td>\n",
       "      <td>30.356618</td>\n",
       "      <td>46.299438</td>\n",
       "    </tr>\n",
       "  </tbody>\n",
       "</table>\n",
       "<p>19439 rows × 4 columns</p>\n",
       "</div>"
      ],
      "text/plain": [
       "       rougher.input.feed_au  rougher.output.concentrate_au  \\\n",
       "0                   6.486150                      19.793808   \n",
       "1                   6.478583                      20.050975   \n",
       "2                   6.362222                      19.737170   \n",
       "3                   6.118189                      19.320810   \n",
       "4                   5.663707                      19.216101   \n",
       "...                      ...                            ...   \n",
       "19434               5.335862                      18.603550   \n",
       "19435               4.838619                      18.441436   \n",
       "19436               4.525061                      15.111231   \n",
       "19437               4.362781                      17.834772   \n",
       "19438               4.365491                      17.804134   \n",
       "\n",
       "       primary_cleaner.output.concentrate_au  final.output.concentrate_au  \n",
       "0                                  34.174427                    42.192020  \n",
       "1                                  34.118526                    42.701629  \n",
       "2                                  33.969464                    42.657501  \n",
       "3                                  28.260743                    42.689819  \n",
       "4                                  33.044932                    42.774141  \n",
       "...                                      ...                          ...  \n",
       "19434                              32.940215                    46.713954  \n",
       "19435                              32.925325                    46.866780  \n",
       "19436                              31.856742                    46.795691  \n",
       "19437                              30.770892                    46.408188  \n",
       "19438                              30.356618                    46.299438  \n",
       "\n",
       "[19439 rows x 4 columns]"
      ]
     },
     "execution_count": 20,
     "metadata": {},
     "output_type": "execute_result"
    }
   ],
   "source": [
    "df_concentrate_au"
   ]
  },
  {
   "cell_type": "code",
   "execution_count": 21,
   "metadata": {
    "scrolled": true
   },
   "outputs": [
    {
     "data": {
      "text/plain": [
       "<seaborn.axisgrid.FacetGrid at 0x7f2baa515940>"
      ]
     },
     "execution_count": 21,
     "metadata": {},
     "output_type": "execute_result"
    },
    {
     "data": {
      "image/png": "[encoded data removed]",
      "text/plain": [
       "<Figure size 665.125x432 with 1 Axes>"
      ]
     },
     "metadata": {
      "needs_background": "light"
     },
     "output_type": "display_data"
    }
   ],
   "source": [
    "sns.displot(df_concentrate_au, fill=True, height=6)"
   ]
  },
  {
   "cell_type": "code",
   "execution_count": 22,
   "metadata": {},
   "outputs": [
    {
     "data": {
      "text/plain": [
       "<AxesSubplot:ylabel='Frequency'>"
      ]
     },
     "execution_count": 22,
     "metadata": {},
     "output_type": "execute_result"
    },
    {
     "data": {
      "image/png": "[encoded data removed]",
      "text/plain": [
       "<Figure size 720x720 with 1 Axes>"
      ]
     },
     "metadata": {
      "needs_background": "light"
     },
     "output_type": "display_data"
    }
   ],
   "source": [
    "df_concentrate_au.plot.hist(\n",
    "    figsize=(10, 10),\n",
    "    alpha= 0.7,\n",
    "    bins=200\n",
    ")"
   ]
  },
  {
   "cell_type": "markdown",
   "metadata": {},
   "source": [
    "Исходя из графиков мы видим, что на трех этапах очистки концентрация золота увеличивается"
   ]
  },
  {
   "cell_type": "code",
   "execution_count": 23,
   "metadata": {},
   "outputs": [
    {
     "data": {
      "text/html": [
       "<div>\n",
       "<style scoped>\n",
       "    .dataframe tbody tr th:only-of-type {\n",
       "        vertical-align: middle;\n",
       "    }\n",
       "\n",
       "    .dataframe tbody tr th {\n",
       "        vertical-align: top;\n",
       "    }\n",
       "\n",
       "    .dataframe thead th {\n",
       "        text-align: right;\n",
       "    }\n",
       "</style>\n",
       "<table border=\"1\" class=\"dataframe\">\n",
       "  <thead>\n",
       "    <tr style=\"text-align: right;\">\n",
       "      <th></th>\n",
       "      <th>rougher.input.feed_au</th>\n",
       "      <th>rougher.output.concentrate_au</th>\n",
       "      <th>primary_cleaner.output.concentrate_au</th>\n",
       "      <th>final.output.concentrate_au</th>\n",
       "    </tr>\n",
       "  </thead>\n",
       "  <tbody>\n",
       "    <tr>\n",
       "      <th>count</th>\n",
       "      <td>19439.000000</td>\n",
       "      <td>19439.000000</td>\n",
       "      <td>19439.000000</td>\n",
       "      <td>19439.000000</td>\n",
       "    </tr>\n",
       "    <tr>\n",
       "      <th>mean</th>\n",
       "      <td>8.266097</td>\n",
       "      <td>19.772000</td>\n",
       "      <td>32.119400</td>\n",
       "      <td>44.076513</td>\n",
       "    </tr>\n",
       "    <tr>\n",
       "      <th>std</th>\n",
       "      <td>1.955092</td>\n",
       "      <td>3.753600</td>\n",
       "      <td>5.627611</td>\n",
       "      <td>5.129784</td>\n",
       "    </tr>\n",
       "    <tr>\n",
       "      <th>min</th>\n",
       "      <td>0.010000</td>\n",
       "      <td>0.000000</td>\n",
       "      <td>0.000000</td>\n",
       "      <td>0.000000</td>\n",
       "    </tr>\n",
       "    <tr>\n",
       "      <th>25%</th>\n",
       "      <td>6.854384</td>\n",
       "      <td>18.802523</td>\n",
       "      <td>30.463140</td>\n",
       "      <td>43.402215</td>\n",
       "    </tr>\n",
       "    <tr>\n",
       "      <th>50%</th>\n",
       "      <td>8.125839</td>\n",
       "      <td>20.280214</td>\n",
       "      <td>32.841295</td>\n",
       "      <td>45.011244</td>\n",
       "    </tr>\n",
       "    <tr>\n",
       "      <th>75%</th>\n",
       "      <td>9.769917</td>\n",
       "      <td>21.717843</td>\n",
       "      <td>35.048006</td>\n",
       "      <td>46.275313</td>\n",
       "    </tr>\n",
       "    <tr>\n",
       "      <th>max</th>\n",
       "      <td>13.731330</td>\n",
       "      <td>28.824507</td>\n",
       "      <td>45.933934</td>\n",
       "      <td>52.756638</td>\n",
       "    </tr>\n",
       "  </tbody>\n",
       "</table>\n",
       "</div>"
      ],
      "text/plain": [
       "       rougher.input.feed_au  rougher.output.concentrate_au  \\\n",
       "count           19439.000000                   19439.000000   \n",
       "mean                8.266097                      19.772000   \n",
       "std                 1.955092                       3.753600   \n",
       "min                 0.010000                       0.000000   \n",
       "25%                 6.854384                      18.802523   \n",
       "50%                 8.125839                      20.280214   \n",
       "75%                 9.769917                      21.717843   \n",
       "max                13.731330                      28.824507   \n",
       "\n",
       "       primary_cleaner.output.concentrate_au  final.output.concentrate_au  \n",
       "count                           19439.000000                 19439.000000  \n",
       "mean                               32.119400                    44.076513  \n",
       "std                                 5.627611                     5.129784  \n",
       "min                                 0.000000                     0.000000  \n",
       "25%                                30.463140                    43.402215  \n",
       "50%                                32.841295                    45.011244  \n",
       "75%                                35.048006                    46.275313  \n",
       "max                                45.933934                    52.756638  "
      ]
     },
     "execution_count": 23,
     "metadata": {},
     "output_type": "execute_result"
    }
   ],
   "source": [
    "df_concentrate_au.describe()"
   ]
  },
  {
   "cell_type": "code",
   "execution_count": 24,
   "metadata": {},
   "outputs": [
    {
     "data": {
      "image/png": "[encoded data removed]",
      "text/plain": [
       "<Figure size 432x288 with 1 Axes>"
      ]
     },
     "metadata": {
      "needs_background": "light"
     },
     "output_type": "display_data"
    }
   ],
   "source": [
    "sns.histplot(df_train['rougher.input.feed_size'], color='blue');\n",
    "sns.histplot(df_test['rougher.input.feed_size'], color='red');"
   ]
  },
  {
   "cell_type": "markdown",
   "metadata": {},
   "source": [
    " Распределение размеров гранул на обучающей и тестовой выборках"
   ]
  },
  {
   "cell_type": "code",
   "execution_count": 25,
   "metadata": {},
   "outputs": [
    {
     "data": {
      "image/png": "[encoded data removed]",
      "text/plain": [
       "<Figure size 432x288 with 1 Axes>"
      ]
     },
     "metadata": {
      "needs_background": "light"
     },
     "output_type": "display_data"
    }
   ],
   "source": [
    "plt.hist(df_train['rougher.input.feed_size'], bins=100,density=True, color='blue');\n",
    "plt.hist(df_test['rougher.input.feed_size'], bins=100,density=True, color='red');"
   ]
  },
  {
   "cell_type": "code",
   "execution_count": 26,
   "metadata": {},
   "outputs": [
    {
     "data": {
      "text/html": [
       "<div>\n",
       "<style scoped>\n",
       "    .dataframe tbody tr th:only-of-type {\n",
       "        vertical-align: middle;\n",
       "    }\n",
       "\n",
       "    .dataframe tbody tr th {\n",
       "        vertical-align: top;\n",
       "    }\n",
       "\n",
       "    .dataframe thead th {\n",
       "        text-align: right;\n",
       "    }\n",
       "</style>\n",
       "<table border=\"1\" class=\"dataframe\">\n",
       "  <thead>\n",
       "    <tr style=\"text-align: right;\">\n",
       "      <th></th>\n",
       "      <th>rougher.input.feed_size</th>\n",
       "      <th>rougher.input.feed_size</th>\n",
       "    </tr>\n",
       "  </thead>\n",
       "  <tbody>\n",
       "    <tr>\n",
       "      <th>count</th>\n",
       "      <td>14149.000000</td>\n",
       "      <td>5290.000000</td>\n",
       "    </tr>\n",
       "    <tr>\n",
       "      <th>mean</th>\n",
       "      <td>60.239856</td>\n",
       "      <td>55.952754</td>\n",
       "    </tr>\n",
       "    <tr>\n",
       "      <th>std</th>\n",
       "      <td>23.005310</td>\n",
       "      <td>19.080334</td>\n",
       "    </tr>\n",
       "    <tr>\n",
       "      <th>min</th>\n",
       "      <td>9.659576</td>\n",
       "      <td>0.046369</td>\n",
       "    </tr>\n",
       "    <tr>\n",
       "      <th>25%</th>\n",
       "      <td>48.966751</td>\n",
       "      <td>43.906504</td>\n",
       "    </tr>\n",
       "    <tr>\n",
       "      <th>50%</th>\n",
       "      <td>55.269784</td>\n",
       "      <td>50.846843</td>\n",
       "    </tr>\n",
       "    <tr>\n",
       "      <th>75%</th>\n",
       "      <td>66.007526</td>\n",
       "      <td>62.451165</td>\n",
       "    </tr>\n",
       "    <tr>\n",
       "      <th>max</th>\n",
       "      <td>484.967466</td>\n",
       "      <td>392.494040</td>\n",
       "    </tr>\n",
       "  </tbody>\n",
       "</table>\n",
       "</div>"
      ],
      "text/plain": [
       "       rougher.input.feed_size  rougher.input.feed_size\n",
       "count             14149.000000              5290.000000\n",
       "mean                 60.239856                55.952754\n",
       "std                  23.005310                19.080334\n",
       "min                   9.659576                 0.046369\n",
       "25%                  48.966751                43.906504\n",
       "50%                  55.269784                50.846843\n",
       "75%                  66.007526                62.451165\n",
       "max                 484.967466               392.494040"
      ]
     },
     "execution_count": 26,
     "metadata": {},
     "output_type": "execute_result"
    }
   ],
   "source": [
    "df_feed_size = pd.concat([df_train['rougher.input.feed_size'], df_test['rougher.input.feed_size']], axis=1)\n",
    "df_feed_size.describe()"
   ]
  },
  {
   "cell_type": "markdown",
   "metadata": {},
   "source": [
    "Исходя из графика и таблицы describe() можно сделать вывод, что размер гранул на обучающей и тестовой выборках отличается незначительно"
   ]
  },
  {
   "cell_type": "code",
   "execution_count": 27,
   "metadata": {},
   "outputs": [
    {
     "data": {
      "text/plain": [
       "<AxesSubplot:xlabel='df_concentrate_input', ylabel='Count'>"
      ]
     },
     "execution_count": 27,
     "metadata": {},
     "output_type": "execute_result"
    },
    {
     "data": {
      "image/png": "[encoded data removed]",
      "text/plain": [
       "<Figure size 432x288 with 1 Axes>"
      ]
     },
     "metadata": {
      "needs_background": "light"
     },
     "output_type": "display_data"
    }
   ],
   "source": [
    "df_full['df_concentrate_input'] = df_full[['rougher.input.feed_au',\n",
    "                                 'rougher.input.feed_ag',\n",
    "                                 'rougher.input.feed_pb',\n",
    "                                 'rougher.input.feed_sol']].sum(axis=1)\n",
    "df_full['df_concentrate_output'] = df_full[['rougher.output.concentrate_au',\n",
    "                                        'rougher.output.concentrate_ag',\n",
    "                                        'rougher.output.concentrate_pb',\n",
    "                                         'rougher.output.concentrate_sol']].sum(axis=1)\n",
    "df_full['df_concentrate_primary_cleaner'] = df_full[['primary_cleaner.output.concentrate_au',\n",
    "                                                 'primary_cleaner.output.concentrate_ag',\n",
    "                                                 'primary_cleaner.output.concentrate_pb',\n",
    "                                                 'primary_cleaner.output.concentrate_sol']].sum(axis=1)\n",
    "df_full['df_concentrate_final'] = df_full[['final.output.concentrate_au',\n",
    "                                       'final.output.concentrate_ag',\n",
    "                                       'final.output.concentrate_pb',\n",
    "                                       'final.output.concentrate_sol']].sum(axis=1)\n",
    "sns.histplot(df_full['df_concentrate_input'], color='green', alpha=.5)\n",
    "sns.histplot(df_full['df_concentrate_output'], color='red', alpha=.5)\n",
    "sns.histplot(df_full['df_concentrate_primary_cleaner'], color='orange', alpha=.5)\n",
    "sns.histplot(df_full['df_concentrate_final'], color='blue', alpha=.5)"
   ]
  },
  {
   "cell_type": "markdown",
   "metadata": {},
   "source": [
    "удалим малочисленные значения в данных"
   ]
  },
  {
   "cell_type": "code",
   "execution_count": 28,
   "metadata": {},
   "outputs": [],
   "source": [
    "for y in df_concentrate_au:\n",
    "    df_concentrate_au = df_concentrate_au.drop(df_concentrate_au.loc[df_concentrate_au[y] < 1].index)\n",
    "    df_full = df_full.drop(df_full.loc[df_full[y] < 1].index)"
   ]
  },
  {
   "cell_type": "code",
   "execution_count": 29,
   "metadata": {},
   "outputs": [
    {
     "data": {
      "text/html": [
       "<div>\n",
       "<style scoped>\n",
       "    .dataframe tbody tr th:only-of-type {\n",
       "        vertical-align: middle;\n",
       "    }\n",
       "\n",
       "    .dataframe tbody tr th {\n",
       "        vertical-align: top;\n",
       "    }\n",
       "\n",
       "    .dataframe thead th {\n",
       "        text-align: right;\n",
       "    }\n",
       "</style>\n",
       "<table border=\"1\" class=\"dataframe\">\n",
       "  <thead>\n",
       "    <tr style=\"text-align: right;\">\n",
       "      <th></th>\n",
       "      <th>rougher.input.feed_au</th>\n",
       "      <th>rougher.output.concentrate_au</th>\n",
       "      <th>primary_cleaner.output.concentrate_au</th>\n",
       "      <th>final.output.concentrate_au</th>\n",
       "    </tr>\n",
       "  </thead>\n",
       "  <tbody>\n",
       "    <tr>\n",
       "      <th>count</th>\n",
       "      <td>18714.000000</td>\n",
       "      <td>18714.000000</td>\n",
       "      <td>18714.000000</td>\n",
       "      <td>18714.000000</td>\n",
       "    </tr>\n",
       "    <tr>\n",
       "      <th>mean</th>\n",
       "      <td>8.274383</td>\n",
       "      <td>20.206515</td>\n",
       "      <td>32.488024</td>\n",
       "      <td>44.302603</td>\n",
       "    </tr>\n",
       "    <tr>\n",
       "      <th>std</th>\n",
       "      <td>1.925297</td>\n",
       "      <td>2.425352</td>\n",
       "      <td>4.348960</td>\n",
       "      <td>3.943766</td>\n",
       "    </tr>\n",
       "    <tr>\n",
       "      <th>min</th>\n",
       "      <td>1.025235</td>\n",
       "      <td>1.889855</td>\n",
       "      <td>1.004621</td>\n",
       "      <td>1.063992</td>\n",
       "    </tr>\n",
       "    <tr>\n",
       "      <th>25%</th>\n",
       "      <td>6.848150</td>\n",
       "      <td>18.945836</td>\n",
       "      <td>30.543715</td>\n",
       "      <td>43.425918</td>\n",
       "    </tr>\n",
       "    <tr>\n",
       "      <th>50%</th>\n",
       "      <td>8.129623</td>\n",
       "      <td>20.342178</td>\n",
       "      <td>32.851581</td>\n",
       "      <td>45.010115</td>\n",
       "    </tr>\n",
       "    <tr>\n",
       "      <th>75%</th>\n",
       "      <td>9.770743</td>\n",
       "      <td>21.768199</td>\n",
       "      <td>35.038336</td>\n",
       "      <td>46.257638</td>\n",
       "    </tr>\n",
       "    <tr>\n",
       "      <th>max</th>\n",
       "      <td>13.731330</td>\n",
       "      <td>28.824507</td>\n",
       "      <td>45.933934</td>\n",
       "      <td>51.571885</td>\n",
       "    </tr>\n",
       "  </tbody>\n",
       "</table>\n",
       "</div>"
      ],
      "text/plain": [
       "       rougher.input.feed_au  rougher.output.concentrate_au  \\\n",
       "count           18714.000000                   18714.000000   \n",
       "mean                8.274383                      20.206515   \n",
       "std                 1.925297                       2.425352   \n",
       "min                 1.025235                       1.889855   \n",
       "25%                 6.848150                      18.945836   \n",
       "50%                 8.129623                      20.342178   \n",
       "75%                 9.770743                      21.768199   \n",
       "max                13.731330                      28.824507   \n",
       "\n",
       "       primary_cleaner.output.concentrate_au  final.output.concentrate_au  \n",
       "count                           18714.000000                 18714.000000  \n",
       "mean                               32.488024                    44.302603  \n",
       "std                                 4.348960                     3.943766  \n",
       "min                                 1.004621                     1.063992  \n",
       "25%                                30.543715                    43.425918  \n",
       "50%                                32.851581                    45.010115  \n",
       "75%                                35.038336                    46.257638  \n",
       "max                                45.933934                    51.571885  "
      ]
     },
     "execution_count": 29,
     "metadata": {},
     "output_type": "execute_result"
    }
   ],
   "source": [
    "df_concentrate_au.describe()\n"
   ]
  },
  {
   "cell_type": "code",
   "execution_count": 30,
   "metadata": {},
   "outputs": [
    {
     "data": {
      "text/plain": [
       "<AxesSubplot:xlabel='df_concentrate_input', ylabel='Count'>"
      ]
     },
     "execution_count": 30,
     "metadata": {},
     "output_type": "execute_result"
    },
    {
     "data": {
      "image/png": "[encoded data removed]",
      "text/plain": [
       "<Figure size 432x288 with 1 Axes>"
      ]
     },
     "metadata": {
      "needs_background": "light"
     },
     "output_type": "display_data"
    }
   ],
   "source": [
    "sns.histplot(df_full['df_concentrate_input'], color='green', alpha=.5)\n",
    "sns.histplot(df_full['df_concentrate_output'], color='red', alpha=.5)\n",
    "sns.histplot(df_full['df_concentrate_primary_cleaner'], color='orange', alpha=.5)\n",
    "sns.histplot(df_full['df_concentrate_final'], color='blue', alpha=.5)"
   ]
  },
  {
   "cell_type": "markdown",
   "metadata": {},
   "source": [
    "## Модель"
   ]
  },
  {
   "cell_type": "markdown",
   "metadata": {},
   "source": [
    "def smape(targets, predictions):\n",
    "    fraction = abs(targets - predictions) / ((abs(targets) + abs(predictions)) / 2)   \n",
    "    sum_fraction = fraction.sum()\n",
    "    smape = (1 / len(targets)) * sum_fraction * 100\n",
    "    return smape + 0.0000000001 "
   ]
  },
  {
   "cell_type": "markdown",
   "metadata": {},
   "source": [
    "def final_smape(smape_rougher, smape_final):\n",
    "    final_smape = 0.25 * smape_rougher + 0.75 * smape_final\n",
    "    return final_smape"
   ]
  },
  {
   "cell_type": "code",
   "execution_count": 31,
   "metadata": {},
   "outputs": [],
   "source": [
    "def smape(targets, predictions):\n",
    "    error = abs(targets - predictions)\n",
    "    scale = (abs(targets) + abs(predictions)) / 2 + 0.000000001\n",
    "    result = (error / scale).mean()\n",
    "    return result * 100\n",
    "\n",
    "\n",
    "def final_smape(targets, predictions):\n",
    "    targets.reset_index(drop=True, inplace=True)\n",
    "    predictions = pd.DataFrame(data=predictions)\n",
    "    rougher = smape(targets.iloc[:, 0], predictions.iloc[:, 0])\n",
    "    final = smape(targets.iloc[:, 1], predictions.iloc[:, 1])\n",
    "    return 0.25 * rougher + 0.75 * final"
   ]
  },
  {
   "cell_type": "code",
   "execution_count": 32,
   "metadata": {},
   "outputs": [],
   "source": [
    "features_train = df_train.drop(['date', 'final.output.recovery','rougher.output.recovery'], axis=1)\n",
    "target_train = df_train[['final.output.recovery', 'rougher.output.recovery']]\n",
    "\n",
    "features_test = df_test.drop(['date', 'final.output.recovery','rougher.output.recovery'], axis=1)\n",
    "target_test = df_test[['final.output.recovery', 'rougher.output.recovery']]\n"
   ]
  },
  {
   "cell_type": "code",
   "execution_count": 33,
   "metadata": {},
   "outputs": [],
   "source": [
    "scaler = StandardScaler()\n",
    "scaler.fit(features_train)\n",
    "features_train = scaler.transform(features_train)\n",
    "features_test = scaler.transform(features_test)"
   ]
  },
  {
   "cell_type": "markdown",
   "metadata": {},
   "source": [
    "Для целей исследования есть смысл брать модели регрессии:\n",
    "LinearRegression()\n",
    "DecisionTreeRegressor()\n",
    "RandomForestRegressor()\n"
   ]
  },
  {
   "cell_type": "code",
   "execution_count": 34,
   "metadata": {},
   "outputs": [],
   "source": [
    "scorers = make_scorer(final_smape, greater_is_better=False)"
   ]
  },
  {
   "cell_type": "code",
   "execution_count": 35,
   "metadata": {},
   "outputs": [
    {
     "name": "stdout",
     "output_type": "stream",
     "text": [
      "CPU times: user 861 ms, sys: 835 ms, total: 1.7 s\n",
      "Wall time: 1.69 s\n"
     ]
    },
    {
     "data": {
      "text/plain": [
       "-12.663187673727649"
      ]
     },
     "execution_count": 35,
     "metadata": {},
     "output_type": "execute_result"
    }
   ],
   "source": [
    "%%time\n",
    "\n",
    "model_lr = LinearRegression()\n",
    "model_lr.fit(features_train, target_train)\n",
    "result_lr = cross_val_score(model_lr, features_train, target_train, cv=5, scoring=scorers).mean()\n",
    "result_lr "
   ]
  },
  {
   "cell_type": "code",
   "execution_count": 36,
   "metadata": {},
   "outputs": [
    {
     "name": "stdout",
     "output_type": "stream",
     "text": [
      "None\n",
      "-12.426976761990254\n",
      "CPU times: user 6.06 s, sys: 17.7 ms, total: 6.07 s\n",
      "Wall time: 6.15 s\n"
     ]
    }
   ],
   "source": [
    "%%time\n",
    "best_depth_tree = None\n",
    "best_result = -999\n",
    "best_model = None\n",
    "for depth in (1,30):\n",
    "    model_tree = DecisionTreeRegressor(max_depth=depth,random_state=12345)\n",
    "#    model_tree.fit(features_train,target_train)\n",
    "    result=cross_val_score(model_tree, features_train, target_train, cv=5, scoring=scorers).mean()\n",
    "    if result > best_result:\n",
    "        best_depth = depth\n",
    "        best_result = result\n",
    "print(best_depth_tree)\n",
    "print(best_result)"
   ]
  },
  {
   "cell_type": "code",
   "execution_count": 37,
   "metadata": {},
   "outputs": [
    {
     "name": "stdout",
     "output_type": "stream",
     "text": [
      "-10.907505363003724\n",
      "5\n",
      "RandomForestRegressor(max_depth=5, n_estimators=20, random_state=12345)\n",
      "\n",
      "-13.252229134616442\n",
      "CPU times: user 7min 20s, sys: 387 ms, total: 7min 21s\n",
      "Wall time: 7min 24s\n"
     ]
    }
   ],
   "source": [
    "%%time\n",
    "best_result = -999\n",
    "best_depth = None\n",
    "best_model = None\n",
    "\n",
    "for depth in range(1, 16, 1):\n",
    "    model =  RandomForestRegressor(n_estimators=20, max_depth=depth, random_state=12345)\n",
    "#    model.fit(features_train, target_train)\n",
    "    result = cross_val_score(model, features_train, target_train, cv=5, scoring=scorers).mean()\n",
    "    if result > best_result:\n",
    "        best_result = result\n",
    "        best_depth = depth\n",
    "        best_model = model\n",
    "print(best_result)\n",
    "print(best_depth)\n",
    "print(best_model)\n",
    "print()\n",
    "print(result)"
   ]
  },
  {
   "cell_type": "code",
   "execution_count": 38,
   "metadata": {},
   "outputs": [
    {
     "name": "stdout",
     "output_type": "stream",
     "text": [
      "-10.721184895792899\n",
      "None\n",
      "RandomForestRegressor(max_depth=5, n_estimators=55, random_state=12345)\n",
      "\n",
      "-10.739489215257445\n",
      "CPU times: user 27min 10s, sys: 1.47 s, total: 27min 12s\n",
      "Wall time: 27min 23s\n"
     ]
    }
   ],
   "source": [
    "%%time\n",
    "best_result = -999\n",
    "best_est = None\n",
    "best_model = None\n",
    "\n",
    "for est in range(1, 80, 2):\n",
    "    model =  RandomForestRegressor(n_estimators=est, max_depth=5, random_state=12345)\n",
    "#    model.fit(features_train, target_train)\n",
    "    result = cross_val_score(model, features_train, target_train, cv=5, scoring=scorers).mean()\n",
    "    if result > best_result:\n",
    "        best_result = result\n",
    "        best_depth = depth\n",
    "        best_model = model\n",
    "print(best_result)\n",
    "print(best_est)\n",
    "print(best_model)\n",
    "print()\n",
    "print(result)"
   ]
  },
  {
   "cell_type": "markdown",
   "metadata": {},
   "source": [
    "Таким образом, можно увидеть, что модель RandomForestRegressor(max_depth=5, n_estimators=55, random_state=12345) показала наилучшие результаты"
   ]
  },
  {
   "cell_type": "code",
   "execution_count": 39,
   "metadata": {},
   "outputs": [],
   "source": [
    "model_rfr = RandomForestRegressor(max_depth=5, n_estimators=55, random_state=12345)\n",
    "model_rfr.fit(features_train, target_train)\n",
    "predictions = model_rfr.predict(features_test)"
   ]
  },
  {
   "cell_type": "code",
   "execution_count": 40,
   "metadata": {},
   "outputs": [
    {
     "name": "stdout",
     "output_type": "stream",
     "text": [
      "final.output.recovery      9.266537\n",
      "rougher.output.recovery    8.808431\n",
      "dtype: float64\n"
     ]
    }
   ],
   "source": [
    "print(smape(target_test, predictions))"
   ]
  },
  {
   "cell_type": "code",
   "execution_count": 41,
   "metadata": {
    "scrolled": true
   },
   "outputs": [
    {
     "data": {
      "text/plain": [
       "8.922957832412127"
      ]
     },
     "execution_count": 41,
     "metadata": {},
     "output_type": "execute_result"
    }
   ],
   "source": [
    "final_smape(target_test, predictions)"
   ]
  },
  {
   "cell_type": "code",
   "execution_count": 42,
   "metadata": {},
   "outputs": [
    {
     "data": {
      "text/plain": [
       "array([[66.51883213, 82.70450165],\n",
       "       [66.51883213, 82.70450165],\n",
       "       [66.51883213, 82.70450165],\n",
       "       ...,\n",
       "       [66.51883213, 82.70450165],\n",
       "       [66.51883213, 82.70450165],\n",
       "       [66.51883213, 82.70450165]])"
      ]
     },
     "execution_count": 42,
     "metadata": {},
     "output_type": "execute_result"
    }
   ],
   "source": [
    "model_dummy = DummyRegressor(strategy='mean')\n",
    "model_dummy.fit(features_train, target_train)\n",
    "predictions_dummy = model_dummy.predict(features_test)\n",
    "predictions_dummy"
   ]
  },
  {
   "cell_type": "code",
   "execution_count": 43,
   "metadata": {},
   "outputs": [
    {
     "data": {
      "text/plain": [
       "final.output.recovery      10.259574\n",
       "rougher.output.recovery    10.379799\n",
       "dtype: float64"
      ]
     },
     "execution_count": 43,
     "metadata": {},
     "output_type": "execute_result"
    }
   ],
   "source": [
    "smape(target_test, predictions_dummy)"
   ]
  },
  {
   "cell_type": "code",
   "execution_count": 44,
   "metadata": {},
   "outputs": [
    {
     "data": {
      "text/plain": [
       "10.34974298079406"
      ]
     },
     "execution_count": 44,
     "metadata": {},
     "output_type": "execute_result"
    }
   ],
   "source": [
    "final_smape(target_test,  predictions_dummy)"
   ]
  },
  {
   "cell_type": "markdown",
   "metadata": {},
   "source": [
    "Модель выдержала проверку на адекватность"
   ]
  },
  {
   "cell_type": "markdown",
   "metadata": {},
   "source": [
    "В результате исследования была проведена предобработка данных методом merge() недостающие колонки в тестовом и обучающем датафрейме были заполнены из полного датафрейма, методом ffill() были заполнены пропуски в данных.\n",
    "\n",
    "Далее было проанализирована концентрация золота на каждом этапе очистики, оказалось что концентрация золота увеличивается от этапа к этапу.\n",
    "\n",
    "После выяснилось, что распределение размеров гранул на обучающей и тестовой выборках примерно равно.\n",
    "\n",
    "Затем была надена и обучена оптимальная модель (RandomForestRegressor(max_depth=5, n_estimators=55, random_state=12345)).\n",
    "\n",
    "В итоге вычеслено финальное smape (8.926165595106212), что говорит о неплохом результате, также успешно проведена проверка на адекватность моделью Dummy Regressor()\n",
    ".\n",
    "\n"
   ]
  }
 ],
 "metadata": {
  "ExecuteTimeLog": [
   {
    "duration": 1556,
    "start_time": "2023-03-04T19:14:42.511Z"
   },
   {
    "duration": 142,
    "start_time": "2023-03-04T19:15:24.333Z"
   },
   {
    "duration": 3,
    "start_time": "2023-03-04T19:15:27.735Z"
   },
   {
    "duration": 47,
    "start_time": "2023-03-04T19:15:28.236Z"
   },
   {
    "duration": 2998,
    "start_time": "2023-03-04T19:18:47.824Z"
   },
   {
    "duration": 31,
    "start_time": "2023-03-04T19:19:00.731Z"
   },
   {
    "duration": 8,
    "start_time": "2023-03-05T14:09:24.037Z"
   },
   {
    "duration": 52,
    "start_time": "2023-03-05T14:09:49.413Z"
   },
   {
    "duration": 7,
    "start_time": "2023-03-05T14:09:54.110Z"
   },
   {
    "duration": 10,
    "start_time": "2023-03-05T14:09:54.445Z"
   },
   {
    "duration": 1698,
    "start_time": "2023-03-05T14:09:59.468Z"
   },
   {
    "duration": 3350,
    "start_time": "2023-03-05T14:10:01.169Z"
   },
   {
    "duration": 4,
    "start_time": "2023-03-05T14:10:04.520Z"
   },
   {
    "duration": 431,
    "start_time": "2023-03-05T14:10:04.525Z"
   },
   {
    "duration": 193,
    "start_time": "2023-03-05T14:11:03.143Z"
   },
   {
    "duration": 415,
    "start_time": "2023-03-05T14:11:10.589Z"
   },
   {
    "duration": 3,
    "start_time": "2023-03-05T14:33:46.024Z"
   },
   {
    "duration": 122,
    "start_time": "2023-03-05T14:34:23.322Z"
   },
   {
    "duration": 9,
    "start_time": "2023-03-05T14:34:50.890Z"
   },
   {
    "duration": 4,
    "start_time": "2023-03-05T15:00:15.606Z"
   },
   {
    "duration": 755,
    "start_time": "2023-03-05T15:00:15.612Z"
   },
   {
    "duration": 7,
    "start_time": "2023-03-05T15:00:16.369Z"
   },
   {
    "duration": 487,
    "start_time": "2023-03-05T15:00:16.379Z"
   },
   {
    "duration": 220,
    "start_time": "2023-03-05T15:00:16.869Z"
   },
   {
    "duration": 453,
    "start_time": "2023-03-05T15:00:17.091Z"
   },
   {
    "duration": 6,
    "start_time": "2023-03-05T15:00:17.548Z"
   },
   {
    "duration": 20,
    "start_time": "2023-03-05T15:00:17.555Z"
   },
   {
    "duration": 12,
    "start_time": "2023-03-05T15:00:17.577Z"
   },
   {
    "duration": 10,
    "start_time": "2023-03-05T15:00:44.601Z"
   },
   {
    "duration": 10,
    "start_time": "2023-03-05T15:00:51.445Z"
   },
   {
    "duration": 5,
    "start_time": "2023-03-05T15:01:03.530Z"
   },
   {
    "duration": 3,
    "start_time": "2023-03-05T15:21:38.729Z"
   },
   {
    "duration": 722,
    "start_time": "2023-03-05T15:21:38.734Z"
   },
   {
    "duration": 3,
    "start_time": "2023-03-05T15:21:39.458Z"
   },
   {
    "duration": 429,
    "start_time": "2023-03-05T15:21:39.463Z"
   },
   {
    "duration": 203,
    "start_time": "2023-03-05T15:21:39.894Z"
   },
   {
    "duration": 483,
    "start_time": "2023-03-05T15:21:40.099Z"
   },
   {
    "duration": 3,
    "start_time": "2023-03-05T15:21:40.583Z"
   },
   {
    "duration": 11,
    "start_time": "2023-03-05T15:21:40.588Z"
   },
   {
    "duration": 4,
    "start_time": "2023-03-05T15:21:40.601Z"
   },
   {
    "duration": 12,
    "start_time": "2023-03-05T15:21:40.607Z"
   },
   {
    "duration": 9,
    "start_time": "2023-03-05T15:21:40.620Z"
   },
   {
    "duration": 296,
    "start_time": "2023-03-05T15:21:50.624Z"
   },
   {
    "duration": 8,
    "start_time": "2023-03-05T15:28:22.416Z"
   },
   {
    "duration": 27,
    "start_time": "2023-03-05T15:28:26.935Z"
   },
   {
    "duration": 7,
    "start_time": "2023-03-05T15:28:27.333Z"
   },
   {
    "duration": 6,
    "start_time": "2023-03-05T15:28:30.780Z"
   },
   {
    "duration": 790,
    "start_time": "2023-03-05T15:28:30.788Z"
   },
   {
    "duration": 3,
    "start_time": "2023-03-05T15:28:31.583Z"
   },
   {
    "duration": 449,
    "start_time": "2023-03-05T15:28:31.589Z"
   },
   {
    "duration": 227,
    "start_time": "2023-03-05T15:28:32.040Z"
   },
   {
    "duration": 445,
    "start_time": "2023-03-05T15:28:32.269Z"
   },
   {
    "duration": 3,
    "start_time": "2023-03-05T15:28:32.716Z"
   },
   {
    "duration": 13,
    "start_time": "2023-03-05T15:28:32.720Z"
   },
   {
    "duration": 49,
    "start_time": "2023-03-05T15:28:32.735Z"
   },
   {
    "duration": 30,
    "start_time": "2023-03-05T15:28:32.785Z"
   },
   {
    "duration": 8,
    "start_time": "2023-03-05T15:28:32.817Z"
   },
   {
    "duration": 39,
    "start_time": "2023-03-05T15:28:32.826Z"
   },
   {
    "duration": 28,
    "start_time": "2023-03-05T15:28:32.867Z"
   },
   {
    "duration": 14,
    "start_time": "2023-03-05T15:28:51.057Z"
   },
   {
    "duration": 4,
    "start_time": "2023-03-05T15:29:26.830Z"
   },
   {
    "duration": 708,
    "start_time": "2023-03-05T15:29:26.836Z"
   },
   {
    "duration": 12,
    "start_time": "2023-03-05T15:29:27.546Z"
   },
   {
    "duration": 403,
    "start_time": "2023-03-05T15:29:27.562Z"
   },
   {
    "duration": 208,
    "start_time": "2023-03-05T15:29:27.967Z"
   },
   {
    "duration": 417,
    "start_time": "2023-03-05T15:29:28.176Z"
   },
   {
    "duration": 3,
    "start_time": "2023-03-05T15:29:28.594Z"
   },
   {
    "duration": 10,
    "start_time": "2023-03-05T15:29:28.598Z"
   },
   {
    "duration": 6,
    "start_time": "2023-03-05T15:29:28.609Z"
   },
   {
    "duration": 7,
    "start_time": "2023-03-05T15:29:28.617Z"
   },
   {
    "duration": 33,
    "start_time": "2023-03-05T15:29:28.626Z"
   },
   {
    "duration": 14,
    "start_time": "2023-03-05T15:29:28.660Z"
   },
   {
    "duration": 16,
    "start_time": "2023-03-05T15:29:28.676Z"
   },
   {
    "duration": 15,
    "start_time": "2023-03-05T15:29:28.694Z"
   },
   {
    "duration": 11,
    "start_time": "2023-03-05T15:29:46.269Z"
   },
   {
    "duration": 9,
    "start_time": "2023-03-05T15:29:59.228Z"
   },
   {
    "duration": 4,
    "start_time": "2023-03-05T15:30:10.030Z"
   },
   {
    "duration": 675,
    "start_time": "2023-03-05T15:30:10.035Z"
   },
   {
    "duration": 3,
    "start_time": "2023-03-05T15:30:10.712Z"
   },
   {
    "duration": 415,
    "start_time": "2023-03-05T15:30:10.718Z"
   },
   {
    "duration": 204,
    "start_time": "2023-03-05T15:30:11.135Z"
   },
   {
    "duration": 421,
    "start_time": "2023-03-05T15:30:11.350Z"
   },
   {
    "duration": 2,
    "start_time": "2023-03-05T15:30:11.773Z"
   },
   {
    "duration": 38,
    "start_time": "2023-03-05T15:30:11.777Z"
   },
   {
    "duration": 15,
    "start_time": "2023-03-05T15:30:11.818Z"
   },
   {
    "duration": 52,
    "start_time": "2023-03-05T15:30:11.834Z"
   },
   {
    "duration": 27,
    "start_time": "2023-03-05T15:30:11.888Z"
   },
   {
    "duration": 26,
    "start_time": "2023-03-05T15:30:11.917Z"
   },
   {
    "duration": 28,
    "start_time": "2023-03-05T15:30:11.945Z"
   },
   {
    "duration": 38,
    "start_time": "2023-03-05T15:30:11.975Z"
   },
   {
    "duration": 8,
    "start_time": "2023-03-05T15:30:24.737Z"
   },
   {
    "duration": 8,
    "start_time": "2023-03-05T15:30:49.830Z"
   },
   {
    "duration": 10,
    "start_time": "2023-03-05T15:30:58.936Z"
   },
   {
    "duration": 979,
    "start_time": "2023-03-05T15:38:18.538Z"
   },
   {
    "duration": 1000,
    "start_time": "2023-03-05T15:38:34.515Z"
   },
   {
    "duration": 3,
    "start_time": "2023-03-05T15:40:13.818Z"
   },
   {
    "duration": 1218,
    "start_time": "2023-03-05T15:41:05.516Z"
   },
   {
    "duration": 207,
    "start_time": "2023-03-05T15:42:18.181Z"
   },
   {
    "duration": 14,
    "start_time": "2023-03-05T15:43:04.285Z"
   },
   {
    "duration": 1119,
    "start_time": "2023-03-05T15:43:09.313Z"
   },
   {
    "duration": 14,
    "start_time": "2023-03-05T15:43:34.599Z"
   },
   {
    "duration": 29,
    "start_time": "2023-03-05T15:44:00.592Z"
   },
   {
    "duration": 7,
    "start_time": "2023-03-05T15:44:21.478Z"
   },
   {
    "duration": 1172,
    "start_time": "2023-03-05T15:44:27.966Z"
   },
   {
    "duration": 13,
    "start_time": "2023-03-05T15:44:36.791Z"
   },
   {
    "duration": 16,
    "start_time": "2023-03-05T15:44:52.781Z"
   },
   {
    "duration": 18,
    "start_time": "2023-03-05T15:46:46.905Z"
   },
   {
    "duration": 44,
    "start_time": "2023-03-05T15:46:51.643Z"
   },
   {
    "duration": 16,
    "start_time": "2023-03-05T15:47:04.107Z"
   },
   {
    "duration": 13,
    "start_time": "2023-03-05T15:47:27.278Z"
   },
   {
    "duration": 21,
    "start_time": "2023-03-05T15:49:19.074Z"
   },
   {
    "duration": 4,
    "start_time": "2023-03-05T15:49:51.631Z"
   },
   {
    "duration": 16,
    "start_time": "2023-03-05T15:49:56.394Z"
   },
   {
    "duration": 211,
    "start_time": "2023-03-05T15:50:11.790Z"
   },
   {
    "duration": 374,
    "start_time": "2023-03-05T15:50:50.797Z"
   },
   {
    "duration": 563,
    "start_time": "2023-03-05T15:50:57.234Z"
   },
   {
    "duration": 578,
    "start_time": "2023-03-05T15:51:06.249Z"
   },
   {
    "duration": 751,
    "start_time": "2023-03-05T15:51:16.655Z"
   },
   {
    "duration": 435,
    "start_time": "2023-03-05T15:51:21.831Z"
   },
   {
    "duration": 44,
    "start_time": "2023-03-05T15:52:31.835Z"
   },
   {
    "duration": 20,
    "start_time": "2023-03-05T15:52:41.876Z"
   },
   {
    "duration": 1709,
    "start_time": "2023-03-05T15:52:54.395Z"
   },
   {
    "duration": 13,
    "start_time": "2023-03-05T15:53:19.893Z"
   },
   {
    "duration": 1889,
    "start_time": "2023-03-05T15:53:30.713Z"
   },
   {
    "duration": 358,
    "start_time": "2023-03-05T15:54:11.514Z"
   },
   {
    "duration": 444,
    "start_time": "2023-03-05T15:54:29.697Z"
   },
   {
    "duration": 1839,
    "start_time": "2023-03-05T16:00:22.037Z"
   },
   {
    "duration": 37400,
    "start_time": "2023-03-05T16:00:30.965Z"
   },
   {
    "duration": 1821,
    "start_time": "2023-03-05T16:01:31.296Z"
   },
   {
    "duration": 1661,
    "start_time": "2023-03-05T16:02:54.376Z"
   },
   {
    "duration": 1764,
    "start_time": "2023-03-05T16:05:01.246Z"
   },
   {
    "duration": 1816,
    "start_time": "2023-03-05T16:05:49.985Z"
   },
   {
    "duration": 22,
    "start_time": "2023-03-05T16:10:55.223Z"
   },
   {
    "duration": 3,
    "start_time": "2023-03-05T16:12:00.206Z"
   },
   {
    "duration": 16,
    "start_time": "2023-03-05T16:13:22.184Z"
   },
   {
    "duration": 7,
    "start_time": "2023-03-05T16:14:00.992Z"
   },
   {
    "duration": 17,
    "start_time": "2023-03-05T16:14:14.028Z"
   },
   {
    "duration": 16,
    "start_time": "2023-03-05T16:14:29.532Z"
   },
   {
    "duration": 12,
    "start_time": "2023-03-05T16:17:00.787Z"
   },
   {
    "duration": 29,
    "start_time": "2023-03-05T16:17:03.057Z"
   },
   {
    "duration": 11,
    "start_time": "2023-03-05T16:17:05.253Z"
   },
   {
    "duration": 25,
    "start_time": "2023-03-05T16:17:05.749Z"
   },
   {
    "duration": 26,
    "start_time": "2023-03-05T16:17:12.067Z"
   },
   {
    "duration": 9,
    "start_time": "2023-03-05T16:17:44.287Z"
   },
   {
    "duration": 24,
    "start_time": "2023-03-05T16:17:44.789Z"
   },
   {
    "duration": 12,
    "start_time": "2023-03-05T16:18:18.226Z"
   },
   {
    "duration": 12,
    "start_time": "2023-03-05T16:21:12.825Z"
   },
   {
    "duration": 18,
    "start_time": "2023-03-05T16:21:14.128Z"
   },
   {
    "duration": 4,
    "start_time": "2023-03-05T16:21:20.188Z"
   },
   {
    "duration": 910,
    "start_time": "2023-03-05T16:21:20.196Z"
   },
   {
    "duration": 4,
    "start_time": "2023-03-05T16:21:21.108Z"
   },
   {
    "duration": 507,
    "start_time": "2023-03-05T16:21:21.114Z"
   },
   {
    "duration": 243,
    "start_time": "2023-03-05T16:21:21.624Z"
   },
   {
    "duration": 464,
    "start_time": "2023-03-05T16:21:21.870Z"
   },
   {
    "duration": 3,
    "start_time": "2023-03-05T16:21:22.336Z"
   },
   {
    "duration": 13,
    "start_time": "2023-03-05T16:21:22.349Z"
   },
   {
    "duration": 29,
    "start_time": "2023-03-05T16:21:22.364Z"
   },
   {
    "duration": 6,
    "start_time": "2023-03-05T16:21:22.395Z"
   },
   {
    "duration": 9,
    "start_time": "2023-03-05T16:21:22.403Z"
   },
   {
    "duration": 12,
    "start_time": "2023-03-05T16:21:22.414Z"
   },
   {
    "duration": 7,
    "start_time": "2023-03-05T16:21:22.428Z"
   },
   {
    "duration": 12,
    "start_time": "2023-03-05T16:21:22.450Z"
   },
   {
    "duration": 40,
    "start_time": "2023-03-05T16:21:22.464Z"
   },
   {
    "duration": 3,
    "start_time": "2023-03-05T16:21:22.506Z"
   },
   {
    "duration": 14,
    "start_time": "2023-03-05T16:21:22.511Z"
   },
   {
    "duration": 1271,
    "start_time": "2023-03-05T16:21:22.527Z"
   },
   {
    "duration": 2009,
    "start_time": "2023-03-05T16:21:23.800Z"
   },
   {
    "duration": 29,
    "start_time": "2023-03-05T16:21:25.811Z"
   },
   {
    "duration": 31,
    "start_time": "2023-03-05T16:21:25.841Z"
   },
   {
    "duration": 35,
    "start_time": "2023-03-05T16:21:25.876Z"
   },
   {
    "duration": 59,
    "start_time": "2023-03-05T16:23:22.044Z"
   },
   {
    "duration": 328,
    "start_time": "2023-03-05T16:23:22.471Z"
   },
   {
    "duration": 4,
    "start_time": "2023-03-05T18:47:54.329Z"
   },
   {
    "duration": 732,
    "start_time": "2023-03-05T18:47:54.335Z"
   },
   {
    "duration": 5,
    "start_time": "2023-03-05T18:47:55.069Z"
   },
   {
    "duration": 420,
    "start_time": "2023-03-05T18:47:55.076Z"
   },
   {
    "duration": 209,
    "start_time": "2023-03-05T18:47:55.498Z"
   },
   {
    "duration": 434,
    "start_time": "2023-03-05T18:47:55.709Z"
   },
   {
    "duration": 12,
    "start_time": "2023-03-05T18:47:56.148Z"
   },
   {
    "duration": 10,
    "start_time": "2023-03-05T18:47:56.162Z"
   },
   {
    "duration": 5,
    "start_time": "2023-03-05T18:47:56.174Z"
   },
   {
    "duration": 6,
    "start_time": "2023-03-05T18:47:56.180Z"
   },
   {
    "duration": 22,
    "start_time": "2023-03-05T18:47:56.187Z"
   },
   {
    "duration": 19,
    "start_time": "2023-03-05T18:47:56.210Z"
   },
   {
    "duration": 11,
    "start_time": "2023-03-05T18:47:56.231Z"
   },
   {
    "duration": 25,
    "start_time": "2023-03-05T18:47:56.244Z"
   },
   {
    "duration": 11,
    "start_time": "2023-03-05T18:47:56.271Z"
   },
   {
    "duration": 3,
    "start_time": "2023-03-05T18:47:56.284Z"
   },
   {
    "duration": 20,
    "start_time": "2023-03-05T18:47:56.288Z"
   },
   {
    "duration": 1085,
    "start_time": "2023-03-05T18:47:56.310Z"
   },
   {
    "duration": 1634,
    "start_time": "2023-03-05T18:47:57.397Z"
   },
   {
    "duration": 34,
    "start_time": "2023-03-05T18:47:59.032Z"
   },
   {
    "duration": 28,
    "start_time": "2023-03-05T18:47:59.067Z"
   },
   {
    "duration": 268,
    "start_time": "2023-03-05T18:47:59.097Z"
   },
   {
    "duration": 435,
    "start_time": "2023-03-05T18:52:36.227Z"
   },
   {
    "duration": 352,
    "start_time": "2023-03-05T18:52:52.923Z"
   },
   {
    "duration": 278,
    "start_time": "2023-03-05T18:54:29.012Z"
   },
   {
    "duration": 251,
    "start_time": "2023-03-05T18:55:33.628Z"
   },
   {
    "duration": 246,
    "start_time": "2023-03-05T18:55:52.398Z"
   },
   {
    "duration": 579,
    "start_time": "2023-03-05T18:56:11.673Z"
   },
   {
    "duration": 343,
    "start_time": "2023-03-05T18:56:21.888Z"
   },
   {
    "duration": 1240,
    "start_time": "2023-03-05T18:57:06.211Z"
   },
   {
    "duration": 342,
    "start_time": "2023-03-05T18:57:18.508Z"
   },
   {
    "duration": 17,
    "start_time": "2023-03-05T18:57:45.637Z"
   },
   {
    "duration": 16,
    "start_time": "2023-03-05T18:59:23.931Z"
   },
   {
    "duration": 9,
    "start_time": "2023-03-05T19:01:55.896Z"
   },
   {
    "duration": 6,
    "start_time": "2023-03-05T19:05:15.115Z"
   },
   {
    "duration": 786,
    "start_time": "2023-03-05T19:05:15.123Z"
   },
   {
    "duration": 3,
    "start_time": "2023-03-05T19:05:15.911Z"
   },
   {
    "duration": 456,
    "start_time": "2023-03-05T19:05:15.916Z"
   },
   {
    "duration": 259,
    "start_time": "2023-03-05T19:05:16.374Z"
   },
   {
    "duration": 467,
    "start_time": "2023-03-05T19:05:16.635Z"
   },
   {
    "duration": 5,
    "start_time": "2023-03-05T19:05:17.104Z"
   },
   {
    "duration": 8,
    "start_time": "2023-03-05T19:05:17.111Z"
   },
   {
    "duration": 6,
    "start_time": "2023-03-05T19:05:17.121Z"
   },
   {
    "duration": 36,
    "start_time": "2023-03-05T19:05:17.129Z"
   },
   {
    "duration": 20,
    "start_time": "2023-03-05T19:05:17.171Z"
   },
   {
    "duration": 15,
    "start_time": "2023-03-05T19:05:17.193Z"
   },
   {
    "duration": 8,
    "start_time": "2023-03-05T19:05:17.211Z"
   },
   {
    "duration": 9,
    "start_time": "2023-03-05T19:05:17.221Z"
   },
   {
    "duration": 9,
    "start_time": "2023-03-05T19:05:17.232Z"
   },
   {
    "duration": 4,
    "start_time": "2023-03-05T19:05:17.242Z"
   },
   {
    "duration": 45,
    "start_time": "2023-03-05T19:05:17.247Z"
   },
   {
    "duration": 1089,
    "start_time": "2023-03-05T19:05:17.294Z"
   },
   {
    "duration": 1827,
    "start_time": "2023-03-05T19:05:18.384Z"
   },
   {
    "duration": 22,
    "start_time": "2023-03-05T19:05:20.213Z"
   },
   {
    "duration": 51,
    "start_time": "2023-03-05T19:05:20.236Z"
   },
   {
    "duration": 278,
    "start_time": "2023-03-05T19:05:20.289Z"
   },
   {
    "duration": 390,
    "start_time": "2023-03-05T19:05:20.569Z"
   },
   {
    "duration": 23,
    "start_time": "2023-03-05T19:05:20.961Z"
   },
   {
    "duration": 3,
    "start_time": "2023-03-05T19:05:20.985Z"
   },
   {
    "duration": 11,
    "start_time": "2023-03-05T19:05:20.990Z"
   },
   {
    "duration": 59,
    "start_time": "2023-03-05T19:15:58.076Z"
   },
   {
    "duration": 882,
    "start_time": "2023-03-05T19:16:05.734Z"
   },
   {
    "duration": 7,
    "start_time": "2023-03-05T19:16:10.064Z"
   },
   {
    "duration": 813,
    "start_time": "2023-03-05T19:16:10.077Z"
   },
   {
    "duration": 4,
    "start_time": "2023-03-05T19:16:10.892Z"
   },
   {
    "duration": 461,
    "start_time": "2023-03-05T19:16:10.898Z"
   },
   {
    "duration": 247,
    "start_time": "2023-03-05T19:16:11.363Z"
   },
   {
    "duration": 450,
    "start_time": "2023-03-05T19:16:11.612Z"
   },
   {
    "duration": 3,
    "start_time": "2023-03-05T19:16:12.064Z"
   },
   {
    "duration": 33,
    "start_time": "2023-03-05T19:16:12.069Z"
   },
   {
    "duration": 6,
    "start_time": "2023-03-05T19:16:12.104Z"
   },
   {
    "duration": 6,
    "start_time": "2023-03-05T19:16:12.111Z"
   },
   {
    "duration": 11,
    "start_time": "2023-03-05T19:16:12.119Z"
   },
   {
    "duration": 12,
    "start_time": "2023-03-05T19:16:12.131Z"
   },
   {
    "duration": 21,
    "start_time": "2023-03-05T19:16:12.146Z"
   },
   {
    "duration": 37,
    "start_time": "2023-03-05T19:16:12.169Z"
   },
   {
    "duration": 13,
    "start_time": "2023-03-05T19:16:12.207Z"
   },
   {
    "duration": 4,
    "start_time": "2023-03-05T19:16:12.221Z"
   },
   {
    "duration": 13,
    "start_time": "2023-03-05T19:16:12.227Z"
   },
   {
    "duration": 986,
    "start_time": "2023-03-05T19:16:12.242Z"
   },
   {
    "duration": 1833,
    "start_time": "2023-03-05T19:16:13.230Z"
   },
   {
    "duration": 43,
    "start_time": "2023-03-05T19:16:15.076Z"
   },
   {
    "duration": 40,
    "start_time": "2023-03-05T19:16:15.121Z"
   },
   {
    "duration": 300,
    "start_time": "2023-03-05T19:16:15.163Z"
   },
   {
    "duration": 435,
    "start_time": "2023-03-05T19:16:15.465Z"
   },
   {
    "duration": 20,
    "start_time": "2023-03-05T19:16:15.902Z"
   },
   {
    "duration": 10,
    "start_time": "2023-03-05T19:16:15.924Z"
   },
   {
    "duration": 22,
    "start_time": "2023-03-05T19:16:15.936Z"
   },
   {
    "duration": 11,
    "start_time": "2023-03-05T19:17:14.678Z"
   },
   {
    "duration": 407,
    "start_time": "2023-03-05T19:17:22.476Z"
   },
   {
    "duration": 68,
    "start_time": "2023-03-05T19:34:18.638Z"
   },
   {
    "duration": 14,
    "start_time": "2023-03-05T19:34:25.381Z"
   },
   {
    "duration": 5,
    "start_time": "2023-03-05T19:34:48.993Z"
   },
   {
    "duration": 799,
    "start_time": "2023-03-05T19:34:49.012Z"
   },
   {
    "duration": 4,
    "start_time": "2023-03-05T19:34:49.813Z"
   },
   {
    "duration": 450,
    "start_time": "2023-03-05T19:34:49.819Z"
   },
   {
    "duration": 212,
    "start_time": "2023-03-05T19:34:50.271Z"
   },
   {
    "duration": 469,
    "start_time": "2023-03-05T19:34:50.486Z"
   },
   {
    "duration": 4,
    "start_time": "2023-03-05T19:34:50.957Z"
   },
   {
    "duration": 26,
    "start_time": "2023-03-05T19:34:50.963Z"
   },
   {
    "duration": 7,
    "start_time": "2023-03-05T19:34:50.991Z"
   },
   {
    "duration": 13,
    "start_time": "2023-03-05T19:34:51.000Z"
   },
   {
    "duration": 21,
    "start_time": "2023-03-05T19:34:51.015Z"
   },
   {
    "duration": 17,
    "start_time": "2023-03-05T19:34:51.038Z"
   },
   {
    "duration": 39,
    "start_time": "2023-03-05T19:34:51.056Z"
   },
   {
    "duration": 8,
    "start_time": "2023-03-05T19:34:51.097Z"
   },
   {
    "duration": 12,
    "start_time": "2023-03-05T19:34:51.108Z"
   },
   {
    "duration": 5,
    "start_time": "2023-03-05T19:34:51.122Z"
   },
   {
    "duration": 12,
    "start_time": "2023-03-05T19:34:51.128Z"
   },
   {
    "duration": 1065,
    "start_time": "2023-03-05T19:34:51.142Z"
   },
   {
    "duration": 2908,
    "start_time": "2023-03-05T19:34:52.208Z"
   },
   {
    "duration": 35,
    "start_time": "2023-03-05T19:34:55.118Z"
   },
   {
    "duration": 38,
    "start_time": "2023-03-05T19:34:55.156Z"
   },
   {
    "duration": 306,
    "start_time": "2023-03-05T19:34:55.196Z"
   },
   {
    "duration": 400,
    "start_time": "2023-03-05T19:34:55.503Z"
   },
   {
    "duration": 18,
    "start_time": "2023-03-05T19:34:55.905Z"
   },
   {
    "duration": 4,
    "start_time": "2023-03-05T19:34:55.924Z"
   },
   {
    "duration": 38,
    "start_time": "2023-03-05T19:34:55.929Z"
   },
   {
    "duration": 23,
    "start_time": "2023-03-05T19:34:55.968Z"
   },
   {
    "duration": 4,
    "start_time": "2023-03-05T19:39:34.678Z"
   },
   {
    "duration": 723,
    "start_time": "2023-03-05T19:39:34.684Z"
   },
   {
    "duration": 4,
    "start_time": "2023-03-05T19:39:35.409Z"
   },
   {
    "duration": 429,
    "start_time": "2023-03-05T19:39:35.415Z"
   },
   {
    "duration": 224,
    "start_time": "2023-03-05T19:39:35.856Z"
   },
   {
    "duration": 510,
    "start_time": "2023-03-05T19:39:36.082Z"
   },
   {
    "duration": 3,
    "start_time": "2023-03-05T19:39:36.594Z"
   },
   {
    "duration": 14,
    "start_time": "2023-03-05T19:39:36.599Z"
   },
   {
    "duration": 6,
    "start_time": "2023-03-05T19:39:36.617Z"
   },
   {
    "duration": 43,
    "start_time": "2023-03-05T19:39:36.625Z"
   },
   {
    "duration": 15,
    "start_time": "2023-03-05T19:39:36.669Z"
   },
   {
    "duration": 8,
    "start_time": "2023-03-05T19:39:36.686Z"
   },
   {
    "duration": 6,
    "start_time": "2023-03-05T19:39:36.696Z"
   },
   {
    "duration": 10,
    "start_time": "2023-03-05T19:39:36.704Z"
   },
   {
    "duration": 6,
    "start_time": "2023-03-05T19:39:36.715Z"
   },
   {
    "duration": 13,
    "start_time": "2023-03-05T19:39:36.722Z"
   },
   {
    "duration": 1033,
    "start_time": "2023-03-05T19:39:36.750Z"
   },
   {
    "duration": 1591,
    "start_time": "2023-03-05T19:39:37.785Z"
   },
   {
    "duration": 26,
    "start_time": "2023-03-05T19:39:39.378Z"
   },
   {
    "duration": 46,
    "start_time": "2023-03-05T19:39:39.406Z"
   },
   {
    "duration": 257,
    "start_time": "2023-03-05T19:39:39.453Z"
   },
   {
    "duration": 372,
    "start_time": "2023-03-05T19:39:39.711Z"
   },
   {
    "duration": 17,
    "start_time": "2023-03-05T19:39:40.085Z"
   },
   {
    "duration": 3,
    "start_time": "2023-03-05T19:39:40.105Z"
   },
   {
    "duration": 10,
    "start_time": "2023-03-05T19:39:40.109Z"
   },
   {
    "duration": 9,
    "start_time": "2023-03-05T19:39:40.121Z"
   },
   {
    "duration": 39,
    "start_time": "2023-03-05T19:40:13.640Z"
   },
   {
    "duration": 17,
    "start_time": "2023-03-05T19:42:38.182Z"
   },
   {
    "duration": 21,
    "start_time": "2023-03-05T19:44:22.403Z"
   },
   {
    "duration": 80,
    "start_time": "2023-03-05T19:50:15.797Z"
   },
   {
    "duration": 14,
    "start_time": "2023-03-05T19:50:33.597Z"
   },
   {
    "duration": 5,
    "start_time": "2023-03-05T19:51:50.278Z"
   },
   {
    "duration": 995,
    "start_time": "2023-03-05T19:51:50.285Z"
   },
   {
    "duration": 5,
    "start_time": "2023-03-05T19:51:51.282Z"
   },
   {
    "duration": 611,
    "start_time": "2023-03-05T19:51:51.289Z"
   },
   {
    "duration": 238,
    "start_time": "2023-03-05T19:51:51.903Z"
   },
   {
    "duration": 484,
    "start_time": "2023-03-05T19:51:52.143Z"
   },
   {
    "duration": 3,
    "start_time": "2023-03-05T19:51:52.631Z"
   },
   {
    "duration": 85,
    "start_time": "2023-03-05T19:51:52.636Z"
   },
   {
    "duration": 17,
    "start_time": "2023-03-05T19:51:52.723Z"
   },
   {
    "duration": 11,
    "start_time": "2023-03-05T19:51:52.742Z"
   },
   {
    "duration": 68,
    "start_time": "2023-03-05T19:51:52.755Z"
   },
   {
    "duration": 47,
    "start_time": "2023-03-05T19:51:52.825Z"
   },
   {
    "duration": 33,
    "start_time": "2023-03-05T19:51:52.881Z"
   },
   {
    "duration": 26,
    "start_time": "2023-03-05T19:51:52.917Z"
   },
   {
    "duration": 32,
    "start_time": "2023-03-05T19:51:52.945Z"
   },
   {
    "duration": 30,
    "start_time": "2023-03-05T19:51:52.980Z"
   },
   {
    "duration": 5,
    "start_time": "2023-03-05T19:51:53.012Z"
   },
   {
    "duration": 14,
    "start_time": "2023-03-05T19:51:53.019Z"
   },
   {
    "duration": 1120,
    "start_time": "2023-03-05T19:51:53.035Z"
   },
   {
    "duration": 2170,
    "start_time": "2023-03-05T19:51:54.159Z"
   },
   {
    "duration": 35,
    "start_time": "2023-03-05T19:51:56.331Z"
   },
   {
    "duration": 52,
    "start_time": "2023-03-05T19:51:56.370Z"
   },
   {
    "duration": 400,
    "start_time": "2023-03-05T19:51:56.425Z"
   },
   {
    "duration": 609,
    "start_time": "2023-03-05T19:51:56.828Z"
   },
   {
    "duration": 25,
    "start_time": "2023-03-05T19:51:57.440Z"
   },
   {
    "duration": 116,
    "start_time": "2023-03-05T19:51:57.467Z"
   },
   {
    "duration": 59,
    "start_time": "2023-03-05T19:51:57.588Z"
   },
   {
    "duration": 103,
    "start_time": "2023-03-05T19:51:57.649Z"
   },
   {
    "duration": 15,
    "start_time": "2023-03-05T19:52:08.404Z"
   },
   {
    "duration": 4,
    "start_time": "2023-03-05T19:53:23.799Z"
   },
   {
    "duration": 887,
    "start_time": "2023-03-05T19:53:23.805Z"
   },
   {
    "duration": 5,
    "start_time": "2023-03-05T19:53:24.694Z"
   },
   {
    "duration": 465,
    "start_time": "2023-03-05T19:53:24.704Z"
   },
   {
    "duration": 217,
    "start_time": "2023-03-05T19:53:25.172Z"
   },
   {
    "duration": 455,
    "start_time": "2023-03-05T19:53:25.390Z"
   },
   {
    "duration": 9,
    "start_time": "2023-03-05T19:53:25.851Z"
   },
   {
    "duration": 44,
    "start_time": "2023-03-05T19:53:25.861Z"
   },
   {
    "duration": 7,
    "start_time": "2023-03-05T19:53:25.907Z"
   },
   {
    "duration": 5,
    "start_time": "2023-03-05T19:53:25.916Z"
   },
   {
    "duration": 7,
    "start_time": "2023-03-05T19:53:25.923Z"
   },
   {
    "duration": 35,
    "start_time": "2023-03-05T19:53:25.932Z"
   },
   {
    "duration": 16,
    "start_time": "2023-03-05T19:53:25.970Z"
   },
   {
    "duration": 18,
    "start_time": "2023-03-05T19:53:25.990Z"
   },
   {
    "duration": 7,
    "start_time": "2023-03-05T19:53:26.009Z"
   },
   {
    "duration": 11,
    "start_time": "2023-03-05T19:53:26.018Z"
   },
   {
    "duration": 22,
    "start_time": "2023-03-05T19:53:26.030Z"
   },
   {
    "duration": 45,
    "start_time": "2023-03-05T19:53:26.060Z"
   },
   {
    "duration": 1033,
    "start_time": "2023-03-05T19:53:26.107Z"
   },
   {
    "duration": 1833,
    "start_time": "2023-03-05T19:53:27.142Z"
   },
   {
    "duration": 25,
    "start_time": "2023-03-05T19:53:28.979Z"
   },
   {
    "duration": 52,
    "start_time": "2023-03-05T19:53:29.006Z"
   },
   {
    "duration": 284,
    "start_time": "2023-03-05T19:53:29.067Z"
   },
   {
    "duration": 428,
    "start_time": "2023-03-05T19:53:29.355Z"
   },
   {
    "duration": 19,
    "start_time": "2023-03-05T19:53:29.788Z"
   },
   {
    "duration": 4,
    "start_time": "2023-03-05T19:53:29.809Z"
   },
   {
    "duration": 5,
    "start_time": "2023-03-05T19:53:29.815Z"
   },
   {
    "duration": 10,
    "start_time": "2023-03-05T19:53:29.821Z"
   },
   {
    "duration": 22,
    "start_time": "2023-03-05T19:54:41.738Z"
   },
   {
    "duration": 2,
    "start_time": "2023-03-05T19:54:56.578Z"
   },
   {
    "duration": 7,
    "start_time": "2023-03-05T19:57:24.686Z"
   },
   {
    "duration": 915,
    "start_time": "2023-03-05T19:57:24.695Z"
   },
   {
    "duration": 3,
    "start_time": "2023-03-05T19:57:25.612Z"
   },
   {
    "duration": 474,
    "start_time": "2023-03-05T19:57:25.617Z"
   },
   {
    "duration": 259,
    "start_time": "2023-03-05T19:57:26.094Z"
   },
   {
    "duration": 505,
    "start_time": "2023-03-05T19:57:26.356Z"
   },
   {
    "duration": 4,
    "start_time": "2023-03-05T19:57:26.863Z"
   },
   {
    "duration": 41,
    "start_time": "2023-03-05T19:57:26.868Z"
   },
   {
    "duration": 5,
    "start_time": "2023-03-05T19:57:26.910Z"
   },
   {
    "duration": 5,
    "start_time": "2023-03-05T19:57:26.917Z"
   },
   {
    "duration": 9,
    "start_time": "2023-03-05T19:57:26.923Z"
   },
   {
    "duration": 38,
    "start_time": "2023-03-05T19:57:26.933Z"
   },
   {
    "duration": 20,
    "start_time": "2023-03-05T19:57:26.977Z"
   },
   {
    "duration": 16,
    "start_time": "2023-03-05T19:57:26.999Z"
   },
   {
    "duration": 9,
    "start_time": "2023-03-05T19:57:27.017Z"
   },
   {
    "duration": 10,
    "start_time": "2023-03-05T19:57:27.028Z"
   },
   {
    "duration": 3,
    "start_time": "2023-03-05T19:57:27.039Z"
   },
   {
    "duration": 53,
    "start_time": "2023-03-05T19:57:27.044Z"
   },
   {
    "duration": 1114,
    "start_time": "2023-03-05T19:57:27.099Z"
   },
   {
    "duration": 3149,
    "start_time": "2023-03-05T19:57:28.215Z"
   },
   {
    "duration": 35,
    "start_time": "2023-03-05T19:57:31.366Z"
   },
   {
    "duration": 52,
    "start_time": "2023-03-05T19:57:31.405Z"
   },
   {
    "duration": 330,
    "start_time": "2023-03-05T19:57:31.459Z"
   },
   {
    "duration": 411,
    "start_time": "2023-03-05T19:57:31.791Z"
   },
   {
    "duration": 16,
    "start_time": "2023-03-05T19:57:32.204Z"
   },
   {
    "duration": 3,
    "start_time": "2023-03-05T19:57:32.222Z"
   },
   {
    "duration": 68,
    "start_time": "2023-03-05T19:57:32.227Z"
   },
   {
    "duration": 23,
    "start_time": "2023-03-05T19:57:32.297Z"
   },
   {
    "duration": 41,
    "start_time": "2023-03-05T19:57:32.322Z"
   },
   {
    "duration": 10,
    "start_time": "2023-03-05T20:02:41.304Z"
   },
   {
    "duration": 16,
    "start_time": "2023-03-05T20:03:42.971Z"
   },
   {
    "duration": 628,
    "start_time": "2023-03-05T20:09:11.480Z"
   },
   {
    "duration": 4,
    "start_time": "2023-03-05T20:25:08.793Z"
   },
   {
    "duration": 778,
    "start_time": "2023-03-05T20:25:08.799Z"
   },
   {
    "duration": 3,
    "start_time": "2023-03-05T20:25:09.580Z"
   },
   {
    "duration": 441,
    "start_time": "2023-03-05T20:25:09.586Z"
   },
   {
    "duration": 231,
    "start_time": "2023-03-05T20:25:10.029Z"
   },
   {
    "duration": 415,
    "start_time": "2023-03-05T20:25:10.266Z"
   },
   {
    "duration": 4,
    "start_time": "2023-03-05T20:25:10.683Z"
   },
   {
    "duration": 11,
    "start_time": "2023-03-05T20:25:10.688Z"
   },
   {
    "duration": 6,
    "start_time": "2023-03-05T20:25:10.701Z"
   },
   {
    "duration": 5,
    "start_time": "2023-03-05T20:25:10.709Z"
   },
   {
    "duration": 7,
    "start_time": "2023-03-05T20:25:10.716Z"
   },
   {
    "duration": 66,
    "start_time": "2023-03-05T20:25:10.724Z"
   },
   {
    "duration": 12,
    "start_time": "2023-03-05T20:25:10.792Z"
   },
   {
    "duration": 8,
    "start_time": "2023-03-05T20:25:10.806Z"
   },
   {
    "duration": 7,
    "start_time": "2023-03-05T20:25:10.815Z"
   },
   {
    "duration": 10,
    "start_time": "2023-03-05T20:25:10.824Z"
   },
   {
    "duration": 13,
    "start_time": "2023-03-05T20:25:10.852Z"
   },
   {
    "duration": 20,
    "start_time": "2023-03-05T20:25:10.871Z"
   },
   {
    "duration": 995,
    "start_time": "2023-03-05T20:25:10.893Z"
   },
   {
    "duration": 1687,
    "start_time": "2023-03-05T20:25:11.889Z"
   },
   {
    "duration": 22,
    "start_time": "2023-03-05T20:25:13.578Z"
   },
   {
    "duration": 33,
    "start_time": "2023-03-05T20:25:13.601Z"
   },
   {
    "duration": 294,
    "start_time": "2023-03-05T20:25:13.635Z"
   },
   {
    "duration": 384,
    "start_time": "2023-03-05T20:25:13.931Z"
   },
   {
    "duration": 16,
    "start_time": "2023-03-05T20:25:14.316Z"
   },
   {
    "duration": 4,
    "start_time": "2023-03-05T20:25:14.333Z"
   },
   {
    "duration": 6,
    "start_time": "2023-03-05T20:25:14.348Z"
   },
   {
    "duration": 16,
    "start_time": "2023-03-05T20:25:14.355Z"
   },
   {
    "duration": 30,
    "start_time": "2023-03-05T20:25:14.377Z"
   },
   {
    "duration": 1564,
    "start_time": "2023-03-05T20:57:09.623Z"
   },
   {
    "duration": 824,
    "start_time": "2023-03-05T20:57:11.189Z"
   },
   {
    "duration": 4,
    "start_time": "2023-03-05T20:57:12.014Z"
   },
   {
    "duration": 472,
    "start_time": "2023-03-05T20:57:12.020Z"
   },
   {
    "duration": 222,
    "start_time": "2023-03-05T20:57:12.495Z"
   },
   {
    "duration": 451,
    "start_time": "2023-03-05T20:57:12.718Z"
   },
   {
    "duration": 11,
    "start_time": "2023-03-05T20:57:13.171Z"
   },
   {
    "duration": 19,
    "start_time": "2023-03-05T20:57:13.190Z"
   },
   {
    "duration": 5,
    "start_time": "2023-03-05T20:57:13.210Z"
   },
   {
    "duration": 17,
    "start_time": "2023-03-05T20:57:13.217Z"
   },
   {
    "duration": 50,
    "start_time": "2023-03-05T20:57:13.236Z"
   },
   {
    "duration": 41,
    "start_time": "2023-03-05T20:57:13.288Z"
   },
   {
    "duration": 16,
    "start_time": "2023-03-05T20:57:13.331Z"
   },
   {
    "duration": 19,
    "start_time": "2023-03-05T20:57:13.350Z"
   },
   {
    "duration": 51,
    "start_time": "2023-03-05T20:57:13.371Z"
   },
   {
    "duration": 29,
    "start_time": "2023-03-05T20:57:13.424Z"
   },
   {
    "duration": 42,
    "start_time": "2023-03-05T20:57:13.455Z"
   },
   {
    "duration": 30,
    "start_time": "2023-03-05T20:57:13.499Z"
   },
   {
    "duration": 1110,
    "start_time": "2023-03-05T20:57:13.531Z"
   },
   {
    "duration": 1973,
    "start_time": "2023-03-05T20:57:14.643Z"
   },
   {
    "duration": 21,
    "start_time": "2023-03-05T20:57:16.618Z"
   },
   {
    "duration": 53,
    "start_time": "2023-03-05T20:57:16.640Z"
   },
   {
    "duration": 289,
    "start_time": "2023-03-05T20:57:16.695Z"
   },
   {
    "duration": 404,
    "start_time": "2023-03-05T20:57:16.986Z"
   },
   {
    "duration": 18,
    "start_time": "2023-03-05T20:57:17.395Z"
   },
   {
    "duration": 4,
    "start_time": "2023-03-05T20:57:17.415Z"
   },
   {
    "duration": 12,
    "start_time": "2023-03-05T20:57:17.420Z"
   },
   {
    "duration": 27,
    "start_time": "2023-03-05T20:57:17.434Z"
   },
   {
    "duration": 44,
    "start_time": "2023-03-05T20:57:17.468Z"
   },
   {
    "duration": 1608,
    "start_time": "2023-03-05T21:15:27.193Z"
   },
   {
    "duration": 893,
    "start_time": "2023-03-05T21:15:28.803Z"
   },
   {
    "duration": 4,
    "start_time": "2023-03-05T21:15:29.699Z"
   },
   {
    "duration": 495,
    "start_time": "2023-03-05T21:15:29.706Z"
   },
   {
    "duration": 227,
    "start_time": "2023-03-05T21:15:30.203Z"
   },
   {
    "duration": 487,
    "start_time": "2023-03-05T21:15:30.431Z"
   },
   {
    "duration": 2,
    "start_time": "2023-03-05T21:15:30.920Z"
   },
   {
    "duration": 16,
    "start_time": "2023-03-05T21:15:30.924Z"
   },
   {
    "duration": 52,
    "start_time": "2023-03-05T21:15:30.952Z"
   },
   {
    "duration": 28,
    "start_time": "2023-03-05T21:15:31.007Z"
   },
   {
    "duration": 58,
    "start_time": "2023-03-05T21:15:31.037Z"
   },
   {
    "duration": 50,
    "start_time": "2023-03-05T21:15:31.096Z"
   },
   {
    "duration": 13,
    "start_time": "2023-03-05T21:15:31.153Z"
   },
   {
    "duration": 55,
    "start_time": "2023-03-05T21:15:31.168Z"
   },
   {
    "duration": 15,
    "start_time": "2023-03-05T21:15:31.225Z"
   },
   {
    "duration": 59,
    "start_time": "2023-03-05T21:15:31.242Z"
   },
   {
    "duration": 10,
    "start_time": "2023-03-05T21:15:31.303Z"
   },
   {
    "duration": 15,
    "start_time": "2023-03-05T21:15:31.314Z"
   },
   {
    "duration": 1177,
    "start_time": "2023-03-05T21:15:31.330Z"
   },
   {
    "duration": 1962,
    "start_time": "2023-03-05T21:15:32.508Z"
   },
   {
    "duration": 32,
    "start_time": "2023-03-05T21:15:34.472Z"
   },
   {
    "duration": 36,
    "start_time": "2023-03-05T21:15:34.505Z"
   },
   {
    "duration": 302,
    "start_time": "2023-03-05T21:15:34.542Z"
   },
   {
    "duration": 426,
    "start_time": "2023-03-05T21:15:34.845Z"
   },
   {
    "duration": 22,
    "start_time": "2023-03-05T21:15:35.272Z"
   },
   {
    "duration": 99,
    "start_time": "2023-03-05T21:15:35.296Z"
   },
   {
    "duration": 37,
    "start_time": "2023-03-05T21:15:35.397Z"
   },
   {
    "duration": 67,
    "start_time": "2023-03-05T21:15:35.437Z"
   },
   {
    "duration": 93,
    "start_time": "2023-03-05T21:15:35.506Z"
   },
   {
    "duration": 240,
    "start_time": "2023-03-05T21:15:35.601Z"
   },
   {
    "duration": 1452,
    "start_time": "2023-03-05T21:29:29.381Z"
   },
   {
    "duration": 849,
    "start_time": "2023-03-05T21:29:30.835Z"
   },
   {
    "duration": 4,
    "start_time": "2023-03-05T21:29:31.686Z"
   },
   {
    "duration": 445,
    "start_time": "2023-03-05T21:29:31.691Z"
   },
   {
    "duration": 220,
    "start_time": "2023-03-05T21:29:32.138Z"
   },
   {
    "duration": 445,
    "start_time": "2023-03-05T21:29:32.360Z"
   },
   {
    "duration": 3,
    "start_time": "2023-03-05T21:29:32.807Z"
   },
   {
    "duration": 10,
    "start_time": "2023-03-05T21:29:32.811Z"
   },
   {
    "duration": 5,
    "start_time": "2023-03-05T21:29:32.823Z"
   },
   {
    "duration": 11,
    "start_time": "2023-03-05T21:29:32.851Z"
   },
   {
    "duration": 37,
    "start_time": "2023-03-05T21:29:32.863Z"
   },
   {
    "duration": 28,
    "start_time": "2023-03-05T21:29:32.902Z"
   },
   {
    "duration": 12,
    "start_time": "2023-03-05T21:29:32.932Z"
   },
   {
    "duration": 13,
    "start_time": "2023-03-05T21:29:32.947Z"
   },
   {
    "duration": 31,
    "start_time": "2023-03-05T21:29:32.961Z"
   },
   {
    "duration": 10,
    "start_time": "2023-03-05T21:29:32.993Z"
   },
   {
    "duration": 3,
    "start_time": "2023-03-05T21:29:33.005Z"
   },
   {
    "duration": 16,
    "start_time": "2023-03-05T21:29:33.010Z"
   },
   {
    "duration": 1086,
    "start_time": "2023-03-05T21:29:33.027Z"
   },
   {
    "duration": 1927,
    "start_time": "2023-03-05T21:29:34.114Z"
   },
   {
    "duration": 32,
    "start_time": "2023-03-05T21:29:36.049Z"
   },
   {
    "duration": 40,
    "start_time": "2023-03-05T21:29:36.085Z"
   },
   {
    "duration": 282,
    "start_time": "2023-03-05T21:29:36.127Z"
   },
   {
    "duration": 414,
    "start_time": "2023-03-05T21:29:36.412Z"
   },
   {
    "duration": 37,
    "start_time": "2023-03-05T21:29:36.828Z"
   },
   {
    "duration": 8,
    "start_time": "2023-03-05T21:29:36.873Z"
   },
   {
    "duration": 8,
    "start_time": "2023-03-05T21:29:36.883Z"
   },
   {
    "duration": 9,
    "start_time": "2023-03-05T21:29:36.893Z"
   },
   {
    "duration": 21,
    "start_time": "2023-03-05T21:29:36.903Z"
   },
   {
    "duration": 582806,
    "start_time": "2023-03-05T21:29:36.926Z"
   },
   {
    "duration": 143609,
    "start_time": "2023-03-05T21:41:37.583Z"
   },
   {
    "duration": 650,
    "start_time": "2023-03-05T21:44:47.096Z"
   },
   {
    "duration": 143186,
    "start_time": "2023-03-05T21:45:14.783Z"
   },
   {
    "duration": 2488,
    "start_time": "2023-03-05T21:53:36.687Z"
   },
   {
    "duration": 1528,
    "start_time": "2023-03-05T22:31:33.847Z"
   },
   {
    "duration": 809,
    "start_time": "2023-03-05T22:31:35.379Z"
   },
   {
    "duration": 4,
    "start_time": "2023-03-05T22:31:36.189Z"
   },
   {
    "duration": 493,
    "start_time": "2023-03-05T22:31:36.195Z"
   },
   {
    "duration": 210,
    "start_time": "2023-03-05T22:31:36.691Z"
   },
   {
    "duration": 427,
    "start_time": "2023-03-05T22:31:36.903Z"
   },
   {
    "duration": 3,
    "start_time": "2023-03-05T22:31:37.332Z"
   },
   {
    "duration": 28,
    "start_time": "2023-03-05T22:31:37.336Z"
   },
   {
    "duration": 22,
    "start_time": "2023-03-05T22:31:37.367Z"
   },
   {
    "duration": 15,
    "start_time": "2023-03-05T22:31:37.391Z"
   },
   {
    "duration": 14,
    "start_time": "2023-03-05T22:31:37.408Z"
   },
   {
    "duration": 35,
    "start_time": "2023-03-05T22:31:37.423Z"
   },
   {
    "duration": 20,
    "start_time": "2023-03-05T22:31:37.460Z"
   },
   {
    "duration": 7,
    "start_time": "2023-03-05T22:31:37.483Z"
   },
   {
    "duration": 6,
    "start_time": "2023-03-05T22:31:37.492Z"
   },
   {
    "duration": 9,
    "start_time": "2023-03-05T22:31:37.499Z"
   },
   {
    "duration": 3,
    "start_time": "2023-03-05T22:31:37.509Z"
   },
   {
    "duration": 14,
    "start_time": "2023-03-05T22:31:37.513Z"
   },
   {
    "duration": 1062,
    "start_time": "2023-03-05T22:31:37.528Z"
   },
   {
    "duration": 1745,
    "start_time": "2023-03-05T22:31:38.591Z"
   },
   {
    "duration": 39,
    "start_time": "2023-03-05T22:31:40.338Z"
   },
   {
    "duration": 45,
    "start_time": "2023-03-05T22:31:40.379Z"
   },
   {
    "duration": 273,
    "start_time": "2023-03-05T22:31:40.425Z"
   },
   {
    "duration": 379,
    "start_time": "2023-03-05T22:31:40.700Z"
   },
   {
    "duration": 17,
    "start_time": "2023-03-05T22:31:41.080Z"
   },
   {
    "duration": 4,
    "start_time": "2023-03-05T22:31:41.098Z"
   },
   {
    "duration": 18,
    "start_time": "2023-03-05T22:31:41.103Z"
   },
   {
    "duration": 20,
    "start_time": "2023-03-05T22:31:41.122Z"
   },
   {
    "duration": 59,
    "start_time": "2023-03-05T22:31:41.143Z"
   },
   {
    "duration": 2951,
    "start_time": "2023-03-05T22:31:41.204Z"
   },
   {
    "duration": 137932,
    "start_time": "2023-03-05T22:31:44.157Z"
   },
   {
    "duration": 553113,
    "start_time": "2023-03-05T22:34:02.091Z"
   },
   {
    "duration": 1662,
    "start_time": "2023-03-06T08:42:38.297Z"
   },
   {
    "duration": 2117,
    "start_time": "2023-03-06T08:42:39.962Z"
   },
   {
    "duration": 4,
    "start_time": "2023-03-06T08:42:42.081Z"
   },
   {
    "duration": 431,
    "start_time": "2023-03-06T08:42:42.087Z"
   },
   {
    "duration": 214,
    "start_time": "2023-03-06T08:42:42.519Z"
   },
   {
    "duration": 417,
    "start_time": "2023-03-06T08:42:42.734Z"
   },
   {
    "duration": 3,
    "start_time": "2023-03-06T08:42:43.153Z"
   },
   {
    "duration": 10,
    "start_time": "2023-03-06T08:42:43.157Z"
   },
   {
    "duration": 5,
    "start_time": "2023-03-06T08:42:43.168Z"
   },
   {
    "duration": 5,
    "start_time": "2023-03-06T08:42:43.175Z"
   },
   {
    "duration": 31,
    "start_time": "2023-03-06T08:42:43.181Z"
   },
   {
    "duration": 26,
    "start_time": "2023-03-06T08:42:43.214Z"
   },
   {
    "duration": 14,
    "start_time": "2023-03-06T08:42:43.241Z"
   },
   {
    "duration": 9,
    "start_time": "2023-03-06T08:42:43.256Z"
   },
   {
    "duration": 6,
    "start_time": "2023-03-06T08:42:43.267Z"
   },
   {
    "duration": 46,
    "start_time": "2023-03-06T08:42:43.274Z"
   },
   {
    "duration": 4,
    "start_time": "2023-03-06T08:42:43.322Z"
   },
   {
    "duration": 13,
    "start_time": "2023-03-06T08:42:43.328Z"
   },
   {
    "duration": 1120,
    "start_time": "2023-03-06T08:42:43.343Z"
   },
   {
    "duration": 1650,
    "start_time": "2023-03-06T08:42:44.466Z"
   },
   {
    "duration": 22,
    "start_time": "2023-03-06T08:42:46.118Z"
   },
   {
    "duration": 34,
    "start_time": "2023-03-06T08:42:46.141Z"
   },
   {
    "duration": 273,
    "start_time": "2023-03-06T08:42:46.176Z"
   },
   {
    "duration": 356,
    "start_time": "2023-03-06T08:42:46.451Z"
   },
   {
    "duration": 16,
    "start_time": "2023-03-06T08:42:46.811Z"
   },
   {
    "duration": 5,
    "start_time": "2023-03-06T08:42:46.829Z"
   },
   {
    "duration": 6,
    "start_time": "2023-03-06T08:42:46.835Z"
   },
   {
    "duration": 12,
    "start_time": "2023-03-06T08:42:46.843Z"
   },
   {
    "duration": 28,
    "start_time": "2023-03-06T08:42:46.857Z"
   },
   {
    "duration": 1534,
    "start_time": "2023-03-06T08:42:46.887Z"
   },
   {
    "duration": 126619,
    "start_time": "2023-03-06T08:42:48.513Z"
   },
   {
    "duration": 514472,
    "start_time": "2023-03-06T08:44:55.134Z"
   },
   {
    "duration": 2211331,
    "start_time": "2023-03-06T08:53:29.607Z"
   },
   {
    "duration": 119,
    "start_time": "2023-03-06T10:06:12.995Z"
   },
   {
    "duration": 139,
    "start_time": "2023-03-06T10:06:27.141Z"
   },
   {
    "duration": 502,
    "start_time": "2023-03-06T10:07:00.717Z"
   },
   {
    "duration": 407,
    "start_time": "2023-03-06T10:07:14.307Z"
   },
   {
    "duration": 813,
    "start_time": "2023-03-06T10:07:44.903Z"
   },
   {
    "duration": 4,
    "start_time": "2023-03-06T10:08:22.125Z"
   },
   {
    "duration": 685,
    "start_time": "2023-03-06T10:08:22.131Z"
   },
   {
    "duration": 3,
    "start_time": "2023-03-06T10:08:22.818Z"
   },
   {
    "duration": 570,
    "start_time": "2023-03-06T10:08:22.823Z"
   },
   {
    "duration": 235,
    "start_time": "2023-03-06T10:08:23.396Z"
   },
   {
    "duration": 418,
    "start_time": "2023-03-06T10:08:23.633Z"
   },
   {
    "duration": 3,
    "start_time": "2023-03-06T10:08:24.055Z"
   },
   {
    "duration": 9,
    "start_time": "2023-03-06T10:08:24.060Z"
   },
   {
    "duration": 7,
    "start_time": "2023-03-06T10:08:24.071Z"
   },
   {
    "duration": 37,
    "start_time": "2023-03-06T10:08:24.079Z"
   },
   {
    "duration": 9,
    "start_time": "2023-03-06T10:08:24.120Z"
   },
   {
    "duration": 34,
    "start_time": "2023-03-06T10:08:24.132Z"
   },
   {
    "duration": 14,
    "start_time": "2023-03-06T10:08:24.169Z"
   },
   {
    "duration": 36,
    "start_time": "2023-03-06T10:08:24.185Z"
   },
   {
    "duration": 9,
    "start_time": "2023-03-06T10:08:24.223Z"
   },
   {
    "duration": 12,
    "start_time": "2023-03-06T10:08:24.235Z"
   },
   {
    "duration": 4,
    "start_time": "2023-03-06T10:08:24.249Z"
   },
   {
    "duration": 17,
    "start_time": "2023-03-06T10:08:24.255Z"
   },
   {
    "duration": 982,
    "start_time": "2023-03-06T10:08:24.274Z"
   },
   {
    "duration": 1673,
    "start_time": "2023-03-06T10:08:25.258Z"
   },
   {
    "duration": 22,
    "start_time": "2023-03-06T10:08:26.933Z"
   },
   {
    "duration": 31,
    "start_time": "2023-03-06T10:08:26.957Z"
   },
   {
    "duration": 278,
    "start_time": "2023-03-06T10:08:26.989Z"
   },
   {
    "duration": 831,
    "start_time": "2023-03-06T10:08:27.269Z"
   },
   {
    "duration": 525,
    "start_time": "2023-03-06T10:08:28.102Z"
   },
   {
    "duration": 18,
    "start_time": "2023-03-06T10:08:28.628Z"
   },
   {
    "duration": 3,
    "start_time": "2023-03-06T10:08:28.648Z"
   },
   {
    "duration": 7,
    "start_time": "2023-03-06T10:08:28.653Z"
   },
   {
    "duration": 10,
    "start_time": "2023-03-06T10:08:28.663Z"
   },
   {
    "duration": 43,
    "start_time": "2023-03-06T10:08:28.675Z"
   },
   {
    "duration": 1692,
    "start_time": "2023-03-06T10:08:28.720Z"
   },
   {
    "duration": 128081,
    "start_time": "2023-03-06T10:08:30.415Z"
   },
   {
    "duration": 517069,
    "start_time": "2023-03-06T10:10:38.498Z"
   },
   {
    "duration": 4438510,
    "start_time": "2023-03-06T10:19:15.569Z"
   },
   {
    "duration": 1620,
    "start_time": "2023-03-06T15:07:01.144Z"
   },
   {
    "duration": 3466,
    "start_time": "2023-03-06T15:07:02.766Z"
   },
   {
    "duration": 4,
    "start_time": "2023-03-06T15:07:06.233Z"
   },
   {
    "duration": 433,
    "start_time": "2023-03-06T15:07:06.239Z"
   },
   {
    "duration": 201,
    "start_time": "2023-03-06T15:07:06.674Z"
   },
   {
    "duration": 415,
    "start_time": "2023-03-06T15:07:06.876Z"
   },
   {
    "duration": 3,
    "start_time": "2023-03-06T15:07:07.293Z"
   },
   {
    "duration": 22,
    "start_time": "2023-03-06T15:07:07.297Z"
   },
   {
    "duration": 14,
    "start_time": "2023-03-06T15:07:07.325Z"
   },
   {
    "duration": 13,
    "start_time": "2023-03-06T15:07:07.341Z"
   },
   {
    "duration": 17,
    "start_time": "2023-03-06T15:07:07.356Z"
   },
   {
    "duration": 40,
    "start_time": "2023-03-06T15:07:07.375Z"
   },
   {
    "duration": 15,
    "start_time": "2023-03-06T15:07:07.417Z"
   },
   {
    "duration": 8,
    "start_time": "2023-03-06T15:07:07.435Z"
   },
   {
    "duration": 23,
    "start_time": "2023-03-06T15:07:07.445Z"
   },
   {
    "duration": 14,
    "start_time": "2023-03-06T15:07:07.470Z"
   },
   {
    "duration": 19,
    "start_time": "2023-03-06T15:07:07.486Z"
   },
   {
    "duration": 30,
    "start_time": "2023-03-06T15:07:07.507Z"
   },
   {
    "duration": 1150,
    "start_time": "2023-03-06T15:07:07.539Z"
   },
   {
    "duration": 1631,
    "start_time": "2023-03-06T15:07:08.691Z"
   },
   {
    "duration": 33,
    "start_time": "2023-03-06T15:07:10.324Z"
   },
   {
    "duration": 37,
    "start_time": "2023-03-06T15:07:10.358Z"
   },
   {
    "duration": 278,
    "start_time": "2023-03-06T15:07:10.396Z"
   },
   {
    "duration": 834,
    "start_time": "2023-03-06T15:07:10.676Z"
   },
   {
    "duration": 481,
    "start_time": "2023-03-06T15:07:11.511Z"
   },
   {
    "duration": 20,
    "start_time": "2023-03-06T15:07:11.994Z"
   },
   {
    "duration": 3,
    "start_time": "2023-03-06T15:07:12.016Z"
   },
   {
    "duration": 8,
    "start_time": "2023-03-06T15:07:12.021Z"
   },
   {
    "duration": 13,
    "start_time": "2023-03-06T15:07:12.031Z"
   },
   {
    "duration": 33,
    "start_time": "2023-03-06T15:07:12.045Z"
   },
   {
    "duration": 2079,
    "start_time": "2023-03-06T15:07:12.080Z"
   },
   {
    "duration": 128712,
    "start_time": "2023-03-06T15:07:14.160Z"
   },
   {
    "duration": 521382,
    "start_time": "2023-03-06T15:09:22.874Z"
   },
   {
    "duration": 1427,
    "start_time": "2023-03-06T15:50:49.237Z"
   },
   {
    "duration": 734,
    "start_time": "2023-03-06T15:50:50.667Z"
   },
   {
    "duration": 4,
    "start_time": "2023-03-06T15:50:51.403Z"
   },
   {
    "duration": 429,
    "start_time": "2023-03-06T15:50:51.410Z"
   },
   {
    "duration": 198,
    "start_time": "2023-03-06T15:50:51.841Z"
   },
   {
    "duration": 407,
    "start_time": "2023-03-06T15:50:52.041Z"
   },
   {
    "duration": 4,
    "start_time": "2023-03-06T15:50:52.456Z"
   },
   {
    "duration": 25,
    "start_time": "2023-03-06T15:50:52.461Z"
   },
   {
    "duration": 5,
    "start_time": "2023-03-06T15:50:52.487Z"
   },
   {
    "duration": 8,
    "start_time": "2023-03-06T15:50:52.495Z"
   },
   {
    "duration": 9,
    "start_time": "2023-03-06T15:50:52.504Z"
   },
   {
    "duration": 45,
    "start_time": "2023-03-06T15:50:52.514Z"
   },
   {
    "duration": 14,
    "start_time": "2023-03-06T15:50:52.560Z"
   },
   {
    "duration": 16,
    "start_time": "2023-03-06T15:50:52.576Z"
   },
   {
    "duration": 11,
    "start_time": "2023-03-06T15:50:52.594Z"
   },
   {
    "duration": 14,
    "start_time": "2023-03-06T15:50:52.607Z"
   },
   {
    "duration": 4,
    "start_time": "2023-03-06T15:50:52.623Z"
   },
   {
    "duration": 30,
    "start_time": "2023-03-06T15:50:52.628Z"
   },
   {
    "duration": 1026,
    "start_time": "2023-03-06T15:50:52.660Z"
   },
   {
    "duration": 1847,
    "start_time": "2023-03-06T15:50:53.688Z"
   },
   {
    "duration": 38,
    "start_time": "2023-03-06T15:50:55.536Z"
   },
   {
    "duration": 37,
    "start_time": "2023-03-06T15:50:55.575Z"
   },
   {
    "duration": 278,
    "start_time": "2023-03-06T15:50:55.614Z"
   },
   {
    "duration": 790,
    "start_time": "2023-03-06T15:50:55.894Z"
   },
   {
    "duration": 498,
    "start_time": "2023-03-06T15:50:56.686Z"
   },
   {
    "duration": 18,
    "start_time": "2023-03-06T15:50:57.186Z"
   },
   {
    "duration": 4,
    "start_time": "2023-03-06T15:50:57.206Z"
   },
   {
    "duration": 10,
    "start_time": "2023-03-06T15:50:57.214Z"
   },
   {
    "duration": 17,
    "start_time": "2023-03-06T15:50:57.225Z"
   },
   {
    "duration": 41,
    "start_time": "2023-03-06T15:50:57.244Z"
   },
   {
    "duration": 1674,
    "start_time": "2023-03-06T15:50:57.287Z"
   },
   {
    "duration": 131337,
    "start_time": "2023-03-06T15:50:58.963Z"
   },
   {
    "duration": 527782,
    "start_time": "2023-03-06T15:53:10.302Z"
   },
   {
    "duration": 1575,
    "start_time": "2023-03-06T17:06:30.139Z"
   },
   {
    "duration": 724,
    "start_time": "2023-03-06T17:06:31.716Z"
   },
   {
    "duration": 3,
    "start_time": "2023-03-06T17:06:32.442Z"
   },
   {
    "duration": 419,
    "start_time": "2023-03-06T17:06:32.447Z"
   },
   {
    "duration": 197,
    "start_time": "2023-03-06T17:06:32.868Z"
   },
   {
    "duration": 416,
    "start_time": "2023-03-06T17:06:33.067Z"
   },
   {
    "duration": 3,
    "start_time": "2023-03-06T17:06:33.485Z"
   },
   {
    "duration": 13,
    "start_time": "2023-03-06T17:06:33.489Z"
   },
   {
    "duration": 6,
    "start_time": "2023-03-06T17:06:33.503Z"
   },
   {
    "duration": 10,
    "start_time": "2023-03-06T17:06:33.511Z"
   },
   {
    "duration": 8,
    "start_time": "2023-03-06T17:06:33.523Z"
   },
   {
    "duration": 44,
    "start_time": "2023-03-06T17:06:33.533Z"
   },
   {
    "duration": 15,
    "start_time": "2023-03-06T17:06:33.579Z"
   },
   {
    "duration": 8,
    "start_time": "2023-03-06T17:06:33.596Z"
   },
   {
    "duration": 7,
    "start_time": "2023-03-06T17:06:33.606Z"
   },
   {
    "duration": 11,
    "start_time": "2023-03-06T17:06:33.614Z"
   },
   {
    "duration": 4,
    "start_time": "2023-03-06T17:06:33.656Z"
   },
   {
    "duration": 15,
    "start_time": "2023-03-06T17:06:33.662Z"
   },
   {
    "duration": 1101,
    "start_time": "2023-03-06T17:06:33.678Z"
   },
   {
    "duration": 1701,
    "start_time": "2023-03-06T17:06:34.780Z"
   },
   {
    "duration": 24,
    "start_time": "2023-03-06T17:06:36.483Z"
   },
   {
    "duration": 53,
    "start_time": "2023-03-06T17:06:36.509Z"
   },
   {
    "duration": 268,
    "start_time": "2023-03-06T17:06:36.564Z"
   },
   {
    "duration": 811,
    "start_time": "2023-03-06T17:06:36.834Z"
   },
   {
    "duration": 478,
    "start_time": "2023-03-06T17:06:37.647Z"
   },
   {
    "duration": 16,
    "start_time": "2023-03-06T17:06:38.127Z"
   },
   {
    "duration": 14,
    "start_time": "2023-03-06T17:06:38.145Z"
   },
   {
    "duration": 3,
    "start_time": "2023-03-06T17:06:38.163Z"
   },
   {
    "duration": 11,
    "start_time": "2023-03-06T17:06:38.168Z"
   },
   {
    "duration": 24,
    "start_time": "2023-03-06T17:06:38.181Z"
   },
   {
    "duration": 1953,
    "start_time": "2023-03-06T17:06:38.207Z"
   },
   {
    "duration": 133501,
    "start_time": "2023-03-06T17:06:40.161Z"
   },
   {
    "duration": 537668,
    "start_time": "2023-03-06T17:08:53.664Z"
   },
   {
    "duration": 2242362,
    "start_time": "2023-03-06T17:17:51.334Z"
   },
   {
    "duration": 12795,
    "start_time": "2023-03-06T18:07:11.776Z"
   },
   {
    "duration": 128,
    "start_time": "2023-03-06T18:07:48.902Z"
   },
   {
    "duration": 9,
    "start_time": "2023-03-06T18:08:17.360Z"
   },
   {
    "duration": 6,
    "start_time": "2023-03-06T18:21:02.648Z"
   },
   {
    "duration": 29,
    "start_time": "2023-03-06T18:21:13.314Z"
   },
   {
    "duration": 8,
    "start_time": "2023-03-06T18:21:25.932Z"
   },
   {
    "duration": 4,
    "start_time": "2023-03-06T18:22:08.030Z"
   },
   {
    "duration": 11,
    "start_time": "2023-03-06T18:22:17.213Z"
   },
   {
    "duration": 7,
    "start_time": "2023-03-06T18:22:29.694Z"
   },
   {
    "duration": 4,
    "start_time": "2023-03-06T18:23:05.571Z"
   },
   {
    "duration": 3,
    "start_time": "2023-03-06T18:45:14.910Z"
   },
   {
    "duration": 782,
    "start_time": "2023-03-06T18:45:14.915Z"
   },
   {
    "duration": 3,
    "start_time": "2023-03-06T18:45:15.699Z"
   },
   {
    "duration": 404,
    "start_time": "2023-03-06T18:45:15.704Z"
   },
   {
    "duration": 196,
    "start_time": "2023-03-06T18:45:16.111Z"
   },
   {
    "duration": 401,
    "start_time": "2023-03-06T18:45:16.309Z"
   },
   {
    "duration": 3,
    "start_time": "2023-03-06T18:45:16.711Z"
   },
   {
    "duration": 14,
    "start_time": "2023-03-06T18:45:16.715Z"
   },
   {
    "duration": 4,
    "start_time": "2023-03-06T18:45:16.731Z"
   },
   {
    "duration": 5,
    "start_time": "2023-03-06T18:45:16.737Z"
   },
   {
    "duration": 18,
    "start_time": "2023-03-06T18:45:16.743Z"
   },
   {
    "duration": 32,
    "start_time": "2023-03-06T18:45:16.763Z"
   },
   {
    "duration": 12,
    "start_time": "2023-03-06T18:45:16.797Z"
   },
   {
    "duration": 8,
    "start_time": "2023-03-06T18:45:16.812Z"
   },
   {
    "duration": 7,
    "start_time": "2023-03-06T18:45:16.821Z"
   },
   {
    "duration": 34,
    "start_time": "2023-03-06T18:45:16.829Z"
   },
   {
    "duration": 8,
    "start_time": "2023-03-06T18:45:16.865Z"
   },
   {
    "duration": 18,
    "start_time": "2023-03-06T18:45:16.874Z"
   },
   {
    "duration": 912,
    "start_time": "2023-03-06T18:45:16.893Z"
   },
   {
    "duration": 1615,
    "start_time": "2023-03-06T18:45:17.807Z"
   },
   {
    "duration": 22,
    "start_time": "2023-03-06T18:45:19.424Z"
   },
   {
    "duration": 36,
    "start_time": "2023-03-06T18:45:19.447Z"
   },
   {
    "duration": 248,
    "start_time": "2023-03-06T18:45:19.484Z"
   },
   {
    "duration": 934,
    "start_time": "2023-03-06T18:45:19.734Z"
   },
   {
    "duration": 349,
    "start_time": "2023-03-06T18:45:20.670Z"
   },
   {
    "duration": 16,
    "start_time": "2023-03-06T18:45:21.021Z"
   },
   {
    "duration": 3,
    "start_time": "2023-03-06T18:45:21.039Z"
   },
   {
    "duration": 3,
    "start_time": "2023-03-06T18:45:21.057Z"
   },
   {
    "duration": 17,
    "start_time": "2023-03-06T18:45:21.062Z"
   },
   {
    "duration": 24,
    "start_time": "2023-03-06T18:45:21.081Z"
   },
   {
    "duration": 1661,
    "start_time": "2023-03-06T18:45:21.107Z"
   },
   {
    "duration": 128278,
    "start_time": "2023-03-06T18:45:22.772Z"
   },
   {
    "duration": 518989,
    "start_time": "2023-03-06T18:47:31.052Z"
   },
   {
    "duration": 2260580,
    "start_time": "2023-03-06T18:56:10.043Z"
   },
   {
    "duration": 12828,
    "start_time": "2023-03-06T19:33:50.625Z"
   },
   {
    "duration": 8,
    "start_time": "2023-03-06T19:34:03.455Z"
   },
   {
    "duration": 21,
    "start_time": "2023-03-06T19:34:03.465Z"
   },
   {
    "duration": 4,
    "start_time": "2023-03-06T19:48:51.523Z"
   },
   {
    "duration": 719,
    "start_time": "2023-03-06T19:48:51.528Z"
   },
   {
    "duration": 11,
    "start_time": "2023-03-06T19:48:52.249Z"
   },
   {
    "duration": 404,
    "start_time": "2023-03-06T19:48:52.261Z"
   },
   {
    "duration": 193,
    "start_time": "2023-03-06T19:48:52.667Z"
   },
   {
    "duration": 388,
    "start_time": "2023-03-06T19:48:52.861Z"
   },
   {
    "duration": 8,
    "start_time": "2023-03-06T19:48:53.250Z"
   },
   {
    "duration": 11,
    "start_time": "2023-03-06T19:48:53.259Z"
   },
   {
    "duration": 5,
    "start_time": "2023-03-06T19:48:53.271Z"
   },
   {
    "duration": 6,
    "start_time": "2023-03-06T19:48:53.278Z"
   },
   {
    "duration": 12,
    "start_time": "2023-03-06T19:48:53.285Z"
   },
   {
    "duration": 31,
    "start_time": "2023-03-06T19:48:53.298Z"
   },
   {
    "duration": 34,
    "start_time": "2023-03-06T19:48:53.332Z"
   },
   {
    "duration": 7,
    "start_time": "2023-03-06T19:48:53.368Z"
   },
   {
    "duration": 6,
    "start_time": "2023-03-06T19:48:53.377Z"
   },
   {
    "duration": 10,
    "start_time": "2023-03-06T19:48:53.384Z"
   },
   {
    "duration": 4,
    "start_time": "2023-03-06T19:48:53.395Z"
   },
   {
    "duration": 12,
    "start_time": "2023-03-06T19:48:53.400Z"
   },
   {
    "duration": 994,
    "start_time": "2023-03-06T19:48:53.414Z"
   },
   {
    "duration": 1773,
    "start_time": "2023-03-06T19:48:54.410Z"
   },
   {
    "duration": 23,
    "start_time": "2023-03-06T19:48:56.184Z"
   },
   {
    "duration": 29,
    "start_time": "2023-03-06T19:48:56.208Z"
   },
   {
    "duration": 254,
    "start_time": "2023-03-06T19:48:56.257Z"
   },
   {
    "duration": 929,
    "start_time": "2023-03-06T19:48:56.513Z"
   },
   {
    "duration": 331,
    "start_time": "2023-03-06T19:48:57.444Z"
   },
   {
    "duration": 15,
    "start_time": "2023-03-06T19:48:57.777Z"
   },
   {
    "duration": 3,
    "start_time": "2023-03-06T19:48:57.794Z"
   },
   {
    "duration": 7,
    "start_time": "2023-03-06T19:48:57.798Z"
   },
   {
    "duration": 9,
    "start_time": "2023-03-06T19:48:57.807Z"
   },
   {
    "duration": 40,
    "start_time": "2023-03-06T19:48:57.817Z"
   },
   {
    "duration": 1300,
    "start_time": "2023-03-06T19:48:57.859Z"
   },
   {
    "duration": 127978,
    "start_time": "2023-03-06T19:48:59.161Z"
   },
   {
    "duration": 520891,
    "start_time": "2023-03-06T19:51:07.141Z"
   },
   {
    "duration": 2352115,
    "start_time": "2023-03-06T19:59:48.034Z"
   },
   {
    "duration": 13486,
    "start_time": "2023-03-06T20:39:00.151Z"
   },
   {
    "duration": 7,
    "start_time": "2023-03-06T20:39:13.639Z"
   },
   {
    "duration": 14,
    "start_time": "2023-03-06T20:39:13.662Z"
   },
   {
    "duration": 0,
    "start_time": "2023-03-07T12:28:46.279Z"
   },
   {
    "duration": 7,
    "start_time": "2023-03-07T12:28:48.613Z"
   },
   {
    "duration": 14,
    "start_time": "2023-03-07T12:28:53.042Z"
   },
   {
    "duration": 6,
    "start_time": "2023-03-07T12:28:58.560Z"
   },
   {
    "duration": 69,
    "start_time": "2023-03-07T18:20:50.569Z"
   },
   {
    "duration": 119,
    "start_time": "2023-03-07T18:26:27.621Z"
   },
   {
    "duration": 1731,
    "start_time": "2023-03-07T18:26:46.543Z"
   },
   {
    "duration": 4349,
    "start_time": "2023-03-07T18:26:48.276Z"
   },
   {
    "duration": 3,
    "start_time": "2023-03-07T18:26:52.627Z"
   },
   {
    "duration": 438,
    "start_time": "2023-03-07T18:26:52.632Z"
   },
   {
    "duration": 193,
    "start_time": "2023-03-07T18:26:53.073Z"
   },
   {
    "duration": 471,
    "start_time": "2023-03-07T18:26:53.268Z"
   },
   {
    "duration": 2,
    "start_time": "2023-03-07T18:26:53.742Z"
   },
   {
    "duration": 11,
    "start_time": "2023-03-07T18:26:53.746Z"
   },
   {
    "duration": 12,
    "start_time": "2023-03-07T18:26:53.758Z"
   },
   {
    "duration": 15,
    "start_time": "2023-03-07T18:26:53.771Z"
   },
   {
    "duration": 24,
    "start_time": "2023-03-07T18:26:53.788Z"
   },
   {
    "duration": 36,
    "start_time": "2023-03-07T18:26:53.816Z"
   },
   {
    "duration": 14,
    "start_time": "2023-03-07T18:26:53.854Z"
   },
   {
    "duration": 7,
    "start_time": "2023-03-07T18:26:53.871Z"
   },
   {
    "duration": 36,
    "start_time": "2023-03-07T18:26:53.889Z"
   },
   {
    "duration": 9,
    "start_time": "2023-03-07T18:26:53.927Z"
   },
   {
    "duration": 3,
    "start_time": "2023-03-07T18:26:53.937Z"
   },
   {
    "duration": 17,
    "start_time": "2023-03-07T18:26:53.942Z"
   },
   {
    "duration": 1054,
    "start_time": "2023-03-07T18:26:53.961Z"
   },
   {
    "duration": 1692,
    "start_time": "2023-03-07T18:26:55.017Z"
   },
   {
    "duration": 20,
    "start_time": "2023-03-07T18:26:56.718Z"
   },
   {
    "duration": 32,
    "start_time": "2023-03-07T18:26:56.740Z"
   },
   {
    "duration": 262,
    "start_time": "2023-03-07T18:26:56.774Z"
   },
   {
    "duration": 779,
    "start_time": "2023-03-07T18:26:57.037Z"
   },
   {
    "duration": 441,
    "start_time": "2023-03-07T18:26:57.818Z"
   },
   {
    "duration": 43,
    "start_time": "2023-03-07T18:26:58.262Z"
   },
   {
    "duration": 3,
    "start_time": "2023-03-07T18:26:58.307Z"
   },
   {
    "duration": 5,
    "start_time": "2023-03-07T18:26:58.312Z"
   },
   {
    "duration": 10,
    "start_time": "2023-03-07T18:26:58.318Z"
   },
   {
    "duration": 24,
    "start_time": "2023-03-07T18:26:58.329Z"
   },
   {
    "duration": 1272,
    "start_time": "2023-03-07T18:26:58.357Z"
   },
   {
    "duration": 149139,
    "start_time": "2023-03-07T18:26:59.630Z"
   },
   {
    "duration": 1379,
    "start_time": "2023-03-07T18:33:38.057Z"
   },
   {
    "duration": 712,
    "start_time": "2023-03-07T18:33:39.438Z"
   },
   {
    "duration": 3,
    "start_time": "2023-03-07T18:33:40.152Z"
   },
   {
    "duration": 456,
    "start_time": "2023-03-07T18:33:40.157Z"
   },
   {
    "duration": 188,
    "start_time": "2023-03-07T18:33:40.621Z"
   },
   {
    "duration": 406,
    "start_time": "2023-03-07T18:33:40.818Z"
   },
   {
    "duration": 3,
    "start_time": "2023-03-07T18:33:41.226Z"
   },
   {
    "duration": 11,
    "start_time": "2023-03-07T18:33:41.230Z"
   },
   {
    "duration": 5,
    "start_time": "2023-03-07T18:33:41.242Z"
   },
   {
    "duration": 5,
    "start_time": "2023-03-07T18:33:41.249Z"
   },
   {
    "duration": 42,
    "start_time": "2023-03-07T18:33:41.255Z"
   },
   {
    "duration": 26,
    "start_time": "2023-03-07T18:33:41.298Z"
   },
   {
    "duration": 12,
    "start_time": "2023-03-07T18:33:41.326Z"
   },
   {
    "duration": 8,
    "start_time": "2023-03-07T18:33:41.342Z"
   },
   {
    "duration": 9,
    "start_time": "2023-03-07T18:33:41.352Z"
   },
   {
    "duration": 34,
    "start_time": "2023-03-07T18:33:41.363Z"
   },
   {
    "duration": 27,
    "start_time": "2023-03-07T18:33:41.398Z"
   },
   {
    "duration": 21,
    "start_time": "2023-03-07T18:33:41.427Z"
   },
   {
    "duration": 1039,
    "start_time": "2023-03-07T18:33:41.450Z"
   },
   {
    "duration": 1557,
    "start_time": "2023-03-07T18:33:42.493Z"
   },
   {
    "duration": 33,
    "start_time": "2023-03-07T18:33:44.052Z"
   },
   {
    "duration": 41,
    "start_time": "2023-03-07T18:33:44.086Z"
   },
   {
    "duration": 288,
    "start_time": "2023-03-07T18:33:44.128Z"
   },
   {
    "duration": 721,
    "start_time": "2023-03-07T18:33:44.418Z"
   },
   {
    "duration": 453,
    "start_time": "2023-03-07T18:33:45.146Z"
   },
   {
    "duration": 21,
    "start_time": "2023-03-07T18:33:45.609Z"
   },
   {
    "duration": 4,
    "start_time": "2023-03-07T18:33:45.632Z"
   },
   {
    "duration": 5,
    "start_time": "2023-03-07T18:33:45.638Z"
   },
   {
    "duration": 17,
    "start_time": "2023-03-07T18:33:45.644Z"
   },
   {
    "duration": 27,
    "start_time": "2023-03-07T18:33:45.662Z"
   },
   {
    "duration": 53,
    "start_time": "2023-03-07T18:33:45.690Z"
   },
   {
    "duration": 0,
    "start_time": "2023-03-07T18:33:45.745Z"
   },
   {
    "duration": 0,
    "start_time": "2023-03-07T18:33:45.747Z"
   },
   {
    "duration": 0,
    "start_time": "2023-03-07T18:33:45.748Z"
   },
   {
    "duration": 0,
    "start_time": "2023-03-07T18:33:45.750Z"
   },
   {
    "duration": 0,
    "start_time": "2023-03-07T18:33:45.751Z"
   },
   {
    "duration": 0,
    "start_time": "2023-03-07T18:33:45.751Z"
   },
   {
    "duration": 1142,
    "start_time": "2023-03-07T18:34:34.802Z"
   },
   {
    "duration": 2315,
    "start_time": "2023-03-07T18:35:17.938Z"
   },
   {
    "duration": 1862,
    "start_time": "2023-03-07T18:38:06.073Z"
   },
   {
    "duration": 2045,
    "start_time": "2023-03-07T18:38:12.708Z"
   },
   {
    "duration": 1851,
    "start_time": "2023-03-07T18:38:58.555Z"
   },
   {
    "duration": 3837,
    "start_time": "2023-03-07T18:39:36.355Z"
   },
   {
    "duration": 1103,
    "start_time": "2023-03-07T18:40:53.305Z"
   },
   {
    "duration": 48,
    "start_time": "2023-03-07T18:41:08.480Z"
   },
   {
    "duration": 3879,
    "start_time": "2023-03-07T18:41:38.010Z"
   },
   {
    "duration": 1426,
    "start_time": "2023-03-07T18:45:27.844Z"
   },
   {
    "duration": 754,
    "start_time": "2023-03-07T18:45:29.272Z"
   },
   {
    "duration": 3,
    "start_time": "2023-03-07T18:45:30.028Z"
   },
   {
    "duration": 426,
    "start_time": "2023-03-07T18:45:30.032Z"
   },
   {
    "duration": 189,
    "start_time": "2023-03-07T18:45:30.459Z"
   },
   {
    "duration": 413,
    "start_time": "2023-03-07T18:45:30.650Z"
   },
   {
    "duration": 2,
    "start_time": "2023-03-07T18:45:31.065Z"
   },
   {
    "duration": 85,
    "start_time": "2023-03-07T18:45:31.069Z"
   },
   {
    "duration": 46,
    "start_time": "2023-03-07T18:45:31.155Z"
   },
   {
    "duration": 11,
    "start_time": "2023-03-07T18:45:31.204Z"
   },
   {
    "duration": 27,
    "start_time": "2023-03-07T18:45:31.217Z"
   },
   {
    "duration": 57,
    "start_time": "2023-03-07T18:45:31.246Z"
   },
   {
    "duration": 21,
    "start_time": "2023-03-07T18:45:31.310Z"
   },
   {
    "duration": 37,
    "start_time": "2023-03-07T18:45:31.334Z"
   },
   {
    "duration": 55,
    "start_time": "2023-03-07T18:45:31.372Z"
   },
   {
    "duration": 32,
    "start_time": "2023-03-07T18:45:31.428Z"
   },
   {
    "duration": 54,
    "start_time": "2023-03-07T18:45:31.461Z"
   },
   {
    "duration": 41,
    "start_time": "2023-03-07T18:45:31.516Z"
   },
   {
    "duration": 1055,
    "start_time": "2023-03-07T18:45:31.558Z"
   },
   {
    "duration": 1622,
    "start_time": "2023-03-07T18:45:32.619Z"
   },
   {
    "duration": 22,
    "start_time": "2023-03-07T18:45:34.244Z"
   },
   {
    "duration": 48,
    "start_time": "2023-03-07T18:45:34.268Z"
   },
   {
    "duration": 279,
    "start_time": "2023-03-07T18:45:34.318Z"
   },
   {
    "duration": 805,
    "start_time": "2023-03-07T18:45:34.605Z"
   },
   {
    "duration": 460,
    "start_time": "2023-03-07T18:45:35.412Z"
   },
   {
    "duration": 34,
    "start_time": "2023-03-07T18:45:35.873Z"
   },
   {
    "duration": 1203,
    "start_time": "2023-03-07T18:45:35.908Z"
   },
   {
    "duration": 0,
    "start_time": "2023-03-07T18:45:37.113Z"
   },
   {
    "duration": 0,
    "start_time": "2023-03-07T18:45:37.114Z"
   },
   {
    "duration": 0,
    "start_time": "2023-03-07T18:45:37.116Z"
   },
   {
    "duration": 0,
    "start_time": "2023-03-07T18:45:37.117Z"
   },
   {
    "duration": 0,
    "start_time": "2023-03-07T18:45:37.118Z"
   },
   {
    "duration": 0,
    "start_time": "2023-03-07T18:45:37.120Z"
   },
   {
    "duration": 0,
    "start_time": "2023-03-07T18:45:37.121Z"
   },
   {
    "duration": 0,
    "start_time": "2023-03-07T18:45:37.122Z"
   },
   {
    "duration": 0,
    "start_time": "2023-03-07T18:45:37.123Z"
   },
   {
    "duration": 0,
    "start_time": "2023-03-07T18:45:37.124Z"
   },
   {
    "duration": 0,
    "start_time": "2023-03-07T18:45:37.125Z"
   },
   {
    "duration": 1138,
    "start_time": "2023-03-07T18:57:13.817Z"
   },
   {
    "duration": 4,
    "start_time": "2023-03-07T18:57:35.632Z"
   },
   {
    "duration": 12,
    "start_time": "2023-03-07T18:57:42.218Z"
   },
   {
    "duration": 28,
    "start_time": "2023-03-07T18:58:03.577Z"
   },
   {
    "duration": 144,
    "start_time": "2023-03-07T18:58:15.418Z"
   },
   {
    "duration": 1596,
    "start_time": "2023-03-07T18:59:37.062Z"
   },
   {
    "duration": 855,
    "start_time": "2023-03-07T18:59:38.660Z"
   },
   {
    "duration": 7,
    "start_time": "2023-03-07T18:59:39.522Z"
   },
   {
    "duration": 461,
    "start_time": "2023-03-07T18:59:39.538Z"
   },
   {
    "duration": 186,
    "start_time": "2023-03-07T18:59:40.014Z"
   },
   {
    "duration": 413,
    "start_time": "2023-03-07T18:59:40.202Z"
   },
   {
    "duration": 4,
    "start_time": "2023-03-07T18:59:40.617Z"
   },
   {
    "duration": 25,
    "start_time": "2023-03-07T18:59:40.623Z"
   },
   {
    "duration": 7,
    "start_time": "2023-03-07T18:59:40.649Z"
   },
   {
    "duration": 8,
    "start_time": "2023-03-07T18:59:40.657Z"
   },
   {
    "duration": 7,
    "start_time": "2023-03-07T18:59:40.666Z"
   },
   {
    "duration": 61,
    "start_time": "2023-03-07T18:59:40.675Z"
   },
   {
    "duration": 10,
    "start_time": "2023-03-07T18:59:40.737Z"
   },
   {
    "duration": 7,
    "start_time": "2023-03-07T18:59:40.750Z"
   },
   {
    "duration": 9,
    "start_time": "2023-03-07T18:59:40.758Z"
   },
   {
    "duration": 39,
    "start_time": "2023-03-07T18:59:40.768Z"
   },
   {
    "duration": 28,
    "start_time": "2023-03-07T18:59:40.808Z"
   },
   {
    "duration": 11,
    "start_time": "2023-03-07T18:59:40.838Z"
   },
   {
    "duration": 981,
    "start_time": "2023-03-07T18:59:40.850Z"
   },
   {
    "duration": 1609,
    "start_time": "2023-03-07T18:59:41.837Z"
   },
   {
    "duration": 42,
    "start_time": "2023-03-07T18:59:43.447Z"
   },
   {
    "duration": 41,
    "start_time": "2023-03-07T18:59:43.493Z"
   },
   {
    "duration": 243,
    "start_time": "2023-03-07T18:59:43.536Z"
   },
   {
    "duration": 762,
    "start_time": "2023-03-07T18:59:43.781Z"
   },
   {
    "duration": 478,
    "start_time": "2023-03-07T18:59:44.544Z"
   },
   {
    "duration": 16,
    "start_time": "2023-03-07T18:59:45.024Z"
   },
   {
    "duration": 297,
    "start_time": "2023-03-07T18:59:45.041Z"
   },
   {
    "duration": 3,
    "start_time": "2023-03-07T18:59:45.340Z"
   },
   {
    "duration": 5,
    "start_time": "2023-03-07T18:59:45.344Z"
   },
   {
    "duration": 10,
    "start_time": "2023-03-07T18:59:45.350Z"
   },
   {
    "duration": 32,
    "start_time": "2023-03-07T18:59:45.361Z"
   },
   {
    "duration": 5435,
    "start_time": "2023-03-07T18:59:45.394Z"
   },
   {
    "duration": 146839,
    "start_time": "2023-03-07T18:59:50.831Z"
   },
   {
    "duration": 1440,
    "start_time": "2023-03-07T19:03:02.827Z"
   },
   {
    "duration": 768,
    "start_time": "2023-03-07T19:03:04.269Z"
   },
   {
    "duration": 3,
    "start_time": "2023-03-07T19:03:05.039Z"
   },
   {
    "duration": 407,
    "start_time": "2023-03-07T19:03:05.043Z"
   },
   {
    "duration": 196,
    "start_time": "2023-03-07T19:03:05.452Z"
   },
   {
    "duration": 399,
    "start_time": "2023-03-07T19:03:05.650Z"
   },
   {
    "duration": 2,
    "start_time": "2023-03-07T19:03:06.051Z"
   },
   {
    "duration": 21,
    "start_time": "2023-03-07T19:03:06.056Z"
   },
   {
    "duration": 50,
    "start_time": "2023-03-07T19:03:06.079Z"
   },
   {
    "duration": 13,
    "start_time": "2023-03-07T19:03:06.131Z"
   },
   {
    "duration": 13,
    "start_time": "2023-03-07T19:03:06.146Z"
   },
   {
    "duration": 41,
    "start_time": "2023-03-07T19:03:06.160Z"
   },
   {
    "duration": 34,
    "start_time": "2023-03-07T19:03:06.207Z"
   },
   {
    "duration": 7,
    "start_time": "2023-03-07T19:03:06.245Z"
   },
   {
    "duration": 6,
    "start_time": "2023-03-07T19:03:06.254Z"
   },
   {
    "duration": 22,
    "start_time": "2023-03-07T19:03:06.263Z"
   },
   {
    "duration": 15,
    "start_time": "2023-03-07T19:03:06.298Z"
   },
   {
    "duration": 27,
    "start_time": "2023-03-07T19:03:06.316Z"
   },
   {
    "duration": 905,
    "start_time": "2023-03-07T19:03:06.345Z"
   },
   {
    "duration": 1446,
    "start_time": "2023-03-07T19:03:07.252Z"
   },
   {
    "duration": 28,
    "start_time": "2023-03-07T19:03:08.699Z"
   },
   {
    "duration": 31,
    "start_time": "2023-03-07T19:03:08.729Z"
   },
   {
    "duration": 274,
    "start_time": "2023-03-07T19:03:08.762Z"
   },
   {
    "duration": 704,
    "start_time": "2023-03-07T19:03:09.038Z"
   },
   {
    "duration": 430,
    "start_time": "2023-03-07T19:03:09.744Z"
   },
   {
    "duration": 15,
    "start_time": "2023-03-07T19:03:10.179Z"
   },
   {
    "duration": 38,
    "start_time": "2023-03-07T19:03:10.197Z"
   },
   {
    "duration": 3,
    "start_time": "2023-03-07T19:03:10.237Z"
   },
   {
    "duration": 8,
    "start_time": "2023-03-07T19:03:10.242Z"
   },
   {
    "duration": 9,
    "start_time": "2023-03-07T19:03:10.251Z"
   },
   {
    "duration": 44,
    "start_time": "2023-03-07T19:03:10.261Z"
   },
   {
    "duration": 2970,
    "start_time": "2023-03-07T19:03:10.318Z"
   },
   {
    "duration": 1499,
    "start_time": "2023-03-07T19:03:48.471Z"
   },
   {
    "duration": 814,
    "start_time": "2023-03-07T19:03:49.972Z"
   },
   {
    "duration": 4,
    "start_time": "2023-03-07T19:03:50.788Z"
   },
   {
    "duration": 530,
    "start_time": "2023-03-07T19:03:50.794Z"
   },
   {
    "duration": 194,
    "start_time": "2023-03-07T19:03:51.331Z"
   },
   {
    "duration": 404,
    "start_time": "2023-03-07T19:03:51.527Z"
   },
   {
    "duration": 3,
    "start_time": "2023-03-07T19:03:51.933Z"
   },
   {
    "duration": 10,
    "start_time": "2023-03-07T19:03:51.937Z"
   },
   {
    "duration": 4,
    "start_time": "2023-03-07T19:03:51.949Z"
   },
   {
    "duration": 5,
    "start_time": "2023-03-07T19:03:51.954Z"
   },
   {
    "duration": 10,
    "start_time": "2023-03-07T19:03:51.960Z"
   },
   {
    "duration": 32,
    "start_time": "2023-03-07T19:03:51.973Z"
   },
   {
    "duration": 39,
    "start_time": "2023-03-07T19:03:52.007Z"
   },
   {
    "duration": 7,
    "start_time": "2023-03-07T19:03:52.048Z"
   },
   {
    "duration": 5,
    "start_time": "2023-03-07T19:03:52.056Z"
   },
   {
    "duration": 10,
    "start_time": "2023-03-07T19:03:52.063Z"
   },
   {
    "duration": 3,
    "start_time": "2023-03-07T19:03:52.074Z"
   },
   {
    "duration": 65,
    "start_time": "2023-03-07T19:03:52.079Z"
   },
   {
    "duration": 952,
    "start_time": "2023-03-07T19:03:52.146Z"
   },
   {
    "duration": 1611,
    "start_time": "2023-03-07T19:03:53.106Z"
   },
   {
    "duration": 25,
    "start_time": "2023-03-07T19:03:54.726Z"
   },
   {
    "duration": 33,
    "start_time": "2023-03-07T19:03:54.752Z"
   },
   {
    "duration": 254,
    "start_time": "2023-03-07T19:03:54.787Z"
   },
   {
    "duration": 782,
    "start_time": "2023-03-07T19:03:55.042Z"
   },
   {
    "duration": 499,
    "start_time": "2023-03-07T19:03:55.826Z"
   },
   {
    "duration": 21,
    "start_time": "2023-03-07T19:03:56.327Z"
   },
   {
    "duration": 22,
    "start_time": "2023-03-07T19:03:56.350Z"
   },
   {
    "duration": 75,
    "start_time": "2023-03-07T19:03:56.374Z"
   },
   {
    "duration": 14,
    "start_time": "2023-03-07T19:03:56.451Z"
   },
   {
    "duration": 40,
    "start_time": "2023-03-07T19:03:56.467Z"
   },
   {
    "duration": 55,
    "start_time": "2023-03-07T19:03:56.509Z"
   },
   {
    "duration": 3156,
    "start_time": "2023-03-07T19:03:56.566Z"
   },
   {
    "duration": 1553,
    "start_time": "2023-03-07T19:06:30.603Z"
   },
   {
    "duration": 735,
    "start_time": "2023-03-07T19:06:32.158Z"
   },
   {
    "duration": 15,
    "start_time": "2023-03-07T19:06:32.906Z"
   },
   {
    "duration": 415,
    "start_time": "2023-03-07T19:06:32.925Z"
   },
   {
    "duration": 224,
    "start_time": "2023-03-07T19:06:33.342Z"
   },
   {
    "duration": 442,
    "start_time": "2023-03-07T19:06:33.568Z"
   },
   {
    "duration": 8,
    "start_time": "2023-03-07T19:06:34.021Z"
   },
   {
    "duration": 14,
    "start_time": "2023-03-07T19:06:34.030Z"
   },
   {
    "duration": 5,
    "start_time": "2023-03-07T19:06:34.045Z"
   },
   {
    "duration": 80,
    "start_time": "2023-03-07T19:06:34.053Z"
   },
   {
    "duration": 13,
    "start_time": "2023-03-07T19:06:34.134Z"
   },
   {
    "duration": 61,
    "start_time": "2023-03-07T19:06:34.148Z"
   },
   {
    "duration": 11,
    "start_time": "2023-03-07T19:06:34.218Z"
   },
   {
    "duration": 13,
    "start_time": "2023-03-07T19:06:34.231Z"
   },
   {
    "duration": 21,
    "start_time": "2023-03-07T19:06:34.245Z"
   },
   {
    "duration": 33,
    "start_time": "2023-03-07T19:06:34.268Z"
   },
   {
    "duration": 19,
    "start_time": "2023-03-07T19:06:34.309Z"
   },
   {
    "duration": 12,
    "start_time": "2023-03-07T19:06:34.330Z"
   },
   {
    "duration": 992,
    "start_time": "2023-03-07T19:06:34.344Z"
   },
   {
    "duration": 1689,
    "start_time": "2023-03-07T19:06:35.337Z"
   },
   {
    "duration": 23,
    "start_time": "2023-03-07T19:06:37.028Z"
   },
   {
    "duration": 52,
    "start_time": "2023-03-07T19:06:37.053Z"
   },
   {
    "duration": 233,
    "start_time": "2023-03-07T19:06:37.111Z"
   },
   {
    "duration": 723,
    "start_time": "2023-03-07T19:06:37.345Z"
   },
   {
    "duration": 454,
    "start_time": "2023-03-07T19:06:38.070Z"
   },
   {
    "duration": 17,
    "start_time": "2023-03-07T19:06:38.530Z"
   },
   {
    "duration": 1460,
    "start_time": "2023-03-07T19:06:38.549Z"
   },
   {
    "duration": 0,
    "start_time": "2023-03-07T19:06:40.011Z"
   },
   {
    "duration": 0,
    "start_time": "2023-03-07T19:06:40.012Z"
   },
   {
    "duration": 0,
    "start_time": "2023-03-07T19:06:40.012Z"
   },
   {
    "duration": 0,
    "start_time": "2023-03-07T19:06:40.013Z"
   },
   {
    "duration": 0,
    "start_time": "2023-03-07T19:06:40.014Z"
   },
   {
    "duration": 0,
    "start_time": "2023-03-07T19:06:40.015Z"
   },
   {
    "duration": 0,
    "start_time": "2023-03-07T19:06:40.016Z"
   },
   {
    "duration": 0,
    "start_time": "2023-03-07T19:06:40.018Z"
   },
   {
    "duration": 1,
    "start_time": "2023-03-07T19:06:40.019Z"
   },
   {
    "duration": 0,
    "start_time": "2023-03-07T19:06:40.021Z"
   },
   {
    "duration": 0,
    "start_time": "2023-03-07T19:06:40.022Z"
   },
   {
    "duration": 1691,
    "start_time": "2023-03-07T19:07:20.207Z"
   },
   {
    "duration": 738,
    "start_time": "2023-03-07T19:07:21.917Z"
   },
   {
    "duration": 3,
    "start_time": "2023-03-07T19:07:22.656Z"
   },
   {
    "duration": 410,
    "start_time": "2023-03-07T19:07:22.661Z"
   },
   {
    "duration": 189,
    "start_time": "2023-03-07T19:07:23.079Z"
   },
   {
    "duration": 385,
    "start_time": "2023-03-07T19:07:23.269Z"
   },
   {
    "duration": 3,
    "start_time": "2023-03-07T19:07:23.655Z"
   },
   {
    "duration": 53,
    "start_time": "2023-03-07T19:07:23.660Z"
   },
   {
    "duration": 45,
    "start_time": "2023-03-07T19:07:23.718Z"
   },
   {
    "duration": 64,
    "start_time": "2023-03-07T19:07:23.765Z"
   },
   {
    "duration": 47,
    "start_time": "2023-03-07T19:07:23.831Z"
   },
   {
    "duration": 62,
    "start_time": "2023-03-07T19:07:23.879Z"
   },
   {
    "duration": 15,
    "start_time": "2023-03-07T19:07:23.943Z"
   },
   {
    "duration": 9,
    "start_time": "2023-03-07T19:07:23.961Z"
   },
   {
    "duration": 46,
    "start_time": "2023-03-07T19:07:23.971Z"
   },
   {
    "duration": 31,
    "start_time": "2023-03-07T19:07:24.019Z"
   },
   {
    "duration": 3,
    "start_time": "2023-03-07T19:07:24.052Z"
   },
   {
    "duration": 56,
    "start_time": "2023-03-07T19:07:24.057Z"
   },
   {
    "duration": 925,
    "start_time": "2023-03-07T19:07:24.114Z"
   },
   {
    "duration": 1579,
    "start_time": "2023-03-07T19:07:25.041Z"
   },
   {
    "duration": 20,
    "start_time": "2023-03-07T19:07:26.623Z"
   },
   {
    "duration": 69,
    "start_time": "2023-03-07T19:07:26.645Z"
   },
   {
    "duration": 251,
    "start_time": "2023-03-07T19:07:26.716Z"
   },
   {
    "duration": 733,
    "start_time": "2023-03-07T19:07:26.968Z"
   },
   {
    "duration": 439,
    "start_time": "2023-03-07T19:07:27.703Z"
   },
   {
    "duration": 15,
    "start_time": "2023-03-07T19:07:28.144Z"
   },
   {
    "duration": 1690,
    "start_time": "2023-03-07T19:07:28.160Z"
   },
   {
    "duration": 0,
    "start_time": "2023-03-07T19:07:29.851Z"
   },
   {
    "duration": 0,
    "start_time": "2023-03-07T19:07:29.852Z"
   },
   {
    "duration": 0,
    "start_time": "2023-03-07T19:07:29.853Z"
   },
   {
    "duration": 0,
    "start_time": "2023-03-07T19:07:29.854Z"
   },
   {
    "duration": 0,
    "start_time": "2023-03-07T19:07:29.855Z"
   },
   {
    "duration": 0,
    "start_time": "2023-03-07T19:07:29.856Z"
   },
   {
    "duration": 0,
    "start_time": "2023-03-07T19:07:29.857Z"
   },
   {
    "duration": 0,
    "start_time": "2023-03-07T19:07:29.858Z"
   },
   {
    "duration": 0,
    "start_time": "2023-03-07T19:07:29.859Z"
   },
   {
    "duration": 0,
    "start_time": "2023-03-07T19:07:29.860Z"
   },
   {
    "duration": 0,
    "start_time": "2023-03-07T19:07:29.860Z"
   },
   {
    "duration": 1501,
    "start_time": "2023-03-07T19:08:18.375Z"
   },
   {
    "duration": 830,
    "start_time": "2023-03-07T19:08:19.878Z"
   },
   {
    "duration": 7,
    "start_time": "2023-03-07T19:08:20.710Z"
   },
   {
    "duration": 494,
    "start_time": "2023-03-07T19:08:20.718Z"
   },
   {
    "duration": 188,
    "start_time": "2023-03-07T19:08:21.217Z"
   },
   {
    "duration": 411,
    "start_time": "2023-03-07T19:08:21.417Z"
   },
   {
    "duration": 3,
    "start_time": "2023-03-07T19:08:21.830Z"
   },
   {
    "duration": 18,
    "start_time": "2023-03-07T19:08:21.834Z"
   },
   {
    "duration": 4,
    "start_time": "2023-03-07T19:08:21.854Z"
   },
   {
    "duration": 14,
    "start_time": "2023-03-07T19:08:21.859Z"
   },
   {
    "duration": 51,
    "start_time": "2023-03-07T19:08:21.874Z"
   },
   {
    "duration": 24,
    "start_time": "2023-03-07T19:08:21.927Z"
   },
   {
    "duration": 11,
    "start_time": "2023-03-07T19:08:21.952Z"
   },
   {
    "duration": 7,
    "start_time": "2023-03-07T19:08:21.967Z"
   },
   {
    "duration": 33,
    "start_time": "2023-03-07T19:08:21.976Z"
   },
   {
    "duration": 33,
    "start_time": "2023-03-07T19:08:22.010Z"
   },
   {
    "duration": 3,
    "start_time": "2023-03-07T19:08:22.045Z"
   },
   {
    "duration": 15,
    "start_time": "2023-03-07T19:08:22.050Z"
   },
   {
    "duration": 962,
    "start_time": "2023-03-07T19:08:22.067Z"
   },
   {
    "duration": 1698,
    "start_time": "2023-03-07T19:08:23.031Z"
   },
   {
    "duration": 21,
    "start_time": "2023-03-07T19:08:24.730Z"
   },
   {
    "duration": 56,
    "start_time": "2023-03-07T19:08:24.753Z"
   },
   {
    "duration": 258,
    "start_time": "2023-03-07T19:08:24.819Z"
   },
   {
    "duration": 792,
    "start_time": "2023-03-07T19:08:25.079Z"
   },
   {
    "duration": 513,
    "start_time": "2023-03-07T19:08:25.872Z"
   },
   {
    "duration": 27,
    "start_time": "2023-03-07T19:08:26.386Z"
   },
   {
    "duration": 518,
    "start_time": "2023-03-07T19:08:26.414Z"
   },
   {
    "duration": 3,
    "start_time": "2023-03-07T19:08:26.934Z"
   },
   {
    "duration": 16,
    "start_time": "2023-03-07T19:08:26.938Z"
   },
   {
    "duration": 24,
    "start_time": "2023-03-07T19:08:26.955Z"
   },
   {
    "duration": 46,
    "start_time": "2023-03-07T19:08:26.997Z"
   },
   {
    "duration": 5055,
    "start_time": "2023-03-07T19:08:27.044Z"
   },
   {
    "duration": 150316,
    "start_time": "2023-03-07T19:08:32.109Z"
   },
   {
    "duration": 1404,
    "start_time": "2023-03-07T19:11:19.652Z"
   },
   {
    "duration": 806,
    "start_time": "2023-03-07T19:11:21.058Z"
   },
   {
    "duration": 5,
    "start_time": "2023-03-07T19:11:21.865Z"
   },
   {
    "duration": 417,
    "start_time": "2023-03-07T19:11:21.893Z"
   },
   {
    "duration": 209,
    "start_time": "2023-03-07T19:11:22.312Z"
   },
   {
    "duration": 416,
    "start_time": "2023-03-07T19:11:22.526Z"
   },
   {
    "duration": 2,
    "start_time": "2023-03-07T19:11:22.944Z"
   },
   {
    "duration": 9,
    "start_time": "2023-03-07T19:11:22.948Z"
   },
   {
    "duration": 4,
    "start_time": "2023-03-07T19:11:22.959Z"
   },
   {
    "duration": 5,
    "start_time": "2023-03-07T19:11:22.965Z"
   },
   {
    "duration": 49,
    "start_time": "2023-03-07T19:11:22.972Z"
   },
   {
    "duration": 32,
    "start_time": "2023-03-07T19:11:23.028Z"
   },
   {
    "duration": 12,
    "start_time": "2023-03-07T19:11:23.061Z"
   },
   {
    "duration": 26,
    "start_time": "2023-03-07T19:11:23.075Z"
   },
   {
    "duration": 10,
    "start_time": "2023-03-07T19:11:23.105Z"
   },
   {
    "duration": 22,
    "start_time": "2023-03-07T19:11:23.117Z"
   },
   {
    "duration": 3,
    "start_time": "2023-03-07T19:11:23.141Z"
   },
   {
    "duration": 11,
    "start_time": "2023-03-07T19:11:23.145Z"
   },
   {
    "duration": 909,
    "start_time": "2023-03-07T19:11:23.157Z"
   },
   {
    "duration": 1599,
    "start_time": "2023-03-07T19:11:24.067Z"
   },
   {
    "duration": 36,
    "start_time": "2023-03-07T19:11:25.668Z"
   },
   {
    "duration": 47,
    "start_time": "2023-03-07T19:11:25.706Z"
   },
   {
    "duration": 249,
    "start_time": "2023-03-07T19:11:25.755Z"
   },
   {
    "duration": 788,
    "start_time": "2023-03-07T19:11:26.005Z"
   },
   {
    "duration": 454,
    "start_time": "2023-03-07T19:11:26.794Z"
   },
   {
    "duration": 15,
    "start_time": "2023-03-07T19:11:27.250Z"
   },
   {
    "duration": 1182,
    "start_time": "2023-03-07T19:11:27.266Z"
   },
   {
    "duration": 3,
    "start_time": "2023-03-07T19:11:28.450Z"
   },
   {
    "duration": 5,
    "start_time": "2023-03-07T19:11:28.455Z"
   },
   {
    "duration": 28,
    "start_time": "2023-03-07T19:11:28.462Z"
   },
   {
    "duration": 108,
    "start_time": "2023-03-07T19:11:28.491Z"
   },
   {
    "duration": 3826,
    "start_time": "2023-03-07T19:11:28.603Z"
   },
   {
    "duration": 150397,
    "start_time": "2023-03-07T19:11:32.505Z"
   },
   {
    "duration": 1601,
    "start_time": "2023-03-07T19:19:09.178Z"
   },
   {
    "duration": 913,
    "start_time": "2023-03-07T19:19:10.785Z"
   },
   {
    "duration": 12,
    "start_time": "2023-03-07T19:19:11.709Z"
   },
   {
    "duration": 433,
    "start_time": "2023-03-07T19:19:11.728Z"
   },
   {
    "duration": 189,
    "start_time": "2023-03-07T19:19:12.163Z"
   },
   {
    "duration": 441,
    "start_time": "2023-03-07T19:19:12.354Z"
   },
   {
    "duration": 19,
    "start_time": "2023-03-07T19:19:12.803Z"
   },
   {
    "duration": 12,
    "start_time": "2023-03-07T19:19:12.834Z"
   },
   {
    "duration": 7,
    "start_time": "2023-03-07T19:19:12.848Z"
   },
   {
    "duration": 13,
    "start_time": "2023-03-07T19:19:12.857Z"
   },
   {
    "duration": 6,
    "start_time": "2023-03-07T19:19:12.871Z"
   },
   {
    "duration": 76,
    "start_time": "2023-03-07T19:19:12.878Z"
   },
   {
    "duration": 12,
    "start_time": "2023-03-07T19:19:12.955Z"
   },
   {
    "duration": 23,
    "start_time": "2023-03-07T19:19:12.970Z"
   },
   {
    "duration": 34,
    "start_time": "2023-03-07T19:19:13.006Z"
   },
   {
    "duration": 26,
    "start_time": "2023-03-07T19:19:13.042Z"
   },
   {
    "duration": 24,
    "start_time": "2023-03-07T19:19:13.070Z"
   },
   {
    "duration": 60,
    "start_time": "2023-03-07T19:19:13.096Z"
   },
   {
    "duration": 1010,
    "start_time": "2023-03-07T19:19:13.158Z"
   },
   {
    "duration": 1694,
    "start_time": "2023-03-07T19:19:14.169Z"
   },
   {
    "duration": 43,
    "start_time": "2023-03-07T19:19:15.865Z"
   },
   {
    "duration": 61,
    "start_time": "2023-03-07T19:19:15.910Z"
   },
   {
    "duration": 348,
    "start_time": "2023-03-07T19:19:15.973Z"
   },
   {
    "duration": 739,
    "start_time": "2023-03-07T19:19:16.327Z"
   },
   {
    "duration": 457,
    "start_time": "2023-03-07T19:19:17.068Z"
   },
   {
    "duration": 22,
    "start_time": "2023-03-07T19:19:17.530Z"
   },
   {
    "duration": 1202,
    "start_time": "2023-03-07T19:19:17.554Z"
   },
   {
    "duration": 5,
    "start_time": "2023-03-07T19:19:18.758Z"
   },
   {
    "duration": 20,
    "start_time": "2023-03-07T19:19:18.765Z"
   },
   {
    "duration": 4,
    "start_time": "2023-03-07T19:19:18.786Z"
   },
   {
    "duration": 47,
    "start_time": "2023-03-07T19:19:18.791Z"
   },
   {
    "duration": 40,
    "start_time": "2023-03-07T19:19:18.840Z"
   },
   {
    "duration": 3238,
    "start_time": "2023-03-07T19:19:18.894Z"
   },
   {
    "duration": 149395,
    "start_time": "2023-03-07T19:19:22.134Z"
   },
   {
    "duration": 607374,
    "start_time": "2023-03-07T19:21:51.531Z"
   },
   {
    "duration": 1445,
    "start_time": "2023-03-07T20:16:31.663Z"
   },
   {
    "duration": 829,
    "start_time": "2023-03-07T20:16:33.110Z"
   },
   {
    "duration": 4,
    "start_time": "2023-03-07T20:16:33.941Z"
   },
   {
    "duration": 457,
    "start_time": "2023-03-07T20:16:33.947Z"
   },
   {
    "duration": 237,
    "start_time": "2023-03-07T20:16:34.413Z"
   },
   {
    "duration": 396,
    "start_time": "2023-03-07T20:16:34.651Z"
   },
   {
    "duration": 2,
    "start_time": "2023-03-07T20:16:35.049Z"
   },
   {
    "duration": 9,
    "start_time": "2023-03-07T20:16:35.053Z"
   },
   {
    "duration": 29,
    "start_time": "2023-03-07T20:16:35.064Z"
   },
   {
    "duration": 6,
    "start_time": "2023-03-07T20:16:35.094Z"
   },
   {
    "duration": 39,
    "start_time": "2023-03-07T20:16:35.101Z"
   },
   {
    "duration": 30,
    "start_time": "2023-03-07T20:16:35.142Z"
   },
   {
    "duration": 20,
    "start_time": "2023-03-07T20:16:35.174Z"
   },
   {
    "duration": 29,
    "start_time": "2023-03-07T20:16:35.199Z"
   },
   {
    "duration": 6,
    "start_time": "2023-03-07T20:16:35.229Z"
   },
   {
    "duration": 11,
    "start_time": "2023-03-07T20:16:35.237Z"
   },
   {
    "duration": 5,
    "start_time": "2023-03-07T20:16:35.250Z"
   },
   {
    "duration": 17,
    "start_time": "2023-03-07T20:16:35.256Z"
   },
   {
    "duration": 1197,
    "start_time": "2023-03-07T20:16:35.275Z"
   },
   {
    "duration": 1747,
    "start_time": "2023-03-07T20:16:36.474Z"
   },
   {
    "duration": 21,
    "start_time": "2023-03-07T20:16:38.234Z"
   },
   {
    "duration": 38,
    "start_time": "2023-03-07T20:16:38.256Z"
   },
   {
    "duration": 262,
    "start_time": "2023-03-07T20:16:38.295Z"
   },
   {
    "duration": 738,
    "start_time": "2023-03-07T20:16:38.559Z"
   },
   {
    "duration": 444,
    "start_time": "2023-03-07T20:16:39.300Z"
   },
   {
    "duration": 17,
    "start_time": "2023-03-07T20:16:39.745Z"
   },
   {
    "duration": 1081,
    "start_time": "2023-03-07T20:16:39.764Z"
   },
   {
    "duration": 6,
    "start_time": "2023-03-07T20:16:40.846Z"
   },
   {
    "duration": 9,
    "start_time": "2023-03-07T20:16:40.853Z"
   },
   {
    "duration": 10,
    "start_time": "2023-03-07T20:16:40.864Z"
   },
   {
    "duration": 54,
    "start_time": "2023-03-07T20:16:40.884Z"
   },
   {
    "duration": 70,
    "start_time": "2023-03-07T20:16:40.940Z"
   },
   {
    "duration": 2328,
    "start_time": "2023-03-07T20:16:41.011Z"
   },
   {
    "duration": 151643,
    "start_time": "2023-03-07T20:16:43.380Z"
   },
   {
    "duration": 15243,
    "start_time": "2023-03-07T20:19:15.025Z"
   },
   {
    "duration": 6,
    "start_time": "2023-03-07T20:19:30.270Z"
   },
   {
    "duration": 61,
    "start_time": "2023-03-07T20:19:30.277Z"
   },
   {
    "duration": 194,
    "start_time": "2023-03-07T20:20:09.306Z"
   },
   {
    "duration": 7,
    "start_time": "2023-03-07T20:20:25.639Z"
   },
   {
    "duration": 9,
    "start_time": "2023-03-07T20:25:44.064Z"
   },
   {
    "duration": 5,
    "start_time": "2023-03-07T20:26:24.718Z"
   },
   {
    "duration": 12,
    "start_time": "2023-03-07T20:26:34.098Z"
   },
   {
    "duration": 7,
    "start_time": "2023-03-07T20:26:51.755Z"
   },
   {
    "duration": 6,
    "start_time": "2023-03-07T20:27:13.945Z"
   },
   {
    "duration": 9,
    "start_time": "2023-03-07T20:27:26.174Z"
   },
   {
    "duration": 8,
    "start_time": "2023-03-07T20:27:30.243Z"
   },
   {
    "duration": 6,
    "start_time": "2023-03-07T20:27:58.205Z"
   },
   {
    "duration": 12,
    "start_time": "2023-03-07T20:28:26.126Z"
   },
   {
    "duration": 8,
    "start_time": "2023-03-07T20:28:51.968Z"
   },
   {
    "duration": 7,
    "start_time": "2023-03-07T20:29:23.465Z"
   },
   {
    "duration": 4,
    "start_time": "2023-03-07T20:29:23.924Z"
   },
   {
    "duration": 1343,
    "start_time": "2023-03-07T20:30:03.862Z"
   },
   {
    "duration": 8,
    "start_time": "2023-03-07T20:30:33.344Z"
   },
   {
    "duration": 9,
    "start_time": "2023-03-07T20:31:06.745Z"
   },
   {
    "duration": 7,
    "start_time": "2023-03-07T20:31:09.197Z"
   },
   {
    "duration": 4,
    "start_time": "2023-03-07T20:31:14.704Z"
   },
   {
    "duration": 4,
    "start_time": "2023-03-07T20:31:25.962Z"
   },
   {
    "duration": 8,
    "start_time": "2023-03-07T20:31:27.723Z"
   },
   {
    "duration": 6,
    "start_time": "2023-03-07T20:31:32.147Z"
   },
   {
    "duration": 3,
    "start_time": "2023-03-07T20:31:32.943Z"
   },
   {
    "duration": 8,
    "start_time": "2023-03-07T20:31:41.901Z"
   },
   {
    "duration": 1273,
    "start_time": "2023-03-07T20:31:44.634Z"
   },
   {
    "duration": 47,
    "start_time": "2023-03-07T20:32:56.401Z"
   },
   {
    "duration": 306,
    "start_time": "2023-03-07T20:32:58.109Z"
   },
   {
    "duration": 28,
    "start_time": "2023-03-07T20:33:13.720Z"
   },
   {
    "duration": 266,
    "start_time": "2023-03-07T20:33:14.463Z"
   },
   {
    "duration": 1202,
    "start_time": "2023-03-07T20:33:34.602Z"
   },
   {
    "duration": 44,
    "start_time": "2023-03-07T20:35:56.506Z"
   },
   {
    "duration": 73,
    "start_time": "2023-03-07T20:38:22.838Z"
   },
   {
    "duration": 6,
    "start_time": "2023-03-07T20:38:26.069Z"
   },
   {
    "duration": 460,
    "start_time": "2023-03-07T20:38:26.599Z"
   },
   {
    "duration": 80,
    "start_time": "2023-03-07T20:40:35.954Z"
   },
   {
    "duration": 45,
    "start_time": "2023-03-07T20:40:43.233Z"
   },
   {
    "duration": 73,
    "start_time": "2023-03-07T20:41:07.671Z"
   },
   {
    "duration": 84,
    "start_time": "2023-03-07T20:41:46.050Z"
   },
   {
    "duration": 93,
    "start_time": "2023-03-07T20:42:26.412Z"
   },
   {
    "duration": 79,
    "start_time": "2023-03-07T20:44:07.761Z"
   },
   {
    "duration": 73,
    "start_time": "2023-03-07T20:44:31.882Z"
   },
   {
    "duration": 47,
    "start_time": "2023-03-07T20:45:17.214Z"
   },
   {
    "duration": 51,
    "start_time": "2023-03-07T20:46:16.514Z"
   },
   {
    "duration": 2879,
    "start_time": "2023-03-07T20:47:16.544Z"
   },
   {
    "duration": 9,
    "start_time": "2023-03-07T20:52:06.814Z"
   },
   {
    "duration": 788,
    "start_time": "2023-03-07T20:52:06.825Z"
   },
   {
    "duration": 4,
    "start_time": "2023-03-07T20:52:07.615Z"
   },
   {
    "duration": 492,
    "start_time": "2023-03-07T20:52:07.621Z"
   },
   {
    "duration": 307,
    "start_time": "2023-03-07T20:52:08.118Z"
   },
   {
    "duration": 466,
    "start_time": "2023-03-07T20:52:08.427Z"
   },
   {
    "duration": 4,
    "start_time": "2023-03-07T20:52:08.895Z"
   },
   {
    "duration": 31,
    "start_time": "2023-03-07T20:52:08.901Z"
   },
   {
    "duration": 5,
    "start_time": "2023-03-07T20:52:08.933Z"
   },
   {
    "duration": 8,
    "start_time": "2023-03-07T20:52:08.939Z"
   },
   {
    "duration": 8,
    "start_time": "2023-03-07T20:52:08.948Z"
   },
   {
    "duration": 27,
    "start_time": "2023-03-07T20:52:08.958Z"
   },
   {
    "duration": 12,
    "start_time": "2023-03-07T20:52:08.987Z"
   },
   {
    "duration": 36,
    "start_time": "2023-03-07T20:52:09.002Z"
   },
   {
    "duration": 7,
    "start_time": "2023-03-07T20:52:09.040Z"
   },
   {
    "duration": 12,
    "start_time": "2023-03-07T20:52:09.049Z"
   },
   {
    "duration": 4,
    "start_time": "2023-03-07T20:52:09.063Z"
   },
   {
    "duration": 24,
    "start_time": "2023-03-07T20:52:09.069Z"
   },
   {
    "duration": 872,
    "start_time": "2023-03-07T20:52:09.095Z"
   },
   {
    "duration": 1707,
    "start_time": "2023-03-07T20:52:09.968Z"
   },
   {
    "duration": 34,
    "start_time": "2023-03-07T20:52:11.677Z"
   },
   {
    "duration": 717,
    "start_time": "2023-03-07T20:52:11.712Z"
   },
   {
    "duration": 569,
    "start_time": "2023-03-07T20:52:12.431Z"
   },
   {
    "duration": 19,
    "start_time": "2023-03-07T20:52:13.001Z"
   },
   {
    "duration": 1035,
    "start_time": "2023-03-07T20:52:13.022Z"
   },
   {
    "duration": 46,
    "start_time": "2023-03-07T20:52:14.059Z"
   },
   {
    "duration": 240,
    "start_time": "2023-03-07T20:52:14.107Z"
   },
   {
    "duration": 3,
    "start_time": "2023-03-07T20:52:14.349Z"
   },
   {
    "duration": 7,
    "start_time": "2023-03-07T20:52:14.353Z"
   },
   {
    "duration": 11,
    "start_time": "2023-03-07T20:52:14.361Z"
   },
   {
    "duration": 28,
    "start_time": "2023-03-07T20:52:14.379Z"
   },
   {
    "duration": 18,
    "start_time": "2023-03-07T20:52:14.408Z"
   },
   {
    "duration": 2862,
    "start_time": "2023-03-07T20:52:14.427Z"
   },
   {
    "duration": 15223,
    "start_time": "2023-03-07T20:52:17.298Z"
   },
   {
    "duration": 6,
    "start_time": "2023-03-07T20:52:32.523Z"
   },
   {
    "duration": 13,
    "start_time": "2023-03-07T20:52:32.531Z"
   },
   {
    "duration": 8,
    "start_time": "2023-03-07T20:52:32.545Z"
   },
   {
    "duration": 9,
    "start_time": "2023-03-07T20:52:32.555Z"
   },
   {
    "duration": 4,
    "start_time": "2023-03-07T20:52:32.565Z"
   },
   {
    "duration": 1385,
    "start_time": "2023-03-07T20:56:01.744Z"
   },
   {
    "duration": 9,
    "start_time": "2023-03-07T20:59:28.608Z"
   },
   {
    "duration": 820,
    "start_time": "2023-03-07T20:59:28.619Z"
   },
   {
    "duration": 5,
    "start_time": "2023-03-07T20:59:29.440Z"
   },
   {
    "duration": 409,
    "start_time": "2023-03-07T20:59:29.447Z"
   },
   {
    "duration": 193,
    "start_time": "2023-03-07T20:59:29.858Z"
   },
   {
    "duration": 441,
    "start_time": "2023-03-07T20:59:30.052Z"
   },
   {
    "duration": 15,
    "start_time": "2023-03-07T20:59:30.498Z"
   },
   {
    "duration": 29,
    "start_time": "2023-03-07T20:59:30.529Z"
   },
   {
    "duration": 16,
    "start_time": "2023-03-07T20:59:30.560Z"
   },
   {
    "duration": 61,
    "start_time": "2023-03-07T20:59:30.593Z"
   },
   {
    "duration": 66,
    "start_time": "2023-03-07T20:59:30.655Z"
   },
   {
    "duration": 32,
    "start_time": "2023-03-07T20:59:30.730Z"
   },
   {
    "duration": 21,
    "start_time": "2023-03-07T20:59:30.764Z"
   },
   {
    "duration": 63,
    "start_time": "2023-03-07T20:59:30.787Z"
   },
   {
    "duration": 23,
    "start_time": "2023-03-07T20:59:30.852Z"
   },
   {
    "duration": 75,
    "start_time": "2023-03-07T20:59:30.876Z"
   },
   {
    "duration": 68,
    "start_time": "2023-03-07T20:59:30.953Z"
   },
   {
    "duration": 52,
    "start_time": "2023-03-07T20:59:31.022Z"
   },
   {
    "duration": 895,
    "start_time": "2023-03-07T20:59:31.075Z"
   },
   {
    "duration": 1778,
    "start_time": "2023-03-07T20:59:31.972Z"
   },
   {
    "duration": 33,
    "start_time": "2023-03-07T20:59:33.752Z"
   },
   {
    "duration": 754,
    "start_time": "2023-03-07T20:59:33.787Z"
   },
   {
    "duration": 330,
    "start_time": "2023-03-07T20:59:34.543Z"
   },
   {
    "duration": 29,
    "start_time": "2023-03-07T20:59:34.874Z"
   },
   {
    "duration": 1115,
    "start_time": "2023-03-07T20:59:34.906Z"
   },
   {
    "duration": 34,
    "start_time": "2023-03-07T20:59:36.034Z"
   },
   {
    "duration": 34,
    "start_time": "2023-03-07T20:59:36.071Z"
   },
   {
    "duration": 1380,
    "start_time": "2023-03-07T20:59:36.116Z"
   },
   {
    "duration": 5,
    "start_time": "2023-03-07T20:59:37.497Z"
   },
   {
    "duration": 38,
    "start_time": "2023-03-07T20:59:37.503Z"
   },
   {
    "duration": 24,
    "start_time": "2023-03-07T20:59:37.543Z"
   },
   {
    "duration": 50,
    "start_time": "2023-03-07T20:59:37.569Z"
   },
   {
    "duration": 12,
    "start_time": "2023-03-07T20:59:37.630Z"
   },
   {
    "duration": 4080,
    "start_time": "2023-03-07T20:59:37.643Z"
   },
   {
    "duration": 127985,
    "start_time": "2023-03-07T20:59:41.724Z"
   },
   {
    "duration": 507410,
    "start_time": "2023-03-07T21:01:49.723Z"
   },
   {
    "duration": 2151026,
    "start_time": "2023-03-07T21:10:17.135Z"
   },
   {
    "duration": 15092,
    "start_time": "2023-03-07T21:46:08.162Z"
   },
   {
    "duration": 7,
    "start_time": "2023-03-07T21:46:23.255Z"
   },
   {
    "duration": 22,
    "start_time": "2023-03-07T21:46:23.263Z"
   },
   {
    "duration": 49,
    "start_time": "2023-03-07T21:46:23.288Z"
   },
   {
    "duration": 9,
    "start_time": "2023-03-07T21:46:23.339Z"
   },
   {
    "duration": 4,
    "start_time": "2023-03-07T21:46:23.350Z"
   },
   {
    "duration": 0,
    "start_time": "2023-03-08T20:48:12.621Z"
   },
   {
    "duration": 184,
    "start_time": "2023-03-08T20:48:14.221Z"
   },
   {
    "duration": 13,
    "start_time": "2023-03-08T20:50:53.679Z"
   },
   {
    "duration": 58,
    "start_time": "2023-03-08T21:04:37.070Z"
   },
   {
    "duration": 1598,
    "start_time": "2023-03-08T21:06:03.065Z"
   },
   {
    "duration": 3447,
    "start_time": "2023-03-08T21:06:04.665Z"
   },
   {
    "duration": 4,
    "start_time": "2023-03-08T21:06:08.114Z"
   },
   {
    "duration": 398,
    "start_time": "2023-03-08T21:06:08.120Z"
   },
   {
    "duration": 194,
    "start_time": "2023-03-08T21:06:08.520Z"
   },
   {
    "duration": 400,
    "start_time": "2023-03-08T21:06:08.716Z"
   },
   {
    "duration": 3,
    "start_time": "2023-03-08T21:06:09.119Z"
   },
   {
    "duration": 14,
    "start_time": "2023-03-08T21:06:09.127Z"
   },
   {
    "duration": 4,
    "start_time": "2023-03-08T21:06:09.142Z"
   },
   {
    "duration": 4,
    "start_time": "2023-03-08T21:06:09.148Z"
   },
   {
    "duration": 6,
    "start_time": "2023-03-08T21:06:09.153Z"
   },
   {
    "duration": 53,
    "start_time": "2023-03-08T21:06:09.160Z"
   },
   {
    "duration": 16,
    "start_time": "2023-03-08T21:06:09.214Z"
   },
   {
    "duration": 7,
    "start_time": "2023-03-08T21:06:09.233Z"
   },
   {
    "duration": 6,
    "start_time": "2023-03-08T21:06:09.242Z"
   },
   {
    "duration": 10,
    "start_time": "2023-03-08T21:06:09.249Z"
   },
   {
    "duration": 7,
    "start_time": "2023-03-08T21:06:09.290Z"
   },
   {
    "duration": 11,
    "start_time": "2023-03-08T21:06:09.298Z"
   },
   {
    "duration": 982,
    "start_time": "2023-03-08T21:06:09.311Z"
   },
   {
    "duration": 1577,
    "start_time": "2023-03-08T21:06:10.298Z"
   },
   {
    "duration": 48,
    "start_time": "2023-03-08T21:06:11.877Z"
   },
   {
    "duration": 741,
    "start_time": "2023-03-08T21:06:11.927Z"
   },
   {
    "duration": 476,
    "start_time": "2023-03-08T21:06:12.670Z"
   },
   {
    "duration": 16,
    "start_time": "2023-03-08T21:06:13.147Z"
   },
   {
    "duration": 1111,
    "start_time": "2023-03-08T21:06:13.164Z"
   },
   {
    "duration": 65,
    "start_time": "2023-03-08T21:06:14.277Z"
   },
   {
    "duration": 20,
    "start_time": "2023-03-08T21:06:14.343Z"
   },
   {
    "duration": 1182,
    "start_time": "2023-03-08T21:06:14.365Z"
   },
   {
    "duration": 4,
    "start_time": "2023-03-08T21:06:15.548Z"
   },
   {
    "duration": 7,
    "start_time": "2023-03-08T21:06:15.554Z"
   },
   {
    "duration": 30,
    "start_time": "2023-03-08T21:06:15.563Z"
   },
   {
    "duration": 29,
    "start_time": "2023-03-08T21:06:15.605Z"
   },
   {
    "duration": 3,
    "start_time": "2023-03-08T21:06:15.636Z"
   },
   {
    "duration": 889,
    "start_time": "2023-03-08T21:06:15.640Z"
   },
   {
    "duration": 14644,
    "start_time": "2023-03-08T21:06:16.530Z"
   },
   {
    "duration": 12,
    "start_time": "2023-03-08T21:06:31.175Z"
   },
   {
    "duration": 3,
    "start_time": "2023-03-08T21:06:31.188Z"
   },
   {
    "duration": 49,
    "start_time": "2023-03-08T21:06:31.192Z"
   },
   {
    "duration": 50,
    "start_time": "2023-03-08T21:06:31.243Z"
   },
   {
    "duration": 33,
    "start_time": "2023-03-08T21:06:31.294Z"
   },
   {
    "duration": 4,
    "start_time": "2023-03-08T21:09:21.606Z"
   },
   {
    "duration": 1000,
    "start_time": "2023-03-08T21:09:21.612Z"
   },
   {
    "duration": 4,
    "start_time": "2023-03-08T21:09:22.614Z"
   },
   {
    "duration": 543,
    "start_time": "2023-03-08T21:09:22.620Z"
   },
   {
    "duration": 286,
    "start_time": "2023-03-08T21:09:23.166Z"
   },
   {
    "duration": 512,
    "start_time": "2023-03-08T21:09:23.454Z"
   },
   {
    "duration": 4,
    "start_time": "2023-03-08T21:09:23.967Z"
   },
   {
    "duration": 25,
    "start_time": "2023-03-08T21:09:23.972Z"
   },
   {
    "duration": 44,
    "start_time": "2023-03-08T21:09:24.005Z"
   },
   {
    "duration": 8,
    "start_time": "2023-03-08T21:09:24.051Z"
   },
   {
    "duration": 9,
    "start_time": "2023-03-08T21:09:24.060Z"
   },
   {
    "duration": 63,
    "start_time": "2023-03-08T21:09:24.070Z"
   },
   {
    "duration": 11,
    "start_time": "2023-03-08T21:09:24.138Z"
   },
   {
    "duration": 7,
    "start_time": "2023-03-08T21:09:24.152Z"
   },
   {
    "duration": 8,
    "start_time": "2023-03-08T21:09:24.160Z"
   },
   {
    "duration": 16,
    "start_time": "2023-03-08T21:09:24.169Z"
   },
   {
    "duration": 4,
    "start_time": "2023-03-08T21:09:24.193Z"
   },
   {
    "duration": 53,
    "start_time": "2023-03-08T21:09:24.199Z"
   },
   {
    "duration": 1067,
    "start_time": "2023-03-08T21:09:24.254Z"
   },
   {
    "duration": 2026,
    "start_time": "2023-03-08T21:09:25.323Z"
   },
   {
    "duration": 26,
    "start_time": "2023-03-08T21:09:27.351Z"
   },
   {
    "duration": 866,
    "start_time": "2023-03-08T21:09:27.379Z"
   },
   {
    "duration": 708,
    "start_time": "2023-03-08T21:09:28.253Z"
   },
   {
    "duration": 34,
    "start_time": "2023-03-08T21:09:28.963Z"
   },
   {
    "duration": 1337,
    "start_time": "2023-03-08T21:09:28.999Z"
   },
   {
    "duration": 47,
    "start_time": "2023-03-08T21:09:30.338Z"
   },
   {
    "duration": 35,
    "start_time": "2023-03-08T21:09:30.387Z"
   },
   {
    "duration": 1480,
    "start_time": "2023-03-08T21:09:30.434Z"
   },
   {
    "duration": 3,
    "start_time": "2023-03-08T21:09:31.916Z"
   },
   {
    "duration": 97,
    "start_time": "2023-03-08T21:09:31.920Z"
   },
   {
    "duration": 59,
    "start_time": "2023-03-08T21:09:32.018Z"
   },
   {
    "duration": 89,
    "start_time": "2023-03-08T21:09:32.078Z"
   },
   {
    "duration": 73,
    "start_time": "2023-03-08T21:09:32.168Z"
   },
   {
    "duration": 307,
    "start_time": "2023-03-08T21:09:32.243Z"
   },
   {
    "duration": 16193,
    "start_time": "2023-03-08T21:09:32.553Z"
   },
   {
    "duration": 7,
    "start_time": "2023-03-08T21:09:48.747Z"
   },
   {
    "duration": 12,
    "start_time": "2023-03-08T21:09:48.755Z"
   },
   {
    "duration": 9,
    "start_time": "2023-03-08T21:09:48.768Z"
   },
   {
    "duration": 51,
    "start_time": "2023-03-08T21:09:48.797Z"
   },
   {
    "duration": 5,
    "start_time": "2023-03-08T21:09:48.850Z"
   },
   {
    "duration": 5,
    "start_time": "2023-03-08T21:11:05.808Z"
   },
   {
    "duration": 996,
    "start_time": "2023-03-08T21:11:05.833Z"
   },
   {
    "duration": 8,
    "start_time": "2023-03-08T21:11:06.843Z"
   },
   {
    "duration": 447,
    "start_time": "2023-03-08T21:11:06.852Z"
   },
   {
    "duration": 236,
    "start_time": "2023-03-08T21:11:07.300Z"
   },
   {
    "duration": 449,
    "start_time": "2023-03-08T21:11:07.539Z"
   },
   {
    "duration": 11,
    "start_time": "2023-03-08T21:11:07.997Z"
   },
   {
    "duration": 43,
    "start_time": "2023-03-08T21:11:08.020Z"
   },
   {
    "duration": 9,
    "start_time": "2023-03-08T21:11:08.065Z"
   },
   {
    "duration": 21,
    "start_time": "2023-03-08T21:11:08.075Z"
   },
   {
    "duration": 55,
    "start_time": "2023-03-08T21:11:08.098Z"
   },
   {
    "duration": 30,
    "start_time": "2023-03-08T21:11:08.155Z"
   },
   {
    "duration": 19,
    "start_time": "2023-03-08T21:11:08.187Z"
   },
   {
    "duration": 15,
    "start_time": "2023-03-08T21:11:08.207Z"
   },
   {
    "duration": 39,
    "start_time": "2023-03-08T21:11:08.225Z"
   },
   {
    "duration": 12,
    "start_time": "2023-03-08T21:11:08.265Z"
   },
   {
    "duration": 53,
    "start_time": "2023-03-08T21:11:08.281Z"
   },
   {
    "duration": 26,
    "start_time": "2023-03-08T21:11:08.336Z"
   },
   {
    "duration": 1026,
    "start_time": "2023-03-08T21:11:08.363Z"
   },
   {
    "duration": 1954,
    "start_time": "2023-03-08T21:11:09.390Z"
   },
   {
    "duration": 21,
    "start_time": "2023-03-08T21:11:11.350Z"
   },
   {
    "duration": 772,
    "start_time": "2023-03-08T21:11:11.373Z"
   },
   {
    "duration": 350,
    "start_time": "2023-03-08T21:11:12.147Z"
   },
   {
    "duration": 16,
    "start_time": "2023-03-08T21:11:12.499Z"
   },
   {
    "duration": 1543,
    "start_time": "2023-03-08T21:11:12.517Z"
   },
   {
    "duration": 35,
    "start_time": "2023-03-08T21:11:14.062Z"
   },
   {
    "duration": 24,
    "start_time": "2023-03-08T21:11:14.099Z"
   },
   {
    "duration": 1223,
    "start_time": "2023-03-08T21:11:14.125Z"
   },
   {
    "duration": 3,
    "start_time": "2023-03-08T21:11:15.351Z"
   },
   {
    "duration": 49,
    "start_time": "2023-03-08T21:11:15.356Z"
   },
   {
    "duration": 67,
    "start_time": "2023-03-08T21:11:15.406Z"
   },
   {
    "duration": 98,
    "start_time": "2023-03-08T21:11:15.474Z"
   },
   {
    "duration": 86,
    "start_time": "2023-03-08T21:11:15.574Z"
   },
   {
    "duration": 2,
    "start_time": "2023-03-08T21:11:15.661Z"
   },
   {
    "duration": 324,
    "start_time": "2023-03-08T21:11:15.665Z"
   },
   {
    "duration": 15859,
    "start_time": "2023-03-08T21:11:15.991Z"
   },
   {
    "duration": 8,
    "start_time": "2023-03-08T21:11:31.852Z"
   },
   {
    "duration": 11,
    "start_time": "2023-03-08T21:11:31.861Z"
   },
   {
    "duration": 63,
    "start_time": "2023-03-08T21:11:31.874Z"
   },
   {
    "duration": 23,
    "start_time": "2023-03-08T21:11:31.938Z"
   },
   {
    "duration": 4,
    "start_time": "2023-03-08T21:11:31.962Z"
   },
   {
    "duration": 9,
    "start_time": "2023-03-08T21:12:42.717Z"
   },
   {
    "duration": 896,
    "start_time": "2023-03-08T21:12:42.734Z"
   },
   {
    "duration": 4,
    "start_time": "2023-03-08T21:12:43.632Z"
   },
   {
    "duration": 491,
    "start_time": "2023-03-08T21:12:43.638Z"
   },
   {
    "duration": 196,
    "start_time": "2023-03-08T21:12:44.131Z"
   },
   {
    "duration": 464,
    "start_time": "2023-03-08T21:12:44.346Z"
   },
   {
    "duration": 3,
    "start_time": "2023-03-08T21:12:44.812Z"
   },
   {
    "duration": 52,
    "start_time": "2023-03-08T21:12:44.817Z"
   },
   {
    "duration": 25,
    "start_time": "2023-03-08T21:12:44.872Z"
   },
   {
    "duration": 55,
    "start_time": "2023-03-08T21:12:44.914Z"
   },
   {
    "duration": 26,
    "start_time": "2023-03-08T21:12:44.971Z"
   },
   {
    "duration": 74,
    "start_time": "2023-03-08T21:12:45.005Z"
   },
   {
    "duration": 13,
    "start_time": "2023-03-08T21:12:45.085Z"
   },
   {
    "duration": 70,
    "start_time": "2023-03-08T21:12:45.102Z"
   },
   {
    "duration": 10,
    "start_time": "2023-03-08T21:12:45.174Z"
   },
   {
    "duration": 91,
    "start_time": "2023-03-08T21:12:45.185Z"
   },
   {
    "duration": 9,
    "start_time": "2023-03-08T21:12:45.277Z"
   },
   {
    "duration": 73,
    "start_time": "2023-03-08T21:12:45.297Z"
   },
   {
    "duration": 1083,
    "start_time": "2023-03-08T21:12:45.371Z"
   },
   {
    "duration": 1930,
    "start_time": "2023-03-08T21:12:46.456Z"
   },
   {
    "duration": 35,
    "start_time": "2023-03-08T21:12:48.387Z"
   },
   {
    "duration": 810,
    "start_time": "2023-03-08T21:12:48.424Z"
   },
   {
    "duration": 408,
    "start_time": "2023-03-08T21:12:49.242Z"
   },
   {
    "duration": 16,
    "start_time": "2023-03-08T21:12:49.651Z"
   },
   {
    "duration": 1694,
    "start_time": "2023-03-08T21:12:49.669Z"
   },
   {
    "duration": 66,
    "start_time": "2023-03-08T21:12:51.365Z"
   },
   {
    "duration": 25,
    "start_time": "2023-03-08T21:12:51.432Z"
   },
   {
    "duration": 1114,
    "start_time": "2023-03-08T21:12:51.458Z"
   },
   {
    "duration": 5,
    "start_time": "2023-03-08T21:12:52.574Z"
   },
   {
    "duration": 65,
    "start_time": "2023-03-08T21:12:52.580Z"
   },
   {
    "duration": 7,
    "start_time": "2023-03-08T21:12:52.647Z"
   },
   {
    "duration": 11,
    "start_time": "2023-03-08T21:12:52.655Z"
   },
   {
    "duration": 42,
    "start_time": "2023-03-08T21:12:52.668Z"
   },
   {
    "duration": 3,
    "start_time": "2023-03-08T21:12:52.712Z"
   },
   {
    "duration": 145,
    "start_time": "2023-03-08T21:12:52.717Z"
   },
   {
    "duration": 16769,
    "start_time": "2023-03-08T21:12:52.863Z"
   },
   {
    "duration": 7,
    "start_time": "2023-03-08T21:13:09.640Z"
   },
   {
    "duration": 19,
    "start_time": "2023-03-08T21:13:09.649Z"
   },
   {
    "duration": 8,
    "start_time": "2023-03-08T21:13:09.670Z"
   },
   {
    "duration": 55,
    "start_time": "2023-03-08T21:13:09.679Z"
   },
   {
    "duration": 19,
    "start_time": "2023-03-08T21:13:09.741Z"
   },
   {
    "duration": 4,
    "start_time": "2023-03-08T21:13:31.170Z"
   },
   {
    "duration": 945,
    "start_time": "2023-03-08T21:13:31.176Z"
   },
   {
    "duration": 4,
    "start_time": "2023-03-08T21:13:32.123Z"
   },
   {
    "duration": 417,
    "start_time": "2023-03-08T21:13:32.128Z"
   },
   {
    "duration": 220,
    "start_time": "2023-03-08T21:13:32.548Z"
   },
   {
    "duration": 459,
    "start_time": "2023-03-08T21:13:32.770Z"
   },
   {
    "duration": 4,
    "start_time": "2023-03-08T21:13:33.230Z"
   },
   {
    "duration": 21,
    "start_time": "2023-03-08T21:13:33.238Z"
   },
   {
    "duration": 5,
    "start_time": "2023-03-08T21:13:33.260Z"
   },
   {
    "duration": 6,
    "start_time": "2023-03-08T21:13:33.266Z"
   },
   {
    "duration": 29,
    "start_time": "2023-03-08T21:13:33.273Z"
   },
   {
    "duration": 63,
    "start_time": "2023-03-08T21:13:33.303Z"
   },
   {
    "duration": 8,
    "start_time": "2023-03-08T21:13:33.369Z"
   },
   {
    "duration": 69,
    "start_time": "2023-03-08T21:13:33.379Z"
   },
   {
    "duration": 10,
    "start_time": "2023-03-08T21:13:33.450Z"
   },
   {
    "duration": 74,
    "start_time": "2023-03-08T21:13:33.461Z"
   },
   {
    "duration": 17,
    "start_time": "2023-03-08T21:13:33.537Z"
   },
   {
    "duration": 11,
    "start_time": "2023-03-08T21:13:33.556Z"
   },
   {
    "duration": 961,
    "start_time": "2023-03-08T21:13:33.568Z"
   },
   {
    "duration": 2091,
    "start_time": "2023-03-08T21:13:34.530Z"
   },
   {
    "duration": 27,
    "start_time": "2023-03-08T21:13:36.638Z"
   },
   {
    "duration": 865,
    "start_time": "2023-03-08T21:13:36.667Z"
   },
   {
    "duration": 354,
    "start_time": "2023-03-08T21:13:37.534Z"
   },
   {
    "duration": 25,
    "start_time": "2023-03-08T21:13:37.892Z"
   },
   {
    "duration": 1232,
    "start_time": "2023-03-08T21:13:37.921Z"
   },
   {
    "duration": 49,
    "start_time": "2023-03-08T21:13:39.158Z"
   },
   {
    "duration": 34,
    "start_time": "2023-03-08T21:13:39.209Z"
   },
   {
    "duration": 1509,
    "start_time": "2023-03-08T21:13:39.245Z"
   },
   {
    "duration": 3,
    "start_time": "2023-03-08T21:13:40.756Z"
   },
   {
    "duration": 8,
    "start_time": "2023-03-08T21:13:40.760Z"
   },
   {
    "duration": 41,
    "start_time": "2023-03-08T21:13:40.769Z"
   },
   {
    "duration": 37,
    "start_time": "2023-03-08T21:13:40.814Z"
   },
   {
    "duration": 19,
    "start_time": "2023-03-08T21:13:40.852Z"
   },
   {
    "duration": 3,
    "start_time": "2023-03-08T21:13:40.872Z"
   },
   {
    "duration": 197,
    "start_time": "2023-03-08T21:13:40.876Z"
   },
   {
    "duration": 16097,
    "start_time": "2023-03-08T21:13:41.074Z"
   },
   {
    "duration": 27,
    "start_time": "2023-03-08T21:13:57.174Z"
   },
   {
    "duration": 43,
    "start_time": "2023-03-08T21:13:57.203Z"
   },
   {
    "duration": 8,
    "start_time": "2023-03-08T21:13:57.248Z"
   },
   {
    "duration": 8,
    "start_time": "2023-03-08T21:13:57.257Z"
   },
   {
    "duration": 5,
    "start_time": "2023-03-08T21:13:57.266Z"
   },
   {
    "duration": 18,
    "start_time": "2023-03-08T21:15:21.104Z"
   },
   {
    "duration": 982,
    "start_time": "2023-03-08T21:15:21.139Z"
   },
   {
    "duration": 5,
    "start_time": "2023-03-08T21:15:22.133Z"
   },
   {
    "duration": 434,
    "start_time": "2023-03-08T21:15:22.140Z"
   },
   {
    "duration": 231,
    "start_time": "2023-03-08T21:15:22.590Z"
   },
   {
    "duration": 433,
    "start_time": "2023-03-08T21:15:22.823Z"
   },
   {
    "duration": 4,
    "start_time": "2023-03-08T21:15:23.257Z"
   },
   {
    "duration": 39,
    "start_time": "2023-03-08T21:15:23.262Z"
   },
   {
    "duration": 41,
    "start_time": "2023-03-08T21:15:23.304Z"
   },
   {
    "duration": 6,
    "start_time": "2023-03-08T21:15:23.346Z"
   },
   {
    "duration": 7,
    "start_time": "2023-03-08T21:15:23.353Z"
   },
   {
    "duration": 28,
    "start_time": "2023-03-08T21:15:23.362Z"
   },
   {
    "duration": 53,
    "start_time": "2023-03-08T21:15:23.392Z"
   },
   {
    "duration": 7,
    "start_time": "2023-03-08T21:15:23.449Z"
   },
   {
    "duration": 10,
    "start_time": "2023-03-08T21:15:23.458Z"
   },
   {
    "duration": 39,
    "start_time": "2023-03-08T21:15:23.470Z"
   },
   {
    "duration": 13,
    "start_time": "2023-03-08T21:15:23.522Z"
   },
   {
    "duration": 15,
    "start_time": "2023-03-08T21:15:23.537Z"
   },
   {
    "duration": 995,
    "start_time": "2023-03-08T21:15:23.554Z"
   },
   {
    "duration": 1807,
    "start_time": "2023-03-08T21:15:24.551Z"
   },
   {
    "duration": 35,
    "start_time": "2023-03-08T21:15:26.360Z"
   },
   {
    "duration": 873,
    "start_time": "2023-03-08T21:15:26.397Z"
   },
   {
    "duration": 392,
    "start_time": "2023-03-08T21:15:27.272Z"
   },
   {
    "duration": 22,
    "start_time": "2023-03-08T21:15:27.665Z"
   },
   {
    "duration": 1641,
    "start_time": "2023-03-08T21:15:27.688Z"
   },
   {
    "duration": 45,
    "start_time": "2023-03-08T21:15:29.341Z"
   },
   {
    "duration": 23,
    "start_time": "2023-03-08T21:15:29.388Z"
   },
   {
    "duration": 1079,
    "start_time": "2023-03-08T21:15:29.415Z"
   },
   {
    "duration": 9,
    "start_time": "2023-03-08T21:15:30.495Z"
   },
   {
    "duration": 53,
    "start_time": "2023-03-08T21:15:30.505Z"
   },
   {
    "duration": 70,
    "start_time": "2023-03-08T21:15:30.559Z"
   },
   {
    "duration": 64,
    "start_time": "2023-03-08T21:15:30.630Z"
   },
   {
    "duration": 64,
    "start_time": "2023-03-08T21:15:30.696Z"
   },
   {
    "duration": 185,
    "start_time": "2023-03-08T21:15:30.762Z"
   },
   {
    "duration": 15608,
    "start_time": "2023-03-08T21:15:30.950Z"
   },
   {
    "duration": 8,
    "start_time": "2023-03-08T21:15:46.560Z"
   },
   {
    "duration": 68,
    "start_time": "2023-03-08T21:15:46.570Z"
   },
   {
    "duration": 12,
    "start_time": "2023-03-08T21:15:46.640Z"
   },
   {
    "duration": 10,
    "start_time": "2023-03-08T21:15:46.654Z"
   },
   {
    "duration": 8,
    "start_time": "2023-03-08T21:15:46.666Z"
   },
   {
    "duration": 8,
    "start_time": "2023-03-08T21:18:19.131Z"
   },
   {
    "duration": 830,
    "start_time": "2023-03-08T21:18:19.140Z"
   },
   {
    "duration": 3,
    "start_time": "2023-03-08T21:18:19.971Z"
   },
   {
    "duration": 413,
    "start_time": "2023-03-08T21:18:19.985Z"
   },
   {
    "duration": 234,
    "start_time": "2023-03-08T21:18:20.403Z"
   },
   {
    "duration": 431,
    "start_time": "2023-03-08T21:18:20.638Z"
   },
   {
    "duration": 3,
    "start_time": "2023-03-08T21:18:21.070Z"
   },
   {
    "duration": 56,
    "start_time": "2023-03-08T21:18:21.075Z"
   },
   {
    "duration": 23,
    "start_time": "2023-03-08T21:18:21.132Z"
   },
   {
    "duration": 9,
    "start_time": "2023-03-08T21:18:21.157Z"
   },
   {
    "duration": 7,
    "start_time": "2023-03-08T21:18:21.168Z"
   },
   {
    "duration": 84,
    "start_time": "2023-03-08T21:18:21.176Z"
   },
   {
    "duration": 10,
    "start_time": "2023-03-08T21:18:21.262Z"
   },
   {
    "duration": 43,
    "start_time": "2023-03-08T21:18:21.274Z"
   },
   {
    "duration": 17,
    "start_time": "2023-03-08T21:18:21.321Z"
   },
   {
    "duration": 13,
    "start_time": "2023-03-08T21:18:21.340Z"
   },
   {
    "duration": 4,
    "start_time": "2023-03-08T21:18:21.354Z"
   },
   {
    "duration": 18,
    "start_time": "2023-03-08T21:18:21.360Z"
   },
   {
    "duration": 1152,
    "start_time": "2023-03-08T21:18:21.386Z"
   },
   {
    "duration": 1704,
    "start_time": "2023-03-08T21:18:22.540Z"
   },
   {
    "duration": 24,
    "start_time": "2023-03-08T21:18:24.246Z"
   },
   {
    "duration": 1371,
    "start_time": "2023-03-08T21:18:24.272Z"
   },
   {
    "duration": 386,
    "start_time": "2023-03-08T21:18:25.644Z"
   },
   {
    "duration": 20,
    "start_time": "2023-03-08T21:18:26.033Z"
   },
   {
    "duration": 1137,
    "start_time": "2023-03-08T21:18:26.055Z"
   },
   {
    "duration": 46,
    "start_time": "2023-03-08T21:18:27.202Z"
   },
   {
    "duration": 19,
    "start_time": "2023-03-08T21:18:27.249Z"
   },
   {
    "duration": 1103,
    "start_time": "2023-03-08T21:18:27.269Z"
   },
   {
    "duration": 7,
    "start_time": "2023-03-08T21:18:28.379Z"
   },
   {
    "duration": 22,
    "start_time": "2023-03-08T21:18:28.388Z"
   },
   {
    "duration": 31,
    "start_time": "2023-03-08T21:18:28.412Z"
   },
   {
    "duration": 23,
    "start_time": "2023-03-08T21:18:28.445Z"
   },
   {
    "duration": 3,
    "start_time": "2023-03-08T21:18:28.469Z"
   },
   {
    "duration": 113,
    "start_time": "2023-03-08T21:18:28.474Z"
   },
   {
    "duration": 15146,
    "start_time": "2023-03-08T21:18:28.588Z"
   },
   {
    "duration": 10,
    "start_time": "2023-03-08T21:18:43.735Z"
   },
   {
    "duration": 4,
    "start_time": "2023-03-08T21:18:43.750Z"
   },
   {
    "duration": 10,
    "start_time": "2023-03-08T21:18:43.756Z"
   },
   {
    "duration": 28,
    "start_time": "2023-03-08T21:18:43.767Z"
   },
   {
    "duration": 42,
    "start_time": "2023-03-08T21:18:43.797Z"
   },
   {
    "duration": 1504,
    "start_time": "2023-03-08T21:19:41.122Z"
   },
   {
    "duration": 782,
    "start_time": "2023-03-08T21:19:42.633Z"
   },
   {
    "duration": 4,
    "start_time": "2023-03-08T21:19:43.417Z"
   },
   {
    "duration": 433,
    "start_time": "2023-03-08T21:19:43.423Z"
   },
   {
    "duration": 210,
    "start_time": "2023-03-08T21:19:43.859Z"
   },
   {
    "duration": 412,
    "start_time": "2023-03-08T21:19:44.071Z"
   },
   {
    "duration": 5,
    "start_time": "2023-03-08T21:19:44.485Z"
   },
   {
    "duration": 50,
    "start_time": "2023-03-08T21:19:44.492Z"
   },
   {
    "duration": 5,
    "start_time": "2023-03-08T21:19:44.544Z"
   },
   {
    "duration": 4,
    "start_time": "2023-03-08T21:19:44.551Z"
   },
   {
    "duration": 6,
    "start_time": "2023-03-08T21:19:44.557Z"
   },
   {
    "duration": 32,
    "start_time": "2023-03-08T21:19:44.565Z"
   },
   {
    "duration": 15,
    "start_time": "2023-03-08T21:19:44.599Z"
   },
   {
    "duration": 32,
    "start_time": "2023-03-08T21:19:44.618Z"
   },
   {
    "duration": 6,
    "start_time": "2023-03-08T21:19:44.651Z"
   },
   {
    "duration": 9,
    "start_time": "2023-03-08T21:19:44.658Z"
   },
   {
    "duration": 4,
    "start_time": "2023-03-08T21:19:44.668Z"
   },
   {
    "duration": 18,
    "start_time": "2023-03-08T21:19:44.673Z"
   },
   {
    "duration": 1009,
    "start_time": "2023-03-08T21:19:44.692Z"
   },
   {
    "duration": 1657,
    "start_time": "2023-03-08T21:19:45.702Z"
   },
   {
    "duration": 30,
    "start_time": "2023-03-08T21:19:47.361Z"
   },
   {
    "duration": 748,
    "start_time": "2023-03-08T21:19:47.392Z"
   },
   {
    "duration": 487,
    "start_time": "2023-03-08T21:19:48.141Z"
   },
   {
    "duration": 16,
    "start_time": "2023-03-08T21:19:48.632Z"
   },
   {
    "duration": 1196,
    "start_time": "2023-03-08T21:19:48.650Z"
   },
   {
    "duration": 66,
    "start_time": "2023-03-08T21:19:49.848Z"
   },
   {
    "duration": 27,
    "start_time": "2023-03-08T21:19:49.916Z"
   },
   {
    "duration": 1233,
    "start_time": "2023-03-08T21:19:49.945Z"
   },
   {
    "duration": 7,
    "start_time": "2023-03-08T21:19:51.179Z"
   },
   {
    "duration": 67,
    "start_time": "2023-03-08T21:19:51.189Z"
   },
   {
    "duration": 18,
    "start_time": "2023-03-08T21:19:51.258Z"
   },
   {
    "duration": 82,
    "start_time": "2023-03-08T21:19:51.278Z"
   },
   {
    "duration": 3,
    "start_time": "2023-03-08T21:19:51.362Z"
   },
   {
    "duration": 285,
    "start_time": "2023-03-08T21:19:51.367Z"
   },
   {
    "duration": 15260,
    "start_time": "2023-03-08T21:19:51.653Z"
   },
   {
    "duration": 11,
    "start_time": "2023-03-08T21:20:06.922Z"
   },
   {
    "duration": 4,
    "start_time": "2023-03-08T21:20:06.935Z"
   },
   {
    "duration": 5,
    "start_time": "2023-03-08T21:20:06.941Z"
   },
   {
    "duration": 6,
    "start_time": "2023-03-08T21:20:06.948Z"
   },
   {
    "duration": 3,
    "start_time": "2023-03-08T21:20:06.956Z"
   },
   {
    "duration": 553,
    "start_time": "2023-03-08T21:20:45.499Z"
   },
   {
    "duration": 2591,
    "start_time": "2023-03-08T21:22:18.398Z"
   },
   {
    "duration": 6,
    "start_time": "2023-03-08T21:22:42.208Z"
   },
   {
    "duration": 759,
    "start_time": "2023-03-08T21:22:42.216Z"
   },
   {
    "duration": 6,
    "start_time": "2023-03-08T21:22:42.976Z"
   },
   {
    "duration": 433,
    "start_time": "2023-03-08T21:22:42.984Z"
   },
   {
    "duration": 186,
    "start_time": "2023-03-08T21:22:43.420Z"
   },
   {
    "duration": 402,
    "start_time": "2023-03-08T21:22:43.615Z"
   },
   {
    "duration": 4,
    "start_time": "2023-03-08T21:22:44.019Z"
   },
   {
    "duration": 9,
    "start_time": "2023-03-08T21:22:44.024Z"
   },
   {
    "duration": 7,
    "start_time": "2023-03-08T21:22:44.034Z"
   },
   {
    "duration": 9,
    "start_time": "2023-03-08T21:22:44.042Z"
   },
   {
    "duration": 7,
    "start_time": "2023-03-08T21:22:44.052Z"
   },
   {
    "duration": 36,
    "start_time": "2023-03-08T21:22:44.061Z"
   },
   {
    "duration": 14,
    "start_time": "2023-03-08T21:22:44.098Z"
   },
   {
    "duration": 13,
    "start_time": "2023-03-08T21:22:44.117Z"
   },
   {
    "duration": 6,
    "start_time": "2023-03-08T21:22:44.131Z"
   },
   {
    "duration": 10,
    "start_time": "2023-03-08T21:22:44.138Z"
   },
   {
    "duration": 3,
    "start_time": "2023-03-08T21:22:44.149Z"
   },
   {
    "duration": 11,
    "start_time": "2023-03-08T21:22:44.154Z"
   },
   {
    "duration": 1039,
    "start_time": "2023-03-08T21:22:44.186Z"
   },
   {
    "duration": 1787,
    "start_time": "2023-03-08T21:22:45.226Z"
   },
   {
    "duration": 26,
    "start_time": "2023-03-08T21:22:47.016Z"
   },
   {
    "duration": 793,
    "start_time": "2023-03-08T21:22:47.043Z"
   },
   {
    "duration": 314,
    "start_time": "2023-03-08T21:22:47.838Z"
   },
   {
    "duration": 14,
    "start_time": "2023-03-08T21:22:48.154Z"
   },
   {
    "duration": 1343,
    "start_time": "2023-03-08T21:22:48.179Z"
   },
   {
    "duration": 33,
    "start_time": "2023-03-08T21:22:49.526Z"
   },
   {
    "duration": 43,
    "start_time": "2023-03-08T21:22:49.560Z"
   },
   {
    "duration": 1264,
    "start_time": "2023-03-08T21:22:49.613Z"
   },
   {
    "duration": 8,
    "start_time": "2023-03-08T21:22:50.879Z"
   },
   {
    "duration": 45,
    "start_time": "2023-03-08T21:22:50.888Z"
   },
   {
    "duration": 14,
    "start_time": "2023-03-08T21:22:50.935Z"
   },
   {
    "duration": 23,
    "start_time": "2023-03-08T21:22:50.951Z"
   },
   {
    "duration": 13,
    "start_time": "2023-03-08T21:22:50.976Z"
   },
   {
    "duration": 961,
    "start_time": "2023-03-08T21:22:50.991Z"
   },
   {
    "duration": 14973,
    "start_time": "2023-03-08T21:22:51.954Z"
   },
   {
    "duration": 6,
    "start_time": "2023-03-08T21:23:06.929Z"
   },
   {
    "duration": 4,
    "start_time": "2023-03-08T21:23:06.936Z"
   },
   {
    "duration": 30,
    "start_time": "2023-03-08T21:23:06.941Z"
   },
   {
    "duration": 64,
    "start_time": "2023-03-08T21:23:06.972Z"
   },
   {
    "duration": 4,
    "start_time": "2023-03-08T21:23:07.037Z"
   },
   {
    "duration": 4,
    "start_time": "2023-03-08T21:23:35.506Z"
   },
   {
    "duration": 797,
    "start_time": "2023-03-08T21:23:35.513Z"
   },
   {
    "duration": 4,
    "start_time": "2023-03-08T21:23:36.313Z"
   },
   {
    "duration": 393,
    "start_time": "2023-03-08T21:23:36.319Z"
   },
   {
    "duration": 192,
    "start_time": "2023-03-08T21:23:36.714Z"
   },
   {
    "duration": 383,
    "start_time": "2023-03-08T21:23:36.909Z"
   },
   {
    "duration": 3,
    "start_time": "2023-03-08T21:23:37.293Z"
   },
   {
    "duration": 10,
    "start_time": "2023-03-08T21:23:37.303Z"
   },
   {
    "duration": 6,
    "start_time": "2023-03-08T21:23:37.314Z"
   },
   {
    "duration": 4,
    "start_time": "2023-03-08T21:23:37.321Z"
   },
   {
    "duration": 9,
    "start_time": "2023-03-08T21:23:37.326Z"
   },
   {
    "duration": 22,
    "start_time": "2023-03-08T21:23:37.337Z"
   },
   {
    "duration": 32,
    "start_time": "2023-03-08T21:23:37.361Z"
   },
   {
    "duration": 9,
    "start_time": "2023-03-08T21:23:37.398Z"
   },
   {
    "duration": 10,
    "start_time": "2023-03-08T21:23:37.410Z"
   },
   {
    "duration": 9,
    "start_time": "2023-03-08T21:23:37.422Z"
   },
   {
    "duration": 3,
    "start_time": "2023-03-08T21:23:37.432Z"
   },
   {
    "duration": 13,
    "start_time": "2023-03-08T21:23:37.436Z"
   },
   {
    "duration": 870,
    "start_time": "2023-03-08T21:23:37.450Z"
   },
   {
    "duration": 1690,
    "start_time": "2023-03-08T21:23:38.321Z"
   },
   {
    "duration": 19,
    "start_time": "2023-03-08T21:23:40.013Z"
   },
   {
    "duration": 691,
    "start_time": "2023-03-08T21:23:40.033Z"
   },
   {
    "duration": 327,
    "start_time": "2023-03-08T21:23:40.726Z"
   },
   {
    "duration": 35,
    "start_time": "2023-03-08T21:23:41.054Z"
   },
   {
    "duration": 1290,
    "start_time": "2023-03-08T21:23:41.102Z"
   },
   {
    "duration": 35,
    "start_time": "2023-03-08T21:23:42.398Z"
   },
   {
    "duration": 19,
    "start_time": "2023-03-08T21:23:42.435Z"
   },
   {
    "duration": 946,
    "start_time": "2023-03-08T21:23:42.456Z"
   },
   {
    "duration": 4,
    "start_time": "2023-03-08T21:23:43.404Z"
   },
   {
    "duration": 15,
    "start_time": "2023-03-08T21:23:43.409Z"
   },
   {
    "duration": 11,
    "start_time": "2023-03-08T21:23:43.425Z"
   },
   {
    "duration": 24,
    "start_time": "2023-03-08T21:23:43.437Z"
   },
   {
    "duration": 3,
    "start_time": "2023-03-08T21:23:43.462Z"
   },
   {
    "duration": 644,
    "start_time": "2023-03-08T21:23:43.467Z"
   },
   {
    "duration": 14155,
    "start_time": "2023-03-08T21:23:44.113Z"
   },
   {
    "duration": 19,
    "start_time": "2023-03-08T21:23:58.270Z"
   },
   {
    "duration": 9,
    "start_time": "2023-03-08T21:23:58.293Z"
   },
   {
    "duration": 14,
    "start_time": "2023-03-08T21:23:58.305Z"
   },
   {
    "duration": 14,
    "start_time": "2023-03-08T21:23:58.321Z"
   },
   {
    "duration": 7,
    "start_time": "2023-03-08T21:23:58.336Z"
   },
   {
    "duration": 9,
    "start_time": "2023-03-08T21:24:45.411Z"
   },
   {
    "duration": 792,
    "start_time": "2023-03-08T21:24:45.422Z"
   },
   {
    "duration": 6,
    "start_time": "2023-03-08T21:24:46.215Z"
   },
   {
    "duration": 432,
    "start_time": "2023-03-08T21:24:46.223Z"
   },
   {
    "duration": 206,
    "start_time": "2023-03-08T21:24:46.658Z"
   },
   {
    "duration": 420,
    "start_time": "2023-03-08T21:24:46.865Z"
   },
   {
    "duration": 7,
    "start_time": "2023-03-08T21:24:47.287Z"
   },
   {
    "duration": 15,
    "start_time": "2023-03-08T21:24:47.295Z"
   },
   {
    "duration": 9,
    "start_time": "2023-03-08T21:24:47.312Z"
   },
   {
    "duration": 6,
    "start_time": "2023-03-08T21:24:47.323Z"
   },
   {
    "duration": 7,
    "start_time": "2023-03-08T21:24:47.330Z"
   },
   {
    "duration": 22,
    "start_time": "2023-03-08T21:24:47.339Z"
   },
   {
    "duration": 42,
    "start_time": "2023-03-08T21:24:47.363Z"
   },
   {
    "duration": 10,
    "start_time": "2023-03-08T21:24:47.414Z"
   },
   {
    "duration": 8,
    "start_time": "2023-03-08T21:24:47.425Z"
   },
   {
    "duration": 10,
    "start_time": "2023-03-08T21:24:47.435Z"
   },
   {
    "duration": 3,
    "start_time": "2023-03-08T21:24:47.447Z"
   },
   {
    "duration": 11,
    "start_time": "2023-03-08T21:24:47.452Z"
   },
   {
    "duration": 909,
    "start_time": "2023-03-08T21:24:47.465Z"
   },
   {
    "duration": 1793,
    "start_time": "2023-03-08T21:24:48.376Z"
   },
   {
    "duration": 40,
    "start_time": "2023-03-08T21:24:50.171Z"
   },
   {
    "duration": 939,
    "start_time": "2023-03-08T21:24:50.213Z"
   },
   {
    "duration": 408,
    "start_time": "2023-03-08T21:24:51.154Z"
   },
   {
    "duration": 32,
    "start_time": "2023-03-08T21:24:51.563Z"
   },
   {
    "duration": 1543,
    "start_time": "2023-03-08T21:24:51.596Z"
   },
   {
    "duration": 45,
    "start_time": "2023-03-08T21:24:53.141Z"
   },
   {
    "duration": 24,
    "start_time": "2023-03-08T21:24:53.188Z"
   },
   {
    "duration": 1102,
    "start_time": "2023-03-08T21:24:53.214Z"
   },
   {
    "duration": 6,
    "start_time": "2023-03-08T21:24:54.318Z"
   },
   {
    "duration": 7,
    "start_time": "2023-03-08T21:24:54.327Z"
   },
   {
    "duration": 13,
    "start_time": "2023-03-08T21:24:54.335Z"
   },
   {
    "duration": 23,
    "start_time": "2023-03-08T21:24:54.349Z"
   },
   {
    "duration": 2,
    "start_time": "2023-03-08T21:24:54.374Z"
   },
   {
    "duration": 1065,
    "start_time": "2023-03-08T21:24:54.382Z"
   },
   {
    "duration": 14991,
    "start_time": "2023-03-08T21:24:55.449Z"
   },
   {
    "duration": 6,
    "start_time": "2023-03-08T21:25:10.442Z"
   },
   {
    "duration": 4,
    "start_time": "2023-03-08T21:25:10.449Z"
   },
   {
    "duration": 7,
    "start_time": "2023-03-08T21:25:10.454Z"
   },
   {
    "duration": 25,
    "start_time": "2023-03-08T21:25:10.462Z"
   },
   {
    "duration": 33,
    "start_time": "2023-03-08T21:25:10.489Z"
   },
   {
    "duration": 9,
    "start_time": "2023-03-08T21:25:24.906Z"
   },
   {
    "duration": 758,
    "start_time": "2023-03-08T21:25:24.917Z"
   },
   {
    "duration": 9,
    "start_time": "2023-03-08T21:25:25.677Z"
   },
   {
    "duration": 486,
    "start_time": "2023-03-08T21:25:25.688Z"
   },
   {
    "duration": 217,
    "start_time": "2023-03-08T21:25:26.176Z"
   },
   {
    "duration": 386,
    "start_time": "2023-03-08T21:25:26.395Z"
   },
   {
    "duration": 7,
    "start_time": "2023-03-08T21:25:26.783Z"
   },
   {
    "duration": 36,
    "start_time": "2023-03-08T21:25:26.792Z"
   },
   {
    "duration": 6,
    "start_time": "2023-03-08T21:25:26.829Z"
   },
   {
    "duration": 5,
    "start_time": "2023-03-08T21:25:26.836Z"
   },
   {
    "duration": 9,
    "start_time": "2023-03-08T21:25:26.843Z"
   },
   {
    "duration": 39,
    "start_time": "2023-03-08T21:25:26.854Z"
   },
   {
    "duration": 11,
    "start_time": "2023-03-08T21:25:26.909Z"
   },
   {
    "duration": 8,
    "start_time": "2023-03-08T21:25:26.924Z"
   },
   {
    "duration": 7,
    "start_time": "2023-03-08T21:25:26.934Z"
   },
   {
    "duration": 11,
    "start_time": "2023-03-08T21:25:26.942Z"
   },
   {
    "duration": 3,
    "start_time": "2023-03-08T21:25:26.954Z"
   },
   {
    "duration": 14,
    "start_time": "2023-03-08T21:25:26.958Z"
   },
   {
    "duration": 871,
    "start_time": "2023-03-08T21:25:26.973Z"
   },
   {
    "duration": 1879,
    "start_time": "2023-03-08T21:25:27.846Z"
   },
   {
    "duration": 20,
    "start_time": "2023-03-08T21:25:29.727Z"
   },
   {
    "duration": 811,
    "start_time": "2023-03-08T21:25:29.749Z"
   },
   {
    "duration": 372,
    "start_time": "2023-03-08T21:25:30.562Z"
   },
   {
    "duration": 17,
    "start_time": "2023-03-08T21:25:30.937Z"
   },
   {
    "duration": 1217,
    "start_time": "2023-03-08T21:25:30.956Z"
   },
   {
    "duration": 60,
    "start_time": "2023-03-08T21:25:32.174Z"
   },
   {
    "duration": 60,
    "start_time": "2023-03-08T21:25:32.236Z"
   },
   {
    "duration": 1548,
    "start_time": "2023-03-08T21:25:32.298Z"
   },
   {
    "duration": 4,
    "start_time": "2023-03-08T21:25:33.849Z"
   },
   {
    "duration": 23,
    "start_time": "2023-03-08T21:25:33.855Z"
   },
   {
    "duration": 69,
    "start_time": "2023-03-08T21:25:33.880Z"
   },
   {
    "duration": 61,
    "start_time": "2023-03-08T21:25:33.951Z"
   },
   {
    "duration": 8,
    "start_time": "2023-03-08T21:25:34.022Z"
   },
   {
    "duration": 1122,
    "start_time": "2023-03-08T21:25:34.031Z"
   },
   {
    "duration": 14739,
    "start_time": "2023-03-08T21:25:35.155Z"
   },
   {
    "duration": 8,
    "start_time": "2023-03-08T21:25:49.896Z"
   },
   {
    "duration": 23,
    "start_time": "2023-03-08T21:25:49.905Z"
   },
   {
    "duration": 9,
    "start_time": "2023-03-08T21:25:49.929Z"
   },
   {
    "duration": 6,
    "start_time": "2023-03-08T21:25:49.940Z"
   },
   {
    "duration": 3,
    "start_time": "2023-03-08T21:25:49.948Z"
   },
   {
    "duration": 6,
    "start_time": "2023-03-08T21:27:47.819Z"
   },
   {
    "duration": 814,
    "start_time": "2023-03-08T21:27:47.827Z"
   },
   {
    "duration": 3,
    "start_time": "2023-03-08T21:27:48.643Z"
   },
   {
    "duration": 415,
    "start_time": "2023-03-08T21:27:48.647Z"
   },
   {
    "duration": 227,
    "start_time": "2023-03-08T21:27:49.064Z"
   },
   {
    "duration": 418,
    "start_time": "2023-03-08T21:27:49.293Z"
   },
   {
    "duration": 4,
    "start_time": "2023-03-08T21:27:49.712Z"
   },
   {
    "duration": 22,
    "start_time": "2023-03-08T21:27:49.717Z"
   },
   {
    "duration": 13,
    "start_time": "2023-03-08T21:27:49.741Z"
   },
   {
    "duration": 11,
    "start_time": "2023-03-08T21:27:49.756Z"
   },
   {
    "duration": 18,
    "start_time": "2023-03-08T21:27:49.768Z"
   },
   {
    "duration": 69,
    "start_time": "2023-03-08T21:27:49.787Z"
   },
   {
    "duration": 11,
    "start_time": "2023-03-08T21:27:49.858Z"
   },
   {
    "duration": 17,
    "start_time": "2023-03-08T21:27:49.872Z"
   },
   {
    "duration": 42,
    "start_time": "2023-03-08T21:27:49.891Z"
   },
   {
    "duration": 12,
    "start_time": "2023-03-08T21:27:49.934Z"
   },
   {
    "duration": 4,
    "start_time": "2023-03-08T21:27:49.947Z"
   },
   {
    "duration": 24,
    "start_time": "2023-03-08T21:27:49.952Z"
   },
   {
    "duration": 1063,
    "start_time": "2023-03-08T21:27:49.978Z"
   },
   {
    "duration": 1721,
    "start_time": "2023-03-08T21:27:51.043Z"
   },
   {
    "duration": 30,
    "start_time": "2023-03-08T21:27:52.766Z"
   },
   {
    "duration": 834,
    "start_time": "2023-03-08T21:27:52.805Z"
   },
   {
    "duration": 399,
    "start_time": "2023-03-08T21:27:53.641Z"
   },
   {
    "duration": 23,
    "start_time": "2023-03-08T21:27:54.042Z"
   },
   {
    "duration": 1834,
    "start_time": "2023-03-08T21:27:54.067Z"
   },
   {
    "duration": 49,
    "start_time": "2023-03-08T21:27:55.905Z"
   },
   {
    "duration": 46,
    "start_time": "2023-03-08T21:27:55.956Z"
   },
   {
    "duration": 1241,
    "start_time": "2023-03-08T21:27:56.004Z"
   },
   {
    "duration": 4,
    "start_time": "2023-03-08T21:27:57.247Z"
   },
   {
    "duration": 23,
    "start_time": "2023-03-08T21:27:57.253Z"
   },
   {
    "duration": 72,
    "start_time": "2023-03-08T21:27:57.281Z"
   },
   {
    "duration": 3,
    "start_time": "2023-03-08T21:27:57.355Z"
   },
   {
    "duration": 1396,
    "start_time": "2023-03-08T21:27:57.360Z"
   },
   {
    "duration": 15335,
    "start_time": "2023-03-08T21:27:58.758Z"
   },
   {
    "duration": 10,
    "start_time": "2023-03-08T21:28:14.094Z"
   },
   {
    "duration": 37,
    "start_time": "2023-03-08T21:28:14.105Z"
   },
   {
    "duration": 0,
    "start_time": "2023-03-08T21:28:14.144Z"
   },
   {
    "duration": 0,
    "start_time": "2023-03-08T21:28:14.146Z"
   },
   {
    "duration": 0,
    "start_time": "2023-03-08T21:28:14.147Z"
   },
   {
    "duration": 10,
    "start_time": "2023-03-08T21:28:22.703Z"
   },
   {
    "duration": 817,
    "start_time": "2023-03-08T21:28:22.716Z"
   },
   {
    "duration": 5,
    "start_time": "2023-03-08T21:28:23.537Z"
   },
   {
    "duration": 489,
    "start_time": "2023-03-08T21:28:23.544Z"
   },
   {
    "duration": 214,
    "start_time": "2023-03-08T21:28:24.036Z"
   },
   {
    "duration": 410,
    "start_time": "2023-03-08T21:28:24.252Z"
   },
   {
    "duration": 3,
    "start_time": "2023-03-08T21:28:24.663Z"
   },
   {
    "duration": 18,
    "start_time": "2023-03-08T21:28:24.667Z"
   },
   {
    "duration": 46,
    "start_time": "2023-03-08T21:28:24.686Z"
   },
   {
    "duration": 7,
    "start_time": "2023-03-08T21:28:24.737Z"
   },
   {
    "duration": 9,
    "start_time": "2023-03-08T21:28:24.746Z"
   },
   {
    "duration": 38,
    "start_time": "2023-03-08T21:28:24.757Z"
   },
   {
    "duration": 14,
    "start_time": "2023-03-08T21:28:24.803Z"
   },
   {
    "duration": 24,
    "start_time": "2023-03-08T21:28:24.819Z"
   },
   {
    "duration": 6,
    "start_time": "2023-03-08T21:28:24.845Z"
   },
   {
    "duration": 12,
    "start_time": "2023-03-08T21:28:24.852Z"
   },
   {
    "duration": 5,
    "start_time": "2023-03-08T21:28:24.866Z"
   },
   {
    "duration": 71,
    "start_time": "2023-03-08T21:28:24.872Z"
   },
   {
    "duration": 972,
    "start_time": "2023-03-08T21:28:24.945Z"
   },
   {
    "duration": 1723,
    "start_time": "2023-03-08T21:28:25.919Z"
   },
   {
    "duration": 20,
    "start_time": "2023-03-08T21:28:27.644Z"
   },
   {
    "duration": 1268,
    "start_time": "2023-03-08T21:28:27.665Z"
   },
   {
    "duration": 351,
    "start_time": "2023-03-08T21:28:28.935Z"
   },
   {
    "duration": 23,
    "start_time": "2023-03-08T21:28:29.287Z"
   },
   {
    "duration": 1121,
    "start_time": "2023-03-08T21:28:29.311Z"
   },
   {
    "duration": 49,
    "start_time": "2023-03-08T21:28:30.434Z"
   },
   {
    "duration": 36,
    "start_time": "2023-03-08T21:28:30.494Z"
   },
   {
    "duration": 1115,
    "start_time": "2023-03-08T21:28:30.534Z"
   },
   {
    "duration": 7,
    "start_time": "2023-03-08T21:28:31.651Z"
   },
   {
    "duration": 80,
    "start_time": "2023-03-08T21:28:31.659Z"
   },
   {
    "duration": 23,
    "start_time": "2023-03-08T21:28:31.741Z"
   },
   {
    "duration": 5,
    "start_time": "2023-03-08T21:28:31.766Z"
   },
   {
    "duration": 3714,
    "start_time": "2023-03-08T21:28:31.775Z"
   },
   {
    "duration": 15218,
    "start_time": "2023-03-08T21:28:35.493Z"
   },
   {
    "duration": 13,
    "start_time": "2023-03-08T21:28:50.713Z"
   },
   {
    "duration": 24,
    "start_time": "2023-03-08T21:28:50.729Z"
   },
   {
    "duration": 0,
    "start_time": "2023-03-08T21:28:50.755Z"
   },
   {
    "duration": 0,
    "start_time": "2023-03-08T21:28:50.756Z"
   },
   {
    "duration": 0,
    "start_time": "2023-03-08T21:28:50.757Z"
   },
   {
    "duration": 18,
    "start_time": "2023-03-08T21:29:13.475Z"
   },
   {
    "duration": 14,
    "start_time": "2023-03-08T21:29:19.601Z"
   },
   {
    "duration": 4,
    "start_time": "2023-03-08T21:29:49.457Z"
   },
   {
    "duration": 735,
    "start_time": "2023-03-08T21:29:49.464Z"
   },
   {
    "duration": 5,
    "start_time": "2023-03-08T21:29:50.202Z"
   },
   {
    "duration": 419,
    "start_time": "2023-03-08T21:29:50.209Z"
   },
   {
    "duration": 205,
    "start_time": "2023-03-08T21:29:50.630Z"
   },
   {
    "duration": 434,
    "start_time": "2023-03-08T21:29:50.837Z"
   },
   {
    "duration": 7,
    "start_time": "2023-03-08T21:29:51.273Z"
   },
   {
    "duration": 9,
    "start_time": "2023-03-08T21:29:51.282Z"
   },
   {
    "duration": 13,
    "start_time": "2023-03-08T21:29:51.292Z"
   },
   {
    "duration": 9,
    "start_time": "2023-03-08T21:29:51.307Z"
   },
   {
    "duration": 11,
    "start_time": "2023-03-08T21:29:51.319Z"
   },
   {
    "duration": 53,
    "start_time": "2023-03-08T21:29:51.333Z"
   },
   {
    "duration": 19,
    "start_time": "2023-03-08T21:29:51.388Z"
   },
   {
    "duration": 21,
    "start_time": "2023-03-08T21:29:51.408Z"
   },
   {
    "duration": 16,
    "start_time": "2023-03-08T21:29:51.431Z"
   },
   {
    "duration": 12,
    "start_time": "2023-03-08T21:29:51.449Z"
   },
   {
    "duration": 17,
    "start_time": "2023-03-08T21:29:51.463Z"
   },
   {
    "duration": 18,
    "start_time": "2023-03-08T21:29:51.483Z"
   },
   {
    "duration": 943,
    "start_time": "2023-03-08T21:29:51.503Z"
   },
   {
    "duration": 1535,
    "start_time": "2023-03-08T21:29:52.448Z"
   },
   {
    "duration": 26,
    "start_time": "2023-03-08T21:29:53.986Z"
   },
   {
    "duration": 753,
    "start_time": "2023-03-08T21:29:54.014Z"
   },
   {
    "duration": 1051,
    "start_time": "2023-03-08T21:29:54.769Z"
   },
   {
    "duration": 23,
    "start_time": "2023-03-08T21:29:55.822Z"
   },
   {
    "duration": 1162,
    "start_time": "2023-03-08T21:29:55.847Z"
   },
   {
    "duration": 32,
    "start_time": "2023-03-08T21:29:57.011Z"
   },
   {
    "duration": 45,
    "start_time": "2023-03-08T21:29:57.044Z"
   },
   {
    "duration": 1093,
    "start_time": "2023-03-08T21:29:57.091Z"
   },
   {
    "duration": 6,
    "start_time": "2023-03-08T21:29:58.188Z"
   },
   {
    "duration": 33,
    "start_time": "2023-03-08T21:29:58.196Z"
   },
   {
    "duration": 20,
    "start_time": "2023-03-08T21:29:58.230Z"
   },
   {
    "duration": 3,
    "start_time": "2023-03-08T21:29:58.251Z"
   },
   {
    "duration": 3725,
    "start_time": "2023-03-08T21:29:58.255Z"
   },
   {
    "duration": 14302,
    "start_time": "2023-03-08T21:30:01.983Z"
   },
   {
    "duration": 10,
    "start_time": "2023-03-08T21:30:16.288Z"
   },
   {
    "duration": 27,
    "start_time": "2023-03-08T21:30:16.300Z"
   },
   {
    "duration": 0,
    "start_time": "2023-03-08T21:30:16.329Z"
   },
   {
    "duration": 0,
    "start_time": "2023-03-08T21:30:16.330Z"
   },
   {
    "duration": 0,
    "start_time": "2023-03-08T21:30:16.331Z"
   },
   {
    "duration": 14,
    "start_time": "2023-03-08T21:30:30.858Z"
   },
   {
    "duration": 11,
    "start_time": "2023-03-08T21:30:37.916Z"
   },
   {
    "duration": 9,
    "start_time": "2023-03-08T21:34:06.364Z"
   },
   {
    "duration": 3,
    "start_time": "2023-03-08T21:34:11.764Z"
   },
   {
    "duration": 3,
    "start_time": "2023-03-08T21:34:31.019Z"
   },
   {
    "duration": 4,
    "start_time": "2023-03-08T21:34:34.416Z"
   },
   {
    "duration": 649,
    "start_time": "2023-03-08T21:34:34.422Z"
   },
   {
    "duration": 6,
    "start_time": "2023-03-08T21:34:35.073Z"
   },
   {
    "duration": 362,
    "start_time": "2023-03-08T21:34:35.082Z"
   },
   {
    "duration": 165,
    "start_time": "2023-03-08T21:34:35.445Z"
   },
   {
    "duration": 364,
    "start_time": "2023-03-08T21:34:35.611Z"
   },
   {
    "duration": 4,
    "start_time": "2023-03-08T21:34:35.979Z"
   },
   {
    "duration": 19,
    "start_time": "2023-03-08T21:34:35.984Z"
   },
   {
    "duration": 13,
    "start_time": "2023-03-08T21:34:36.006Z"
   },
   {
    "duration": 9,
    "start_time": "2023-03-08T21:34:36.021Z"
   },
   {
    "duration": 7,
    "start_time": "2023-03-08T21:34:36.032Z"
   },
   {
    "duration": 44,
    "start_time": "2023-03-08T21:34:36.042Z"
   },
   {
    "duration": 11,
    "start_time": "2023-03-08T21:34:36.088Z"
   },
   {
    "duration": 9,
    "start_time": "2023-03-08T21:34:36.101Z"
   },
   {
    "duration": 21,
    "start_time": "2023-03-08T21:34:36.111Z"
   },
   {
    "duration": 11,
    "start_time": "2023-03-08T21:34:36.135Z"
   },
   {
    "duration": 9,
    "start_time": "2023-03-08T21:34:36.148Z"
   },
   {
    "duration": 36,
    "start_time": "2023-03-08T21:34:36.159Z"
   },
   {
    "duration": 852,
    "start_time": "2023-03-08T21:34:36.197Z"
   },
   {
    "duration": 1271,
    "start_time": "2023-03-08T21:34:37.051Z"
   },
   {
    "duration": 20,
    "start_time": "2023-03-08T21:34:38.324Z"
   },
   {
    "duration": 625,
    "start_time": "2023-03-08T21:34:38.346Z"
   },
   {
    "duration": 300,
    "start_time": "2023-03-08T21:34:38.973Z"
   },
   {
    "duration": 15,
    "start_time": "2023-03-08T21:34:39.280Z"
   },
   {
    "duration": 1580,
    "start_time": "2023-03-08T21:34:39.297Z"
   },
   {
    "duration": 34,
    "start_time": "2023-03-08T21:34:40.879Z"
   },
   {
    "duration": 25,
    "start_time": "2023-03-08T21:34:40.914Z"
   },
   {
    "duration": 921,
    "start_time": "2023-03-08T21:34:40.941Z"
   },
   {
    "duration": 5,
    "start_time": "2023-03-08T21:34:41.865Z"
   },
   {
    "duration": 17,
    "start_time": "2023-03-08T21:34:41.872Z"
   },
   {
    "duration": 9,
    "start_time": "2023-03-08T21:34:41.891Z"
   },
   {
    "duration": 23,
    "start_time": "2023-03-08T21:34:41.902Z"
   },
   {
    "duration": 23,
    "start_time": "2023-03-08T21:34:41.926Z"
   },
   {
    "duration": 1831,
    "start_time": "2023-03-08T21:34:41.951Z"
   },
   {
    "duration": 13825,
    "start_time": "2023-03-08T21:34:43.784Z"
   },
   {
    "duration": 6,
    "start_time": "2023-03-08T21:34:57.610Z"
   },
   {
    "duration": 16,
    "start_time": "2023-03-08T21:34:57.618Z"
   },
   {
    "duration": 0,
    "start_time": "2023-03-08T21:34:57.636Z"
   },
   {
    "duration": 0,
    "start_time": "2023-03-08T21:34:57.637Z"
   },
   {
    "duration": 0,
    "start_time": "2023-03-08T21:34:57.638Z"
   },
   {
    "duration": 12,
    "start_time": "2023-03-08T21:35:15.016Z"
   },
   {
    "duration": 10,
    "start_time": "2023-03-08T21:35:21.336Z"
   },
   {
    "duration": 10,
    "start_time": "2023-03-08T21:36:07.318Z"
   },
   {
    "duration": 6,
    "start_time": "2023-03-08T21:36:20.339Z"
   },
   {
    "duration": 4,
    "start_time": "2023-03-08T21:36:37.281Z"
   },
   {
    "duration": 9,
    "start_time": "2023-03-08T21:36:40.220Z"
   },
   {
    "duration": 13,
    "start_time": "2023-03-08T21:36:41.078Z"
   },
   {
    "duration": 9,
    "start_time": "2023-03-08T21:37:02.498Z"
   },
   {
    "duration": 10,
    "start_time": "2023-03-08T21:37:05.578Z"
   },
   {
    "duration": 19,
    "start_time": "2023-03-08T21:37:06.724Z"
   },
   {
    "duration": 3,
    "start_time": "2023-03-08T21:38:57.607Z"
   },
   {
    "duration": 625,
    "start_time": "2023-03-08T21:38:57.612Z"
   },
   {
    "duration": 3,
    "start_time": "2023-03-08T21:38:58.239Z"
   },
   {
    "duration": 388,
    "start_time": "2023-03-08T21:38:58.244Z"
   },
   {
    "duration": 182,
    "start_time": "2023-03-08T21:38:58.634Z"
   },
   {
    "duration": 391,
    "start_time": "2023-03-08T21:38:58.818Z"
   },
   {
    "duration": 3,
    "start_time": "2023-03-08T21:38:59.211Z"
   },
   {
    "duration": 16,
    "start_time": "2023-03-08T21:38:59.216Z"
   },
   {
    "duration": 5,
    "start_time": "2023-03-08T21:38:59.236Z"
   },
   {
    "duration": 10,
    "start_time": "2023-03-08T21:38:59.242Z"
   },
   {
    "duration": 26,
    "start_time": "2023-03-08T21:38:59.253Z"
   },
   {
    "duration": 25,
    "start_time": "2023-03-08T21:38:59.281Z"
   },
   {
    "duration": 9,
    "start_time": "2023-03-08T21:38:59.308Z"
   },
   {
    "duration": 7,
    "start_time": "2023-03-08T21:38:59.319Z"
   },
   {
    "duration": 8,
    "start_time": "2023-03-08T21:38:59.328Z"
   },
   {
    "duration": 11,
    "start_time": "2023-03-08T21:38:59.338Z"
   },
   {
    "duration": 30,
    "start_time": "2023-03-08T21:38:59.351Z"
   },
   {
    "duration": 16,
    "start_time": "2023-03-08T21:38:59.384Z"
   },
   {
    "duration": 877,
    "start_time": "2023-03-08T21:38:59.402Z"
   },
   {
    "duration": 1402,
    "start_time": "2023-03-08T21:39:00.281Z"
   },
   {
    "duration": 21,
    "start_time": "2023-03-08T21:39:01.685Z"
   },
   {
    "duration": 679,
    "start_time": "2023-03-08T21:39:01.708Z"
   },
   {
    "duration": 304,
    "start_time": "2023-03-08T21:39:02.388Z"
   },
   {
    "duration": 15,
    "start_time": "2023-03-08T21:39:02.696Z"
   },
   {
    "duration": 948,
    "start_time": "2023-03-08T21:39:02.712Z"
   },
   {
    "duration": 38,
    "start_time": "2023-03-08T21:39:03.662Z"
   },
   {
    "duration": 23,
    "start_time": "2023-03-08T21:39:03.701Z"
   },
   {
    "duration": 1710,
    "start_time": "2023-03-08T21:39:03.726Z"
   },
   {
    "duration": 3,
    "start_time": "2023-03-08T21:39:05.438Z"
   },
   {
    "duration": 8,
    "start_time": "2023-03-08T21:39:05.443Z"
   },
   {
    "duration": 5,
    "start_time": "2023-03-08T21:39:05.453Z"
   },
   {
    "duration": 23,
    "start_time": "2023-03-08T21:39:05.460Z"
   },
   {
    "duration": 21,
    "start_time": "2023-03-08T21:39:05.484Z"
   },
   {
    "duration": 3,
    "start_time": "2023-03-08T21:39:05.506Z"
   },
   {
    "duration": 1379,
    "start_time": "2023-03-08T21:39:05.511Z"
   },
   {
    "duration": 13490,
    "start_time": "2023-03-08T21:39:06.891Z"
   },
   {
    "duration": 6,
    "start_time": "2023-03-08T21:39:20.383Z"
   },
   {
    "duration": 20,
    "start_time": "2023-03-08T21:39:20.390Z"
   },
   {
    "duration": 0,
    "start_time": "2023-03-08T21:39:20.412Z"
   },
   {
    "duration": 0,
    "start_time": "2023-03-08T21:39:20.413Z"
   },
   {
    "duration": 0,
    "start_time": "2023-03-08T21:39:20.414Z"
   },
   {
    "duration": 3,
    "start_time": "2023-03-08T21:40:15.283Z"
   },
   {
    "duration": 635,
    "start_time": "2023-03-08T21:40:15.299Z"
   },
   {
    "duration": 7,
    "start_time": "2023-03-08T21:40:15.937Z"
   },
   {
    "duration": 438,
    "start_time": "2023-03-08T21:40:15.946Z"
   },
   {
    "duration": 171,
    "start_time": "2023-03-08T21:40:16.386Z"
   },
   {
    "duration": 384,
    "start_time": "2023-03-08T21:40:16.559Z"
   },
   {
    "duration": 5,
    "start_time": "2023-03-08T21:40:16.945Z"
   },
   {
    "duration": 12,
    "start_time": "2023-03-08T21:40:16.951Z"
   },
   {
    "duration": 17,
    "start_time": "2023-03-08T21:40:16.965Z"
   },
   {
    "duration": 5,
    "start_time": "2023-03-08T21:40:16.983Z"
   },
   {
    "duration": 8,
    "start_time": "2023-03-08T21:40:16.990Z"
   },
   {
    "duration": 24,
    "start_time": "2023-03-08T21:40:16.999Z"
   },
   {
    "duration": 9,
    "start_time": "2023-03-08T21:40:17.025Z"
   },
   {
    "duration": 8,
    "start_time": "2023-03-08T21:40:17.036Z"
   },
   {
    "duration": 36,
    "start_time": "2023-03-08T21:40:17.047Z"
   },
   {
    "duration": 9,
    "start_time": "2023-03-08T21:40:17.085Z"
   },
   {
    "duration": 9,
    "start_time": "2023-03-08T21:40:17.095Z"
   },
   {
    "duration": 11,
    "start_time": "2023-03-08T21:40:17.106Z"
   },
   {
    "duration": 833,
    "start_time": "2023-03-08T21:40:17.119Z"
   },
   {
    "duration": 1282,
    "start_time": "2023-03-08T21:40:17.954Z"
   },
   {
    "duration": 20,
    "start_time": "2023-03-08T21:40:19.237Z"
   },
   {
    "duration": 667,
    "start_time": "2023-03-08T21:40:19.259Z"
   },
   {
    "duration": 293,
    "start_time": "2023-03-08T21:40:19.928Z"
   },
   {
    "duration": 16,
    "start_time": "2023-03-08T21:40:20.223Z"
   },
   {
    "duration": 967,
    "start_time": "2023-03-08T21:40:20.240Z"
   },
   {
    "duration": 37,
    "start_time": "2023-03-08T21:40:21.208Z"
   },
   {
    "duration": 34,
    "start_time": "2023-03-08T21:40:21.247Z"
   },
   {
    "duration": 1069,
    "start_time": "2023-03-08T21:40:21.282Z"
   },
   {
    "duration": 3,
    "start_time": "2023-03-08T21:40:22.353Z"
   },
   {
    "duration": 7,
    "start_time": "2023-03-08T21:40:22.358Z"
   },
   {
    "duration": 15,
    "start_time": "2023-03-08T21:40:22.366Z"
   },
   {
    "duration": 23,
    "start_time": "2023-03-08T21:40:22.383Z"
   },
   {
    "duration": 2,
    "start_time": "2023-03-08T21:40:22.408Z"
   },
   {
    "duration": 2175,
    "start_time": "2023-03-08T21:40:22.412Z"
   },
   {
    "duration": 13889,
    "start_time": "2023-03-08T21:40:24.589Z"
   },
   {
    "duration": 6,
    "start_time": "2023-03-08T21:40:38.480Z"
   },
   {
    "duration": 13,
    "start_time": "2023-03-08T21:40:38.488Z"
   },
   {
    "duration": 8,
    "start_time": "2023-03-08T21:40:38.503Z"
   },
   {
    "duration": 7,
    "start_time": "2023-03-08T21:40:38.512Z"
   },
   {
    "duration": 4,
    "start_time": "2023-03-08T21:40:38.520Z"
   },
   {
    "duration": 3,
    "start_time": "2023-03-08T21:41:45.710Z"
   },
   {
    "duration": 732,
    "start_time": "2023-03-08T21:41:45.723Z"
   },
   {
    "duration": 4,
    "start_time": "2023-03-08T21:41:46.457Z"
   },
   {
    "duration": 369,
    "start_time": "2023-03-08T21:41:46.463Z"
   },
   {
    "duration": 183,
    "start_time": "2023-03-08T21:41:46.833Z"
   },
   {
    "duration": 373,
    "start_time": "2023-03-08T21:41:47.018Z"
   },
   {
    "duration": 3,
    "start_time": "2023-03-08T21:41:47.394Z"
   },
   {
    "duration": 10,
    "start_time": "2023-03-08T21:41:47.400Z"
   },
   {
    "duration": 5,
    "start_time": "2023-03-08T21:41:47.412Z"
   },
   {
    "duration": 4,
    "start_time": "2023-03-08T21:41:47.418Z"
   },
   {
    "duration": 7,
    "start_time": "2023-03-08T21:41:47.423Z"
   },
   {
    "duration": 24,
    "start_time": "2023-03-08T21:41:47.432Z"
   },
   {
    "duration": 16,
    "start_time": "2023-03-08T21:41:47.485Z"
   },
   {
    "duration": 8,
    "start_time": "2023-03-08T21:41:47.503Z"
   },
   {
    "duration": 7,
    "start_time": "2023-03-08T21:41:47.514Z"
   },
   {
    "duration": 10,
    "start_time": "2023-03-08T21:41:47.522Z"
   },
   {
    "duration": 4,
    "start_time": "2023-03-08T21:41:47.533Z"
   },
   {
    "duration": 13,
    "start_time": "2023-03-08T21:41:47.539Z"
   },
   {
    "duration": 858,
    "start_time": "2023-03-08T21:41:47.581Z"
   },
   {
    "duration": 2240,
    "start_time": "2023-03-08T21:41:48.440Z"
   },
   {
    "duration": 22,
    "start_time": "2023-03-08T21:41:50.687Z"
   },
   {
    "duration": 754,
    "start_time": "2023-03-08T21:41:50.710Z"
   },
   {
    "duration": 323,
    "start_time": "2023-03-08T21:41:51.465Z"
   },
   {
    "duration": 18,
    "start_time": "2023-03-08T21:41:51.790Z"
   },
   {
    "duration": 1048,
    "start_time": "2023-03-08T21:41:51.809Z"
   },
   {
    "duration": 47,
    "start_time": "2023-03-08T21:41:52.859Z"
   },
   {
    "duration": 21,
    "start_time": "2023-03-08T21:41:52.908Z"
   },
   {
    "duration": 1003,
    "start_time": "2023-03-08T21:41:52.931Z"
   },
   {
    "duration": 4,
    "start_time": "2023-03-08T21:41:53.936Z"
   },
   {
    "duration": 6,
    "start_time": "2023-03-08T21:41:53.942Z"
   },
   {
    "duration": 8,
    "start_time": "2023-03-08T21:41:53.950Z"
   },
   {
    "duration": 35,
    "start_time": "2023-03-08T21:41:53.960Z"
   },
   {
    "duration": 3,
    "start_time": "2023-03-08T21:41:53.996Z"
   },
   {
    "duration": 4996,
    "start_time": "2023-03-08T21:41:54.001Z"
   },
   {
    "duration": 14046,
    "start_time": "2023-03-08T21:41:59.000Z"
   },
   {
    "duration": 7,
    "start_time": "2023-03-08T21:42:13.047Z"
   },
   {
    "duration": 5,
    "start_time": "2023-03-08T21:42:13.055Z"
   },
   {
    "duration": 35,
    "start_time": "2023-03-08T21:42:13.061Z"
   },
   {
    "duration": 11,
    "start_time": "2023-03-08T21:42:13.098Z"
   },
   {
    "duration": 5,
    "start_time": "2023-03-08T21:42:13.111Z"
   },
   {
    "duration": 5,
    "start_time": "2023-03-08T21:43:03.685Z"
   },
   {
    "duration": 652,
    "start_time": "2023-03-08T21:43:03.701Z"
   },
   {
    "duration": 3,
    "start_time": "2023-03-08T21:43:04.355Z"
   },
   {
    "duration": 384,
    "start_time": "2023-03-08T21:43:04.360Z"
   },
   {
    "duration": 181,
    "start_time": "2023-03-08T21:43:04.746Z"
   },
   {
    "duration": 377,
    "start_time": "2023-03-08T21:43:04.929Z"
   },
   {
    "duration": 3,
    "start_time": "2023-03-08T21:43:05.307Z"
   },
   {
    "duration": 10,
    "start_time": "2023-03-08T21:43:05.312Z"
   },
   {
    "duration": 5,
    "start_time": "2023-03-08T21:43:05.323Z"
   },
   {
    "duration": 6,
    "start_time": "2023-03-08T21:43:05.329Z"
   },
   {
    "duration": 6,
    "start_time": "2023-03-08T21:43:05.337Z"
   },
   {
    "duration": 56,
    "start_time": "2023-03-08T21:43:05.345Z"
   },
   {
    "duration": 10,
    "start_time": "2023-03-08T21:43:05.403Z"
   },
   {
    "duration": 7,
    "start_time": "2023-03-08T21:43:05.415Z"
   },
   {
    "duration": 12,
    "start_time": "2023-03-08T21:43:05.425Z"
   },
   {
    "duration": 43,
    "start_time": "2023-03-08T21:43:05.439Z"
   },
   {
    "duration": 4,
    "start_time": "2023-03-08T21:43:05.483Z"
   },
   {
    "duration": 19,
    "start_time": "2023-03-08T21:43:05.489Z"
   },
   {
    "duration": 1067,
    "start_time": "2023-03-08T21:43:05.509Z"
   },
   {
    "duration": 1357,
    "start_time": "2023-03-08T21:43:06.580Z"
   },
   {
    "duration": 21,
    "start_time": "2023-03-08T21:43:07.938Z"
   },
   {
    "duration": 659,
    "start_time": "2023-03-08T21:43:07.960Z"
   },
   {
    "duration": 310,
    "start_time": "2023-03-08T21:43:08.622Z"
   },
   {
    "duration": 16,
    "start_time": "2023-03-08T21:43:08.934Z"
   },
   {
    "duration": 960,
    "start_time": "2023-03-08T21:43:08.952Z"
   },
   {
    "duration": 37,
    "start_time": "2023-03-08T21:43:09.914Z"
   },
   {
    "duration": 39,
    "start_time": "2023-03-08T21:43:09.953Z"
   },
   {
    "duration": 874,
    "start_time": "2023-03-08T21:43:09.994Z"
   },
   {
    "duration": 10,
    "start_time": "2023-03-08T21:43:10.869Z"
   },
   {
    "duration": 10,
    "start_time": "2023-03-08T21:43:10.881Z"
   },
   {
    "duration": 30,
    "start_time": "2023-03-08T21:43:10.893Z"
   },
   {
    "duration": 3,
    "start_time": "2023-03-08T21:43:10.926Z"
   },
   {
    "duration": 2050,
    "start_time": "2023-03-08T21:43:10.930Z"
   },
   {
    "duration": 14372,
    "start_time": "2023-03-08T21:43:12.983Z"
   },
   {
    "duration": 8,
    "start_time": "2023-03-08T21:43:27.357Z"
   },
   {
    "duration": 23,
    "start_time": "2023-03-08T21:43:27.366Z"
   },
   {
    "duration": 0,
    "start_time": "2023-03-08T21:43:27.391Z"
   },
   {
    "duration": 0,
    "start_time": "2023-03-08T21:43:27.392Z"
   },
   {
    "duration": 0,
    "start_time": "2023-03-08T21:43:27.393Z"
   },
   {
    "duration": 5,
    "start_time": "2023-03-08T21:50:42.032Z"
   },
   {
    "duration": 688,
    "start_time": "2023-03-08T21:50:42.039Z"
   },
   {
    "duration": 4,
    "start_time": "2023-03-08T21:50:42.728Z"
   },
   {
    "duration": 1410,
    "start_time": "2023-03-08T21:50:42.733Z"
   },
   {
    "duration": 175,
    "start_time": "2023-03-08T21:50:44.146Z"
   },
   {
    "duration": 376,
    "start_time": "2023-03-08T21:50:44.322Z"
   },
   {
    "duration": 2,
    "start_time": "2023-03-08T21:50:44.700Z"
   },
   {
    "duration": 28,
    "start_time": "2023-03-08T21:50:44.704Z"
   },
   {
    "duration": 4,
    "start_time": "2023-03-08T21:50:44.734Z"
   },
   {
    "duration": 5,
    "start_time": "2023-03-08T21:50:44.739Z"
   },
   {
    "duration": 5,
    "start_time": "2023-03-08T21:50:44.746Z"
   },
   {
    "duration": 32,
    "start_time": "2023-03-08T21:50:44.753Z"
   },
   {
    "duration": 9,
    "start_time": "2023-03-08T21:50:44.794Z"
   },
   {
    "duration": 6,
    "start_time": "2023-03-08T21:50:44.806Z"
   },
   {
    "duration": 6,
    "start_time": "2023-03-08T21:50:44.814Z"
   },
   {
    "duration": 9,
    "start_time": "2023-03-08T21:50:44.822Z"
   },
   {
    "duration": 3,
    "start_time": "2023-03-08T21:50:44.832Z"
   },
   {
    "duration": 16,
    "start_time": "2023-03-08T21:50:44.837Z"
   },
   {
    "duration": 838,
    "start_time": "2023-03-08T21:50:44.855Z"
   },
   {
    "duration": 1409,
    "start_time": "2023-03-08T21:50:45.694Z"
   },
   {
    "duration": 22,
    "start_time": "2023-03-08T21:50:47.105Z"
   },
   {
    "duration": 637,
    "start_time": "2023-03-08T21:50:47.129Z"
   },
   {
    "duration": 302,
    "start_time": "2023-03-08T21:50:47.768Z"
   },
   {
    "duration": 28,
    "start_time": "2023-03-08T21:50:48.071Z"
   },
   {
    "duration": 952,
    "start_time": "2023-03-08T21:50:48.100Z"
   },
   {
    "duration": 45,
    "start_time": "2023-03-08T21:50:49.054Z"
   },
   {
    "duration": 29,
    "start_time": "2023-03-08T21:50:49.100Z"
   },
   {
    "duration": 883,
    "start_time": "2023-03-08T21:50:49.131Z"
   },
   {
    "duration": 5,
    "start_time": "2023-03-08T21:50:50.016Z"
   },
   {
    "duration": 9,
    "start_time": "2023-03-08T21:50:50.023Z"
   },
   {
    "duration": 21,
    "start_time": "2023-03-08T21:50:50.033Z"
   },
   {
    "duration": 3,
    "start_time": "2023-03-08T21:50:50.055Z"
   },
   {
    "duration": 2830,
    "start_time": "2023-03-08T21:50:50.059Z"
   },
   {
    "duration": 14361,
    "start_time": "2023-03-08T21:50:52.895Z"
   },
   {
    "duration": 7,
    "start_time": "2023-03-08T21:51:07.257Z"
   },
   {
    "duration": 29,
    "start_time": "2023-03-08T21:51:07.265Z"
   },
   {
    "duration": 0,
    "start_time": "2023-03-08T21:51:07.296Z"
   },
   {
    "duration": 0,
    "start_time": "2023-03-08T21:51:07.297Z"
   },
   {
    "duration": 0,
    "start_time": "2023-03-08T21:51:07.298Z"
   },
   {
    "duration": 5,
    "start_time": "2023-03-08T21:51:36.110Z"
   },
   {
    "duration": 685,
    "start_time": "2023-03-08T21:51:36.118Z"
   },
   {
    "duration": 3,
    "start_time": "2023-03-08T21:51:36.805Z"
   },
   {
    "duration": 360,
    "start_time": "2023-03-08T21:51:36.810Z"
   },
   {
    "duration": 185,
    "start_time": "2023-03-08T21:51:37.172Z"
   },
   {
    "duration": 356,
    "start_time": "2023-03-08T21:51:37.359Z"
   },
   {
    "duration": 3,
    "start_time": "2023-03-08T21:51:37.716Z"
   },
   {
    "duration": 11,
    "start_time": "2023-03-08T21:51:37.720Z"
   },
   {
    "duration": 4,
    "start_time": "2023-03-08T21:51:37.733Z"
   },
   {
    "duration": 4,
    "start_time": "2023-03-08T21:51:37.739Z"
   },
   {
    "duration": 6,
    "start_time": "2023-03-08T21:51:37.744Z"
   },
   {
    "duration": 45,
    "start_time": "2023-03-08T21:51:37.752Z"
   },
   {
    "duration": 9,
    "start_time": "2023-03-08T21:51:37.799Z"
   },
   {
    "duration": 7,
    "start_time": "2023-03-08T21:51:37.810Z"
   },
   {
    "duration": 9,
    "start_time": "2023-03-08T21:51:37.818Z"
   },
   {
    "duration": 10,
    "start_time": "2023-03-08T21:51:37.829Z"
   },
   {
    "duration": 3,
    "start_time": "2023-03-08T21:51:37.841Z"
   },
   {
    "duration": 54,
    "start_time": "2023-03-08T21:51:37.845Z"
   },
   {
    "duration": 859,
    "start_time": "2023-03-08T21:51:37.901Z"
   },
   {
    "duration": 1336,
    "start_time": "2023-03-08T21:51:38.761Z"
   },
   {
    "duration": 20,
    "start_time": "2023-03-08T21:51:40.099Z"
   },
   {
    "duration": 884,
    "start_time": "2023-03-08T21:51:40.121Z"
   },
   {
    "duration": 313,
    "start_time": "2023-03-08T21:51:41.008Z"
   },
   {
    "duration": 16,
    "start_time": "2023-03-08T21:51:41.324Z"
   },
   {
    "duration": 964,
    "start_time": "2023-03-08T21:51:41.341Z"
   },
   {
    "duration": 36,
    "start_time": "2023-03-08T21:51:42.308Z"
   },
   {
    "duration": 48,
    "start_time": "2023-03-08T21:51:42.346Z"
   },
   {
    "duration": 2117,
    "start_time": "2023-03-08T21:51:42.396Z"
   },
   {
    "duration": 4,
    "start_time": "2023-03-08T21:51:44.515Z"
   },
   {
    "duration": 15,
    "start_time": "2023-03-08T21:51:44.520Z"
   },
   {
    "duration": 21,
    "start_time": "2023-03-08T21:51:44.536Z"
   },
   {
    "duration": 3,
    "start_time": "2023-03-08T21:51:44.558Z"
   },
   {
    "duration": 2126,
    "start_time": "2023-03-08T21:51:44.563Z"
   },
   {
    "duration": 14321,
    "start_time": "2023-03-08T21:51:46.698Z"
   },
   {
    "duration": 7,
    "start_time": "2023-03-08T21:52:01.020Z"
   },
   {
    "duration": 31,
    "start_time": "2023-03-08T21:52:01.030Z"
   },
   {
    "duration": 0,
    "start_time": "2023-03-08T21:52:01.063Z"
   },
   {
    "duration": 0,
    "start_time": "2023-03-08T21:52:01.065Z"
   },
   {
    "duration": 0,
    "start_time": "2023-03-08T21:52:01.066Z"
   },
   {
    "duration": 4,
    "start_time": "2023-03-08T21:54:28.535Z"
   },
   {
    "duration": 595,
    "start_time": "2023-03-08T21:54:28.550Z"
   },
   {
    "duration": 5,
    "start_time": "2023-03-08T21:54:29.147Z"
   },
   {
    "duration": 369,
    "start_time": "2023-03-08T21:54:29.153Z"
   },
   {
    "duration": 179,
    "start_time": "2023-03-08T21:54:29.524Z"
   },
   {
    "duration": 348,
    "start_time": "2023-03-08T21:54:29.706Z"
   },
   {
    "duration": 2,
    "start_time": "2023-03-08T21:54:30.056Z"
   },
   {
    "duration": 23,
    "start_time": "2023-03-08T21:54:30.059Z"
   },
   {
    "duration": 5,
    "start_time": "2023-03-08T21:54:30.083Z"
   },
   {
    "duration": 18,
    "start_time": "2023-03-08T21:54:30.089Z"
   },
   {
    "duration": 10,
    "start_time": "2023-03-08T21:54:30.108Z"
   },
   {
    "duration": 39,
    "start_time": "2023-03-08T21:54:30.120Z"
   },
   {
    "duration": 10,
    "start_time": "2023-03-08T21:54:30.161Z"
   },
   {
    "duration": 8,
    "start_time": "2023-03-08T21:54:30.172Z"
   },
   {
    "duration": 25,
    "start_time": "2023-03-08T21:54:30.183Z"
   },
   {
    "duration": 12,
    "start_time": "2023-03-08T21:54:30.209Z"
   },
   {
    "duration": 32,
    "start_time": "2023-03-08T21:54:30.222Z"
   },
   {
    "duration": 28,
    "start_time": "2023-03-08T21:54:30.255Z"
   },
   {
    "duration": 874,
    "start_time": "2023-03-08T21:54:30.284Z"
   },
   {
    "duration": 1273,
    "start_time": "2023-03-08T21:54:31.160Z"
   },
   {
    "duration": 19,
    "start_time": "2023-03-08T21:54:32.434Z"
   },
   {
    "duration": 645,
    "start_time": "2023-03-08T21:54:32.455Z"
   },
   {
    "duration": 290,
    "start_time": "2023-03-08T21:54:33.101Z"
   },
   {
    "duration": 15,
    "start_time": "2023-03-08T21:54:33.393Z"
   },
   {
    "duration": 948,
    "start_time": "2023-03-08T21:54:33.409Z"
   },
   {
    "duration": 36,
    "start_time": "2023-03-08T21:54:34.358Z"
   },
   {
    "duration": 19,
    "start_time": "2023-03-08T21:54:34.396Z"
   },
   {
    "duration": 899,
    "start_time": "2023-03-08T21:54:34.417Z"
   },
   {
    "duration": 3,
    "start_time": "2023-03-08T21:54:35.318Z"
   },
   {
    "duration": 12,
    "start_time": "2023-03-08T21:54:35.322Z"
   },
   {
    "duration": 11,
    "start_time": "2023-03-08T21:54:35.335Z"
   },
   {
    "duration": 20,
    "start_time": "2023-03-08T21:54:35.348Z"
   },
   {
    "duration": 3,
    "start_time": "2023-03-08T21:54:35.370Z"
   },
   {
    "duration": 511,
    "start_time": "2023-03-08T21:54:35.374Z"
   },
   {
    "duration": 13425,
    "start_time": "2023-03-08T21:54:35.887Z"
   },
   {
    "duration": 7,
    "start_time": "2023-03-08T21:54:49.313Z"
   },
   {
    "duration": 8,
    "start_time": "2023-03-08T21:54:49.321Z"
   },
   {
    "duration": 6,
    "start_time": "2023-03-08T21:54:49.330Z"
   },
   {
    "duration": 8,
    "start_time": "2023-03-08T21:54:49.338Z"
   },
   {
    "duration": 5,
    "start_time": "2023-03-08T21:54:49.347Z"
   },
   {
    "duration": 10,
    "start_time": "2023-03-08T21:57:21.260Z"
   },
   {
    "duration": 9,
    "start_time": "2023-03-08T21:57:30.874Z"
   },
   {
    "duration": 3,
    "start_time": "2023-03-08T21:58:18.469Z"
   },
   {
    "duration": 12,
    "start_time": "2023-03-08T21:59:07.778Z"
   },
   {
    "duration": 12,
    "start_time": "2023-03-08T21:59:41.299Z"
   },
   {
    "duration": 5,
    "start_time": "2023-03-08T21:59:54.557Z"
   },
   {
    "duration": 670,
    "start_time": "2023-03-08T21:59:54.563Z"
   },
   {
    "duration": 3,
    "start_time": "2023-03-08T21:59:55.235Z"
   },
   {
    "duration": 379,
    "start_time": "2023-03-08T21:59:55.240Z"
   },
   {
    "duration": 177,
    "start_time": "2023-03-08T21:59:55.620Z"
   },
   {
    "duration": 417,
    "start_time": "2023-03-08T21:59:55.799Z"
   },
   {
    "duration": 3,
    "start_time": "2023-03-08T21:59:56.218Z"
   },
   {
    "duration": 12,
    "start_time": "2023-03-08T21:59:56.222Z"
   },
   {
    "duration": 6,
    "start_time": "2023-03-08T21:59:56.237Z"
   },
   {
    "duration": 4,
    "start_time": "2023-03-08T21:59:56.244Z"
   },
   {
    "duration": 33,
    "start_time": "2023-03-08T21:59:56.250Z"
   },
   {
    "duration": 0,
    "start_time": "2023-03-08T21:59:56.285Z"
   },
   {
    "duration": 0,
    "start_time": "2023-03-08T21:59:56.286Z"
   },
   {
    "duration": 0,
    "start_time": "2023-03-08T21:59:56.287Z"
   },
   {
    "duration": 0,
    "start_time": "2023-03-08T21:59:56.288Z"
   },
   {
    "duration": 0,
    "start_time": "2023-03-08T21:59:56.289Z"
   },
   {
    "duration": 0,
    "start_time": "2023-03-08T21:59:56.290Z"
   },
   {
    "duration": 0,
    "start_time": "2023-03-08T21:59:56.291Z"
   },
   {
    "duration": 0,
    "start_time": "2023-03-08T21:59:56.292Z"
   },
   {
    "duration": 0,
    "start_time": "2023-03-08T21:59:56.293Z"
   },
   {
    "duration": 0,
    "start_time": "2023-03-08T21:59:56.294Z"
   },
   {
    "duration": 0,
    "start_time": "2023-03-08T21:59:56.295Z"
   },
   {
    "duration": 0,
    "start_time": "2023-03-08T21:59:56.296Z"
   },
   {
    "duration": 0,
    "start_time": "2023-03-08T21:59:56.297Z"
   },
   {
    "duration": 0,
    "start_time": "2023-03-08T21:59:56.297Z"
   },
   {
    "duration": 0,
    "start_time": "2023-03-08T21:59:56.298Z"
   },
   {
    "duration": 0,
    "start_time": "2023-03-08T21:59:56.300Z"
   },
   {
    "duration": 0,
    "start_time": "2023-03-08T21:59:56.301Z"
   },
   {
    "duration": 0,
    "start_time": "2023-03-08T21:59:56.302Z"
   },
   {
    "duration": 0,
    "start_time": "2023-03-08T21:59:56.303Z"
   },
   {
    "duration": 0,
    "start_time": "2023-03-08T21:59:56.303Z"
   },
   {
    "duration": 0,
    "start_time": "2023-03-08T21:59:56.304Z"
   },
   {
    "duration": 0,
    "start_time": "2023-03-08T21:59:56.305Z"
   },
   {
    "duration": 0,
    "start_time": "2023-03-08T21:59:56.306Z"
   },
   {
    "duration": 0,
    "start_time": "2023-03-08T21:59:56.307Z"
   },
   {
    "duration": 0,
    "start_time": "2023-03-08T21:59:56.307Z"
   },
   {
    "duration": 1,
    "start_time": "2023-03-08T21:59:56.308Z"
   },
   {
    "duration": 0,
    "start_time": "2023-03-08T21:59:56.310Z"
   },
   {
    "duration": 0,
    "start_time": "2023-03-08T21:59:56.311Z"
   },
   {
    "duration": 0,
    "start_time": "2023-03-08T21:59:56.312Z"
   },
   {
    "duration": 0,
    "start_time": "2023-03-08T21:59:56.313Z"
   },
   {
    "duration": 11,
    "start_time": "2023-03-08T22:00:19.976Z"
   },
   {
    "duration": 22,
    "start_time": "2023-03-08T22:00:29.756Z"
   },
   {
    "duration": 12,
    "start_time": "2023-03-08T22:00:36.856Z"
   },
   {
    "duration": 4,
    "start_time": "2023-03-08T22:03:11.996Z"
   },
   {
    "duration": 628,
    "start_time": "2023-03-08T22:03:12.002Z"
   },
   {
    "duration": 4,
    "start_time": "2023-03-08T22:03:12.632Z"
   },
   {
    "duration": 361,
    "start_time": "2023-03-08T22:03:12.638Z"
   },
   {
    "duration": 189,
    "start_time": "2023-03-08T22:03:13.002Z"
   },
   {
    "duration": 346,
    "start_time": "2023-03-08T22:03:13.193Z"
   },
   {
    "duration": 3,
    "start_time": "2023-03-08T22:03:13.540Z"
   },
   {
    "duration": 9,
    "start_time": "2023-03-08T22:03:13.545Z"
   },
   {
    "duration": 18,
    "start_time": "2023-03-08T22:03:13.556Z"
   },
   {
    "duration": 7,
    "start_time": "2023-03-08T22:03:13.576Z"
   },
   {
    "duration": 13,
    "start_time": "2023-03-08T22:03:13.585Z"
   },
   {
    "duration": 5,
    "start_time": "2023-03-08T22:03:13.600Z"
   },
   {
    "duration": 22,
    "start_time": "2023-03-08T22:03:13.606Z"
   },
   {
    "duration": 10,
    "start_time": "2023-03-08T22:03:13.630Z"
   },
   {
    "duration": 39,
    "start_time": "2023-03-08T22:03:13.642Z"
   },
   {
    "duration": 7,
    "start_time": "2023-03-08T22:03:13.682Z"
   },
   {
    "duration": 12,
    "start_time": "2023-03-08T22:03:13.690Z"
   },
   {
    "duration": 7,
    "start_time": "2023-03-08T22:03:13.703Z"
   },
   {
    "duration": 23,
    "start_time": "2023-03-08T22:03:13.711Z"
   },
   {
    "duration": 834,
    "start_time": "2023-03-08T22:03:13.736Z"
   },
   {
    "duration": 1250,
    "start_time": "2023-03-08T22:03:14.572Z"
   },
   {
    "duration": 19,
    "start_time": "2023-03-08T22:03:15.824Z"
   },
   {
    "duration": 701,
    "start_time": "2023-03-08T22:03:15.846Z"
   },
   {
    "duration": 283,
    "start_time": "2023-03-08T22:03:16.548Z"
   },
   {
    "duration": 16,
    "start_time": "2023-03-08T22:03:16.833Z"
   },
   {
    "duration": 932,
    "start_time": "2023-03-08T22:03:16.850Z"
   },
   {
    "duration": 32,
    "start_time": "2023-03-08T22:03:17.784Z"
   },
   {
    "duration": 20,
    "start_time": "2023-03-08T22:03:17.817Z"
   },
   {
    "duration": 2145,
    "start_time": "2023-03-08T22:03:17.841Z"
   },
   {
    "duration": 3,
    "start_time": "2023-03-08T22:03:19.988Z"
   },
   {
    "duration": 5,
    "start_time": "2023-03-08T22:03:19.992Z"
   },
   {
    "duration": 13,
    "start_time": "2023-03-08T22:03:19.999Z"
   },
   {
    "duration": 21,
    "start_time": "2023-03-08T22:03:20.013Z"
   },
   {
    "duration": 3,
    "start_time": "2023-03-08T22:03:20.035Z"
   },
   {
    "duration": 474,
    "start_time": "2023-03-08T22:03:20.039Z"
   },
   {
    "duration": 13731,
    "start_time": "2023-03-08T22:03:20.514Z"
   },
   {
    "duration": 9,
    "start_time": "2023-03-08T22:03:34.247Z"
   },
   {
    "duration": 4,
    "start_time": "2023-03-08T22:03:34.258Z"
   },
   {
    "duration": 22,
    "start_time": "2023-03-08T22:03:34.264Z"
   },
   {
    "duration": 7,
    "start_time": "2023-03-08T22:03:34.288Z"
   },
   {
    "duration": 6,
    "start_time": "2023-03-08T22:03:34.297Z"
   },
   {
    "duration": 1498,
    "start_time": "2023-03-08T22:04:50.039Z"
   },
   {
    "duration": 714,
    "start_time": "2023-03-08T22:04:51.539Z"
   },
   {
    "duration": 4,
    "start_time": "2023-03-08T22:04:52.255Z"
   },
   {
    "duration": 407,
    "start_time": "2023-03-08T22:04:52.261Z"
   },
   {
    "duration": 192,
    "start_time": "2023-03-08T22:04:52.671Z"
   },
   {
    "duration": 405,
    "start_time": "2023-03-08T22:04:52.865Z"
   },
   {
    "duration": 14,
    "start_time": "2023-03-08T22:04:53.272Z"
   },
   {
    "duration": 8,
    "start_time": "2023-03-08T22:04:53.294Z"
   },
   {
    "duration": 4,
    "start_time": "2023-03-08T22:04:53.304Z"
   },
   {
    "duration": 6,
    "start_time": "2023-03-08T22:04:53.310Z"
   },
   {
    "duration": 16,
    "start_time": "2023-03-08T22:04:53.317Z"
   },
   {
    "duration": 5,
    "start_time": "2023-03-08T22:04:53.334Z"
   },
   {
    "duration": 50,
    "start_time": "2023-03-08T22:04:53.340Z"
   },
   {
    "duration": 13,
    "start_time": "2023-03-08T22:04:53.394Z"
   },
   {
    "duration": 14,
    "start_time": "2023-03-08T22:04:53.409Z"
   },
   {
    "duration": 7,
    "start_time": "2023-03-08T22:04:53.425Z"
   },
   {
    "duration": 10,
    "start_time": "2023-03-08T22:04:53.433Z"
   },
   {
    "duration": 4,
    "start_time": "2023-03-08T22:04:53.444Z"
   },
   {
    "duration": 42,
    "start_time": "2023-03-08T22:04:53.449Z"
   },
   {
    "duration": 996,
    "start_time": "2023-03-08T22:04:53.493Z"
   },
   {
    "duration": 1542,
    "start_time": "2023-03-08T22:04:54.490Z"
   },
   {
    "duration": 26,
    "start_time": "2023-03-08T22:04:56.035Z"
   },
   {
    "duration": 793,
    "start_time": "2023-03-08T22:04:56.063Z"
   },
   {
    "duration": 455,
    "start_time": "2023-03-08T22:04:56.858Z"
   },
   {
    "duration": 16,
    "start_time": "2023-03-08T22:04:57.315Z"
   },
   {
    "duration": 997,
    "start_time": "2023-03-08T22:04:57.333Z"
   },
   {
    "duration": 57,
    "start_time": "2023-03-08T22:04:58.332Z"
   },
   {
    "duration": 20,
    "start_time": "2023-03-08T22:04:58.391Z"
   },
   {
    "duration": 1026,
    "start_time": "2023-03-08T22:04:58.412Z"
   },
   {
    "duration": 3,
    "start_time": "2023-03-08T22:04:59.439Z"
   },
   {
    "duration": 4,
    "start_time": "2023-03-08T22:04:59.444Z"
   },
   {
    "duration": 8,
    "start_time": "2023-03-08T22:04:59.450Z"
   },
   {
    "duration": 37,
    "start_time": "2023-03-08T22:04:59.459Z"
   },
   {
    "duration": 2,
    "start_time": "2023-03-08T22:04:59.498Z"
   },
   {
    "duration": 3696,
    "start_time": "2023-03-08T22:04:59.501Z"
   },
   {
    "duration": 115719,
    "start_time": "2023-03-08T22:05:03.199Z"
   },
   {
    "duration": 448222,
    "start_time": "2023-03-08T22:06:58.920Z"
   },
   {
    "duration": 1370,
    "start_time": "2023-03-08T22:14:35.444Z"
   },
   {
    "duration": 648,
    "start_time": "2023-03-08T22:14:36.816Z"
   },
   {
    "duration": 3,
    "start_time": "2023-03-08T22:14:37.465Z"
   },
   {
    "duration": 369,
    "start_time": "2023-03-08T22:14:37.470Z"
   },
   {
    "duration": 161,
    "start_time": "2023-03-08T22:14:37.841Z"
   },
   {
    "duration": 359,
    "start_time": "2023-03-08T22:14:38.003Z"
   },
   {
    "duration": 2,
    "start_time": "2023-03-08T22:14:38.363Z"
   },
   {
    "duration": 24,
    "start_time": "2023-03-08T22:14:38.366Z"
   },
   {
    "duration": 12,
    "start_time": "2023-03-08T22:14:38.391Z"
   },
   {
    "duration": 6,
    "start_time": "2023-03-08T22:14:38.404Z"
   },
   {
    "duration": 23,
    "start_time": "2023-03-08T22:14:38.411Z"
   },
   {
    "duration": 5,
    "start_time": "2023-03-08T22:14:38.435Z"
   },
   {
    "duration": 23,
    "start_time": "2023-03-08T22:14:38.441Z"
   },
   {
    "duration": 23,
    "start_time": "2023-03-08T22:14:38.466Z"
   },
   {
    "duration": 8,
    "start_time": "2023-03-08T22:14:38.491Z"
   },
   {
    "duration": 6,
    "start_time": "2023-03-08T22:14:38.500Z"
   },
   {
    "duration": 10,
    "start_time": "2023-03-08T22:14:38.507Z"
   },
   {
    "duration": 3,
    "start_time": "2023-03-08T22:14:38.518Z"
   },
   {
    "duration": 47,
    "start_time": "2023-03-08T22:14:38.523Z"
   },
   {
    "duration": 909,
    "start_time": "2023-03-08T22:14:38.572Z"
   },
   {
    "duration": 1333,
    "start_time": "2023-03-08T22:14:39.483Z"
   },
   {
    "duration": 19,
    "start_time": "2023-03-08T22:14:40.817Z"
   },
   {
    "duration": 665,
    "start_time": "2023-03-08T22:14:40.837Z"
   },
   {
    "duration": 393,
    "start_time": "2023-03-08T22:14:41.503Z"
   },
   {
    "duration": 14,
    "start_time": "2023-03-08T22:14:41.898Z"
   },
   {
    "duration": 935,
    "start_time": "2023-03-08T22:14:41.914Z"
   },
   {
    "duration": 51,
    "start_time": "2023-03-08T22:14:42.850Z"
   },
   {
    "duration": 19,
    "start_time": "2023-03-08T22:14:42.903Z"
   },
   {
    "duration": 1022,
    "start_time": "2023-03-08T22:14:42.924Z"
   },
   {
    "duration": 3,
    "start_time": "2023-03-08T22:14:43.948Z"
   },
   {
    "duration": 5,
    "start_time": "2023-03-08T22:14:43.953Z"
   },
   {
    "duration": 20,
    "start_time": "2023-03-08T22:14:43.960Z"
   },
   {
    "duration": 24,
    "start_time": "2023-03-08T22:14:43.982Z"
   },
   {
    "duration": 3,
    "start_time": "2023-03-08T22:14:44.008Z"
   },
   {
    "duration": 1369,
    "start_time": "2023-03-08T22:14:44.012Z"
   },
   {
    "duration": 110380,
    "start_time": "2023-03-08T22:14:45.383Z"
   },
   {
    "duration": 447605,
    "start_time": "2023-03-08T22:16:35.764Z"
   },
   {
    "duration": 1682,
    "start_time": "2023-03-09T20:57:13.905Z"
   },
   {
    "duration": 3177,
    "start_time": "2023-03-09T20:57:15.589Z"
   },
   {
    "duration": 4,
    "start_time": "2023-03-09T20:57:18.768Z"
   },
   {
    "duration": 490,
    "start_time": "2023-03-09T20:57:18.775Z"
   },
   {
    "duration": 241,
    "start_time": "2023-03-09T20:57:19.267Z"
   },
   {
    "duration": 477,
    "start_time": "2023-03-09T20:57:19.510Z"
   },
   {
    "duration": 4,
    "start_time": "2023-03-09T20:57:19.991Z"
   },
   {
    "duration": 31,
    "start_time": "2023-03-09T20:57:19.998Z"
   },
   {
    "duration": 9,
    "start_time": "2023-03-09T20:57:20.032Z"
   },
   {
    "duration": 24,
    "start_time": "2023-03-09T20:57:20.044Z"
   },
   {
    "duration": 30,
    "start_time": "2023-03-09T20:57:20.070Z"
   },
   {
    "duration": 9,
    "start_time": "2023-03-09T20:57:20.101Z"
   },
   {
    "duration": 31,
    "start_time": "2023-03-09T20:57:20.112Z"
   },
   {
    "duration": 30,
    "start_time": "2023-03-09T20:57:20.145Z"
   },
   {
    "duration": 10,
    "start_time": "2023-03-09T20:57:20.177Z"
   },
   {
    "duration": 9,
    "start_time": "2023-03-09T20:57:20.189Z"
   },
   {
    "duration": 15,
    "start_time": "2023-03-09T20:57:20.200Z"
   },
   {
    "duration": 5,
    "start_time": "2023-03-09T20:57:20.217Z"
   },
   {
    "duration": 56,
    "start_time": "2023-03-09T20:57:20.224Z"
   },
   {
    "duration": 1124,
    "start_time": "2023-03-09T20:57:20.282Z"
   },
   {
    "duration": 1691,
    "start_time": "2023-03-09T20:57:21.408Z"
   },
   {
    "duration": 30,
    "start_time": "2023-03-09T20:57:23.101Z"
   },
   {
    "duration": 847,
    "start_time": "2023-03-09T20:57:23.134Z"
   },
   {
    "duration": 588,
    "start_time": "2023-03-09T20:57:23.983Z"
   },
   {
    "duration": 25,
    "start_time": "2023-03-09T20:57:24.574Z"
   },
   {
    "duration": 1289,
    "start_time": "2023-03-09T20:57:24.602Z"
   },
   {
    "duration": 54,
    "start_time": "2023-03-09T20:57:25.893Z"
   },
   {
    "duration": 30,
    "start_time": "2023-03-09T20:57:25.963Z"
   },
   {
    "duration": 1403,
    "start_time": "2023-03-09T20:57:25.996Z"
   },
   {
    "duration": 4,
    "start_time": "2023-03-09T20:57:27.401Z"
   },
   {
    "duration": 18,
    "start_time": "2023-03-09T20:57:27.408Z"
   },
   {
    "duration": 14,
    "start_time": "2023-03-09T20:57:27.429Z"
   },
   {
    "duration": 50,
    "start_time": "2023-03-09T20:57:27.446Z"
   },
   {
    "duration": 4,
    "start_time": "2023-03-09T20:57:27.498Z"
   },
   {
    "duration": 2264,
    "start_time": "2023-03-09T20:57:27.504Z"
   },
   {
    "duration": 113904,
    "start_time": "2023-03-09T20:57:29.770Z"
   },
   {
    "duration": 1675,
    "start_time": "2023-03-09T21:00:37.325Z"
   },
   {
    "duration": 746,
    "start_time": "2023-03-09T21:00:39.002Z"
   },
   {
    "duration": 5,
    "start_time": "2023-03-09T21:00:39.750Z"
   },
   {
    "duration": 571,
    "start_time": "2023-03-09T21:00:39.764Z"
   },
   {
    "duration": 275,
    "start_time": "2023-03-09T21:00:40.340Z"
   },
   {
    "duration": 467,
    "start_time": "2023-03-09T21:00:40.617Z"
   },
   {
    "duration": 4,
    "start_time": "2023-03-09T21:00:41.087Z"
   },
   {
    "duration": 15,
    "start_time": "2023-03-09T21:00:41.093Z"
   },
   {
    "duration": 7,
    "start_time": "2023-03-09T21:00:41.111Z"
   },
   {
    "duration": 14,
    "start_time": "2023-03-09T21:00:41.120Z"
   },
   {
    "duration": 17,
    "start_time": "2023-03-09T21:00:41.167Z"
   },
   {
    "duration": 10,
    "start_time": "2023-03-09T21:00:41.187Z"
   },
   {
    "duration": 36,
    "start_time": "2023-03-09T21:00:41.200Z"
   },
   {
    "duration": 38,
    "start_time": "2023-03-09T21:00:41.241Z"
   },
   {
    "duration": 10,
    "start_time": "2023-03-09T21:00:41.281Z"
   },
   {
    "duration": 9,
    "start_time": "2023-03-09T21:00:41.293Z"
   },
   {
    "duration": 14,
    "start_time": "2023-03-09T21:00:41.304Z"
   },
   {
    "duration": 4,
    "start_time": "2023-03-09T21:00:41.320Z"
   },
   {
    "duration": 20,
    "start_time": "2023-03-09T21:00:41.365Z"
   },
   {
    "duration": 1141,
    "start_time": "2023-03-09T21:00:41.387Z"
   },
   {
    "duration": 2258,
    "start_time": "2023-03-09T21:00:42.532Z"
   },
   {
    "duration": 38,
    "start_time": "2023-03-09T21:00:44.793Z"
   },
   {
    "duration": 1207,
    "start_time": "2023-03-09T21:00:44.835Z"
   },
   {
    "duration": 552,
    "start_time": "2023-03-09T21:00:46.044Z"
   },
   {
    "duration": 25,
    "start_time": "2023-03-09T21:00:46.598Z"
   },
   {
    "duration": 1323,
    "start_time": "2023-03-09T21:00:46.625Z"
   },
   {
    "duration": 86,
    "start_time": "2023-03-09T21:00:47.951Z"
   },
   {
    "duration": 49,
    "start_time": "2023-03-09T21:00:48.039Z"
   },
   {
    "duration": 1372,
    "start_time": "2023-03-09T21:00:48.092Z"
   },
   {
    "duration": 4,
    "start_time": "2023-03-09T21:00:49.469Z"
   },
   {
    "duration": 9,
    "start_time": "2023-03-09T21:00:49.476Z"
   },
   {
    "duration": 19,
    "start_time": "2023-03-09T21:00:49.487Z"
   },
   {
    "duration": 47,
    "start_time": "2023-03-09T21:00:49.508Z"
   },
   {
    "duration": 7,
    "start_time": "2023-03-09T21:00:49.558Z"
   },
   {
    "duration": 2104,
    "start_time": "2023-03-09T21:00:49.568Z"
   },
   {
    "duration": 115021,
    "start_time": "2023-03-09T21:00:51.674Z"
   },
   {
    "duration": 446768,
    "start_time": "2023-03-09T21:02:46.697Z"
   },
   {
    "duration": 1590,
    "start_time": "2023-03-09T21:14:07.531Z"
   },
   {
    "duration": 785,
    "start_time": "2023-03-09T21:14:09.123Z"
   },
   {
    "duration": 5,
    "start_time": "2023-03-09T21:14:09.911Z"
   },
   {
    "duration": 512,
    "start_time": "2023-03-09T21:14:09.919Z"
   },
   {
    "duration": 263,
    "start_time": "2023-03-09T21:14:10.434Z"
   },
   {
    "duration": 457,
    "start_time": "2023-03-09T21:14:10.700Z"
   },
   {
    "duration": 7,
    "start_time": "2023-03-09T21:14:11.158Z"
   },
   {
    "duration": 26,
    "start_time": "2023-03-09T21:14:11.167Z"
   },
   {
    "duration": 5,
    "start_time": "2023-03-09T21:14:11.194Z"
   },
   {
    "duration": 6,
    "start_time": "2023-03-09T21:14:11.201Z"
   },
   {
    "duration": 18,
    "start_time": "2023-03-09T21:14:11.209Z"
   },
   {
    "duration": 6,
    "start_time": "2023-03-09T21:14:11.229Z"
   },
   {
    "duration": 55,
    "start_time": "2023-03-09T21:14:11.236Z"
   },
   {
    "duration": 15,
    "start_time": "2023-03-09T21:14:11.294Z"
   },
   {
    "duration": 11,
    "start_time": "2023-03-09T21:14:11.311Z"
   },
   {
    "duration": 8,
    "start_time": "2023-03-09T21:14:11.323Z"
   },
   {
    "duration": 45,
    "start_time": "2023-03-09T21:14:11.332Z"
   },
   {
    "duration": 5,
    "start_time": "2023-03-09T21:14:11.380Z"
   },
   {
    "duration": 23,
    "start_time": "2023-03-09T21:14:11.388Z"
   },
   {
    "duration": 1133,
    "start_time": "2023-03-09T21:14:11.414Z"
   },
   {
    "duration": 1938,
    "start_time": "2023-03-09T21:14:12.549Z"
   },
   {
    "duration": 30,
    "start_time": "2023-03-09T21:14:14.494Z"
   },
   {
    "duration": 1035,
    "start_time": "2023-03-09T21:14:14.526Z"
   },
   {
    "duration": 571,
    "start_time": "2023-03-09T21:14:15.564Z"
   },
   {
    "duration": 18,
    "start_time": "2023-03-09T21:14:16.137Z"
   },
   {
    "duration": 1383,
    "start_time": "2023-03-09T21:14:16.165Z"
   },
   {
    "duration": 60,
    "start_time": "2023-03-09T21:14:17.550Z"
   },
   {
    "duration": 24,
    "start_time": "2023-03-09T21:14:17.612Z"
   },
   {
    "duration": 1482,
    "start_time": "2023-03-09T21:14:17.637Z"
   },
   {
    "duration": 4,
    "start_time": "2023-03-09T21:14:19.122Z"
   },
   {
    "duration": 12,
    "start_time": "2023-03-09T21:14:19.128Z"
   },
   {
    "duration": 53,
    "start_time": "2023-03-09T21:14:19.141Z"
   },
   {
    "duration": 3,
    "start_time": "2023-03-09T21:14:19.196Z"
   },
   {
    "duration": 1975,
    "start_time": "2023-03-09T21:14:19.201Z"
   },
   {
    "duration": 115450,
    "start_time": "2023-03-09T21:14:21.181Z"
   },
   {
    "duration": 1456,
    "start_time": "2023-03-09T21:20:27.160Z"
   },
   {
    "duration": 667,
    "start_time": "2023-03-09T21:20:28.618Z"
   },
   {
    "duration": 3,
    "start_time": "2023-03-09T21:20:29.287Z"
   },
   {
    "duration": 425,
    "start_time": "2023-03-09T21:20:29.292Z"
   },
   {
    "duration": 200,
    "start_time": "2023-03-09T21:20:29.720Z"
   },
   {
    "duration": 422,
    "start_time": "2023-03-09T21:20:29.922Z"
   },
   {
    "duration": 3,
    "start_time": "2023-03-09T21:20:30.345Z"
   },
   {
    "duration": 38,
    "start_time": "2023-03-09T21:20:30.350Z"
   },
   {
    "duration": 20,
    "start_time": "2023-03-09T21:20:30.390Z"
   },
   {
    "duration": 25,
    "start_time": "2023-03-09T21:20:30.412Z"
   },
   {
    "duration": 34,
    "start_time": "2023-03-09T21:20:30.439Z"
   },
   {
    "duration": 18,
    "start_time": "2023-03-09T21:20:30.476Z"
   },
   {
    "duration": 51,
    "start_time": "2023-03-09T21:20:30.496Z"
   },
   {
    "duration": 13,
    "start_time": "2023-03-09T21:20:30.551Z"
   },
   {
    "duration": 32,
    "start_time": "2023-03-09T21:20:30.566Z"
   },
   {
    "duration": 27,
    "start_time": "2023-03-09T21:20:30.600Z"
   },
   {
    "duration": 34,
    "start_time": "2023-03-09T21:20:30.629Z"
   },
   {
    "duration": 28,
    "start_time": "2023-03-09T21:20:30.664Z"
   },
   {
    "duration": 52,
    "start_time": "2023-03-09T21:20:30.693Z"
   },
   {
    "duration": 1142,
    "start_time": "2023-03-09T21:20:30.747Z"
   },
   {
    "duration": 1649,
    "start_time": "2023-03-09T21:20:31.891Z"
   },
   {
    "duration": 34,
    "start_time": "2023-03-09T21:20:33.542Z"
   },
   {
    "duration": 848,
    "start_time": "2023-03-09T21:20:33.578Z"
   },
   {
    "duration": 545,
    "start_time": "2023-03-09T21:20:34.428Z"
   },
   {
    "duration": 16,
    "start_time": "2023-03-09T21:20:34.975Z"
   },
   {
    "duration": 1162,
    "start_time": "2023-03-09T21:20:34.993Z"
   },
   {
    "duration": 72,
    "start_time": "2023-03-09T21:20:36.157Z"
   },
   {
    "duration": 23,
    "start_time": "2023-03-09T21:20:36.231Z"
   },
   {
    "duration": 1292,
    "start_time": "2023-03-09T21:20:36.265Z"
   },
   {
    "duration": 6,
    "start_time": "2023-03-09T21:20:37.559Z"
   },
   {
    "duration": 11,
    "start_time": "2023-03-09T21:20:37.567Z"
   },
   {
    "duration": 25,
    "start_time": "2023-03-09T21:20:37.580Z"
   },
   {
    "duration": 2,
    "start_time": "2023-03-09T21:20:37.607Z"
   },
   {
    "duration": 1955,
    "start_time": "2023-03-09T21:20:37.611Z"
   },
   {
    "duration": 104497,
    "start_time": "2023-03-09T21:20:39.569Z"
   },
   {
    "duration": 1480,
    "start_time": "2023-03-09T21:28:22.768Z"
   },
   {
    "duration": 769,
    "start_time": "2023-03-09T21:28:24.250Z"
   },
   {
    "duration": 3,
    "start_time": "2023-03-09T21:28:25.021Z"
   },
   {
    "duration": 438,
    "start_time": "2023-03-09T21:28:25.026Z"
   },
   {
    "duration": 213,
    "start_time": "2023-03-09T21:28:25.466Z"
   },
   {
    "duration": 412,
    "start_time": "2023-03-09T21:28:25.681Z"
   },
   {
    "duration": 3,
    "start_time": "2023-03-09T21:28:26.095Z"
   },
   {
    "duration": 25,
    "start_time": "2023-03-09T21:28:26.099Z"
   },
   {
    "duration": 6,
    "start_time": "2023-03-09T21:28:26.125Z"
   },
   {
    "duration": 9,
    "start_time": "2023-03-09T21:28:26.133Z"
   },
   {
    "duration": 31,
    "start_time": "2023-03-09T21:28:26.144Z"
   },
   {
    "duration": 8,
    "start_time": "2023-03-09T21:28:26.176Z"
   },
   {
    "duration": 29,
    "start_time": "2023-03-09T21:28:26.186Z"
   },
   {
    "duration": 17,
    "start_time": "2023-03-09T21:28:26.219Z"
   },
   {
    "duration": 31,
    "start_time": "2023-03-09T21:28:26.238Z"
   },
   {
    "duration": 8,
    "start_time": "2023-03-09T21:28:26.271Z"
   },
   {
    "duration": 14,
    "start_time": "2023-03-09T21:28:26.282Z"
   },
   {
    "duration": 4,
    "start_time": "2023-03-09T21:28:26.298Z"
   },
   {
    "duration": 19,
    "start_time": "2023-03-09T21:28:26.304Z"
   },
   {
    "duration": 1142,
    "start_time": "2023-03-09T21:28:26.325Z"
   },
   {
    "duration": 1740,
    "start_time": "2023-03-09T21:28:27.470Z"
   },
   {
    "duration": 25,
    "start_time": "2023-03-09T21:28:29.211Z"
   },
   {
    "duration": 860,
    "start_time": "2023-03-09T21:28:29.238Z"
   },
   {
    "duration": 528,
    "start_time": "2023-03-09T21:28:30.100Z"
   },
   {
    "duration": 18,
    "start_time": "2023-03-09T21:28:30.629Z"
   },
   {
    "duration": 1241,
    "start_time": "2023-03-09T21:28:30.649Z"
   },
   {
    "duration": 55,
    "start_time": "2023-03-09T21:28:31.891Z"
   },
   {
    "duration": 47,
    "start_time": "2023-03-09T21:28:31.948Z"
   },
   {
    "duration": 1341,
    "start_time": "2023-03-09T21:28:31.998Z"
   },
   {
    "duration": 5,
    "start_time": "2023-03-09T21:28:33.341Z"
   },
   {
    "duration": 18,
    "start_time": "2023-03-09T21:28:33.348Z"
   },
   {
    "duration": 31,
    "start_time": "2023-03-09T21:28:33.368Z"
   },
   {
    "duration": 4,
    "start_time": "2023-03-09T21:28:33.401Z"
   },
   {
    "duration": 1466,
    "start_time": "2023-03-09T21:28:33.407Z"
   },
   {
    "duration": 108008,
    "start_time": "2023-03-09T21:28:34.877Z"
   },
   {
    "duration": 1526,
    "start_time": "2023-03-09T21:32:35.148Z"
   },
   {
    "duration": 779,
    "start_time": "2023-03-09T21:32:36.679Z"
   },
   {
    "duration": 4,
    "start_time": "2023-03-09T21:32:37.460Z"
   },
   {
    "duration": 465,
    "start_time": "2023-03-09T21:32:37.466Z"
   },
   {
    "duration": 230,
    "start_time": "2023-03-09T21:32:37.934Z"
   },
   {
    "duration": 461,
    "start_time": "2023-03-09T21:32:38.166Z"
   },
   {
    "duration": 2,
    "start_time": "2023-03-09T21:32:38.629Z"
   },
   {
    "duration": 11,
    "start_time": "2023-03-09T21:32:38.633Z"
   },
   {
    "duration": 19,
    "start_time": "2023-03-09T21:32:38.645Z"
   },
   {
    "duration": 6,
    "start_time": "2023-03-09T21:32:38.666Z"
   },
   {
    "duration": 23,
    "start_time": "2023-03-09T21:32:38.675Z"
   },
   {
    "duration": 6,
    "start_time": "2023-03-09T21:32:38.700Z"
   },
   {
    "duration": 26,
    "start_time": "2023-03-09T21:32:38.707Z"
   },
   {
    "duration": 41,
    "start_time": "2023-03-09T21:32:38.736Z"
   },
   {
    "duration": 9,
    "start_time": "2023-03-09T21:32:38.779Z"
   },
   {
    "duration": 7,
    "start_time": "2023-03-09T21:32:38.790Z"
   },
   {
    "duration": 11,
    "start_time": "2023-03-09T21:32:38.798Z"
   },
   {
    "duration": 3,
    "start_time": "2023-03-09T21:32:38.811Z"
   },
   {
    "duration": 48,
    "start_time": "2023-03-09T21:32:38.816Z"
   },
   {
    "duration": 1138,
    "start_time": "2023-03-09T21:32:38.867Z"
   },
   {
    "duration": 1725,
    "start_time": "2023-03-09T21:32:40.007Z"
   },
   {
    "duration": 23,
    "start_time": "2023-03-09T21:32:41.733Z"
   },
   {
    "duration": 841,
    "start_time": "2023-03-09T21:32:41.765Z"
   },
   {
    "duration": 520,
    "start_time": "2023-03-09T21:32:42.608Z"
   },
   {
    "duration": 18,
    "start_time": "2023-03-09T21:32:43.130Z"
   },
   {
    "duration": 1244,
    "start_time": "2023-03-09T21:32:43.149Z"
   },
   {
    "duration": 51,
    "start_time": "2023-03-09T21:32:44.395Z"
   },
   {
    "duration": 40,
    "start_time": "2023-03-09T21:32:44.448Z"
   },
   {
    "duration": 1375,
    "start_time": "2023-03-09T21:32:44.490Z"
   },
   {
    "duration": 8,
    "start_time": "2023-03-09T21:32:45.872Z"
   },
   {
    "duration": 11,
    "start_time": "2023-03-09T21:32:45.882Z"
   },
   {
    "duration": 25,
    "start_time": "2023-03-09T21:32:45.895Z"
   },
   {
    "duration": 4,
    "start_time": "2023-03-09T21:32:45.922Z"
   },
   {
    "duration": 1651,
    "start_time": "2023-03-09T21:32:45.927Z"
   },
   {
    "duration": 105796,
    "start_time": "2023-03-09T21:32:47.580Z"
   },
   {
    "duration": 1493,
    "start_time": "2023-03-09T21:39:05.229Z"
   },
   {
    "duration": 721,
    "start_time": "2023-03-09T21:39:06.725Z"
   },
   {
    "duration": 4,
    "start_time": "2023-03-09T21:39:07.447Z"
   },
   {
    "duration": 423,
    "start_time": "2023-03-09T21:39:07.453Z"
   },
   {
    "duration": 206,
    "start_time": "2023-03-09T21:39:07.878Z"
   },
   {
    "duration": 413,
    "start_time": "2023-03-09T21:39:08.085Z"
   },
   {
    "duration": 4,
    "start_time": "2023-03-09T21:39:08.499Z"
   },
   {
    "duration": 12,
    "start_time": "2023-03-09T21:39:08.504Z"
   },
   {
    "duration": 5,
    "start_time": "2023-03-09T21:39:08.517Z"
   },
   {
    "duration": 7,
    "start_time": "2023-03-09T21:39:08.524Z"
   },
   {
    "duration": 33,
    "start_time": "2023-03-09T21:39:08.533Z"
   },
   {
    "duration": 5,
    "start_time": "2023-03-09T21:39:08.568Z"
   },
   {
    "duration": 27,
    "start_time": "2023-03-09T21:39:08.575Z"
   },
   {
    "duration": 14,
    "start_time": "2023-03-09T21:39:08.605Z"
   },
   {
    "duration": 7,
    "start_time": "2023-03-09T21:39:08.621Z"
   },
   {
    "duration": 36,
    "start_time": "2023-03-09T21:39:08.630Z"
   },
   {
    "duration": 13,
    "start_time": "2023-03-09T21:39:08.668Z"
   },
   {
    "duration": 4,
    "start_time": "2023-03-09T21:39:08.682Z"
   },
   {
    "duration": 19,
    "start_time": "2023-03-09T21:39:08.687Z"
   },
   {
    "duration": 979,
    "start_time": "2023-03-09T21:39:08.708Z"
   },
   {
    "duration": 1656,
    "start_time": "2023-03-09T21:39:09.689Z"
   },
   {
    "duration": 32,
    "start_time": "2023-03-09T21:39:11.347Z"
   },
   {
    "duration": 831,
    "start_time": "2023-03-09T21:39:11.381Z"
   },
   {
    "duration": 508,
    "start_time": "2023-03-09T21:39:12.214Z"
   },
   {
    "duration": 16,
    "start_time": "2023-03-09T21:39:12.723Z"
   },
   {
    "duration": 1177,
    "start_time": "2023-03-09T21:39:12.741Z"
   },
   {
    "duration": 58,
    "start_time": "2023-03-09T21:39:13.920Z"
   },
   {
    "duration": 27,
    "start_time": "2023-03-09T21:39:13.980Z"
   },
   {
    "duration": 1347,
    "start_time": "2023-03-09T21:39:14.008Z"
   },
   {
    "duration": 7,
    "start_time": "2023-03-09T21:39:15.357Z"
   },
   {
    "duration": 9,
    "start_time": "2023-03-09T21:39:15.366Z"
   },
   {
    "duration": 40,
    "start_time": "2023-03-09T21:39:15.377Z"
   },
   {
    "duration": 3,
    "start_time": "2023-03-09T21:39:15.419Z"
   },
   {
    "duration": 1648,
    "start_time": "2023-03-09T21:39:15.424Z"
   },
   {
    "duration": 1447,
    "start_time": "2023-03-09T21:40:04.917Z"
   },
   {
    "duration": 730,
    "start_time": "2023-03-09T21:40:06.367Z"
   },
   {
    "duration": 5,
    "start_time": "2023-03-09T21:40:07.099Z"
   },
   {
    "duration": 424,
    "start_time": "2023-03-09T21:40:07.105Z"
   },
   {
    "duration": 209,
    "start_time": "2023-03-09T21:40:07.532Z"
   },
   {
    "duration": 441,
    "start_time": "2023-03-09T21:40:07.744Z"
   },
   {
    "duration": 3,
    "start_time": "2023-03-09T21:40:08.187Z"
   },
   {
    "duration": 23,
    "start_time": "2023-03-09T21:40:08.192Z"
   },
   {
    "duration": 5,
    "start_time": "2023-03-09T21:40:08.217Z"
   },
   {
    "duration": 9,
    "start_time": "2023-03-09T21:40:08.224Z"
   },
   {
    "duration": 21,
    "start_time": "2023-03-09T21:40:08.235Z"
   },
   {
    "duration": 9,
    "start_time": "2023-03-09T21:40:08.264Z"
   },
   {
    "duration": 29,
    "start_time": "2023-03-09T21:40:08.275Z"
   },
   {
    "duration": 15,
    "start_time": "2023-03-09T21:40:08.307Z"
   },
   {
    "duration": 8,
    "start_time": "2023-03-09T21:40:08.324Z"
   },
   {
    "duration": 33,
    "start_time": "2023-03-09T21:40:08.334Z"
   },
   {
    "duration": 10,
    "start_time": "2023-03-09T21:40:08.369Z"
   },
   {
    "duration": 4,
    "start_time": "2023-03-09T21:40:08.381Z"
   },
   {
    "duration": 14,
    "start_time": "2023-03-09T21:40:08.387Z"
   },
   {
    "duration": 1074,
    "start_time": "2023-03-09T21:40:08.403Z"
   },
   {
    "duration": 1800,
    "start_time": "2023-03-09T21:40:09.479Z"
   },
   {
    "duration": 24,
    "start_time": "2023-03-09T21:40:11.280Z"
   },
   {
    "duration": 811,
    "start_time": "2023-03-09T21:40:11.306Z"
   },
   {
    "duration": 508,
    "start_time": "2023-03-09T21:40:12.119Z"
   },
   {
    "duration": 18,
    "start_time": "2023-03-09T21:40:12.629Z"
   },
   {
    "duration": 1191,
    "start_time": "2023-03-09T21:40:12.649Z"
   },
   {
    "duration": 63,
    "start_time": "2023-03-09T21:40:13.841Z"
   },
   {
    "duration": 23,
    "start_time": "2023-03-09T21:40:13.905Z"
   },
   {
    "duration": 1417,
    "start_time": "2023-03-09T21:40:13.929Z"
   },
   {
    "duration": 5,
    "start_time": "2023-03-09T21:40:15.348Z"
   },
   {
    "duration": 15,
    "start_time": "2023-03-09T21:40:15.355Z"
   },
   {
    "duration": 26,
    "start_time": "2023-03-09T21:40:15.372Z"
   },
   {
    "duration": 2,
    "start_time": "2023-03-09T21:40:15.400Z"
   },
   {
    "duration": 600,
    "start_time": "2023-03-09T21:40:15.404Z"
   },
   {
    "duration": 165,
    "start_time": "2023-03-09T21:40:16.006Z"
   },
   {
    "duration": 1002,
    "start_time": "2023-03-09T21:40:16.173Z"
   },
   {
    "duration": 380,
    "start_time": "2023-03-09T21:40:17.177Z"
   },
   {
    "duration": 12927,
    "start_time": "2023-03-09T21:40:17.559Z"
   },
   {
    "duration": 7,
    "start_time": "2023-03-09T21:40:30.488Z"
   },
   {
    "duration": 35,
    "start_time": "2023-03-09T21:40:30.497Z"
   },
   {
    "duration": 0,
    "start_time": "2023-03-09T21:40:30.535Z"
   },
   {
    "duration": 0,
    "start_time": "2023-03-09T21:40:30.537Z"
   },
   {
    "duration": 0,
    "start_time": "2023-03-09T21:40:30.538Z"
   },
   {
    "duration": 1498,
    "start_time": "2023-03-09T21:40:53.398Z"
   },
   {
    "duration": 735,
    "start_time": "2023-03-09T21:40:54.898Z"
   },
   {
    "duration": 5,
    "start_time": "2023-03-09T21:40:55.634Z"
   },
   {
    "duration": 460,
    "start_time": "2023-03-09T21:40:55.640Z"
   },
   {
    "duration": 202,
    "start_time": "2023-03-09T21:40:56.102Z"
   },
   {
    "duration": 435,
    "start_time": "2023-03-09T21:40:56.305Z"
   },
   {
    "duration": 3,
    "start_time": "2023-03-09T21:40:56.742Z"
   },
   {
    "duration": 20,
    "start_time": "2023-03-09T21:40:56.747Z"
   },
   {
    "duration": 11,
    "start_time": "2023-03-09T21:40:56.769Z"
   },
   {
    "duration": 13,
    "start_time": "2023-03-09T21:40:56.782Z"
   },
   {
    "duration": 25,
    "start_time": "2023-03-09T21:40:56.796Z"
   },
   {
    "duration": 11,
    "start_time": "2023-03-09T21:40:56.823Z"
   },
   {
    "duration": 30,
    "start_time": "2023-03-09T21:40:56.836Z"
   },
   {
    "duration": 15,
    "start_time": "2023-03-09T21:40:56.869Z"
   },
   {
    "duration": 8,
    "start_time": "2023-03-09T21:40:56.886Z"
   },
   {
    "duration": 18,
    "start_time": "2023-03-09T21:40:56.895Z"
   },
   {
    "duration": 10,
    "start_time": "2023-03-09T21:40:56.915Z"
   },
   {
    "duration": 13,
    "start_time": "2023-03-09T21:40:56.927Z"
   },
   {
    "duration": 29,
    "start_time": "2023-03-09T21:40:56.942Z"
   },
   {
    "duration": 1020,
    "start_time": "2023-03-09T21:40:56.972Z"
   },
   {
    "duration": 1613,
    "start_time": "2023-03-09T21:40:57.994Z"
   },
   {
    "duration": 24,
    "start_time": "2023-03-09T21:40:59.609Z"
   },
   {
    "duration": 821,
    "start_time": "2023-03-09T21:40:59.635Z"
   },
   {
    "duration": 501,
    "start_time": "2023-03-09T21:41:00.458Z"
   },
   {
    "duration": 17,
    "start_time": "2023-03-09T21:41:00.964Z"
   },
   {
    "duration": 1188,
    "start_time": "2023-03-09T21:41:00.983Z"
   },
   {
    "duration": 50,
    "start_time": "2023-03-09T21:41:02.173Z"
   },
   {
    "duration": 22,
    "start_time": "2023-03-09T21:41:02.225Z"
   },
   {
    "duration": 1259,
    "start_time": "2023-03-09T21:41:02.248Z"
   },
   {
    "duration": 4,
    "start_time": "2023-03-09T21:41:03.509Z"
   },
   {
    "duration": 10,
    "start_time": "2023-03-09T21:41:03.515Z"
   },
   {
    "duration": 37,
    "start_time": "2023-03-09T21:41:03.527Z"
   },
   {
    "duration": 3,
    "start_time": "2023-03-09T21:41:03.566Z"
   },
   {
    "duration": 1803,
    "start_time": "2023-03-09T21:41:03.571Z"
   },
   {
    "duration": 104494,
    "start_time": "2023-03-09T21:41:05.377Z"
   },
   {
    "duration": 1665,
    "start_time": "2023-03-10T21:31:13.708Z"
   },
   {
    "duration": 1987,
    "start_time": "2023-03-10T21:31:15.375Z"
   },
   {
    "duration": 5,
    "start_time": "2023-03-10T21:31:17.367Z"
   },
   {
    "duration": 507,
    "start_time": "2023-03-10T21:31:17.374Z"
   },
   {
    "duration": 210,
    "start_time": "2023-03-10T21:31:17.884Z"
   },
   {
    "duration": 416,
    "start_time": "2023-03-10T21:31:18.095Z"
   },
   {
    "duration": 4,
    "start_time": "2023-03-10T21:31:18.513Z"
   },
   {
    "duration": 10,
    "start_time": "2023-03-10T21:31:18.518Z"
   },
   {
    "duration": 5,
    "start_time": "2023-03-10T21:31:18.542Z"
   },
   {
    "duration": 15,
    "start_time": "2023-03-10T21:31:18.548Z"
   },
   {
    "duration": 22,
    "start_time": "2023-03-10T21:31:18.565Z"
   },
   {
    "duration": 6,
    "start_time": "2023-03-10T21:31:18.588Z"
   },
   {
    "duration": 26,
    "start_time": "2023-03-10T21:31:18.595Z"
   },
   {
    "duration": 27,
    "start_time": "2023-03-10T21:31:18.624Z"
   },
   {
    "duration": 9,
    "start_time": "2023-03-10T21:31:18.653Z"
   },
   {
    "duration": 7,
    "start_time": "2023-03-10T21:31:18.664Z"
   },
   {
    "duration": 25,
    "start_time": "2023-03-10T21:31:18.673Z"
   },
   {
    "duration": 4,
    "start_time": "2023-03-10T21:31:18.700Z"
   },
   {
    "duration": 37,
    "start_time": "2023-03-10T21:31:18.706Z"
   },
   {
    "duration": 1121,
    "start_time": "2023-03-10T21:31:18.745Z"
   },
   {
    "duration": 1559,
    "start_time": "2023-03-10T21:31:19.867Z"
   },
   {
    "duration": 24,
    "start_time": "2023-03-10T21:31:21.427Z"
   },
   {
    "duration": 768,
    "start_time": "2023-03-10T21:31:21.452Z"
   },
   {
    "duration": 509,
    "start_time": "2023-03-10T21:31:22.222Z"
   },
   {
    "duration": 22,
    "start_time": "2023-03-10T21:31:22.732Z"
   },
   {
    "duration": 1113,
    "start_time": "2023-03-10T21:31:22.756Z"
   },
   {
    "duration": 50,
    "start_time": "2023-03-10T21:31:23.871Z"
   },
   {
    "duration": 44,
    "start_time": "2023-03-10T21:31:23.923Z"
   },
   {
    "duration": 1285,
    "start_time": "2023-03-10T21:31:23.970Z"
   },
   {
    "duration": 5,
    "start_time": "2023-03-10T21:31:25.257Z"
   },
   {
    "duration": 19,
    "start_time": "2023-03-10T21:31:25.264Z"
   },
   {
    "duration": 104,
    "start_time": "2023-03-10T21:31:25.284Z"
   },
   {
    "duration": 17,
    "start_time": "2023-03-10T21:31:25.390Z"
   },
   {
    "duration": 1653,
    "start_time": "2023-03-10T21:31:25.409Z"
   },
   {
    "duration": 102991,
    "start_time": "2023-03-10T21:31:27.143Z"
   },
   {
    "duration": 1465,
    "start_time": "2023-03-10T21:35:37.885Z"
   },
   {
    "duration": 733,
    "start_time": "2023-03-10T21:35:39.352Z"
   },
   {
    "duration": 3,
    "start_time": "2023-03-10T21:35:40.086Z"
   },
   {
    "duration": 442,
    "start_time": "2023-03-10T21:35:40.091Z"
   },
   {
    "duration": 211,
    "start_time": "2023-03-10T21:35:40.535Z"
   },
   {
    "duration": 433,
    "start_time": "2023-03-10T21:35:40.749Z"
   },
   {
    "duration": 2,
    "start_time": "2023-03-10T21:35:41.184Z"
   },
   {
    "duration": 21,
    "start_time": "2023-03-10T21:35:41.188Z"
   },
   {
    "duration": 7,
    "start_time": "2023-03-10T21:35:41.211Z"
   },
   {
    "duration": 6,
    "start_time": "2023-03-10T21:35:41.219Z"
   },
   {
    "duration": 27,
    "start_time": "2023-03-10T21:35:41.227Z"
   },
   {
    "duration": 5,
    "start_time": "2023-03-10T21:35:41.256Z"
   },
   {
    "duration": 46,
    "start_time": "2023-03-10T21:35:41.263Z"
   },
   {
    "duration": 15,
    "start_time": "2023-03-10T21:35:41.312Z"
   },
   {
    "duration": 17,
    "start_time": "2023-03-10T21:35:41.329Z"
   },
   {
    "duration": 8,
    "start_time": "2023-03-10T21:35:41.347Z"
   },
   {
    "duration": 15,
    "start_time": "2023-03-10T21:35:41.357Z"
   },
   {
    "duration": 4,
    "start_time": "2023-03-10T21:35:41.373Z"
   },
   {
    "duration": 25,
    "start_time": "2023-03-10T21:35:41.379Z"
   },
   {
    "duration": 1060,
    "start_time": "2023-03-10T21:35:41.406Z"
   },
   {
    "duration": 1590,
    "start_time": "2023-03-10T21:35:42.468Z"
   },
   {
    "duration": 23,
    "start_time": "2023-03-10T21:35:44.059Z"
   },
   {
    "duration": 767,
    "start_time": "2023-03-10T21:35:44.084Z"
   },
   {
    "duration": 491,
    "start_time": "2023-03-10T21:35:44.853Z"
   },
   {
    "duration": 17,
    "start_time": "2023-03-10T21:35:45.345Z"
   },
   {
    "duration": 1130,
    "start_time": "2023-03-10T21:35:45.364Z"
   },
   {
    "duration": 58,
    "start_time": "2023-03-10T21:35:46.495Z"
   },
   {
    "duration": 22,
    "start_time": "2023-03-10T21:35:46.555Z"
   },
   {
    "duration": 1370,
    "start_time": "2023-03-10T21:35:46.578Z"
   },
   {
    "duration": 5,
    "start_time": "2023-03-10T21:35:47.951Z"
   },
   {
    "duration": 12,
    "start_time": "2023-03-10T21:35:47.957Z"
   },
   {
    "duration": 26,
    "start_time": "2023-03-10T21:35:47.971Z"
   },
   {
    "duration": 3,
    "start_time": "2023-03-10T21:35:47.999Z"
   },
   {
    "duration": 2039,
    "start_time": "2023-03-10T21:35:48.005Z"
   },
   {
    "duration": 228,
    "start_time": "2023-03-10T21:35:50.047Z"
   },
   {
    "duration": 1461,
    "start_time": "2023-03-10T21:38:18.156Z"
   },
   {
    "duration": 716,
    "start_time": "2023-03-10T21:38:19.618Z"
   },
   {
    "duration": 5,
    "start_time": "2023-03-10T21:38:20.336Z"
   },
   {
    "duration": 433,
    "start_time": "2023-03-10T21:38:20.343Z"
   },
   {
    "duration": 201,
    "start_time": "2023-03-10T21:38:20.778Z"
   },
   {
    "duration": 415,
    "start_time": "2023-03-10T21:38:20.980Z"
   },
   {
    "duration": 3,
    "start_time": "2023-03-10T21:38:21.396Z"
   },
   {
    "duration": 12,
    "start_time": "2023-03-10T21:38:21.401Z"
   },
   {
    "duration": 5,
    "start_time": "2023-03-10T21:38:21.414Z"
   },
   {
    "duration": 21,
    "start_time": "2023-03-10T21:38:21.422Z"
   },
   {
    "duration": 15,
    "start_time": "2023-03-10T21:38:21.445Z"
   },
   {
    "duration": 5,
    "start_time": "2023-03-10T21:38:21.462Z"
   },
   {
    "duration": 47,
    "start_time": "2023-03-10T21:38:21.470Z"
   },
   {
    "duration": 31,
    "start_time": "2023-03-10T21:38:21.519Z"
   },
   {
    "duration": 8,
    "start_time": "2023-03-10T21:38:21.552Z"
   },
   {
    "duration": 8,
    "start_time": "2023-03-10T21:38:21.562Z"
   },
   {
    "duration": 11,
    "start_time": "2023-03-10T21:38:21.571Z"
   },
   {
    "duration": 4,
    "start_time": "2023-03-10T21:38:21.583Z"
   },
   {
    "duration": 15,
    "start_time": "2023-03-10T21:38:21.588Z"
   },
   {
    "duration": 1041,
    "start_time": "2023-03-10T21:38:21.605Z"
   },
   {
    "duration": 1547,
    "start_time": "2023-03-10T21:38:22.647Z"
   },
   {
    "duration": 23,
    "start_time": "2023-03-10T21:38:24.195Z"
   },
   {
    "duration": 870,
    "start_time": "2023-03-10T21:38:24.219Z"
   },
   {
    "duration": 563,
    "start_time": "2023-03-10T21:38:25.090Z"
   },
   {
    "duration": 17,
    "start_time": "2023-03-10T21:38:25.657Z"
   },
   {
    "duration": 1254,
    "start_time": "2023-03-10T21:38:25.675Z"
   },
   {
    "duration": 61,
    "start_time": "2023-03-10T21:38:26.931Z"
   },
   {
    "duration": 25,
    "start_time": "2023-03-10T21:38:26.995Z"
   },
   {
    "duration": 1452,
    "start_time": "2023-03-10T21:38:27.022Z"
   },
   {
    "duration": 5,
    "start_time": "2023-03-10T21:38:28.475Z"
   },
   {
    "duration": 11,
    "start_time": "2023-03-10T21:38:28.481Z"
   },
   {
    "duration": 26,
    "start_time": "2023-03-10T21:38:28.493Z"
   },
   {
    "duration": 21,
    "start_time": "2023-03-10T21:38:28.521Z"
   },
   {
    "duration": 1901,
    "start_time": "2023-03-10T21:38:28.544Z"
   },
   {
    "duration": 5618,
    "start_time": "2023-03-10T21:38:30.447Z"
   },
   {
    "duration": 413988,
    "start_time": "2023-03-10T21:38:36.067Z"
   },
   {
    "duration": 13408,
    "start_time": "2023-03-10T21:45:30.057Z"
   },
   {
    "duration": 7,
    "start_time": "2023-03-10T21:45:43.467Z"
   },
   {
    "duration": 133,
    "start_time": "2023-03-10T21:45:43.475Z"
   },
   {
    "duration": 0,
    "start_time": "2023-03-10T21:45:43.609Z"
   },
   {
    "duration": 0,
    "start_time": "2023-03-10T21:45:43.610Z"
   },
   {
    "duration": 0,
    "start_time": "2023-03-10T21:45:43.611Z"
   },
   {
    "duration": 1529,
    "start_time": "2023-03-10T22:14:07.857Z"
   },
   {
    "duration": 769,
    "start_time": "2023-03-10T22:14:09.388Z"
   },
   {
    "duration": 3,
    "start_time": "2023-03-10T22:14:10.159Z"
   },
   {
    "duration": 533,
    "start_time": "2023-03-10T22:14:10.164Z"
   },
   {
    "duration": 214,
    "start_time": "2023-03-10T22:14:10.699Z"
   },
   {
    "duration": 436,
    "start_time": "2023-03-10T22:14:10.915Z"
   },
   {
    "duration": 3,
    "start_time": "2023-03-10T22:14:11.352Z"
   },
   {
    "duration": 18,
    "start_time": "2023-03-10T22:14:11.359Z"
   },
   {
    "duration": 23,
    "start_time": "2023-03-10T22:14:11.378Z"
   },
   {
    "duration": 16,
    "start_time": "2023-03-10T22:14:11.402Z"
   },
   {
    "duration": 43,
    "start_time": "2023-03-10T22:14:11.420Z"
   },
   {
    "duration": 5,
    "start_time": "2023-03-10T22:14:11.465Z"
   },
   {
    "duration": 31,
    "start_time": "2023-03-10T22:14:11.472Z"
   },
   {
    "duration": 15,
    "start_time": "2023-03-10T22:14:11.507Z"
   },
   {
    "duration": 31,
    "start_time": "2023-03-10T22:14:11.524Z"
   },
   {
    "duration": 15,
    "start_time": "2023-03-10T22:14:11.557Z"
   },
   {
    "duration": 11,
    "start_time": "2023-03-10T22:14:11.573Z"
   },
   {
    "duration": 10,
    "start_time": "2023-03-10T22:14:11.586Z"
   },
   {
    "duration": 24,
    "start_time": "2023-03-10T22:14:11.597Z"
   },
   {
    "duration": 1048,
    "start_time": "2023-03-10T22:14:11.622Z"
   },
   {
    "duration": 1637,
    "start_time": "2023-03-10T22:14:12.672Z"
   },
   {
    "duration": 31,
    "start_time": "2023-03-10T22:14:14.311Z"
   },
   {
    "duration": 784,
    "start_time": "2023-03-10T22:14:14.344Z"
   },
   {
    "duration": 488,
    "start_time": "2023-03-10T22:14:15.130Z"
   },
   {
    "duration": 34,
    "start_time": "2023-03-10T22:14:15.620Z"
   },
   {
    "duration": 1207,
    "start_time": "2023-03-10T22:14:15.657Z"
   },
   {
    "duration": 53,
    "start_time": "2023-03-10T22:14:16.866Z"
   },
   {
    "duration": 38,
    "start_time": "2023-03-10T22:14:16.921Z"
   },
   {
    "duration": 1461,
    "start_time": "2023-03-10T22:14:16.961Z"
   },
   {
    "duration": 5,
    "start_time": "2023-03-10T22:14:18.425Z"
   },
   {
    "duration": 16,
    "start_time": "2023-03-10T22:14:18.441Z"
   },
   {
    "duration": 24,
    "start_time": "2023-03-10T22:14:18.459Z"
   },
   {
    "duration": 3,
    "start_time": "2023-03-10T22:14:18.485Z"
   },
   {
    "duration": 2559,
    "start_time": "2023-03-10T22:14:18.489Z"
   },
   {
    "duration": 5655,
    "start_time": "2023-03-10T22:14:21.050Z"
   },
   {
    "duration": 411672,
    "start_time": "2023-03-10T22:14:26.707Z"
   },
   {
    "duration": 14823,
    "start_time": "2023-03-10T22:21:18.380Z"
   },
   {
    "duration": 6,
    "start_time": "2023-03-10T22:21:33.205Z"
   },
   {
    "duration": 7,
    "start_time": "2023-03-10T22:21:33.213Z"
   },
   {
    "duration": 24,
    "start_time": "2023-03-10T22:21:33.221Z"
   },
   {
    "duration": 9,
    "start_time": "2023-03-10T22:21:33.251Z"
   },
   {
    "duration": 7,
    "start_time": "2023-03-10T22:21:33.262Z"
   },
   {
    "duration": 1810652,
    "start_time": "2023-03-10T22:23:38.043Z"
   },
   {
    "duration": 1536302,
    "start_time": "2023-03-10T22:55:27.927Z"
   },
   {
    "duration": 13122,
    "start_time": "2023-03-10T23:25:00.612Z"
   },
   {
    "duration": 20,
    "start_time": "2023-03-10T23:25:13.735Z"
   },
   {
    "duration": 7,
    "start_time": "2023-03-10T23:25:30.382Z"
   },
   {
    "duration": 8,
    "start_time": "2023-03-10T23:25:31.171Z"
   },
   {
    "duration": 13,
    "start_time": "2023-03-10T23:25:32.235Z"
   },
   {
    "duration": 59,
    "start_time": "2023-04-23T20:04:54.638Z"
   },
   {
    "duration": 1680,
    "start_time": "2023-04-23T20:05:01.519Z"
   },
   {
    "duration": 3068,
    "start_time": "2023-04-23T20:05:03.201Z"
   },
   {
    "duration": 4,
    "start_time": "2023-04-23T20:05:06.270Z"
   },
   {
    "duration": 448,
    "start_time": "2023-04-23T20:05:06.276Z"
   },
   {
    "duration": 213,
    "start_time": "2023-04-23T20:05:06.726Z"
   },
   {
    "duration": 422,
    "start_time": "2023-04-23T20:05:06.940Z"
   },
   {
    "duration": 3,
    "start_time": "2023-04-23T20:05:07.364Z"
   },
   {
    "duration": 23,
    "start_time": "2023-04-23T20:05:07.369Z"
   },
   {
    "duration": 6,
    "start_time": "2023-04-23T20:05:07.394Z"
   },
   {
    "duration": 5,
    "start_time": "2023-04-23T20:05:07.402Z"
   },
   {
    "duration": 18,
    "start_time": "2023-04-23T20:05:07.408Z"
   },
   {
    "duration": 10,
    "start_time": "2023-04-23T20:05:07.428Z"
   },
   {
    "duration": 54,
    "start_time": "2023-04-23T20:05:07.439Z"
   },
   {
    "duration": 15,
    "start_time": "2023-04-23T20:05:07.497Z"
   },
   {
    "duration": 10,
    "start_time": "2023-04-23T20:05:07.513Z"
   },
   {
    "duration": 8,
    "start_time": "2023-04-23T20:05:07.525Z"
   },
   {
    "duration": 11,
    "start_time": "2023-04-23T20:05:07.535Z"
   },
   {
    "duration": 39,
    "start_time": "2023-04-23T20:05:07.548Z"
   },
   {
    "duration": 11,
    "start_time": "2023-04-23T20:05:07.589Z"
   },
   {
    "duration": 1076,
    "start_time": "2023-04-23T20:05:07.602Z"
   },
   {
    "duration": 1722,
    "start_time": "2023-04-23T20:05:08.680Z"
   },
   {
    "duration": 30,
    "start_time": "2023-04-23T20:05:10.404Z"
   },
   {
    "duration": 922,
    "start_time": "2023-04-23T20:05:10.436Z"
   },
   {
    "duration": 496,
    "start_time": "2023-04-23T20:05:11.360Z"
   },
   {
    "duration": 18,
    "start_time": "2023-04-23T20:05:11.858Z"
   },
   {
    "duration": 1219,
    "start_time": "2023-04-23T20:05:11.886Z"
   },
   {
    "duration": 53,
    "start_time": "2023-04-23T20:05:13.107Z"
   },
   {
    "duration": 42,
    "start_time": "2023-04-23T20:05:13.161Z"
   },
   {
    "duration": 1321,
    "start_time": "2023-04-23T20:05:13.205Z"
   },
   {
    "duration": 5,
    "start_time": "2023-04-23T20:05:14.528Z"
   },
   {
    "duration": 18,
    "start_time": "2023-04-23T20:05:14.535Z"
   },
   {
    "duration": 36,
    "start_time": "2023-04-23T20:05:14.555Z"
   },
   {
    "duration": 3,
    "start_time": "2023-04-23T20:05:14.592Z"
   },
   {
    "duration": 1697,
    "start_time": "2023-04-23T20:05:14.597Z"
   },
   {
    "duration": 6151,
    "start_time": "2023-04-23T20:05:16.297Z"
   },
   {
    "duration": 444170,
    "start_time": "2023-04-23T20:05:22.451Z"
   },
   {
    "duration": 1643244,
    "start_time": "2023-04-23T20:12:46.623Z"
   },
   {
    "duration": 14225,
    "start_time": "2023-04-23T20:40:09.869Z"
   },
   {
    "duration": 9,
    "start_time": "2023-04-23T20:40:24.095Z"
   },
   {
    "duration": 16,
    "start_time": "2023-04-23T20:40:24.105Z"
   },
   {
    "duration": 30,
    "start_time": "2023-04-23T20:40:24.122Z"
   },
   {
    "duration": 23,
    "start_time": "2023-04-23T20:40:24.153Z"
   },
   {
    "duration": 8,
    "start_time": "2023-04-23T20:40:24.178Z"
   }
  ],
  "kernelspec": {
   "display_name": "Python 3 (ipykernel)",
   "language": "python",
   "name": "python3"
  },
  "language_info": {
   "codemirror_mode": {
    "name": "ipython",
    "version": 3
   },
   "file_extension": ".py",
   "mimetype": "text/x-python",
   "name": "python",
   "nbconvert_exporter": "python",
   "pygments_lexer": "ipython3",
   "version": "3.9.13"
  },
  "toc": {
   "base_numbering": 1,
   "nav_menu": {},
   "number_sections": true,
   "sideBar": true,
   "skip_h1_title": true,
   "title_cell": "Содержание",
   "title_sidebar": "Contents",
   "toc_cell": true,
   "toc_position": {
    "height": "calc(100% - 180px)",
    "left": "10px",
    "top": "150px",
    "width": "185.72px"
   },
   "toc_section_display": true,
   "toc_window_display": true
  }
 },
 "nbformat": 4,
 "nbformat_minor": 2
}
