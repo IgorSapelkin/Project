{
 "cells": [
  {
   "cell_type": "markdown",
   "metadata": {},
   "source": [
    "# Проект для «Викишоп»"
   ]
  },
  {
   "cell_type": "markdown",
   "metadata": {},
   "source": [
    "Интернет-магазин «Викишоп» запускает новый сервис. Теперь пользователи могут редактировать и дополнять описания товаров, как в вики-сообществах. То есть клиенты предлагают свои правки и комментируют изменения других. Магазину нужен инструмент, который будет искать токсичные комментарии и отправлять их на модерацию. \n",
    "\n",
    "Обучите модель классифицировать комментарии на позитивные и негативные. В вашем распоряжении набор данных с разметкой о токсичности правок.\n",
    "\n",
    "Постройте модель со значением метрики качества *F1* не меньше 0.75. \n",
    "\n",
    "**Инструкция по выполнению проекта**\n",
    "\n",
    "1. Загрузите и подготовьте данные.\n",
    "2. Обучите разные модели. \n",
    "3. Сделайте выводы.\n",
    "\n",
    "Для выполнения проекта применять *BERT* необязательно, но вы можете попробовать.\n",
    "\n",
    "**Описание данных**\n",
    "\n",
    "Данные находятся в файле `toxic_comments.csv`. Столбец *text* в нём содержит текст комментария, а *toxic* — целевой признак."
   ]
  },
  {
   "cell_type": "markdown",
   "metadata": {},
   "source": [
    "## Подготовка"
   ]
  },
  {
   "cell_type": "code",
   "execution_count": 35,
   "metadata": {},
   "outputs": [
    {
     "name": "stdout",
     "output_type": "stream",
     "text": [
      "Requirement already satisfied: spacy in /opt/conda/lib/python3.9/site-packages (3.2.0)\n",
      "Requirement already satisfied: catalogue<2.1.0,>=2.0.6 in /opt/conda/lib/python3.9/site-packages (from spacy) (2.0.8)\n",
      "Requirement already satisfied: srsly<3.0.0,>=2.4.1 in /opt/conda/lib/python3.9/site-packages (from spacy) (2.4.4)\n",
      "Requirement already satisfied: spacy-legacy<3.1.0,>=3.0.8 in /opt/conda/lib/python3.9/site-packages (from spacy) (3.0.10)\n",
      "Requirement already satisfied: setuptools in /opt/conda/lib/python3.9/site-packages (from spacy) (49.6.0.post20210108)\n",
      "Requirement already satisfied: numpy>=1.15.0 in /opt/conda/lib/python3.9/site-packages (from spacy) (1.21.1)\n",
      "Requirement already satisfied: murmurhash<1.1.0,>=0.28.0 in /opt/conda/lib/python3.9/site-packages (from spacy) (1.0.8)\n",
      "Requirement already satisfied: pathy>=0.3.5 in /opt/conda/lib/python3.9/site-packages (from spacy) (0.6.2)\n",
      "Requirement already satisfied: cymem<2.1.0,>=2.0.2 in /opt/conda/lib/python3.9/site-packages (from spacy) (2.0.6)\n",
      "Requirement already satisfied: typer<0.5.0,>=0.3.0 in /opt/conda/lib/python3.9/site-packages (from spacy) (0.4.2)\n",
      "Requirement already satisfied: jinja2 in /opt/conda/lib/python3.9/site-packages (from spacy) (3.0.1)\n",
      "Requirement already satisfied: thinc<8.1.0,>=8.0.12 in /opt/conda/lib/python3.9/site-packages (from spacy) (8.0.17)\n",
      "Requirement already satisfied: preshed<3.1.0,>=3.0.2 in /opt/conda/lib/python3.9/site-packages (from spacy) (3.0.7)\n",
      "Requirement already satisfied: pydantic!=1.8,!=1.8.1,<1.9.0,>=1.7.4 in /opt/conda/lib/python3.9/site-packages (from spacy) (1.8.2)\n",
      "Requirement already satisfied: tqdm<5.0.0,>=4.38.0 in /opt/conda/lib/python3.9/site-packages (from spacy) (4.61.2)\n",
      "Requirement already satisfied: blis<0.8.0,>=0.4.0 in /opt/conda/lib/python3.9/site-packages (from spacy) (0.7.8)\n",
      "Requirement already satisfied: langcodes<4.0.0,>=3.2.0 in /opt/conda/lib/python3.9/site-packages (from spacy) (3.3.0)\n",
      "Requirement already satisfied: spacy-loggers<2.0.0,>=1.0.0 in /opt/conda/lib/python3.9/site-packages (from spacy) (1.0.3)\n",
      "Requirement already satisfied: wasabi<1.1.0,>=0.8.1 in /opt/conda/lib/python3.9/site-packages (from spacy) (0.10.1)\n",
      "Requirement already satisfied: packaging>=20.0 in /opt/conda/lib/python3.9/site-packages (from spacy) (21.3)\n",
      "Requirement already satisfied: requests<3.0.0,>=2.13.0 in /opt/conda/lib/python3.9/site-packages (from spacy) (2.25.1)\n",
      "Requirement already satisfied: pyparsing!=3.0.5,>=2.0.2 in /opt/conda/lib/python3.9/site-packages (from packaging>=20.0->spacy) (2.4.7)\n",
      "Requirement already satisfied: smart-open<6.0.0,>=5.2.1 in /opt/conda/lib/python3.9/site-packages (from pathy>=0.3.5->spacy) (5.2.1)\n",
      "Requirement already satisfied: typing-extensions>=3.7.4.3 in /opt/conda/lib/python3.9/site-packages (from pydantic!=1.8,!=1.8.1,<1.9.0,>=1.7.4->spacy) (4.3.0)\n",
      "Requirement already satisfied: idna<3,>=2.5 in /opt/conda/lib/python3.9/site-packages (from requests<3.0.0,>=2.13.0->spacy) (2.10)\n",
      "Requirement already satisfied: certifi>=2017.4.17 in /opt/conda/lib/python3.9/site-packages (from requests<3.0.0,>=2.13.0->spacy) (2022.6.15)\n",
      "Requirement already satisfied: urllib3<1.27,>=1.21.1 in /opt/conda/lib/python3.9/site-packages (from requests<3.0.0,>=2.13.0->spacy) (1.26.6)\n",
      "Requirement already satisfied: chardet<5,>=3.0.2 in /opt/conda/lib/python3.9/site-packages (from requests<3.0.0,>=2.13.0->spacy) (4.0.0)\n",
      "Requirement already satisfied: click<9.0.0,>=7.1.1 in /opt/conda/lib/python3.9/site-packages (from typer<0.5.0,>=0.3.0->spacy) (8.1.3)\n",
      "Requirement already satisfied: MarkupSafe>=2.0 in /opt/conda/lib/python3.9/site-packages (from jinja2->spacy) (2.1.1)\n",
      "\u001b[38;5;3m⚠ As of spaCy v3.0, shortcuts like 'en' are deprecated. Please use the\n",
      "full pipeline package name 'en_core_web_sm' instead.\u001b[0m\n",
      "Collecting en-core-web-sm==3.2.0\n",
      "  Downloading https://github.com/explosion/spacy-models/releases/download/en_core_web_sm-3.2.0/en_core_web_sm-3.2.0-py3-none-any.whl (13.9 MB)\n",
      "\u001b[K     |████████████████████████████████| 13.9 MB 2.1 MB/s eta 0:00:01��███████▍| 13.6 MB 2.1 MB/s eta 0:00:01\n",
      "\u001b[?25hRequirement already satisfied: spacy<3.3.0,>=3.2.0 in /opt/conda/lib/python3.9/site-packages (from en-core-web-sm==3.2.0) (3.2.0)\n",
      "Requirement already satisfied: srsly<3.0.0,>=2.4.1 in /opt/conda/lib/python3.9/site-packages (from spacy<3.3.0,>=3.2.0->en-core-web-sm==3.2.0) (2.4.4)\n",
      "Requirement already satisfied: numpy>=1.15.0 in /opt/conda/lib/python3.9/site-packages (from spacy<3.3.0,>=3.2.0->en-core-web-sm==3.2.0) (1.21.1)\n",
      "Requirement already satisfied: thinc<8.1.0,>=8.0.12 in /opt/conda/lib/python3.9/site-packages (from spacy<3.3.0,>=3.2.0->en-core-web-sm==3.2.0) (8.0.17)\n",
      "Requirement already satisfied: spacy-loggers<2.0.0,>=1.0.0 in /opt/conda/lib/python3.9/site-packages (from spacy<3.3.0,>=3.2.0->en-core-web-sm==3.2.0) (1.0.3)\n",
      "Requirement already satisfied: blis<0.8.0,>=0.4.0 in /opt/conda/lib/python3.9/site-packages (from spacy<3.3.0,>=3.2.0->en-core-web-sm==3.2.0) (0.7.8)\n",
      "Requirement already satisfied: packaging>=20.0 in /opt/conda/lib/python3.9/site-packages (from spacy<3.3.0,>=3.2.0->en-core-web-sm==3.2.0) (21.3)\n",
      "Requirement already satisfied: wasabi<1.1.0,>=0.8.1 in /opt/conda/lib/python3.9/site-packages (from spacy<3.3.0,>=3.2.0->en-core-web-sm==3.2.0) (0.10.1)\n",
      "Requirement already satisfied: requests<3.0.0,>=2.13.0 in /opt/conda/lib/python3.9/site-packages (from spacy<3.3.0,>=3.2.0->en-core-web-sm==3.2.0) (2.25.1)\n",
      "Requirement already satisfied: cymem<2.1.0,>=2.0.2 in /opt/conda/lib/python3.9/site-packages (from spacy<3.3.0,>=3.2.0->en-core-web-sm==3.2.0) (2.0.6)\n",
      "Requirement already satisfied: tqdm<5.0.0,>=4.38.0 in /opt/conda/lib/python3.9/site-packages (from spacy<3.3.0,>=3.2.0->en-core-web-sm==3.2.0) (4.61.2)\n",
      "Requirement already satisfied: spacy-legacy<3.1.0,>=3.0.8 in /opt/conda/lib/python3.9/site-packages (from spacy<3.3.0,>=3.2.0->en-core-web-sm==3.2.0) (3.0.10)\n",
      "Requirement already satisfied: preshed<3.1.0,>=3.0.2 in /opt/conda/lib/python3.9/site-packages (from spacy<3.3.0,>=3.2.0->en-core-web-sm==3.2.0) (3.0.7)\n",
      "Requirement already satisfied: murmurhash<1.1.0,>=0.28.0 in /opt/conda/lib/python3.9/site-packages (from spacy<3.3.0,>=3.2.0->en-core-web-sm==3.2.0) (1.0.8)\n",
      "Requirement already satisfied: pydantic!=1.8,!=1.8.1,<1.9.0,>=1.7.4 in /opt/conda/lib/python3.9/site-packages (from spacy<3.3.0,>=3.2.0->en-core-web-sm==3.2.0) (1.8.2)\n",
      "Requirement already satisfied: pathy>=0.3.5 in /opt/conda/lib/python3.9/site-packages (from spacy<3.3.0,>=3.2.0->en-core-web-sm==3.2.0) (0.6.2)\n",
      "Requirement already satisfied: typer<0.5.0,>=0.3.0 in /opt/conda/lib/python3.9/site-packages (from spacy<3.3.0,>=3.2.0->en-core-web-sm==3.2.0) (0.4.2)\n",
      "Requirement already satisfied: langcodes<4.0.0,>=3.2.0 in /opt/conda/lib/python3.9/site-packages (from spacy<3.3.0,>=3.2.0->en-core-web-sm==3.2.0) (3.3.0)\n",
      "Requirement already satisfied: jinja2 in /opt/conda/lib/python3.9/site-packages (from spacy<3.3.0,>=3.2.0->en-core-web-sm==3.2.0) (3.0.1)\n",
      "Requirement already satisfied: catalogue<2.1.0,>=2.0.6 in /opt/conda/lib/python3.9/site-packages (from spacy<3.3.0,>=3.2.0->en-core-web-sm==3.2.0) (2.0.8)\n",
      "Requirement already satisfied: setuptools in /opt/conda/lib/python3.9/site-packages (from spacy<3.3.0,>=3.2.0->en-core-web-sm==3.2.0) (49.6.0.post20210108)\n",
      "Requirement already satisfied: pyparsing!=3.0.5,>=2.0.2 in /opt/conda/lib/python3.9/site-packages (from packaging>=20.0->spacy<3.3.0,>=3.2.0->en-core-web-sm==3.2.0) (2.4.7)\n",
      "Requirement already satisfied: smart-open<6.0.0,>=5.2.1 in /opt/conda/lib/python3.9/site-packages (from pathy>=0.3.5->spacy<3.3.0,>=3.2.0->en-core-web-sm==3.2.0) (5.2.1)\n",
      "Requirement already satisfied: typing-extensions>=3.7.4.3 in /opt/conda/lib/python3.9/site-packages (from pydantic!=1.8,!=1.8.1,<1.9.0,>=1.7.4->spacy<3.3.0,>=3.2.0->en-core-web-sm==3.2.0) (4.3.0)\n",
      "Requirement already satisfied: chardet<5,>=3.0.2 in /opt/conda/lib/python3.9/site-packages (from requests<3.0.0,>=2.13.0->spacy<3.3.0,>=3.2.0->en-core-web-sm==3.2.0) (4.0.0)\n",
      "Requirement already satisfied: urllib3<1.27,>=1.21.1 in /opt/conda/lib/python3.9/site-packages (from requests<3.0.0,>=2.13.0->spacy<3.3.0,>=3.2.0->en-core-web-sm==3.2.0) (1.26.6)\n",
      "Requirement already satisfied: certifi>=2017.4.17 in /opt/conda/lib/python3.9/site-packages (from requests<3.0.0,>=2.13.0->spacy<3.3.0,>=3.2.0->en-core-web-sm==3.2.0) (2022.6.15)\n",
      "Requirement already satisfied: idna<3,>=2.5 in /opt/conda/lib/python3.9/site-packages (from requests<3.0.0,>=2.13.0->spacy<3.3.0,>=3.2.0->en-core-web-sm==3.2.0) (2.10)\n",
      "Requirement already satisfied: click<9.0.0,>=7.1.1 in /opt/conda/lib/python3.9/site-packages (from typer<0.5.0,>=0.3.0->spacy<3.3.0,>=3.2.0->en-core-web-sm==3.2.0) (8.1.3)\n",
      "Requirement already satisfied: MarkupSafe>=2.0 in /opt/conda/lib/python3.9/site-packages (from jinja2->spacy<3.3.0,>=3.2.0->en-core-web-sm==3.2.0) (2.1.1)\n",
      "\u001b[38;5;2m✔ Download and installation successful\u001b[0m\n",
      "You can now load the package via spacy.load('en_core_web_sm')\n"
     ]
    },
    {
     "name": "stderr",
     "output_type": "stream",
     "text": [
      "[nltk_data] Downloading package stopwords to /home/jovyan/nltk_data...\n",
      "[nltk_data]   Package stopwords is already up-to-date!\n"
     ]
    },
    {
     "name": "stdout",
     "output_type": "stream",
     "text": [
      "Collecting en-core-web-sm==3.2.0\n",
      "  Downloading https://github.com/explosion/spacy-models/releases/download/en_core_web_sm-3.2.0/en_core_web_sm-3.2.0-py3-none-any.whl (13.9 MB)\n",
      "\u001b[K     |████████████████████████████████| 13.9 MB 9.3 MB/s eta 0:00:01\n",
      "\u001b[?25hRequirement already satisfied: spacy<3.3.0,>=3.2.0 in /opt/conda/lib/python3.9/site-packages (from en-core-web-sm==3.2.0) (3.2.0)\n",
      "Requirement already satisfied: srsly<3.0.0,>=2.4.1 in /opt/conda/lib/python3.9/site-packages (from spacy<3.3.0,>=3.2.0->en-core-web-sm==3.2.0) (2.4.4)\n",
      "Requirement already satisfied: jinja2 in /opt/conda/lib/python3.9/site-packages (from spacy<3.3.0,>=3.2.0->en-core-web-sm==3.2.0) (3.0.1)\n",
      "Requirement already satisfied: requests<3.0.0,>=2.13.0 in /opt/conda/lib/python3.9/site-packages (from spacy<3.3.0,>=3.2.0->en-core-web-sm==3.2.0) (2.25.1)\n",
      "Requirement already satisfied: spacy-loggers<2.0.0,>=1.0.0 in /opt/conda/lib/python3.9/site-packages (from spacy<3.3.0,>=3.2.0->en-core-web-sm==3.2.0) (1.0.3)\n",
      "Requirement already satisfied: pathy>=0.3.5 in /opt/conda/lib/python3.9/site-packages (from spacy<3.3.0,>=3.2.0->en-core-web-sm==3.2.0) (0.6.2)\n",
      "Requirement already satisfied: numpy>=1.15.0 in /opt/conda/lib/python3.9/site-packages (from spacy<3.3.0,>=3.2.0->en-core-web-sm==3.2.0) (1.21.1)\n",
      "Requirement already satisfied: blis<0.8.0,>=0.4.0 in /opt/conda/lib/python3.9/site-packages (from spacy<3.3.0,>=3.2.0->en-core-web-sm==3.2.0) (0.7.8)\n",
      "Requirement already satisfied: murmurhash<1.1.0,>=0.28.0 in /opt/conda/lib/python3.9/site-packages (from spacy<3.3.0,>=3.2.0->en-core-web-sm==3.2.0) (1.0.8)\n",
      "Requirement already satisfied: preshed<3.1.0,>=3.0.2 in /opt/conda/lib/python3.9/site-packages (from spacy<3.3.0,>=3.2.0->en-core-web-sm==3.2.0) (3.0.7)\n",
      "Requirement already satisfied: packaging>=20.0 in /opt/conda/lib/python3.9/site-packages (from spacy<3.3.0,>=3.2.0->en-core-web-sm==3.2.0) (21.3)\n",
      "Requirement already satisfied: wasabi<1.1.0,>=0.8.1 in /opt/conda/lib/python3.9/site-packages (from spacy<3.3.0,>=3.2.0->en-core-web-sm==3.2.0) (0.10.1)\n",
      "Requirement already satisfied: thinc<8.1.0,>=8.0.12 in /opt/conda/lib/python3.9/site-packages (from spacy<3.3.0,>=3.2.0->en-core-web-sm==3.2.0) (8.0.17)\n",
      "Requirement already satisfied: typer<0.5.0,>=0.3.0 in /opt/conda/lib/python3.9/site-packages (from spacy<3.3.0,>=3.2.0->en-core-web-sm==3.2.0) (0.4.2)\n",
      "Requirement already satisfied: langcodes<4.0.0,>=3.2.0 in /opt/conda/lib/python3.9/site-packages (from spacy<3.3.0,>=3.2.0->en-core-web-sm==3.2.0) (3.3.0)\n",
      "Requirement already satisfied: pydantic!=1.8,!=1.8.1,<1.9.0,>=1.7.4 in /opt/conda/lib/python3.9/site-packages (from spacy<3.3.0,>=3.2.0->en-core-web-sm==3.2.0) (1.8.2)\n",
      "Requirement already satisfied: setuptools in /opt/conda/lib/python3.9/site-packages (from spacy<3.3.0,>=3.2.0->en-core-web-sm==3.2.0) (49.6.0.post20210108)\n",
      "Requirement already satisfied: tqdm<5.0.0,>=4.38.0 in /opt/conda/lib/python3.9/site-packages (from spacy<3.3.0,>=3.2.0->en-core-web-sm==3.2.0) (4.61.2)\n",
      "Requirement already satisfied: spacy-legacy<3.1.0,>=3.0.8 in /opt/conda/lib/python3.9/site-packages (from spacy<3.3.0,>=3.2.0->en-core-web-sm==3.2.0) (3.0.10)\n",
      "Requirement already satisfied: cymem<2.1.0,>=2.0.2 in /opt/conda/lib/python3.9/site-packages (from spacy<3.3.0,>=3.2.0->en-core-web-sm==3.2.0) (2.0.6)\n",
      "Requirement already satisfied: catalogue<2.1.0,>=2.0.6 in /opt/conda/lib/python3.9/site-packages (from spacy<3.3.0,>=3.2.0->en-core-web-sm==3.2.0) (2.0.8)\n",
      "Requirement already satisfied: pyparsing!=3.0.5,>=2.0.2 in /opt/conda/lib/python3.9/site-packages (from packaging>=20.0->spacy<3.3.0,>=3.2.0->en-core-web-sm==3.2.0) (2.4.7)\n",
      "Requirement already satisfied: smart-open<6.0.0,>=5.2.1 in /opt/conda/lib/python3.9/site-packages (from pathy>=0.3.5->spacy<3.3.0,>=3.2.0->en-core-web-sm==3.2.0) (5.2.1)\n",
      "Requirement already satisfied: typing-extensions>=3.7.4.3 in /opt/conda/lib/python3.9/site-packages (from pydantic!=1.8,!=1.8.1,<1.9.0,>=1.7.4->spacy<3.3.0,>=3.2.0->en-core-web-sm==3.2.0) (4.3.0)\n",
      "Requirement already satisfied: chardet<5,>=3.0.2 in /opt/conda/lib/python3.9/site-packages (from requests<3.0.0,>=2.13.0->spacy<3.3.0,>=3.2.0->en-core-web-sm==3.2.0) (4.0.0)\n",
      "Requirement already satisfied: certifi>=2017.4.17 in /opt/conda/lib/python3.9/site-packages (from requests<3.0.0,>=2.13.0->spacy<3.3.0,>=3.2.0->en-core-web-sm==3.2.0) (2022.6.15)\n",
      "Requirement already satisfied: idna<3,>=2.5 in /opt/conda/lib/python3.9/site-packages (from requests<3.0.0,>=2.13.0->spacy<3.3.0,>=3.2.0->en-core-web-sm==3.2.0) (2.10)\n",
      "Requirement already satisfied: urllib3<1.27,>=1.21.1 in /opt/conda/lib/python3.9/site-packages (from requests<3.0.0,>=2.13.0->spacy<3.3.0,>=3.2.0->en-core-web-sm==3.2.0) (1.26.6)\n",
      "Requirement already satisfied: click<9.0.0,>=7.1.1 in /opt/conda/lib/python3.9/site-packages (from typer<0.5.0,>=0.3.0->spacy<3.3.0,>=3.2.0->en-core-web-sm==3.2.0) (8.1.3)\n",
      "Requirement already satisfied: MarkupSafe>=2.0 in /opt/conda/lib/python3.9/site-packages (from jinja2->spacy<3.3.0,>=3.2.0->en-core-web-sm==3.2.0) (2.1.1)\n",
      "\u001b[38;5;2m✔ Download and installation successful\u001b[0m\n",
      "You can now load the package via spacy.load('en_core_web_sm')\n"
     ]
    }
   ],
   "source": [
    "import pandas as pd\n",
    "import numpy as np\n",
    "import spacy\n",
    "import sys\n",
    "!{sys.executable} -m pip install spacy\n",
    "\n",
    "!{sys.executable} -m spacy download en\n",
    "\n",
    "from sklearn.model_selection import cross_val_score\n",
    "import warnings\n",
    "warnings.filterwarnings('ignore')\n",
    "from catboost import Pool, CatBoostClassifier, cv\n",
    "import csv\n",
    "import nltk\n",
    "from nltk.corpus import stopwords as nltk_stopwords\n",
    "nltk.download('stopwords')\n",
    "from sklearn.feature_extraction.text import TfidfVectorizer\n",
    "from sklearn.metrics import fbeta_score, make_scorer\n",
    "from sklearn.linear_model import LogisticRegression\n",
    "from sklearn.ensemble import RandomForestClassifier\n",
    "from sklearn.model_selection import train_test_split\n",
    "from sklearn.tree import DecisionTreeClassifier\n",
    "import matplotlib.pyplot as plt\n",
    "import lightgbm as lgb\n",
    "from sklearn.metrics import accuracy_score, f1_score\n",
    "from sklearn.model_selection import train_test_split, GridSearchCV\n",
    "from sklearn.feature_extraction.text import CountVectorizer, TfidfVectorizer\n",
    "from nltk.stem.wordnet import WordNetLemmatizer\n",
    "from nltk.stem import WordNetLemmatizer\n",
    "!spacy download en_core_web_sm\n",
    "import re\n",
    "from tqdm import notebook\n",
    "notebook.tqdm.pandas() "
   ]
  },
  {
   "cell_type": "code",
   "execution_count": 36,
   "metadata": {},
   "outputs": [],
   "source": [
    "notebook.tqdm.pandas() "
   ]
  },
  {
   "cell_type": "code",
   "execution_count": 37,
   "metadata": {},
   "outputs": [],
   "source": [
    "df = pd.read_csv('/datasets/toxic_comments.csv')"
   ]
  },
  {
   "cell_type": "code",
   "execution_count": 38,
   "metadata": {},
   "outputs": [
    {
     "data": {
      "text/html": [
       "<div>\n",
       "<style scoped>\n",
       "    .dataframe tbody tr th:only-of-type {\n",
       "        vertical-align: middle;\n",
       "    }\n",
       "\n",
       "    .dataframe tbody tr th {\n",
       "        vertical-align: top;\n",
       "    }\n",
       "\n",
       "    .dataframe thead th {\n",
       "        text-align: right;\n",
       "    }\n",
       "</style>\n",
       "<table border=\"1\" class=\"dataframe\">\n",
       "  <thead>\n",
       "    <tr style=\"text-align: right;\">\n",
       "      <th></th>\n",
       "      <th>Unnamed: 0</th>\n",
       "      <th>text</th>\n",
       "      <th>toxic</th>\n",
       "    </tr>\n",
       "  </thead>\n",
       "  <tbody>\n",
       "    <tr>\n",
       "      <th>0</th>\n",
       "      <td>0</td>\n",
       "      <td>Explanation\\nWhy the edits made under my usern...</td>\n",
       "      <td>0</td>\n",
       "    </tr>\n",
       "    <tr>\n",
       "      <th>1</th>\n",
       "      <td>1</td>\n",
       "      <td>D'aww! He matches this background colour I'm s...</td>\n",
       "      <td>0</td>\n",
       "    </tr>\n",
       "    <tr>\n",
       "      <th>2</th>\n",
       "      <td>2</td>\n",
       "      <td>Hey man, I'm really not trying to edit war. It...</td>\n",
       "      <td>0</td>\n",
       "    </tr>\n",
       "    <tr>\n",
       "      <th>3</th>\n",
       "      <td>3</td>\n",
       "      <td>\"\\nMore\\nI can't make any real suggestions on ...</td>\n",
       "      <td>0</td>\n",
       "    </tr>\n",
       "    <tr>\n",
       "      <th>4</th>\n",
       "      <td>4</td>\n",
       "      <td>You, sir, are my hero. Any chance you remember...</td>\n",
       "      <td>0</td>\n",
       "    </tr>\n",
       "    <tr>\n",
       "      <th>5</th>\n",
       "      <td>5</td>\n",
       "      <td>\"\\n\\nCongratulations from me as well, use the ...</td>\n",
       "      <td>0</td>\n",
       "    </tr>\n",
       "    <tr>\n",
       "      <th>6</th>\n",
       "      <td>6</td>\n",
       "      <td>COCKSUCKER BEFORE YOU PISS AROUND ON MY WORK</td>\n",
       "      <td>1</td>\n",
       "    </tr>\n",
       "    <tr>\n",
       "      <th>7</th>\n",
       "      <td>7</td>\n",
       "      <td>Your vandalism to the Matt Shirvington article...</td>\n",
       "      <td>0</td>\n",
       "    </tr>\n",
       "    <tr>\n",
       "      <th>8</th>\n",
       "      <td>8</td>\n",
       "      <td>Sorry if the word 'nonsense' was offensive to ...</td>\n",
       "      <td>0</td>\n",
       "    </tr>\n",
       "    <tr>\n",
       "      <th>9</th>\n",
       "      <td>9</td>\n",
       "      <td>alignment on this subject and which are contra...</td>\n",
       "      <td>0</td>\n",
       "    </tr>\n",
       "    <tr>\n",
       "      <th>10</th>\n",
       "      <td>10</td>\n",
       "      <td>\"\\nFair use rationale for Image:Wonju.jpg\\n\\nT...</td>\n",
       "      <td>0</td>\n",
       "    </tr>\n",
       "    <tr>\n",
       "      <th>11</th>\n",
       "      <td>11</td>\n",
       "      <td>bbq \\n\\nbe a man and lets discuss it-maybe ove...</td>\n",
       "      <td>0</td>\n",
       "    </tr>\n",
       "    <tr>\n",
       "      <th>12</th>\n",
       "      <td>12</td>\n",
       "      <td>Hey... what is it..\\n@ | talk .\\nWhat is it......</td>\n",
       "      <td>1</td>\n",
       "    </tr>\n",
       "    <tr>\n",
       "      <th>13</th>\n",
       "      <td>13</td>\n",
       "      <td>Before you start throwing accusations and warn...</td>\n",
       "      <td>0</td>\n",
       "    </tr>\n",
       "    <tr>\n",
       "      <th>14</th>\n",
       "      <td>14</td>\n",
       "      <td>Oh, and the girl above started her arguments w...</td>\n",
       "      <td>0</td>\n",
       "    </tr>\n",
       "    <tr>\n",
       "      <th>15</th>\n",
       "      <td>15</td>\n",
       "      <td>\"\\n\\nJuelz Santanas Age\\n\\nIn 2002, Juelz Sant...</td>\n",
       "      <td>0</td>\n",
       "    </tr>\n",
       "    <tr>\n",
       "      <th>16</th>\n",
       "      <td>16</td>\n",
       "      <td>Bye! \\n\\nDon't look, come or think of comming ...</td>\n",
       "      <td>1</td>\n",
       "    </tr>\n",
       "    <tr>\n",
       "      <th>17</th>\n",
       "      <td>17</td>\n",
       "      <td>REDIRECT Talk:Voydan Pop Georgiev- Chernodrinski</td>\n",
       "      <td>0</td>\n",
       "    </tr>\n",
       "    <tr>\n",
       "      <th>18</th>\n",
       "      <td>18</td>\n",
       "      <td>The Mitsurugi point made no sense - why not ar...</td>\n",
       "      <td>0</td>\n",
       "    </tr>\n",
       "    <tr>\n",
       "      <th>19</th>\n",
       "      <td>19</td>\n",
       "      <td>Don't mean to bother you \\n\\nI see that you're...</td>\n",
       "      <td>0</td>\n",
       "    </tr>\n",
       "  </tbody>\n",
       "</table>\n",
       "</div>"
      ],
      "text/plain": [
       "    Unnamed: 0                                               text  toxic\n",
       "0            0  Explanation\\nWhy the edits made under my usern...      0\n",
       "1            1  D'aww! He matches this background colour I'm s...      0\n",
       "2            2  Hey man, I'm really not trying to edit war. It...      0\n",
       "3            3  \"\\nMore\\nI can't make any real suggestions on ...      0\n",
       "4            4  You, sir, are my hero. Any chance you remember...      0\n",
       "5            5  \"\\n\\nCongratulations from me as well, use the ...      0\n",
       "6            6       COCKSUCKER BEFORE YOU PISS AROUND ON MY WORK      1\n",
       "7            7  Your vandalism to the Matt Shirvington article...      0\n",
       "8            8  Sorry if the word 'nonsense' was offensive to ...      0\n",
       "9            9  alignment on this subject and which are contra...      0\n",
       "10          10  \"\\nFair use rationale for Image:Wonju.jpg\\n\\nT...      0\n",
       "11          11  bbq \\n\\nbe a man and lets discuss it-maybe ove...      0\n",
       "12          12  Hey... what is it..\\n@ | talk .\\nWhat is it......      1\n",
       "13          13  Before you start throwing accusations and warn...      0\n",
       "14          14  Oh, and the girl above started her arguments w...      0\n",
       "15          15  \"\\n\\nJuelz Santanas Age\\n\\nIn 2002, Juelz Sant...      0\n",
       "16          16  Bye! \\n\\nDon't look, come or think of comming ...      1\n",
       "17          17   REDIRECT Talk:Voydan Pop Georgiev- Chernodrinski      0\n",
       "18          18  The Mitsurugi point made no sense - why not ar...      0\n",
       "19          19  Don't mean to bother you \\n\\nI see that you're...      0"
      ]
     },
     "execution_count": 38,
     "metadata": {},
     "output_type": "execute_result"
    }
   ],
   "source": [
    "df.head(20)"
   ]
  },
  {
   "cell_type": "code",
   "execution_count": 39,
   "metadata": {
    "scrolled": true
   },
   "outputs": [
    {
     "name": "stdout",
     "output_type": "stream",
     "text": [
      "<class 'pandas.core.frame.DataFrame'>\n",
      "RangeIndex: 159292 entries, 0 to 159291\n",
      "Data columns (total 3 columns):\n",
      " #   Column      Non-Null Count   Dtype \n",
      "---  ------      --------------   ----- \n",
      " 0   Unnamed: 0  159292 non-null  int64 \n",
      " 1   text        159292 non-null  object\n",
      " 2   toxic       159292 non-null  int64 \n",
      "dtypes: int64(2), object(1)\n",
      "memory usage: 3.6+ MB\n"
     ]
    }
   ],
   "source": [
    "df.info()"
   ]
  },
  {
   "cell_type": "code",
   "execution_count": 40,
   "metadata": {},
   "outputs": [
    {
     "data": {
      "image/png": "[encoded data removed]",
      "text/plain": [
       "<Figure size 432x288 with 1 Axes>"
      ]
     },
     "metadata": {},
     "output_type": "display_data"
    }
   ],
   "source": [
    "df['toxic'].value_counts().plot(kind='pie', legend=False, autopct='%1.1f%%', labels=['Нетоксичный отзыв', 'Токсичный отзыв'])\n",
    "plt.title('Распределение токсичных и нетоксичных отзывов')\n",
    "plt.show()"
   ]
  },
  {
   "cell_type": "markdown",
   "metadata": {},
   "source": [
    "Токсичных отзывов около 10%"
   ]
  },
  {
   "cell_type": "markdown",
   "metadata": {},
   "source": [
    "Токенизируем и лемминизирует данные."
   ]
  },
  {
   "cell_type": "code",
   "execution_count": 43,
   "metadata": {},
   "outputs": [
    {
     "name": "stdout",
     "output_type": "stream",
     "text": [
      "CPU times: user 510 ms, sys: 31.7 ms, total: 542 ms\n",
      "Wall time: 563 ms\n"
     ]
    }
   ],
   "source": [
    "%%time\n",
    "nlp = spacy.load('en_core_web_sm', disable=['parser', 'ner'])\n",
    "def lemmatize(sentence):\n",
    "    sentence = sentence.lower()\n",
    "#    nlp = spacy.load('en_core_web_sm')\n",
    "    doc = nlp(sentence)\n",
    "    lemmatized_output = ' '.join([token.lemma_ for token in doc])\n",
    "    final_text = re.sub(r'[^a-zA-Z]', ' ', lemmatized_output)\n",
    "    return ' '.join(final_text.split())\n"
   ]
  },
  {
   "cell_type": "code",
   "execution_count": null,
   "metadata": {},
   "outputs": [
    {
     "data": {
      "application/vnd.jupyter.widget-view+json": {
       "model_id": "15f77e750b724e979361568670b68559",
       "version_major": 2,
       "version_minor": 0
      },
      "text/plain": [
       "  0%|          | 0/159292 [00:00<?, ?it/s]"
      ]
     },
     "metadata": {},
     "output_type": "display_data"
    }
   ],
   "source": [
    "%%time\n",
    "df['lemm_text'] = df['text'].progress_apply(lemmatize)"
   ]
  },
  {
   "cell_type": "markdown",
   "metadata": {},
   "source": [
    "При этом типе лемматизации, сама лемматизация проходит достаточно долго, зато модели обучаются быстрее. В общем и целом Spacy быстрее"
   ]
  },
  {
   "cell_type": "code",
   "execution_count": null,
   "metadata": {},
   "outputs": [],
   "source": [
    "#%%time\n",
    "#lemmatizer = WordNetLemmatizer()\n",
    "\n",
    "#def lemmatize_text(text):\n",
    "#    text = text.lower()\n",
    "#    lemm_text = \"\".join(lemmatizer.lemmatize(text))\n",
    "#    cleared_text = re.sub(r'[^a-zA-Z]', ' ', lemm_text) \n",
    "#    return \" \".join(cleared_text.split())\n",
    "\n",
    "#df['lemm_text'] = df['text'].progress_apply(lemmatize_text)"
   ]
  },
  {
   "cell_type": "markdown",
   "metadata": {},
   "source": [
    "При данном типе лемматизации, она проходит моментально, однако модели обучаются очень долго"
   ]
  },
  {
   "cell_type": "code",
   "execution_count": null,
   "metadata": {
    "scrolled": false
   },
   "outputs": [],
   "source": [
    "df"
   ]
  },
  {
   "cell_type": "code",
   "execution_count": null,
   "metadata": {},
   "outputs": [],
   "source": [
    "features = df['lemm_text']\n",
    "target = df['toxic']"
   ]
  },
  {
   "cell_type": "code",
   "execution_count": null,
   "metadata": {},
   "outputs": [],
   "source": [
    "features_train, features_test, target_train, target_test = train_test_split(features, target, test_size=0.2, random_state=12345)"
   ]
  },
  {
   "cell_type": "code",
   "execution_count": null,
   "metadata": {},
   "outputs": [],
   "source": [
    "features_train.shape"
   ]
  },
  {
   "cell_type": "code",
   "execution_count": null,
   "metadata": {},
   "outputs": [],
   "source": [
    "features_test.shape"
   ]
  },
  {
   "cell_type": "code",
   "execution_count": null,
   "metadata": {},
   "outputs": [],
   "source": [
    "target_train.shape"
   ]
  },
  {
   "cell_type": "code",
   "execution_count": null,
   "metadata": {
    "scrolled": true
   },
   "outputs": [],
   "source": [
    "target_test.shape"
   ]
  },
  {
   "cell_type": "markdown",
   "metadata": {},
   "source": [
    "Все данные на месте"
   ]
  },
  {
   "cell_type": "markdown",
   "metadata": {},
   "source": [
    "Создадим список стоп слов"
   ]
  },
  {
   "cell_type": "code",
   "execution_count": null,
   "metadata": {},
   "outputs": [],
   "source": [
    "stopwords = set(nltk_stopwords.words('english'))\n",
    "stopwords"
   ]
  },
  {
   "cell_type": "code",
   "execution_count": null,
   "metadata": {},
   "outputs": [],
   "source": [
    "tf_idf = TfidfVectorizer(stop_words=stopwords)\n",
    "tf_idf_train = tf_idf.fit_transform(features_train)\n",
    "tf_idf_test = tf_idf.transform(features_test)"
   ]
  },
  {
   "cell_type": "raw",
   "metadata": {},
   "source": [
    "%%time\n",
    "model_lr = LogisticRegression()\n",
    "param = [{'max_iter':[200, 400, 600], 'random_state':[12345]}]\n",
    "gridl = GridSearchCV(model_lr, param, scoring=f1_score, n_jobs = -1)\n",
    "gridl.fit(tf_idf_train, target_train)\n",
    "print(gridl.best_score_)\n",
    "print(gridl.best_params_)\n",
    "print(gridl.best_estimator_)"
   ]
  },
  {
   "cell_type": "markdown",
   "metadata": {},
   "source": [
    "## Обучение"
   ]
  },
  {
   "cell_type": "markdown",
   "metadata": {},
   "source": [
    "Найдем оптимальную модель с помощью кросс валидации."
   ]
  },
  {
   "cell_type": "code",
   "execution_count": null,
   "metadata": {},
   "outputs": [],
   "source": [
    "%%time\n",
    "model = LogisticRegression(max_iter=600, random_state=12345, class_weight='balanced')\n",
    "mean_scores = cross_val_score(model, tf_idf_train, target_train, cv=5, scoring='f1').mean()\n",
    "mean_scores"
   ]
  },
  {
   "cell_type": "code",
   "execution_count": null,
   "metadata": {},
   "outputs": [],
   "source": [
    "model = DecisionTreeClassifier(random_state=12345, class_weight = 'balanced')\n",
    "mean_scores = cross_val_score(model, tf_idf_train, target_train, cv=5, scoring='f1').mean()\n",
    "mean_scores"
   ]
  },
  {
   "cell_type": "code",
   "execution_count": null,
   "metadata": {},
   "outputs": [],
   "source": [
    "%%time\n",
    "model_catboost = CatBoostClassifier(iterations=600, learning_rate=0.5, verbose=100, random_state=12345)\n",
    "mean_scores = cross_val_score(model_catboost, tf_idf_train, target_train, cv=2, scoring='f1').mean()\n",
    "mean_scores"
   ]
  },
  {
   "cell_type": "markdown",
   "metadata": {},
   "source": [
    "Оптимальную модель с лучшими гиперпараметрами мы нашли, теперь протестируем ее"
   ]
  },
  {
   "cell_type": "code",
   "execution_count": null,
   "metadata": {},
   "outputs": [],
   "source": [
    "%%time\n",
    "model = CatBoostClassifier(iterations=600, learning_rate=0.5, verbose=100, random_state=12345)\n",
    "model.fit(tf_idf_train, target_train)\n",
    "predictions = model.predict(tf_idf_test)\n",
    "    \n",
    "test_f1 = f1_score(target_test, predictions)\n",
    "test_f1"
   ]
  },
  {
   "cell_type": "markdown",
   "metadata": {},
   "source": [
    "Тестирование показало метрику f1 более 0.75"
   ]
  },
  {
   "cell_type": "markdown",
   "metadata": {},
   "source": [
    "## Выводы"
   ]
  },
  {
   "cell_type": "markdown",
   "metadata": {},
   "source": [
    "В результате исследования были проанализированы данные о токсичности комментариев. Оказалось, что токсичных комментариев, около 10%. Комментарии были токенизированы и лемминизированы. Далее был создан список стоп слов, а данные векторизированны. В ходе обучения моделей и последующей проверки их на метрике f1 обнаружена оптимальная модель с гиперпараметрами: CatBoostClassifier(iterations=600, learning_rate=0.5, verbose=100, random_state=12345). Найденная модеь сможет эффективно находить токсичные комментарии."
   ]
  }
 ],
 "metadata": {
  "ExecuteTimeLog": [
   {
    "duration": 57,
    "start_time": "2023-05-01T19:40:52.627Z"
   },
   {
    "duration": 3085,
    "start_time": "2023-05-01T19:41:29.948Z"
   },
   {
    "duration": 7,
    "start_time": "2023-05-01T19:41:33.043Z"
   },
   {
    "duration": 16,
    "start_time": "2023-05-01T19:41:33.052Z"
   },
   {
    "duration": 5446,
    "start_time": "2023-05-01T19:41:33.070Z"
   },
   {
    "duration": 17,
    "start_time": "2023-05-01T19:41:43.549Z"
   },
   {
    "duration": 2002,
    "start_time": "2023-05-01T19:41:55.176Z"
   },
   {
    "duration": 1768,
    "start_time": "2023-05-01T19:41:59.755Z"
   },
   {
    "duration": 5,
    "start_time": "2023-05-01T19:42:04.153Z"
   },
   {
    "duration": 6,
    "start_time": "2023-05-01T19:44:19.239Z"
   },
   {
    "duration": 4,
    "start_time": "2023-05-01T19:47:22.827Z"
   },
   {
    "duration": 4,
    "start_time": "2023-05-01T19:48:07.157Z"
   },
   {
    "duration": 12,
    "start_time": "2023-05-01T19:48:19.280Z"
   },
   {
    "duration": 9,
    "start_time": "2023-05-01T19:48:21.837Z"
   },
   {
    "duration": 5,
    "start_time": "2023-05-01T19:54:28.222Z"
   },
   {
    "duration": 19,
    "start_time": "2023-05-01T19:54:28.229Z"
   },
   {
    "duration": 11,
    "start_time": "2023-05-01T19:54:28.250Z"
   },
   {
    "duration": 883,
    "start_time": "2023-05-01T19:54:28.263Z"
   },
   {
    "duration": 10,
    "start_time": "2023-05-01T19:54:29.148Z"
   },
   {
    "duration": 8,
    "start_time": "2023-05-01T19:54:29.160Z"
   },
   {
    "duration": 5,
    "start_time": "2023-05-01T19:54:29.192Z"
   },
   {
    "duration": 770,
    "start_time": "2023-05-01T20:02:22.723Z"
   },
   {
    "duration": 111,
    "start_time": "2023-05-01T20:02:33.523Z"
   },
   {
    "duration": 1908,
    "start_time": "2023-05-01T20:08:29.050Z"
   },
   {
    "duration": 9,
    "start_time": "2023-05-01T20:08:30.961Z"
   },
   {
    "duration": 69,
    "start_time": "2023-05-01T20:08:30.973Z"
   },
   {
    "duration": 1314,
    "start_time": "2023-05-01T20:08:31.047Z"
   },
   {
    "duration": 30,
    "start_time": "2023-05-01T20:08:32.363Z"
   },
   {
    "duration": 408,
    "start_time": "2023-05-01T20:08:32.401Z"
   },
   {
    "duration": 5,
    "start_time": "2023-05-01T20:08:32.811Z"
   },
   {
    "duration": 140227,
    "start_time": "2023-05-01T20:08:32.818Z"
   },
   {
    "duration": 16,
    "start_time": "2023-05-01T20:10:53.049Z"
   },
   {
    "duration": 117,
    "start_time": "2023-05-01T20:15:20.056Z"
   },
   {
    "duration": 3,
    "start_time": "2023-05-01T20:27:02.784Z"
   },
   {
    "duration": 37,
    "start_time": "2023-05-01T20:28:48.445Z"
   },
   {
    "duration": 4,
    "start_time": "2023-05-01T20:29:07.046Z"
   },
   {
    "duration": 6,
    "start_time": "2023-05-01T20:29:13.243Z"
   },
   {
    "duration": 13,
    "start_time": "2023-05-01T20:29:26.004Z"
   },
   {
    "duration": 5,
    "start_time": "2023-05-01T20:29:32.270Z"
   },
   {
    "duration": 4,
    "start_time": "2023-05-01T20:29:44.541Z"
   },
   {
    "duration": 5,
    "start_time": "2023-05-01T20:29:53.117Z"
   },
   {
    "duration": 6,
    "start_time": "2023-05-01T20:30:03.332Z"
   },
   {
    "duration": 2353,
    "start_time": "2023-05-01T20:32:37.777Z"
   },
   {
    "duration": 103,
    "start_time": "2023-05-01T20:33:23.934Z"
   },
   {
    "duration": 11,
    "start_time": "2023-05-01T20:33:30.446Z"
   },
   {
    "duration": 22,
    "start_time": "2023-05-01T20:33:36.906Z"
   },
   {
    "duration": 14,
    "start_time": "2023-05-01T20:33:48.447Z"
   },
   {
    "duration": 14,
    "start_time": "2023-05-01T20:33:54.248Z"
   },
   {
    "duration": 11,
    "start_time": "2023-05-01T20:40:18.779Z"
   },
   {
    "duration": 386,
    "start_time": "2023-05-01T20:41:20.628Z"
   },
   {
    "duration": 20,
    "start_time": "2023-05-01T20:41:26.948Z"
   },
   {
    "duration": 10,
    "start_time": "2023-05-01T20:41:34.452Z"
   },
   {
    "duration": 6,
    "start_time": "2023-05-01T20:41:38.611Z"
   },
   {
    "duration": 18,
    "start_time": "2023-05-01T20:41:38.619Z"
   },
   {
    "duration": 23,
    "start_time": "2023-05-01T20:41:38.639Z"
   },
   {
    "duration": 3674,
    "start_time": "2023-05-01T20:41:38.664Z"
   },
   {
    "duration": 11,
    "start_time": "2023-05-01T20:41:42.340Z"
   },
   {
    "duration": 366,
    "start_time": "2023-05-01T20:41:42.353Z"
   },
   {
    "duration": 4,
    "start_time": "2023-05-01T20:41:42.721Z"
   },
   {
    "duration": 108095,
    "start_time": "2023-05-01T20:41:42.726Z"
   },
   {
    "duration": 16,
    "start_time": "2023-05-01T20:43:30.823Z"
   },
   {
    "duration": 42,
    "start_time": "2023-05-01T20:43:30.840Z"
   },
   {
    "duration": 75,
    "start_time": "2023-05-01T20:43:30.884Z"
   },
   {
    "duration": 10,
    "start_time": "2023-05-01T20:43:30.961Z"
   },
   {
    "duration": 43,
    "start_time": "2023-05-01T20:43:30.973Z"
   },
   {
    "duration": 26,
    "start_time": "2023-05-01T20:43:31.019Z"
   },
   {
    "duration": 41,
    "start_time": "2023-05-01T20:43:31.046Z"
   },
   {
    "duration": 2313,
    "start_time": "2023-05-01T20:48:44.445Z"
   },
   {
    "duration": 3,
    "start_time": "2023-05-01T20:48:46.760Z"
   },
   {
    "duration": 6,
    "start_time": "2023-05-01T20:48:46.764Z"
   },
   {
    "duration": 3980,
    "start_time": "2023-05-01T20:48:46.771Z"
   },
   {
    "duration": 16,
    "start_time": "2023-05-01T20:48:50.754Z"
   },
   {
    "duration": 375,
    "start_time": "2023-05-01T20:48:50.772Z"
   },
   {
    "duration": 4,
    "start_time": "2023-05-01T20:48:51.149Z"
   },
   {
    "duration": 1825,
    "start_time": "2023-05-01T21:04:25.435Z"
   },
   {
    "duration": 3,
    "start_time": "2023-05-01T21:04:27.262Z"
   },
   {
    "duration": 5,
    "start_time": "2023-05-01T21:04:27.267Z"
   },
   {
    "duration": 997,
    "start_time": "2023-05-01T21:04:27.274Z"
   },
   {
    "duration": 36,
    "start_time": "2023-05-01T21:04:28.273Z"
   },
   {
    "duration": 523,
    "start_time": "2023-05-01T21:04:28.311Z"
   },
   {
    "duration": 0,
    "start_time": "2023-05-01T21:04:28.836Z"
   },
   {
    "duration": 0,
    "start_time": "2023-05-01T21:04:28.838Z"
   },
   {
    "duration": 0,
    "start_time": "2023-05-01T21:04:28.839Z"
   },
   {
    "duration": 0,
    "start_time": "2023-05-01T21:04:28.840Z"
   },
   {
    "duration": 0,
    "start_time": "2023-05-01T21:04:28.841Z"
   },
   {
    "duration": 0,
    "start_time": "2023-05-01T21:04:28.841Z"
   },
   {
    "duration": 0,
    "start_time": "2023-05-01T21:04:28.843Z"
   },
   {
    "duration": 0,
    "start_time": "2023-05-01T21:04:28.844Z"
   },
   {
    "duration": 0,
    "start_time": "2023-05-01T21:04:28.845Z"
   },
   {
    "duration": 0,
    "start_time": "2023-05-01T21:04:28.846Z"
   },
   {
    "duration": 0,
    "start_time": "2023-05-01T21:04:28.847Z"
   },
   {
    "duration": 0,
    "start_time": "2023-05-01T21:04:28.848Z"
   },
   {
    "duration": 0,
    "start_time": "2023-05-01T21:04:28.849Z"
   },
   {
    "duration": 1953,
    "start_time": "2023-05-01T21:06:34.076Z"
   },
   {
    "duration": 3,
    "start_time": "2023-05-01T21:06:36.032Z"
   },
   {
    "duration": 21,
    "start_time": "2023-05-01T21:06:36.036Z"
   },
   {
    "duration": 999,
    "start_time": "2023-05-01T21:06:36.059Z"
   },
   {
    "duration": 13,
    "start_time": "2023-05-01T21:06:37.060Z"
   },
   {
    "duration": 148,
    "start_time": "2023-05-01T21:06:37.075Z"
   },
   {
    "duration": 4,
    "start_time": "2023-05-01T21:06:37.224Z"
   },
   {
    "duration": 110991,
    "start_time": "2023-05-01T21:06:37.230Z"
   },
   {
    "duration": 14,
    "start_time": "2023-05-01T21:08:28.222Z"
   },
   {
    "duration": 6,
    "start_time": "2023-05-01T21:08:28.237Z"
   },
   {
    "duration": 60,
    "start_time": "2023-05-01T21:08:28.245Z"
   },
   {
    "duration": 6,
    "start_time": "2023-05-01T21:08:28.308Z"
   },
   {
    "duration": 12,
    "start_time": "2023-05-01T21:08:28.316Z"
   },
   {
    "duration": 4,
    "start_time": "2023-05-01T21:08:28.331Z"
   },
   {
    "duration": 4,
    "start_time": "2023-05-01T21:08:28.337Z"
   },
   {
    "duration": 51,
    "start_time": "2023-05-01T21:08:41.316Z"
   },
   {
    "duration": 2453,
    "start_time": "2023-05-01T21:08:51.213Z"
   },
   {
    "duration": 3,
    "start_time": "2023-05-01T21:08:53.669Z"
   },
   {
    "duration": 5,
    "start_time": "2023-05-01T21:08:53.673Z"
   },
   {
    "duration": 3365,
    "start_time": "2023-05-01T21:08:53.680Z"
   },
   {
    "duration": 14,
    "start_time": "2023-05-01T21:08:57.047Z"
   },
   {
    "duration": 123,
    "start_time": "2023-05-01T21:08:57.062Z"
   },
   {
    "duration": 6,
    "start_time": "2023-05-01T21:08:57.186Z"
   },
   {
    "duration": 103119,
    "start_time": "2023-05-01T21:08:57.193Z"
   },
   {
    "duration": 20,
    "start_time": "2023-05-01T21:10:40.314Z"
   },
   {
    "duration": 5,
    "start_time": "2023-05-01T21:10:40.338Z"
   },
   {
    "duration": 71,
    "start_time": "2023-05-01T21:10:40.345Z"
   },
   {
    "duration": 6,
    "start_time": "2023-05-01T21:10:40.418Z"
   },
   {
    "duration": 15,
    "start_time": "2023-05-01T21:10:40.426Z"
   },
   {
    "duration": 18,
    "start_time": "2023-05-01T21:10:40.444Z"
   },
   {
    "duration": 6,
    "start_time": "2023-05-01T21:10:40.463Z"
   },
   {
    "duration": 53,
    "start_time": "2023-05-01T21:11:03.459Z"
   },
   {
    "duration": 7,
    "start_time": "2023-05-01T21:11:07.359Z"
   },
   {
    "duration": 2599,
    "start_time": "2023-05-01T21:11:48.717Z"
   },
   {
    "duration": 2,
    "start_time": "2023-05-01T21:11:51.319Z"
   },
   {
    "duration": 13,
    "start_time": "2023-05-01T21:11:51.323Z"
   },
   {
    "duration": 3348,
    "start_time": "2023-05-01T21:11:51.338Z"
   },
   {
    "duration": 16,
    "start_time": "2023-05-01T21:11:54.689Z"
   },
   {
    "duration": 136,
    "start_time": "2023-05-01T21:11:54.707Z"
   },
   {
    "duration": 3,
    "start_time": "2023-05-01T21:11:54.845Z"
   },
   {
    "duration": 103422,
    "start_time": "2023-05-01T21:11:54.850Z"
   },
   {
    "duration": 21,
    "start_time": "2023-05-01T21:13:38.274Z"
   },
   {
    "duration": 4,
    "start_time": "2023-05-01T21:13:38.297Z"
   },
   {
    "duration": 39,
    "start_time": "2023-05-01T21:13:38.302Z"
   },
   {
    "duration": 4,
    "start_time": "2023-05-01T21:13:38.343Z"
   },
   {
    "duration": 5,
    "start_time": "2023-05-01T21:13:38.349Z"
   },
   {
    "duration": 32,
    "start_time": "2023-05-01T21:13:38.357Z"
   },
   {
    "duration": 4,
    "start_time": "2023-05-01T21:13:38.391Z"
   },
   {
    "duration": 2637,
    "start_time": "2023-05-01T21:15:25.422Z"
   },
   {
    "duration": 3,
    "start_time": "2023-05-01T21:15:28.061Z"
   },
   {
    "duration": 9,
    "start_time": "2023-05-01T21:15:28.066Z"
   },
   {
    "duration": 3539,
    "start_time": "2023-05-01T21:15:28.076Z"
   },
   {
    "duration": 20,
    "start_time": "2023-05-01T21:15:31.618Z"
   },
   {
    "duration": 142,
    "start_time": "2023-05-01T21:15:31.640Z"
   },
   {
    "duration": 20,
    "start_time": "2023-05-01T21:15:31.784Z"
   },
   {
    "duration": 111667,
    "start_time": "2023-05-01T21:15:31.807Z"
   },
   {
    "duration": 14,
    "start_time": "2023-05-01T21:17:23.476Z"
   },
   {
    "duration": 9,
    "start_time": "2023-05-01T21:17:23.492Z"
   },
   {
    "duration": 48,
    "start_time": "2023-05-01T21:17:23.503Z"
   },
   {
    "duration": 4,
    "start_time": "2023-05-01T21:17:23.552Z"
   },
   {
    "duration": 11,
    "start_time": "2023-05-01T21:17:23.558Z"
   },
   {
    "duration": 24,
    "start_time": "2023-05-01T21:17:23.571Z"
   },
   {
    "duration": 9,
    "start_time": "2023-05-01T21:18:13.291Z"
   },
   {
    "duration": 65,
    "start_time": "2023-05-01T21:19:30.513Z"
   },
   {
    "duration": 3351,
    "start_time": "2023-05-01T21:20:00.375Z"
   },
   {
    "duration": 3,
    "start_time": "2023-05-01T21:20:03.729Z"
   },
   {
    "duration": 38,
    "start_time": "2023-05-01T21:20:03.734Z"
   },
   {
    "duration": 3688,
    "start_time": "2023-05-01T21:20:03.774Z"
   },
   {
    "duration": 14,
    "start_time": "2023-05-01T21:20:07.464Z"
   },
   {
    "duration": 142,
    "start_time": "2023-05-01T21:20:07.481Z"
   },
   {
    "duration": 4,
    "start_time": "2023-05-01T21:20:07.625Z"
   },
   {
    "duration": 115102,
    "start_time": "2023-05-01T21:20:07.631Z"
   },
   {
    "duration": 16,
    "start_time": "2023-05-01T21:22:02.735Z"
   },
   {
    "duration": 21,
    "start_time": "2023-05-01T21:22:02.754Z"
   },
   {
    "duration": 59,
    "start_time": "2023-05-01T21:22:02.777Z"
   },
   {
    "duration": 5,
    "start_time": "2023-05-01T21:22:02.838Z"
   },
   {
    "duration": 12,
    "start_time": "2023-05-01T21:22:02.845Z"
   },
   {
    "duration": 5,
    "start_time": "2023-05-01T21:22:02.860Z"
   },
   {
    "duration": 28,
    "start_time": "2023-05-01T21:22:02.867Z"
   },
   {
    "duration": 13,
    "start_time": "2023-05-01T21:22:02.901Z"
   },
   {
    "duration": 171,
    "start_time": "2023-05-01T21:22:02.916Z"
   },
   {
    "duration": 0,
    "start_time": "2023-05-01T21:22:03.091Z"
   },
   {
    "duration": 2753,
    "start_time": "2023-05-01T21:23:20.100Z"
   },
   {
    "duration": 3,
    "start_time": "2023-05-01T21:23:22.856Z"
   },
   {
    "duration": 11,
    "start_time": "2023-05-01T21:23:22.861Z"
   },
   {
    "duration": 3740,
    "start_time": "2023-05-01T21:23:22.874Z"
   },
   {
    "duration": 19,
    "start_time": "2023-05-01T21:23:26.617Z"
   },
   {
    "duration": 402,
    "start_time": "2023-05-01T21:23:26.638Z"
   },
   {
    "duration": 4,
    "start_time": "2023-05-01T21:23:27.042Z"
   },
   {
    "duration": 115309,
    "start_time": "2023-05-01T21:23:27.048Z"
   },
   {
    "duration": 15,
    "start_time": "2023-05-01T21:25:22.359Z"
   },
   {
    "duration": 20,
    "start_time": "2023-05-01T21:25:22.377Z"
   },
   {
    "duration": 37,
    "start_time": "2023-05-01T21:25:22.406Z"
   },
   {
    "duration": 6,
    "start_time": "2023-05-01T21:25:22.445Z"
   },
   {
    "duration": 5,
    "start_time": "2023-05-01T21:25:22.453Z"
   },
   {
    "duration": 9,
    "start_time": "2023-05-01T21:25:22.460Z"
   },
   {
    "duration": 32,
    "start_time": "2023-05-01T21:25:22.472Z"
   },
   {
    "duration": 2421,
    "start_time": "2023-05-01T21:25:53.406Z"
   },
   {
    "duration": 4,
    "start_time": "2023-05-01T21:25:55.830Z"
   },
   {
    "duration": 27,
    "start_time": "2023-05-01T21:25:55.836Z"
   },
   {
    "duration": 3749,
    "start_time": "2023-05-01T21:25:55.864Z"
   },
   {
    "duration": 20,
    "start_time": "2023-05-01T21:25:59.617Z"
   },
   {
    "duration": 384,
    "start_time": "2023-05-01T21:25:59.639Z"
   },
   {
    "duration": 5,
    "start_time": "2023-05-01T21:26:00.025Z"
   },
   {
    "duration": 112976,
    "start_time": "2023-05-01T21:26:00.032Z"
   },
   {
    "duration": 15,
    "start_time": "2023-05-01T21:27:53.009Z"
   },
   {
    "duration": 13,
    "start_time": "2023-05-01T21:27:53.026Z"
   },
   {
    "duration": 57,
    "start_time": "2023-05-01T21:27:53.040Z"
   },
   {
    "duration": 4,
    "start_time": "2023-05-01T21:27:53.099Z"
   },
   {
    "duration": 5,
    "start_time": "2023-05-01T21:27:53.105Z"
   },
   {
    "duration": 10,
    "start_time": "2023-05-01T21:27:53.113Z"
   },
   {
    "duration": 6,
    "start_time": "2023-05-01T21:27:53.125Z"
   },
   {
    "duration": 26,
    "start_time": "2023-05-01T21:27:53.133Z"
   },
   {
    "duration": 7969,
    "start_time": "2023-05-01T21:27:53.161Z"
   },
   {
    "duration": 7896,
    "start_time": "2023-05-01T21:28:01.132Z"
   },
   {
    "duration": 180,
    "start_time": "2023-05-01T21:29:53.750Z"
   },
   {
    "duration": 10,
    "start_time": "2023-05-01T21:30:23.251Z"
   },
   {
    "duration": 7,
    "start_time": "2023-05-01T21:30:28.031Z"
   },
   {
    "duration": 3,
    "start_time": "2023-05-01T21:30:31.957Z"
   },
   {
    "duration": 80,
    "start_time": "2023-05-01T21:30:32.813Z"
   },
   {
    "duration": 31,
    "start_time": "2023-05-01T21:30:59.380Z"
   },
   {
    "duration": 3,
    "start_time": "2023-05-01T21:31:03.850Z"
   },
   {
    "duration": 126,
    "start_time": "2023-05-01T21:31:43.141Z"
   },
   {
    "duration": 2316,
    "start_time": "2023-05-01T21:31:56.540Z"
   },
   {
    "duration": 3,
    "start_time": "2023-05-01T21:31:58.859Z"
   },
   {
    "duration": 5,
    "start_time": "2023-05-01T21:31:58.864Z"
   },
   {
    "duration": 3803,
    "start_time": "2023-05-01T21:31:58.871Z"
   },
   {
    "duration": 23,
    "start_time": "2023-05-01T21:32:02.676Z"
   },
   {
    "duration": 407,
    "start_time": "2023-05-01T21:32:02.702Z"
   },
   {
    "duration": 5,
    "start_time": "2023-05-01T21:32:03.111Z"
   },
   {
    "duration": 108469,
    "start_time": "2023-05-01T21:32:03.118Z"
   },
   {
    "duration": 24,
    "start_time": "2023-05-01T21:33:51.589Z"
   },
   {
    "duration": 6,
    "start_time": "2023-05-01T21:33:51.615Z"
   },
   {
    "duration": 84,
    "start_time": "2023-05-01T21:33:51.623Z"
   },
   {
    "duration": 7,
    "start_time": "2023-05-01T21:33:51.709Z"
   },
   {
    "duration": 20,
    "start_time": "2023-05-01T21:33:51.718Z"
   },
   {
    "duration": 12,
    "start_time": "2023-05-01T21:33:51.741Z"
   },
   {
    "duration": 5,
    "start_time": "2023-05-01T21:33:51.755Z"
   },
   {
    "duration": 12,
    "start_time": "2023-05-01T21:33:51.761Z"
   },
   {
    "duration": 8358,
    "start_time": "2023-05-01T21:33:51.775Z"
   },
   {
    "duration": 8497,
    "start_time": "2023-05-01T21:34:00.135Z"
   },
   {
    "duration": 3,
    "start_time": "2023-05-01T21:34:08.635Z"
   },
   {
    "duration": 381,
    "start_time": "2023-05-01T21:34:08.639Z"
   },
   {
    "duration": 16,
    "start_time": "2023-05-01T21:38:27.157Z"
   },
   {
    "duration": 10,
    "start_time": "2023-05-01T21:38:48.909Z"
   },
   {
    "duration": 3,
    "start_time": "2023-05-01T21:38:55.863Z"
   },
   {
    "duration": 2527,
    "start_time": "2023-05-01T21:39:49.472Z"
   },
   {
    "duration": 4,
    "start_time": "2023-05-01T21:39:52.001Z"
   },
   {
    "duration": 8,
    "start_time": "2023-05-01T21:39:52.008Z"
   },
   {
    "duration": 3635,
    "start_time": "2023-05-01T21:39:52.019Z"
   },
   {
    "duration": 19,
    "start_time": "2023-05-01T21:39:55.656Z"
   },
   {
    "duration": 363,
    "start_time": "2023-05-01T21:39:55.676Z"
   },
   {
    "duration": 4,
    "start_time": "2023-05-01T21:39:56.041Z"
   },
   {
    "duration": 111879,
    "start_time": "2023-05-01T21:39:56.046Z"
   },
   {
    "duration": 16,
    "start_time": "2023-05-01T21:41:47.928Z"
   },
   {
    "duration": 3,
    "start_time": "2023-05-01T21:41:47.949Z"
   },
   {
    "duration": 69,
    "start_time": "2023-05-01T21:41:47.955Z"
   },
   {
    "duration": 4,
    "start_time": "2023-05-01T21:41:48.026Z"
   },
   {
    "duration": 5,
    "start_time": "2023-05-01T21:41:48.032Z"
   },
   {
    "duration": 5,
    "start_time": "2023-05-01T21:41:48.039Z"
   },
   {
    "duration": 5,
    "start_time": "2023-05-01T21:41:48.046Z"
   },
   {
    "duration": 54,
    "start_time": "2023-05-01T21:41:48.053Z"
   },
   {
    "duration": 8310,
    "start_time": "2023-05-01T21:41:48.109Z"
   },
   {
    "duration": 8256,
    "start_time": "2023-05-01T21:41:56.421Z"
   },
   {
    "duration": 4,
    "start_time": "2023-05-01T21:42:04.679Z"
   },
   {
    "duration": 14,
    "start_time": "2023-05-01T21:42:04.693Z"
   },
   {
    "duration": 595,
    "start_time": "2023-05-01T21:42:04.710Z"
   },
   {
    "duration": 70087,
    "start_time": "2023-05-01T21:42:05.310Z"
   },
   {
    "duration": 461,
    "start_time": "2023-05-01T21:43:15.400Z"
   },
   {
    "duration": 67658,
    "start_time": "2023-05-01T21:45:04.376Z"
   },
   {
    "duration": 1753,
    "start_time": "2023-05-01T21:56:30.815Z"
   },
   {
    "duration": 3,
    "start_time": "2023-05-01T21:56:32.570Z"
   },
   {
    "duration": 37,
    "start_time": "2023-05-01T21:56:32.575Z"
   },
   {
    "duration": 930,
    "start_time": "2023-05-01T21:56:32.614Z"
   },
   {
    "duration": 17,
    "start_time": "2023-05-01T21:56:33.546Z"
   },
   {
    "duration": 391,
    "start_time": "2023-05-01T21:56:33.564Z"
   },
   {
    "duration": 3,
    "start_time": "2023-05-01T21:56:33.958Z"
   },
   {
    "duration": 112224,
    "start_time": "2023-05-01T21:56:33.963Z"
   },
   {
    "duration": 30,
    "start_time": "2023-05-01T21:58:26.188Z"
   },
   {
    "duration": 6,
    "start_time": "2023-05-01T21:58:26.220Z"
   },
   {
    "duration": 36,
    "start_time": "2023-05-01T21:58:26.228Z"
   },
   {
    "duration": 4,
    "start_time": "2023-05-01T21:58:26.266Z"
   },
   {
    "duration": 5,
    "start_time": "2023-05-01T21:58:26.272Z"
   },
   {
    "duration": 7,
    "start_time": "2023-05-01T21:58:26.293Z"
   },
   {
    "duration": 6,
    "start_time": "2023-05-01T21:58:26.302Z"
   },
   {
    "duration": 16,
    "start_time": "2023-05-01T21:58:26.310Z"
   },
   {
    "duration": 8473,
    "start_time": "2023-05-01T21:58:26.327Z"
   },
   {
    "duration": 8523,
    "start_time": "2023-05-01T21:58:34.809Z"
   },
   {
    "duration": 3,
    "start_time": "2023-05-01T21:58:43.334Z"
   },
   {
    "duration": 6,
    "start_time": "2023-05-01T21:58:43.338Z"
   },
   {
    "duration": 2327,
    "start_time": "2023-05-01T21:59:47.248Z"
   },
   {
    "duration": 2,
    "start_time": "2023-05-01T21:59:49.577Z"
   },
   {
    "duration": 22,
    "start_time": "2023-05-01T21:59:49.581Z"
   },
   {
    "duration": 3553,
    "start_time": "2023-05-01T21:59:49.606Z"
   },
   {
    "duration": 16,
    "start_time": "2023-05-01T21:59:53.161Z"
   },
   {
    "duration": 359,
    "start_time": "2023-05-01T21:59:53.179Z"
   },
   {
    "duration": 4,
    "start_time": "2023-05-01T21:59:53.540Z"
   },
   {
    "duration": 106591,
    "start_time": "2023-05-01T21:59:53.545Z"
   },
   {
    "duration": 14,
    "start_time": "2023-05-01T22:01:40.137Z"
   },
   {
    "duration": 5,
    "start_time": "2023-05-01T22:01:40.153Z"
   },
   {
    "duration": 70,
    "start_time": "2023-05-01T22:01:40.160Z"
   },
   {
    "duration": 5,
    "start_time": "2023-05-01T22:01:40.232Z"
   },
   {
    "duration": 11,
    "start_time": "2023-05-01T22:01:40.239Z"
   },
   {
    "duration": 17,
    "start_time": "2023-05-01T22:01:40.252Z"
   },
   {
    "duration": 19,
    "start_time": "2023-05-01T22:01:40.272Z"
   },
   {
    "duration": 13,
    "start_time": "2023-05-01T22:01:40.293Z"
   },
   {
    "duration": 7863,
    "start_time": "2023-05-01T22:01:40.318Z"
   },
   {
    "duration": 7968,
    "start_time": "2023-05-01T22:01:48.183Z"
   },
   {
    "duration": 3,
    "start_time": "2023-05-01T22:01:56.153Z"
   },
   {
    "duration": 24,
    "start_time": "2023-05-01T22:01:56.157Z"
   },
   {
    "duration": 64855,
    "start_time": "2023-05-01T22:01:56.183Z"
   },
   {
    "duration": 173921,
    "start_time": "2023-05-01T22:05:55.589Z"
   },
   {
    "duration": 1583,
    "start_time": "2023-05-01T22:09:58.382Z"
   },
   {
    "duration": 952,
    "start_time": "2023-05-01T22:09:59.968Z"
   },
   {
    "duration": 11,
    "start_time": "2023-05-01T22:10:00.922Z"
   },
   {
    "duration": 29,
    "start_time": "2023-05-01T22:10:00.935Z"
   },
   {
    "duration": 112829,
    "start_time": "2023-05-01T22:10:00.967Z"
   },
   {
    "duration": 3,
    "start_time": "2023-05-01T22:11:53.798Z"
   },
   {
    "duration": 96,
    "start_time": "2023-05-01T22:11:53.803Z"
   },
   {
    "duration": 2505,
    "start_time": "2023-05-01T22:25:03.623Z"
   },
   {
    "duration": 3,
    "start_time": "2023-05-01T22:25:06.130Z"
   },
   {
    "duration": 15,
    "start_time": "2023-05-01T22:25:06.134Z"
   },
   {
    "duration": 3260,
    "start_time": "2023-05-01T22:25:06.150Z"
   },
   {
    "duration": 17,
    "start_time": "2023-05-01T22:25:09.413Z"
   },
   {
    "duration": 357,
    "start_time": "2023-05-01T22:25:09.432Z"
   },
   {
    "duration": 4,
    "start_time": "2023-05-01T22:25:09.791Z"
   },
   {
    "duration": 99625,
    "start_time": "2023-05-01T22:25:09.797Z"
   },
   {
    "duration": 15,
    "start_time": "2023-05-01T22:26:49.424Z"
   },
   {
    "duration": 12,
    "start_time": "2023-05-01T22:26:49.440Z"
   },
   {
    "duration": 51,
    "start_time": "2023-05-01T22:26:49.453Z"
   },
   {
    "duration": 4,
    "start_time": "2023-05-01T22:26:49.506Z"
   },
   {
    "duration": 18,
    "start_time": "2023-05-01T22:26:49.512Z"
   },
   {
    "duration": 13,
    "start_time": "2023-05-01T22:26:49.533Z"
   },
   {
    "duration": 7,
    "start_time": "2023-05-01T22:26:49.547Z"
   },
   {
    "duration": 41,
    "start_time": "2023-05-01T22:26:49.556Z"
   },
   {
    "duration": 7419,
    "start_time": "2023-05-01T22:26:49.599Z"
   },
   {
    "duration": 7451,
    "start_time": "2023-05-01T22:26:57.020Z"
   },
   {
    "duration": 3,
    "start_time": "2023-05-01T22:27:04.473Z"
   },
   {
    "duration": 11,
    "start_time": "2023-05-01T22:27:04.478Z"
   },
   {
    "duration": 63177,
    "start_time": "2023-05-01T22:27:04.491Z"
   },
   {
    "duration": 161972,
    "start_time": "2023-05-01T22:28:07.670Z"
   },
   {
    "duration": 161562,
    "start_time": "2023-05-01T22:30:59.048Z"
   },
   {
    "duration": 6,
    "start_time": "2023-05-01T22:53:09.367Z"
   },
   {
    "duration": 11,
    "start_time": "2023-05-01T22:53:09.376Z"
   },
   {
    "duration": 7,
    "start_time": "2023-05-01T22:53:09.389Z"
   },
   {
    "duration": 817,
    "start_time": "2023-05-01T22:53:09.398Z"
   },
   {
    "duration": 9,
    "start_time": "2023-05-01T22:53:10.217Z"
   },
   {
    "duration": 145,
    "start_time": "2023-05-01T22:53:10.229Z"
   },
   {
    "duration": 5,
    "start_time": "2023-05-01T22:53:10.389Z"
   },
   {
    "duration": 101110,
    "start_time": "2023-05-01T22:53:10.396Z"
   },
   {
    "duration": 15,
    "start_time": "2023-05-01T22:54:51.508Z"
   },
   {
    "duration": 18,
    "start_time": "2023-05-01T22:54:51.525Z"
   },
   {
    "duration": 57,
    "start_time": "2023-05-01T22:54:51.544Z"
   },
   {
    "duration": 5,
    "start_time": "2023-05-01T22:54:51.603Z"
   },
   {
    "duration": 16,
    "start_time": "2023-05-01T22:54:51.609Z"
   },
   {
    "duration": 6,
    "start_time": "2023-05-01T22:54:51.628Z"
   },
   {
    "duration": 14,
    "start_time": "2023-05-01T22:54:51.637Z"
   },
   {
    "duration": 17,
    "start_time": "2023-05-01T22:54:51.653Z"
   },
   {
    "duration": 7426,
    "start_time": "2023-05-01T22:54:51.690Z"
   },
   {
    "duration": 4,
    "start_time": "2023-05-01T22:54:59.117Z"
   },
   {
    "duration": 22,
    "start_time": "2023-05-01T22:54:59.123Z"
   },
   {
    "duration": 65684,
    "start_time": "2023-05-01T22:54:59.147Z"
   },
   {
    "duration": 1740,
    "start_time": "2023-05-01T23:03:14.034Z"
   },
   {
    "duration": 3,
    "start_time": "2023-05-01T23:03:15.776Z"
   },
   {
    "duration": 10,
    "start_time": "2023-05-01T23:03:15.781Z"
   },
   {
    "duration": 910,
    "start_time": "2023-05-01T23:03:15.792Z"
   },
   {
    "duration": 16,
    "start_time": "2023-05-01T23:03:16.705Z"
   },
   {
    "duration": 357,
    "start_time": "2023-05-01T23:03:16.723Z"
   },
   {
    "duration": 9,
    "start_time": "2023-05-01T23:03:17.082Z"
   },
   {
    "duration": 100144,
    "start_time": "2023-05-01T23:03:17.093Z"
   },
   {
    "duration": 15,
    "start_time": "2023-05-01T23:04:57.240Z"
   },
   {
    "duration": 3,
    "start_time": "2023-05-01T23:04:57.258Z"
   },
   {
    "duration": 67,
    "start_time": "2023-05-01T23:04:57.263Z"
   },
   {
    "duration": 4,
    "start_time": "2023-05-01T23:04:57.333Z"
   },
   {
    "duration": 11,
    "start_time": "2023-05-01T23:04:57.339Z"
   },
   {
    "duration": 38,
    "start_time": "2023-05-01T23:04:57.352Z"
   },
   {
    "duration": 4,
    "start_time": "2023-05-01T23:04:57.392Z"
   },
   {
    "duration": 8,
    "start_time": "2023-05-01T23:04:57.398Z"
   },
   {
    "duration": 7536,
    "start_time": "2023-05-01T23:04:57.408Z"
   },
   {
    "duration": 3,
    "start_time": "2023-05-01T23:05:04.946Z"
   },
   {
    "duration": 6,
    "start_time": "2023-05-01T23:05:04.951Z"
   },
   {
    "duration": 65506,
    "start_time": "2023-05-01T23:05:04.958Z"
   },
   {
    "duration": 169222,
    "start_time": "2023-05-01T23:06:42.452Z"
   },
   {
    "duration": 7,
    "start_time": "2023-05-01T23:10:24.634Z"
   },
   {
    "duration": 4,
    "start_time": "2023-05-01T23:10:24.644Z"
   },
   {
    "duration": 4,
    "start_time": "2023-05-01T23:10:24.650Z"
   },
   {
    "duration": 782,
    "start_time": "2023-05-01T23:10:24.656Z"
   },
   {
    "duration": 9,
    "start_time": "2023-05-01T23:10:25.440Z"
   },
   {
    "duration": 102,
    "start_time": "2023-05-01T23:10:25.451Z"
   },
   {
    "duration": 3,
    "start_time": "2023-05-01T23:10:25.555Z"
   },
   {
    "duration": 98561,
    "start_time": "2023-05-01T23:10:25.560Z"
   },
   {
    "duration": 14,
    "start_time": "2023-05-01T23:12:04.123Z"
   },
   {
    "duration": 7,
    "start_time": "2023-05-01T23:12:04.138Z"
   },
   {
    "duration": 100,
    "start_time": "2023-05-01T23:12:04.146Z"
   },
   {
    "duration": 4,
    "start_time": "2023-05-01T23:12:04.248Z"
   },
   {
    "duration": 8,
    "start_time": "2023-05-01T23:12:04.254Z"
   },
   {
    "duration": 9,
    "start_time": "2023-05-01T23:12:04.264Z"
   },
   {
    "duration": 19,
    "start_time": "2023-05-01T23:12:04.274Z"
   },
   {
    "duration": 8,
    "start_time": "2023-05-01T23:12:04.295Z"
   },
   {
    "duration": 7363,
    "start_time": "2023-05-01T23:12:04.305Z"
   },
   {
    "duration": 50417,
    "start_time": "2023-05-01T23:12:11.673Z"
   },
   {
    "duration": 165436,
    "start_time": "2023-05-01T23:13:02.092Z"
   },
   {
    "duration": 49311,
    "start_time": "2023-05-01T23:16:37.493Z"
   },
   {
    "duration": 167491,
    "start_time": "2023-05-01T23:17:57.342Z"
   },
   {
    "duration": 4,
    "start_time": "2023-05-01T23:22:00.301Z"
   },
   {
    "duration": 107,
    "start_time": "2023-05-01T23:22:02.286Z"
   },
   {
    "duration": 3002,
    "start_time": "2023-05-01T23:25:58.788Z"
   },
   {
    "duration": 2,
    "start_time": "2023-05-01T23:26:01.793Z"
   },
   {
    "duration": 21,
    "start_time": "2023-05-01T23:26:01.797Z"
   },
   {
    "duration": 3191,
    "start_time": "2023-05-01T23:26:01.820Z"
   },
   {
    "duration": 14,
    "start_time": "2023-05-01T23:26:05.014Z"
   },
   {
    "duration": 124,
    "start_time": "2023-05-01T23:26:05.030Z"
   },
   {
    "duration": 3,
    "start_time": "2023-05-01T23:26:05.156Z"
   },
   {
    "duration": 98695,
    "start_time": "2023-05-01T23:26:05.161Z"
   },
   {
    "duration": 15,
    "start_time": "2023-05-01T23:27:43.858Z"
   },
   {
    "duration": 15,
    "start_time": "2023-05-01T23:27:43.874Z"
   },
   {
    "duration": 74,
    "start_time": "2023-05-01T23:27:43.891Z"
   },
   {
    "duration": 4,
    "start_time": "2023-05-01T23:27:43.967Z"
   },
   {
    "duration": 19,
    "start_time": "2023-05-01T23:27:43.973Z"
   },
   {
    "duration": 6,
    "start_time": "2023-05-01T23:27:43.994Z"
   },
   {
    "duration": 4,
    "start_time": "2023-05-01T23:27:44.001Z"
   },
   {
    "duration": 8,
    "start_time": "2023-05-01T23:27:44.007Z"
   },
   {
    "duration": 7389,
    "start_time": "2023-05-01T23:27:44.017Z"
   },
   {
    "duration": 3,
    "start_time": "2023-05-01T23:27:51.407Z"
   },
   {
    "duration": 49042,
    "start_time": "2023-05-01T23:27:51.412Z"
   },
   {
    "duration": 1942,
    "start_time": "2023-05-01T23:30:56.657Z"
   },
   {
    "duration": 2,
    "start_time": "2023-05-01T23:30:58.601Z"
   },
   {
    "duration": 10,
    "start_time": "2023-05-01T23:30:58.605Z"
   },
   {
    "duration": 848,
    "start_time": "2023-05-01T23:30:58.617Z"
   },
   {
    "duration": 22,
    "start_time": "2023-05-01T23:30:59.467Z"
   },
   {
    "duration": 120,
    "start_time": "2023-05-01T23:30:59.491Z"
   },
   {
    "duration": 5,
    "start_time": "2023-05-01T23:30:59.613Z"
   },
   {
    "duration": 98033,
    "start_time": "2023-05-01T23:30:59.620Z"
   },
   {
    "duration": 15,
    "start_time": "2023-05-01T23:32:37.655Z"
   },
   {
    "duration": 25,
    "start_time": "2023-05-01T23:32:37.671Z"
   },
   {
    "duration": 114,
    "start_time": "2023-05-01T23:32:37.698Z"
   },
   {
    "duration": 4,
    "start_time": "2023-05-01T23:32:37.814Z"
   },
   {
    "duration": 8,
    "start_time": "2023-05-01T23:32:37.819Z"
   },
   {
    "duration": 9,
    "start_time": "2023-05-01T23:32:37.829Z"
   },
   {
    "duration": 7,
    "start_time": "2023-05-01T23:32:37.839Z"
   },
   {
    "duration": 17,
    "start_time": "2023-05-01T23:32:37.847Z"
   },
   {
    "duration": 7321,
    "start_time": "2023-05-01T23:32:37.866Z"
   },
   {
    "duration": 51110,
    "start_time": "2023-05-01T23:32:45.188Z"
   },
   {
    "duration": 168088,
    "start_time": "2023-05-01T23:33:36.300Z"
   },
   {
    "duration": 50,
    "start_time": "2023-05-01T23:39:32.613Z"
   },
   {
    "duration": 2452,
    "start_time": "2023-05-01T23:46:09.779Z"
   },
   {
    "duration": 3,
    "start_time": "2023-05-01T23:46:12.233Z"
   },
   {
    "duration": 8,
    "start_time": "2023-05-01T23:46:12.237Z"
   },
   {
    "duration": 3256,
    "start_time": "2023-05-01T23:46:12.247Z"
   },
   {
    "duration": 13,
    "start_time": "2023-05-01T23:46:15.505Z"
   },
   {
    "duration": 35,
    "start_time": "2023-05-01T23:46:15.520Z"
   },
   {
    "duration": 124,
    "start_time": "2023-05-01T23:46:15.557Z"
   },
   {
    "duration": 10,
    "start_time": "2023-05-01T23:46:15.682Z"
   },
   {
    "duration": 98009,
    "start_time": "2023-05-01T23:46:15.694Z"
   },
   {
    "duration": 15,
    "start_time": "2023-05-01T23:47:53.705Z"
   },
   {
    "duration": 7,
    "start_time": "2023-05-01T23:47:53.721Z"
   },
   {
    "duration": 81,
    "start_time": "2023-05-01T23:47:53.729Z"
   },
   {
    "duration": 4,
    "start_time": "2023-05-01T23:47:53.811Z"
   },
   {
    "duration": 6,
    "start_time": "2023-05-01T23:47:53.819Z"
   },
   {
    "duration": 9,
    "start_time": "2023-05-01T23:47:53.826Z"
   },
   {
    "duration": 7,
    "start_time": "2023-05-01T23:47:53.837Z"
   },
   {
    "duration": 16,
    "start_time": "2023-05-01T23:47:53.846Z"
   },
   {
    "duration": 7075,
    "start_time": "2023-05-01T23:47:53.863Z"
   },
   {
    "duration": 44462,
    "start_time": "2023-05-01T23:48:00.939Z"
   },
   {
    "duration": 157318,
    "start_time": "2023-05-01T23:48:45.402Z"
   },
   {
    "duration": 2535,
    "start_time": "2023-05-02T08:18:07.359Z"
   },
   {
    "duration": 2,
    "start_time": "2023-05-02T08:18:09.896Z"
   },
   {
    "duration": 8,
    "start_time": "2023-05-02T08:18:09.900Z"
   },
   {
    "duration": 3207,
    "start_time": "2023-05-02T08:18:09.911Z"
   },
   {
    "duration": 11,
    "start_time": "2023-05-02T08:18:13.119Z"
   },
   {
    "duration": 28,
    "start_time": "2023-05-02T08:18:13.131Z"
   },
   {
    "duration": 96,
    "start_time": "2023-05-02T08:18:13.160Z"
   },
   {
    "duration": 3,
    "start_time": "2023-05-02T08:18:13.257Z"
   },
   {
    "duration": 2,
    "start_time": "2023-05-02T08:18:26.495Z"
   },
   {
    "duration": 62,
    "start_time": "2023-05-02T08:18:31.196Z"
   },
   {
    "duration": 3,
    "start_time": "2023-05-02T08:18:32.018Z"
   },
   {
    "duration": 3,
    "start_time": "2023-05-02T08:18:32.206Z"
   },
   {
    "duration": 4,
    "start_time": "2023-05-02T08:18:32.698Z"
   },
   {
    "duration": 4,
    "start_time": "2023-05-02T08:18:33.157Z"
   },
   {
    "duration": 6,
    "start_time": "2023-05-02T08:18:35.073Z"
   },
   {
    "duration": 6788,
    "start_time": "2023-05-02T08:18:35.981Z"
   },
   {
    "duration": 206,
    "start_time": "2023-05-02T08:19:17.725Z"
   },
   {
    "duration": 69691,
    "start_time": "2023-05-02T08:19:47.130Z"
   },
   {
    "duration": 2253,
    "start_time": "2023-05-02T10:51:33.750Z"
   },
   {
    "duration": 4,
    "start_time": "2023-05-02T10:51:36.005Z"
   },
   {
    "duration": 11,
    "start_time": "2023-05-02T10:51:36.010Z"
   },
   {
    "duration": 3550,
    "start_time": "2023-05-02T10:51:36.022Z"
   },
   {
    "duration": 10,
    "start_time": "2023-05-02T10:51:39.575Z"
   },
   {
    "duration": 29,
    "start_time": "2023-05-02T10:51:39.587Z"
   },
   {
    "duration": 252,
    "start_time": "2023-05-02T10:51:39.617Z"
   },
   {
    "duration": 3,
    "start_time": "2023-05-02T10:51:39.871Z"
   },
   {
    "duration": 85968,
    "start_time": "2023-05-02T10:51:39.875Z"
   },
   {
    "duration": 12,
    "start_time": "2023-05-02T10:53:05.845Z"
   },
   {
    "duration": 6,
    "start_time": "2023-05-02T10:53:05.859Z"
   },
   {
    "duration": 42,
    "start_time": "2023-05-02T10:53:05.866Z"
   },
   {
    "duration": 3,
    "start_time": "2023-05-02T10:53:05.910Z"
   },
   {
    "duration": 9,
    "start_time": "2023-05-02T10:53:05.916Z"
   },
   {
    "duration": 6,
    "start_time": "2023-05-02T10:53:05.927Z"
   },
   {
    "duration": 14,
    "start_time": "2023-05-02T10:53:05.934Z"
   },
   {
    "duration": 7,
    "start_time": "2023-05-02T10:53:05.949Z"
   },
   {
    "duration": 6116,
    "start_time": "2023-05-02T10:53:05.958Z"
   },
   {
    "duration": 57531,
    "start_time": "2023-05-02T10:53:12.075Z"
   },
   {
    "duration": 136662,
    "start_time": "2023-05-02T10:54:09.608Z"
   },
   {
    "duration": 1862,
    "start_time": "2023-05-02T11:11:23.581Z"
   },
   {
    "duration": 3,
    "start_time": "2023-05-02T11:11:25.445Z"
   },
   {
    "duration": 14,
    "start_time": "2023-05-02T11:11:25.449Z"
   },
   {
    "duration": 754,
    "start_time": "2023-05-02T11:11:25.465Z"
   },
   {
    "duration": 11,
    "start_time": "2023-05-02T11:11:26.221Z"
   },
   {
    "duration": 38,
    "start_time": "2023-05-02T11:11:26.233Z"
   },
   {
    "duration": 112,
    "start_time": "2023-05-02T11:11:26.272Z"
   },
   {
    "duration": 3,
    "start_time": "2023-05-02T11:11:26.385Z"
   },
   {
    "duration": 91046,
    "start_time": "2023-05-02T11:11:26.393Z"
   },
   {
    "duration": 11,
    "start_time": "2023-05-02T11:12:57.441Z"
   },
   {
    "duration": 2,
    "start_time": "2023-05-02T11:12:57.454Z"
   },
   {
    "duration": 49,
    "start_time": "2023-05-02T11:12:57.457Z"
   },
   {
    "duration": 3,
    "start_time": "2023-05-02T11:12:57.511Z"
   },
   {
    "duration": 5,
    "start_time": "2023-05-02T11:12:57.516Z"
   },
   {
    "duration": 5,
    "start_time": "2023-05-02T11:12:57.523Z"
   },
   {
    "duration": 5,
    "start_time": "2023-05-02T11:12:57.530Z"
   },
   {
    "duration": 8,
    "start_time": "2023-05-02T11:12:57.536Z"
   },
   {
    "duration": 6793,
    "start_time": "2023-05-02T11:12:57.545Z"
   },
   {
    "duration": 60182,
    "start_time": "2023-05-02T11:13:04.340Z"
   },
   {
    "duration": 143912,
    "start_time": "2023-05-02T11:14:04.595Z"
   },
   {
    "duration": 6,
    "start_time": "2023-05-02T11:18:34.815Z"
   },
   {
    "duration": 13,
    "start_time": "2023-05-02T11:18:34.823Z"
   },
   {
    "duration": 3,
    "start_time": "2023-05-02T11:18:34.838Z"
   },
   {
    "duration": 682,
    "start_time": "2023-05-02T11:18:34.842Z"
   },
   {
    "duration": 8,
    "start_time": "2023-05-02T11:18:35.526Z"
   },
   {
    "duration": 34,
    "start_time": "2023-05-02T11:18:35.535Z"
   },
   {
    "duration": 104,
    "start_time": "2023-05-02T11:18:35.571Z"
   },
   {
    "duration": 3,
    "start_time": "2023-05-02T11:18:35.677Z"
   },
   {
    "duration": 90093,
    "start_time": "2023-05-02T11:18:35.681Z"
   },
   {
    "duration": 12,
    "start_time": "2023-05-02T11:20:05.776Z"
   },
   {
    "duration": 12,
    "start_time": "2023-05-02T11:20:05.805Z"
   },
   {
    "duration": 45,
    "start_time": "2023-05-02T11:20:05.819Z"
   },
   {
    "duration": 3,
    "start_time": "2023-05-02T11:20:05.867Z"
   },
   {
    "duration": 32,
    "start_time": "2023-05-02T11:20:05.872Z"
   },
   {
    "duration": 12,
    "start_time": "2023-05-02T11:20:05.906Z"
   },
   {
    "duration": 13,
    "start_time": "2023-05-02T11:20:05.919Z"
   },
   {
    "duration": 14,
    "start_time": "2023-05-02T11:20:05.933Z"
   },
   {
    "duration": 6606,
    "start_time": "2023-05-02T11:20:05.948Z"
   },
   {
    "duration": 59944,
    "start_time": "2023-05-02T11:20:12.556Z"
   },
   {
    "duration": 139278,
    "start_time": "2023-05-02T11:21:12.501Z"
   },
   {
    "duration": 58,
    "start_time": "2023-05-02T18:51:36.280Z"
   },
   {
    "duration": 2898,
    "start_time": "2023-05-02T18:52:20.134Z"
   },
   {
    "duration": 4,
    "start_time": "2023-05-02T18:52:25.656Z"
   },
   {
    "duration": 8,
    "start_time": "2023-05-02T18:52:43.059Z"
   },
   {
    "duration": 3,
    "start_time": "2023-05-02T18:52:43.085Z"
   },
   {
    "duration": 11,
    "start_time": "2023-05-02T18:52:43.089Z"
   },
   {
    "duration": 2289,
    "start_time": "2023-05-02T18:52:43.102Z"
   },
   {
    "duration": 13,
    "start_time": "2023-05-02T18:52:45.392Z"
   },
   {
    "duration": 39,
    "start_time": "2023-05-02T18:52:45.408Z"
   },
   {
    "duration": 131,
    "start_time": "2023-05-02T18:52:45.448Z"
   },
   {
    "duration": 4,
    "start_time": "2023-05-02T18:52:45.581Z"
   },
   {
    "duration": 134561,
    "start_time": "2023-05-02T18:52:45.587Z"
   },
   {
    "duration": 15,
    "start_time": "2023-05-02T18:55:00.150Z"
   },
   {
    "duration": 36,
    "start_time": "2023-05-02T18:55:00.167Z"
   },
   {
    "duration": 50,
    "start_time": "2023-05-02T18:55:00.205Z"
   },
   {
    "duration": 4,
    "start_time": "2023-05-02T18:55:00.257Z"
   },
   {
    "duration": 66,
    "start_time": "2023-05-02T18:55:00.262Z"
   },
   {
    "duration": 53,
    "start_time": "2023-05-02T18:55:00.331Z"
   },
   {
    "duration": 79,
    "start_time": "2023-05-02T18:55:00.386Z"
   },
   {
    "duration": 50,
    "start_time": "2023-05-02T18:55:00.467Z"
   },
   {
    "duration": 7273,
    "start_time": "2023-05-02T18:55:00.519Z"
   },
   {
    "duration": 70666,
    "start_time": "2023-05-02T18:55:07.794Z"
   },
   {
    "duration": 161070,
    "start_time": "2023-05-02T18:56:18.462Z"
   },
   {
    "duration": 7,
    "start_time": "2023-05-02T19:03:36.858Z"
   },
   {
    "duration": 111,
    "start_time": "2023-05-02T19:05:44.954Z"
   },
   {
    "duration": 10,
    "start_time": "2023-05-02T19:06:32.065Z"
   },
   {
    "duration": 12,
    "start_time": "2023-05-02T19:06:39.240Z"
   },
   {
    "duration": 605560,
    "start_time": "2023-05-02T19:06:49.578Z"
   },
   {
    "duration": 220652,
    "start_time": "2023-05-02T19:21:28.906Z"
   },
   {
    "duration": 1711730,
    "start_time": "2023-05-02T19:25:09.560Z"
   },
   {
    "duration": 222618,
    "start_time": "2023-05-02T20:06:54.736Z"
   },
   {
    "duration": 66973,
    "start_time": "2023-05-02T20:13:18.576Z"
   },
   {
    "duration": 67759,
    "start_time": "2023-05-02T20:14:52.094Z"
   },
   {
    "duration": 68547,
    "start_time": "2023-05-02T20:17:05.896Z"
   },
   {
    "duration": 67948,
    "start_time": "2023-05-02T20:20:55.993Z"
   },
   {
    "duration": 67647,
    "start_time": "2023-05-02T20:24:15.696Z"
   },
   {
    "duration": 4553,
    "start_time": "2023-05-02T20:26:48.798Z"
   },
   {
    "duration": 6,
    "start_time": "2023-05-02T20:26:53.354Z"
   },
   {
    "duration": 15,
    "start_time": "2023-05-02T20:26:53.362Z"
   },
   {
    "duration": 837,
    "start_time": "2023-05-02T20:26:53.380Z"
   },
   {
    "duration": 11,
    "start_time": "2023-05-02T20:26:54.219Z"
   },
   {
    "duration": 36,
    "start_time": "2023-05-02T20:26:54.242Z"
   },
   {
    "duration": 125,
    "start_time": "2023-05-02T20:26:54.280Z"
   },
   {
    "duration": 2,
    "start_time": "2023-05-02T20:26:54.407Z"
   },
   {
    "duration": 15,
    "start_time": "2023-05-02T20:26:54.411Z"
   },
   {
    "duration": 15,
    "start_time": "2023-05-02T20:26:54.428Z"
   },
   {
    "duration": 510,
    "start_time": "2023-05-02T20:26:54.444Z"
   },
   {
    "duration": 0,
    "start_time": "2023-05-02T20:26:54.957Z"
   },
   {
    "duration": 0,
    "start_time": "2023-05-02T20:26:54.958Z"
   },
   {
    "duration": 0,
    "start_time": "2023-05-02T20:26:54.960Z"
   },
   {
    "duration": 0,
    "start_time": "2023-05-02T20:26:54.961Z"
   },
   {
    "duration": 0,
    "start_time": "2023-05-02T20:26:54.962Z"
   },
   {
    "duration": 0,
    "start_time": "2023-05-02T20:26:54.964Z"
   },
   {
    "duration": 0,
    "start_time": "2023-05-02T20:26:54.965Z"
   },
   {
    "duration": 0,
    "start_time": "2023-05-02T20:26:54.966Z"
   },
   {
    "duration": 0,
    "start_time": "2023-05-02T20:26:54.967Z"
   },
   {
    "duration": 0,
    "start_time": "2023-05-02T20:26:54.969Z"
   },
   {
    "duration": 0,
    "start_time": "2023-05-02T20:26:54.970Z"
   },
   {
    "duration": 0,
    "start_time": "2023-05-02T20:26:54.972Z"
   },
   {
    "duration": 0,
    "start_time": "2023-05-02T20:26:54.974Z"
   },
   {
    "duration": 0,
    "start_time": "2023-05-02T20:26:54.975Z"
   },
   {
    "duration": 7,
    "start_time": "2023-05-02T20:27:50.880Z"
   },
   {
    "duration": 9,
    "start_time": "2023-05-02T20:27:50.890Z"
   },
   {
    "duration": 10,
    "start_time": "2023-05-02T20:27:50.901Z"
   },
   {
    "duration": 857,
    "start_time": "2023-05-02T20:27:50.912Z"
   },
   {
    "duration": 9,
    "start_time": "2023-05-02T20:27:51.771Z"
   },
   {
    "duration": 39,
    "start_time": "2023-05-02T20:27:51.782Z"
   },
   {
    "duration": 120,
    "start_time": "2023-05-02T20:27:51.823Z"
   },
   {
    "duration": 2,
    "start_time": "2023-05-02T20:27:51.945Z"
   },
   {
    "duration": 11,
    "start_time": "2023-05-02T20:27:51.949Z"
   },
   {
    "duration": 10,
    "start_time": "2023-05-02T20:27:51.962Z"
   },
   {
    "duration": 281,
    "start_time": "2023-05-02T20:27:51.974Z"
   },
   {
    "duration": 0,
    "start_time": "2023-05-02T20:27:52.256Z"
   },
   {
    "duration": 0,
    "start_time": "2023-05-02T20:27:52.258Z"
   },
   {
    "duration": 0,
    "start_time": "2023-05-02T20:27:52.259Z"
   },
   {
    "duration": 0,
    "start_time": "2023-05-02T20:27:52.260Z"
   },
   {
    "duration": 0,
    "start_time": "2023-05-02T20:27:52.261Z"
   },
   {
    "duration": 0,
    "start_time": "2023-05-02T20:27:52.262Z"
   },
   {
    "duration": 0,
    "start_time": "2023-05-02T20:27:52.263Z"
   },
   {
    "duration": 0,
    "start_time": "2023-05-02T20:27:52.264Z"
   },
   {
    "duration": 0,
    "start_time": "2023-05-02T20:27:52.265Z"
   },
   {
    "duration": 0,
    "start_time": "2023-05-02T20:27:52.266Z"
   },
   {
    "duration": 0,
    "start_time": "2023-05-02T20:27:52.267Z"
   },
   {
    "duration": 0,
    "start_time": "2023-05-02T20:27:52.269Z"
   },
   {
    "duration": 1,
    "start_time": "2023-05-02T20:27:52.270Z"
   },
   {
    "duration": 0,
    "start_time": "2023-05-02T20:27:52.272Z"
   },
   {
    "duration": 11240,
    "start_time": "2023-05-02T20:28:21.381Z"
   },
   {
    "duration": 3,
    "start_time": "2023-05-02T20:28:32.624Z"
   },
   {
    "duration": 12,
    "start_time": "2023-05-02T20:28:32.629Z"
   },
   {
    "duration": 862,
    "start_time": "2023-05-02T20:28:32.643Z"
   },
   {
    "duration": 10,
    "start_time": "2023-05-02T20:28:33.507Z"
   },
   {
    "duration": 61,
    "start_time": "2023-05-02T20:28:33.519Z"
   },
   {
    "duration": 106,
    "start_time": "2023-05-02T20:28:33.582Z"
   },
   {
    "duration": 3,
    "start_time": "2023-05-02T20:28:33.690Z"
   },
   {
    "duration": 21,
    "start_time": "2023-05-02T20:28:33.695Z"
   },
   {
    "duration": 15,
    "start_time": "2023-05-02T20:28:33.718Z"
   },
   {
    "duration": 286,
    "start_time": "2023-05-02T20:28:33.735Z"
   },
   {
    "duration": 0,
    "start_time": "2023-05-02T20:28:34.023Z"
   },
   {
    "duration": 0,
    "start_time": "2023-05-02T20:28:34.024Z"
   },
   {
    "duration": 0,
    "start_time": "2023-05-02T20:28:34.025Z"
   },
   {
    "duration": 0,
    "start_time": "2023-05-02T20:28:34.026Z"
   },
   {
    "duration": 0,
    "start_time": "2023-05-02T20:28:34.027Z"
   },
   {
    "duration": 0,
    "start_time": "2023-05-02T20:28:34.028Z"
   },
   {
    "duration": 0,
    "start_time": "2023-05-02T20:28:34.029Z"
   },
   {
    "duration": 0,
    "start_time": "2023-05-02T20:28:34.030Z"
   },
   {
    "duration": 0,
    "start_time": "2023-05-02T20:28:34.031Z"
   },
   {
    "duration": 0,
    "start_time": "2023-05-02T20:28:34.031Z"
   },
   {
    "duration": 0,
    "start_time": "2023-05-02T20:28:34.033Z"
   },
   {
    "duration": 0,
    "start_time": "2023-05-02T20:28:34.033Z"
   },
   {
    "duration": 0,
    "start_time": "2023-05-02T20:28:34.035Z"
   },
   {
    "duration": 0,
    "start_time": "2023-05-02T20:28:34.035Z"
   },
   {
    "duration": 4,
    "start_time": "2023-05-02T20:30:38.339Z"
   },
   {
    "duration": 10761,
    "start_time": "2023-05-02T20:30:59.763Z"
   },
   {
    "duration": 4,
    "start_time": "2023-05-02T20:31:10.526Z"
   },
   {
    "duration": 7,
    "start_time": "2023-05-02T20:31:10.531Z"
   },
   {
    "duration": 841,
    "start_time": "2023-05-02T20:31:10.540Z"
   },
   {
    "duration": 10,
    "start_time": "2023-05-02T20:31:11.384Z"
   },
   {
    "duration": 51,
    "start_time": "2023-05-02T20:31:11.396Z"
   },
   {
    "duration": 108,
    "start_time": "2023-05-02T20:31:11.448Z"
   },
   {
    "duration": 2,
    "start_time": "2023-05-02T20:31:11.557Z"
   },
   {
    "duration": 11,
    "start_time": "2023-05-02T20:31:11.561Z"
   },
   {
    "duration": 21,
    "start_time": "2023-05-02T20:31:11.573Z"
   },
   {
    "duration": 129826,
    "start_time": "2023-05-02T20:31:11.596Z"
   },
   {
    "duration": 20,
    "start_time": "2023-05-02T20:33:21.424Z"
   },
   {
    "duration": 20,
    "start_time": "2023-05-02T20:33:21.446Z"
   },
   {
    "duration": 64,
    "start_time": "2023-05-02T20:33:21.468Z"
   },
   {
    "duration": 4,
    "start_time": "2023-05-02T20:33:21.534Z"
   },
   {
    "duration": 23,
    "start_time": "2023-05-02T20:33:21.541Z"
   },
   {
    "duration": 5,
    "start_time": "2023-05-02T20:33:21.566Z"
   },
   {
    "duration": 8,
    "start_time": "2023-05-02T20:33:21.572Z"
   },
   {
    "duration": 10,
    "start_time": "2023-05-02T20:33:21.581Z"
   },
   {
    "duration": 6970,
    "start_time": "2023-05-02T20:33:21.592Z"
   },
   {
    "duration": 2,
    "start_time": "2023-05-02T20:33:28.564Z"
   },
   {
    "duration": 259579,
    "start_time": "2023-05-02T20:33:28.568Z"
   },
   {
    "duration": 22962,
    "start_time": "2023-05-02T20:41:38.887Z"
   },
   {
    "duration": 6,
    "start_time": "2023-05-02T20:42:01.852Z"
   },
   {
    "duration": 27,
    "start_time": "2023-05-02T20:42:01.860Z"
   },
   {
    "duration": 816,
    "start_time": "2023-05-02T20:42:01.889Z"
   },
   {
    "duration": 14,
    "start_time": "2023-05-02T20:42:02.707Z"
   },
   {
    "duration": 65,
    "start_time": "2023-05-02T20:42:02.723Z"
   },
   {
    "duration": 125,
    "start_time": "2023-05-02T20:42:02.790Z"
   },
   {
    "duration": 2,
    "start_time": "2023-05-02T20:42:02.917Z"
   },
   {
    "duration": 12,
    "start_time": "2023-05-02T20:42:02.920Z"
   },
   {
    "duration": 12,
    "start_time": "2023-05-02T20:42:02.934Z"
   },
   {
    "duration": 651,
    "start_time": "2023-05-02T20:42:02.947Z"
   },
   {
    "duration": 0,
    "start_time": "2023-05-02T20:42:03.600Z"
   },
   {
    "duration": 0,
    "start_time": "2023-05-02T20:42:03.601Z"
   },
   {
    "duration": 1,
    "start_time": "2023-05-02T20:42:03.602Z"
   },
   {
    "duration": 0,
    "start_time": "2023-05-02T20:42:03.603Z"
   },
   {
    "duration": 0,
    "start_time": "2023-05-02T20:42:03.604Z"
   },
   {
    "duration": 0,
    "start_time": "2023-05-02T20:42:03.605Z"
   },
   {
    "duration": 0,
    "start_time": "2023-05-02T20:42:03.607Z"
   },
   {
    "duration": 0,
    "start_time": "2023-05-02T20:42:03.607Z"
   },
   {
    "duration": 0,
    "start_time": "2023-05-02T20:42:03.609Z"
   },
   {
    "duration": 0,
    "start_time": "2023-05-02T20:42:03.609Z"
   },
   {
    "duration": 0,
    "start_time": "2023-05-02T20:42:03.610Z"
   },
   {
    "duration": 0,
    "start_time": "2023-05-02T20:42:03.611Z"
   },
   {
    "duration": 0,
    "start_time": "2023-05-02T20:42:03.612Z"
   },
   {
    "duration": 0,
    "start_time": "2023-05-02T20:42:03.613Z"
   },
   {
    "duration": 4,
    "start_time": "2023-05-02T20:42:57.287Z"
   },
   {
    "duration": 4,
    "start_time": "2023-05-02T20:43:05.352Z"
   },
   {
    "duration": 23148,
    "start_time": "2023-05-02T20:49:54.584Z"
   },
   {
    "duration": 7,
    "start_time": "2023-05-02T20:50:17.735Z"
   },
   {
    "duration": 10,
    "start_time": "2023-05-02T20:50:17.744Z"
   },
   {
    "duration": 828,
    "start_time": "2023-05-02T20:50:17.755Z"
   },
   {
    "duration": 16,
    "start_time": "2023-05-02T20:50:18.585Z"
   },
   {
    "duration": 50,
    "start_time": "2023-05-02T20:50:18.603Z"
   },
   {
    "duration": 130,
    "start_time": "2023-05-02T20:50:18.655Z"
   },
   {
    "duration": 2,
    "start_time": "2023-05-02T20:50:18.787Z"
   },
   {
    "duration": 11,
    "start_time": "2023-05-02T20:50:18.791Z"
   },
   {
    "duration": 10,
    "start_time": "2023-05-02T20:50:18.803Z"
   },
   {
    "duration": 354,
    "start_time": "2023-05-02T20:50:18.815Z"
   },
   {
    "duration": 0,
    "start_time": "2023-05-02T20:50:19.171Z"
   },
   {
    "duration": 0,
    "start_time": "2023-05-02T20:50:19.173Z"
   },
   {
    "duration": 0,
    "start_time": "2023-05-02T20:50:19.174Z"
   },
   {
    "duration": 0,
    "start_time": "2023-05-02T20:50:19.175Z"
   },
   {
    "duration": 0,
    "start_time": "2023-05-02T20:50:19.176Z"
   },
   {
    "duration": 0,
    "start_time": "2023-05-02T20:50:19.177Z"
   },
   {
    "duration": 0,
    "start_time": "2023-05-02T20:50:19.178Z"
   },
   {
    "duration": 0,
    "start_time": "2023-05-02T20:50:19.179Z"
   },
   {
    "duration": 0,
    "start_time": "2023-05-02T20:50:19.180Z"
   },
   {
    "duration": 0,
    "start_time": "2023-05-02T20:50:19.181Z"
   },
   {
    "duration": 0,
    "start_time": "2023-05-02T20:50:19.182Z"
   },
   {
    "duration": 0,
    "start_time": "2023-05-02T20:50:19.183Z"
   },
   {
    "duration": 0,
    "start_time": "2023-05-02T20:50:19.184Z"
   },
   {
    "duration": 0,
    "start_time": "2023-05-02T20:50:19.185Z"
   },
   {
    "duration": 22136,
    "start_time": "2023-05-02T20:51:47.493Z"
   },
   {
    "duration": 7,
    "start_time": "2023-05-02T20:52:09.632Z"
   },
   {
    "duration": 24,
    "start_time": "2023-05-02T20:52:09.641Z"
   },
   {
    "duration": 890,
    "start_time": "2023-05-02T20:52:09.667Z"
   },
   {
    "duration": 16,
    "start_time": "2023-05-02T20:52:10.559Z"
   },
   {
    "duration": 54,
    "start_time": "2023-05-02T20:52:10.576Z"
   },
   {
    "duration": 132,
    "start_time": "2023-05-02T20:52:10.632Z"
   },
   {
    "duration": 2,
    "start_time": "2023-05-02T20:52:10.766Z"
   },
   {
    "duration": 36,
    "start_time": "2023-05-02T20:52:10.770Z"
   },
   {
    "duration": 24,
    "start_time": "2023-05-02T20:52:10.808Z"
   },
   {
    "duration": 23249,
    "start_time": "2023-05-02T21:16:49.296Z"
   },
   {
    "duration": 8,
    "start_time": "2023-05-02T21:17:12.548Z"
   },
   {
    "duration": 9,
    "start_time": "2023-05-02T21:17:12.558Z"
   },
   {
    "duration": 839,
    "start_time": "2023-05-02T21:17:12.569Z"
   },
   {
    "duration": 14,
    "start_time": "2023-05-02T21:17:13.410Z"
   },
   {
    "duration": 53,
    "start_time": "2023-05-02T21:17:13.426Z"
   },
   {
    "duration": 122,
    "start_time": "2023-05-02T21:17:13.481Z"
   },
   {
    "duration": 3,
    "start_time": "2023-05-02T21:17:13.604Z"
   },
   {
    "duration": 15,
    "start_time": "2023-05-02T21:17:13.608Z"
   },
   {
    "duration": 11,
    "start_time": "2023-05-02T21:17:13.625Z"
   },
   {
    "duration": 22097,
    "start_time": "2023-05-02T21:17:20.977Z"
   },
   {
    "duration": 7,
    "start_time": "2023-05-02T21:17:43.077Z"
   },
   {
    "duration": 9,
    "start_time": "2023-05-02T21:17:43.085Z"
   },
   {
    "duration": 831,
    "start_time": "2023-05-02T21:17:43.095Z"
   },
   {
    "duration": 18,
    "start_time": "2023-05-02T21:17:43.929Z"
   },
   {
    "duration": 39,
    "start_time": "2023-05-02T21:17:43.949Z"
   },
   {
    "duration": 128,
    "start_time": "2023-05-02T21:17:43.989Z"
   },
   {
    "duration": 2,
    "start_time": "2023-05-02T21:17:44.119Z"
   },
   {
    "duration": 19,
    "start_time": "2023-05-02T21:17:44.122Z"
   },
   {
    "duration": 2,
    "start_time": "2023-05-02T21:17:44.143Z"
   },
   {
    "duration": 131127,
    "start_time": "2023-05-02T21:17:44.147Z"
   },
   {
    "duration": 14,
    "start_time": "2023-05-02T21:19:55.276Z"
   },
   {
    "duration": 50,
    "start_time": "2023-05-02T21:19:55.291Z"
   },
   {
    "duration": 52,
    "start_time": "2023-05-02T21:19:55.344Z"
   },
   {
    "duration": 4,
    "start_time": "2023-05-02T21:19:55.398Z"
   },
   {
    "duration": 10,
    "start_time": "2023-05-02T21:19:55.403Z"
   },
   {
    "duration": 21,
    "start_time": "2023-05-02T21:19:55.414Z"
   },
   {
    "duration": 11,
    "start_time": "2023-05-02T21:19:55.437Z"
   },
   {
    "duration": 23,
    "start_time": "2023-05-02T21:19:55.449Z"
   },
   {
    "duration": 7110,
    "start_time": "2023-05-02T21:19:55.474Z"
   },
   {
    "duration": 2,
    "start_time": "2023-05-02T21:20:02.586Z"
   },
   {
    "duration": 259253,
    "start_time": "2023-05-02T21:20:02.590Z"
   },
   {
    "duration": 551352,
    "start_time": "2023-05-02T21:24:21.845Z"
   },
   {
    "duration": 1694945,
    "start_time": "2023-05-02T21:33:33.199Z"
   },
   {
    "duration": 52305,
    "start_time": "2023-05-02T22:01:48.146Z"
   },
   {
    "duration": 49331,
    "start_time": "2023-05-02T22:10:41.013Z"
   },
   {
    "duration": 18043,
    "start_time": "2023-05-02T22:12:59.333Z"
   },
   {
    "duration": 4,
    "start_time": "2023-05-02T22:13:17.379Z"
   },
   {
    "duration": 15,
    "start_time": "2023-05-02T22:13:17.385Z"
   },
   {
    "duration": 779,
    "start_time": "2023-05-02T22:13:17.403Z"
   },
   {
    "duration": 10,
    "start_time": "2023-05-02T22:13:18.184Z"
   },
   {
    "duration": 52,
    "start_time": "2023-05-02T22:13:18.196Z"
   },
   {
    "duration": 104,
    "start_time": "2023-05-02T22:13:18.251Z"
   },
   {
    "duration": 4,
    "start_time": "2023-05-02T22:13:18.357Z"
   },
   {
    "duration": 40,
    "start_time": "2023-05-02T22:13:18.362Z"
   },
   {
    "duration": 91534,
    "start_time": "2023-05-02T22:13:18.404Z"
   },
   {
    "duration": 14,
    "start_time": "2023-05-02T22:14:49.940Z"
   },
   {
    "duration": 11,
    "start_time": "2023-05-02T22:14:49.955Z"
   },
   {
    "duration": 73,
    "start_time": "2023-05-02T22:14:49.968Z"
   },
   {
    "duration": 5,
    "start_time": "2023-05-02T22:14:50.043Z"
   },
   {
    "duration": 10,
    "start_time": "2023-05-02T22:14:50.049Z"
   },
   {
    "duration": 8,
    "start_time": "2023-05-02T22:14:50.061Z"
   },
   {
    "duration": 18,
    "start_time": "2023-05-02T22:14:50.071Z"
   },
   {
    "duration": 16,
    "start_time": "2023-05-02T22:14:50.091Z"
   },
   {
    "duration": 7234,
    "start_time": "2023-05-02T22:14:50.109Z"
   },
   {
    "duration": 3,
    "start_time": "2023-05-02T22:14:57.344Z"
   },
   {
    "duration": 236295,
    "start_time": "2023-05-02T22:14:57.348Z"
   },
   {
    "duration": 612373,
    "start_time": "2023-05-02T22:18:53.646Z"
   },
   {
    "duration": 61921,
    "start_time": "2023-05-02T22:29:06.020Z"
   },
   {
    "duration": 19035,
    "start_time": "2023-05-02T22:31:24.766Z"
   },
   {
    "duration": 4,
    "start_time": "2023-05-02T22:31:43.803Z"
   },
   {
    "duration": 15,
    "start_time": "2023-05-02T22:31:43.808Z"
   },
   {
    "duration": 844,
    "start_time": "2023-05-02T22:31:43.825Z"
   },
   {
    "duration": 11,
    "start_time": "2023-05-02T22:31:44.672Z"
   },
   {
    "duration": 44,
    "start_time": "2023-05-02T22:31:44.685Z"
   },
   {
    "duration": 118,
    "start_time": "2023-05-02T22:31:44.731Z"
   },
   {
    "duration": 2,
    "start_time": "2023-05-02T22:31:44.851Z"
   },
   {
    "duration": 21,
    "start_time": "2023-05-02T22:31:44.855Z"
   },
   {
    "duration": 13,
    "start_time": "2023-05-02T22:31:44.878Z"
   },
   {
    "duration": 84209,
    "start_time": "2023-05-02T22:31:44.893Z"
   },
   {
    "duration": 16,
    "start_time": "2023-05-02T22:33:09.104Z"
   },
   {
    "duration": 19,
    "start_time": "2023-05-02T22:33:09.122Z"
   },
   {
    "duration": 59,
    "start_time": "2023-05-02T22:33:09.144Z"
   },
   {
    "duration": 5,
    "start_time": "2023-05-02T22:33:09.205Z"
   },
   {
    "duration": 20,
    "start_time": "2023-05-02T22:33:09.212Z"
   },
   {
    "duration": 13,
    "start_time": "2023-05-02T22:33:09.234Z"
   },
   {
    "duration": 34,
    "start_time": "2023-05-02T22:33:09.249Z"
   },
   {
    "duration": 20,
    "start_time": "2023-05-02T22:33:09.285Z"
   },
   {
    "duration": 7280,
    "start_time": "2023-05-02T22:33:09.307Z"
   },
   {
    "duration": 3,
    "start_time": "2023-05-02T22:33:16.589Z"
   },
   {
    "duration": 284049,
    "start_time": "2023-05-02T22:33:16.594Z"
   },
   {
    "duration": 564657,
    "start_time": "2023-05-02T22:38:00.645Z"
   },
   {
    "duration": 1698066,
    "start_time": "2023-05-02T22:47:25.303Z"
   },
   {
    "duration": 61172,
    "start_time": "2023-05-02T23:15:43.371Z"
   },
   {
    "duration": 24852,
    "start_time": "2023-05-03T19:56:38.346Z"
   },
   {
    "duration": 9,
    "start_time": "2023-05-03T19:57:03.202Z"
   },
   {
    "duration": 27,
    "start_time": "2023-05-03T19:57:03.213Z"
   },
   {
    "duration": 2463,
    "start_time": "2023-05-03T19:57:03.243Z"
   },
   {
    "duration": 20,
    "start_time": "2023-05-03T19:57:05.709Z"
   },
   {
    "duration": 41,
    "start_time": "2023-05-03T19:57:05.731Z"
   },
   {
    "duration": 115,
    "start_time": "2023-05-03T19:57:05.774Z"
   },
   {
    "duration": 3,
    "start_time": "2023-05-03T19:57:05.891Z"
   },
   {
    "duration": 623,
    "start_time": "2023-05-03T19:57:05.897Z"
   },
   {
    "duration": 1283620,
    "start_time": "2023-05-03T19:57:06.524Z"
   },
   {
    "duration": 13,
    "start_time": "2023-05-03T20:18:30.146Z"
   },
   {
    "duration": 42,
    "start_time": "2023-05-03T20:18:30.161Z"
   },
   {
    "duration": 53,
    "start_time": "2023-05-03T20:18:30.205Z"
   },
   {
    "duration": 5,
    "start_time": "2023-05-03T20:18:30.260Z"
   },
   {
    "duration": 35,
    "start_time": "2023-05-03T20:18:30.266Z"
   },
   {
    "duration": 5,
    "start_time": "2023-05-03T20:18:30.304Z"
   },
   {
    "duration": 22,
    "start_time": "2023-05-03T20:18:30.312Z"
   },
   {
    "duration": 41,
    "start_time": "2023-05-03T20:18:30.337Z"
   },
   {
    "duration": 6542,
    "start_time": "2023-05-03T20:18:30.380Z"
   },
   {
    "duration": 3,
    "start_time": "2023-05-03T20:18:36.923Z"
   },
   {
    "duration": 293710,
    "start_time": "2023-05-03T20:18:36.935Z"
   },
   {
    "duration": 495128,
    "start_time": "2023-05-03T20:23:30.647Z"
   },
   {
    "duration": 1490220,
    "start_time": "2023-05-03T20:31:45.777Z"
   },
   {
    "duration": 61439,
    "start_time": "2023-05-03T20:56:35.998Z"
   },
   {
    "duration": 1251855,
    "start_time": "2023-05-03T21:09:05.449Z"
   },
   {
    "duration": 20896,
    "start_time": "2023-08-12T15:34:45.395Z"
   },
   {
    "duration": 7,
    "start_time": "2023-08-12T15:35:06.293Z"
   },
   {
    "duration": 2424,
    "start_time": "2023-08-12T15:35:06.301Z"
   },
   {
    "duration": 22,
    "start_time": "2023-08-12T15:35:08.726Z"
   },
   {
    "duration": 25,
    "start_time": "2023-08-12T15:35:08.750Z"
   },
   {
    "duration": 101,
    "start_time": "2023-08-12T15:35:08.777Z"
   },
   {
    "duration": 2,
    "start_time": "2023-08-12T15:35:08.879Z"
   },
   {
    "duration": 5,
    "start_time": "2023-08-12T15:35:08.882Z"
   },
   {
    "duration": 494,
    "start_time": "2023-08-12T15:35:08.888Z"
   },
   {
    "duration": 1008692,
    "start_time": "2023-08-12T15:35:09.384Z"
   },
   {
    "duration": 15,
    "start_time": "2023-08-12T15:51:58.078Z"
   },
   {
    "duration": 12,
    "start_time": "2023-08-12T15:51:58.095Z"
   },
   {
    "duration": 46,
    "start_time": "2023-08-12T15:51:58.109Z"
   },
   {
    "duration": 4,
    "start_time": "2023-08-12T15:51:58.159Z"
   },
   {
    "duration": 9,
    "start_time": "2023-08-12T15:51:58.165Z"
   },
   {
    "duration": 7,
    "start_time": "2023-08-12T15:51:58.176Z"
   },
   {
    "duration": 5,
    "start_time": "2023-08-12T15:51:58.185Z"
   },
   {
    "duration": 15,
    "start_time": "2023-08-12T15:51:58.191Z"
   },
   {
    "duration": 6476,
    "start_time": "2023-08-12T15:51:58.208Z"
   },
   {
    "duration": 3,
    "start_time": "2023-08-12T15:52:04.686Z"
   },
   {
    "duration": 250748,
    "start_time": "2023-08-12T15:52:04.690Z"
   },
   {
    "duration": 417901,
    "start_time": "2023-08-12T15:56:15.449Z"
   },
   {
    "duration": 21230,
    "start_time": "2023-08-12T16:04:10.294Z"
   },
   {
    "duration": 7,
    "start_time": "2023-08-12T16:04:31.527Z"
   },
   {
    "duration": 959,
    "start_time": "2023-08-12T16:04:31.536Z"
   },
   {
    "duration": 17,
    "start_time": "2023-08-12T16:04:32.497Z"
   },
   {
    "duration": 80,
    "start_time": "2023-08-12T16:04:32.516Z"
   },
   {
    "duration": 126,
    "start_time": "2023-08-12T16:04:32.598Z"
   },
   {
    "duration": 3,
    "start_time": "2023-08-12T16:04:32.726Z"
   },
   {
    "duration": 49,
    "start_time": "2023-08-12T16:04:32.730Z"
   },
   {
    "duration": 548,
    "start_time": "2023-08-12T16:04:32.781Z"
   },
   {
    "duration": 995,
    "start_time": "2023-08-12T16:04:33.331Z"
   },
   {
    "duration": 28,
    "start_time": "2023-08-12T16:04:34.328Z"
   },
   {
    "duration": 1658,
    "start_time": "2023-08-12T16:04:34.366Z"
   },
   {
    "duration": 0,
    "start_time": "2023-08-12T16:04:36.026Z"
   },
   {
    "duration": 0,
    "start_time": "2023-08-12T16:04:36.027Z"
   },
   {
    "duration": 0,
    "start_time": "2023-08-12T16:04:36.027Z"
   },
   {
    "duration": 0,
    "start_time": "2023-08-12T16:04:36.029Z"
   },
   {
    "duration": 0,
    "start_time": "2023-08-12T16:04:36.030Z"
   },
   {
    "duration": 0,
    "start_time": "2023-08-12T16:04:36.031Z"
   },
   {
    "duration": 0,
    "start_time": "2023-08-12T16:04:36.032Z"
   },
   {
    "duration": 0,
    "start_time": "2023-08-12T16:04:36.033Z"
   },
   {
    "duration": 0,
    "start_time": "2023-08-12T16:04:36.034Z"
   },
   {
    "duration": 0,
    "start_time": "2023-08-12T16:04:36.035Z"
   },
   {
    "duration": 0,
    "start_time": "2023-08-12T16:04:36.036Z"
   },
   {
    "duration": 0,
    "start_time": "2023-08-12T16:04:36.037Z"
   },
   {
    "duration": 16532,
    "start_time": "2023-08-12T16:05:13.999Z"
   },
   {
    "duration": 7,
    "start_time": "2023-08-12T16:05:30.533Z"
   },
   {
    "duration": 918,
    "start_time": "2023-08-12T16:05:30.548Z"
   },
   {
    "duration": 8,
    "start_time": "2023-08-12T16:05:31.469Z"
   },
   {
    "duration": 53,
    "start_time": "2023-08-12T16:05:31.479Z"
   },
   {
    "duration": 149,
    "start_time": "2023-08-12T16:05:31.534Z"
   },
   {
    "duration": 3,
    "start_time": "2023-08-12T16:05:31.684Z"
   },
   {
    "duration": 35,
    "start_time": "2023-08-12T16:05:31.688Z"
   },
   {
    "duration": 566,
    "start_time": "2023-08-12T16:05:31.724Z"
   },
   {
    "duration": 21730,
    "start_time": "2023-08-12T16:28:02.622Z"
   },
   {
    "duration": 13,
    "start_time": "2023-08-12T16:28:24.354Z"
   },
   {
    "duration": 936,
    "start_time": "2023-08-12T16:28:24.369Z"
   },
   {
    "duration": 13,
    "start_time": "2023-08-12T16:28:25.307Z"
   },
   {
    "duration": 47,
    "start_time": "2023-08-12T16:28:25.321Z"
   },
   {
    "duration": 142,
    "start_time": "2023-08-12T16:28:25.373Z"
   },
   {
    "duration": 2,
    "start_time": "2023-08-12T16:28:25.517Z"
   },
   {
    "duration": 8,
    "start_time": "2023-08-12T16:28:25.520Z"
   },
   {
    "duration": 522,
    "start_time": "2023-08-12T16:28:25.530Z"
   },
   {
    "duration": 22,
    "start_time": "2023-08-12T16:28:26.054Z"
   },
   {
    "duration": 2510,
    "start_time": "2023-08-12T16:28:26.078Z"
   },
   {
    "duration": 0,
    "start_time": "2023-08-12T16:28:28.590Z"
   },
   {
    "duration": 0,
    "start_time": "2023-08-12T16:28:28.591Z"
   },
   {
    "duration": 0,
    "start_time": "2023-08-12T16:28:28.592Z"
   },
   {
    "duration": 0,
    "start_time": "2023-08-12T16:28:28.594Z"
   },
   {
    "duration": 0,
    "start_time": "2023-08-12T16:28:28.595Z"
   },
   {
    "duration": 0,
    "start_time": "2023-08-12T16:28:28.597Z"
   },
   {
    "duration": 0,
    "start_time": "2023-08-12T16:28:28.598Z"
   },
   {
    "duration": 0,
    "start_time": "2023-08-12T16:28:28.599Z"
   },
   {
    "duration": 1,
    "start_time": "2023-08-12T16:28:28.600Z"
   },
   {
    "duration": 0,
    "start_time": "2023-08-12T16:28:28.602Z"
   },
   {
    "duration": 0,
    "start_time": "2023-08-12T16:28:28.603Z"
   },
   {
    "duration": 0,
    "start_time": "2023-08-12T16:28:28.604Z"
   },
   {
    "duration": 6988,
    "start_time": "2023-08-12T16:34:50.083Z"
   },
   {
    "duration": 15780,
    "start_time": "2023-08-12T16:35:01.243Z"
   },
   {
    "duration": 3,
    "start_time": "2023-08-12T16:35:17.026Z"
   },
   {
    "duration": 807,
    "start_time": "2023-08-12T16:35:17.031Z"
   },
   {
    "duration": 8,
    "start_time": "2023-08-12T16:35:17.840Z"
   },
   {
    "duration": 28,
    "start_time": "2023-08-12T16:35:17.850Z"
   },
   {
    "duration": 97,
    "start_time": "2023-08-12T16:35:17.880Z"
   },
   {
    "duration": 3,
    "start_time": "2023-08-12T16:35:17.979Z"
   },
   {
    "duration": 17,
    "start_time": "2023-08-12T16:35:17.983Z"
   },
   {
    "duration": 5848,
    "start_time": "2023-08-12T16:35:18.001Z"
   },
   {
    "duration": 12,
    "start_time": "2023-08-12T16:35:23.850Z"
   },
   {
    "duration": 13,
    "start_time": "2023-08-12T16:35:23.864Z"
   },
   {
    "duration": 34,
    "start_time": "2023-08-12T16:35:23.878Z"
   },
   {
    "duration": 4,
    "start_time": "2023-08-12T16:35:23.913Z"
   },
   {
    "duration": 12,
    "start_time": "2023-08-12T16:35:23.919Z"
   },
   {
    "duration": 9,
    "start_time": "2023-08-12T16:35:23.932Z"
   },
   {
    "duration": 43,
    "start_time": "2023-08-12T16:35:23.942Z"
   },
   {
    "duration": 35,
    "start_time": "2023-08-12T16:35:23.986Z"
   },
   {
    "duration": 6212,
    "start_time": "2023-08-12T16:35:24.022Z"
   },
   {
    "duration": 3,
    "start_time": "2023-08-12T16:35:30.237Z"
   },
   {
    "duration": 213603,
    "start_time": "2023-08-12T16:35:30.241Z"
   },
   {
    "duration": 463326,
    "start_time": "2023-08-12T16:39:03.846Z"
   },
   {
    "duration": 21733,
    "start_time": "2023-08-12T18:20:58.897Z"
   },
   {
    "duration": 8,
    "start_time": "2023-08-12T18:21:20.633Z"
   },
   {
    "duration": 941,
    "start_time": "2023-08-12T18:21:20.644Z"
   },
   {
    "duration": 18,
    "start_time": "2023-08-12T18:21:21.586Z"
   },
   {
    "duration": 43,
    "start_time": "2023-08-12T18:21:21.605Z"
   },
   {
    "duration": 114,
    "start_time": "2023-08-12T18:21:21.653Z"
   },
   {
    "duration": 3,
    "start_time": "2023-08-12T18:21:21.769Z"
   },
   {
    "duration": 17,
    "start_time": "2023-08-12T18:21:21.773Z"
   },
   {
    "duration": 8153,
    "start_time": "2023-08-12T18:21:21.791Z"
   },
   {
    "duration": 14,
    "start_time": "2023-08-12T18:21:29.947Z"
   },
   {
    "duration": 21,
    "start_time": "2023-08-12T18:21:29.963Z"
   },
   {
    "duration": 61,
    "start_time": "2023-08-12T18:21:29.986Z"
   },
   {
    "duration": 31,
    "start_time": "2023-08-12T18:21:30.049Z"
   },
   {
    "duration": 38,
    "start_time": "2023-08-12T18:21:30.082Z"
   },
   {
    "duration": 54,
    "start_time": "2023-08-12T18:21:30.121Z"
   },
   {
    "duration": 42,
    "start_time": "2023-08-12T18:21:30.177Z"
   },
   {
    "duration": 61,
    "start_time": "2023-08-12T18:21:30.221Z"
   },
   {
    "duration": 7162,
    "start_time": "2023-08-12T18:21:30.283Z"
   },
   {
    "duration": 3,
    "start_time": "2023-08-12T18:21:37.448Z"
   },
   {
    "duration": 224490,
    "start_time": "2023-08-12T18:21:37.453Z"
   },
   {
    "duration": 455146,
    "start_time": "2023-08-12T18:25:21.944Z"
   },
   {
    "duration": 20030,
    "start_time": "2023-08-12T19:27:28.633Z"
   },
   {
    "duration": 6,
    "start_time": "2023-08-12T19:27:48.665Z"
   },
   {
    "duration": 836,
    "start_time": "2023-08-12T19:27:48.673Z"
   },
   {
    "duration": 13,
    "start_time": "2023-08-12T19:27:49.510Z"
   },
   {
    "duration": 29,
    "start_time": "2023-08-12T19:27:49.525Z"
   },
   {
    "duration": 107,
    "start_time": "2023-08-12T19:27:49.555Z"
   },
   {
    "duration": 2,
    "start_time": "2023-08-12T19:27:49.663Z"
   },
   {
    "duration": 8,
    "start_time": "2023-08-12T19:27:49.666Z"
   },
   {
    "duration": 477,
    "start_time": "2023-08-12T19:27:49.675Z"
   },
   {
    "duration": 982458,
    "start_time": "2023-08-12T19:27:50.154Z"
   },
   {
    "duration": 26,
    "start_time": "2023-08-12T19:44:12.613Z"
   },
   {
    "duration": 8,
    "start_time": "2023-08-12T19:44:12.640Z"
   },
   {
    "duration": 28,
    "start_time": "2023-08-12T19:44:12.649Z"
   },
   {
    "duration": 3,
    "start_time": "2023-08-12T19:44:12.680Z"
   },
   {
    "duration": 8,
    "start_time": "2023-08-12T19:44:12.685Z"
   },
   {
    "duration": 6,
    "start_time": "2023-08-12T19:44:12.695Z"
   },
   {
    "duration": 6,
    "start_time": "2023-08-12T19:44:12.702Z"
   },
   {
    "duration": 10,
    "start_time": "2023-08-12T19:44:12.710Z"
   },
   {
    "duration": 6413,
    "start_time": "2023-08-12T19:44:12.722Z"
   },
   {
    "duration": 3,
    "start_time": "2023-08-12T19:44:19.136Z"
   },
   {
    "duration": 222798,
    "start_time": "2023-08-12T19:44:19.143Z"
   },
   {
    "duration": 408660,
    "start_time": "2023-08-12T19:48:01.943Z"
   },
   {
    "duration": 1324081,
    "start_time": "2023-08-12T19:54:50.604Z"
   },
   {
    "duration": 1183103,
    "start_time": "2023-08-12T20:16:54.686Z"
   },
   {
    "duration": 17356,
    "start_time": "2023-08-12T20:40:19.585Z"
   },
   {
    "duration": 3,
    "start_time": "2023-08-12T20:40:36.943Z"
   },
   {
    "duration": 758,
    "start_time": "2023-08-12T20:40:36.948Z"
   },
   {
    "duration": 10,
    "start_time": "2023-08-12T20:40:37.708Z"
   },
   {
    "duration": 29,
    "start_time": "2023-08-12T20:40:37.721Z"
   },
   {
    "duration": 92,
    "start_time": "2023-08-12T20:40:37.751Z"
   },
   {
    "duration": 2,
    "start_time": "2023-08-12T20:40:37.845Z"
   },
   {
    "duration": 6,
    "start_time": "2023-08-12T20:40:37.848Z"
   },
   {
    "duration": 7088,
    "start_time": "2023-08-12T20:40:37.856Z"
   },
   {
    "duration": 12,
    "start_time": "2023-08-12T20:40:44.945Z"
   },
   {
    "duration": 4,
    "start_time": "2023-08-12T20:40:44.959Z"
   },
   {
    "duration": 50,
    "start_time": "2023-08-12T20:40:44.964Z"
   },
   {
    "duration": 23,
    "start_time": "2023-08-12T20:40:45.016Z"
   },
   {
    "duration": 6,
    "start_time": "2023-08-12T20:40:45.041Z"
   },
   {
    "duration": 10,
    "start_time": "2023-08-12T20:40:45.048Z"
   },
   {
    "duration": 6,
    "start_time": "2023-08-12T20:40:45.059Z"
   },
   {
    "duration": 14,
    "start_time": "2023-08-12T20:40:45.066Z"
   },
   {
    "duration": 5956,
    "start_time": "2023-08-12T20:40:45.081Z"
   },
   {
    "duration": 3,
    "start_time": "2023-08-12T20:40:51.038Z"
   },
   {
    "duration": 207601,
    "start_time": "2023-08-12T20:40:51.042Z"
   },
   {
    "duration": 452129,
    "start_time": "2023-08-12T20:44:18.645Z"
   },
   {
    "duration": 2138340,
    "start_time": "2023-08-12T20:51:50.775Z"
   },
   {
    "duration": 23945,
    "start_time": "2023-08-13T11:42:20.771Z"
   },
   {
    "duration": 10,
    "start_time": "2023-08-13T11:42:44.720Z"
   },
   {
    "duration": 3277,
    "start_time": "2023-08-13T11:42:44.732Z"
   },
   {
    "duration": 18,
    "start_time": "2023-08-13T11:42:48.012Z"
   },
   {
    "duration": 41,
    "start_time": "2023-08-13T11:42:48.033Z"
   },
   {
    "duration": 144,
    "start_time": "2023-08-13T11:42:48.077Z"
   },
   {
    "duration": 3,
    "start_time": "2023-08-13T11:42:48.223Z"
   },
   {
    "duration": 5,
    "start_time": "2023-08-13T11:42:48.228Z"
   },
   {
    "duration": 8168,
    "start_time": "2023-08-13T11:42:48.235Z"
   },
   {
    "duration": 14,
    "start_time": "2023-08-13T11:42:56.405Z"
   },
   {
    "duration": 8,
    "start_time": "2023-08-13T11:42:56.421Z"
   },
   {
    "duration": 62,
    "start_time": "2023-08-13T11:42:56.431Z"
   },
   {
    "duration": 4,
    "start_time": "2023-08-13T11:42:56.495Z"
   },
   {
    "duration": 4,
    "start_time": "2023-08-13T11:42:56.502Z"
   },
   {
    "duration": 14,
    "start_time": "2023-08-13T11:42:56.508Z"
   },
   {
    "duration": 5,
    "start_time": "2023-08-13T11:42:56.524Z"
   },
   {
    "duration": 35,
    "start_time": "2023-08-13T11:42:56.531Z"
   },
   {
    "duration": 7820,
    "start_time": "2023-08-13T11:42:56.570Z"
   },
   {
    "duration": 2,
    "start_time": "2023-08-13T11:43:04.392Z"
   },
   {
    "duration": 253974,
    "start_time": "2023-08-13T11:43:04.396Z"
   },
   {
    "duration": 621660,
    "start_time": "2023-08-13T11:47:18.372Z"
   },
   {
    "duration": 2584768,
    "start_time": "2023-08-13T11:57:40.034Z"
   },
   {
    "duration": 1672383,
    "start_time": "2023-08-13T12:40:44.804Z"
   },
   {
    "duration": 23576,
    "start_time": "2023-08-13T13:14:03.389Z"
   },
   {
    "duration": 9,
    "start_time": "2023-08-13T13:14:26.970Z"
   },
   {
    "duration": 903,
    "start_time": "2023-08-13T13:14:26.984Z"
   },
   {
    "duration": 10,
    "start_time": "2023-08-13T13:14:27.889Z"
   },
   {
    "duration": 43,
    "start_time": "2023-08-13T13:14:27.903Z"
   },
   {
    "duration": 126,
    "start_time": "2023-08-13T13:14:27.969Z"
   },
   {
    "duration": 3,
    "start_time": "2023-08-13T13:14:28.098Z"
   },
   {
    "duration": 10,
    "start_time": "2023-08-13T13:14:28.103Z"
   },
   {
    "duration": 592,
    "start_time": "2023-08-13T13:14:28.115Z"
   },
   {
    "duration": 14,
    "start_time": "2023-08-13T13:14:28.710Z"
   },
   {
    "duration": 1691,
    "start_time": "2023-08-13T13:14:28.726Z"
   },
   {
    "duration": 0,
    "start_time": "2023-08-13T13:14:30.420Z"
   },
   {
    "duration": 0,
    "start_time": "2023-08-13T13:14:30.422Z"
   },
   {
    "duration": 0,
    "start_time": "2023-08-13T13:14:30.424Z"
   },
   {
    "duration": 0,
    "start_time": "2023-08-13T13:14:30.425Z"
   },
   {
    "duration": 0,
    "start_time": "2023-08-13T13:14:30.426Z"
   },
   {
    "duration": 0,
    "start_time": "2023-08-13T13:14:30.428Z"
   },
   {
    "duration": 0,
    "start_time": "2023-08-13T13:14:30.433Z"
   },
   {
    "duration": 0,
    "start_time": "2023-08-13T13:14:30.434Z"
   },
   {
    "duration": 0,
    "start_time": "2023-08-13T13:14:30.436Z"
   },
   {
    "duration": 0,
    "start_time": "2023-08-13T13:14:30.437Z"
   },
   {
    "duration": 0,
    "start_time": "2023-08-13T13:14:30.438Z"
   },
   {
    "duration": 0,
    "start_time": "2023-08-13T13:14:30.440Z"
   },
   {
    "duration": 23111,
    "start_time": "2023-08-13T14:20:56.051Z"
   },
   {
    "duration": 8,
    "start_time": "2023-08-13T14:21:19.166Z"
   },
   {
    "duration": 1067,
    "start_time": "2023-08-13T14:21:19.177Z"
   },
   {
    "duration": 14,
    "start_time": "2023-08-13T14:21:20.246Z"
   },
   {
    "duration": 65,
    "start_time": "2023-08-13T14:21:20.271Z"
   },
   {
    "duration": 119,
    "start_time": "2023-08-13T14:21:20.339Z"
   },
   {
    "duration": 10,
    "start_time": "2023-08-13T14:21:20.460Z"
   },
   {
    "duration": 5,
    "start_time": "2023-08-13T14:21:20.473Z"
   },
   {
    "duration": 577,
    "start_time": "2023-08-13T14:21:20.480Z"
   }
  ],
  "kernelspec": {
   "display_name": "Python 3 (ipykernel)",
   "language": "python",
   "name": "python3"
  },
  "language_info": {
   "codemirror_mode": {
    "name": "ipython",
    "version": 3
   },
   "file_extension": ".py",
   "mimetype": "text/x-python",
   "name": "python",
   "nbconvert_exporter": "python",
   "pygments_lexer": "ipython3",
   "version": "3.9.13"
  },
  "toc": {
   "base_numbering": 1,
   "nav_menu": {},
   "number_sections": true,
   "sideBar": true,
   "skip_h1_title": true,
   "title_cell": "Содержание",
   "title_sidebar": "Contents",
   "toc_cell": true,
   "toc_position": {
    "height": "calc(100% - 180px)",
    "left": "10px",
    "top": "150px",
    "width": "165px"
   },
   "toc_section_display": true,
   "toc_window_display": true
  }
 },
 "nbformat": 4,
 "nbformat_minor": 2
}
